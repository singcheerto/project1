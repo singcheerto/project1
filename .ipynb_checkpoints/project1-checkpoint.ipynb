{
 "cells": [
  {
   "cell_type": "code",
   "execution_count": 1,
   "metadata": {},
   "outputs": [
    {
     "name": "stdout",
     "output_type": "stream",
     "text": [
      "Requirement already satisfied: wbdata in /opt/conda/lib/python3.8/site-packages (0.3.0)\n",
      "Requirement already satisfied: decorator>=4.0 in /opt/conda/lib/python3.8/site-packages (from wbdata) (4.4.2)\n",
      "Requirement already satisfied: appdirs<2.0,>=1.4 in /opt/conda/lib/python3.8/site-packages (from wbdata) (1.4.4)\n",
      "Requirement already satisfied: tabulate>=0.8.5 in /opt/conda/lib/python3.8/site-packages (from wbdata) (0.8.7)\n",
      "Requirement already satisfied: requests>=2.0 in /opt/conda/lib/python3.8/site-packages (from wbdata) (2.25.1)\n",
      "Requirement already satisfied: idna<3,>=2.5 in /opt/conda/lib/python3.8/site-packages (from requests>=2.0->wbdata) (2.8)\n",
      "Requirement already satisfied: certifi>=2017.4.17 in /opt/conda/lib/python3.8/site-packages (from requests>=2.0->wbdata) (2019.11.28)\n",
      "Requirement already satisfied: chardet<5,>=3.0.2 in /opt/conda/lib/python3.8/site-packages (from requests>=2.0->wbdata) (3.0.4)\n",
      "Requirement already satisfied: urllib3<1.27,>=1.21.1 in /opt/conda/lib/python3.8/site-packages (from requests>=2.0->wbdata) (1.25.7)\n"
     ]
    }
   ],
   "source": [
    "!pip install wbdata\n",
    "\n",
    "import pandas as pd\n",
    "import wbdata\n",
    "import numpy as np\n",
    "import re \n",
    "import matplotlib.pyplot as plt\n",
    "import seaborn as sns\n",
    "from matplotlib import animation as ani"
   ]
  },
  {
   "cell_type": "markdown",
   "metadata": {},
   "source": [
    "## Loading the Data"
   ]
  },
  {
   "cell_type": "code",
   "execution_count": 2,
   "metadata": {},
   "outputs": [
    {
     "data": {
      "text/plain": [
       "id    name\n",
       "----  --------------------------------------------------------------------------------\n",
       "ABW   Aruba\n",
       "AFG   Afghanistan\n",
       "AFR   Africa\n",
       "AGO   Angola\n",
       "ALB   Albania\n",
       "AND   Andorra\n",
       "ARB   Arab World\n",
       "ARE   United Arab Emirates\n",
       "ARG   Argentina\n",
       "ARM   Armenia\n",
       "ASM   American Samoa\n",
       "ATG   Antigua and Barbuda\n",
       "AUS   Australia\n",
       "AUT   Austria\n",
       "AZE   Azerbaijan\n",
       "BDI   Burundi\n",
       "BEA   East Asia & Pacific (IBRD-only countries)\n",
       "BEC   Europe & Central Asia (IBRD-only countries)\n",
       "BEL   Belgium\n",
       "BEN   Benin\n",
       "BFA   Burkina Faso\n",
       "BGD   Bangladesh\n",
       "BGR   Bulgaria\n",
       "BHI   IBRD countries classified as high income\n",
       "BHR   Bahrain\n",
       "BHS   Bahamas, The\n",
       "BIH   Bosnia and Herzegovina\n",
       "BLA   Latin America & the Caribbean (IBRD-only countries)\n",
       "BLR   Belarus\n",
       "BLZ   Belize\n",
       "BMN   Middle East & North Africa (IBRD-only countries)\n",
       "BMU   Bermuda\n",
       "BOL   Bolivia\n",
       "BRA   Brazil\n",
       "BRB   Barbados\n",
       "BRN   Brunei Darussalam\n",
       "BSS   Sub-Saharan Africa (IBRD-only countries)\n",
       "BTN   Bhutan\n",
       "BWA   Botswana\n",
       "CAA   Sub-Saharan Africa (IFC classification)\n",
       "CAF   Central African Republic\n",
       "CAN   Canada\n",
       "CEA   East Asia and the Pacific (IFC classification)\n",
       "CEB   Central Europe and the Baltics\n",
       "CEU   Europe and Central Asia (IFC classification)\n",
       "CHE   Switzerland\n",
       "CHI   Channel Islands\n",
       "CHL   Chile\n",
       "CHN   China\n",
       "CIV   Cote d'Ivoire\n",
       "CLA   Latin America and the Caribbean (IFC classification)\n",
       "CME   Middle East and North Africa (IFC classification)\n",
       "CMR   Cameroon\n",
       "COD   Congo, Dem. Rep.\n",
       "COG   Congo, Rep.\n",
       "COL   Colombia\n",
       "COM   Comoros\n",
       "CPV   Cabo Verde\n",
       "CRI   Costa Rica\n",
       "CSA   South Asia (IFC classification)\n",
       "CSS   Caribbean small states\n",
       "CUB   Cuba\n",
       "CUW   Curacao\n",
       "CYM   Cayman Islands\n",
       "CYP   Cyprus\n",
       "CZE   Czech Republic\n",
       "DEA   East Asia & Pacific (IDA-eligible countries)\n",
       "DEC   Europe & Central Asia (IDA-eligible countries)\n",
       "DEU   Germany\n",
       "DFS   IDA countries classified as Fragile Situations\n",
       "DJI   Djibouti\n",
       "DLA   Latin America & the Caribbean (IDA-eligible countries)\n",
       "DMA   Dominica\n",
       "DMN   Middle East & North Africa (IDA-eligible countries)\n",
       "DNF   IDA countries not classified as Fragile Situations\n",
       "DNK   Denmark\n",
       "DNS   IDA countries in Sub-Saharan Africa not classified as fragile situations\n",
       "DOM   Dominican Republic\n",
       "DSA   South Asia (IDA-eligible countries)\n",
       "DSF   IDA countries in Sub-Saharan Africa classified as fragile situations\n",
       "DSS   Sub-Saharan Africa (IDA-eligible countries)\n",
       "DZA   Algeria\n",
       "EAP   East Asia & Pacific (excluding high income)\n",
       "EAR   Early-demographic dividend\n",
       "EAS   East Asia & Pacific\n",
       "ECA   Europe & Central Asia (excluding high income)\n",
       "ECS   Europe & Central Asia\n",
       "ECU   Ecuador\n",
       "EGY   Egypt, Arab Rep.\n",
       "EMU   Euro area\n",
       "ERI   Eritrea\n",
       "ESP   Spain\n",
       "EST   Estonia\n",
       "ETH   Ethiopia\n",
       "EUU   European Union\n",
       "FCS   Fragile and conflict affected situations\n",
       "FIN   Finland\n",
       "FJI   Fiji\n",
       "FRA   France\n",
       "FRO   Faroe Islands\n",
       "FSM   Micronesia, Fed. Sts.\n",
       "FXS   IDA countries classified as fragile situations, excluding Sub-Saharan Africa\n",
       "GAB   Gabon\n",
       "GBR   United Kingdom\n",
       "GEO   Georgia\n",
       "GHA   Ghana\n",
       "GIB   Gibraltar\n",
       "GIN   Guinea\n",
       "GMB   Gambia, The\n",
       "GNB   Guinea-Bissau\n",
       "GNQ   Equatorial Guinea\n",
       "GRC   Greece\n",
       "GRD   Grenada\n",
       "GRL   Greenland\n",
       "GTM   Guatemala\n",
       "GUM   Guam\n",
       "GUY   Guyana\n",
       "HIC   High income\n",
       "HKG   Hong Kong SAR, China\n",
       "HND   Honduras\n",
       "HPC   Heavily indebted poor countries (HIPC)\n",
       "HRV   Croatia\n",
       "HTI   Haiti\n",
       "HUN   Hungary\n",
       "IBB   IBRD, including blend\n",
       "IBD   IBRD only\n",
       "IBT   IDA & IBRD total\n",
       "IDA   IDA total\n",
       "IDB   IDA blend\n",
       "IDN   Indonesia\n",
       "IDX   IDA only\n",
       "IMN   Isle of Man\n",
       "IND   India\n",
       "INX   Not classified\n",
       "IRL   Ireland\n",
       "IRN   Iran, Islamic Rep.\n",
       "IRQ   Iraq\n",
       "ISL   Iceland\n",
       "ISR   Israel\n",
       "ITA   Italy\n",
       "JAM   Jamaica\n",
       "JOR   Jordan\n",
       "JPN   Japan\n",
       "KAZ   Kazakhstan\n",
       "KEN   Kenya\n",
       "KGZ   Kyrgyz Republic\n",
       "KHM   Cambodia\n",
       "KIR   Kiribati\n",
       "KNA   St. Kitts and Nevis\n",
       "KOR   Korea, Rep.\n",
       "KWT   Kuwait\n",
       "LAC   Latin America & Caribbean (excluding high income)\n",
       "LAO   Lao PDR\n",
       "LBN   Lebanon\n",
       "LBR   Liberia\n",
       "LBY   Libya\n",
       "LCA   St. Lucia\n",
       "LCN   Latin America & Caribbean\n",
       "LDC   Least developed countries: UN classification\n",
       "LIC   Low income\n",
       "LIE   Liechtenstein\n",
       "LKA   Sri Lanka\n",
       "LMC   Lower middle income\n",
       "LMY   Low & middle income\n",
       "LSO   Lesotho\n",
       "LTE   Late-demographic dividend\n",
       "LTU   Lithuania\n",
       "LUX   Luxembourg\n",
       "LVA   Latvia\n",
       "MAC   Macao SAR, China\n",
       "MAF   St. Martin (French part)\n",
       "MAR   Morocco\n",
       "MCO   Monaco\n",
       "MDA   Moldova\n",
       "MDE   Middle East (developing only)\n",
       "MDG   Madagascar\n",
       "MDV   Maldives\n",
       "MEA   Middle East & North Africa\n",
       "MEX   Mexico\n",
       "MHL   Marshall Islands\n",
       "MIC   Middle income\n",
       "MKD   North Macedonia\n",
       "MLI   Mali\n",
       "MLT   Malta\n",
       "MMR   Myanmar\n",
       "MNA   Middle East & North Africa (excluding high income)\n",
       "MNE   Montenegro\n",
       "MNG   Mongolia\n",
       "MNP   Northern Mariana Islands\n",
       "MOZ   Mozambique\n",
       "MRT   Mauritania\n",
       "MUS   Mauritius\n",
       "MWI   Malawi\n",
       "MYS   Malaysia\n",
       "NAC   North America\n",
       "NAF   North Africa\n",
       "NAM   Namibia\n",
       "NCL   New Caledonia\n",
       "NER   Niger\n",
       "NGA   Nigeria\n",
       "NIC   Nicaragua\n",
       "NLD   Netherlands\n",
       "NOR   Norway\n",
       "NPL   Nepal\n",
       "NRS   Non-resource rich Sub-Saharan Africa countries\n",
       "NRU   Nauru\n",
       "NXS   IDA countries not classified as fragile situations, excluding Sub-Saharan Africa\n",
       "NZL   New Zealand\n",
       "OED   OECD members\n",
       "OMN   Oman\n",
       "OSS   Other small states\n",
       "PAK   Pakistan\n",
       "PAN   Panama\n",
       "PER   Peru\n",
       "PHL   Philippines\n",
       "PLW   Palau\n",
       "PNG   Papua New Guinea\n",
       "POL   Poland\n",
       "PRE   Pre-demographic dividend\n",
       "PRI   Puerto Rico\n",
       "PRK   Korea, Dem. People’s Rep.\n",
       "PRT   Portugal\n",
       "PRY   Paraguay\n",
       "PSE   West Bank and Gaza\n",
       "PSS   Pacific island small states\n",
       "PST   Post-demographic dividend\n",
       "PYF   French Polynesia\n",
       "QAT   Qatar\n",
       "ROU   Romania\n",
       "RRS   Resource rich Sub-Saharan Africa countries\n",
       "RUS   Russian Federation\n",
       "RWA   Rwanda\n",
       "SAS   South Asia\n",
       "SAU   Saudi Arabia\n",
       "SDN   Sudan\n",
       "SEN   Senegal\n",
       "SGP   Singapore\n",
       "SLB   Solomon Islands\n",
       "SLE   Sierra Leone\n",
       "SLV   El Salvador\n",
       "SMR   San Marino\n",
       "SOM   Somalia\n",
       "SRB   Serbia\n",
       "SSA   Sub-Saharan Africa (excluding high income)\n",
       "SSD   South Sudan\n",
       "SSF   Sub-Saharan Africa\n",
       "SST   Small states\n",
       "STP   Sao Tome and Principe\n",
       "SUR   Suriname\n",
       "SVK   Slovak Republic\n",
       "SVN   Slovenia\n",
       "SWE   Sweden\n",
       "SWZ   Eswatini\n",
       "SXM   Sint Maarten (Dutch part)\n",
       "SXZ   Sub-Saharan Africa excluding South Africa\n",
       "SYC   Seychelles\n",
       "SYR   Syrian Arab Republic\n",
       "TCA   Turks and Caicos Islands\n",
       "TCD   Chad\n",
       "TEA   East Asia & Pacific (IDA & IBRD countries)\n",
       "TEC   Europe & Central Asia (IDA & IBRD countries)\n",
       "TGO   Togo\n",
       "THA   Thailand\n",
       "TJK   Tajikistan\n",
       "TKM   Turkmenistan\n",
       "TLA   Latin America & the Caribbean (IDA & IBRD countries)\n",
       "TLS   Timor-Leste\n",
       "TMN   Middle East & North Africa (IDA & IBRD countries)\n",
       "TON   Tonga\n",
       "TSA   South Asia (IDA & IBRD)\n",
       "TSS   Sub-Saharan Africa (IDA & IBRD countries)\n",
       "TTO   Trinidad and Tobago\n",
       "TUN   Tunisia\n",
       "TUR   Turkey\n",
       "TUV   Tuvalu\n",
       "TWN   Taiwan, China\n",
       "TZA   Tanzania\n",
       "UGA   Uganda\n",
       "UKR   Ukraine\n",
       "UMC   Upper middle income\n",
       "URY   Uruguay\n",
       "USA   United States\n",
       "UZB   Uzbekistan\n",
       "VCT   St. Vincent and the Grenadines\n",
       "VEN   Venezuela, RB\n",
       "VGB   British Virgin Islands\n",
       "VIR   Virgin Islands (U.S.)\n",
       "VNM   Vietnam\n",
       "VUT   Vanuatu\n",
       "WLD   World\n",
       "WSM   Samoa\n",
       "XKX   Kosovo\n",
       "XZN   Sub-Saharan Africa excluding South Africa and Nigeria\n",
       "YEM   Yemen, Rep.\n",
       "ZAF   South Africa\n",
       "ZMB   Zambia\n",
       "ZWE   Zimbabwe"
      ]
     },
     "execution_count": 2,
     "metadata": {},
     "output_type": "execute_result"
    }
   ],
   "source": [
    "# Return list of all country/region codes:\n",
    "wbdata.get_country()"
   ]
  },
  {
   "cell_type": "markdown",
   "metadata": {},
   "source": [
    "To see possible datasets we can access via the API, use `get_source()`\n",
    "\n"
   ]
  },
  {
   "cell_type": "code",
   "execution_count": 3,
   "metadata": {},
   "outputs": [
    {
     "data": {
      "text/plain": [
       "  id  name\n",
       "----  --------------------------------------------------------------------\n",
       "   1  Doing Business\n",
       "   2  World Development Indicators\n",
       "   3  Worldwide Governance Indicators\n",
       "   5  Subnational Malnutrition Database\n",
       "   6  International Debt Statistics\n",
       "  11  Africa Development Indicators\n",
       "  12  Education Statistics\n",
       "  13  Enterprise Surveys\n",
       "  14  Gender Statistics\n",
       "  15  Global Economic Monitor\n",
       "  16  Health Nutrition and Population Statistics\n",
       "  18  IDA Results Measurement System\n",
       "  19  Millennium Development Goals\n",
       "  20  Quarterly Public Sector Debt\n",
       "  22  Quarterly External Debt Statistics SDDS\n",
       "  23  Quarterly External Debt Statistics GDDS\n",
       "  24  Poverty and Equity\n",
       "  25  Jobs\n",
       "  27  Global Economic Prospects\n",
       "  28  Global Financial Inclusion\n",
       "  29  The Atlas of Social Protection: Indicators of Resilience and Equity\n",
       "  30  Exporter Dynamics Database – Indicators at Country-Year Level\n",
       "  31  Country Policy and Institutional Assessment\n",
       "  32  Global Financial Development\n",
       "  33  G20 Financial Inclusion Indicators\n",
       "  34  Global Partnership for Education\n",
       "  35  Sustainable Energy for All\n",
       "  36  Statistical Capacity Indicators\n",
       "  37  LAC Equity Lab\n",
       "  38  Subnational Poverty\n",
       "  39  Health Nutrition and Population Statistics by Wealth Quintile\n",
       "  40  Population estimates and projections\n",
       "  41  Country Partnership Strategy for India (FY2013 - 17)\n",
       "  43  Adjusted Net Savings\n",
       "  44  Readiness for Investment in Sustainable Energy\n",
       "  45  Indonesia Database for Policy and Economic Research\n",
       "  46  Sustainable Development Goals\n",
       "  50  Subnational Population\n",
       "  54  Joint External Debt Hub\n",
       "  57  WDI Database Archives\n",
       "  58  Universal Health Coverage\n",
       "  59  Wealth Accounts\n",
       "  60  Economic Fitness\n",
       "  61  PPPs Regulatory Quality\n",
       "  62  International Comparison Program (ICP) 2011\n",
       "  63  Human Capital Index\n",
       "  64  Worldwide Bureaucracy Indicators\n",
       "  65  Health Equity and Financial Protection Indicators\n",
       "  66  Logistics Performance Index\n",
       "  67  PEFA 2011\n",
       "  68  PEFA 2016\n",
       "  69  Global Financial Inclusion and Consumer Protection Survey\n",
       "  70  Economic Fitness 2\n",
       "  71  International Comparison Program (ICP) 2005\n",
       "  72  PEFA_Test\n",
       "  73  Global Financial Inclusion and Consumer Protection Survey (Internal)\n",
       "  75  Environment, Social and Governance (ESG) Data\n",
       "  76  Remittance Prices Worldwide (Sending Countries)\n",
       "  77  Remittance Prices Worldwide (Receiving Countries)\n",
       "  78  ICP 2017\n",
       "  79  PEFA_GRPFM\n",
       "  80  Gender Disaggregated Labor Database (GDLD)\n",
       "  81  International Debt Statistics: DSSI"
      ]
     },
     "execution_count": 3,
     "metadata": {},
     "output_type": "execute_result"
    }
   ],
   "source": [
    "wbdata.get_source()"
   ]
  },
  {
   "cell_type": "code",
   "execution_count": 4,
   "metadata": {},
   "outputs": [
    {
     "data": {
      "text/plain": [
       "id                 name\n",
       "-----------------  -------------------------------------------------------------------\n",
       "SH.DTH.0509        Number of deaths ages 5-9 years\n",
       "SH.DTH.1014        Number of deaths ages 10-14 years\n",
       "SH.DTH.1519        Number of deaths ages 15-19 years\n",
       "SH.DTH.2024        Number of deaths ages 20-24 years\n",
       "SH.DTH.IMRT        Number of infant deaths\n",
       "SH.DTH.IMRT.FE     Number of infant deaths, female\n",
       "SH.DTH.IMRT.MA     Number of infant deaths, male\n",
       "SH.DTH.MORT        Number of under-five deaths\n",
       "SH.DTH.MORT.FE     Number of under-five deaths, female\n",
       "SH.DTH.MORT.MA     Number of under-five deaths, male\n",
       "SH.DTH.NMRT        Number of neonatal deaths\n",
       "SH.DYN.0509        Probability of dying among children ages 5-9 years (per 1,000)\n",
       "SH.DYN.1014        Probability of dying among adolescents ages 10-14 years (per 1,000)\n",
       "SH.DYN.1519        Probability of dying among adolescents ages 15-19 years (per 1,000)\n",
       "SH.DYN.2024        Probability of dying among youth ages 20-24 years (per 1,000)\n",
       "SH.DYN.MORT        Mortality rate, under-5 (per 1,000 live births)\n",
       "SH.DYN.MORT.FE     Mortality rate, under-5, female (per 1,000 live births)\n",
       "SH.DYN.MORT.MA     Mortality rate, under-5, male (per 1,000 live births)\n",
       "SH.DYN.NMRT        Mortality rate, neonatal (per 1,000 live births)\n",
       "SM.POP.NETM        Net migration\n",
       "SP.DYN.AMRT.FE     Mortality rate, adult, female (per 1,000 female adults)\n",
       "SP.DYN.AMRT.MA     Mortality rate, adult, male (per 1,000 male adults)\n",
       "SP.DYN.CBRT.IN     Birth rate, crude (per 1,000 people)\n",
       "SP.DYN.CDRT.IN     Death rate, crude (per 1,000 people)\n",
       "SP.DYN.IMRT.FE.IN  Mortality rate, infant, female (per 1,000 live births)\n",
       "SP.DYN.IMRT.IN     Mortality rate, infant (per 1,000 live births)\n",
       "SP.DYN.IMRT.MA.IN  Mortality rate, infant, male (per 1,000 live births)\n",
       "SP.DYN.LE00.FE.IN  Life expectancy at birth, female (years)\n",
       "SP.DYN.LE00.IN     Life expectancy at birth, total (years)\n",
       "SP.DYN.LE00.MA.IN  Life expectancy at birth, male (years)\n",
       "SP.DYN.TFRT.IN     Fertility rate, total (births per woman)\n",
       "SP.POP.0004.FE     Population ages 00-04, female\n",
       "SP.POP.0004.FE.5Y  Population ages 00-04, female (% of female population)\n",
       "SP.POP.0004.MA     Population ages 00-04, male\n",
       "SP.POP.0004.MA.5Y  Population ages 00-04, male (% of male population)\n",
       "SP.POP.0014.FE.IN  Population ages 0-14, female\n",
       "SP.POP.0014.FE.ZS  Population ages 0-14, female (% of female population)\n",
       "SP.POP.0014.MA.IN  Population ages 0-14, male\n",
       "SP.POP.0014.MA.ZS  Population ages 0-14, male (% of male population)\n",
       "SP.POP.0014.TO     Population ages 0-14, total\n",
       "SP.POP.0014.TO.ZS  Population ages 0-14 (% of total population)\n",
       "SP.POP.0509.FE     Population ages 05-09, female\n",
       "SP.POP.0509.FE.5Y  Population ages 05-09, female (% of female population)\n",
       "SP.POP.0509.MA     Population ages 05-09, male\n",
       "SP.POP.0509.MA.5Y  Population ages 05-09, male (% of male population)\n",
       "SP.POP.1014.FE     Population ages 10-14, female\n",
       "SP.POP.1014.FE.5Y  Population ages 10-14, female (% of female population)\n",
       "SP.POP.1014.MA     Population ages 10-14, male\n",
       "SP.POP.1014.MA.5Y  Population ages 10-14, male (% of male population)\n",
       "SP.POP.1519.FE     Population ages 15-19, female\n",
       "SP.POP.1519.FE.5Y  Population ages 15-19, female (% of female population)\n",
       "SP.POP.1519.MA     Population ages 15-19, male\n",
       "SP.POP.1519.MA.5Y  Population ages 15-19, male (% of male population)\n",
       "SP.POP.1564.FE.IN  Population ages 15-64, female\n",
       "SP.POP.1564.FE.ZS  Population ages 15-64, female (% of female population)\n",
       "SP.POP.1564.MA.IN  Population ages 15-64, male\n",
       "SP.POP.1564.MA.ZS  Population ages 15-64, male (% of male population)\n",
       "SP.POP.1564.TO     Population ages 15-64, total\n",
       "SP.POP.1564.TO.ZS  Population ages 15-64 (% of total population)\n",
       "SP.POP.2024.FE     Population ages 20-24, female\n",
       "SP.POP.2024.FE.5Y  Population ages 20-24, female (% of female population)\n",
       "SP.POP.2024.MA     Population ages 20-24, male\n",
       "SP.POP.2024.MA.5Y  Population ages 20-24, male (% of male population)\n",
       "SP.POP.2529.FE     Population ages 25-29, female\n",
       "SP.POP.2529.FE.5Y  Population ages 25-29, female (% of female population)\n",
       "SP.POP.2529.MA     Population ages 25-29, male\n",
       "SP.POP.2529.MA.5Y  Population ages 25-29, male (% of male population)\n",
       "SP.POP.3034.FE     Population ages 30-34, female\n",
       "SP.POP.3034.FE.5Y  Population ages 30-34, female (% of female population)\n",
       "SP.POP.3034.MA     Population ages 30-34, male\n",
       "SP.POP.3034.MA.5Y  Population ages 30-34, male (% of male population)\n",
       "SP.POP.3539.FE     Population ages 35-39, female\n",
       "SP.POP.3539.FE.5Y  Population ages 35-39, female (% of female population)\n",
       "SP.POP.3539.MA     Population ages 35-39, male\n",
       "SP.POP.3539.MA.5Y  Population ages 35-39, male (% of male population)\n",
       "SP.POP.4044.FE     Population ages 40-44, female\n",
       "SP.POP.4044.FE.5Y  Population ages 40-44, female (% of female population)\n",
       "SP.POP.4044.MA     Population ages 40-44, male\n",
       "SP.POP.4044.MA.5Y  Population ages 40-44, male (% of male population)\n",
       "SP.POP.4549.FE     Population ages 45-49, female\n",
       "SP.POP.4549.FE.5Y  Population ages 45-49, female (% of female population)\n",
       "SP.POP.4549.MA     Population ages 45-49, male\n",
       "SP.POP.4549.MA.5Y  Population ages 45-49, male (% of male population)\n",
       "SP.POP.5054.FE     Population ages 50-54, female\n",
       "SP.POP.5054.FE.5Y  Population ages 50-54, female (% of female population)\n",
       "SP.POP.5054.MA     Population ages 50-54, male\n",
       "SP.POP.5054.MA.5Y  Population ages 50-54, male (% of male population)\n",
       "SP.POP.5559.FE     Population ages 55-59, female\n",
       "SP.POP.5559.FE.5Y  Population ages 55-59, female (% of female population)\n",
       "SP.POP.5559.MA     Population ages 55-59, male\n",
       "SP.POP.5559.MA.5Y  Population ages 55-59, male (% of male population)\n",
       "SP.POP.6064.FE     Population ages 60-64, female\n",
       "SP.POP.6064.FE.5Y  Population ages 60-64, female (% of female population)\n",
       "SP.POP.6064.MA     Population ages 60-64, male\n",
       "SP.POP.6064.MA.5Y  Population ages 60-64, male (% of male population)\n",
       "SP.POP.6569.FE     Population ages 65-69, female\n",
       "SP.POP.6569.FE.5Y  Population ages 65-69, female (% of female population)\n",
       "SP.POP.6569.MA     Population ages 65-69, male\n",
       "SP.POP.6569.MA.5Y  Population ages 65-69, male (% of male population)\n",
       "SP.POP.65UP.FE.IN  Population ages 65 and above, female\n",
       "SP.POP.65UP.FE.ZS  Population ages 65 and above, female (% of female population)\n",
       "SP.POP.65UP.MA.IN  Population ages 65 and above, male\n",
       "SP.POP.65UP.MA.ZS  Population ages 65 and above, male (% of male population)\n",
       "SP.POP.65UP.TO     Population ages 65 and above, total\n",
       "SP.POP.65UP.TO.ZS  Population ages 65 and above (% of total population)\n",
       "SP.POP.7074.FE     Population ages 70-74, female\n",
       "SP.POP.7074.FE.5Y  Population ages 70-74, female (% of female population)\n",
       "SP.POP.7074.MA     Population ages 70-74, male\n",
       "SP.POP.7074.MA.5Y  Population ages 70-74, male (% of male population)\n",
       "SP.POP.7579.FE     Population ages 75-79, female\n",
       "SP.POP.7579.FE.5Y  Population ages 75-79, female (% of female population)\n",
       "SP.POP.7579.MA     Population ages 75-79, male\n",
       "SP.POP.7579.MA.5Y  Population ages 75-79, male (% of male population)\n",
       "SP.POP.80UP.FE     Population ages 80 and above, female\n",
       "SP.POP.80UP.FE.5Y  Population ages 80 and above, female (% of female population)\n",
       "SP.POP.80UP.MA     Population ages 80 and above, male\n",
       "SP.POP.80UP.MA.5Y  Population ages 80 and above, male (% of male population)\n",
       "SP.POP.AG00.FE.IN  Age population, age 00, female, interpolated\n",
       "SP.POP.AG00.MA.IN  Age population, age 00, male, interpolated\n",
       "SP.POP.AG01.FE.IN  Age population, age 01, female, interpolated\n",
       "SP.POP.AG01.MA.IN  Age population, age 01, male, interpolated\n",
       "SP.POP.AG02.FE.IN  Age population, age 02, female, interpolated\n",
       "SP.POP.AG02.MA.IN  Age population, age 02, male, interpolated\n",
       "SP.POP.AG03.FE.IN  Age population, age 03, female, interpolated\n",
       "SP.POP.AG03.MA.IN  Age population, age 03, male, interpolated\n",
       "SP.POP.AG04.FE.IN  Age population, age 04, female, interpolated\n",
       "SP.POP.AG04.MA.IN  Age population, age 04, male, interpolated\n",
       "SP.POP.AG05.FE.IN  Age population, age 05, female, interpolated\n",
       "SP.POP.AG05.MA.IN  Age population, age 05, male, interpolated\n",
       "SP.POP.AG06.FE.IN  Age population, age 06, female, interpolated\n",
       "SP.POP.AG06.MA.IN  Age population, age 06, male, interpolated\n",
       "SP.POP.AG07.FE.IN  Age population, age 07, female, interpolated\n",
       "SP.POP.AG07.MA.IN  Age population, age 07, male, interpolated\n",
       "SP.POP.AG08.FE.IN  Age population, age 08, female, interpolated\n",
       "SP.POP.AG08.MA.IN  Age population, age 08, male, interpolated\n",
       "SP.POP.AG09.FE.IN  Age population, age 09, female, interpolated\n",
       "SP.POP.AG09.MA.IN  Age population, age 09, male, interpolated\n",
       "SP.POP.AG10.FE.IN  Age population, age 10, female, interpolated\n",
       "SP.POP.AG10.MA.IN  Age population, age 10, male, interpolated\n",
       "SP.POP.AG11.FE.IN  Age population, age 11, female, interpolated\n",
       "SP.POP.AG11.MA.IN  Age population, age 11, male, interpolated\n",
       "SP.POP.AG12.FE.IN  Age population, age 12, female, interpolated\n",
       "SP.POP.AG12.MA.IN  Age population, age 12, male, interpolated\n",
       "SP.POP.AG13.FE.IN  Age population, age 13, female, interpolated\n",
       "SP.POP.AG13.MA.IN  Age population, age 13, male, interpolated\n",
       "SP.POP.AG14.FE.IN  Age population, age 14, female, interpolated\n",
       "SP.POP.AG14.MA.IN  Age population, age 14, male, interpolated\n",
       "SP.POP.AG15.FE.IN  Age population, age 15, female, interpolated\n",
       "SP.POP.AG15.MA.IN  Age population, age 15, male, interpolated\n",
       "SP.POP.AG16.FE.IN  Age population, age 16, female, interpolated\n",
       "SP.POP.AG16.MA.IN  Age population, age 16, male, interpolated\n",
       "SP.POP.AG17.FE.IN  Age population, age 17, female, interpolated\n",
       "SP.POP.AG17.MA.IN  Age population, age 17, male, interpolated\n",
       "SP.POP.AG18.FE.IN  Age population, age 18, female, interpolated\n",
       "SP.POP.AG18.MA.IN  Age population, age 18, male, interpolated\n",
       "SP.POP.AG19.FE.IN  Age population, age 19, female, interpolated\n",
       "SP.POP.AG19.MA.IN  Age population, age 19, male, interpolated\n",
       "SP.POP.AG20.FE.IN  Age population, age 20, female, interpolated\n",
       "SP.POP.AG20.MA.IN  Age population, age 20, male, interpolated\n",
       "SP.POP.AG21.FE.IN  Age population, age 21, female, interpolated\n",
       "SP.POP.AG21.MA.IN  Age population, age 21, male, interpolated\n",
       "SP.POP.AG22.FE.IN  Age population, age 22, female, interpolated\n",
       "SP.POP.AG22.MA.IN  Age population, age 22, male, interpolated\n",
       "SP.POP.AG23.FE.IN  Age population, age 23, female, interpolated\n",
       "SP.POP.AG23.MA.IN  Age population, age 23, male, interpolated\n",
       "SP.POP.AG24.FE.IN  Age population, age 24, female, interpolated\n",
       "SP.POP.AG24.MA.IN  Age population, age 24, male, interpolated\n",
       "SP.POP.AG25.FE.IN  Age population, age 25, female, interpolated\n",
       "SP.POP.AG25.MA.IN  Age population, age 25, male, interpolated\n",
       "SP.POP.BRTH.MF     Sex ratio at birth (male births per female births)\n",
       "SP.POP.DPND        Age dependency ratio (% of working-age population)\n",
       "SP.POP.DPND.OL     Age dependency ratio, old (% of working-age population)\n",
       "SP.POP.DPND.YG     Age dependency ratio, young (% of working-age population)\n",
       "SP.POP.GROW        Population growth (annual %)\n",
       "SP.POP.TOTL        Population, total\n",
       "SP.POP.TOTL.FE.IN  Population, female\n",
       "SP.POP.TOTL.FE.ZS  Population, female (% of total population)\n",
       "SP.POP.TOTL.MA.IN  Population, male\n",
       "SP.POP.TOTL.MA.ZS  Population, male (% of total population)\n",
       "SP.RUR.TOTL        Rural population\n",
       "SP.RUR.TOTL.ZG     Rural population growth (annual %)\n",
       "SP.RUR.TOTL.ZS     Rural population (% of total population)\n",
       "SP.URB.GROW        Urban population growth (annual %)\n",
       "SP.URB.TOTL        Urban population\n",
       "SP.URB.TOTL.IN.ZS  Urban population (% of total population)"
      ]
     },
     "execution_count": 4,
     "metadata": {},
     "output_type": "execute_result"
    }
   ],
   "source": [
    "SOURCE = 40 # \"Population estimates and projections\"\n",
    "\n",
    "indicators_40 = wbdata.get_indicator(source=SOURCE)\n",
    "indicators_40"
   ]
  },
  {
   "cell_type": "markdown",
   "metadata": {},
   "source": [
    "## Population function"
   ]
  },
  {
   "cell_type": "code",
   "execution_count": 5,
   "metadata": {
    "scrolled": true
   },
   "outputs": [],
   "source": [
    "def population(sex, year, age, country):\n",
    "    \"\"\"Function that takes in a SEX (\"Male\", \"Female\"), ... , COUNTRY=, .. \n",
    "    and returns a statistic for the given function arguments\"\"\"\n",
    "    if sex == \"Male\":\n",
    "        variable_labels = {\"SP.POP.\" + str(age[0])+str(age[1]) + \".MA\": sex}\n",
    "    elif sex==\"Female\":\n",
    "        variable_labels = {\"SP.POP.\" + str(age[0])+str(age[1]) + \".FE\": sex}\n",
    "    pop_stats = wbdata.get_dataframe(variable_labels, country=country)\n",
    "    pop_stats = pop_stats.filter(like=str(year), axis=0)\n",
    "    return pop_stats[sex][0]"
   ]
  },
  {
   "cell_type": "code",
   "execution_count": 6,
   "metadata": {},
   "outputs": [
    {
     "data": {
      "text/plain": [
       "45907253.0"
      ]
     },
     "execution_count": 6,
     "metadata": {},
     "output_type": "execute_result"
    }
   ],
   "source": [
    "population(\"Female\", 2010, (15,19), \"CHN\")"
   ]
  },
  {
   "cell_type": "markdown",
   "metadata": {},
   "source": [
    "## Population DataFrames\n"
   ]
  },
  {
   "cell_type": "code",
   "execution_count": 7,
   "metadata": {},
   "outputs": [],
   "source": [
    "def population_dataframes(indicators):\n",
    "    \"\"\"Returns a pandas DataFrame indexed by Region or Country and Year, \n",
    "    with columns giving counts of people in different age-sex groups.\"\"\"\n",
    "    # Create a dictionary of all corresponding ID's and keys in SOURCE 40 from WBDATA\n",
    "    labels = {}\n",
    "    for i in range(len(indicators)):\n",
    "        col_id = indicators[i]['id']\n",
    "        col_name = indicators[i]['name']\n",
    "        labels[col_id] = col_name\n",
    "\n",
    "    def find_labels(indicators):\n",
    "        \"\"\"Helper function that akes in an indicator object to filter through variable \n",
    "        keys and parse through necessary ID's to obtain relevant data. \"\"\"\n",
    "        # Filter through column ID strings to obtain relevant population data.\n",
    "        r = re.compile(\"(SP.POP).[\\d]{2}[A-Z0-9]{2}.[MAFE]{2}$\")\n",
    "        col_keys = list(filter(r.match, labels))\n",
    "\n",
    "        # Add total population column at the end of COL_KEYS\n",
    "        col_keys.append('SP.POP.TOTL')\n",
    "\n",
    "        labels_filtered = {}\n",
    "        for key, value in labels.items():\n",
    "            if key in col_keys:\n",
    "                labels_filtered[key] = value\n",
    "        return labels_filtered\n",
    "\n",
    "    df_labels = find_labels(indicators)\n",
    "    return wbdata.get_dataframe(df_labels)"
   ]
  },
  {
   "cell_type": "code",
   "execution_count": 8,
   "metadata": {},
   "outputs": [
    {
     "data": {
      "text/html": [
       "<div>\n",
       "<style scoped>\n",
       "    .dataframe tbody tr th:only-of-type {\n",
       "        vertical-align: middle;\n",
       "    }\n",
       "\n",
       "    .dataframe tbody tr th {\n",
       "        vertical-align: top;\n",
       "    }\n",
       "\n",
       "    .dataframe thead th {\n",
       "        text-align: right;\n",
       "    }\n",
       "</style>\n",
       "<table border=\"1\" class=\"dataframe\">\n",
       "  <thead>\n",
       "    <tr style=\"text-align: right;\">\n",
       "      <th></th>\n",
       "      <th></th>\n",
       "      <th>Population ages 00-04, female</th>\n",
       "      <th>Population ages 00-04, male</th>\n",
       "      <th>Population ages 05-09, female</th>\n",
       "      <th>Population ages 05-09, male</th>\n",
       "      <th>Population ages 10-14, female</th>\n",
       "      <th>Population ages 10-14, male</th>\n",
       "      <th>Population ages 15-19, female</th>\n",
       "      <th>Population ages 15-19, male</th>\n",
       "      <th>Population ages 20-24, female</th>\n",
       "      <th>Population ages 20-24, male</th>\n",
       "      <th>...</th>\n",
       "      <th>Population ages 60-64, male</th>\n",
       "      <th>Population ages 65-69, female</th>\n",
       "      <th>Population ages 65-69, male</th>\n",
       "      <th>Population ages 70-74, female</th>\n",
       "      <th>Population ages 70-74, male</th>\n",
       "      <th>Population ages 75-79, female</th>\n",
       "      <th>Population ages 75-79, male</th>\n",
       "      <th>Population ages 80 and above, female</th>\n",
       "      <th>Population ages 80 and above, male</th>\n",
       "      <th>Population, total</th>\n",
       "    </tr>\n",
       "    <tr>\n",
       "      <th>country</th>\n",
       "      <th>date</th>\n",
       "      <th></th>\n",
       "      <th></th>\n",
       "      <th></th>\n",
       "      <th></th>\n",
       "      <th></th>\n",
       "      <th></th>\n",
       "      <th></th>\n",
       "      <th></th>\n",
       "      <th></th>\n",
       "      <th></th>\n",
       "      <th></th>\n",
       "      <th></th>\n",
       "      <th></th>\n",
       "      <th></th>\n",
       "      <th></th>\n",
       "      <th></th>\n",
       "      <th></th>\n",
       "      <th></th>\n",
       "      <th></th>\n",
       "      <th></th>\n",
       "      <th></th>\n",
       "    </tr>\n",
       "  </thead>\n",
       "  <tbody>\n",
       "    <tr>\n",
       "      <th rowspan=\"5\" valign=\"top\">Afghanistan</th>\n",
       "      <th>1960</th>\n",
       "      <td>760938.0</td>\n",
       "      <td>780471.0</td>\n",
       "      <td>583953.0</td>\n",
       "      <td>598721.0</td>\n",
       "      <td>544194.0</td>\n",
       "      <td>523122.0</td>\n",
       "      <td>447872.0</td>\n",
       "      <td>478075.0</td>\n",
       "      <td>382542.0</td>\n",
       "      <td>415970.0</td>\n",
       "      <td>...</td>\n",
       "      <td>93053.0</td>\n",
       "      <td>56624.0</td>\n",
       "      <td>67283.0</td>\n",
       "      <td>34655.0</td>\n",
       "      <td>40748.0</td>\n",
       "      <td>16990.0</td>\n",
       "      <td>19683.0</td>\n",
       "      <td>7486.0</td>\n",
       "      <td>8294.0</td>\n",
       "      <td>8996973.0</td>\n",
       "    </tr>\n",
       "    <tr>\n",
       "      <th>1961</th>\n",
       "      <td>795378.0</td>\n",
       "      <td>808289.0</td>\n",
       "      <td>594819.0</td>\n",
       "      <td>617341.0</td>\n",
       "      <td>547964.0</td>\n",
       "      <td>528908.0</td>\n",
       "      <td>460206.0</td>\n",
       "      <td>481616.0</td>\n",
       "      <td>388240.0</td>\n",
       "      <td>421947.0</td>\n",
       "      <td>...</td>\n",
       "      <td>93359.0</td>\n",
       "      <td>57393.0</td>\n",
       "      <td>67330.0</td>\n",
       "      <td>35363.0</td>\n",
       "      <td>41520.0</td>\n",
       "      <td>17750.0</td>\n",
       "      <td>20500.0</td>\n",
       "      <td>8358.0</td>\n",
       "      <td>9283.0</td>\n",
       "      <td>9169410.0</td>\n",
       "    </tr>\n",
       "    <tr>\n",
       "      <th>1962</th>\n",
       "      <td>818678.0</td>\n",
       "      <td>831163.0</td>\n",
       "      <td>611717.0</td>\n",
       "      <td>637537.0</td>\n",
       "      <td>550019.0</td>\n",
       "      <td>538026.0</td>\n",
       "      <td>477029.0</td>\n",
       "      <td>485476.0</td>\n",
       "      <td>394896.0</td>\n",
       "      <td>429297.0</td>\n",
       "      <td>...</td>\n",
       "      <td>94140.0</td>\n",
       "      <td>58326.0</td>\n",
       "      <td>67197.0</td>\n",
       "      <td>36055.0</td>\n",
       "      <td>42186.0</td>\n",
       "      <td>18364.0</td>\n",
       "      <td>21050.0</td>\n",
       "      <td>9041.0</td>\n",
       "      <td>10013.0</td>\n",
       "      <td>9351441.0</td>\n",
       "    </tr>\n",
       "    <tr>\n",
       "      <th>1963</th>\n",
       "      <td>834934.0</td>\n",
       "      <td>851787.0</td>\n",
       "      <td>632901.0</td>\n",
       "      <td>657620.0</td>\n",
       "      <td>551891.0</td>\n",
       "      <td>550452.0</td>\n",
       "      <td>495604.0</td>\n",
       "      <td>490025.0</td>\n",
       "      <td>402961.0</td>\n",
       "      <td>437345.0</td>\n",
       "      <td>...</td>\n",
       "      <td>95186.0</td>\n",
       "      <td>59399.0</td>\n",
       "      <td>67052.0</td>\n",
       "      <td>36757.0</td>\n",
       "      <td>42704.0</td>\n",
       "      <td>18819.0</td>\n",
       "      <td>21331.0</td>\n",
       "      <td>9456.0</td>\n",
       "      <td>10376.0</td>\n",
       "      <td>9543205.0</td>\n",
       "    </tr>\n",
       "    <tr>\n",
       "      <th>1964</th>\n",
       "      <td>850992.0</td>\n",
       "      <td>873022.0</td>\n",
       "      <td>654635.0</td>\n",
       "      <td>676153.0</td>\n",
       "      <td>556047.0</td>\n",
       "      <td>565257.0</td>\n",
       "      <td>511923.0</td>\n",
       "      <td>496099.0</td>\n",
       "      <td>413203.0</td>\n",
       "      <td>445246.0</td>\n",
       "      <td>...</td>\n",
       "      <td>96187.0</td>\n",
       "      <td>60569.0</td>\n",
       "      <td>67117.0</td>\n",
       "      <td>37461.0</td>\n",
       "      <td>42987.0</td>\n",
       "      <td>19098.0</td>\n",
       "      <td>21378.0</td>\n",
       "      <td>9513.0</td>\n",
       "      <td>10269.0</td>\n",
       "      <td>9744781.0</td>\n",
       "    </tr>\n",
       "  </tbody>\n",
       "</table>\n",
       "<p>5 rows × 35 columns</p>\n",
       "</div>"
      ],
      "text/plain": [
       "                  Population ages 00-04, female  Population ages 00-04, male  \\\n",
       "country     date                                                               \n",
       "Afghanistan 1960                       760938.0                     780471.0   \n",
       "            1961                       795378.0                     808289.0   \n",
       "            1962                       818678.0                     831163.0   \n",
       "            1963                       834934.0                     851787.0   \n",
       "            1964                       850992.0                     873022.0   \n",
       "\n",
       "                  Population ages 05-09, female  Population ages 05-09, male  \\\n",
       "country     date                                                               \n",
       "Afghanistan 1960                       583953.0                     598721.0   \n",
       "            1961                       594819.0                     617341.0   \n",
       "            1962                       611717.0                     637537.0   \n",
       "            1963                       632901.0                     657620.0   \n",
       "            1964                       654635.0                     676153.0   \n",
       "\n",
       "                  Population ages 10-14, female  Population ages 10-14, male  \\\n",
       "country     date                                                               \n",
       "Afghanistan 1960                       544194.0                     523122.0   \n",
       "            1961                       547964.0                     528908.0   \n",
       "            1962                       550019.0                     538026.0   \n",
       "            1963                       551891.0                     550452.0   \n",
       "            1964                       556047.0                     565257.0   \n",
       "\n",
       "                  Population ages 15-19, female  Population ages 15-19, male  \\\n",
       "country     date                                                               \n",
       "Afghanistan 1960                       447872.0                     478075.0   \n",
       "            1961                       460206.0                     481616.0   \n",
       "            1962                       477029.0                     485476.0   \n",
       "            1963                       495604.0                     490025.0   \n",
       "            1964                       511923.0                     496099.0   \n",
       "\n",
       "                  Population ages 20-24, female  Population ages 20-24, male  \\\n",
       "country     date                                                               \n",
       "Afghanistan 1960                       382542.0                     415970.0   \n",
       "            1961                       388240.0                     421947.0   \n",
       "            1962                       394896.0                     429297.0   \n",
       "            1963                       402961.0                     437345.0   \n",
       "            1964                       413203.0                     445246.0   \n",
       "\n",
       "                  ...  Population ages 60-64, male  \\\n",
       "country     date  ...                                \n",
       "Afghanistan 1960  ...                      93053.0   \n",
       "            1961  ...                      93359.0   \n",
       "            1962  ...                      94140.0   \n",
       "            1963  ...                      95186.0   \n",
       "            1964  ...                      96187.0   \n",
       "\n",
       "                  Population ages 65-69, female  Population ages 65-69, male  \\\n",
       "country     date                                                               \n",
       "Afghanistan 1960                        56624.0                      67283.0   \n",
       "            1961                        57393.0                      67330.0   \n",
       "            1962                        58326.0                      67197.0   \n",
       "            1963                        59399.0                      67052.0   \n",
       "            1964                        60569.0                      67117.0   \n",
       "\n",
       "                  Population ages 70-74, female  Population ages 70-74, male  \\\n",
       "country     date                                                               \n",
       "Afghanistan 1960                        34655.0                      40748.0   \n",
       "            1961                        35363.0                      41520.0   \n",
       "            1962                        36055.0                      42186.0   \n",
       "            1963                        36757.0                      42704.0   \n",
       "            1964                        37461.0                      42987.0   \n",
       "\n",
       "                  Population ages 75-79, female  Population ages 75-79, male  \\\n",
       "country     date                                                               \n",
       "Afghanistan 1960                        16990.0                      19683.0   \n",
       "            1961                        17750.0                      20500.0   \n",
       "            1962                        18364.0                      21050.0   \n",
       "            1963                        18819.0                      21331.0   \n",
       "            1964                        19098.0                      21378.0   \n",
       "\n",
       "                  Population ages 80 and above, female  \\\n",
       "country     date                                         \n",
       "Afghanistan 1960                                7486.0   \n",
       "            1961                                8358.0   \n",
       "            1962                                9041.0   \n",
       "            1963                                9456.0   \n",
       "            1964                                9513.0   \n",
       "\n",
       "                  Population ages 80 and above, male  Population, total  \n",
       "country     date                                                         \n",
       "Afghanistan 1960                              8294.0          8996973.0  \n",
       "            1961                              9283.0          9169410.0  \n",
       "            1962                             10013.0          9351441.0  \n",
       "            1963                             10376.0          9543205.0  \n",
       "            1964                             10269.0          9744781.0  \n",
       "\n",
       "[5 rows x 35 columns]"
      ]
     },
     "execution_count": 8,
     "metadata": {},
     "output_type": "execute_result"
    }
   ],
   "source": [
    "pop_df = population_dataframes(indicators_40)\n",
    "pop_df.head()"
   ]
  },
  {
   "cell_type": "markdown",
   "metadata": {},
   "source": [
    "### Cleaning the data"
   ]
  },
  {
   "cell_type": "code",
   "execution_count": 9,
   "metadata": {
    "scrolled": true
   },
   "outputs": [
    {
     "data": {
      "text/html": [
       "<div>\n",
       "<style scoped>\n",
       "    .dataframe tbody tr th:only-of-type {\n",
       "        vertical-align: middle;\n",
       "    }\n",
       "\n",
       "    .dataframe tbody tr th {\n",
       "        vertical-align: top;\n",
       "    }\n",
       "\n",
       "    .dataframe thead th {\n",
       "        text-align: right;\n",
       "    }\n",
       "</style>\n",
       "<table border=\"1\" class=\"dataframe\">\n",
       "  <thead>\n",
       "    <tr style=\"text-align: right;\">\n",
       "      <th></th>\n",
       "      <th></th>\n",
       "      <th>Population ages 00-04, female</th>\n",
       "      <th>Population ages 00-04, male</th>\n",
       "      <th>Population ages 05-09, female</th>\n",
       "      <th>Population ages 05-09, male</th>\n",
       "      <th>Population ages 10-14, female</th>\n",
       "      <th>Population ages 10-14, male</th>\n",
       "      <th>Population ages 15-19, female</th>\n",
       "      <th>Population ages 15-19, male</th>\n",
       "      <th>Population ages 20-24, female</th>\n",
       "      <th>Population ages 20-24, male</th>\n",
       "      <th>...</th>\n",
       "      <th>Population ages 65-69, male</th>\n",
       "      <th>Population ages 70-74, female</th>\n",
       "      <th>Population ages 70-74, male</th>\n",
       "      <th>Population ages 75-79, female</th>\n",
       "      <th>Population ages 75-79, male</th>\n",
       "      <th>Population ages 80 and above, female</th>\n",
       "      <th>Population ages 80 and above, male</th>\n",
       "      <th>Population, total</th>\n",
       "      <th>Population, total female</th>\n",
       "      <th>Population, total male</th>\n",
       "    </tr>\n",
       "    <tr>\n",
       "      <th>country</th>\n",
       "      <th>year</th>\n",
       "      <th></th>\n",
       "      <th></th>\n",
       "      <th></th>\n",
       "      <th></th>\n",
       "      <th></th>\n",
       "      <th></th>\n",
       "      <th></th>\n",
       "      <th></th>\n",
       "      <th></th>\n",
       "      <th></th>\n",
       "      <th></th>\n",
       "      <th></th>\n",
       "      <th></th>\n",
       "      <th></th>\n",
       "      <th></th>\n",
       "      <th></th>\n",
       "      <th></th>\n",
       "      <th></th>\n",
       "      <th></th>\n",
       "      <th></th>\n",
       "      <th></th>\n",
       "    </tr>\n",
       "  </thead>\n",
       "  <tbody>\n",
       "    <tr>\n",
       "      <th rowspan=\"5\" valign=\"top\">Afghanistan</th>\n",
       "      <th>1960</th>\n",
       "      <td>760938.0</td>\n",
       "      <td>780471.0</td>\n",
       "      <td>583953.0</td>\n",
       "      <td>598721.0</td>\n",
       "      <td>544194.0</td>\n",
       "      <td>523122.0</td>\n",
       "      <td>447872.0</td>\n",
       "      <td>478075.0</td>\n",
       "      <td>382542.0</td>\n",
       "      <td>415970.0</td>\n",
       "      <td>...</td>\n",
       "      <td>67283.0</td>\n",
       "      <td>34655.0</td>\n",
       "      <td>40748.0</td>\n",
       "      <td>16990.0</td>\n",
       "      <td>19683.0</td>\n",
       "      <td>7486.0</td>\n",
       "      <td>8294.0</td>\n",
       "      <td>8996973.0</td>\n",
       "      <td>4347395.0</td>\n",
       "      <td>13646547.0</td>\n",
       "    </tr>\n",
       "    <tr>\n",
       "      <th>1961</th>\n",
       "      <td>795378.0</td>\n",
       "      <td>808289.0</td>\n",
       "      <td>594819.0</td>\n",
       "      <td>617341.0</td>\n",
       "      <td>547964.0</td>\n",
       "      <td>528908.0</td>\n",
       "      <td>460206.0</td>\n",
       "      <td>481616.0</td>\n",
       "      <td>388240.0</td>\n",
       "      <td>421947.0</td>\n",
       "      <td>...</td>\n",
       "      <td>67330.0</td>\n",
       "      <td>35363.0</td>\n",
       "      <td>41520.0</td>\n",
       "      <td>17750.0</td>\n",
       "      <td>20500.0</td>\n",
       "      <td>8358.0</td>\n",
       "      <td>9283.0</td>\n",
       "      <td>9169410.0</td>\n",
       "      <td>4439156.0</td>\n",
       "      <td>13899660.0</td>\n",
       "    </tr>\n",
       "    <tr>\n",
       "      <th>1962</th>\n",
       "      <td>818678.0</td>\n",
       "      <td>831163.0</td>\n",
       "      <td>611717.0</td>\n",
       "      <td>637537.0</td>\n",
       "      <td>550019.0</td>\n",
       "      <td>538026.0</td>\n",
       "      <td>477029.0</td>\n",
       "      <td>485476.0</td>\n",
       "      <td>394896.0</td>\n",
       "      <td>429297.0</td>\n",
       "      <td>...</td>\n",
       "      <td>67197.0</td>\n",
       "      <td>36055.0</td>\n",
       "      <td>42186.0</td>\n",
       "      <td>18364.0</td>\n",
       "      <td>21050.0</td>\n",
       "      <td>9041.0</td>\n",
       "      <td>10013.0</td>\n",
       "      <td>9351441.0</td>\n",
       "      <td>4535392.0</td>\n",
       "      <td>14167491.0</td>\n",
       "    </tr>\n",
       "    <tr>\n",
       "      <th>1963</th>\n",
       "      <td>834934.0</td>\n",
       "      <td>851787.0</td>\n",
       "      <td>632901.0</td>\n",
       "      <td>657620.0</td>\n",
       "      <td>551891.0</td>\n",
       "      <td>550452.0</td>\n",
       "      <td>495604.0</td>\n",
       "      <td>490025.0</td>\n",
       "      <td>402961.0</td>\n",
       "      <td>437345.0</td>\n",
       "      <td>...</td>\n",
       "      <td>67052.0</td>\n",
       "      <td>36757.0</td>\n",
       "      <td>42704.0</td>\n",
       "      <td>18819.0</td>\n",
       "      <td>21331.0</td>\n",
       "      <td>9456.0</td>\n",
       "      <td>10376.0</td>\n",
       "      <td>9543205.0</td>\n",
       "      <td>4636170.0</td>\n",
       "      <td>14450236.0</td>\n",
       "    </tr>\n",
       "    <tr>\n",
       "      <th>1964</th>\n",
       "      <td>850992.0</td>\n",
       "      <td>873022.0</td>\n",
       "      <td>654635.0</td>\n",
       "      <td>676153.0</td>\n",
       "      <td>556047.0</td>\n",
       "      <td>565257.0</td>\n",
       "      <td>511923.0</td>\n",
       "      <td>496099.0</td>\n",
       "      <td>413203.0</td>\n",
       "      <td>445246.0</td>\n",
       "      <td>...</td>\n",
       "      <td>67117.0</td>\n",
       "      <td>37461.0</td>\n",
       "      <td>42987.0</td>\n",
       "      <td>19098.0</td>\n",
       "      <td>21378.0</td>\n",
       "      <td>9513.0</td>\n",
       "      <td>10269.0</td>\n",
       "      <td>9744781.0</td>\n",
       "      <td>4741529.0</td>\n",
       "      <td>14748029.0</td>\n",
       "    </tr>\n",
       "  </tbody>\n",
       "</table>\n",
       "<p>5 rows × 37 columns</p>\n",
       "</div>"
      ],
      "text/plain": [
       "                  Population ages 00-04, female  Population ages 00-04, male  \\\n",
       "country     year                                                               \n",
       "Afghanistan 1960                       760938.0                     780471.0   \n",
       "            1961                       795378.0                     808289.0   \n",
       "            1962                       818678.0                     831163.0   \n",
       "            1963                       834934.0                     851787.0   \n",
       "            1964                       850992.0                     873022.0   \n",
       "\n",
       "                  Population ages 05-09, female  Population ages 05-09, male  \\\n",
       "country     year                                                               \n",
       "Afghanistan 1960                       583953.0                     598721.0   \n",
       "            1961                       594819.0                     617341.0   \n",
       "            1962                       611717.0                     637537.0   \n",
       "            1963                       632901.0                     657620.0   \n",
       "            1964                       654635.0                     676153.0   \n",
       "\n",
       "                  Population ages 10-14, female  Population ages 10-14, male  \\\n",
       "country     year                                                               \n",
       "Afghanistan 1960                       544194.0                     523122.0   \n",
       "            1961                       547964.0                     528908.0   \n",
       "            1962                       550019.0                     538026.0   \n",
       "            1963                       551891.0                     550452.0   \n",
       "            1964                       556047.0                     565257.0   \n",
       "\n",
       "                  Population ages 15-19, female  Population ages 15-19, male  \\\n",
       "country     year                                                               \n",
       "Afghanistan 1960                       447872.0                     478075.0   \n",
       "            1961                       460206.0                     481616.0   \n",
       "            1962                       477029.0                     485476.0   \n",
       "            1963                       495604.0                     490025.0   \n",
       "            1964                       511923.0                     496099.0   \n",
       "\n",
       "                  Population ages 20-24, female  Population ages 20-24, male  \\\n",
       "country     year                                                               \n",
       "Afghanistan 1960                       382542.0                     415970.0   \n",
       "            1961                       388240.0                     421947.0   \n",
       "            1962                       394896.0                     429297.0   \n",
       "            1963                       402961.0                     437345.0   \n",
       "            1964                       413203.0                     445246.0   \n",
       "\n",
       "                  ...  Population ages 65-69, male  \\\n",
       "country     year  ...                                \n",
       "Afghanistan 1960  ...                      67283.0   \n",
       "            1961  ...                      67330.0   \n",
       "            1962  ...                      67197.0   \n",
       "            1963  ...                      67052.0   \n",
       "            1964  ...                      67117.0   \n",
       "\n",
       "                  Population ages 70-74, female  Population ages 70-74, male  \\\n",
       "country     year                                                               \n",
       "Afghanistan 1960                        34655.0                      40748.0   \n",
       "            1961                        35363.0                      41520.0   \n",
       "            1962                        36055.0                      42186.0   \n",
       "            1963                        36757.0                      42704.0   \n",
       "            1964                        37461.0                      42987.0   \n",
       "\n",
       "                  Population ages 75-79, female  Population ages 75-79, male  \\\n",
       "country     year                                                               \n",
       "Afghanistan 1960                        16990.0                      19683.0   \n",
       "            1961                        17750.0                      20500.0   \n",
       "            1962                        18364.0                      21050.0   \n",
       "            1963                        18819.0                      21331.0   \n",
       "            1964                        19098.0                      21378.0   \n",
       "\n",
       "                  Population ages 80 and above, female  \\\n",
       "country     year                                         \n",
       "Afghanistan 1960                                7486.0   \n",
       "            1961                                8358.0   \n",
       "            1962                                9041.0   \n",
       "            1963                                9456.0   \n",
       "            1964                                9513.0   \n",
       "\n",
       "                  Population ages 80 and above, male  Population, total  \\\n",
       "country     year                                                          \n",
       "Afghanistan 1960                              8294.0          8996973.0   \n",
       "            1961                              9283.0          9169410.0   \n",
       "            1962                             10013.0          9351441.0   \n",
       "            1963                             10376.0          9543205.0   \n",
       "            1964                             10269.0          9744781.0   \n",
       "\n",
       "                  Population, total female  Population, total male  \n",
       "country     year                                                    \n",
       "Afghanistan 1960                 4347395.0              13646547.0  \n",
       "            1961                 4439156.0              13899660.0  \n",
       "            1962                 4535392.0              14167491.0  \n",
       "            1963                 4636170.0              14450236.0  \n",
       "            1964                 4741529.0              14748029.0  \n",
       "\n",
       "[5 rows x 37 columns]"
      ]
     },
     "execution_count": 9,
     "metadata": {},
     "output_type": "execute_result"
    }
   ],
   "source": [
    "# Change \"date\" index to type INT.\n",
    "pop_df.index = pop_df.index.set_levels(pop_df.index.levels[1].astype(int), level=1)\n",
    "\n",
    "# Rename MultiIndex column \"date\" to \"year\"\n",
    "pop_df = pop_df.rename_axis(index=['country', 'year'])\n",
    "\n",
    "# Delete 2020 row for every country code\n",
    "pop_df = pop_df[~pop_df.index.get_level_values('year').isin([2020])]\n",
    "\n",
    "# Add population total breakdowns for male and female\n",
    "cols_f = [col for col in pop_df.columns if 'female' in col]\n",
    "cols_m = [col for col in pop_df.columns if col not in cols_f]\n",
    "pop_df['Population, total female'] = pop_df.loc[:,cols_f].sum(axis=1)\n",
    "pop_df['Population, total male'] = pop_df.loc[:, cols_m].sum(axis=1)\n",
    "pop_df.head()"
   ]
  },
  {
   "cell_type": "markdown",
   "metadata": {},
   "source": [
    "## Population Pyramids"
   ]
  },
  {
   "cell_type": "markdown",
   "metadata": {},
   "source": [
    "For the sake of simplicity, visualizations will use world data only."
   ]
  },
  {
   "cell_type": "code",
   "execution_count": 10,
   "metadata": {},
   "outputs": [
    {
     "data": {
      "image/png": "[encoded data removed]",
      "text/plain": [
       "<Figure size 864x576 with 1 Axes>"
      ]
     },
     "metadata": {
      "needs_background": "light"
     },
     "output_type": "display_data"
    }
   ],
   "source": [
    "def generate_ppy_df(pop_df, country, year):\n",
    "        \"\"\"Takes in a population DataFrame and selects population \n",
    "        data for a specific country/region in YEAR, then modifies the\n",
    "        DataFrame in a way that can be visualized. \"\"\"\n",
    "        new_df = pop_df[pop_df.index.get_level_values('country').isin([country])]\n",
    "        country_df = new_df[new_df.index.get_level_values('year').isin([year])]\n",
    "        ages = [col[16:21] for col in country_df.columns[::2]]\n",
    "        ages = ages[:-3]\n",
    "        ages.append('80+')\n",
    "        f_pop = list(country_df.iloc[0])[::2][:-2]\n",
    "        m_pop = list(country_df.iloc[0])[1::2][:-1]\n",
    "        ppy_df = pd.DataFrame({'Age': ages,\n",
    "                         'Population, total female': f_pop,\n",
    "                         'Population, total male': m_pop})\n",
    "        # Convert male population data to negative values for displaying purposes.\n",
    "        ppy_df['Population, total male'] = ppy_df['Population, total male']*-1\n",
    "        return ppy_df\n",
    "\n",
    "\n",
    "# def population_pyramid(df):\n",
    "#    \"\"\"Takes as input a pandas DataFrame with columns providing counts \n",
    "#    of people by age-sex groups, and constructs a population pyramid graph \n",
    "#    for visualizing the data.\"\"\"\n",
    "df=generate_ppy_df(pop_df, \"World\", 2019)\n",
    "\n",
    "fig1 = plt.figure(figsize=(12,8))\n",
    "ax1 = plt.axes()\n",
    "ageAxis = df['Age'][::-1]\n",
    "fig_ppy = sns.barplot(x='Population, total female',\n",
    "                        y='Age',\n",
    "                        data=df,\n",
    "                        order=ageAxis,\n",
    "                        lw=0,\n",
    "                        color='tomato')\n",
    "fig1 = sns.barplot(x='Population, total male',\n",
    "                        y='Age',\n",
    "                        data=df,\n",
    "                        order=ageAxis,\n",
    "                        lw=0,\n",
    "                        color='dodgerblue')\n",
    "\n",
    "fig1.axvline(lw=3.5, color='w')\n",
    "fig1.set_title(\"Population Pyramid\", fontdict={'fontsize':14,'fontweight':3}, pad=15)                 \n",
    "fig1.set(xlabel=\"Population (hundreds of millions)\", ylabel=\"Age Group\");"
   ]
  },
  {
   "cell_type": "code",
   "execution_count": 64,
   "metadata": {},
   "outputs": [
    {
     "data": {
      "image/png": "[encoded data removed]",
      "text/plain": [
       "<Figure size 842.4x595.44 with 1 Axes>"
      ]
     },
     "metadata": {
      "needs_background": "light"
     },
     "output_type": "display_data"
    }
   ],
   "source": [
    "population_pyramid(generate_ppy_df(pop_df, \"World\", 2019))"
   ]
  },
  {
   "cell_type": "code",
   "execution_count": 65,
   "metadata": {},
   "outputs": [
    {
     "ename": "TypeError",
     "evalue": "population_pyramid() takes 1 positional argument but 3 were given",
     "output_type": "error",
     "traceback": [
      "\u001b[0;31m---------------------------------------------------------------------------\u001b[0m",
      "\u001b[0;31mTypeError\u001b[0m                                 Traceback (most recent call last)",
      "\u001b[0;32m<ipython-input-65-acaaa643e5e2>\u001b[0m in \u001b[0;36m<module>\u001b[0;34m\u001b[0m\n\u001b[0;32m----> 1\u001b[0;31m \u001b[0mpopulation_pyramid\u001b[0m\u001b[0;34m(\u001b[0m\u001b[0mpop_df\u001b[0m\u001b[0;34m,\u001b[0m \u001b[0;34m\"China\"\u001b[0m\u001b[0;34m,\u001b[0m \u001b[0;36m2019\u001b[0m\u001b[0;34m)\u001b[0m\u001b[0;34m\u001b[0m\u001b[0;34m\u001b[0m\u001b[0m\n\u001b[0m",
      "\u001b[0;31mTypeError\u001b[0m: population_pyramid() takes 1 positional argument but 3 were given"
     ]
    }
   ],
   "source": [
    "population_pyramid(pop_df, \"China\", 2019)"
   ]
  },
  {
   "cell_type": "code",
   "execution_count": 13,
   "metadata": {},
   "outputs": [
    {
     "data": {
      "image/png": "[encoded data removed]",
      "text/plain": [
       "<Figure size 842.4x595.44 with 1 Axes>"
      ]
     },
     "metadata": {
      "needs_background": "light"
     },
     "output_type": "display_data"
    }
   ],
   "source": [
    "population_pyramid(pop_df, \"India\", 2019)"
   ]
  },
  {
   "cell_type": "markdown",
   "metadata": {},
   "source": [
    "## Animated Population Pyramid "
   ]
  },
  {
   "cell_type": "code",
   "execution_count": 37,
   "metadata": {},
   "outputs": [
    {
     "data": {
      "application/javascript": [
       "/* Put everything inside the global mpl namespace */\n",
       "/* global mpl */\n",
       "window.mpl = {};\n",
       "\n",
       "mpl.get_websocket_type = function () {\n",
       "    if (typeof WebSocket !== 'undefined') {\n",
       "        return WebSocket;\n",
       "    } else if (typeof MozWebSocket !== 'undefined') {\n",
       "        return MozWebSocket;\n",
       "    } else {\n",
       "        alert(\n",
       "            'Your browser does not have WebSocket support. ' +\n",
       "                'Please try Chrome, Safari or Firefox ≥ 6. ' +\n",
       "                'Firefox 4 and 5 are also supported but you ' +\n",
       "                'have to enable WebSockets in about:config.'\n",
       "        );\n",
       "    }\n",
       "};\n",
       "\n",
       "mpl.figure = function (figure_id, websocket, ondownload, parent_element) {\n",
       "    this.id = figure_id;\n",
       "\n",
       "    this.ws = websocket;\n",
       "\n",
       "    this.supports_binary = this.ws.binaryType !== undefined;\n",
       "\n",
       "    if (!this.supports_binary) {\n",
       "        var warnings = document.getElementById('mpl-warnings');\n",
       "        if (warnings) {\n",
       "            warnings.style.display = 'block';\n",
       "            warnings.textContent =\n",
       "                'This browser does not support binary websocket messages. ' +\n",
       "                'Performance may be slow.';\n",
       "        }\n",
       "    }\n",
       "\n",
       "    this.imageObj = new Image();\n",
       "\n",
       "    this.context = undefined;\n",
       "    this.message = undefined;\n",
       "    this.canvas = undefined;\n",
       "    this.rubberband_canvas = undefined;\n",
       "    this.rubberband_context = undefined;\n",
       "    this.format_dropdown = undefined;\n",
       "\n",
       "    this.image_mode = 'full';\n",
       "\n",
       "    this.root = document.createElement('div');\n",
       "    this.root.setAttribute('style', 'display: inline-block');\n",
       "    this._root_extra_style(this.root);\n",
       "\n",
       "    parent_element.appendChild(this.root);\n",
       "\n",
       "    this._init_header(this);\n",
       "    this._init_canvas(this);\n",
       "    this._init_toolbar(this);\n",
       "\n",
       "    var fig = this;\n",
       "\n",
       "    this.waiting = false;\n",
       "\n",
       "    this.ws.onopen = function () {\n",
       "        fig.send_message('supports_binary', { value: fig.supports_binary });\n",
       "        fig.send_message('send_image_mode', {});\n",
       "        if (fig.ratio !== 1) {\n",
       "            fig.send_message('set_dpi_ratio', { dpi_ratio: fig.ratio });\n",
       "        }\n",
       "        fig.send_message('refresh', {});\n",
       "    };\n",
       "\n",
       "    this.imageObj.onload = function () {\n",
       "        if (fig.image_mode === 'full') {\n",
       "            // Full images could contain transparency (where diff images\n",
       "            // almost always do), so we need to clear the canvas so that\n",
       "            // there is no ghosting.\n",
       "            fig.context.clearRect(0, 0, fig.canvas.width, fig.canvas.height);\n",
       "        }\n",
       "        fig.context.drawImage(fig.imageObj, 0, 0);\n",
       "    };\n",
       "\n",
       "    this.imageObj.onunload = function () {\n",
       "        fig.ws.close();\n",
       "    };\n",
       "\n",
       "    this.ws.onmessage = this._make_on_message_function(this);\n",
       "\n",
       "    this.ondownload = ondownload;\n",
       "};\n",
       "\n",
       "mpl.figure.prototype._init_header = function () {\n",
       "    var titlebar = document.createElement('div');\n",
       "    titlebar.classList =\n",
       "        'ui-dialog-titlebar ui-widget-header ui-corner-all ui-helper-clearfix';\n",
       "    var titletext = document.createElement('div');\n",
       "    titletext.classList = 'ui-dialog-title';\n",
       "    titletext.setAttribute(\n",
       "        'style',\n",
       "        'width: 100%; text-align: center; padding: 3px;'\n",
       "    );\n",
       "    titlebar.appendChild(titletext);\n",
       "    this.root.appendChild(titlebar);\n",
       "    this.header = titletext;\n",
       "};\n",
       "\n",
       "mpl.figure.prototype._canvas_extra_style = function (_canvas_div) {};\n",
       "\n",
       "mpl.figure.prototype._root_extra_style = function (_canvas_div) {};\n",
       "\n",
       "mpl.figure.prototype._init_canvas = function () {\n",
       "    var fig = this;\n",
       "\n",
       "    var canvas_div = (this.canvas_div = document.createElement('div'));\n",
       "    canvas_div.setAttribute(\n",
       "        'style',\n",
       "        'border: 1px solid #ddd;' +\n",
       "            'box-sizing: content-box;' +\n",
       "            'clear: both;' +\n",
       "            'min-height: 1px;' +\n",
       "            'min-width: 1px;' +\n",
       "            'outline: 0;' +\n",
       "            'overflow: hidden;' +\n",
       "            'position: relative;' +\n",
       "            'resize: both;'\n",
       "    );\n",
       "\n",
       "    function on_keyboard_event_closure(name) {\n",
       "        return function (event) {\n",
       "            return fig.key_event(event, name);\n",
       "        };\n",
       "    }\n",
       "\n",
       "    canvas_div.addEventListener(\n",
       "        'keydown',\n",
       "        on_keyboard_event_closure('key_press')\n",
       "    );\n",
       "    canvas_div.addEventListener(\n",
       "        'keyup',\n",
       "        on_keyboard_event_closure('key_release')\n",
       "    );\n",
       "\n",
       "    this._canvas_extra_style(canvas_div);\n",
       "    this.root.appendChild(canvas_div);\n",
       "\n",
       "    var canvas = (this.canvas = document.createElement('canvas'));\n",
       "    canvas.classList.add('mpl-canvas');\n",
       "    canvas.setAttribute('style', 'box-sizing: content-box;');\n",
       "\n",
       "    this.context = canvas.getContext('2d');\n",
       "\n",
       "    var backingStore =\n",
       "        this.context.backingStorePixelRatio ||\n",
       "        this.context.webkitBackingStorePixelRatio ||\n",
       "        this.context.mozBackingStorePixelRatio ||\n",
       "        this.context.msBackingStorePixelRatio ||\n",
       "        this.context.oBackingStorePixelRatio ||\n",
       "        this.context.backingStorePixelRatio ||\n",
       "        1;\n",
       "\n",
       "    this.ratio = (window.devicePixelRatio || 1) / backingStore;\n",
       "    if (this.ratio !== 1) {\n",
       "        fig.send_message('set_dpi_ratio', { dpi_ratio: this.ratio });\n",
       "    }\n",
       "\n",
       "    var rubberband_canvas = (this.rubberband_canvas = document.createElement(\n",
       "        'canvas'\n",
       "    ));\n",
       "    rubberband_canvas.setAttribute(\n",
       "        'style',\n",
       "        'box-sizing: content-box; position: absolute; left: 0; top: 0; z-index: 1;'\n",
       "    );\n",
       "\n",
       "    // Apply a ponyfill if ResizeObserver is not implemented by browser.\n",
       "    if (this.ResizeObserver === undefined) {\n",
       "        if (window.ResizeObserver !== undefined) {\n",
       "            this.ResizeObserver = window.ResizeObserver;\n",
       "        } else {\n",
       "            var obs = _JSXTOOLS_RESIZE_OBSERVER({});\n",
       "            this.ResizeObserver = obs.ResizeObserver;\n",
       "        }\n",
       "    }\n",
       "\n",
       "    this.resizeObserverInstance = new this.ResizeObserver(function (entries) {\n",
       "        var nentries = entries.length;\n",
       "        for (var i = 0; i < nentries; i++) {\n",
       "            var entry = entries[i];\n",
       "            var width, height;\n",
       "            if (entry.contentBoxSize) {\n",
       "                if (entry.contentBoxSize instanceof Array) {\n",
       "                    // Chrome 84 implements new version of spec.\n",
       "                    width = entry.contentBoxSize[0].inlineSize;\n",
       "                    height = entry.contentBoxSize[0].blockSize;\n",
       "                } else {\n",
       "                    // Firefox implements old version of spec.\n",
       "                    width = entry.contentBoxSize.inlineSize;\n",
       "                    height = entry.contentBoxSize.blockSize;\n",
       "                }\n",
       "            } else {\n",
       "                // Chrome <84 implements even older version of spec.\n",
       "                width = entry.contentRect.width;\n",
       "                height = entry.contentRect.height;\n",
       "            }\n",
       "\n",
       "            // Keep the size of the canvas and rubber band canvas in sync with\n",
       "            // the canvas container.\n",
       "            if (entry.devicePixelContentBoxSize) {\n",
       "                // Chrome 84 implements new version of spec.\n",
       "                canvas.setAttribute(\n",
       "                    'width',\n",
       "                    entry.devicePixelContentBoxSize[0].inlineSize\n",
       "                );\n",
       "                canvas.setAttribute(\n",
       "                    'height',\n",
       "                    entry.devicePixelContentBoxSize[0].blockSize\n",
       "                );\n",
       "            } else {\n",
       "                canvas.setAttribute('width', width * fig.ratio);\n",
       "                canvas.setAttribute('height', height * fig.ratio);\n",
       "            }\n",
       "            canvas.setAttribute(\n",
       "                'style',\n",
       "                'width: ' + width + 'px; height: ' + height + 'px;'\n",
       "            );\n",
       "\n",
       "            rubberband_canvas.setAttribute('width', width);\n",
       "            rubberband_canvas.setAttribute('height', height);\n",
       "\n",
       "            // And update the size in Python. We ignore the initial 0/0 size\n",
       "            // that occurs as the element is placed into the DOM, which should\n",
       "            // otherwise not happen due to the minimum size styling.\n",
       "            if (width != 0 && height != 0) {\n",
       "                fig.request_resize(width, height);\n",
       "            }\n",
       "        }\n",
       "    });\n",
       "    this.resizeObserverInstance.observe(canvas_div);\n",
       "\n",
       "    function on_mouse_event_closure(name) {\n",
       "        return function (event) {\n",
       "            return fig.mouse_event(event, name);\n",
       "        };\n",
       "    }\n",
       "\n",
       "    rubberband_canvas.addEventListener(\n",
       "        'mousedown',\n",
       "        on_mouse_event_closure('button_press')\n",
       "    );\n",
       "    rubberband_canvas.addEventListener(\n",
       "        'mouseup',\n",
       "        on_mouse_event_closure('button_release')\n",
       "    );\n",
       "    // Throttle sequential mouse events to 1 every 20ms.\n",
       "    rubberband_canvas.addEventListener(\n",
       "        'mousemove',\n",
       "        on_mouse_event_closure('motion_notify')\n",
       "    );\n",
       "\n",
       "    rubberband_canvas.addEventListener(\n",
       "        'mouseenter',\n",
       "        on_mouse_event_closure('figure_enter')\n",
       "    );\n",
       "    rubberband_canvas.addEventListener(\n",
       "        'mouseleave',\n",
       "        on_mouse_event_closure('figure_leave')\n",
       "    );\n",
       "\n",
       "    canvas_div.addEventListener('wheel', function (event) {\n",
       "        if (event.deltaY < 0) {\n",
       "            event.step = 1;\n",
       "        } else {\n",
       "            event.step = -1;\n",
       "        }\n",
       "        on_mouse_event_closure('scroll')(event);\n",
       "    });\n",
       "\n",
       "    canvas_div.appendChild(canvas);\n",
       "    canvas_div.appendChild(rubberband_canvas);\n",
       "\n",
       "    this.rubberband_context = rubberband_canvas.getContext('2d');\n",
       "    this.rubberband_context.strokeStyle = '#000000';\n",
       "\n",
       "    this._resize_canvas = function (width, height, forward) {\n",
       "        if (forward) {\n",
       "            canvas_div.style.width = width + 'px';\n",
       "            canvas_div.style.height = height + 'px';\n",
       "        }\n",
       "    };\n",
       "\n",
       "    // Disable right mouse context menu.\n",
       "    this.rubberband_canvas.addEventListener('contextmenu', function (_e) {\n",
       "        event.preventDefault();\n",
       "        return false;\n",
       "    });\n",
       "\n",
       "    function set_focus() {\n",
       "        canvas.focus();\n",
       "        canvas_div.focus();\n",
       "    }\n",
       "\n",
       "    window.setTimeout(set_focus, 100);\n",
       "};\n",
       "\n",
       "mpl.figure.prototype._init_toolbar = function () {\n",
       "    var fig = this;\n",
       "\n",
       "    var toolbar = document.createElement('div');\n",
       "    toolbar.classList = 'mpl-toolbar';\n",
       "    this.root.appendChild(toolbar);\n",
       "\n",
       "    function on_click_closure(name) {\n",
       "        return function (_event) {\n",
       "            return fig.toolbar_button_onclick(name);\n",
       "        };\n",
       "    }\n",
       "\n",
       "    function on_mouseover_closure(tooltip) {\n",
       "        return function (event) {\n",
       "            if (!event.currentTarget.disabled) {\n",
       "                return fig.toolbar_button_onmouseover(tooltip);\n",
       "            }\n",
       "        };\n",
       "    }\n",
       "\n",
       "    fig.buttons = {};\n",
       "    var buttonGroup = document.createElement('div');\n",
       "    buttonGroup.classList = 'mpl-button-group';\n",
       "    for (var toolbar_ind in mpl.toolbar_items) {\n",
       "        var name = mpl.toolbar_items[toolbar_ind][0];\n",
       "        var tooltip = mpl.toolbar_items[toolbar_ind][1];\n",
       "        var image = mpl.toolbar_items[toolbar_ind][2];\n",
       "        var method_name = mpl.toolbar_items[toolbar_ind][3];\n",
       "\n",
       "        if (!name) {\n",
       "            /* Instead of a spacer, we start a new button group. */\n",
       "            if (buttonGroup.hasChildNodes()) {\n",
       "                toolbar.appendChild(buttonGroup);\n",
       "            }\n",
       "            buttonGroup = document.createElement('div');\n",
       "            buttonGroup.classList = 'mpl-button-group';\n",
       "            continue;\n",
       "        }\n",
       "\n",
       "        var button = (fig.buttons[name] = document.createElement('button'));\n",
       "        button.classList = 'mpl-widget';\n",
       "        button.setAttribute('role', 'button');\n",
       "        button.setAttribute('aria-disabled', 'false');\n",
       "        button.addEventListener('click', on_click_closure(method_name));\n",
       "        button.addEventListener('mouseover', on_mouseover_closure(tooltip));\n",
       "\n",
       "        var icon_img = document.createElement('img');\n",
       "        icon_img.src = '_images/' + image + '.png';\n",
       "        icon_img.srcset = '_images/' + image + '_large.png 2x';\n",
       "        icon_img.alt = tooltip;\n",
       "        button.appendChild(icon_img);\n",
       "\n",
       "        buttonGroup.appendChild(button);\n",
       "    }\n",
       "\n",
       "    if (buttonGroup.hasChildNodes()) {\n",
       "        toolbar.appendChild(buttonGroup);\n",
       "    }\n",
       "\n",
       "    var fmt_picker = document.createElement('select');\n",
       "    fmt_picker.classList = 'mpl-widget';\n",
       "    toolbar.appendChild(fmt_picker);\n",
       "    this.format_dropdown = fmt_picker;\n",
       "\n",
       "    for (var ind in mpl.extensions) {\n",
       "        var fmt = mpl.extensions[ind];\n",
       "        var option = document.createElement('option');\n",
       "        option.selected = fmt === mpl.default_extension;\n",
       "        option.innerHTML = fmt;\n",
       "        fmt_picker.appendChild(option);\n",
       "    }\n",
       "\n",
       "    var status_bar = document.createElement('span');\n",
       "    status_bar.classList = 'mpl-message';\n",
       "    toolbar.appendChild(status_bar);\n",
       "    this.message = status_bar;\n",
       "};\n",
       "\n",
       "mpl.figure.prototype.request_resize = function (x_pixels, y_pixels) {\n",
       "    // Request matplotlib to resize the figure. Matplotlib will then trigger a resize in the client,\n",
       "    // which will in turn request a refresh of the image.\n",
       "    this.send_message('resize', { width: x_pixels, height: y_pixels });\n",
       "};\n",
       "\n",
       "mpl.figure.prototype.send_message = function (type, properties) {\n",
       "    properties['type'] = type;\n",
       "    properties['figure_id'] = this.id;\n",
       "    this.ws.send(JSON.stringify(properties));\n",
       "};\n",
       "\n",
       "mpl.figure.prototype.send_draw_message = function () {\n",
       "    if (!this.waiting) {\n",
       "        this.waiting = true;\n",
       "        this.ws.send(JSON.stringify({ type: 'draw', figure_id: this.id }));\n",
       "    }\n",
       "};\n",
       "\n",
       "mpl.figure.prototype.handle_save = function (fig, _msg) {\n",
       "    var format_dropdown = fig.format_dropdown;\n",
       "    var format = format_dropdown.options[format_dropdown.selectedIndex].value;\n",
       "    fig.ondownload(fig, format);\n",
       "};\n",
       "\n",
       "mpl.figure.prototype.handle_resize = function (fig, msg) {\n",
       "    var size = msg['size'];\n",
       "    if (size[0] !== fig.canvas.width || size[1] !== fig.canvas.height) {\n",
       "        fig._resize_canvas(size[0], size[1], msg['forward']);\n",
       "        fig.send_message('refresh', {});\n",
       "    }\n",
       "};\n",
       "\n",
       "mpl.figure.prototype.handle_rubberband = function (fig, msg) {\n",
       "    var x0 = msg['x0'] / fig.ratio;\n",
       "    var y0 = (fig.canvas.height - msg['y0']) / fig.ratio;\n",
       "    var x1 = msg['x1'] / fig.ratio;\n",
       "    var y1 = (fig.canvas.height - msg['y1']) / fig.ratio;\n",
       "    x0 = Math.floor(x0) + 0.5;\n",
       "    y0 = Math.floor(y0) + 0.5;\n",
       "    x1 = Math.floor(x1) + 0.5;\n",
       "    y1 = Math.floor(y1) + 0.5;\n",
       "    var min_x = Math.min(x0, x1);\n",
       "    var min_y = Math.min(y0, y1);\n",
       "    var width = Math.abs(x1 - x0);\n",
       "    var height = Math.abs(y1 - y0);\n",
       "\n",
       "    fig.rubberband_context.clearRect(\n",
       "        0,\n",
       "        0,\n",
       "        fig.canvas.width / fig.ratio,\n",
       "        fig.canvas.height / fig.ratio\n",
       "    );\n",
       "\n",
       "    fig.rubberband_context.strokeRect(min_x, min_y, width, height);\n",
       "};\n",
       "\n",
       "mpl.figure.prototype.handle_figure_label = function (fig, msg) {\n",
       "    // Updates the figure title.\n",
       "    fig.header.textContent = msg['label'];\n",
       "};\n",
       "\n",
       "mpl.figure.prototype.handle_cursor = function (fig, msg) {\n",
       "    var cursor = msg['cursor'];\n",
       "    switch (cursor) {\n",
       "        case 0:\n",
       "            cursor = 'pointer';\n",
       "            break;\n",
       "        case 1:\n",
       "            cursor = 'default';\n",
       "            break;\n",
       "        case 2:\n",
       "            cursor = 'crosshair';\n",
       "            break;\n",
       "        case 3:\n",
       "            cursor = 'move';\n",
       "            break;\n",
       "    }\n",
       "    fig.rubberband_canvas.style.cursor = cursor;\n",
       "};\n",
       "\n",
       "mpl.figure.prototype.handle_message = function (fig, msg) {\n",
       "    fig.message.textContent = msg['message'];\n",
       "};\n",
       "\n",
       "mpl.figure.prototype.handle_draw = function (fig, _msg) {\n",
       "    // Request the server to send over a new figure.\n",
       "    fig.send_draw_message();\n",
       "};\n",
       "\n",
       "mpl.figure.prototype.handle_image_mode = function (fig, msg) {\n",
       "    fig.image_mode = msg['mode'];\n",
       "};\n",
       "\n",
       "mpl.figure.prototype.handle_history_buttons = function (fig, msg) {\n",
       "    for (var key in msg) {\n",
       "        if (!(key in fig.buttons)) {\n",
       "            continue;\n",
       "        }\n",
       "        fig.buttons[key].disabled = !msg[key];\n",
       "        fig.buttons[key].setAttribute('aria-disabled', !msg[key]);\n",
       "    }\n",
       "};\n",
       "\n",
       "mpl.figure.prototype.handle_navigate_mode = function (fig, msg) {\n",
       "    if (msg['mode'] === 'PAN') {\n",
       "        fig.buttons['Pan'].classList.add('active');\n",
       "        fig.buttons['Zoom'].classList.remove('active');\n",
       "    } else if (msg['mode'] === 'ZOOM') {\n",
       "        fig.buttons['Pan'].classList.remove('active');\n",
       "        fig.buttons['Zoom'].classList.add('active');\n",
       "    } else {\n",
       "        fig.buttons['Pan'].classList.remove('active');\n",
       "        fig.buttons['Zoom'].classList.remove('active');\n",
       "    }\n",
       "};\n",
       "\n",
       "mpl.figure.prototype.updated_canvas_event = function () {\n",
       "    // Called whenever the canvas gets updated.\n",
       "    this.send_message('ack', {});\n",
       "};\n",
       "\n",
       "// A function to construct a web socket function for onmessage handling.\n",
       "// Called in the figure constructor.\n",
       "mpl.figure.prototype._make_on_message_function = function (fig) {\n",
       "    return function socket_on_message(evt) {\n",
       "        if (evt.data instanceof Blob) {\n",
       "            /* FIXME: We get \"Resource interpreted as Image but\n",
       "             * transferred with MIME type text/plain:\" errors on\n",
       "             * Chrome.  But how to set the MIME type?  It doesn't seem\n",
       "             * to be part of the websocket stream */\n",
       "            evt.data.type = 'image/png';\n",
       "\n",
       "            /* Free the memory for the previous frames */\n",
       "            if (fig.imageObj.src) {\n",
       "                (window.URL || window.webkitURL).revokeObjectURL(\n",
       "                    fig.imageObj.src\n",
       "                );\n",
       "            }\n",
       "\n",
       "            fig.imageObj.src = (window.URL || window.webkitURL).createObjectURL(\n",
       "                evt.data\n",
       "            );\n",
       "            fig.updated_canvas_event();\n",
       "            fig.waiting = false;\n",
       "            return;\n",
       "        } else if (\n",
       "            typeof evt.data === 'string' &&\n",
       "            evt.data.slice(0, 21) === 'data:image/png;base64'\n",
       "        ) {\n",
       "            fig.imageObj.src = evt.data;\n",
       "            fig.updated_canvas_event();\n",
       "            fig.waiting = false;\n",
       "            return;\n",
       "        }\n",
       "\n",
       "        var msg = JSON.parse(evt.data);\n",
       "        var msg_type = msg['type'];\n",
       "\n",
       "        // Call the  \"handle_{type}\" callback, which takes\n",
       "        // the figure and JSON message as its only arguments.\n",
       "        try {\n",
       "            var callback = fig['handle_' + msg_type];\n",
       "        } catch (e) {\n",
       "            console.log(\n",
       "                \"No handler for the '\" + msg_type + \"' message type: \",\n",
       "                msg\n",
       "            );\n",
       "            return;\n",
       "        }\n",
       "\n",
       "        if (callback) {\n",
       "            try {\n",
       "                // console.log(\"Handling '\" + msg_type + \"' message: \", msg);\n",
       "                callback(fig, msg);\n",
       "            } catch (e) {\n",
       "                console.log(\n",
       "                    \"Exception inside the 'handler_\" + msg_type + \"' callback:\",\n",
       "                    e,\n",
       "                    e.stack,\n",
       "                    msg\n",
       "                );\n",
       "            }\n",
       "        }\n",
       "    };\n",
       "};\n",
       "\n",
       "// from http://stackoverflow.com/questions/1114465/getting-mouse-location-in-canvas\n",
       "mpl.findpos = function (e) {\n",
       "    //this section is from http://www.quirksmode.org/js/events_properties.html\n",
       "    var targ;\n",
       "    if (!e) {\n",
       "        e = window.event;\n",
       "    }\n",
       "    if (e.target) {\n",
       "        targ = e.target;\n",
       "    } else if (e.srcElement) {\n",
       "        targ = e.srcElement;\n",
       "    }\n",
       "    if (targ.nodeType === 3) {\n",
       "        // defeat Safari bug\n",
       "        targ = targ.parentNode;\n",
       "    }\n",
       "\n",
       "    // pageX,Y are the mouse positions relative to the document\n",
       "    var boundingRect = targ.getBoundingClientRect();\n",
       "    var x = e.pageX - (boundingRect.left + document.body.scrollLeft);\n",
       "    var y = e.pageY - (boundingRect.top + document.body.scrollTop);\n",
       "\n",
       "    return { x: x, y: y };\n",
       "};\n",
       "\n",
       "/*\n",
       " * return a copy of an object with only non-object keys\n",
       " * we need this to avoid circular references\n",
       " * http://stackoverflow.com/a/24161582/3208463\n",
       " */\n",
       "function simpleKeys(original) {\n",
       "    return Object.keys(original).reduce(function (obj, key) {\n",
       "        if (typeof original[key] !== 'object') {\n",
       "            obj[key] = original[key];\n",
       "        }\n",
       "        return obj;\n",
       "    }, {});\n",
       "}\n",
       "\n",
       "mpl.figure.prototype.mouse_event = function (event, name) {\n",
       "    var canvas_pos = mpl.findpos(event);\n",
       "\n",
       "    if (name === 'button_press') {\n",
       "        this.canvas.focus();\n",
       "        this.canvas_div.focus();\n",
       "    }\n",
       "\n",
       "    var x = canvas_pos.x * this.ratio;\n",
       "    var y = canvas_pos.y * this.ratio;\n",
       "\n",
       "    this.send_message(name, {\n",
       "        x: x,\n",
       "        y: y,\n",
       "        button: event.button,\n",
       "        step: event.step,\n",
       "        guiEvent: simpleKeys(event),\n",
       "    });\n",
       "\n",
       "    /* This prevents the web browser from automatically changing to\n",
       "     * the text insertion cursor when the button is pressed.  We want\n",
       "     * to control all of the cursor setting manually through the\n",
       "     * 'cursor' event from matplotlib */\n",
       "    event.preventDefault();\n",
       "    return false;\n",
       "};\n",
       "\n",
       "mpl.figure.prototype._key_event_extra = function (_event, _name) {\n",
       "    // Handle any extra behaviour associated with a key event\n",
       "};\n",
       "\n",
       "mpl.figure.prototype.key_event = function (event, name) {\n",
       "    // Prevent repeat events\n",
       "    if (name === 'key_press') {\n",
       "        if (event.which === this._key) {\n",
       "            return;\n",
       "        } else {\n",
       "            this._key = event.which;\n",
       "        }\n",
       "    }\n",
       "    if (name === 'key_release') {\n",
       "        this._key = null;\n",
       "    }\n",
       "\n",
       "    var value = '';\n",
       "    if (event.ctrlKey && event.which !== 17) {\n",
       "        value += 'ctrl+';\n",
       "    }\n",
       "    if (event.altKey && event.which !== 18) {\n",
       "        value += 'alt+';\n",
       "    }\n",
       "    if (event.shiftKey && event.which !== 16) {\n",
       "        value += 'shift+';\n",
       "    }\n",
       "\n",
       "    value += 'k';\n",
       "    value += event.which.toString();\n",
       "\n",
       "    this._key_event_extra(event, name);\n",
       "\n",
       "    this.send_message(name, { key: value, guiEvent: simpleKeys(event) });\n",
       "    return false;\n",
       "};\n",
       "\n",
       "mpl.figure.prototype.toolbar_button_onclick = function (name) {\n",
       "    if (name === 'download') {\n",
       "        this.handle_save(this, null);\n",
       "    } else {\n",
       "        this.send_message('toolbar_button', { name: name });\n",
       "    }\n",
       "};\n",
       "\n",
       "mpl.figure.prototype.toolbar_button_onmouseover = function (tooltip) {\n",
       "    this.message.textContent = tooltip;\n",
       "};\n",
       "\n",
       "///////////////// REMAINING CONTENT GENERATED BY embed_js.py /////////////////\n",
       "// prettier-ignore\n",
       "var _JSXTOOLS_RESIZE_OBSERVER=function(A){var t,i=new WeakMap,n=new WeakMap,a=new WeakMap,r=new WeakMap,o=new Set;function s(e){if(!(this instanceof s))throw new TypeError(\"Constructor requires 'new' operator\");i.set(this,e)}function h(){throw new TypeError(\"Function is not a constructor\")}function c(e,t,i,n){e=0 in arguments?Number(arguments[0]):0,t=1 in arguments?Number(arguments[1]):0,i=2 in arguments?Number(arguments[2]):0,n=3 in arguments?Number(arguments[3]):0,this.right=(this.x=this.left=e)+(this.width=i),this.bottom=(this.y=this.top=t)+(this.height=n),Object.freeze(this)}function d(){t=requestAnimationFrame(d);var s=new WeakMap,p=new Set;o.forEach((function(t){r.get(t).forEach((function(i){var r=t instanceof window.SVGElement,o=a.get(t),d=r?0:parseFloat(o.paddingTop),f=r?0:parseFloat(o.paddingRight),l=r?0:parseFloat(o.paddingBottom),u=r?0:parseFloat(o.paddingLeft),g=r?0:parseFloat(o.borderTopWidth),m=r?0:parseFloat(o.borderRightWidth),w=r?0:parseFloat(o.borderBottomWidth),b=u+f,F=d+l,v=(r?0:parseFloat(o.borderLeftWidth))+m,W=g+w,y=r?0:t.offsetHeight-W-t.clientHeight,E=r?0:t.offsetWidth-v-t.clientWidth,R=b+v,z=F+W,M=r?t.width:parseFloat(o.width)-R-E,O=r?t.height:parseFloat(o.height)-z-y;if(n.has(t)){var k=n.get(t);if(k[0]===M&&k[1]===O)return}n.set(t,[M,O]);var S=Object.create(h.prototype);S.target=t,S.contentRect=new c(u,d,M,O),s.has(i)||(s.set(i,[]),p.add(i)),s.get(i).push(S)}))})),p.forEach((function(e){i.get(e).call(e,s.get(e),e)}))}return s.prototype.observe=function(i){if(i instanceof window.Element){r.has(i)||(r.set(i,new Set),o.add(i),a.set(i,window.getComputedStyle(i)));var n=r.get(i);n.has(this)||n.add(this),cancelAnimationFrame(t),t=requestAnimationFrame(d)}},s.prototype.unobserve=function(i){if(i instanceof window.Element&&r.has(i)){var n=r.get(i);n.has(this)&&(n.delete(this),n.size||(r.delete(i),o.delete(i))),n.size||r.delete(i),o.size||cancelAnimationFrame(t)}},A.DOMRectReadOnly=c,A.ResizeObserver=s,A.ResizeObserverEntry=h,A}; // eslint-disable-line\n",
       "mpl.toolbar_items = [[\"Home\", \"Reset original view\", \"fa fa-home icon-home\", \"home\"], [\"Back\", \"Back to previous view\", \"fa fa-arrow-left icon-arrow-left\", \"back\"], [\"Forward\", \"Forward to next view\", \"fa fa-arrow-right icon-arrow-right\", \"forward\"], [\"\", \"\", \"\", \"\"], [\"Pan\", \"Left button pans, Right button zooms\\nx/y fixes axis, CTRL fixes aspect\", \"fa fa-arrows icon-move\", \"pan\"], [\"Zoom\", \"Zoom to rectangle\\nx/y fixes axis, CTRL fixes aspect\", \"fa fa-square-o icon-check-empty\", \"zoom\"], [\"\", \"\", \"\", \"\"], [\"Download\", \"Download plot\", \"fa fa-floppy-o icon-save\", \"download\"]];\n",
       "\n",
       "mpl.extensions = [\"eps\", \"jpeg\", \"pdf\", \"png\", \"ps\", \"raw\", \"svg\", \"tif\"];\n",
       "\n",
       "mpl.default_extension = \"png\";/* global mpl */\n",
       "\n",
       "var comm_websocket_adapter = function (comm) {\n",
       "    // Create a \"websocket\"-like object which calls the given IPython comm\n",
       "    // object with the appropriate methods. Currently this is a non binary\n",
       "    // socket, so there is still some room for performance tuning.\n",
       "    var ws = {};\n",
       "\n",
       "    ws.close = function () {\n",
       "        comm.close();\n",
       "    };\n",
       "    ws.send = function (m) {\n",
       "        //console.log('sending', m);\n",
       "        comm.send(m);\n",
       "    };\n",
       "    // Register the callback with on_msg.\n",
       "    comm.on_msg(function (msg) {\n",
       "        //console.log('receiving', msg['content']['data'], msg);\n",
       "        // Pass the mpl event to the overridden (by mpl) onmessage function.\n",
       "        ws.onmessage(msg['content']['data']);\n",
       "    });\n",
       "    return ws;\n",
       "};\n",
       "\n",
       "mpl.mpl_figure_comm = function (comm, msg) {\n",
       "    // This is the function which gets called when the mpl process\n",
       "    // starts-up an IPython Comm through the \"matplotlib\" channel.\n",
       "\n",
       "    var id = msg.content.data.id;\n",
       "    // Get hold of the div created by the display call when the Comm\n",
       "    // socket was opened in Python.\n",
       "    var element = document.getElementById(id);\n",
       "    var ws_proxy = comm_websocket_adapter(comm);\n",
       "\n",
       "    function ondownload(figure, _format) {\n",
       "        window.open(figure.canvas.toDataURL());\n",
       "    }\n",
       "\n",
       "    var fig = new mpl.figure(id, ws_proxy, ondownload, element);\n",
       "\n",
       "    // Call onopen now - mpl needs it, as it is assuming we've passed it a real\n",
       "    // web socket which is closed, not our websocket->open comm proxy.\n",
       "    ws_proxy.onopen();\n",
       "\n",
       "    fig.parent_element = element;\n",
       "    fig.cell_info = mpl.find_output_cell(\"<div id='\" + id + \"'></div>\");\n",
       "    if (!fig.cell_info) {\n",
       "        console.error('Failed to find cell for figure', id, fig);\n",
       "        return;\n",
       "    }\n",
       "    fig.cell_info[0].output_area.element.on(\n",
       "        'cleared',\n",
       "        { fig: fig },\n",
       "        fig._remove_fig_handler\n",
       "    );\n",
       "};\n",
       "\n",
       "mpl.figure.prototype.handle_close = function (fig, msg) {\n",
       "    var width = fig.canvas.width / fig.ratio;\n",
       "    fig.cell_info[0].output_area.element.off(\n",
       "        'cleared',\n",
       "        fig._remove_fig_handler\n",
       "    );\n",
       "    fig.resizeObserverInstance.unobserve(fig.canvas_div);\n",
       "\n",
       "    // Update the output cell to use the data from the current canvas.\n",
       "    fig.push_to_output();\n",
       "    var dataURL = fig.canvas.toDataURL();\n",
       "    // Re-enable the keyboard manager in IPython - without this line, in FF,\n",
       "    // the notebook keyboard shortcuts fail.\n",
       "    IPython.keyboard_manager.enable();\n",
       "    fig.parent_element.innerHTML =\n",
       "        '<img src=\"' + dataURL + '\" width=\"' + width + '\">';\n",
       "    fig.close_ws(fig, msg);\n",
       "};\n",
       "\n",
       "mpl.figure.prototype.close_ws = function (fig, msg) {\n",
       "    fig.send_message('closing', msg);\n",
       "    // fig.ws.close()\n",
       "};\n",
       "\n",
       "mpl.figure.prototype.push_to_output = function (_remove_interactive) {\n",
       "    // Turn the data on the canvas into data in the output cell.\n",
       "    var width = this.canvas.width / this.ratio;\n",
       "    var dataURL = this.canvas.toDataURL();\n",
       "    this.cell_info[1]['text/html'] =\n",
       "        '<img src=\"' + dataURL + '\" width=\"' + width + '\">';\n",
       "};\n",
       "\n",
       "mpl.figure.prototype.updated_canvas_event = function () {\n",
       "    // Tell IPython that the notebook contents must change.\n",
       "    IPython.notebook.set_dirty(true);\n",
       "    this.send_message('ack', {});\n",
       "    var fig = this;\n",
       "    // Wait a second, then push the new image to the DOM so\n",
       "    // that it is saved nicely (might be nice to debounce this).\n",
       "    setTimeout(function () {\n",
       "        fig.push_to_output();\n",
       "    }, 1000);\n",
       "};\n",
       "\n",
       "mpl.figure.prototype._init_toolbar = function () {\n",
       "    var fig = this;\n",
       "\n",
       "    var toolbar = document.createElement('div');\n",
       "    toolbar.classList = 'btn-toolbar';\n",
       "    this.root.appendChild(toolbar);\n",
       "\n",
       "    function on_click_closure(name) {\n",
       "        return function (_event) {\n",
       "            return fig.toolbar_button_onclick(name);\n",
       "        };\n",
       "    }\n",
       "\n",
       "    function on_mouseover_closure(tooltip) {\n",
       "        return function (event) {\n",
       "            if (!event.currentTarget.disabled) {\n",
       "                return fig.toolbar_button_onmouseover(tooltip);\n",
       "            }\n",
       "        };\n",
       "    }\n",
       "\n",
       "    fig.buttons = {};\n",
       "    var buttonGroup = document.createElement('div');\n",
       "    buttonGroup.classList = 'btn-group';\n",
       "    var button;\n",
       "    for (var toolbar_ind in mpl.toolbar_items) {\n",
       "        var name = mpl.toolbar_items[toolbar_ind][0];\n",
       "        var tooltip = mpl.toolbar_items[toolbar_ind][1];\n",
       "        var image = mpl.toolbar_items[toolbar_ind][2];\n",
       "        var method_name = mpl.toolbar_items[toolbar_ind][3];\n",
       "\n",
       "        if (!name) {\n",
       "            /* Instead of a spacer, we start a new button group. */\n",
       "            if (buttonGroup.hasChildNodes()) {\n",
       "                toolbar.appendChild(buttonGroup);\n",
       "            }\n",
       "            buttonGroup = document.createElement('div');\n",
       "            buttonGroup.classList = 'btn-group';\n",
       "            continue;\n",
       "        }\n",
       "\n",
       "        button = fig.buttons[name] = document.createElement('button');\n",
       "        button.classList = 'btn btn-default';\n",
       "        button.href = '#';\n",
       "        button.title = name;\n",
       "        button.innerHTML = '<i class=\"fa ' + image + ' fa-lg\"></i>';\n",
       "        button.addEventListener('click', on_click_closure(method_name));\n",
       "        button.addEventListener('mouseover', on_mouseover_closure(tooltip));\n",
       "        buttonGroup.appendChild(button);\n",
       "    }\n",
       "\n",
       "    if (buttonGroup.hasChildNodes()) {\n",
       "        toolbar.appendChild(buttonGroup);\n",
       "    }\n",
       "\n",
       "    // Add the status bar.\n",
       "    var status_bar = document.createElement('span');\n",
       "    status_bar.classList = 'mpl-message pull-right';\n",
       "    toolbar.appendChild(status_bar);\n",
       "    this.message = status_bar;\n",
       "\n",
       "    // Add the close button to the window.\n",
       "    var buttongrp = document.createElement('div');\n",
       "    buttongrp.classList = 'btn-group inline pull-right';\n",
       "    button = document.createElement('button');\n",
       "    button.classList = 'btn btn-mini btn-primary';\n",
       "    button.href = '#';\n",
       "    button.title = 'Stop Interaction';\n",
       "    button.innerHTML = '<i class=\"fa fa-power-off icon-remove icon-large\"></i>';\n",
       "    button.addEventListener('click', function (_evt) {\n",
       "        fig.handle_close(fig, {});\n",
       "    });\n",
       "    button.addEventListener(\n",
       "        'mouseover',\n",
       "        on_mouseover_closure('Stop Interaction')\n",
       "    );\n",
       "    buttongrp.appendChild(button);\n",
       "    var titlebar = this.root.querySelector('.ui-dialog-titlebar');\n",
       "    titlebar.insertBefore(buttongrp, titlebar.firstChild);\n",
       "};\n",
       "\n",
       "mpl.figure.prototype._remove_fig_handler = function (event) {\n",
       "    var fig = event.data.fig;\n",
       "    if (event.target !== this) {\n",
       "        // Ignore bubbled events from children.\n",
       "        return;\n",
       "    }\n",
       "    fig.close_ws(fig, {});\n",
       "};\n",
       "\n",
       "mpl.figure.prototype._root_extra_style = function (el) {\n",
       "    el.style.boxSizing = 'content-box'; // override notebook setting of border-box.\n",
       "};\n",
       "\n",
       "mpl.figure.prototype._canvas_extra_style = function (el) {\n",
       "    // this is important to make the div 'focusable\n",
       "    el.setAttribute('tabindex', 0);\n",
       "    // reach out to IPython and tell the keyboard manager to turn it's self\n",
       "    // off when our div gets focus\n",
       "\n",
       "    // location in version 3\n",
       "    if (IPython.notebook.keyboard_manager) {\n",
       "        IPython.notebook.keyboard_manager.register_events(el);\n",
       "    } else {\n",
       "        // location in version 2\n",
       "        IPython.keyboard_manager.register_events(el);\n",
       "    }\n",
       "};\n",
       "\n",
       "mpl.figure.prototype._key_event_extra = function (event, _name) {\n",
       "    var manager = IPython.notebook.keyboard_manager;\n",
       "    if (!manager) {\n",
       "        manager = IPython.keyboard_manager;\n",
       "    }\n",
       "\n",
       "    // Check for shift+enter\n",
       "    if (event.shiftKey && event.which === 13) {\n",
       "        this.canvas_div.blur();\n",
       "        // select the cell after this one\n",
       "        var index = IPython.notebook.find_cell_index(this.cell_info[0]);\n",
       "        IPython.notebook.select(index + 1);\n",
       "    }\n",
       "};\n",
       "\n",
       "mpl.figure.prototype.handle_save = function (fig, _msg) {\n",
       "    fig.ondownload(fig, null);\n",
       "};\n",
       "\n",
       "mpl.find_output_cell = function (html_output) {\n",
       "    // Return the cell and output element which can be found *uniquely* in the notebook.\n",
       "    // Note - this is a bit hacky, but it is done because the \"notebook_saving.Notebook\"\n",
       "    // IPython event is triggered only after the cells have been serialised, which for\n",
       "    // our purposes (turning an active figure into a static one), is too late.\n",
       "    var cells = IPython.notebook.get_cells();\n",
       "    var ncells = cells.length;\n",
       "    for (var i = 0; i < ncells; i++) {\n",
       "        var cell = cells[i];\n",
       "        if (cell.cell_type === 'code') {\n",
       "            for (var j = 0; j < cell.output_area.outputs.length; j++) {\n",
       "                var data = cell.output_area.outputs[j];\n",
       "                if (data.data) {\n",
       "                    // IPython >= 3 moved mimebundle to data attribute of output\n",
       "                    data = data.data;\n",
       "                }\n",
       "                if (data['text/html'] === html_output) {\n",
       "                    return [cell, data, j];\n",
       "                }\n",
       "            }\n",
       "        }\n",
       "    }\n",
       "};\n",
       "\n",
       "// Register the function which deals with the matplotlib target/channel.\n",
       "// The kernel may be null if the page has been refreshed.\n",
       "if (IPython.notebook.kernel !== null) {\n",
       "    IPython.notebook.kernel.comm_manager.register_target(\n",
       "        'matplotlib',\n",
       "        mpl.mpl_figure_comm\n",
       "    );\n",
       "}\n"
      ],
      "text/plain": [
       "<IPython.core.display.Javascript object>"
      ]
     },
     "metadata": {},
     "output_type": "display_data"
    },
    {
     "data": {
      "text/html": [
       "<img src=\"data:image/png;base64,iVBORw0KGgoAAAANSUhEUgAABI4AAAKoCAYAAAARTrSIAAAgAElEQVR4XuzdC7w1V13f/09A1DyhiNwCBAkUsFIBkTuFFi3yR0AFy58iVGq0CoViMGC4SBFKaYkxCKmAQCiKApaL3BXKzbaEarFSjKDFWylELiGACA93fPr66ozZ7Jxz9sw5s2evteYzr1ckec7Murx/63nM/mbN2ifhpYACCiiggAIKKKCAAgoooIACCiigwB4CJ6migAIKKKCAAgoooIACCiiggAIKKKDAXgIGR64LBRRQQAEFFFBAAQUUUEABBRRQQIE9BQyOXBgKKKCAAgoooIACCiiggAIKKKCAAgZHrgEFFFBAAQUUUEABBRRQQAEFFFBAgeEC7jgabuWdCiiggAIKKKCAAgoooIACCiigwKIEDI4WVW4nq4ACCiiggAIKKKCAAgoooIACCgwXMDgabuWdCiiggAIKKKCAAgoooIACCiigwKIEDI4WVW4nq4ACCiiggAIKKKCAAgoooIACCgwXMDgabuWdCiiggAIKKKCAAgoooIACCiigwKIEDI4WVW4nq4ACCiiggAIKKKCAAgoooIACCgwXMDgabuWdCiiggAIKKKCAAgoooIACCiigwKIEDI4WVW4nq4ACCiiggAIKKKCAAgoooIACCgwXMDgabuWdCiiggAIKKKCAAgoooIACCiigwKIEDI4WVW4nq4ACCiiggAIKKKCAAgoooIACCgwXMDgabuWdCiiggAIKKKCAAgoooIACCiigwKIEDI4WVW4nq4ACCiiggAIKKKCAAgoooIACCgwXMDgabuWdCiiggAIKKKCAAgoooIACCiigwKIEDI4WVW4nq4ACCiiggAIKKKCAAgoooIACCgwXMDgabuWdCiiggAIKKKCAAgoooIACCiigwKIEDI4WVW4nq4ACCiiggAIKKKCAAgoooIACCgwXMDgabuWdCiiggAIKKKCAAgoooIACCiigwKIEDI4WVW4nq4ACCiiggAIKKKCAAgoooIACCgwXMDgabuWdCiiggAIKKKCAAgoooIACCiigwKIEDI4WVW4nq4ACCiiggAIKKKCAAgoooIACCgwXMDgabuWdCiiggAIKKKCAAgoooIACCiigwKIEDI4WVW4nq4ACCiiggAIKKKCAAgoooIACCgwXMDgabuWdCiiggAIKKKCAAgoooIACCiigwKIEDI4WVW4nq4ACCiiggAIKKKCAAgoooIACCgwXMDgabuWdCiiggAIKKKCAAgoooIACCiigwKIEDI4WVW4nq4ACCiiggAIKKKCAAgoooIACCgwXMDgabuWdCiiggAIKKKCAAgoooIACCiigwKIEDI4WVW4nq4ACCiiggAIKKKCAAgoooIACCgwXMDgabuWdCiiggAIKKKCAAgoooIACCiigwKIEDI4WVW4nq4ACCiiggAIKKKCAAgoooIACCgwXMDgabuWdCiiggAIKKKCAAgoooIACCiigwKIEDI4WVW4nq4ACCiiggAIKKKCAAgoooIACCgwXMDgabuWdCiiggAIKKKCAAgoooIACCiigwKIEDI4WVW4nq4ACCiiggAIKKKCAAgoooIACCgwXMDgabuWdCiiggAIKKKCAAgoooIACCiigwKIEDI4WVW4nq4ACCiiggAIKKKCAAgoooIACCgwXMDgabuWdCiiggAIKKKCAAgoooIACCiigwKIEDI4WVW4nq4ACCiiggAIKKKCAAgoooIACCgwXMDgabuWdCiiggAIKKKCAAgoooIACCiigwKIEDI4WVW4nq4ACCiiggAIKKKCAAgoooIACCgwXMDgabuWdCiiggAIKKKCAAgoooIACCiigwKIEDI4WVW4nq4ACCiiwJnAG8IvADwO/NEBn7P0Dmizylvd3o7rBlkb3JOCJwHcC/2VLfdjs3gJj1/DY+3VXQAEFFFBAgcYEDI4aK6jTUUABBQoV+A7gN4EXAQ/aY4x/CHwLkEDh36z9/GuATwKfA04FTkw4x7Efisfevz7WLwEf6SyeAvzxhHOZsqkpgqPM/b8Cqf36VVJwlMDwh1YGmHF/Cng38AvAy6aELaCtsWt47P3rU3wI8BzgucC/3Gf+jwWeCpwDPK4AozmGcEvg/sBtgFsD3wi8EIj3ftc/BH4KuAPw9cAfda5Zp3v9uXjzLqC9C3AVIL+vfxk4F8ifRXtdV+9qcG/gm4BPA38APBN4+Rww9qGAAgooUJ6AwVF5NXFECiigQIsC+ZDzF8BHgdPXJnit7tfzwSfh0l3Xfn474H8Avwb8/xPjjP1QPPb+zOnPged34/47wD/qPiwmnMgHwP898ZymaG7bwdE1gPz1AeCzUwz4CG30wdGzgEuBBJU3Af5J9/f5oJ5Qo5XrG4DrAB/uArJN8xq75tfby79rvqXbXfZdwNvWbkhgnJDuT4FbAV/YNKBGft6Hp5lv5v73NwRHCZle3AU+rwA+1pkmgEpw9LA1l4RMbwKuBLy6C41uD9wZ+HXg+4C/Wnsm6z5/Bl8TeD3wPuCqwC2A9wIJAb0UUEABBRYoYHC0wKI7ZQUUUGBHAv8NyIeZG3YfYvphJAzKf8nOh5u7A/lgu/pfw8/u/gv5mcDPTzz2sR+Kx96f4CihVwKi/sr/702Q9CPArwD/fOI5TdHctoOjKcY4VRt9cHTTtRAvr9El8MgH+3yQPj5Vh5W1M3bN7zW9vPL4+10wl10wn+luugJwIZBw+B8A76zM5ijD/Vbga4H3ADcCsutyvx1HJwMfBBI8J/xJ0JbrisB/6gL1BNJvXxlQdgllTX9PFxT1P/o54Kzuz538+dNfCZh+F0iQn/A+QdHqlUD1y0eZsM8qoIACCtQrYHBUb+0cuQIKKFCbwL8F/nX3WlBel+iv/9C9vvZPu/9Cfifgv6/8/HXdh59vAy7qfj2vd/w0kHtPAf6sC2GeBnxx5dn+Fbm8/pbgKufqZFdD/gt//kv9fh+K8yEqY83ZRwkN8l/es+skH+DGnIm0V3CU4fW7qPLhLh8gcyUwS5/3BU7rXs9LcJExZ7yrVx/sxCFzvlc3tt8GHt19AFy9f7/XxvKB/v/s8YF1r+Dom4EHA3frdo3lQ29etXsBkBr2r8r05nutz/5Mo/1eVfs64CeBfwb83S6sSbCQ+r1rrcGcjZRXcPJMfp5XILOLKR/A87rTGwf+BtkvOMrj/Yfv1Cu7MbLjIx+6n7FH2/2c+g/qm9Ze6v3Qrnaxzc6ODwGv6WqeHWmrVz/fY0Bec3xAt2ZS84d3887OkJ/pfl/kQ/5LgEeu/Z7Y9prfjz07YrKr69nAv+puytiyfvPq1GO6X/t7wBOAfwzktansjEqw/OTutam+/ay/vPqWnTMJSPL79BLgP3d/NmSn3+rV1zl1zO6d/N7O7scE03vVc+DymeS27Lo6KDjKTq03d69NZuyrV4K4/LmYtfmD3Q9u3P3eTBCXoGn1yitr2f2ZP2Oz+6i/8vsnfy5nfSTA8lJAAQUUUOBvBQyOXAwKKKCAAnMJ9B9+EjT8i5VO81/PL+4+zOUsowQl/atB2ZHw8e6VioQCCSfSTl6jyGsWL+1ec8tOpQRBb+hCpv4VjP7D+1u7V8QSJuQDWv7r+aMOCI7ygTsfzPNf3fNaR/4rfP45r9ncY8Rh2puCo7R/sy78+i0gHwITcOVDXYKThEh/2X3AS4jRXwl28sE5H5Tz/8sz7+t2htmtlZ1d/2vl/imCo5xDE7MY5BWzBBj/H5APqQkEEl7kShiVD5+p4/9dO3Q8H94z9r2Co9Q69UkwlTWRACBnWv1A1+49u9do+mn1QUp2qsUwz2ZHRuqUtm67sjPjoDU+JDhKW9kZkmAnc89aW71Sg4SXqcn1ga90ZzvltZ/91l52oWUO+XmCwdQtAVU+zCcku+Na4NPPN2s/5vHJGTR5pS6/fxIeZsdJ/krQmdrE5d91gWQ/3v2Co6nW/H7WMcraSdiXUCg7aBJ4xPPbgc93c89azk6aBGi5J9ZZE/+z+3n/Ktu1u3nHJWf9ZBdTgrPMO8+lzU+sDKavc17fSptxTICS33d59WuX16bgKEFqzodbDdj68WbN58+IBGXX634xgXoC15zPtR405Zb8mZrgMqF77xnv7+0CzATXccx6zk6xhFZZ014KKKCAAgsVMDhaaOGdtgIKKLADgQQN+aCWMCH/1T9XdlnkQ0x2iORDUXZPJDxKOJMrH/ASgORDzX26D5T5kJ0PNnm15Xe6+xIU5Ayk3JNXwLIrKNfq7pcHAr+6Nu+9PkTnQ2o+XOZg5/x9/9pcPvD23wA29FvY9guOLgB+dGWnT3aQPL7bufOIlTEmFMi8Eial//5K+JLdEvlAF6v+Q10+7CVQyIfGhEf9NUVwlGAqZwCt7ujKB/zsCEtwl9dt+p1K6Xfs4djxiEuCoARmffiXMCVBWgKGrJt+rn2QkjolVOrPSsqui7yCk9cBf2zAOt8vOMqrPwl+EmhkN0vaz6uSCciya201mEsQkgBo9XDnTWsvH9yzbrPeV6/8Xvj3e7xK1M83Y8p8M65c2S2TNZMdStlt9rzu1/P77U+6nWgJPvt1vO01fxB5wtCERTnrLEFHAo4EZQlvElJkvDkPLaHZ6i677PLKK1bZlZQ/J3Jlp9nVuh1Jq30mOEwIlh2J2eXYX32ds0bzZ0d2Mg25Use9Dnjf79ms3/5VsiHt555NwVF+fyUYTVDeB6l92/2Oo/xzgqCs0+zaytlp66/J5p5+x1E+A+RcpQTpuRI+ZqdlDsHODr7VzwipWUKl/B70UkABBRRYoIDB0QKL7pQVUECBHQokAMiHwgQ/2b2RDyOv7T7I5cPjz3YHsOYbhhIQ5ANxPhjnlZanrwRB+WCY/wq/euXDUj4E5QN2Psjn6j+8Z7dCdo2sX3t9iO4/YO71VfH58JYPcWOCo9XDsa/c7XzKWBKi5TWS7JbIh9nsqMoOkvUgoTdLUNR/cOuDo1gmbFu9+oAhO38S0uWaIjjab9l8P/DKPUzGBkcZd8KafIiOyerV74ZJeJYQLVc/z/WzXRJmJVTJh918W9Wma6/DsbOjJ6FdPkivhhV9kJkAKWdu9VeCqgRWWYP92Detvf3GlbWfnTLr5930803Q8o6Vh/vdJXltMP2vfrtWH1AmsMkribm2veY3ef94F5DmvrymllcTcyUszM6f/DzhxeqVgC1BT8KNTTXNv9vm91DCm9XAp69zgr/skBt69bvjht4/9M+G1fY2BUfZVZQ/RxKW5c+O/pXduCQMz2u+uRLuxikGCd5ynlyC5dXXNvNnbG+eAC1/7ubK75nsxExgm5/n91zCx6z/vGaYkD5/Xk35rZZDTb1PAQUUUGDHAgZHOy6A3SuggAILE8hOiuyoyK6AHOqaDzE576Q/EDvnlWR3UT4cJezJbpt8gM+Hxby+kw/r53fhUr+zYpUwH5qycyFno+TqP7zn68Bznsz6tdeH6PSTgCA7H1Z31+TZnL2Ss1aGfjhc/5CVXR8f6V7ZyW6IfLjLDoDsFskHuHyQW7/y2l5eE4tNdvfkSnCUD4kZ4/o3I+XVpHwT2Or9UwRHCWTyrUo5zDs7FRKCrf57xPq3j40NjhKW5MNr5rV+9V/pvnpAeh+kZO3kVZ3VKwFDXsHJLqhNVx8o9Pdl3KlHdhTlPJ7115iyLhPKZZxZH6lf1l3uXz0zZtPaS3/f3YWjOasqu2cSBPRXdr0lpOyvfr7pL1+R3l+ZY3bqJLxL+LJ69eeKrYZN217zm7yzZhIa51WzBBOf6x7I2UzZMfUfu4BovZ3sHkuts+76K0FGnkmAml1hCT76KwFegrT+6uucVwSzE6eka1NwlLHmfLHndl6r36qWUDDrNa9IxjS7uXJlV1r+LI131kZC5Hhl/vlzJ32uWmQtJyhNQJ+gfvXqw+v1kLYkQ8eigAIKKLBFAYOjLeLatAIKKKDA5QT6Vy76ICcf4PJtVf0OoXx4zutQObA2r6bkDJ98mMmvJyDJ4dH5MJxX0vKhaP3KLoMcNp1ncvUf3hP25Myd9WuvD9H5EJ7gKTs/1q8+wBgTHO31ushquzmXJGey5BWX7N5Zv36i+zCXHS05ADdXgqPsPsjXqq9f/S6t1funCI4S1OXDe/rOWTUJwBKEJUT5oe71luzO6K+xwVEOc855KjmbZv1KvV/V1T/BWK4+SNnr32XGfCvcQWcc7TGUvz6QOV9/nm8DTLDZv2KX/03o0V+b1l5enUw9s/MsrxdmzP3rZ1mreQVvdcfMfvPd74DzjGOvs6S2veb3Mlv/tX7H3Grt+t1Rm57vn8nus7yqmXWTHTUJQ/pvvsvvmbjGpr/6Oq/uvtrU11w/HxIcZSw5eD1BWV6VzO+v7DzLn5VZRwlzE8Stht3ZjZawO8Fa/kxMKJ6ANzuKstszoWPO5sr1sW7XY/4szuuQq1eeye+7/Q6Gn8vJfhRQQAEFdiRgcLQjeLtVQAEFFiqQ3QJ5jSSv1eTsmvx9PpCsBg45hDgfZrIzKX+fQ2zzISfXYXcc5cyO1T56/m3vvtjvjKPV8s+x4yihWz5krp57lDHkMOHfG/CtatnJkF0iuTcfQvuAI23k8N3sHls3HhscHXbH0dzBUXa9xCIfrvNBPq75xr8Y9V8zH5fVb1Xba+3lsPO8fpgzavoP73kuB4InlJszOJpyl92QP9r2Co7y2lp2umSN5oyuTddvdK9hrb+umfWQOiQI2Ss4yutbq2dxbeqnhDOODhpjAuSEZDkQff3Q9v2ey3pLMJ5Avt8VmXWcHY/97s7VZ7MrNK8Pru8q3GTnzxVQQAEFGhEwOGqkkE5DAQUUqEggO3ASGmVHTL4pKN+SloOF+yuvB+UA2PyX8nxYyX9RP6/7YX9A9epXT/fP5SvNcyDsXmccjQmOpj7jaNOOo4w/58/0ZxzlQ+DqlQ/R2TlwlDOOEsokpFt/dSuvneUsnfXzdNZ37OSVlrxKt3omTT/G/nDmdeOcUZVXXNbDqjy3106YBDGpb14vSrC4emWd5Eyrvc44mjs4yrjilfFk7Wbc6365Z1NwlPAtwWheU1u9+t1VcwZHU675IX8U7RUc9QHk6u/3g9rK7/X8nslfq1d/DlVezZoiOCrhjKODHPJnZc45ym7MfjfeQff3v5fXD4/vX3Fd3anYt5M/hxMe7fWzIfX2HgUUUECBygUMjiovoMNXQAEFKhTItyLlw2F2XORbsvLNav03YmU6/bci5ed5/SIhU//taTlnp/9WtXwA+t1u/jkb5uXdeUh7favamOBojm9VWy9bfxbN+vki9+5eYRv7rWrZPbB63k5e6UnIsXoYbl7Hy30JajYFRznMPOcG9buW+l0KOYsqY8tZS+vG2fGRs3jyatD6tVdw9C+6b0LL61857Lc/uyk7IHIAeF7ny6HV/a/v6lW1zCVhWOads43yuuBqoNXPdVNwlHAs33aWOcUqV/4587rpzDuODrPm+7Bp6Gubq2tgr+AoaygmOQg6B9Ovfmtdns1Or6yl/tezpu/aWWW3Ta7saMwOxdRjquBojj9ih7yqFpfVs60yroTl/Tc95s/K1dA5Fnl1b/WctexmS0ifXVfrO92yDvNnbgK5/NnRnxuWP6OzIy2fGRJe51swvRRQQAEFFiZgcLSwgjtdBRRQoACBe3Uf7jKUvXbj9Gf+5Of5oNR/w1o/9AQgv95961pekco5SPka+pyNk7NO0n4fLmz68L7Xq2rpp/8Wr/d2feUDfQKtnO2Tbyka+mF5yKtq6S9fo50dPfkwl50m2amTD3f36z7A5YNcPtT1Vz545xDwzD1X5p0AI7sPcu5Qgo3VD955pSoHa+fDYHYn5Mrrf+/szovaFBzl/jyfdvJMxpgPkdkdk1rkbKb14Ohl3fhzMG++BSo7kPLtY/lAv1dwlPAvZ/2kvhl7DoeOe+aUn8V99eyVXQZH8UhYkQ/uORMrH67Xr01r71HdTroEYjHKB/34pvbxnHPH0WHWfNZMdqw9qNs5OOaPlr2Cozyf187e0IVHWdP5lsSTu98L8fxl+OszpnL138KWICNfU59/p81h4wnh8mdIf/5WP64+6Br7qtqYeY25N2FRDr3PlVAsv5cSivev6eV/syuov7KjKOdi5ddzDlxCtATLOdMo8+6/Ha2/P7uDnrJyHlkOc08fOQcpwWzOVFu/cn5SDilPfRLA5d4453XaHM69Op4xc/VeBRRQQIHKBQyOKi+gw1dAAQUqFMiHpHzYy+6hfKtaPqysX3l1K6+Z5MNjAoP1Kztdfrp7hSuhS87sSCiRV9pWD4fd9OF9v+AoB8nmVbkERPm2poQE+Ua4fIj9xS0ER/2Hx3w4zKHL2eGT3QPZVZGDkhNOrF79q2R5zSmHiOcblPIhLztz4plv/lq/8gH/8d0HzuweygHP+Xam2A0JjlK3fMNbAqe8HhST7JBKEJRAZz04SpCVr63P7pGEf/l3jvx9Ap+9gqOMN+e1ZDdaPvTmA352TLy9+ya7fndZP69dB0f9N+zt94rQprWXMCwHmefA9az17F7KK5g5yD3fCDd3cDR2zWeNJThLgJjXIMdc+wVHaSMWCVRykH7CjoTHH+h+LyT8SZjUX1knWe8J7vI6Zg5Qzzk8/dfVT/Gq2ph5jbm3Xx/7PbP+ezKHVuf3b84ly+/FnIOVPx8TDsVn/cq5W/kzKzv2cpZRfBJ855W0BOL7XXllMGdN3azbrZQ6n9P1NWZ+3quAAgoo0JCAwVFDxXQqCiiggAKLERjzrWGLQZl5onmlLjs4EpwkiFvSlbA2wWaCw72C3yVZOFcFFFBAAQWaFzA4ar7ETlABBRRQoEEBg6PdFjW7of6o24XRf+Pfbkc0b+/Z/ZJvNcuOnux88VJAAQUUUECBhgUMjhourlNTQAEFFGhWwOBoN6XN+Vl59SdnzeQ1rXzb3frZMrsZmb0qoIACCiiggAJbEjA42hKszSqggAIKKLBFAYOjLeIe0HTO2MmB0DnQOt+E52HBu6mDvSqggAIKKKDAjAIGRzNi25UCCiiggAIKKKCAAgoooIACCihQk4DBUU3VcqwKKKCAAgoooIACCiiggAIKKKDAjAIGRzNi25UCCiiggAIKKKCAAgoooIACCihQk4DBUU3VcqwKKKCAAgoooIACCiiggAIKKKDAjAIGRzNi25UCCiiggAIKKKCAAgoooIACCihQk4DBUU3VcqwKKKCAAgoooIACCiiggAIKKKDAjAIGRzNi25UCCiiggAIKKKCAAgoooIACCihQk4DBUU3VcqwKKKCAAgoooIACCiiggAIKKKDAjAIGRzNi25UCCiiggAIKKKCAAgoooIACCihQk4DBUU3VcqwKKKCAAgoooIACCiiggAIKKKDAjAIGRzNi25UCCiiggAIKKKCAAgoooIACCihQk4DBUU3VcqwKKKCAAgoooIACCiiggAIKKKDAjAIGRzNi25UCCiiggAIKKKCAAgoooIACCihQk4DBUU3VcqwKKKCAAgoooIACCiiggAIKKKDAjAIGRzNi25UCCiiggAIKKKCAAgoooIACCihQk4DBUU3VKnesWUdXAz5X7hAdmQIKKKCAAgoooIACCiigwAwCJwOfAE7M0JddzCBgcDQD8gK6uDpw6QLm6RQVUEABBRRQQAEFFFBAAQU2C1wD+Pjm27yjBgGDoxqqVP4YjwHHP/axj3HsWP7WSwEFFFBAAQUUUEABBRRQYGkCn/3sZ7nmNa+ZaZ8CfHZp8291vgZHrVZ23nn9dXB0/Phxg6N53e1NAQUUUEABBRRQQAEFFChGIMHRKackMzI4KqYoEwzE4GgCRJvA4MhFoIACCihQrcCdzr941rFfeOZpnHTSZf8KduLECS45+4xZx7Dtzk4974Xb7sL2FVBAAQUKFDA4KrAoEwzJ4GgCRJswOHINKKCAAgrUK2BwNH3tDI6mN7VFBRRQoAYBg6MaqjR+jAZH48184vIC7jhyVSiggAIKVCtgcDR96QyOpje1RQUUUKAGAYOjGqo0fowGR+PNfMLgyDWggAIKKNCQgMHR9MU0OJre1BYVUECBGgQMjmqo0vgxGhyNN/MJgyPXgAIKKKBAQwIGR9MX0+BoelNbVEABBWoQMDiqoUrjx2hwNN7MJwyOXAMKKKCAAg0JGBxNX0yDo+lNbVEBBRSoQcDgqIYqjR+jwdF4M58wOHINKKCAAgo0JGBwNH0xDY6mN7VFBRRQoAYBg6MaqjR+jAZH4818wuDINaCAAgoo0JCAwdH0xTQ4mt7UFhVQQIEaBAyOaqjS+DEaHI038wmDI9eAAgoooEBDAgZH0xfT4Gh6U1tUQAEFahAwOKqhSuPHaHA03qyUJ64J/BxwN+Bk4E+BfwO8phvgLYBnArcG/hJ4PvBE4K+2MIFjwPHjx49z7Fj+1ksBBRRQQIF6BAyOpq+VwdH0praogAIK1CBgcFRDlcaP0eBovFkpT7wCOA34fuAS4J8DFwA3Az4E/BHwoi4suiHwG8BzgKfuM4ETQO57/yEmaHB0CDQfUUABBRQoQ8DgaPo6GBxNb2qLCiigQA0CBkc1VGn8GA2OxpuV8sTvAb8MPG1lQJ8Bfgi4crcb6drAl7qf/yvgp7qwaa85GByVUlnHoYACCigwq4DB0fTcBkfTm9qiAgooUIOAwVENVRo/RoOj8WalPPFA4KHAA4CPAGcA/x741i4gyqtqd10Z7O2A/wGc2u1QWp/HmODoSkD+6q+8Knepr6qVsjQchwIKKKDAGAGDozFaw+41OBrm5F0KKKBAawIGR61V9G/mY3BUb11PB54N3BP4Ss4YAv4Z8HrgPwJXBe67Mr2bdK+v5X//ZI9pjwmOntS9AvdVzRgc1buYHLkCCiiwZAGDo+mrb3A0vaktKqCAAjUIGBzVUKXxYzQ4Gm9WwhNXAP4YeAfwSOCTwHcAL+92IH03sGnHUUKn7Frqr28APr1yePYHujb2mq87jkpYBY5BAQUUUGASAYOjSRi/qhGDo0s5oDQAACAASURBVOlNbVEBBRSoQcDgqIYqjR+jwdF4sxKeuHpeDQPy+tnvrAwoB2Dn29X+Z3f20XVWzjh6GPB4zzgqoXyOQQEFFFCgJAGDo+mrYXA0vaktKqCAAjUIGBzVUKXxYzQ4Gm9WyhPvBd4JnAV8CvhHwGuBM4FXdq+l5fDsvFbWf6va87pzkPaaw5hX1daf91vVSlkVjkMBBRRQYLSAwdFoso0PGBxtJPIGBRRQoEkBg6Mmy+oZRxWX9cbAzwB3BhLcfKg72+jcbk55Ve2ZwG2AvwSeD/z0yqto61M3OKp4MTh0BRRQQIHDCxgcHd5uvycNjqY3tUUFFFCgBgGDoxqqNH6M7jgab+YTlxdwx5GrQgEFFFCgWgGDo+lLZ3A0vaktKqCAAjUIGBzVUKXxYzQ4Gm/mEwZHrgEFFFBAgYYEDI6mL6bB0fSmtqiAAgrUIGBwVEOVxo/R4Gi8mU8YHLkGFFBAAQUaEjA4mr6YBkfTm9qiAgooUIOAwVENVRo/RoOj8WY+YXDkGlBAAQUUaEjA4Gj6YhocTW9qiwoooEANAgZHNVRp/BgNjsab+YTBkWtAAQUUUKAhAYOj6YtpcDS9qS0qoIACNQgYHNVQpfFjNDgab+YTBkeuAQUUUECBhgQMjqYvpsHR9Ka2qIACCtQgYHBUQ5XGj9HgaLyZTxgcuQYUUEABBRoSMDiavpgGR9Ob2qICCihQg4DBUQ1VGj9Gg6PxZj5hcOQaUEABBRRQQAEFFFBAAQUUWBMwOGpzSRgctVnXuWd1DDh+/Phxjh3L33opoIACCiiggAIKKKCAAgosTcDgqM2KGxy1Wde5Z2VwNLe4/SmggAIKKKCAAgoooIAChQkYHBVWkImGY3A0EeTCmzE4WvgCcPoKKKCAAgoooIACCiiggMFRm2vA4KjNus49K4OjucXtTwEFFFBAAQUUUEABBRQoTMDgqLCCTDQcg6OJIBfejMHRwheA01dAAQUUUEABBRRQQAEFDI7aXAMGR23Wde5ZGRzNLW5/CiiggAKjBe50/sWjn9nGAxeeeRonnXTZv4KdOHGCS84+Yxtdbb3NU8974db7sAMFFFBAgXoEDI7qqdWYkRocjdHy3v0EDI5cGwoooIACxQsYHE1fIoOj6U1tUQEFFKhZwOCo5urtP3aDozbrOvesDI7mFrc/BRRQQIHRAgZHo8k2PmBwtJHIGxRQQIFFCRgctVlug6M26zr3rAyO5ha3PwUUUECB0QIGR6PJNj5gcLSRyBsUUECBRQkYHLVZboOjNus696wMjuYWtz8FFFBAgdECBkejyTY+YHC0kcgbFFBAgUUJGBy1WW6DozbrOvesDI7mFrc/BRRQQIHRAgZHo8k2PmBwtJHIGxRQQIFFCRgctVlug6M26zr3rAyO5ha3PwUUUECB0QIGR6PJNj5gcLSRyBsUUECBRQkYHLVZboOjNus696wMjuYWtz8FFFBAgdECBkejyTY+YHC0kcgbFFBAgUUJGBy1WW6Do3Lq+l7g9JXhpDYJZB4JPB14P3Bt4Msr9/wg8OoDprCpzTx6R+Bc4ObAF4AXAY8FvjSCxuBoBJa3KqCAAgrsRsDgaHp3g6PpTW1RAQUUqFnA4Kjm6u0/doOjcut6f+BXgOsDH+mCo3OA5xxhyOttpu33AI8BLuj6ej3wxi6wGtqVwdFQKe9TQAEFFNiZgMHR9PQGR9Ob2qICCihQs4DBUc3VMziqsXpvBz4IPLAbfHYcHTU4Wm/zocCjgBuvAP0o8Azg6t0OpCF2BkdDlLxHAQUUUGCnAgZH0/MbHE1vaosKKKBAzQIGRzVXz+Cotup9G/Bu4E7Af18Jjk4Brgh8GHgJ8LPAFwdObq82H9YFRzdaaePBwHOBWwC/v0/bVwLyV3+dDFx6/Phxjh1LhuSlgAIKKKBAeQIGR9PXxOBoelNbVEABBWoWMDiquXoGR7VVL6+N3Rq41crA7wK8C/gccLvuLKLXAY8YOLm92kxglFfVHt2FRTfozky6KXBn4B37tP0k4InrPzM4GlgJb1NAAQUU2ImAwdH07AZH05vaogIKKFCzgMFRzdUzOKqpet8IXAz8OPCCAwaeg7HP714py1lFf7By70OAF6/880Ft3hV4MvAt3U6m9Pm07p/ft0//7jiqaUU5VgUUUECBvxYwOJp+IRgcTW9qiwoooEDNAgZHNVfP4Kim6uXMoZ8CrtftLtpv7Dn76JnA1QZMbmibaSo7mHJ/vuHtxIC2c4tnHA2E8jYFFFBAgd0JGBxNb29wNL2pLSqggAI1Cxgc1Vw9g6NaqncF4I+AV3avj/XjvglwHeCd3ZlGt+nOOHoTkHOKDrr2a7N/5rbARV1IdPdul9PDgZeOQDM4GoHlrQoooIACuxEwOJre3eBoelNbVEABBWoWMDiquXoGR7VU755Azi3K2UP5FrXVcCdnFOXXswvoQ92raOcO+Oaz/drs234V8J3dYdd53e0pwGtGghkcjQTzdgUUUECB+QUMjqY3Nzia3tQWFVBAgZoFDI5qrp7BUZvVK2dWBkfl1MKRKKCAAgrsI2BwNP3SMDia3tQWFVBAgZoFDI5qrp7BUZvVK2dWBkfl1MKRKKCAAgoYHM22BgyOZqO2IwUUUKAKAYOjKso0epAnjX7CBxS4vIDBkatCAQUUUKB4AXccTV8ig6PpTW1RAQUUqFnA4Kjm6u0/doOjNus696wMjuYWtz8FFFBAgdECBkejyTY+YHC0kcgbFFBAgUUJGBy1WW6DozbrOvesDI7mFrc/BRRQQIHRAgZHo8k2PmBwtJHIGxRQQIFFCRgctVlug6M26zr3rAyO5ha3PwUUUECB0QIGR6PJNj5gcLSRyBsUUECBRQkYHLVZboOjNus696wMjuYWtz8FFFBAgdECBkejyTY+YHC0kcgbFFBAgUUJGBy1WW6DozbrOvesDI7mFrc/BRRQQAEFFFBAAQUUUKAwAYOjwgoy0XAMjiaCXHgzBkcLXwBOXwEFFFBAAQUUUEABBRQwOGpzDRgctVnXuWdlcDS3uP0poIACCiiggAIKKKCAAoUJGBwVVpCJhmNwNBHkwpsxOFr4AnD6CiiggAIKKKCAAgoooIDBUZtrwOCozbrOPSuDo7nF7U8BBRRQQAEFFFBAAQUUKEzA4Kiwgkw0HIOjiSAX3ozB0cIXgNNXQAEFFFBAAQUUUEABBQyO2lwDBkdt1nXuWRkczS1ufwoooECDAnc6/+IGZ3X5KV145mmcdNJl/wp24sQJLjn7jEXM/bCTPPW8Fx72UZ9TQAEFFJhRwOBoRuwZuzI4mhG74a4MjhourlNTQAEF5hIwOJpLur5+DI7qq5kjVkCBZQoYHLVZd4OjNus696wMjuYWtz8FFFCgQQGDowaLOtGUDI4mgrQZBRRQYMsCBkdbBt5R8wZHO4JvrFuDo8YK6nQUUECBXQgYHO1CvY4+DY7qqJOjVEABBQyO2lwDBkdt1nXuWRkczS1ufwoooECDAgZHDRZ1oikZHE0EaTMKKKDAlgUMjrYMvKPmDY52BN9YtwZHjRXU6SiggAK7EDA42oV6HX0aHNVRJ0epgAIKGBy1uQYMjtqs69yzMjiaW9z+FFBAgQYFDI4aLOpEUzI4mgjSZhRQQIEtCxgcbRl4R80bHO0IvrFuDY4aK6jTUUABBXYhYHC0C/U6+jQ4qqNOjlIBBRQwOGpzDRgclVPX9wKnrwwntUkg80jg6cD1gWcDdwG+CLwMOAv4/AFT+Mzaz64AnAz8E+BVaz9L3xcBnwOuPZLF4GgkmLcroIACClxewODIVbGfgMGRa0MBBRSoQ8DgqI46jR2lwdFYsfnuvz/wK11gdAnwbuA9wEOBqwCvBd4JPGTEkB4DPAr4JuALK88lUHpbF0Ld0uBohKi3KqCAAgpMJmBwNBllcw0ZHDVXUiekgAKNChgctVlYg6Ny6/p24IPAA7tdRm8FTgM+2g35XsCvAdcA1ncW7TWrhEN/BrwE+Km1G34SuCPwOuAcg6NyF4UjU0ABBVoWMDhqubpHm5vB0dH8fFoBBRSYS8DgaC7pefsxOJrXe2hv39btMLoT8N+BRwBnAjdaaeBaXYh0+27n0aa2790FTTfsAqn+/psBbwBuBSSMGhIcXQnIX/2V198uPX78OMeO5a01LwUUUEABBcYLGByNN1vKEwZHS6m081RAgdoFDI5qr+De4zc4KrOuFwC37sKcjPAJwH26X+tHnOAmZx3dDXjLgGm8Gfh0d75Rf/vXdqHTU4BXAGcMDI6eBDxxvU+DowFV8BYFFFBAgX0FDI5cHPsJGBy5NhRQQIE6BAyO6qjT2FEaHI0V2/793whcDPw48IKuu007jr6u2zXUj+4eQF5166+/B/wh8F3dWUb9rz8VuAHwgO4XhgZH7jja/jqwBwUUUGBxAgZHiyv54AkbHA2m8kYFFFBgpwIGRzvl31rnBkdboz10wzm8OmcQXa/7hrM0lG9Sy66inHGUg7Jz3RN45cAzjn4e+MfAt66NKgdu59W1L3W/ngDqFOATwIPWwqiDJuS3qh263D6ogAIKKNALGBy5FvYTMDhybSiggAJ1CBgc1VGnsaM0OBortt37c4D1H3WB0KNXusqvJ+S5CHhY961qrwF+F3jwhiFdGfhz4HHAs9fuzTlJeV2tv+7X3Zfzji7tvmVtyIwNjoYoeY8CCiigwIECBkcuEIMj14ACCihQt4DBUd3122/0Bkdl1TW7iPLNZjkE+/1rQzu9C36y+yhnG70UOGtAuJOgKa+kZbfSpm9fG/qq2rqawVFZ68jRKKCAAlUKGBxVWbZZBu2Oo1mY7UQBBRQ4soDB0ZEJi2zA4KjIslQ3KIOj6krmgBVQQIHyBAyOyqtJKSMyOCqlEo5DAQUUOFjA4KjNFWJw1GZd556VwdHc4vangAIKNChgcNRgUSeaksHRRJA2o4ACCmxZwOBoy8A7at7gaEfwjXVrcNRYQZ2OAgoosAsBg6NdqNfRp8FRHXVylAoooIDBUZtrwOCozbrOPSuDo7nF7U8BBRRoUMDgqMGiTjQlg6OJIG1GAQUU2LKAwdGWgXfUvMHRjuAb69bgqLGCOh0FFFBgFwIGR7tQr6NPg6M66uQoFVBAAYOjNteAwVGbdZ17VgZHc4vbnwIKKNCggMFRg0WdaEoGRxNB2owCCiiwZQGDoy0D76h5g6MdwTfWrcFRYwV1OgoooMAuBAyOdqFeR58GR3XUyVEqoIACBkdtrgGDozbrOvesDI7mFrc/BRRQQAEFFFBAAQUUUKAwAYOjwgoy0XAMjiaCXHgzBkcLXwBOXwEFFFBAAQUUUEABBRQwOGpzDRgctVnXuWdlcDS3uP0poIACCiiggAIKKKCAAoUJGBwVVpCJhmNwNBHkwpsxOFr4AnD6CiiggAIKKKCAAgoooIDBUZtrwOCozbrOPSuDo7nF7U8BBRRQQAEFFFBAAQUUKEzA4Kiwgkw0HIOjiSAX3ozB0cIXgNNXQAEFFFBAAQUUUEABBQyO2lwDBkdt1nXuWRkczS1ufwoooMCMAnc6/+IZe2u/qwvPPI2TTrrsX8FOnDjBJWef0f7EC5vhqee9sLARORwFFFCgfgGDo/pruNcMDI7arOvcszI4mlvc/hRQQIEZBQyOpsU2OJrW87CtGRwdVs7nFFBAgf0FDI7aXB0GR23Wde5ZGRzNLW5/CiigwIwCBkfTYhscTet52NYMjg4r53MKKKCAwdHS1oDB0dIqvp35Ghxtx9VWFVBAgSIEDI6mLYPB0bSeh23N4Oiwcj6ngAIKGBwtbQ0YHC2t4tuZr8HRdlxtVQEFFChCwOBo2jIYHE3redjWDI4OK+dzCiiggMHR0taAwdHSKr6d+RocbcfVVhVQQIEiBAyOpi2DwdG0nodtzeDosHI+p4ACChgcLW0NGBwtreLbma/B0XZcbVUBBRQoQsDgaNoyGBxN63nY1gyODivncwoooIDB0dLWgMHR0iq+nfkaHG3H1VYVUECBIgQMjqYtg8HRtJ6Hbc3g6LByPqeAAgoYHC1tDRgclVXxmwLnAHcBrgD8KfB9wAe7Yb4fuDbw5ZVh/yDw6g3T2NTuHYFzgZsDXwBeBDwW+NJAHoOjgVDepoACCtQoYHA0bdUMjqb1PGxrBkeHlfM5BRRQwOBoaWvA4Kicit8I+B3g3wHPBz4N/P0uNPrUSnCUYOk5I4a9qd3rA+8BHgNcAOSfXw+8EXjkwH4MjgZCeZsCCihQo4DB0bRVMzia1vOwrRkcHVbO5xRQQAGDo6WtAYOjcir+K0ACmPseMKTsOBobHG1q96HAo4Abr/T7o8AzgKt3O5A2KRkcbRLy5woooEDFAgZH0xbP4Ghaz8O2ZnB0WDmfU0ABBQyOlrYGDI7KqfhHulfOEuDcCvgQ8AvAs1aGmODoFOCKwIeBlwA/C3zxgGlsavdhXXCUnUn99WDgucAtgN/fo+0rAfmrv04GLj1+/DjHjiVD8lJAAQUUaEnA4GjaahocTet52NYMjg4r53MKKKCAwdHS1oDBUTkVz7lFOVPo+4G3AHcAfh14OJBdQ7ly9tG7gM8Bt+vOInod8IgDprGp3QRGeVXt0V1YdIMuwMq5SHcG3rFH208Cnrj+6wZH5SwmR6KAAgpMKWBwNKUmGBxN63nY1gyODivncwoooIDB0dLWgMFRORX/BPBm4P4rQ8puo+sB995nmDkY+/zulbKcTfQHK/c9BHgxMKTduwJPBr6l28n0AuBp3T+/b4++3XFUzrpxJAoooMDWBQyOpiU2OJrW87CtGRwdVs7nFFBAAYOjpa0Bg6NyKp5dRh/fIzg6DbjPPsN8IPBM4GoHTOMw7WYHU849Oh04MYDIM44GIHmLAgooUKuAwdG0lTM4mtbzsK0ZHB1WzucUUEABg6OlrQGDo3Iqnl1F/wn4HuA3u1fR8s1mObz6V4GbANcB3tmdaXSb7oyjNwE5p2i/a1O7ee62wEVdSHR3IDuO8orcSwfyGBwNhPI2BRRQoEYBg6Npq2ZwNK3nYVszODqsnM8poIACBkdLWwMGR2VV/EeAxwHXBT4APB14XjfEhDsXADmTKLuAcnh2XkU7d8A3nx3Ubpp/FfCd3YHXed3tKcBrRtAYHI3A8lYFFFCgNgGDo2krZnA0redhWzM4OqyczymggAIGR0tbAwZHS6v4duZrcLQdV1tVQAEFihAwOJq2DAZH03oetjWDo8PK+ZwCCihgcLS0NWBwtLSKb2e+BkfbcbVVBRRQoAgBg6Npy2BwNK3nYVszODqsnM8poIACBkdLWwMGR0ur+Hbma3C0HVdbVUABBYoQMDiatgwGR9N6HrY1g6PDyvmcAgooYHC0tDVgcLS0im9nvgZH23G1VQUUUKAIAYOjactgcDSt52FbMzg6rJzPKaCAAgZHS1sDBkdLq/h25mtwtB1XW1VAAQWKEDA4mrYMBkfTeh62NYOjw8r5nAIKKGBwtLQ1YHC0tIpvZ74GR9txtVUFFFCgCAGDo2nLYHA0redhWzM4OqyczymggAIGR0tbAwZHS6v4duZrcLQdV1tVQAEFihAwOJq2DAZH03oetjWDo8PK+ZwCCihgcLS0NWBwtLSKb2e+BkfbcbVVBRRQQAEFFFBAAQUUUKAagc9+9rOccsopGW/+z2erGbgDPVDA4MgFMoWAwdEUirahgAIKKKCAAgoooIACClQsYHBUcfEOGLrBUZt1nXtWBkdzi9ufAgoooIACCiiggAIKKFCYgMFRYQWZaDgGRxNBLrwZg6OFLwCnr4ACCiiggAIKKKCAAgoYHLW5BgyO2qzr3LMyOJpb3P4UUEABBRRQQAEFFFBAgcIEDI4KK8hEwzE4mghy4c0YHC18ATh9BRRQQAEFFFBAAQUUUMDgqM01YHDUZl3nnpXB0dzi9qeAAgrsIXCn8y/WpQKBC888jZNOuuxfwU6cOMElZ59Rwcgd4rrAqee9UBQFFFBAgRUBg6M2l4PBUZt1nXtWBkdzi9ufAgooYHBU7RowOKq2dJcbuMFRO7V0JgooMI2AwdE0jqW1YnBUWkXqHI/BUZ11c9QKKNCYgDuO6iiowVEddRoySoOjIUreo4ACSxIwOGqz2gZHbdZ17lkZHM0tbn8KKKDAHgIGR3UsC4OjOuo0ZJQGR0OUvEcBBZYkYHDUZrUNjtqs69yzMjiaW9z+FFBAAYOjateAwVG1pbvcwA2O2qmlM1FAgWkEDI6mcSytFYOj0ipS53gMjuqsm6NWQIHGBNxxVEdBDY7qqNOQURocDVHyHgUUWJKAwVGb1TY4arOuc8/K4GhucftTQAEF9hAwOKpjWRgc1VGnIaM0OBqi5D0KKLAkAYOjNqttcNRmXeeelcHR3OL2p4ACChgcVbsGDI6qLd3lBm5w1E4tnYkCCkwjYHA0jWNprRgclVWRmwLnAHcBrgD8KfB9wAe7YV4feHb38y8CLwPOAj6/YRp3BP4dcFvgK8D/7tr4wtpzpwMXAZ8Drj2CxuBoBJa3KqCAAtsScMfRtmSnbdfgaFrPXbZmcLRLfftWQIESBQyOSqzK0cdkcHR0w6lauBHwO13A83zg08Df70KjT3VB0ruB9wAPBa4CvBZ4J/CQAwaR0OgNwCOAVwAJi74d+F/Al1eeS1D1ti6EuqXB0VRltR0FFFBgPgGDo/msj9KTwdFR9Mp61uCorHo4GgUU2L2AwdHua7CNERgcbUP1cG3+CpCdO/fd5/HsQnorcBrw0e6eewG/BlwD+Mw+z729C5cetWFYPwkkZHpdt+vJHUeHq6NPKaCAAjsTMDjaGf2ojg2ORnEVfbPBUdHlcXAKKLADAYOjHaDP0KXB0QzIA7v4CPBq4MbArYAPAb8APKt7PjuGzgSyM6m/rtWFSLfvwqH1rhJEZefSed2raTcB3t8FQy9fuflm3a6k9JswKq/LHRQcXQnIX/11MnDp8ePHOXYsXXopoIACCuxCwOBoF+rj+zQ4Gm9W6hMGR6VWxnEpoMCuBAyOdiW/3X4NjrbrO6b1vDb2JeD7gbcAdwB+HXg4kN1ITwDuA9x6pdGENznr6G7dM+v9Xa971e1jwPcA7+r+N2cj5Zn/CnxtFzo9pXuV7YwBwdGTgCeud2ZwNKbc3quAAgpML2BwNL3pNlo0ONqG6m7aNDjajbu9KqBAuQIGR+XW5igjMzg6it60z34CeDNw/5Vms9so4c+9uzOKDtpx9HXdrqH+8Xt0B13/BXAu8JiVdhNI/UnX5lOBGwAP6H4+JDhyx9G0tbc1BRRQYBIBg6NJGLfeiMHR1oln68DgaDZqO1JAgUoEDI4qKdTIYRocjQTb4u3ZZfTxPYKjnGmUnUY54yj35J8v6cZxT+CVG844SkCUc5DWg6M/Bn4CyIHbN+x2O6XZBFCnAAmyHrQWRu03fb9VbYsLw6YVUECBoQIGR0OldnufwdFu/afs3eBoSk3bUkCBFgQMjlqo4uXnYHBUTl2zq+g/da+S/SZwO+CN3Teo/erKt6pdBDys+1a11wC/Czz4gGnkbKTHA9/dhUQJm/Ltat8FXAjknKS8rtZf9wMe152zdGn3LWublAyONgn5cwUUUGAGAYOjGZAn6MLgaALEQpowOCqkEA5DAQWKETA4KqYUkw7E4GhSziM39iNdaHNd4APA04HnrbR6OvDsbvdRzjZ6KXDWgHAnQVDCpqt2r6g9GXjVPqMd8qra+qMGR0cuvQ0ooIACRxcwODq64RwtGBzNoTxPHwZH8zjbiwIK1CNgcFRPrcaM1OBojJb37idgcOTaUEABBQoQMDgqoAgDhmBwNACpklsMjioplMNUQIHZBAyOZqOetSODo1m5m+3M4KjZ0joxBRSoScDgqI5qGRzVUachozQ4GqLkPQoosCQBg6M2q21w1GZd556VwdHc4vangAIK7CFgcFTHsjA4qqNOQ0ZpcDREyXsUUGBJAgZHbVbb4KjNus49K4OjucXtTwEFFDA4qnYNGBxVW7rLDdzgqJ1aOhMFFJhGwOBoGsfSWjE4Kq0idY7H4KjOujlqBRRoTMAdR3UU1OCojjoNGaXB0RAl71FAgSUJGBy1WW2DozbrOvesDI7mFrc/BRRQYA8Bg6M6loXBUR11GjJKg6MhSt6jgAJLEjA4arPaBkdt1nXuWRkczS1ufwoooIDBUbVrwOCo2tJdbuAGR+3U0pkooMA0AgZH0ziW1orBUWkVqXM8Bkd11s1RK6CAAgoooIACCiiggAKTCRgcTUZZVEMGR0WVo9rBGBxVWzoHroACCiiggAIKKKCAAgpMI2BwNI1jaa0YHJVWkTrHY3BUZ90ctQIKKKCAAgoooIACCigwmYDB0WSURTVkcFRUOaodjMFRtaVz4AoooIACCiiggAIKKKDANAIGR9M4ltaKwVFpFalzPAZHddbNUSuggAIKKKCAAgoooIACkwkYHE1GWVRDBkdFlaPawRgcVVs6B66AAgoooIACCiiggAIKTCNgcDSNY2mtGByVVpE6x2NwVGfdHLUCCuxY4E7nX7zjEdj9LgQuPPM0Tjrpsn8FO3HiBJecfcYuhmKfBQicet4LCxiFQ1BAAQWmETA4msaxtFYMjkqrSJ3jMTiqs26OWgEFdixgcLTjAuyoe4OjHcEX2q3BUaGFcVgKKHAoAYOjQ7EV/5DBUfElqmKABkdVlMlBKqBAaQIGR6VVZJ7xGBzN41xLLwZHtVTKcSqgwBABg6MhSvXdY3BUX81KHLHBUYlVcUwKKFC8gMFR8SXaygANjrbCWm2jBkfVls6BK6DAHgIGR20uC4OjNus696wMjuYWtz8FFGhCwOCoiTKOnoTB0Wiyph8wOGq6vE5OgcUJGBy1WXKDozbrOvesDI7mFrc/BRRoQsDgqIkyjp6EwdFosqYfMDhqurxOToHFCRgctVlyg6M26zr3rAyO5ha3PwUUaELA4KiJMo6eU4sLrQAAIABJREFUhMHRaLKmHzA4arq8Tk6BxQkYHLVZcoOjNus696wMjuYWtz8FFGhCwOCoiTKOnoTB0Wiyph8wOGq6vE5OgcUJGBy1WXKDo3Lq+iTgCcDnVob0BuB+3T+/H7g28OWVn/8g8OoDprCpzTx6R+Bc4ObAF4AXAY8FvjSCxuBoBJa3KqCAAr2AwdEy14LB0TLrvt+sDY5cDwoo0JKAwVFL1bxsLgZH5dQ1Ic93A3fYZ0gJjs4BnjNiyJvavD7wHuAxwAVA/vn1wBuBR47ox+BoBJa3KqCAAgZHy14DBkfLrv/67A2OXA8KKNCSgMFRS9U0OCqxmptCnm0ERw8FHgXceAXkR4FnAFfvdiANsTI4GqLkPQoooMCagDuOlrkkDI6WWff9Zm1w5HpQQIGWBAyOWqqmwVGJ1UxwdDZwHPg88FvA44E/6Qab4OgU4IrAh4GXAD8LfPGAyWxq82FdcHSjlTYeDDwXuAXw+/u0fSUgf/XXycClx48f59ixZEheCiiggAJDBAyOhii1d4/BUXs1PcqMDI6OouezCihQmoDBUWkVmWY8vqo2jeMUrdwM+DTwAeA63Wtp39GdPfQp4C7Au7ozkG7XnUX0OuARB3S+qc0ERnlV7dFdWHSD7sykmwJ3Bt6xT9sJpJ64/jODoymWgW0ooMCSBAyOllTty+ZqcLTMuu83a4Mj14MCCrQkYHDUUjUvm4vBUbl1zY6eBEY/ALx2j2HmYOzzu1fKcjbRH6zc8xDgxXs8s1ebdwWeDHxLt5PpBcDTun9+3z487jgqd904MgUUqEjA4KiiYk04VIOjCTEbaMrgqIEiOgUFFPhbAYOjNheDwVG5df2aLjh6IPCaPYaZX38mcLURU9jUZprKDqace3Q6cGJg255xNBDK2xRQQIFVAYOjZa4Hg6Nl1n2/WRscuR4UUKAlAYOjlqp52VwMjsqp6/2BtwEfA64F/Axwt+5VtWt0r6+9szvT6DbdGUdvAnJO0X7XQW1+snvotsBFXUh0dyA7jh4OvHQEjcHRCCxvVUABBXoBg6NlrgWDo2XW3eDIuiugwBIEDI7arLLBUTl1za6iOwJXBhLq5HyhJwB5XSzhzgVAziTKLqAPda+inbvhm88OarOf+auA7+wOu87rbk/ZZ4fTQVIGR+WsI0eigAIVCRgcVVSsCYdqcDQhZgNNueOogSI6BQUU+FsBg6M2F4PBUZt1nXtWBkdzi9ufAgo0IWBw1EQZR0/C4Gg0WdMPGBw1XV4np8DiBAyO2iy5wVGbdZ17VgZHc4vbnwIKNCFgcNREGUdPwuBoNFnTDxgcNV1eJ6fA4gQMjtosucFRm3Wde1YGR3OL258CCjQhYHDURBlHT8LgaDRZ0w8YHDVdXienwOIEDI7aLLnBUZt1nXtWBkdzi9ufAgo0IWBw1EQZR0/C4Gg0WdMPGBw1XV4np8DiBAyO2iy5wVGbdZ17VgZHc4vbnwIKNCFgcNREGUdPwuBoNFnTDxgcNV1eJ6fA4gQMjtosucFRm3Wde1YGR3OL258CCjQhYHDURBlHT8LgaDRZ0w8YHDVdXienwOIEDI7aLLnBUZt1nXtWBkdzi9ufAgo0IWBw1EQZR0/C4Gg0WdMPGBw1XV4np8DiBAyO2iy5wVGbdZ17VgZHc4vbnwIKKKCAAgoooIACCihQmIDBUWEFmWg4BkcTQS68GYOjhS8Ap6+AAgoooIACCiiggAIKGBy1uQYMjtqs69yzMjiaW9z+FFBAAQUUUEABBRRQQIHCBAyOCivIRMMxOJoIcuHNGBwtfAE4fQUUUEABBRRQQAEFFFDA4KjNNWBw1GZd556VwdHc4vangAIKKKCAAgoooIACChQmYHBUWEEmGo7B0USQC2/G4GjhC8DpK6CAAgoooIACCiiggAIGR22uAYOjNus696wMjuYWtz8FFChG4E7nX1zMWBxIHQIXnnkaJ5102b+CnThxgkvOPqOOwTvKIgROPe+FRYzDQSiggALrAgZHba4Jg6M26zr3rAyO5ha3PwUUKEbA4KiYUlQzEIOjakpV7EANjootjQNTYPECBkdtLgGDozbrOvesDI7mFrc/BRQoRsDgqJhSVDMQg6NqSlXsQA2Oii2NA1Ng8QIGR20uAYOjNus696wMjuYWtz8FFChGwOComFJUMxCDo2pKVexADY6KLY0DU2DxAgZHbS4Bg6M26zr3rAyO5ha3PwUUKEbA4KiYUlQzEIOjakpV7EANjootjQNTYPECBkdtLgGDozbrOvesDI7mFrc/BRQoRsDgqJhSVDMQg6NqSlXsQA2Oii2NA1Ng8QIGR20uAYOjNus696wMjuYWtz8FFChGwOComFJUMxCDo2pKVexADY6KLY0DU2DxAgZHbS4Bg6M26zr3rAyO5ha3PwUUKEbA4KiYUlQzEIOjakpV7EANjootjQNTYPECBkdtLgGDo3Lq+iTgCcDnVob0BuB+3T9fH3g2cBfgi8DLgLOAzx8whV8C/hnwhZV7ngs8ao9nTgcu6vq/9kgWg6ORYN6ugALtCBgctVPLuWZicDSXdLv9GBy1W1tnpkDtAgZHtVdw7/EbHJVT1wRH3w3cYY8hXQF4N/Ae4KHAVYDXAu8EHrIhOPp64Ac2TDPtv60LoW4JGByVsy4ciQIKFC5gcFR4gQocnsFRgUWpbEgGR5UVzOEqsCABg6M2i21wVE5dDwqOssvorcBpwEe7Id8L+DXgGsBn9plGdhwNCY5+Ergj8DrgHIOjchaFI1FAgfIFDI7Kr1FpIzQ4Kq0i9Y3H4Ki+mjliBZYiYHDUZqUNjsqpa4Kjs4Hj3c6f3wIeD/wJ8AjgTOBGK8O9Vhci3b7bebTXTBIcfT/wZeBTXfiU1+E+snLzzYC8EncrIGHUkODoSkD+6q+TgUuPHz/OsWN5a81LAQUUWI6AwdFyaj3VTA2OppJcbjsGR8utvTNXoHQBg6PSK3S48RkcHc5tG08lwPk08AHgOl2A8x3AzbvQ6D7ArVc6TnCTs47uBrxlnwHl/j/vAqa/CzwLuCaQsClh0td2odNTgFcAZwwMjhJyPXG9T4OjbSwL21RAgdIFDI5Kr1B54zM4Kq8mtY3I4Ki2ijleBZYjYHDUZq0Njsqta4Kh7BLK+UQ33LDj6Ou6XUP9bO4BvH2PqV0P+CDwbd1B2E8FbgA8oLt3aHDkjqNy140jU0CBmQUMjmYGb6A7g6MGirjjKRgc7bgAdq+AAvsKGBy1uTgMjsqt69d0wdEDgb/odhXljKNLuiHfE3jlhjOO1md33W4HUg7A/r3uwO2EUl/qbkwAdQrwCeBBa2HUQVJ+q1q568iRKaDAlgUMjrYM3GDzBkcNFnXmKRkczQxudwooMFjA4GgwVVU3GhyVU677d99s9jEg5xf9TPcaWl5Vy86jfKvaRcDDum9Vew3wu8CD95lCDsX+HuDN3fOnA88Gsusor7DlVbX0k9fV+ut+wOO6844u7c5aGiJkcDREyXsUUKBJAYOjJsu61UkZHG2VdxGNGxwtosxOUoEqBQyOqizbxkEbHG0kmu2GBEH5ZrMrA58E3gHkIOv3dSPog598w1rONnopcNYB4U7CnP8MfCuQnUQJghIi/TTwoX1mNfRVtfXHDY5mWyZ2pIACpQkYHJVWkfLHY3BUfo1KH6HBUekVcnwKLFfA4KjN2hsctVnXuWdlcDS3uP0poEAxAgZHxZSimoEYHFVTqmIHanBUbGkcmAKLFzA4anMJGBy1Wde5Z2VwNLe4/SmgQDECBkfFlKKagRgcVVOqYgdqcFRsaRyYAosXMDhqcwkYHLVZ17lnZXA0t7j9KaBAMQIGR8WUopqBGBxVU6piB2pwVGxpHJgCixcwOGpzCRgctVnXuWdlcDS3uP0poEAxAgZHxZSimoEYHFVTqmIHanBUbGkcmAKLFzA4anMJGBy1Wde5Z2VwNLe4/SmgQDECBkfFlKKagRgcVVOqYgdqcFRsaRyYAosXMDhqcwkYHLVZ17lnZXA0t7j9KaBAMQIGR8WUopqBGBxVU6piB2pwVGxpHJgCixcwOGpzCRgctVnXuWdlcDS3uP0poEAxAgZHxZSimoEYHFVTqmIHanBUbGkcmAKLFzA4anMJGBy1Wde5Z2VwNLe4/SmgQDECBkfFlKKagRgcVVOqYgdqcFRsaRyYAosXMDhqcwkYHLVZ17lnZXA0t7j9KaCAAgoooIACCiiggAKFCRgcFVaQiYZjcDQR5MKbMTha+AJw+goooIACCiiggAIKKKCAwVGba8DgqM26zj0rg6O5xe1PAQUUUEABBRRQQAEFFChMwOCosIJMNByDo4kgF96MwdHCF4DTV0ABBRRQQAEFFFBAAQUMjtpcAwZHbdZ17lkZHM0tbn8KKKCAAgoooIACCiigQGECBkeFFWSi4RgcTQS58GYMjha+AJy+AgoooIACCiiggAIKKGBw1OYaMDhqs65zz8rgaG5x+1NgYQJ+5f3CCt74dC888zROOumyfwU7ceIEl5x9RuOzdnqtC5x63gtbn6LzU0CBAQIGRwOQKrzF4KjCohU4ZIOjAovikBRoScDgqKVqOheDI9dAiwIGRy1W1TkpMF7A4Gi8WQ1PGBzVUKXyx2hwVH6NHKECVQsYHFVdPge/JmBw5JJoUcDgqMWqOicFxgsYHI03q+EJg6MaqlT+GA2Oyq+RI1SgagGDo6rL5+ANjlwDCxAwOFpAkZ2iAgMEDI4GIFV4i8FRhUUrcMgGRwUWxSEp0JKAwVFL1XQu7jhyDbQoYHDUYlWdkwLjBQyOxpvV8ITBUQ1VKn+MBkfl18gRKlC1gMFR1eVz8GsCBkcuiRYFDI5arKpzUmC8gMHReLManjA4qqFK5Y/R4Kj8GjlCBaoWMDiqunwO3uDINbAAAYOjBRTZKSowQMDgaABShbcYHFVYtAKHbHBUYFEckgItCRgctVRN5+KOI9dAiwIGRy1W1TkpMF7A4Gi8WQ1PGBxNU6U4ngX8KHB94IPA84GnA391yC7OB84EHgo8p2vj/cC1gS+vtPmDwKsH9rFXm3n0jsC5wM2BLwAvAh4LfGlguwZHA6G8TQEFDidgcHQ4N58qU8DgqMy6OKqjCRgcHc3PpxVoRcDgqJVKfvU8DI6mqeu/Bc4Afg74M+BGwE8Avwz860N0cdeurWsCT14Ljs5Z+ecxTe/XZoKu9wCPAS7ogq/XA28EHjmwA4OjgVDepoAChxMwODqcm0+VKWBwVGZdHNXRBAyOjubn0wq0ImBw1EolDY62UcmLgXsAv7/SeHbvJHw5bWSHVwXeBdwXeBWwGhRlx9FhgqOD2syOpkcBN14ZZ3ZOPQO4ercDadMUDI42CflzBRQ4koDB0ZH4fLgwAYOjwgricCYRMDiahNFGFKhewOCo+hLuOQF3HE1T148D1wK+stLc1wAf7cKXMb28GPhj4EnAelCUfz4FuCLwYeAlwM8CX9zQwUFtPqwLjrJLqr8eDDwXuMVaGNb//EpA/uqvk4FLjx8/zrFjyZC8FFBAgWkFDI6m9bS13QoYHO3W3963I2BwtB1XW1WgNgGDo9oqNmy8BkfDnDbd9QvA7629QvYQ4NuABDNDr3/anS10++58ofXg6C7dbqTPAbfrziJ6HfCIAzrY1GYCo7yq9uguLLpBd2bSTYE7A+/Yo+2EWk9c/3WDo6Fl9j4FFBgrYHA0Vsz7SxYwOCq5Oo7tsAIGR4eV8zkF2hIwOGqrnv1sDI6mqesrgO8F/gD4P0DCl28FXrt2wPQDD+juOl0odHfgou6+Ta+m5WDsHHidV8pyVlH6768EV28b2GbOP8pZSt/S7WR6AfC07p/ft8eY3XE0zbqxFQUUGChgcDQQytuqEDA4qqJMDnKkgMHRSDBvV6BRAYOjNgtrcDRNXX9xYDM/fMB99wFeDnxq5Z5vBLK76HeA79zj2QRRzwSutk+7h2kzTWUHU849Oh04MWBunnE0AMlbFFDg8AIGR4e388nyBAyOyquJIzq6gMHR0Q1tQYEWBAyOWqji5edgcFROXb8euMbacH4LeBaQHUDfAGRX0ju7M41u051x9KYDXofb1OYlXX+37XY5JSTKjqf093DgpQN5DI4GQnmbAgocTsDg6HBuPlWmgMFRmXVxVEcTMDg6mp9PK9CKgMFRK5X86nkYHJVd19VX1RLuXADkTKIEPB8Ccuj1uQO/+ayf6V6vv+Xb27KjKa+g5XW3pwCvGUFjcDQCy1sVUGC8gMHReDOfKFfA4Kjc2jiywwsYHB3ezicVaEnA4Kilal42F4Ojaeqabzjb75Wu607TRdGtGBwVXR4Hp0D9AgZH9dfQGVwmYHDkamhRwOCoxao6JwXGCxgcjTer4QmDo2mq9ENrzVwPyFfa59vWzpmmi6JbMTgqujwOToH6BQyO6q+hMzA4cg20LWBw1HZ9nZ0CQwUMjoZK1XWfwdH26nVrIF9bn29ba/0yOGq9ws5PgR0LGBztuAB2P6mAO44m5bSxQgQMjgophMNQYMcCBkc7LsCWujc42hIsENu/6A613l4vZbRscFRGHRyFAs0KGBw1W9pFTszgaJFlb37SBkfNl9gJKjBIwOBoEFN1Nxkcba9kDwL+LXCD7XVRTMsGR8WUwoEo0KaAwVGbdV3qrAyOllr5tudtcNR2fZ2dAkMFDI6GStV1n8HRNPVaPxz7FOBk4F92X20/TS/ltmJwVG5tHJkCTQgYHDVRRifRCRgcuRRaFDA4arGqzkmB8QIGR+PNanjC4GiaKq0fjv1p4F3A+6dpvvhWDI6KL5EDVKBuAYOjuuvn6L9awODIFdGigMFRi1V1TgqMFzA4Gm9WwxMGRzVUqfwxGhyVXyNHqIACCiiggAIKKKCAAgpsVcDgaKu8O2vc4Gg6+tsDDwGuD3wAeB7w29M1X3RLBkdFl8fBKaCAAgoooIACCiiggALbFzA42r7xLnowOJpG/XuBXwNeC/wJcCPg+4D7db82TS/ltmJwVG5tHJkCCiiggAIKKKCAAgooMIuAwdEszLN3YnA0Dfn/BM4BXrHS3H2BnwJuPU0XRbdicFR0eRycAgoooIACCiiggAIKKLB9AYOj7RvvogeDo2nUPwlcHfirleauAHwCuOo0XRTdisFR0eVxcAoooIACCiiggAIKKKDA9gUMjrZvvIseDI6mUX8f8APA/1pp7tuBlwLfPE0XRbdicFR0eRycAgoooIACCiiggAIKKLB9AYOj7RvvogeDo2nUzwYeAZwH/Fl3xtEjgZ8Hzp2mi6JbMTgqujwOToHLC/j19q4KBXYncOGZp3HSSZf9K9iJEye45Owzdjcge1ZgAQKnnvfCBczSKSqwewGDo93XYBsjMDiaRjWvpZ0F/BjwTcAHgecDP7f2+to0vZXXisFReTVxRAocKGBw5AJRYHcCBke7s7fn5QoYHC239s58XgGDo3m95+rN4Ojo0l8DPL7bWfS5ozdXZQsGR1WWzUEvWcDgaMnVd+67FjA42nUF7H+JAgZHS6y6c96FgMHRLtS336fB0TTGf7GQQ7D30zI4mmYd2YoCswkYHM1GbUcKXE7A4MhFocD8AgZH85vb4zIFDI7arLvB0TR1fT3wFOC3p2muulYMjqormQNeuoDB0dJXgPPfpYDB0S717XupAgZHS628855bwOBobvF5+jM4msb5ycCDgV8C3r92rtHzpumi6FYMjoouj4NT4PICBkeuCgV2J2BwtDt7e16ugMHRcmvvzOcVMDia13uu3gyOppH+P/s0cwL4u9N0UXQrBkdFl8fBKWBw5BpQoCQBg6OSquFYliJgcLSUSjvPXQsYHO26Atvp3+BoO65La9XgaGkVd77VC7jjqPoSOoGKBQyOKi6eQ69WwOCo2tI58MoEDI4qK9jA4RocDYTawW3nA2cCDwWe0/V/feDZwF2ALwIvA84CPj9wfK8G7g3cA3jjHs+cDlwE5Nvhrj2wzdxmcDQCy1sVKEHA4KiEKjiGpQoYHC218s57lwIGR7vUt+8lCRgctVltg6Oj1fWbge8G/kPXzG8CX7fS5BnAHx2ii7sCPwdcE8j5SQmOrgC8G3hPFyZdBXgt8E7gIQP6+BHgnwJ33yc4Svtv60KoWxocDRD1FgUqFjA4qrh4Dr16AYOj6kvoBCoUMDiqsGgOuUoBg6Mqy7Zx0AZHG4kOvCGB0R8DP9/d9WngvO7vbwZ8FHj4yC6uCrwLuC/wKuCcLjjKLqO3Aqd17abZewG/BlwD+MwB/dwQ+G/AHYEP7hMc/WT389d1fbrjaGThvF2BmgQMjmqqlmNtTcDgqLWKOp8aBAyOaqiSY2xBwOCohSpefg4GR0er63uBuwEf6pr5JPCN3d9fB3gzkABpzPXiLox6UvcNbX1w9Iju1bUbrTR2rS5Eun2382ivfrKT6L8AL+i+9S0Hdq+/qpYxvgG4VRdGpc+DgqMrAfmrv04GLj1+/DjHjuWtNS8FFChdwOCo9Ao5vpYFDI5arq5zK1XA4KjUyjiu1gQMjlqr6N/Mx+DoaHW9tNvt07fyS0BeT+uvjwNXH9FFXiV7LJAg6EtrwdETgPsAt15pL+FNzjpKePWWffp5DHBn4Hu7n68HR1/bhU5PAV7RjX9TcJRQ64nr/Rkcjai0tyqwYwGDox0XwO4XLWBwtOjyO/kdCRgc7QjebhcnYHDUZskNjo5W17yadl0g/7t+/Z1uJ1L+d8iVHUp5RS1nEOWA6lzvX3lVbdOOo5ytlF1D/ZVdRX8BvKnbSfTh7gfrwdFTgRsAD+h+nuBrU3DkjqMhFfUeBQoWMDgquDgOrXkBg6PmS+wECxQwOCqwKA6pSQGDoybL6o6jI5b1d7qdN7+xRzs5fygHW6/uEDqou+wmejnwqZWb8tpbvuEs/WSXT3YV5YyjS7p77gm88oAzjn4C+Jm1YCs7oP4SeA3wz7sDt3MGUnY45UoAdQrwCeBBa2HUfuP3W9WOuJB8XIG5BQyO5ha3PwUuEzA4cjUoML+AwdH85va4TAGDozbr7o6jo9X1zO7w64REOSS7v24C5JDpfBvaMwZ28fVrr73lsd8CntWdT5TX4vKtatmN9DAg36qW8Od3gQfv08eVgRy2vXrlcOw+EMqrdDknKa+r9df9gMd1u5TS5+cHjN/gaACStyhQkoDBUUnVcCxLEzA4WlrFnW8JAgZHJVTBMSxBwOCozSobHB2trjl4OuFNzhjKrqCLgesBt+kOpP4e4CtH6GL1VbU0czrwbCDfsJazjV4KnDUw3OmHsdfh2KtDHPKq2vqUDI6OUGQfVWAXAgZHu1C3TwX+RsDgyJWgwPwCBkfzm9vjMgUMjtqsu8HR0esawx8AEhJdE/gYkFfXfhX4q6M3X0ULBkdVlMlBKnCZgMGRq0GB3QkYHO3O3p6XK2BwtNzaO/N5BQyO5vWeqzeDo7mk2+7H4Kjt+jq7BgUMjhosqlOqRsDgqJpSOdCGBAyOGiqmUylawOCo6PIcenAGR4em88EVAYMjl4MClQkYHFVWMIfblIDBUVPldDKVCBgcVVIoh1m9gMFR9SXccwIGR23Wde5ZGRzNLW5/ChxRwODoiIA+rsARBAyOjoDnowocUsDg6JBwPqbASAGDo5FgldxucFRJoQofpsFR4QVyeAqsCxgcuSYU2J2AwdHu7O15uQIGR8utvTOfV8DgaF7vuXozOJpLuu1+DI7arq+za1DA4KjBojqlagQMjqoplQNtSMDgqKFiOpWiBQyOii7PoQdncHRouss9eBXgXsA3AecCpwLx/ch0XRTbksFRsaVxYArsLWBw5MpQYHcCBke7s7fn5QoYHC239s58XgGDo3m95+rN4Gga6ZsDbwY+C1wLuDJwD+BHgPtN00XRrRgcFV0eB6eAAgoooIACCiiggAIKbF/A4Gj7xrvoweBoGvW3Aq8Hng58EvhGIDuQ3tvtQJqml3JbMTgqtzaOTAEFFFBAAQUUUEABBRSYRcDgaBbm2TsxOJqG/OPdTqOvAJ8ArtY1+yngG6bpouhWDI6KLo+DU0ABBRRQQAEFFFBAAQW2L2BwtH3jXfRgcDSN+p8Bt+lCoz44ujbwduAm03RRdCsGR0WXx8EpoIACCiiggAIKKKCAAtsXMDjavvEuejA4mkb954FrAj8G/F8godEFwCXA2dN0UXQrBkdFl8fBKaCAAgoooIACCiiggALbFzA42r7xLnowOJpGPecZvRL4R8AVgS8BvwfcDfjLaboouhWDo6LL4+AUUEABBRRQQAEFFFBAge0LGBxt33gXPRgcTav+7d2raR/pXlM7MW3zxbZmcFRsaRxYrQJ3Ov/iWofuuBVQYIPAhWeexkknXfavYCdOnOCSs8/QTQEFKhQ49bwXVjhqh6zA9gQMjrZnu8uWDY52qd9O3wZH7dTSmRQiYHBUSCEchgJbEDA42gKqTSqwIwGDox3B222xAgZHxZbmSAMzODoS398+/IJ9mvl8d+bRS4H3T9NVka0YHBVZFgdVs4DBUc3Vc+wKHCxgcOQKUaAdAYOjdmrpTKYRMDiaxrG0VgyOpqnIy4F7A+/tAqLTgZsBvwHcGLgRcC/gbdN0V1wrBkfFlcQB1S5gcFR7BR2/AvsLGBy5OhRoR8DgqJ1aOpNpBAyOpnEsrRWDo2kq8gvAu4HnrjT3YOCWwMOAx3XB0h2m6a64VgyOiiuJA6pdwOCo9go6fgUMjlwDCixBwOBoCVV2jmMEDI7GaNVzr8HRNLW6FDgV+MpKc/l2tY8C1wASrHwIuOo03RXXisFRcSVxQLULGBzVXkHHr4DBkWtAgSUIGBwtocrOcYyAwdEYrXruNTiaplZ/DnwX8Icrzd0UeCtwXeBrgUsMjqbBthUFliBgcLSEKjvHpQr4qtpSK++8WxQwOGqxqs7pKAIGR0fRK/dZg6NpavNU4AeAp3WHYd8AOAvIodh5Te37gJ8CfFVtGm/5KRiCAAAgAElEQVRbUaB5AYOj5kvsBBcsYHC04OI79eYEDI6aK6kTOqKAwdERAQt93OBomsLktbSzgR8Gvgn4IPBLwM8CXwauDFwB+MsDusvzPwZcCzgBvAf4aeA3u2fyrWzX7trrm/lB4NVHaDOP3hE4F7g58AXgRcBjgS+NoPFVtRFY3qrAEAGDoyFK3qNAnQIGR3XWzVErsJeAwZHrQoGvFjA4anNFGBxtt64Ji/5qYBc3AT4BfBxIEHU/4BeBGwIf6b6t7RzgOQPby22b2rx+F1A9BrgAyD+/Hngj8MgR/RgcjcDyVgWGCBgcDVHyHgXqFDA4qrNujloBgyPXgAKbBQyONhvVeIfB0XaqloOy861q+Ss7kMZeXwN8P/CybkfQbx8yOFrtd682Hwo8Crjxyo0/CjwDuHq3A2nI2A2Ohih5jwIjBAyORmB5qwKVCRgcVVYwh6vAAQLuOHJ5KPDVAgZHba4Ig6Np6/oPgX/VhT55Le2ZwL8Z0cWdux0/VwFSm1d2O4+yaymvqp3S7Ub6MPCS7lW4L25o/6A2H9YFRzdaaSNh13OBWwC/v0/bVwLyV3+dDFx6/Phxjh1LhuSlgAJHFTA4OqqgzytQroDBUbm1cWQKjBUwOBor5v2tCxgctVlhg6Oj1zVhzoOAhDDf2oUt2cHzLcDFh2z+73SHbefb2J7VtXEX4F3A54DbdWcRvQ54xMA+9mozgVHOUnp0FxblUO+cmZRvhEvg9I592n4S8MT1nxkcDayEtykwQMDgaACStyhQqYDBUaWFc9gK7CFgcOSyUOCrBQyO2lwRBkdHq+vPd6FRXgPLN6hlp847gewI+jbgkqM1zx9238b2qj3aycHY53evlOVsoj9YuechwIv36Xu9zbsCT+6Croz7Bd23wyX4et8+bbjj6IiF9XEFNgkYHG0S8ucK1CtgcFRv7Ry5AusCBkeuCQUMjpawBgyOjlblvEJ2KfBDwBtWmpoqOPpj4D8CORR7/Xpg9yrc1UZO4aA201R2MOXco9O7b3cb0rxnHA1R8h4FRggYHI3A8lYFKhMwOKqsYA5XgQMEDI5cHgoYHC1hDRgcHa3KD+heUfsH8Ne7g54H/ArwXuCWI3cc/Xh3ptGHgG8AfrJ7hewOwKeB63S7mXKm0W26M47e1PW/3ywOajOvveW6LXBRFxLdvdtx9PBuB9VQHYOjoVLep8BAAYOjgVDepkCFAgZHFRbNISuwj4DBkUtDAYOjJawBg6NpqpzX0nLGUXYBXbH76x7A20Y0n1fdcrj2VYHPdGFOdhq9pQt3LgByJtEJIOFSXkU7d8M3nx3UZj+0vAb3nd1h13nd7SnAa0aMO7caHI0E83YFNgkYHG0S8ucK1CtgcFRv7Ry5AusCBkeuCQUMjpawBgyOpq1yvg3th4F/CXwz8JvAd03bRZGtGRwVWRYHVbOAwVHN1XPsChwsYHDkClGgHQGDo3Zq6UymEfBw7GkcS2vF4Gh7FUlglF1I/2R7XRTTssFRMaVwIK0IGBy1UknnocDlBQyOXBUKtCNgcNROLZ3JNAIGR9M4ltaKwVFpFalzPAZHddbNURcsYHBUcHEcmgJHFDA4OiKgjytQkIDBUUHFcChFCBgcFVGGyQdhcDQ56SIbNDhaZNmd9DYFDI62qWvbCuxWwOBot/72rsCUAgZHU2raVgsCBkctVPHyczA4arOuc8/K4GhucftrXsDgqPkSO8EFCxgcLbj4Tr05AYOj5krqhI4oYHB0RMBCHzc4KrQwlQ3L4Kiygjnc8gUMjsqvkSNU4LACBkeHlfM5BcoTMDgqryaOaLcCBke79d9W7wZH25JdVrsGR8uqt7OdQcDgaAZku1BgRwIGRzuCt1sFtiBgcLQFVJusWsDgqOry7Tt4g6M26zr3rAyO5ha3PwUUUEABBRRQQAEFFFCgMAGDo8IKMtFwDI4mglx4MwZHC18ATl8BBRRQQAEFFFBAAQUUMDhqcw0YHLVZ17lnZXA0t7j9KaCAAgoooIACCiiggAKFCRgcFVaQiYZjcDQR5MKbMTha+AJw+goooIACCiiggAIKKKCAwVGba8DgqM26zj0rg6O5xe1PAQUUUEABBRRQQAEFFChMwOCosIJMNByDo4kgF96MwdHCF4DTV0ABBRRQQAEFFFBAAQUMjtpcAwZHbdZ17lkZHM0tbn+TC9zp/Isnb9MGFVBAgb0ELjzzNE466bJ/BTtx4gSXnH2GWAoooMChBU4974WHftYHFZhSwOBoSs1y2jI4KqcWNY/E4Kjm6jn2vxYwOHIhKKDAXAIGR3NJ248CyxEwOFpOrUufqcFR6RU63PgMjg7n5lNfLWBw5IqoXsDgqPoSOgEFqhEwOKqmVA5UgWoEDI6qKVXzAzU4arPEBkdt1nXuWRkczS1uf5MLGBxNTmqDCvy/9u4F3Lprvvf4NyIib9wqSCKHiJSiqm5VGgQ5SkS1qIqU07QECY1LBXWNa9C4pIK4S4uK41J3R5WSaLV1jahTnIqIW8TdGySR9zx/xmpWlrX3nnuuueccl+98npdk7znHHOPzH3n32r815lgKrCFgcOTUUECBoQUMjoYWtb2+AgZHfeXyvs7gKO/6lNI7g6NSKmU/1xQwOHJyKKDAWAIGR2NJex8F2hEwOGqn1rmP1OAo9wr165/BUT83r7qkgMGRM6J4AYOj4kvoABQoRsDgqJhS2VEFihEwOCqmVNV31OCozhIbHNVZ17FHZXA0trj3G1zA4GhwUhtUQIE1BAyOnBoKKDC0gMHR0KK211fA4KivXN7XGRzlXZ9SemdwVEql7OeaAgZHTg4FFBhLwOBoLGnvo0A7AgZH7dQ695EaHOVeoX79Mzjq57YVVx0DHAFcDdgBnAE8Cfhgutk1gRcDBwLnA28EHgH8ZJ3OPA+4O3Bl4ALgY8BjgU8tuWZf4HTgx8BemxygwdEmwTw9PwGDo/xqYo8UqFXA4KjWyjouBaYTMDiazt47X1LA4KjOGWFwlE9drwN8B/g2sDNwL+DVwH7AOSnsiTDpSOAKwNuBfwMetM4QbgB8Ffg+sCvw58BjgL2BC+euuxTwgRRC3djgKJ9JYU/GEzA4Gs/aOynQuoDBUeszwPErMLyAwdHwprbYT8DgqJ9b7lcZHOVZoUunlUKxquhWKfT5R2Af4Jupy4cAbwauAvyowzAuCxwFPDcFR9+Yu+ZR6T7vAJ5lcNRB01OqEzA4qq6kDkiBbAUMjrItjR1ToFgBg6NiS1ddxw2OqivpzwdkcJRXXW8NvDOtKIravCWtPIqVQkcD+891Nx5pixDpt9PKo7VGchjwktRmPAL3QuBhcyffEHgPcFMgwqguwdEuQPyZHbsB527fvp1t2+KpNQ8FyhMwOCqvZvZYgVIFDI5KrZz9ViBfAYOjfGvTWs8MjuqsuMFRnnW9PHAocBngRcATgT8AbjbX3QhuYq+jOwLv7zCMPYA/Bc5K+yPFJdF+PO72dOBNwOEdg6NjgScv3tPgqEMVPCVbAYOjbEtjxxSoTsDgqLqSOiAFJhcwOJq8BHYgCRgc1TkVDI7yruvngMcBsTH2eiuOYv+iWDU0Ow4GTl0ytNg76bvA7YBPAMcB1wLuk87tGhy54ijveWPveggYHPVA8xIFFOglYHDUi82LFFBgHQGDI6dHLgIGR7lUYth+GBwN6zl0a18AXgn8S1pVFHscxUbZcdwlPcrWdY+juCYCn9go+8+AN6QNt2Pz7fjEtTgigNo9bdJ9v4Uwar2x+alqQ1fe9kYXMDgandwbKtCsgMFRs6V34ApsmYDB0ZbR2vAmBQyONglWyOkGR/kUKvYxij2NvgZcEYgNqx8N3DIFPJ8CTk8bXMenqr0N+DjwwDWGcDngj1Ob3wL2BJ4J/CEw+7S12CcpHlebHfFJbn+Z9js6N33KWhchg6MuSp6TtYDBUdblsXMKVCVgcFRVOR2MAlkIGBxlUQY7ARgc1TkNDI7yqespwG2AK6VPSYuQKDaqnu1ftC/wYuDAtLdRnP+IdcKdWDkUn7oWm15HiBQrjWI/o6cBH1tj2F0fVVu83OAon3lkT3oKGBz1hPMyBRTYtIDB0abJvEABBTYQMDhyiuQiYHCUSyWG7YfB0bCerbZmcNRq5Ssat8FRRcV0KApkLmBwlHmB7J4CBQoYHBVYtEq7bHBUZ2ENjuqs69ijMjgaW9z7DS5gcDQ4qQ0qoMAaAgZHTg0FFBhawOBoaFHb6ytgcNRXLu/rDI7yrk8pvTM4KqVS9nNNAYMjJ4cCCowlYHA0lrT3UaAdAYOjdmqd+0gNjnKvUL/+GRz1c/OqSwoYHDkjihcwOCq+hA5AgWIEDI6KKZUdVaAYAYOjYkpVfUcNjuosscFRnXUde1QGR2OLe7/BBQyOBie1QQUUWEPA4MipoYACQwsYHA0tant9BQyO+srlfZ3BUd71KaV3BkelVMp+rilgcOTkUECBsQQMjsaS9j4KtCNgcNROrXMfqcFR7hXq1z+Do35uXnVJAYMjZ0TxAgZHxZfQAShQjIDBUTGlsqMKFCNgcFRMqarvqMFRnSU2OKqzrmOPyuBobHHvp4ACCiiggAIKKKCAAgpkJmBwlFlBBuqOwdFAkI03Y3DU+ARw+AoooIACCiiggAIKKKCAwVGdc8DgqM66jj0qg6Oxxb2fAgoooIACCiiggAIKKJCZgMFRZgUZqDsGRwNBNt6MwVHjE8DhK6CAAgoooIACCiiggAIGR3XOAYOjOus69qgMjsYW934KKKCAAgoooIACCiigQGYCBkeZFWSg7hgcDQTZeDMGR41PAIevgAIKKKCAAgoooIACChgc1TkHDI7qrOvYozI4Glu88vsdcMLZlY/Q4SmgQMsCpx29DzvtdPFLsB07dnDOMYe3TOLYFVCgQIE9jz+5wF7b5a0WMDjaauFp2jc4msa9trsaHNVW0YnHY3A0cQG8vQIKbKmAwdGW8tq4AgqMJGBwNBJ0YbcxOCqsYB27a3DUEcrT1hUwOHKCDCpgcDQop40poEBmAgZHmRXE7iigQC8Bg6NebNVfZHBUZ4kNjuqs69ijMjgaW7zy+xkcVV5gh6dA4wIGR41PAIevQCUCBkeVFHLgYRgcDQyaSXMGR5kUovBuGBwVXsDcum9wlFtF7I8CCgwpYHA0pKZtKaDAVAIGR1PJ531fg6O869O3dwZHfeW8bl7A4Mj5MKiAwdGgnDamgAKZCRgcZVYQu6OAAr0EDI56sVV/kcFRnSU2OKqzrmOPyuBobPHK72dwVHmBHZ4CjQsYHDU+ARy+ApUIGBxVUsiBh2FwNDBoJs0ZHGVSiMK7YXBUeAFz677BUW4VsT8KKDCkgMHRkJq2pYACUwkYHE0ln/d9DY7yrk/f3hkc9ZUb/rpnAYcA+wLnAR8CHgOcOXer+Oe9gAvnvnZf4O/X6U6Xdm8FPAf4DeCnwGuBxwIXdBymwVFHKE/rJmBw1M3JsxRQoEwBg6My62avFVDgkgIGR86IZQIGR3XOC4OjfOp6HPAm4DNABDEnAjcDrr8QHEUQdNImur1Ru9cEzkgh1cuB+Pd3Au8FHtnxPgZHHaE8rZuAwVE3J89SQIEyBQyOyqybvVZAAYMj58DGAgZHGxuVeIbBUb5Vu2EKka4OfD11M1YcbTY4WhzhYrtHAn8B/OrciQ8AXgDskVYgbaRkcLSRkN/flIDB0aa4PFkBBQoTMDgqrGB2VwEFlgq44siJsUzA4KjOeWFwlG9dY7XPo4B9gB1zwdHuwM4pTHo98FfA+ZsYxmK7R6XgaP+5Nh4IvBS4UQqvFpvfBYg/s2M34Nzt27ezbVtkSB4KrCZgcLSan1croEDeAgZHedfH3imgQDcBg6NuTq2dZXBUZ8UNjvKs60HA24F7p8fGZr08EPgE8GPgFmkvoncAD+s4jGXtRmAUj6o9OoVF10p7JsUjcrcGPrKk7WOBJy9+3eCoYxU8bUMBg6MNiTxBAQUKFjA4Krh4dl0BBf5bwODIybBMwOCoznlhcJRfXQ8G3gDEqp9TNuhebIx9QnqkLPYm+o+58x8EvG7u39drNwKlpwLXSyuZXgU8N/37fy7pgyuO8ps3VfXI4KiqcjoYBRRYEDA4ckoooEANAgZHNVRx+DEYHA1vmkOLBkc5VOHiPtwnbXx9GPCuDl2L82IT7StvcO5m240VTLHvUXzC2+wxufVu4R5HHYrlKd0FDI66W3mmAgqUJ2BwVF7N7LECCvyygMGRs2KZgMFRnfPC4Cifuj4EeAZwN+DDS7p1HWBv4N/SnkY3B2KPo/cBsU/RWsdG7cZ1vwWcnkKiOwGx4uihHVY8ze5pcJTPPKqiJwZHVZTRQSigwBoCBkdODQUUqEHA4KiGKg4/BoOj4U1zaNHgKIcq/KIPsbLnwiWfYhaPmJ2awp2XA7EnUZz7tfQo2nM2+OSzjdqNe78VuH3a8Doed3s68LZN0BgcbQLLUzcWMDja2MgzFFCgXAGDo3JrZ88VUOBiAYMjZ8MyAYOjOueFwVGddR17VAZHY4tXfj+Do8oL7PAUaFzA4KjxCeDwFahEwOCokkIOPAyDo4FBM2nO4CiTQhTeDYOjwguYW/cNjnKriP1RQIEhBQyOhtS0LQUUmErA4Ggq+bzva3CUd3369s7gqK+c180LGBw5HwYVMDgalNPGFFAgMwGDo8wKYncUUKCXgMFRL7bqLzI4qrPEBkd11nXsURkcjS1e+f0MjiovsMNToHEBg6PGJ4DDV6ASAYOjSgo58DAMjgYGzaQ5g6NMClF4NwyOCi9gbt03OMqtIvZHAQWGFDA4GlLTthRQYCoBg6Op5PO+r8FR3vXp2zuDo75yXjcvYHDkfBhUwOBoUE4bU0CBzAQMjjIriN1RQIFeAgZHvdiqv8jgqM4SGxzVWdexR2VwNLZ45fczOKq8wA5PgcYFDI4anwAOX4FKBAyOKinkwMMwOBoYNJPmDI4yKUTh3TA4KryAdl8BBRRQQAEFFFBAAQUUWFXA4GhVwTyvNzjKsy6l9crgqLSK2V8FFFBAAQUUUEABBRRQYGABg6OBQTNpzuAok0IU3g2Do8ILaPcVUEABBRRQQAEFFFBAgVUFDI5WFczzeoOjPOtSWq8MjkqrmP1VQAEFFFBAAQUUUEABBQYWMDgaGDST5gyOMilE4d0wOCq8gHZfAQUUUEABBRRQQAEFFFhVwOBoVcE8rzc4yrMupfXK4Ki0itlfBRRQQAEFFFBAAQUUUGBgAYOjgUEzac7gKJNCFN4Ng6PCCzh09w844eyhm7Q9BRRQoBqB047eh512uvgl2I4dOzjnmMOrGZ8DUUABBdYS2PP4k8WpXMDgqM4CGxzVWdexR2VwNLZ45vczOMq8QHZPAQUmFTA4mpTfmyugwIQCBkcT4o90a4OjkaBHvo3B0cjgld7O4KjSwvYdlsFRXzmvU0CBFgQMjlqosmNUQIFlAgZH9c8Lg6M6a2xwVGddxx6VwdHY4pnfz+Ao8wLZPQUUmFTA4GhSfm+ugAITChgcTYg/0q0NjkaCHvk2Bkcjg1d6O4OjSgvbd1gGR33lvE4BBVoQMDhqocqOUQEFlgkYHNU/LwyO6qyxwVGddR17VAZHY4tnfj+Do8wLZPcUUGBSAYOjSfm9uQIKTChgcDQh/ki3NjgaCXrk2xgcjQxe6e0MjiotbN9hGRz1lfM6BRRoQcDgqIUqO0YFFFgmYHBU/7wwOKqzxgZHddZ17FEZHI0tnvn9DI4yL5DdU0CBSQUMjibl9+YKKDChgMHRhPgj3drgaCTokW9jcDQy+Dq3exZwCLAvcB7wIeAxwJlz11wTeDFwIHA+8EbgEcBP1mh3V+AE4A7A3sAPgHcDjwW+veSauPfpwI+BvTZBY3C0CawWTjU4aqHKjlEBBfoKGBz1lfM6BRQoXcDgqPQKbtx/g6ONjUo8w+Aon6odB7wJ+AwQQcyJwM2A66cuXgr4FHAGcCRwBeDtwL8BD1pjGLsDTwD+Fvg8cNX0zxcCd164Jtr/QAqhbmxwlM/EKLEnBkclVs0+K6DAWAIGR2NJex8FFMhNwOAot4oM3x+Do+FNc2jR4CiHKizvww1TiHR14OtpldE/AvsA30yXxAqlNwNXAX7UcSh3TQHVbsCOuWseBdwKeAcQq59ccdQR1NN+WcDgyFmhgAIKrC1gcOTsUECBVgUMjuqvvMFRnTU2OMq3ro8EIsyJoCgCnocBRwP7z3X5ailE+u208qjLaP4auAVwy7mTI6R6D3DT9LjcRsHRLkD8mR0RQp27fft2tm2LxVIerQsYHLU+Axy/AgqsJ2Bw5PxQQIFWBQyO6q+8wVGdNTY4yrOuB6XH0O4NvDN18YnAH6TH12a9jvAm9jq6I/D+DkO5H/CStHrp4+n8y6TQ6elpJdLhHVYcHQs8efF+BkcdKtDIKQZHjRTaYSqgQC8Bg6NebF6kgAIVCBgcVVDEDYZgcFRnjQ2O8qvrwcAbgAcCp8x1b6MVR7ERdqwamh3Rzqlz/35/4PgUPsXG27Mj9la6FnCf9IUuwZErjvKbN1n1yOAoq3LYGQUUyEzA4CizgtgdBRQYTcDgaDTqyW5kcDQZ/Zbe2OBoS3k33XiENycBhwHvWrg6PkktVhXFo2vnpO/dBXhLhz2OjgEeDcT5/77Qbmy4vR9wQfp6BFCxqfZ3gFihNB9GrTUgP1Vt06Wu+wKDo7rr6+gUUGA1AYOj1fy8WgEFyhUwOCq3dl17bnDUVaqs8wyO8qnXQ4BnAHcDPrykW7NPVTsdOCp9qtrbgHjkLFYnrXXEfkURAP0u8NklJ8U+SfG42uy4F/CXab+jc9OnrG2kZHC0kVBj3zc4aqzgDlcBBTYlYHC0KS5PVkCBigQMjioq5hpDMTiqs8YGR/nUNTbAvhD46UKX5h852xd4cdqjKPY2ikfZHrFOuBPnn5lWE8X588cNgLOWDL/Lo2qLlxkc5TOPsuiJwVEWZbATCiiQqYDBUaaFsVsKKLDlAgZHW048+Q0MjiYvwZZ0wOBoS1iba9TgqLmSrz9ggyMnhAIKKLC2gMGRs0MBBVoVMDiqv/IGR3XW2OCozrqOPSqDo7HFM7+fwVHmBbJ7CigwqYDB0aT83lwBBSYUMDiaEH+kWxscjQQ98m0MjkYGr/R2BkeVFrbvsAyO+sp5nQIKtCBgcNRClR2jAgosEzA4qn9eGBzVWWODozrrOvaoDI7GFs/8fgZHmRfI7imgwKQCBkeT8ntzBRSYUMDgaEL8kW5tcDQS9Mi3MTgaGbzS2xkcVVrYvsMyOOor53UKKNCCgMFRC1V2jAoosEzA4Kj+eWFwVGeNDY7qrOvYozI4Gls88/sZHGVeILungAKTChgcTcrvzRVQYEIBg6MJ8Ue6tcHRSNAj38bgaGTwSm9ncFRpYfsOy+Cor5zXKaBACwIGRy1U2TEqoMAyAYOj+ueFwVGdNTY4qrOuY4/K4Ghsce+ngAIKKKCAAgoooIACCmQmYHCUWUEG6o7B0UCQjTdjcNT4BHD4CiiggAIKKKCAAgoooIDBUZ1zwOCozrqOPSqDo7HFvZ8CCiiggAIKKKCAAgookJmAwVFmBRmoOwZHA0E23ozBUeMTwOEroIACCiiggAIKKKCAAgZHdc4Bg6M66zr2qAyOxhb3fgoooIACCiiggAIKKKBAZgIGR5kVZKDuGBwNBNl4MwZHjU8Ah6+AAgoooIACCiiggAIKGBzVOQcMjuqs69ijMjgaW9z7KaCAAgoooIACCiiggAKZCRgcZVaQgbpjcDQQZOPNGBxVPAEOOOHsikfn0BRQQIHxBU47eh922unil2A7duzgnGMOH78j3lEBBRTIVGDP40/OtGd2ayMBg6ONhMr8vsFRmXXLrdcGR7lVZMD+GBwNiGlTCiigAGBw5DRQQAEF1hcwOCp3hhgclVu79XpucFRnXccelcHR2OIj3s/gaERsb6WAAk0IGBw1UWYHqYACKwgYHK2AN/GlBkcTF2CLbm9wtEWwjTVrcFRxwQ2OKi6uQ1NAgUkEDI4mYfemCihQkIDBUUHFWuiqwVG5tVuv5wZHddZ17FEZHI0tPuL9DI5GxPZWCijQhIDBURNldpAKKLCCgMHRCngTX2pwNHEBtuj2BkdbBNtYswZHFRfc4Kji4jo0BRSYRMDgaBJ2b6qAAgUJGBwVVKyFrhoclVu79XpucFRnXccelcHR2OIj3s/gaERsb6WAAk0IGBw1UWYHqYACKwgYHK2AN/GlBkcTF2CLbm9wtEWwjTVrcFRxwQ2OKi6uQ1NAgUkEDI4mYfemCihQkIDBUUHFWuiqwVG5tVuv5wZHedX1UOBI4EbAlYD9gDPnurgD+Anws7mv3Qb45DrDOBq4D/AbwO7AspofDhwD7At8HTgOeNUmaAyONoFV2qkGR6VVzP4qoEDuAgZHuVfI/imgwNQCBkdTV6D//Q2O+tvlfKXBUV7VuRNwFWA78NY1gqODgfduotv3SufuAbxkSXB0d+Bk4M7AR4EDgXcBEWK9veN9DI46QpV4msFRiVWzzwookLOAwVHO1bFvCiiQg4DBUQ5V6NcHg6N+brlfZXCUZ4WuB3xuoOBoNsIIht6zJDg6Bfgh8IA5itcCewJ37MhjcNQRqsTTDI5KrJp9VkCBnAUMjnKujn1TQIEcBAyOcqhCvz4YHPVzy/0qg6M8K7RecPRNYBfgLOBlwElAPMK20bFWcPTGFBzdf66B1wOx+ilWKS074v7xZ3bsBpy7fft2tm2LDMmjJgGDo5qq6VgUUCAHAYOjHKpgHxRQIGcBg6Ocq7N+3wyOyq3dej03OMqzrmsFRwcB/5z2OLoDEAHP04DndxjGWsHRYcBLgUNS27dLj6gthkPztzgWePLiPQ2OOlShwFMMjgosml1WQIGsBQyOsi6PnVNAgQwEDI4yKELPLhgc9YTL/DKDozwLtFZwtNjbJwD3AG4KxCB/Wk4AACAASURBVCbZ8Sja7Ii9kE6d+/e1gqM45aFpU+6rAx8DPgvcG9h7DR5XHOU5b7akVwZHW8Jqowoo0LCAwVHDxXfoCijQScDgqBNTlicZHGVZlpU7ZXC0MuGWNNA1OHocEJtf36RDL9YLjhYvj425Y4Pu+3ZoN05xj6OOUCWeZnBUYtXsswIK5CxgcJRzdeybAgrkIGBwlEMV+vXB4KifW+5XGRzlVaGd095B1wU+DUSA9GXgfODGwKWA04GLgNsDfwc8J/1ZaySXBuJPbHQdn5IW+xHF8dO0N9Ll0ibcscoo/vkIIFYy3QL4Qkceg6OOUCWeZnBUYtXsswIK5CxgcJRzdeybAgrkIGBwlEMV+vXB4KifW+5XGRzlVaHDgVcv6VKERJcHng1cM+1xFIFSbI79og02x166H9HcJ7btBbwX2D+1E4+3PQY4YxM0BkebwCrtVIOj0ipmfxVQIHcBg6PcK2T/FFBgagGDo6kr0P/+Bkf97XK+0uAo5+qU0zeDo3JqtemeGhxtmswLFFBAgXUFDI6cIAoooMD6AgZH5c4Qg6Nya7dezw2O6qzr2KMyOBpbfMT7GRyNiO2tFFCgCQGDoybK7CAVUGAFAYOjFfAmvtTgaOICbNHtDY62CLaxZg2OKi64wVHFxXVoCigwiYDB0STs3lQBBQoSMDgqqFgLXTU4Krd26/Xc4KjOuo49KoOjscVHvJ/B0YjY3koBBZoQMDhqoswOUgEFVhAwOFoBb+JLDY4mLsAW3d7gaItgG2vW4KjighscVVxch6aAApMIGBxNwu5NFVCgIAGDo4KKtdBVg6Nya7dezw2O6qzr2KMyOBpbfMT7GRyNiO2tFFCgCQGDoybK7CAVUGAFAYOjFfAmvtTgaOICbNHtDY62CLaxZg2OKi64wVHFxXVoCigwiYDB0STs3lQBBQoSMDgqqFgLXTU4Krd26/Xc4KjOuo49KoOjscW9nwIKKKCAAgoooIACCiiQmYDBUWYFGag7BkcDQTbejMFR4xPA4SuggAIKKKCAAgoooIACBkd1zgGDozrrOvaoDI7GFvd+CiiggAIKKKCAAgoooEBmAgZHmRVkoO4YHA0E2XgzBkeNTwCHr4ACCiiggAIKKKCAAgoYHNU5BwyO6qzr2KMyOBpb3PspoIACCiiggAIKKKCAApkJGBxlVpCBumNwNBBk480YHDU+ARy+AgoooIACCiiggAIKKGBwVOccMDiqs65jj8rgaEDxA044e8DWbEoBBRRQIDeB047eh512uvgl2I4dOzjnmMNz66b9UUABBZoW2PP4k5sef9/BGxz1lcv7OoOjvOtTSu8MjgaslMHRgJg2pYACCmQoYHCUYVHskgIKKLAgYHDUb0oYHPVzy/0qg6PcK1RG/wyOBqyTwdGAmDalgAIKZChgcJRhUeySAgooYHA0yBwwOBqEMbtGDI6yK0mRHTI4GrBsBkcDYtqUAgookKGAwVGGRbFLCiiggMHRIHPA4GgQxuwaMTjKriRFdsjgaMCyGRwNiGlTCiigQIYCBkcZFsUuKaCAAgZHg8wBg6NBGLNrxOAou5IU2SGDowHLZnA0IKZNKaCAAhkKGBxlWBS7pIACChgcDTIHDI4GYcyuEYOj7EpSZIcMjgYsm8HRgJg2pYACCmQoYHCUYVHskgIKKGBwNMgcMDgahDG7RgyOsitJkR0yOBqwbAZHA2LalAIKKJChgMFRhkWxSwoooIDB0SBzwOBoEMbsGjE4yqskhwJHAjcCrgTsB5w518X4+onAzYAfAK8AngxctM4wng4cDNwA+CZwrXXOvTvwFuAUIPrS9TA46irV4TyDow5InqKAAgoULGBwVHDx7LoCCjQjsOfxJzcz1iEHanA0pGY+bRkc5VOL6MmdgKsA24G3LgRHlwc+D7w2hUURKr0bOAk4bp1h/BnwbeAmwOHrBEd7Av8KfAX4qsHRdBPD4Gg6e++sgAIKjCFgcDSGsvdQQAEFVhMwOOrnZ3DUzy33qwyO8qzQ9YDPLQRHfwI8D9gLuCB1+yHA44B9OgzjwcBj1wmO3gG8L61muqzBUQfRLTrF4GiLYG1WAQUUyETA4CiTQtgNBRRQYB0Bg6N+08PgqJ9b7lcZHOVZoWXB0fPTI2wHzXX5FmmVUKwWOmeDoawXHB0BHAbcAXg1sFFwtAsQf2bHbsC527dvZ9u2eGrNYxUBg6NV9LxWAQUUyF/A4Cj/GtlDBRRQwOCo3xwwOOrnlvtVBkd5VmhZcPTKtO/RPee6fJ30+Fr8/xd7Bkf7A6cBt0r7Kb2mQ3B0bHpc7hK3NDgaZjIZHA3jaCsKKKBArgIGR7lWxn4poIACFwsYHPWbDQZH/dxyv8rgKM8K9VlxdEfgpXPDic2wz5r792Urji4FnAr8zdy1XYIjVxxt4bwxONpCXJtWQAEFMhAwOMqgCHZBAQUU2EDA4KjfFDE46ueW+1UGR3lWaK09jp4L7D23x9FRwONX2OMoPrntu2nz7JnE5YCYFz8Erp0+vW0jJT9VbSOhTXzf4GgTWJ6qgAIKFChgcFRg0eyyAgo0J2Bw1K/kBkf93HK/yuAorwrtnPYOui7waSACpC8D5wO7p8fSYnVQPCo2+1S1lwHPXGcYsToo2n0AcAzwa+ncn6SAaHFj7diAe1cgNt6OT1fb0YHI4KgDUtdTDI66SnmeAgooUKaAwVGZdbPXCijQloDBUb96Gxz1c8v9KoOjvCp0eNqcerFXtwf+KW2OfSJw87QS6BXAk4CL1hlGPHoWn8i2eKxV+y6Pqi22ZXA04DwyOBoQ06YUUECBDAUMjjIsil1SQAEFFgQMjvpNCYOjfm65X2VwlHuFyuifwdGAdTI4GhDTphRQQIEMBQyOMiyKXVJAAQUMjgaZAwZHgzBm14jBUXYlKbJDBkcDls3gaEBMm1JAAQUyFDA4yrAodkkBBRQwOBpkDhgcDcKYXSMGR9mVpMgOGRwNWDaDowExbUoBBRTIUMDgKMOi2CUFFFDA4GiQOWBwNAhjdo0YHGVXkiI7ZHA0YNkMjgbEtCkFFFAgQwGDowyLYpcUUEABg6NB5oDB0SCM2TVicJRdSYrskMHRgGUzOBoQ06YUUECBDAUMjjIsil1SQAEFDI4GmQMGR4MwZteIwVF2JSmyQwZHA5bN4GhATJtSQAEFMhQwOMqwKHZJAQUUMDgaZA4YHA3CmF0jBkfZlaTIDhkcDVg2g6MBMW1KAQUUyFDA4CjDotglBRRQwOBokDlgcDQIY3aNGBxlV5IiO2RwVGTZ7LQCCiiggAIKKKCAAgooMJyAwdFwljm1ZHCUUzXK7YvBUbm1s+cKKKCAAgoooIACCiigwCACBkeDMGbXiMFRdiUpskMGR0WWzU4roIACCiiggAIKKKCAAsMJGBwNZ5lTSwZHOVWj3L4YHJVbO3uugAIKKKCAAgoooIACCgwiYHA0CGN2jRgcZVeSIjtkcFRk2ey0AgoooIACCiiggAIKKDCcgMHRcJY5tWRwlFM1yu2LwVG5tbPnCiiggAIKKKCAAgoooMAgAgZHgzBm14jBUXYlKbJDVQRHB5xwdpH4dloBBRRQoCyB047eh512uvgl2I4dOzjnmMPLGoS9VUABBRTYEoE9jz95S9odq1GDo7Gkx72PwdG43rXezeCo1so6LgUUUECBwQUMjgYntUEFFFCgGgGDo2pKWdVADI6qKudkgzE4mozeGyuggAIKlCZgcFRaxeyvAgooMJ6AwdF41t6pu4DBUXcrz1xbwODI2aGAAgoooEBHAYOjjlCepoACCjQoYHDUYNELGLLBUQFFKqCLBkcFFMkuKqCAAgrkIWBwlEcd7IUCCiiQo4DBUY5VsU8GR86BIQQMjoZQtA0FFFBAgSYEDI6aKLODVEABBXoJGBz1YvOiLRYwONpi4EaaNzhqpNAOUwEFFFBgdQGDo9UNbUEBBRSoVcDgqNbKlj0ug6Oy65dL7w2OcqmE/VBAAQUUyF7A4Cj7EtlBBRRQYDIBg6PJ6L3xOgIGR3lNj6jHscARwBWBTwIPAT6durkD+Anws7lu3yadt9ZIdgWeCxwKXBb4MHAUcObcBYcDxwD7Al8HjgNetQkag6NNYHmqAgoooEDbAgZHbdff0SuggALrCRgcOT9yFDA4yqsqEd48HLgL8Hng8SlEui7wfSCCo4OB926i2y8CDgTuCnwHOAG4BfCbwIXA3YGTgTsDH03nvisFTW/veB+Do45QnqaAAgoooIDBkXNAAQUUUGAtAYMj50aOAgZHeVXlS8CJaYVQ9Gxn4KvAE4GX9wiOYoVRhEX3A96chnrltKoogqR/AE4Bfgg8YI7itcCewB078hgcdYTyNAUUUEABBQyOnAMKKKCAAgZHzoGSBAyO8qlWPJr2PeC2wKlz3Xp3eqwsHi+LFUffBHYBzgJeBpyUvr5sJLGq6FPANYGvzJ3wH8BrgOcAb0zB0f3nvv964E7AHmvwxP3jz+zYDTh3+/btbNsWGVKZxwEnnF1mx+21AgoooEBRAgZHRZXLziqggAKjCrjiaFRub9ZRwOCoI9QIp10jhUE3Aj4zd7/XpWDovsBBwD+nPY7uAETA8zTg+Wv0L/Y/ij2NrpDCodlpHwE+CDwBOAx4KXBIavt2QDyithgOzd8i9mF68uI9DY5GmCXeQgEFFFCgeAGDo+JL6AAUUECBLRMwONoyWhteQcDgaAW8gS/tsuJo8ZYR/NwDuCkQIdF75k6IvZB+0GHFUVzyUOBI4OrAx4DPAvcG9l5jjK44Grj4NqeAAgoo0I6AwVE7tXakCiigwGYFDI42K+b5YwgYHI2h3P0escfRC4HnpUtij6N4fupJaY+jxZYeB9wLuMkat5jtcRSrld6SzvkV4Btps+zY42jZ8VZgOxDXdTnc46iLkucooIACCigAGBw5DRRQQAEF1hIwOHJu5ChgcJRXVeJT1R4296lqEQw9GIhPVbs2cCngdOAi4PbA36V9imKvorWO+FS1WI30e2mj7BcAt5z7VLXLAfulVUbxz0ekR9jik9e+0JHH4KgjlKcpoIACCihgcOQcUEABBRQwOHIOlCRgcJRXtaIeT0nhTTy69on0GFlscB3Bz7PTRtc/A76cNseOYCg2zV7r2DWtYDoUiH+OjbfjsbQz0wV7Ae8F9k/txPcfA5yxCRqDo01geaoCCiigQNsCBkdt19/RK6CAAusJuOLI+ZGjgMFRjlUpr08GR+XVzB4roIACCkwkYHA0Eby3VUABBQoQMDgqoEgNdtHgqMGib8GQDY62ANUmFVBAAQXqFDA4qrOujkoBBRQYQsDgaAhF2xhawOBoaNE22zM4arPujloBBRRQoIeAwVEPNC9RQAEFGhEwOGqk0IUN0+CosIJl2l2Do0wLY7cUUEABBfITMDjKryb2SAEFFMhFwOAol0rYj3kBgyPnwxACBkdDKNqGAgoooEATAgZHTZTZQSqggAK9BAyOerF50RYLGBxtMXAjzRscNVJoh6mAAgoosLqAwdHqhraggAIK1CpgcFRrZcsel8FR2fXLpfcGR7lUwn4ooIACCmQvYHCUfYnsoAIKKDCZgMHRZPTeeB0BgyOnxxACVQRHQ0DYhgIKKKCAAgoooIACCijQqsB5553H7rvvHsOP/zmvVYfaxm1wVFtFpxmPwdE07t5VAQUUUEABBRRQQAEFFMhGwOAom1IM2hGDo0E5m23M4KjZ0jtwBRRQQAEFFFBAAQUUUOAXAgZHdc4Eg6M66zr2qAyOxhb3fgoooIACCiiggAIKKKBAZgIGR5kVZKDuGBwNBNl4MwZHjU8Ah6+AAgoooIACCiiggAIKGBzVOQcMjuqs69ijMjgaW9z7KaCAAgoooIACCiiggAKZCRgcZVaQgbpjcDQQZOPNFBEcHXDC2Y2XyeEroIACCuQgcNrR+7DTThe/BNuxYwfnHHN4Dl2zDwoooIACmQvsefzJWffQ4Cjr8vTunMFRbzovnBMwOHI6KKCAAgoo0FHA4KgjlKcpoIACCvySgMGRk2IKAYOjKdTru6fBUX01dUQKKKCAAlskYHC0RbA2q4ACCjQgYHDUQJEzHKLBUYZFKbBLBkcFFs0uK6CAAgpMI2BwNI27d1VAAQVqEDA4qqGK5Y3B4Ki8muXYY4OjHKtinxRQQAEFshQwOMqyLHZKAQUUKELA4KiIMlXXSYOj6ko6yYAMjiZh96YKKKCAAiUKGByVWDX7rIACCuQhYHCURx1a64XBUWsV35rxGhxtjautKqCAAgpUKGBwVGFRHZICCigwkoDB0UjQ3uYSAgZHToghBAyOhlC0DQUUUECBJgQMjpoos4NUQAEFtkTA4GhLWG10AwGDo7ymSNTjWOAI4IrAJ4GHAJ9O3bwRcCJwM+AHwCuAJwMXrTOMX0nXHAJE++9ObX5nyTV3B94CnAIcugkag6NNYHmqAgoooEDbAgZHbdff0SuggAKrCBgcraLntX0FDI76ym3NdccADwfuAnweeHwKka6bwqH42mtTWLRfCoFOAo5bpzvvAiLY+aPUxuvTuXdauGZP4F+BrwBfNTjamgLbqgIKKKCAAgZHzgEFFFBAgb4CBkd95bxuFQGDo1X0hr/2S2l10HNT0zunEOeJwPnA84C9gAvS92M10uOAfdboyr7AmcDNgY+nc34dOAOIMOoLc9e9A3hfWs10WYOj4YtriwoooIACCoSAwZHzQAEFFFCgr4DBUV85r1tFwOBoFb1hr41H074H3BY4da7peLQswp+fAvGo2kFz37tFWiUUq4XOWdKd3wfeBFwG2DH3/e3AnwJvTF+LR+MOA+4AvBrYKDjaBYg/s2M34Nzt27ezbVssbsrzOOCEs/PsmL1SQAEFFGhKwOCoqXI7WAUUUGBQAYOjQTltrKOAwVFHqBFOuwZwVgqHPjN3v9el0CeCoysB95z73nXSI23x/19c0sf7AS8A9lj4XjyKFnsjxR5J+8ebn8CtUkD1mg7BUezDFNdf4jA4GmGWeAsFFFBAgeIFDI6KL6EDUEABBSYTMDiajL7pGxsc5VP+VVcc3RF46dxwbgDcZIMVR7EaKVY3/c3ctV2CI1cc5TNv7IkCCiigQGECBkeFFczuKqCAAhkJGBxlVIyGumJwlFexY4+jF6a9jKJnscdRPF/1pLTHUex9tPfcHkdHpQ20N9rjKD6F7RNpqBEofTbtcfQt4LvAt+cYLpc+fe2HwLXTp7dtpOSnqm0k5PcVUEABBRRIAgZHTgUFFFBAgb4CBkd95bxuFQGDo1X0hr82PlXtYXOfqhYbXz84hTw/S4+lxeqgeFRs9qlqLwOeuU5X4lPVZnsWXZQ+lS0Cqd9NAdFi6BQbcO8KxMbb8Ujb/N5Ia93G4Gj4uWCLCiiggAKVChgcVVpYh6WAAgqMIGBwNAKyt/glAYOjvCZF1OMpQGxWHY+uxSqhhwKfSt2MzbFPTJ+S9oO0R1GsRopAaK3jyumaQ1JQFJttRyg0v8po/touj6ot3svgKK95ZG8UUEABBTIWMDjKuDh2TQEFFMhcwOAo8wJV2j2Do0oLO/KwDI5GBvd2CiiggALlChgclVs7e66AAgpMLWBwNHUF2ry/wVGbdR961AZHQ4vangIKKKBAtQIGR9WW1oEpoIACWy5gcLTlxN5giYDBkdNiCAGDoyEUbUMBBRRQoAkBg6MmyuwgFVBAgS0RMDjaElYb3UDA4MgpMoSAwdEQirahgAIKKNCEgMFRE2V2kAoooMCWCBgcbQmrjRocOQdGEDA4GgHZWyiggAIK1CFgcFRHHR2FAgooMIWAwdEU6t7TFUfOgSEEDI6GULQNBRRQQIEmBAyOmiizg1RAAQW2RMDgaEtYbXQDAYMjp8gQAgZHQyjahgIKKKBAEwIGR02U2UEqoIACWyJgcLQlrDZqcOQcGEGgiOBoBAdvoYACCiiggAIKKKCAAgo0K3Deeeex++67x/jjf85rFqKygbviqLKCTjQcg6OJ4L2tAgoooIACCiiggAIKKJCLgMFRLpUYth8GR8N6ttraz4Ojb33rW2zbFv/ooYACCiiggAIKKKCAAgoo0JpABEdXvepVY9iuOKqo+AZHFRVzwqHsAZw74f29tQIKKKCAAgoooIACCiigQD4CVwG+nU937MkqAgZHq+h57Uwg5tGVgR9L0ktgtxS8xV+uGvYiLPoi6190+VbqvLVfia/4i61/8SXsPQBr35uuigutfxVl7DWIlmofY/0OsKOXlBdlJ2BwlF1J7FCDAj9/1M/lnA1W/hdDtv7Nlt7at1t6/9u39v7cb3gO+HO/3eJb+3ZrX/zIDY6KL6EDqEDAHyIVFHGFIVj/FfAKv9TaF17AFbtv/VcELPhya19w8QbouvUfALHQJqx9oYWz22Bw5CxQYHoBf4hMX4Mpe2D9p9Sf9t7Wflr/qe9u/aeuwHT3t/bT2edwZ+ufQxWm6YO1n8bduw4gYHA0AKJNKLCiwC7A44FnABes2JaXlydg/cur2VA9tvZDSZbZjvUvs25D9NraD6FYbhvWv9zardpza7+qoNdPJmBwNBm9N1ZAAQUUUEABBRRQQAEFFFBAAQXyFjA4yrs+9k4BBRRQQAEFFFBAAQUUUEABBRSYTMDgaDJ6b6yAAgoooIACCiiggAIKKKCAAgrkLWBwlHd97J0CCiiggAIKKKCAAgoooIACCigwmYDB0WT03lgBBRRQQAEFFFBAAQUUUEABBRTIW8DgKO/62Lv2BH4TeBmwP3AZ4Bzg5PSJaxe1x9HUiO8CPBKIORCfuvEF4JnAW5tSaHew+wAnpvpfC3gqcGy7HFWPPF57RW2PAK4IfBJ4CPDpqkft4ELgUOBI4EbAlYD9gDOlaULgWcAhwL7AecCHgMdY/yZqH4M8Jv2dfzVgB3AG8CTgg80IONDiBQyOii+hA6hM4MrAHsB/AT9LAdK7gJOAF1Q2VodzSYE/Bn4CfAD4AXBP4G+BOwAfEat6gb1TzU8HTgDeZnBUbc3jF4iHAxEWfx54fPqF4rrA96sdtQMLgTsBVwG2pzcFDI7amRfHAW8CPgNsS28U3Ay4fjsETY/0OsB3gG8DOwP3Al6dwuNvNC3j4IsRMDgqplR2tFGBWHn0DuDDwIMbNWh52B8D3gzEC06PdgQ+CrzX4Kjagn8p/dL43DTC+CXiq8ATgZdXO2oHNi9wPeBzrjhqelLcMIVIVwe+3rREe4O/NHB34I3ArYD4me+hQPYCBkfZl8gONioQqw7i3edd0y8U8S7lZxu1aHXY/yOtRrhHChFadWhx3AZH9VY9Hk37HnBb4NS5Yb47PbJyVL1Dd2RzAgZHTod4NP1RQDymHI8uedQvcGvgncAVgPgd/C1p5ZFbUdRf+ypGaHBURRkdRAECsXdJ7GGx1vFlIPY1mT/iHYlbAncF4p3pbxUwTrv4ywJ9ah+/XMYja18E7i1q0QJ96m9wVHTJ1+38NYCz0h438cjK7Hhd+uXxvvUO3ZHNCRgctT0dDgLenn6+R5Dg0ZbA5dN+Z7GX6YvaGrqjLVnA4Kjk6tn3kgR2B3Zbp8Oxn9F31/h+bJ74O8DvlzRg+/rfAputfex/8R4gwsTDgPO1LFpgs/WPwRocFV3ydTvviqN6a7uZkRkcbUarrnMPBt4APBA4pa6hOZpNCsTjqo/zQ1A2qebpkwkYHE1G740V6CzwBCDehY4Xmh51C8RqhPcB/5I2y41A0aM9AYOjumseexy9EHheGmbscXR2+oQd9ziqu/az0RkctVHnxVHeJ33YSbwpFB984tG2QHx67iuB+MQ9DwWyFzA4yr5EdrAxgbsBXwNij6N45vnA9M7UyelZ+MY4mhrurwH/kDbDjr0P3POgqfL/fLCXTUOOj2mOufD09OmKF7RHUfWI41PVHjb3qWrxjnN8+EHsaxf7H3nUKxAh4S6p1p9ObwjF6tJYWeo+J/XWPUYW2xU8A4jXefGBJx5tCfx52tMoXuPHytPY3+rRaUuKT7RF4WhLFTA4KrVy9rtWgT9JP0j2Tb8wxrvQrweeDVxY66Ad188F4mNZD08f0zxP8lo/Ua+ZGbIsLIzQOOaFRz0C8drrKWlVYfwCEb80PBT4VD1DdCRrCMR/y/F3/eJxe+CfVKtaIP5+j9dxP10YZTy6Nr9RftUIDQ8uHku8DXAl4EfpDeJYafT+hk0cemECBkeFFczuKqCAAgoooIACCiiggAIKKKCAAmMJGByNJe19FFBAAQUUUEABBRRQQAEFFFBAgcIEDI4KK5jdVUABBRRQQAEFFFBAAQUUUEABBcYSMDgaS9r7KKCAAgoooIACCiiggAIKKKCAAoUJGBwVVjC7q4ACCiiggAIKKKCAAgoooIACCowlYHA0lrT3UUABBRRQQAEFFFBAAQUUUEABBQoTMDgqrGB2VwEFFFBAAQUUUEABBRRQQAEFFBhLwOBoLGnvo4ACCiiggAIKKKCAAgoooIACChQmYHBUWMHsrgIKKKCAAiMIHAvcGbjlCve6JvAfwE2Bz6/QTpdL3wO8HvjbdPIO4GDgvV0uHvCcMIu+bMXrq28AjwVeM2B/55t6HnBfYBtwe+DfB7jPHwNPBfZPbUXfLwscmv79TOBZwEnAmPMlbn8v4MHAQQOM0yYUUECB0gTi7+EjgRsBVwL2A+Lv5K5H/L0ePzcOAHYGPpt+Rp3WtQHPK0tgK17YlCVgbxVQQAEFFMhLIH65jl+4fwpEAHIucArwROCCkbq62eBos+cPOYzfA44DfiN5RdsGR5sTvhXwYeDawFc2d+mmzl4vONpUQwOd/EngacBbBmrPZhRQQIFSBO4EXAXYDry1R3D0MeBs4E+A81JodEx6E+B7pSDYz+4CBkfdrTxTAQUUUECBMQQWf7n+rbSK5YXAU8boALDZIGiz5w85jA8Bbwb+eq7RXIOjywDn9xz8Vq44ipVGxwN79exb18tyC46OsVaEmQAADs1JREFUSiFtvGPuoYACCrQocD3gc0uCo3jtEStCfxP4SQrYY9VrhERxfB/4s/TzN/49QqhvATcHPt4iZO1jNjiqvcKOTwEFFFCgNIHFX66j/xGM7ALcDYgXec8H4kVdrEqKR6PiXb7vpoH+U3pELF7ExaNT3wZeAJyQvn874IPAbunFYHx58WuLQVA80vPQ9E5ivGh8P/BI4Jz0buPL01L1H6d7/AHwReBLwPWB/5u+fjjwqNROrGyJZe6vTN+7Vjo/3r18GPBrwH8B8cv9Wkvfrwp8M93jP+cKHcHR0cA904vYrwOPTu+qxmnLgq7Fr4XjZ4DLA7+frF8GPGnuPvGY03OBXwXOAP53CmBmr69mbcYjc0ek0CgeB7gu8FfAb6e2/gF4RFpdNnsB/mLgjsAP04v3uO/sUbUrAvH93wV2TddFey9ZY7Lvk6wPTI/RxeqiqF/UIMLIxwARakVtw3P2aNl8c7OxxHyL+XA54BXJ8kXAXYEfpLkYK+TiiHrHLx6zQGq94GhW/yHnS8zr56S59LM0n+LxjJibccQKq/8HhM/XSvuLwv4qoIACAwgsC47iZ9Qn0s/fvwP2SCuf42f5g9I943XHrVN49CPgcekx5Hj0LV6beFQmYHBUWUEdjgIKKKBA8QLzv1zHz+lbAO+aC3/ihVsEFPEiLUKNeFEXL9JiT584IvCIvYkOA96e9h94J/CnwJuWhERxzUbB0d3T/gXxC/f/SPc/K+0TE9cvC2IWg4AIcU4Goq0PABFi/D3wQOANwOz8CDViBUyssImALMKyfeceQ5svcARjMcYIPeaPCI5if6U/TPsr/UV61O8aQCyh7xoc3SyN8X3A76TALZwjOIs+RVgVbUegdAPgbenr88HRE4Bnpj+xD0Ts8RN9i7FFoBfBT1wfe0zEowNxRNB0aeA+KdyLPYDuDTwg7XH09LR3VIQgEdZE8LFneqG/+B9A3DMeKfhCsg6baO+GwE2AC5cEPMv+Iwqzx6fwKlZ3xaOBH01jidArVn7FfhnPTnMknFcJjoaYL/EYxZOBV6dgM/ocYVm8Kz474heeeDQ0auehgAIKtCawLDiKN5ri50r8DJ0d8TP7/6R98C5KeyPFz5J41DmC+fh7Nd40+tfWAFsZr8FRK5V2nAoooIACpQhEcBShT6z+iBdnsQIkAp9YGRIb+sbqjggJZvsdxS/Dp88tM4/gKJaQxyqZ2RG/6Mc7iBG09FlxtGgX4U/0M1a+xNElOIoXnLFJ9p/PNRardSKciT7NgqP/CfxjOifCjVj1s9aKkHCKscXqqvkjwpEIWWarmWJ1TKzciUeS/nkTwVGEDPebazgCmNgPJ4KgCO4izIll/LMjVvHEmOaDo1idc/VUyzgvQpYIKmI5/+yIECo2JY1QLvr+1RQMxR48ccS7vbHXVYR/4R6rjw5JlvFIQLxoX+uIF/Ux5lidFW3EESFVrESLFVMxXxYDnmVtRY3j/tHX2REbaEcIFqvE4tgdiCAm3oX+yIrB0RDzJVasRSgZK7HW2rsprGP/sFetY+i3FFBAgVoFlgVHsbI0PiQhHlGbHfFzLd7oiBWpsS9S/P0aq43jjYw47x7p3+PnbPzc9qhMwOCosoI6HAUUUECB4gWWPao2G1Q8bhVhyY3nRhmPnEXIFO8GxmqdCAI+BTx87pz451jZE6ti+gRH8YIwHjGLR7JixcylUkgQ/xyrnboERxEwxMqaWGUzO2KFSix3j0eGlj2qtOxr8wVeb8XR4qeqze971HXFUayoicfDZkfYzr4WYcTe6R3W2ffj3dbYZHQ+OLpLWjU2Oyeuu//cPhGzr4flHVIIFPf4lbQ6avb9WMETdYz5ETWPx8tiNVbYRd0j/Pj0ktn/R3Mrmua/HYFk2P/NJoKjxU/am/eYtT3vvMqKoyHmy68Df5l+AYq9pSKAjRVIsz06os+uOCr+r0wHoIACKwgsC45mqzT/1xrtxhs+8UbK1RZWcMbf2/GGTbyB4lGZgMFRZQV1OAoooIACxQusFxzFo0snpj1jZiuOZqtyZh+lG7/MR8gQIcbsiFU5sWdQPAo1e8E3vwIlVsC8dm7fo/lgJVbBfDmFC/GLd+xjFCuOYuXNbJ+kWAETAUk8Ijc7FkOfZStIYkPmWHkzv+Jofo+bjYKjeNEaj7TFC99YzbQsvFj2tXi8LFbPhN3siHdOY/XWbAzLQpH5r8WKowhl5kO8ZSuOFsOWCC5ipc9t15ipsTopVsHEY2QRAMaxuOJo/tIrpE+VixVI4bV4zFYcxaqsWGUUR6wU+06PFUdjBkdDz5eYI+8AXpeCznCI/2biXXP3OFpjMvplBRSoViAeY469E2M1crzpEH9Hxs/6CNlvmh7Njv2M4md9fC1eC8Trh3hzZFs6N94MekZ6AyleF8Sj87E3X/ys9KhMwOCosoI6HAUUUECB4gXWC44iJIg9juLFWawwiUewXp8eg4qNkuOIF2yx6XLsfxN7G8XePLFHUjy69cZ0TQQTEdrEI1exYiX2TIpHrmZB0HxwNHs3craC5zrpl+/YnHt2fmz8HI/SxRL22QbZi6FPPGYXjwPFI3SxH85t0r4yseooxtBnxVGMN1bbRP/jU+dmx7JPVZv/Wtw7nGYvcGNJfmxAHrZdg6MIHeKTaOLRs9gkOgKv2CcnxrG4OfZ8oBb7LMWL9Kem62LJfzx6GOFZPFYVR+ypFP2NQC9WdMVG2BEazvY4ipVGEXhEf2P1V7xwj1Vhyza1jl8OYpPT6Gv8EhDtRnsReEU4FQFk10fVxgyOVp0v4RN+MfdjE/cI5OIRyJhrT0vOMffiUcT4b8RDAQUUaEkg/t6PlUWLR/w8jJ+P8aZO/F0ZIVKsiI094+Jn1OzvzwiRjkvfjwAqHreOFcXL2mzJtdqxGhxVW1oHpoACCihQqMB6wVEMKR6/iU8jixd1ESrERsrxyNFsNcnip6rFypLY6DI2Y54dETzEp3DFO4ixj06swogwYVlwFNfE41rxSWcRVMXeBfHiMdqcnR+BVoQ30acIKmJj4/i0qsVPVYtHtGJVToQn8SI0XmTGO5Zx9A2Ofi8FYPFJLhGKxLFRcBTnRPAWn9gW75xGwBaPbkWA0DU4ijYirIsALgKbcFnrU9Xmg6O4Lt7hjX0hYi+I2OA87h0rbOKT6+KIlVRRj9jvKfZmihfn85+qFrV4SFopE3MgahiPEs72RFqc+uEdcyZWOcVrv1NTHeLd5ThyDI6iX6vMlwiO4p3y2Fw+ahz7fsU75eE027cjArUI3SI09FBAAQUUUECBNQQMjpwaCiiggAIK1CWw7BGrukb4y6OJjTwj/IrH7TwU6CIQK5pixVHsK+WhgAIKKKCAAusIGBw5PRRQQAEFFKhLoMXgqK4KOhoFFFBAAQUUUCAjAYOjjIphVxRQQAEFFBhAwOBoAESbUEABBRRQQAEFFPiFgMGRM0EBBRRQQAEFFFBAAQUUUEABBRRQYKmAwZETQwEFFFBAAQUUUEABBRRQQAEFFFDA4Mg5oIACCiiggAIKKKCAAgoooIACCijQXcAVR92tPFMBBRRQQAEFFFBAAQUUUEABBRRoSsDgqKlyO1gFFFBAAQUUUEABBRRQQAEFFFCgu4DBUXcrz1RAAQUUUEABBRRQQAEFFFBAAQWaEjA4aqrcDlYBBRRQQAEFFFBAAQUUUEABBRToLmBw1N3KMxVQQAEFFFBAAQUUUEABBRRQQIGmBAyOmiq3g1VAAQUUUEABBRRQQAEFFFBAAQW6CxgcdbfyTAUUUEABBRRQQAEFFFBAAQUUUKApAYOjpsrtYBVQQAEFFFBAAQUUUEABBRRQQIHuAgZH3a08UwEFFFBAAQUUUEABBRRQQAEFFGhKwOCoqXI7WAUUUEABBRRQQAEFFFBAAQUUUKC7gMFRdyvPVEABBRRQQAEFFFBAAQUUUEABBZoSMDhqqtwOVgEFFFBAAQUUUEABBRRQQAEFFOguYHDU3cozFVBAAQUUUEABBRRQQAEFFFBAgaYEDI6aKreDVUABBRRQQAEFFFBAAQUUUEABBboLGBx1t/JMBRRQQAEFFFBAAQUUUEABBRRQoCkBg6Omyu1gFVBAAQUUUEABBRRQQAEFFFBAge4CBkfdrTxTAQUUUEABBRRQQAEFFFBAAQUUaErA4KipcjtYBRRQQAEFFFBAAQUUUEABBRRQoLuAwVF3K89UQAEFFFBAAQUUUEABBRRQQAEFmhIwOGqq3A5WAQUUUEABBRRQQAEFFFBAAQUU6C5gcNTdyjMVUEABBRRQQAEFFFBAAQUUUECBpgQMjpoqt4NVQAEFFFBAAQUUUEABBRRQQAEFugsYHHW38kwFFFBAAQUUUEABBRRQQAEFFFCgKQGDo6bK7WAVUEABBRRQQAEFFFBAAQUUUECB7gIGR92tPFMBBRRQQAEFFFBAAQUUUEABBRRoSsDgqKlyO1gFFFBAAQUUUEABBRRQQAEFFFCgu4DBUXcrz1RAAQUUUEABBRRQQAEFFFBAAQWaEjA4aqrcDlYBBRRQQAEFFFBAAQUUUEABBRToLmBw1N3KMxVQQAEFFFBAAQUUUEABBRRQQIGmBAyOmiq3g1VAAQUUUEABBRRQQAEFFFBAAQW6CxgcdbfyTAUUUEABBRRQQAEFFFBAAQUUUKApAYOjpsrtYBVQQAEFFFBAAQUUUEABBRRQQIHuAgZH3a08UwEFFFBAAQUUUEABBRRQQAEFFGhKwOCoqXI7WAUUUEABBRRQQAEFFFBAAQUUUKC7gMFRdyvPVEABBRRQQAEFFFBAAQUUUEABBZoSMDhqqtwOVgEFFFBAAQUUUEABBRRQQAEFFOguYHDU3cozFVBAAQUUUEABBRRQQAEFFFBAgaYEDI6aKreDVUABBRRQQAEFFFBAAQUUUEABBboLGBx1t/JMBRRQQAEFFFBAAQUUUEABBRRQoCkBg6Omyu1gFVBAAQUUUEABBRRQQAEFFFBAge4CBkfdrTxTAQUUUEABBRRQQAEFFFBAAQUUaErA4KipcjtYBRRQQAEFFFBAAQUUUEABBRRQoLvA/wfOJ0ZqeGN8agAAAABJRU5ErkJggg==\" width=\"863.7037647179332\">"
      ],
      "text/plain": [
       "<IPython.core.display.HTML object>"
      ]
     },
     "metadata": {},
     "output_type": "display_data"
    }
   ],
   "source": [
    "%matplotlib notebook\n",
    "from matplotlib import animation, rc\n",
    "from IPython.display import HTML\n",
    "\n",
    "def barlist(n): \n",
    "    return [1/float(n*k) for k in range(1,6)]\n",
    "\n",
    "fig=plt.figure(figsize=(12,7))\n",
    "\n",
    "n=200 #Number of frames\n",
    "x=range(1,6)\n",
    "barcollection = plt.bar(x,barlist(1))\n",
    "\n",
    "def animate(i):\n",
    "    year = 1960 + i\n",
    "    region = \"World\"\n",
    "    df = generate_ppy_df(pop_df, region, year)\n",
    "    p = sns.barplot(x='Population, total female',y='Age',data=df,order=ageAxis,lw=0,color='tomato')\n",
    "    p = sns.barplot(x='Population, total male',y='Age',data=df,order=ageAxis,lw=0,color='dodgerblue')\n",
    "    p.axvline(lw=3.5, color='w')\n",
    "    p.set_title(\"{r} Population Pyramid, Year = {y}\".format(r=region, y=year), fontdict={'fontsize':14,'fontweight':3}, pad=15)                 \n",
    "    p.set(xlabel=\"Population (hundreds of millions)\", ylabel=\"Age Group\");\n",
    "\n",
    "anim=animation.FuncAnimation(fig,animate,frames=n,interval=100)"
   ]
  },
  {
   "cell_type": "code",
   "execution_count": null,
   "metadata": {},
   "outputs": [],
   "source": []
  }
 ],
 "metadata": {
  "history": [
   {
    "code": "!pip install wbdata\n\nimport wbdata",
    "id": "503a2a0675634712ab00207445461b00",
    "idx": 0,
    "time": "2021-01-25T23:35:43.163Z",
    "type": "execution"
   },
   {
    "id": "503a2a0675634712ab00207445461b00",
    "time": "2021-01-25T23:35:47.100Z",
    "type": "completion"
   },
   {
    "code": "import wbdata\n\n# Return list of all country/region codes:\nwbdata.get_country()\n\n# Return list matching a query term:\nwbdata.search_countries(\"World\")\n\n## Try your own search!\nwbdata.search_countries(\"\")",
    "id": "9e6e96f4d08b46a58d3356ade04a3324",
    "idx": 1,
    "time": "2021-01-25T23:36:39.924Z",
    "type": "execution"
   },
   {
    "id": "9e6e96f4d08b46a58d3356ade04a3324",
    "time": "2021-01-25T23:36:40.373Z",
    "type": "completion"
   },
   {
    "code": "import wbdata\n\n# Return list of all country/region codes:\nwbdata.get_country()\n\n# Return list matching a query term:\nwbdata.search_countries(\"World\")\n\n## Try your own search!\nwbdata.search_countries(\"China\")",
    "id": "9e6e96f4d08b46a58d3356ade04a3324",
    "idx": 1,
    "time": "2021-01-25T23:37:04.665Z",
    "type": "execution"
   },
   {
    "id": "9e6e96f4d08b46a58d3356ade04a3324",
    "time": "2021-01-25T23:37:05.093Z",
    "type": "completion"
   },
   {
    "code": "import wbdata\n\n# Return list of all country/region codes:\nwbdata.get_country()\n\n# Return list matching a query term:\nwbdata.search_countries(\"World\")\n\n## Try your own search!\nwbdata.search_countries(\"\")",
    "id": "9e6e96f4d08b46a58d3356ade04a3324",
    "idx": 1,
    "time": "2021-01-25T23:41:17.559Z",
    "type": "execution"
   },
   {
    "id": "9e6e96f4d08b46a58d3356ade04a3324",
    "time": "2021-01-25T23:41:17.656Z",
    "type": "completion"
   },
   {
    "code": "import wbdata\n\n# Return list of all country/region codes:\nwbdata.get_country()\n\n# Return list matching a query term:\nwbdata.search_countries(\"World\")\n\n## Try your own search!\nwbdata.search_countries(\"CEA\")",
    "id": "9e6e96f4d08b46a58d3356ade04a3324",
    "idx": 1,
    "time": "2021-01-25T23:41:26.249Z",
    "type": "execution"
   },
   {
    "id": "9e6e96f4d08b46a58d3356ade04a3324",
    "time": "2021-01-25T23:41:26.552Z",
    "type": "completion"
   },
   {
    "code": "import wbdata\n\n# Return list of all country/region codes:\nwbdata.get_country()\n\n# Return list matching a query term:\nwbdata.search_countries(\"World\")\n\n## Try your own search!\nwbdata.search_countries(\"East Asia\")",
    "id": "9e6e96f4d08b46a58d3356ade04a3324",
    "idx": 1,
    "time": "2021-01-25T23:41:58.690Z",
    "type": "execution"
   },
   {
    "id": "9e6e96f4d08b46a58d3356ade04a3324",
    "time": "2021-01-25T23:41:58.891Z",
    "type": "completion"
   },
   {
    "code": "wbdata.get_source()",
    "id": "90782f9d5ae94e8c87be0c638218d58e",
    "idx": 2,
    "time": "2021-01-25T23:43:10.820Z",
    "type": "execution"
   },
   {
    "id": "90782f9d5ae94e8c87be0c638218d58e",
    "time": "2021-01-25T23:43:11.188Z",
    "type": "completion"
   },
   {
    "code": "SOURCE = 40 # \"Population estimates and projections\n\nindicators = wbdata.get_indicator(source=SOURCE)\nindicators",
    "id": "3b4742e6ef134e5d80b6674e028c0a6d",
    "idx": 3,
    "time": "2021-01-25T23:46:54.429Z",
    "type": "execution"
   },
   {
    "id": "3b4742e6ef134e5d80b6674e028c0a6d",
    "time": "2021-01-25T23:46:54.640Z",
    "type": "completion"
   },
   {
    "code": "!pip install cufflinks # IF NECESSARY\nimport cufflinks as cf\ncf.go_offline()",
    "id": "edf3e3c7fe95478f934dcf8427721a78",
    "idx": 4,
    "time": "2021-01-25T23:47:42.490Z",
    "type": "execution"
   },
   {
    "id": "edf3e3c7fe95478f934dcf8427721a78",
    "time": "2021-01-25T23:47:47.847Z",
    "type": "completion"
   },
   {
    "code": "import wbdata\n\n# Return list of all country/region codes:\nwbdata.get_country()\n\n# Return list matching a query term:\nwbdata.search_countries(\"World\")\n\n## Try your own search!\nwbdata.search_countries(\"China\")",
    "id": "9e6e96f4d08b46a58d3356ade04a3324",
    "idx": 1,
    "time": "2021-01-25T23:49:27.418Z",
    "type": "execution"
   },
   {
    "id": "9e6e96f4d08b46a58d3356ade04a3324",
    "time": "2021-01-25T23:49:27.556Z",
    "type": "completion"
   },
   {
    "code": "import wbdata\n\n# Return list of all country/region codes:\nwbdata.get_country()\n\n# Return list matching a query term:\nwbdata.search_countries(\"World\")\n\n## Try your own search!\nwbdata.search_countries(\"Mongolia\")",
    "id": "9e6e96f4d08b46a58d3356ade04a3324",
    "idx": 1,
    "time": "2021-01-25T23:52:43.948Z",
    "type": "execution"
   },
   {
    "id": "9e6e96f4d08b46a58d3356ade04a3324",
    "time": "2021-01-25T23:52:44.381Z",
    "type": "completion"
   },
   {
    "code": "import wbdata\n\n# Return list of all country/region codes:\nwbdata.get_country()\n\n# Return list matching a query term:\nwbdata.search_countries(\"World\")\n\n## Try your own search!\nwbdata.search_countries(\"nORTH kOREA\")",
    "id": "9e6e96f4d08b46a58d3356ade04a3324",
    "idx": 1,
    "time": "2021-01-25T23:53:17.375Z",
    "type": "execution"
   },
   {
    "id": "9e6e96f4d08b46a58d3356ade04a3324",
    "time": "2021-01-25T23:53:17.535Z",
    "type": "completion"
   },
   {
    "code": "import wbdata\n\n# Return list of all country/region codes:\nwbdata.get_country()\n\n# Return list matching a query term:\nwbdata.search_countries(\"World\")\n\n## Try your own search!\nwbdata.search_countries(\"North Korea\")",
    "id": "9e6e96f4d08b46a58d3356ade04a3324",
    "idx": 1,
    "time": "2021-01-25T23:53:23.147Z",
    "type": "execution"
   },
   {
    "id": "9e6e96f4d08b46a58d3356ade04a3324",
    "time": "2021-01-25T23:53:23.366Z",
    "type": "completion"
   },
   {
    "code": "import wbdata\n\n# Return list of all country/region codes:\nwbdata.get_country()\n\n# Return list matching a query term:\nwbdata.search_countries(\"World\")\n\n## Try your own search!\nwbdata.search_countries(\"Korea\")",
    "id": "9e6e96f4d08b46a58d3356ade04a3324",
    "idx": 1,
    "time": "2021-01-25T23:53:29.993Z",
    "type": "execution"
   },
   {
    "id": "9e6e96f4d08b46a58d3356ade04a3324",
    "time": "2021-01-25T23:53:30.067Z",
    "type": "completion"
   },
   {
    "code": "import wbdata\n\n# Return list of all country/region codes:\nwbdata.get_country()\n\n# Return list matching a query term:\nwbdata.search_countries(\"World\")\n\n## Try your own search!\nwbdata.search_countries(\"Japan\")",
    "id": "9e6e96f4d08b46a58d3356ade04a3324",
    "idx": 1,
    "time": "2021-01-25T23:54:12.781Z",
    "type": "execution"
   },
   {
    "id": "9e6e96f4d08b46a58d3356ade04a3324",
    "time": "2021-01-25T23:54:12.956Z",
    "type": "completion"
   },
   {
    "code": "import numpy as np\n\nvariable_labels = {\"SP.POP.TOTL\":\"Population\"}\n\n# Three letter codes come from wbdata.get_country()\ncountries = {\"EAS\":\"East Asia & Pacific\",\n             \"CHN\": \"China\",\n             \"HKG\": \"Hong Kong SAR, China\",\n             \"MAC\": \"Macao SAR, China\"\n             \"TWN\": \"Taiwan, China\"\n             \"MNG\": \"Mongolia\",\n             \"PRK\": \"North Korea\",\n             \"KOR\": \"South Korea\",\n             \"JPN\":\"Japan\"\n            }\n\ndf = wbdata.get_dataframe(variable_labels, country = countries).squeeze()\n\ndf = df.unstack('country')\n# Date index is of type string; change to integers\ndf.index = df.index.astype(int)\n\n# Differences (over time) in logs give us growth rates\nnp.log(df).diff().iplot(title=\"Fact II: Poorer places have higher growth rates\",\n                        yTitle=\"Growth Rate\",xTitle='Year')",
    "id": "04ac5e0c01b54303b07a4e5b6a9074f8",
    "idx": 5,
    "time": "2021-01-25T23:54:19.095Z",
    "type": "execution"
   },
   {
    "id": "04ac5e0c01b54303b07a4e5b6a9074f8",
    "time": "2021-01-25T23:54:19.859Z",
    "type": "completion"
   },
   {
    "code": "import numpy as np\n\nvariable_labels = {\"SP.POP.TOTL\":\"Population\"}\n\n# Three letter codes come from wbdata.get_country()\ncountries = {\"EAS\":\"East Asia & Pacific\",\n             \"CHN\": \"China\",\n             \"HKG\": \"Hong Kong SAR, China\",\n             \"MAC\": \"Macao SAR, China\",\n             \"TWN\": \"Taiwan, China\",\n             \"MNG\": \"Mongolia\",\n             \"PRK\": \"North Korea\",\n             \"KOR\": \"South Korea\",\n             \"JPN\":\"Japan\"\n            }\n\ndf = wbdata.get_dataframe(variable_labels, country = countries).squeeze()\n\ndf = df.unstack('country')\n# Date index is of type string; change to integers\ndf.index = df.index.astype(int)\n\n# Differences (over time) in logs give us growth rates\nnp.log(df).diff().iplot(title=\"Fact II: Poorer places have higher growth rates\",\n                        yTitle=\"Growth Rate\",xTitle='Year')",
    "id": "04ac5e0c01b54303b07a4e5b6a9074f8",
    "idx": 5,
    "time": "2021-01-25T23:54:27.212Z",
    "type": "execution"
   },
   {
    "id": "04ac5e0c01b54303b07a4e5b6a9074f8",
    "time": "2021-01-25T23:54:28.409Z",
    "type": "completion"
   },
   {
    "code": "import numpy as np\n\nvariable_labels = {\"SP.POP.TOTL\":\"Population\"}\n\n# Three letter codes come from wbdata.get_country()\ncountries = {\"EAS\":\"East Asia & Pacific\",\n             \"CHN\": \"China\",\n             #\"HKG\": \"Hong Kong SAR, China\",\n             #\"MAC\": \"Macao SAR, China\",\n             #\"TWN\": \"Taiwan, China\",\n             \"MNG\": \"Mongolia\",\n             \"PRK\": \"North Korea\",\n             \"KOR\": \"South Korea\",\n             \"JPN\":\"Japan\"\n            }\n\ndf = wbdata.get_dataframe(variable_labels, country = countries).squeeze()\n\ndf = df.unstack('country')\n# Date index is of type string; change to integers\ndf.index = df.index.astype(int)\n\n# Differences (over time) in logs give us growth rates\nnp.log(df).diff().iplot(title=\"Fact II: Poorer places have higher growth rates\",\n                        yTitle=\"Growth Rate\",xTitle='Year')",
    "id": "04ac5e0c01b54303b07a4e5b6a9074f8",
    "idx": 5,
    "time": "2021-01-25T23:56:04.586Z",
    "type": "execution"
   },
   {
    "id": "04ac5e0c01b54303b07a4e5b6a9074f8",
    "time": "2021-01-25T23:56:06.125Z",
    "type": "completion"
   },
   {
    "code": "import numpy as np\n\nvariable_labels = {\"SP.POP.TOTL\":\"Population\"}\n\n# Three letter codes come from wbdata.get_country()\ncountries = {\"EAS\":\"East Asia & Pacific\",\n             \"CHN\": \"China\",\n             \"HKG\": \"Hong Kong SAR, China\",\n             \"MAC\": \"Macao SAR, China\",\n             \"TWN\": \"Taiwan, China\",\n            }\n\ndf = wbdata.get_dataframe(variable_labels, country = countries).squeeze()\n\ndf = df.unstack('country')\n# Date index is of type string; change to integers\ndf.index = df.index.astype(int)\n\n# Differences (over time) in logs give us growth rates\nnp.log(df).diff().iplot(title=\"Fact II: Poorer places have higher growth rates\",\n                        yTitle=\"Growth Rate\",xTitle='Year')",
    "id": "4da3e0bb8f7041908a19c3dab1e7647f",
    "idx": 6,
    "time": "2021-01-25T23:59:35.130Z",
    "type": "execution"
   },
   {
    "id": "4da3e0bb8f7041908a19c3dab1e7647f",
    "time": "2021-01-25T23:59:39.122Z",
    "type": "completion"
   },
   {
    "code": "import numpy as np\n\nvariable_labels = {\"SP.POP.TOTL\":\"Population\"}\n\n# Three letter codes come from wbdata.get_country()\ncountries = {\"CHN\": \"China\",\n             \"HKG\": \"Hong Kong SAR, China\",\n             \"MAC\": \"Macao SAR, China\",\n             \"TWN\": \"Taiwan, China\",\n            }\n\ndf = wbdata.get_dataframe(variable_labels, country = countries).squeeze()\n\ndf = df.unstack('country')\n# Date index is of type string; change to integers\ndf.index = df.index.astype(int)\n\n# Differences (over time) in logs give us growth rates\nnp.log(df).diff().iplot(title=\"Fact II: Poorer places have higher growth rates\",\n                        yTitle=\"Growth Rate\",xTitle='Year')",
    "id": "4da3e0bb8f7041908a19c3dab1e7647f",
    "idx": 6,
    "time": "2021-01-25T23:59:43.859Z",
    "type": "execution"
   },
   {
    "id": "4da3e0bb8f7041908a19c3dab1e7647f",
    "time": "2021-01-25T23:59:45.000Z",
    "type": "completion"
   },
   {
    "code": "import wbdata\n\n# Return list of all country/region codes:\nwbdata.get_country()\n\n# Return list matching a query term:\nwbdata.search_countries(\"World\")\n\n## Try your own search!\nwbdata.search_countries(\"China\")",
    "id": "0e8e238662f843a6910f3fb1c9fdcb9d",
    "idx": 1,
    "time": "2021-01-29T18:34:10.907Z",
    "type": "execution"
   },
   {
    "id": "0e8e238662f843a6910f3fb1c9fdcb9d",
    "time": "2021-01-29T18:34:11.071Z",
    "type": "completion"
   },
   {
    "code": "import wbdata\n\n# Return list of all country/region codes:\n# wbdata.get_country()\n# testing\n\n# Return list matching a query term:\nwbdata.search_countries(\"World\")\n\n## Try your own search!\nwbdata.search_countries(\"Japan\")",
    "id": "0e8e238662f843a6910f3fb1c9fdcb9d",
    "idx": 1,
    "time": "2021-01-29T18:34:30.954Z",
    "type": "execution"
   },
   {
    "id": "0e8e238662f843a6910f3fb1c9fdcb9d",
    "time": "2021-01-29T18:34:31.022Z",
    "type": "completion"
   },
   {
    "code": "!pip install wbdata\n\nimport wbdata",
    "id": "5d1d27f78124422c8313f2e389aa2cbf",
    "idx": 0,
    "time": "2021-01-29T18:34:39.959Z",
    "type": "execution"
   },
   {
    "code": "import wbdata\n\n# Return list of all country/region codes:\n# wbdata.get_country()\n# testing\n\n# Return list matching a query term:\nwbdata.search_countries(\"World\")\n\n## Try your own search!\nwbdata.search_countries(\"Japan\")",
    "id": "0e8e238662f843a6910f3fb1c9fdcb9d",
    "idx": 1,
    "time": "2021-01-29T18:34:40.354Z",
    "type": "execution"
   },
   {
    "id": "5d1d27f78124422c8313f2e389aa2cbf",
    "time": "2021-01-29T18:34:44.468Z",
    "type": "completion"
   },
   {
    "id": "0e8e238662f843a6910f3fb1c9fdcb9d",
    "time": "2021-01-29T18:34:44.489Z",
    "type": "completion"
   },
   {
    "code": "import numpy as np\n\nvariable_labels = {\"SP.POP.TOTL\":\"Population\"}\n\n# Three letter codes come from wbdata.get_country()\ncountries = {\"EAS\":\"East Asia & Pacific\",\n             \"CHN\": \"China\",\n             #\"HKG\": \"Hong Kong SAR, China\",\n             #\"MAC\": \"Macao SAR, China\",\n             #\"TWN\": \"Taiwan, China\",\n             \"MNG\": \"Mongolia\",\n             \"PRK\": \"North Korea\",\n             \"KOR\": \"South Korea\",\n             \"JPN\":\"Japan\"\n            }\n\ndf = wbdata.get_dataframe(variable_labels, country = countries).squeeze()\n\ndf = df.unstack('country')\n# Date index is of type string; change to integers\ndf.index = df.index.astype(int)\n\n# Differences (over time) in logs give us growth rates\nnp.log(df).diff().iplot(title=\"Fact II: Poorer places have higher growth rates\",\n                        yTitle=\"Growth Rate\",xTitle='Year')",
    "id": "bb22db0fc8804237b445649180fa9a6f",
    "idx": 5,
    "time": "2021-01-29T18:49:00.374Z",
    "type": "execution"
   },
   {
    "id": "bb22db0fc8804237b445649180fa9a6f",
    "time": "2021-01-29T18:49:00.669Z",
    "type": "completion"
   },
   {
    "code": "import numpy as np\n\nvariable_labels = {\"SP.POP.TOTL\":\"Population\"}\n\n# Three letter codes come from wbdata.get_country()\ncountries = {\"EAS\":\"East Asia & Pacific\",\n             \"CHN\": \"China\",\n             #\"HKG\": \"Hong Kong SAR, China\",\n             #\"MAC\": \"Macao SAR, China\",\n             #\"TWN\": \"Taiwan, China\",\n             \"MNG\": \"Mongolia\",\n             \"PRK\": \"North Korea\",\n             \"KOR\": \"South Korea\",\n             \"JPN\":\"Japan\"\n            }\n\ndf = wbdata.get_dataframe(variable_labels, country = countries).squeeze()\n\ndf = df.unstack('country')\n# Date index is of type string; change to integers\ndf.index = df.index.astype(int)\n\n# Differences (over time) in logs give us growth rates\nnp.log(df).diff().iplot(title=\"Fact II: Poorer places have higher growth rates\",\n                        yTitle=\"Growth Rate\",xTitle='Year')",
    "id": "bb22db0fc8804237b445649180fa9a6f",
    "idx": 5,
    "time": "2021-01-29T18:49:05.251Z",
    "type": "execution"
   },
   {
    "id": "bb22db0fc8804237b445649180fa9a6f",
    "time": "2021-01-29T18:49:05.314Z",
    "type": "completion"
   },
   {
    "code": "import numpy as np\n\nvariable_labels = {\"SP.POP.TOTL\":\"Population\"}\n\n# Three letter codes come from wbdata.get_country()\ncountries = {\"EAS\":\"East Asia & Pacific\",\n             \"CHN\": \"China\",\n             #\"HKG\": \"Hong Kong SAR, China\",\n             #\"MAC\": \"Macao SAR, China\",\n             #\"TWN\": \"Taiwan, China\",\n             \"MNG\": \"Mongolia\",\n             \"PRK\": \"North Korea\",\n             \"KOR\": \"South Korea\",\n             \"JPN\":\"Japan\"\n            }\n\ndf = wbdata.get_dataframe(variable_labels, country = countries).squeeze()\n\ndf = df.unstack('country')\n# Date index is of type string; change to integers\ndf.index = df.index.astype(int)\n\n# Differences (over time) in logs give us growth rates\nnp.log(df).diff().iplot(title=\"Fact II: Poorer places have higher growth rates\",\n                        yTitle=\"Growth Rate\",xTitle='Year')",
    "id": "bb22db0fc8804237b445649180fa9a6f",
    "idx": 5,
    "time": "2021-01-29T18:49:08.671Z",
    "type": "execution"
   },
   {
    "id": "bb22db0fc8804237b445649180fa9a6f",
    "time": "2021-01-29T18:49:08.736Z",
    "type": "completion"
   },
   {
    "code": "import wbdata\n\n# Return list of all country/region codes:\nwbdata.get_country()\n# testing\n\n# Return list matching a query term:\nwbdata.search_countries(\"World\")\n\n## Try your own search!\nwbdata.search_countries(\"Japan\")",
    "id": "b2706283c58241e0aa60ea39deedc48d",
    "idx": 1,
    "time": "2021-01-29T18:49:30.592Z",
    "type": "execution"
   },
   {
    "id": "b2706283c58241e0aa60ea39deedc48d",
    "time": "2021-01-29T18:49:30.686Z",
    "type": "completion"
   },
   {
    "code": "!pip install wbdata\n\nimport wbdata",
    "id": "b77b29f5fc3244b595d20f089dfb2e84",
    "idx": 0,
    "time": "2021-01-29T18:50:46.752Z",
    "type": "execution"
   },
   {
    "id": "b77b29f5fc3244b595d20f089dfb2e84",
    "time": "2021-01-29T18:50:51.025Z",
    "type": "completion"
   },
   {
    "code": "!pip install wbdata\n\nimport wbdata\nimport numpy as np",
    "id": "b77b29f5fc3244b595d20f089dfb2e84",
    "idx": 0,
    "time": "2021-01-29T18:50:52.961Z",
    "type": "execution"
   },
   {
    "id": "b77b29f5fc3244b595d20f089dfb2e84",
    "time": "2021-01-29T18:50:56.394Z",
    "type": "completion"
   },
   {
    "code": "#   !pip install wbdata\n\nimport wbdata\nimport numpy as np",
    "id": "64296ff9895c4cb187fa069198f42b5b",
    "idx": 0,
    "time": "2021-02-01T22:58:55.248Z",
    "type": "execution"
   },
   {
    "id": "64296ff9895c4cb187fa069198f42b5b",
    "time": "2021-02-01T22:58:55.638Z",
    "type": "completion"
   },
   {
    "code": "!pip install wbdata\n\nimport wbdata\nimport numpy as np",
    "id": "64296ff9895c4cb187fa069198f42b5b",
    "idx": 0,
    "time": "2021-02-01T22:59:00.365Z",
    "type": "execution"
   },
   {
    "id": "64296ff9895c4cb187fa069198f42b5b",
    "time": "2021-02-01T22:59:19.573Z",
    "type": "completion"
   },
   {
    "code": "# Return list of all country/region codes:\nwbdata.get_country()",
    "id": "7fcc21a08d13416c95015b62d7a8119a",
    "idx": 1,
    "time": "2021-02-01T23:04:25.871Z",
    "type": "execution"
   },
   {
    "id": "7fcc21a08d13416c95015b62d7a8119a",
    "time": "2021-02-01T23:04:26.367Z",
    "type": "completion"
   },
   {
    "code": "wbdata.get_source()",
    "id": "4f61d686ec774e1d8430ff5bd1599bba",
    "idx": 3,
    "time": "2021-02-01T23:05:09.568Z",
    "type": "execution"
   },
   {
    "id": "4f61d686ec774e1d8430ff5bd1599bba",
    "time": "2021-02-01T23:05:09.874Z",
    "type": "completion"
   },
   {
    "code": "SOURCE = 40 # \"Population estimates and projections\n\nindicators = wbdata.get_indicator(source=SOURCE)",
    "id": "81b898ab12114bcd9b787b9e09ed4aec",
    "idx": 4,
    "time": "2021-02-01T23:05:32.222Z",
    "type": "execution"
   },
   {
    "id": "81b898ab12114bcd9b787b9e09ed4aec",
    "time": "2021-02-01T23:05:32.537Z",
    "type": "completion"
   },
   {
    "code": "SOURCE = 5 # \"Population estimates and projections\n\nindicators = wbdata.get_indicator(source=SOURCE)",
    "id": "81b898ab12114bcd9b787b9e09ed4aec",
    "idx": 4,
    "time": "2021-02-01T23:08:05.842Z",
    "type": "execution"
   },
   {
    "id": "81b898ab12114bcd9b787b9e09ed4aec",
    "time": "2021-02-01T23:08:06.353Z",
    "type": "completion"
   },
   {
    "code": "SOURCE = 5 # \"Population estimates and projections\n\nwbdata.get_indicator(source=SOURCE)",
    "id": "81b898ab12114bcd9b787b9e09ed4aec",
    "idx": 4,
    "time": "2021-02-01T23:08:40.859Z",
    "type": "execution"
   },
   {
    "id": "81b898ab12114bcd9b787b9e09ed4aec",
    "time": "2021-02-01T23:08:40.938Z",
    "type": "completion"
   },
   {
    "code": "SOURCE = 5 # \"Population estimates and projections\n\nindicators = wbdata.get_indicator(source=SOURCE)\nindicators",
    "id": "81b898ab12114bcd9b787b9e09ed4aec",
    "idx": 4,
    "time": "2021-02-01T23:08:49.258Z",
    "type": "execution"
   },
   {
    "id": "81b898ab12114bcd9b787b9e09ed4aec",
    "time": "2021-02-01T23:08:49.375Z",
    "type": "completion"
   },
   {
    "code": "SOURCE = 39 # \"Population estimates and projections\n\nindicators = wbdata.get_indicator(source=SOURCE)\nindicators",
    "id": "81b898ab12114bcd9b787b9e09ed4aec",
    "idx": 4,
    "time": "2021-02-01T23:09:00.368Z",
    "type": "execution"
   },
   {
    "id": "81b898ab12114bcd9b787b9e09ed4aec",
    "time": "2021-02-01T23:09:03.314Z",
    "type": "completion"
   },
   {
    "code": "SOURCE = 16 # \"Population estimates and projections\n\nindicators = wbdata.get_indicator(source=SOURCE)\nindicators",
    "id": "81b898ab12114bcd9b787b9e09ed4aec",
    "idx": 4,
    "time": "2021-02-01T23:09:47.727Z",
    "type": "execution"
   },
   {
    "id": "81b898ab12114bcd9b787b9e09ed4aec",
    "time": "2021-02-01T23:09:50.448Z",
    "type": "completion"
   },
   {
    "code": "SOURCE = 40 # \"Population estimates and projections\n\nindicators = wbdata.get_indicator(source=SOURCE)\nindicators",
    "id": "81b898ab12114bcd9b787b9e09ed4aec",
    "idx": 4,
    "time": "2021-02-01T23:15:08.067Z",
    "type": "execution"
   },
   {
    "id": "81b898ab12114bcd9b787b9e09ed4aec",
    "time": "2021-02-01T23:15:08.176Z",
    "type": "completion"
   },
   {
    "code": "variable_labels = {\"SP.POP.TOTL\":\"World Population\"}\n\nworld = wbdata.get_dataframe(variable_labels, country=\"WLD\")",
    "id": "e84b549b5c10485a8b47aec5982a2dec",
    "idx": 5,
    "time": "2021-02-01T23:15:41.766Z",
    "type": "execution"
   },
   {
    "id": "e84b549b5c10485a8b47aec5982a2dec",
    "time": "2021-02-01T23:15:42.015Z",
    "type": "completion"
   },
   {
    "code": "variable_labels = {\"SP.POP.TOTL\":\"World Population\"}\n\nworld = wbdata.get_dataframe(variable_labels, country=\"WLD\")\nworld",
    "id": "e84b549b5c10485a8b47aec5982a2dec",
    "idx": 5,
    "time": "2021-02-01T23:15:44.416Z",
    "type": "execution"
   },
   {
    "id": "e84b549b5c10485a8b47aec5982a2dec",
    "time": "2021-02-01T23:15:44.507Z",
    "type": "completion"
   },
   {
    "code": "variable_labels = {\"SP.POP.TOTL\":\"World Population\"}\n\ntwn = wbdata.get_dataframe(variable_labels, country=\"TWN\")\ntwn",
    "id": "e84b549b5c10485a8b47aec5982a2dec",
    "idx": 5,
    "time": "2021-02-01T23:16:08.846Z",
    "type": "execution"
   },
   {
    "id": "e84b549b5c10485a8b47aec5982a2dec",
    "time": "2021-02-01T23:16:09.568Z",
    "type": "completion"
   },
   {
    "code": "variable_labels = {\"SP.POP.TOTL\":\"World Population\"}\n\ntwn = wbdata.get_dataframe(variable_labels, country=\"World\")\ntwn",
    "id": "e84b549b5c10485a8b47aec5982a2dec",
    "idx": 5,
    "time": "2021-02-01T23:16:48.408Z",
    "type": "execution"
   },
   {
    "id": "e84b549b5c10485a8b47aec5982a2dec",
    "time": "2021-02-01T23:16:49.010Z",
    "type": "completion"
   },
   {
    "code": "variable_labels = {\"SP.POP.TOTL\":\"World Population\"}\n\ntwn = wbdata.get_dataframe(variable_labels, country=\"WLD\")\ntwn",
    "id": "e84b549b5c10485a8b47aec5982a2dec",
    "idx": 5,
    "time": "2021-02-01T23:16:52.539Z",
    "type": "execution"
   },
   {
    "id": "e84b549b5c10485a8b47aec5982a2dec",
    "time": "2021-02-01T23:16:52.615Z",
    "type": "completion"
   },
   {
    "code": "variable_labels = {\"SP.POP.TOTL\":\"World Population\"}\n\ntwn = wbdata.get_dataframe(variable_labels, country=\"USA\")\ntwn",
    "id": "e84b549b5c10485a8b47aec5982a2dec",
    "idx": 5,
    "time": "2021-02-01T23:18:04.549Z",
    "type": "execution"
   },
   {
    "id": "e84b549b5c10485a8b47aec5982a2dec",
    "time": "2021-02-01T23:18:05.136Z",
    "type": "completion"
   },
   {
    "code": "variable_labels = {\"SP.POP.TOTL\":\"World Population\"}\n\ntwn = wbdata.get_dataframe(variable_labels, country=\"CHN\")\ntwn",
    "id": "e84b549b5c10485a8b47aec5982a2dec",
    "idx": 5,
    "time": "2021-02-01T23:18:12.358Z",
    "type": "execution"
   },
   {
    "id": "e84b549b5c10485a8b47aec5982a2dec",
    "time": "2021-02-01T23:18:12.831Z",
    "type": "completion"
   },
   {
    "code": "variable_labels = {\"SP.POP.TOTL\":\"China Population\"}\n\nchn_pop = wbdata.get_dataframe(variable_labels, country=\"CHN\")\nchn_pop",
    "id": "e84b549b5c10485a8b47aec5982a2dec",
    "idx": 5,
    "time": "2021-02-01T23:18:29.579Z",
    "type": "execution"
   },
   {
    "id": "e84b549b5c10485a8b47aec5982a2dec",
    "time": "2021-02-01T23:18:29.647Z",
    "type": "completion"
   },
   {
    "code": "variable_labels = {\"SP.POP.TOTL\":\"China Population\", \"date\":\"year\"}\n\n# Get the DataFrame \nchn_pop = wbdata.get_dataframe(variable_labels, country=\"CHN\")\nchn_pop",
    "id": "e84b549b5c10485a8b47aec5982a2dec",
    "idx": 5,
    "time": "2021-02-01T23:19:30.749Z",
    "type": "execution"
   },
   {
    "id": "e84b549b5c10485a8b47aec5982a2dec",
    "time": "2021-02-01T23:19:31.076Z",
    "type": "completion"
   },
   {
    "code": "variable_labels = {\"SP.POP.TOTL\":\"China Population\"}\n\n# Get the \nchn_pop = wbdata.get_dataframe(variable_labels, country=\"CHN\")\nchn_pop",
    "id": "e84b549b5c10485a8b47aec5982a2dec",
    "idx": 5,
    "time": "2021-02-01T23:19:35.130Z",
    "type": "execution"
   },
   {
    "id": "e84b549b5c10485a8b47aec5982a2dec",
    "time": "2021-02-01T23:19:35.209Z",
    "type": "completion"
   },
   {
    "code": "variable_labels = {\"SP.POP.TOTL\":\"China Population\"}\n\n# Get the \nchn = wbdata.get_dataframe(variable_labels, country=\"CHN\")\nchn",
    "id": "e84b549b5c10485a8b47aec5982a2dec",
    "idx": 5,
    "time": "2021-02-01T23:19:41.520Z",
    "type": "execution"
   },
   {
    "id": "e84b549b5c10485a8b47aec5982a2dec",
    "time": "2021-02-01T23:19:41.596Z",
    "type": "completion"
   },
   {
    "code": "# Date index is of type string; change to integers\nchn.index = chn.index.astype(int)\nchn",
    "id": "8d905800559448b7809c095b1d6377c6",
    "idx": 6,
    "time": "2021-02-01T23:20:44.763Z",
    "type": "execution"
   },
   {
    "id": "8d905800559448b7809c095b1d6377c6",
    "time": "2021-02-01T23:20:44.847Z",
    "type": "completion"
   },
   {
    "code": "# Date index is of type string; change to integers\nchn.index = chn.index.astype(int)\ntype(chn['date'])",
    "id": "8d905800559448b7809c095b1d6377c6",
    "idx": 6,
    "time": "2021-02-01T23:20:55.460Z",
    "type": "execution"
   },
   {
    "id": "8d905800559448b7809c095b1d6377c6",
    "time": "2021-02-01T23:20:55.560Z",
    "type": "completion"
   },
   {
    "code": "# Date index is of type string; change to integers\nchn.index = chn.index.astype(int)\ntype(chn['year'])",
    "id": "8d905800559448b7809c095b1d6377c6",
    "idx": 6,
    "time": "2021-02-01T23:21:00.461Z",
    "type": "execution"
   },
   {
    "id": "8d905800559448b7809c095b1d6377c6",
    "time": "2021-02-01T23:21:00.559Z",
    "type": "completion"
   },
   {
    "code": "# Date index is of type string; change to integers\nchn.index = chn.index.astype(int)",
    "id": "8d905800559448b7809c095b1d6377c6",
    "idx": 6,
    "time": "2021-02-01T23:21:06.371Z",
    "type": "execution"
   },
   {
    "id": "8d905800559448b7809c095b1d6377c6",
    "time": "2021-02-01T23:21:06.426Z",
    "type": "completion"
   },
   {
    "code": "# Date index is of type string; change to integers\nchn.index = chn.index.astype(int)\nchn",
    "id": "8d905800559448b7809c095b1d6377c6",
    "idx": 6,
    "time": "2021-02-01T23:21:09.619Z",
    "type": "execution"
   },
   {
    "id": "8d905800559448b7809c095b1d6377c6",
    "time": "2021-02-01T23:21:09.693Z",
    "type": "completion"
   },
   {
    "code": "# Date index is of type string; change to integers\nchn.index = chn.index.astype(int)\n\n# Rename \"date\" to \"year\"\nchn.rename({'date':'year'})",
    "id": "8d905800559448b7809c095b1d6377c6",
    "idx": 6,
    "time": "2021-02-01T23:23:27.101Z",
    "type": "execution"
   },
   {
    "id": "8d905800559448b7809c095b1d6377c6",
    "time": "2021-02-01T23:23:27.174Z",
    "type": "completion"
   },
   {
    "code": "# Date index is of type string; change to integers\nchn.index = chn.index.astype(int)\n\n# Rename \"date\" to \"year\"\nchn.rename({'date':'year'}, axis=1)",
    "id": "8d905800559448b7809c095b1d6377c6",
    "idx": 6,
    "time": "2021-02-01T23:23:31.120Z",
    "type": "execution"
   },
   {
    "id": "8d905800559448b7809c095b1d6377c6",
    "time": "2021-02-01T23:23:31.183Z",
    "type": "completion"
   },
   {
    "code": "# Date index is of type string; change to integers\nchn.index = chn.index.astype(int)\n\n# Rename \"date\" to \"year\"\nchn.rename({'date':'year'}, axis=0)",
    "id": "8d905800559448b7809c095b1d6377c6",
    "idx": 6,
    "time": "2021-02-01T23:23:34.240Z",
    "type": "execution"
   },
   {
    "id": "8d905800559448b7809c095b1d6377c6",
    "time": "2021-02-01T23:23:34.306Z",
    "type": "completion"
   },
   {
    "code": "# Date index is of type string; change to integers\nchn.index = chn.index.astype(int)\n\n# Rename \"date\" to \"year\"\nchn.rename(columns={'date':'year'}, axis=0)",
    "id": "8d905800559448b7809c095b1d6377c6",
    "idx": 6,
    "time": "2021-02-01T23:23:49.090Z",
    "type": "execution"
   },
   {
    "id": "8d905800559448b7809c095b1d6377c6",
    "time": "2021-02-01T23:23:49.189Z",
    "type": "completion"
   },
   {
    "code": "# Date index is of type string; change to integers\nchn.index = chn.index.astype(int)\n\n# Rename \"date\" to \"year\"\nchn.rename({\"date\":\"year\"}, axis=0)",
    "id": "8d905800559448b7809c095b1d6377c6",
    "idx": 6,
    "time": "2021-02-01T23:26:23.389Z",
    "type": "execution"
   },
   {
    "id": "8d905800559448b7809c095b1d6377c6",
    "time": "2021-02-01T23:26:23.469Z",
    "type": "completion"
   },
   {
    "code": "# Date index is of type string; change to integers\nchn.index = chn.index.astype(int)\n\n# Rename \"date\" to \"year\"\nchn.rename({\"date\":\"year\"}, axis=1)",
    "id": "8d905800559448b7809c095b1d6377c6",
    "idx": 6,
    "time": "2021-02-01T23:26:36.020Z",
    "type": "execution"
   },
   {
    "id": "8d905800559448b7809c095b1d6377c6",
    "time": "2021-02-01T23:26:36.091Z",
    "type": "completion"
   },
   {
    "code": "# Date index is of type string; change to integers\nchn.index = chn.index.astype(int)\n\n# Rename \"date\" to \"year\"\nchn = chn.rename({\"date\":\"year\"}, axis=1)\nchn",
    "id": "8d905800559448b7809c095b1d6377c6",
    "idx": 6,
    "time": "2021-02-01T23:26:43.920Z",
    "type": "execution"
   },
   {
    "id": "8d905800559448b7809c095b1d6377c6",
    "time": "2021-02-01T23:26:43.986Z",
    "type": "completion"
   },
   {
    "code": "# Date index is of type string; change to integers\nchn.index = chn.index.astype(int)\n\n# Rename \"date\" to \"year\"\nchn.rename({\"date\":\"year\"}, axis=1)",
    "id": "8d905800559448b7809c095b1d6377c6",
    "idx": 6,
    "time": "2021-02-01T23:31:49.809Z",
    "type": "execution"
   },
   {
    "id": "8d905800559448b7809c095b1d6377c6",
    "time": "2021-02-01T23:31:49.887Z",
    "type": "completion"
   },
   {
    "code": "# Date index is of type string; change to integers\nchn.index = chn.index.astype(int)\n\n# Rename \"date\" to \"year\"\nchn.rename(index=0, axis=1)",
    "id": "8d905800559448b7809c095b1d6377c6",
    "idx": 6,
    "time": "2021-02-01T23:31:59.424Z",
    "type": "execution"
   },
   {
    "id": "8d905800559448b7809c095b1d6377c6",
    "time": "2021-02-01T23:31:59.523Z",
    "type": "completion"
   },
   {
    "code": "# Date index is of type string; change to integers\nchn.index = chn.index.astype(int)\n\n# Rename \"date\" to \"year\"\nchn.rename(index=0)",
    "id": "8d905800559448b7809c095b1d6377c6",
    "idx": 6,
    "time": "2021-02-01T23:32:04.684Z",
    "type": "execution"
   },
   {
    "id": "8d905800559448b7809c095b1d6377c6",
    "time": "2021-02-01T23:32:04.811Z",
    "type": "completion"
   },
   {
    "code": "# Date index is of type string; change to integers\nchn.index = chn.index.astype(int)\n\n# Rename \"date\" to \"year\"\nchn.rename(columns={'date', 'year'})",
    "id": "8d905800559448b7809c095b1d6377c6",
    "idx": 6,
    "time": "2021-02-01T23:32:28.374Z",
    "type": "execution"
   },
   {
    "id": "8d905800559448b7809c095b1d6377c6",
    "time": "2021-02-01T23:32:28.485Z",
    "type": "completion"
   },
   {
    "code": "# Date index is of type string; change to integers\nchn.index = chn.index.astype(int)\n\n# Rename \"date\" to \"year\"\nchn.rename(columns={'date', 'year'})",
    "id": "8d905800559448b7809c095b1d6377c6",
    "idx": 6,
    "time": "2021-02-01T23:32:53.044Z",
    "type": "execution"
   },
   {
    "id": "8d905800559448b7809c095b1d6377c6",
    "time": "2021-02-01T23:32:53.156Z",
    "type": "completion"
   },
   {
    "code": "# Date index is of type string; change to integers\nchn.index = chn.index.astype(int)\n\n# Rename \"date\" to \"year\"\nchn.columns",
    "id": "8d905800559448b7809c095b1d6377c6",
    "idx": 6,
    "time": "2021-02-01T23:33:19.536Z",
    "type": "execution"
   },
   {
    "id": "8d905800559448b7809c095b1d6377c6",
    "time": "2021-02-01T23:33:19.595Z",
    "type": "completion"
   },
   {
    "code": "# Date index is of type string; change to integers\nchn.index = chn.index.astype(int)\n\n# Rename \"date\" to \"year\"\nchn.rename(index={'date','year'})",
    "id": "8d905800559448b7809c095b1d6377c6",
    "idx": 6,
    "time": "2021-02-01T23:33:29.644Z",
    "type": "execution"
   },
   {
    "id": "8d905800559448b7809c095b1d6377c6",
    "time": "2021-02-01T23:33:29.759Z",
    "type": "completion"
   },
   {
    "code": "# Date index is of type string; change to integers\nchn.index = chn.index.astype(int)\n\n# Rename \"date\" to \"year\"\nchn.rename(index={'date':'year'})",
    "id": "8d905800559448b7809c095b1d6377c6",
    "idx": 6,
    "time": "2021-02-01T23:33:39.095Z",
    "type": "execution"
   },
   {
    "id": "8d905800559448b7809c095b1d6377c6",
    "time": "2021-02-01T23:33:39.161Z",
    "type": "completion"
   },
   {
    "code": "# Date index is of type string; change to integers\nchn.index = chn.index.astype(int)\n\n# Rename \"date\" to \"year\"\nchn.rename(index={'date':'year'})\nchn.columns",
    "id": "8d905800559448b7809c095b1d6377c6",
    "idx": 6,
    "time": "2021-02-01T23:33:44.954Z",
    "type": "execution"
   },
   {
    "id": "8d905800559448b7809c095b1d6377c6",
    "time": "2021-02-01T23:33:45.013Z",
    "type": "completion"
   },
   {
    "code": "# Date index is of type string; change to integers\nchn.index = chn.index.astype(int)\n\n# Rename \"date\" to \"year\"\nchn.rename(index={'date':'year'})\nchn",
    "id": "8d905800559448b7809c095b1d6377c6",
    "idx": 6,
    "time": "2021-02-01T23:33:50.456Z",
    "type": "execution"
   },
   {
    "id": "8d905800559448b7809c095b1d6377c6",
    "time": "2021-02-01T23:33:50.532Z",
    "type": "completion"
   },
   {
    "code": "# Date index is of type string; change to integers\nchn.index = chn.index.astype(int)\n\n# Rename \"date\" to \"year\"\nchn.rename(index={'date':'year'})",
    "id": "8d905800559448b7809c095b1d6377c6",
    "idx": 6,
    "time": "2021-02-01T23:33:53.954Z",
    "type": "execution"
   },
   {
    "id": "8d905800559448b7809c095b1d6377c6",
    "time": "2021-02-01T23:33:54.022Z",
    "type": "completion"
   },
   {
    "code": "# Date index is of type string; change to integers\nchn.index = chn.index.astype(int)\n\n# Rename \"date\" to \"year\"\nchn.rename(index={'date':'year'}, axis=1)",
    "id": "8d905800559448b7809c095b1d6377c6",
    "idx": 6,
    "time": "2021-02-01T23:34:12.694Z",
    "type": "execution"
   },
   {
    "id": "8d905800559448b7809c095b1d6377c6",
    "time": "2021-02-01T23:34:12.791Z",
    "type": "completion"
   },
   {
    "code": "# Date index is of type string; change to integers\nchn.index = chn.index.astype(int)\n\n# Rename \"date\" to \"year\"\nchn.Index.rename({'date':'year'})",
    "id": "8d905800559448b7809c095b1d6377c6",
    "idx": 6,
    "time": "2021-02-01T23:36:25.886Z",
    "type": "execution"
   },
   {
    "id": "8d905800559448b7809c095b1d6377c6",
    "time": "2021-02-01T23:36:25.968Z",
    "type": "completion"
   },
   {
    "code": "# Date index is of type string; change to integers\nchn.index = chn.index.astype(int)\n\n# Rename \"date\" to \"year\"\nchn",
    "id": "8d905800559448b7809c095b1d6377c6",
    "idx": 6,
    "time": "2021-02-01T23:36:41.786Z",
    "type": "execution"
   },
   {
    "id": "8d905800559448b7809c095b1d6377c6",
    "time": "2021-02-01T23:36:41.850Z",
    "type": "completion"
   },
   {
    "code": "!pip install wbdata\n\nimport wbdata\nimport numpy as np",
    "id": "664a1685ff09479ea56c1097c02567ea",
    "idx": 0,
    "time": "2021-02-03T22:13:44.494Z",
    "type": "execution"
   },
   {
    "code": "# Return list of all country/region codes:\nwbdata.get_country()",
    "id": "db76163acf1a423fa97f210550931f5c",
    "idx": 1,
    "time": "2021-02-03T22:13:45.471Z",
    "type": "execution"
   },
   {
    "code": "wbdata.get_source()",
    "id": "22616328087e41e29a1a10039ef4ff0b",
    "idx": 3,
    "time": "2021-02-03T22:13:46.213Z",
    "type": "execution"
   },
   {
    "code": "SOURCE = 40 # \"Population estimates and projections\n\nindicators = wbdata.get_indicator(source=SOURCE)\nindicators",
    "id": "10f2c643e65c4e0e890c2badfa288cf8",
    "idx": 4,
    "time": "2021-02-03T22:13:46.396Z",
    "type": "execution"
   },
   {
    "code": "variable_labels = {\"SP.POP.TOTL\":\"China Population\"}\n\n# Get the \nchn = wbdata.get_dataframe(variable_labels, country=\"CHN\")\nchn",
    "id": "0768649561fc4ff28370d7ca71bb7dfa",
    "idx": 5,
    "time": "2021-02-03T22:13:46.546Z",
    "type": "execution"
   },
   {
    "id": "664a1685ff09479ea56c1097c02567ea",
    "time": "2021-02-03T22:13:51.393Z",
    "type": "completion"
   },
   {
    "id": "db76163acf1a423fa97f210550931f5c",
    "time": "2021-02-03T22:13:52.356Z",
    "type": "completion"
   },
   {
    "id": "22616328087e41e29a1a10039ef4ff0b",
    "time": "2021-02-03T22:13:52.361Z",
    "type": "completion"
   },
   {
    "id": "10f2c643e65c4e0e890c2badfa288cf8",
    "time": "2021-02-03T22:13:52.364Z",
    "type": "completion"
   },
   {
    "id": "0768649561fc4ff28370d7ca71bb7dfa",
    "time": "2021-02-03T22:13:52.416Z",
    "type": "completion"
   },
   {
    "code": "def population(country):\n    return wbdata.get_dataframe(variable_labels, country=country)",
    "id": "859e7141c23e4236aee94be527ca2500",
    "idx": 8,
    "time": "2021-02-03T22:27:42.102Z",
    "type": "execution"
   },
   {
    "id": "859e7141c23e4236aee94be527ca2500",
    "time": "2021-02-03T22:27:42.805Z",
    "type": "completion"
   },
   {
    "code": "population('CHN')",
    "id": "b20e3f24988f479b864852acf0ea2bf8",
    "idx": 9,
    "time": "2021-02-03T22:27:46.298Z",
    "type": "execution"
   },
   {
    "id": "b20e3f24988f479b864852acf0ea2bf8",
    "time": "2021-02-03T22:27:47.144Z",
    "type": "completion"
   },
   {
    "code": "chn = population('CHN')\nchn[chn['date']==2010]",
    "id": "b20e3f24988f479b864852acf0ea2bf8",
    "idx": 9,
    "time": "2021-02-03T22:28:35.060Z",
    "type": "execution"
   },
   {
    "id": "b20e3f24988f479b864852acf0ea2bf8",
    "time": "2021-02-03T22:28:35.284Z",
    "type": "completion"
   },
   {
    "code": "chn = population('CHN')\nchn.columns",
    "id": "b20e3f24988f479b864852acf0ea2bf8",
    "idx": 9,
    "time": "2021-02-03T22:28:42.607Z",
    "type": "execution"
   },
   {
    "id": "b20e3f24988f479b864852acf0ea2bf8",
    "time": "2021-02-03T22:28:42.870Z",
    "type": "completion"
   },
   {
    "code": "chn = population('CHN')\nchn",
    "id": "b20e3f24988f479b864852acf0ea2bf8",
    "idx": 9,
    "time": "2021-02-03T22:28:50.143Z",
    "type": "execution"
   },
   {
    "id": "b20e3f24988f479b864852acf0ea2bf8",
    "time": "2021-02-03T22:28:50.242Z",
    "type": "completion"
   },
   {
    "code": "chn = population('CHN')\nchn.index",
    "id": "b20e3f24988f479b864852acf0ea2bf8",
    "idx": 9,
    "time": "2021-02-03T22:28:53.969Z",
    "type": "execution"
   },
   {
    "id": "b20e3f24988f479b864852acf0ea2bf8",
    "time": "2021-02-03T22:28:54.103Z",
    "type": "completion"
   },
   {
    "code": "chn = population('CHN')\nchn.index[1990:2000]",
    "id": "b20e3f24988f479b864852acf0ea2bf8",
    "idx": 9,
    "time": "2021-02-03T22:29:16.417Z",
    "type": "execution"
   },
   {
    "id": "b20e3f24988f479b864852acf0ea2bf8",
    "time": "2021-02-03T22:29:18.167Z",
    "type": "completion"
   },
   {
    "code": "chn = population('CHN')\nchn.index[-1:-3]",
    "id": "b20e3f24988f479b864852acf0ea2bf8",
    "idx": 9,
    "time": "2021-02-03T22:29:28.120Z",
    "type": "execution"
   },
   {
    "id": "b20e3f24988f479b864852acf0ea2bf8",
    "time": "2021-02-03T22:29:28.187Z",
    "type": "completion"
   },
   {
    "code": "chn = population('CHN')\nchn.index[-1:-53]",
    "id": "b20e3f24988f479b864852acf0ea2bf8",
    "idx": 9,
    "time": "2021-02-03T22:29:32.090Z",
    "type": "execution"
   },
   {
    "id": "b20e3f24988f479b864852acf0ea2bf8",
    "time": "2021-02-03T22:29:32.203Z",
    "type": "completion"
   },
   {
    "code": "chn = population('CHN')\nchn.index",
    "id": "b20e3f24988f479b864852acf0ea2bf8",
    "idx": 9,
    "time": "2021-02-03T22:29:35.556Z",
    "type": "execution"
   },
   {
    "id": "b20e3f24988f479b864852acf0ea2bf8",
    "time": "2021-02-03T22:29:35.744Z",
    "type": "completion"
   },
   {
    "code": "chn = population('CHN')\nchn.index[0]",
    "id": "b20e3f24988f479b864852acf0ea2bf8",
    "idx": 9,
    "time": "2021-02-03T22:29:42.593Z",
    "type": "execution"
   },
   {
    "id": "b20e3f24988f479b864852acf0ea2bf8",
    "time": "2021-02-03T22:29:42.899Z",
    "type": "completion"
   },
   {
    "code": "chn = population('CHN')\nchn.index[:3]",
    "id": "b20e3f24988f479b864852acf0ea2bf8",
    "idx": 9,
    "time": "2021-02-03T22:29:46.381Z",
    "type": "execution"
   },
   {
    "id": "b20e3f24988f479b864852acf0ea2bf8",
    "time": "2021-02-03T22:29:46.450Z",
    "type": "completion"
   },
   {
    "code": "chn = population('CHN')\nchn.index[1:3]",
    "id": "b20e3f24988f479b864852acf0ea2bf8",
    "idx": 9,
    "time": "2021-02-03T22:29:50.288Z",
    "type": "execution"
   },
   {
    "id": "b20e3f24988f479b864852acf0ea2bf8",
    "time": "2021-02-03T22:29:50.353Z",
    "type": "completion"
   },
   {
    "code": "# Return list of all country/region codes:\nwbdata.get_country(\"China\")",
    "id": "db76163acf1a423fa97f210550931f5c",
    "idx": 1,
    "time": "2021-02-03T22:31:16.551Z",
    "type": "execution"
   },
   {
    "id": "db76163acf1a423fa97f210550931f5c",
    "time": "2021-02-03T22:31:17.505Z",
    "type": "completion"
   },
   {
    "code": "# Return list of all country/region codes:\nwbdata.get_country()",
    "id": "db76163acf1a423fa97f210550931f5c",
    "idx": 1,
    "time": "2021-02-03T22:31:19.585Z",
    "type": "execution"
   },
   {
    "id": "db76163acf1a423fa97f210550931f5c",
    "time": "2021-02-03T22:31:19.808Z",
    "type": "completion"
   },
   {
    "code": "# Return list of all country/region codes:\nwbdata.get_country(\"CHN\")",
    "id": "db76163acf1a423fa97f210550931f5c",
    "idx": 1,
    "time": "2021-02-03T22:31:22.113Z",
    "type": "execution"
   },
   {
    "id": "db76163acf1a423fa97f210550931f5c",
    "time": "2021-02-03T22:31:22.371Z",
    "type": "completion"
   },
   {
    "code": "# Return list of all country/region codes:\nwbdata.get_country()",
    "id": "db76163acf1a423fa97f210550931f5c",
    "idx": 1,
    "time": "2021-02-03T22:32:01.165Z",
    "type": "execution"
   },
   {
    "id": "db76163acf1a423fa97f210550931f5c",
    "time": "2021-02-03T22:32:01.297Z",
    "type": "completion"
   },
   {
    "code": "variable_labels = {\"SP.POP.5054.MA\":\"China Population\"}\n\n# Get the \nchn = wbdata.get_dataframe(variable_labels, country=\"USA\")\nchn",
    "id": "0768649561fc4ff28370d7ca71bb7dfa",
    "idx": 5,
    "time": "2021-02-03T22:33:22.342Z",
    "type": "execution"
   },
   {
    "id": "0768649561fc4ff28370d7ca71bb7dfa",
    "time": "2021-02-03T22:33:22.824Z",
    "type": "completion"
   },
   {
    "code": "age=(10,15)\nage[0]",
    "id": "0b3c45d38c7c4d888a2ed68e39e50e6f",
    "idx": 10,
    "time": "2021-02-03T22:36:23.917Z",
    "type": "execution"
   },
   {
    "id": "0b3c45d38c7c4d888a2ed68e39e50e6f",
    "time": "2021-02-03T22:36:24.188Z",
    "type": "completion"
   },
   {
    "code": "age=(10,15)\nstr(age[0])+str(age[1])",
    "id": "0b3c45d38c7c4d888a2ed68e39e50e6f",
    "idx": 10,
    "time": "2021-02-03T22:36:32.983Z",
    "type": "execution"
   },
   {
    "id": "0b3c45d38c7c4d888a2ed68e39e50e6f",
    "time": "2021-02-03T22:36:33.068Z",
    "type": "completion"
   },
   {
    "code": "age=(15,19)\nstr(age[0])+str(age[1])",
    "id": "0b3c45d38c7c4d888a2ed68e39e50e6f",
    "idx": 10,
    "time": "2021-02-03T22:36:53.457Z",
    "type": "execution"
   },
   {
    "id": "0b3c45d38c7c4d888a2ed68e39e50e6f",
    "time": "2021-02-03T22:36:53.606Z",
    "type": "completion"
   },
   {
    "code": "age=(15,19)\n\"SP.POP\" + str(age[0])+str(age[1])",
    "id": "0b3c45d38c7c4d888a2ed68e39e50e6f",
    "idx": 10,
    "time": "2021-02-03T22:37:07.840Z",
    "type": "execution"
   },
   {
    "id": "0b3c45d38c7c4d888a2ed68e39e50e6f",
    "time": "2021-02-03T22:37:07.915Z",
    "type": "completion"
   },
   {
    "code": "age=(15,19)\n\"SP.POP.\" + str(age[0])+str(age[1])",
    "id": "0b3c45d38c7c4d888a2ed68e39e50e6f",
    "idx": 10,
    "time": "2021-02-03T22:37:12.939Z",
    "type": "execution"
   },
   {
    "id": "0b3c45d38c7c4d888a2ed68e39e50e6f",
    "time": "2021-02-03T22:37:13.151Z",
    "type": "completion"
   },
   {
    "code": "age=(15,19)\n\"SP.POP.\" + str(age[0])+str(age[1]) + \".MA\"",
    "id": "0b3c45d38c7c4d888a2ed68e39e50e6f",
    "idx": 10,
    "time": "2021-02-03T22:37:19.820Z",
    "type": "execution"
   },
   {
    "id": "0b3c45d38c7c4d888a2ed68e39e50e6f",
    "time": "2021-02-03T22:37:20.034Z",
    "type": "completion"
   },
   {
    "code": "def population(year, sex, age=(15,19) country):\n    \n    if sex == \"Male\":\n        variable_labels = \"SP.POP.\" + str(age[0])+str(age[1]) + \".MA\"\n    elif sex==\"Female\":\n        variable_labels = \"SP.POP.\" + str(age[0])+str(age[1]) + \".FE\"\n    \n    return wbdata.get_dataframe(variable_labels, country=country)",
    "id": "859e7141c23e4236aee94be527ca2500",
    "idx": 8,
    "time": "2021-02-03T22:41:25.480Z",
    "type": "execution"
   },
   {
    "id": "859e7141c23e4236aee94be527ca2500",
    "time": "2021-02-03T22:41:25.640Z",
    "type": "completion"
   },
   {
    "code": "def population(sex, age=(15,19), country):\n    \n    if sex == \"Male\":\n        variable_labels = \"SP.POP.\" + str(age[0])+str(age[1]) + \".MA\"\n    elif sex==\"Female\":\n        variable_labels = \"SP.POP.\" + str(age[0])+str(age[1]) + \".FE\"\n    \n    return wbdata.get_dataframe(variable_labels, country=country)",
    "id": "859e7141c23e4236aee94be527ca2500",
    "idx": 8,
    "time": "2021-02-03T22:41:48.248Z",
    "type": "execution"
   },
   {
    "id": "859e7141c23e4236aee94be527ca2500",
    "time": "2021-02-03T22:41:48.521Z",
    "type": "completion"
   },
   {
    "code": "def population(sex, age, country):\n    \n    if sex == \"Male\":\n        variable_labels = \"SP.POP.\" + str(age[0])+str(age[1]) + \".MA\"\n    elif sex==\"Female\":\n        variable_labels = \"SP.POP.\" + str(age[0])+str(age[1]) + \".FE\"\n    \n    return wbdata.get_dataframe(variable_labels, country=country)",
    "id": "859e7141c23e4236aee94be527ca2500",
    "idx": 8,
    "time": "2021-02-03T22:41:54.656Z",
    "type": "execution"
   },
   {
    "id": "859e7141c23e4236aee94be527ca2500",
    "time": "2021-02-03T22:41:54.733Z",
    "type": "completion"
   },
   {
    "code": "def population(sex, age, country):\n    \n    if sex == \"Male\":\n        variable_labels = \"SP.POP.\" + str(age[0])+str(age[1]) + \".MA\"\n    elif sex==\"Female\":\n        variable_labels = \"SP.POP.\" + str(age[0])+str(age[1]) + \".FE\"\n    \n    return wbdata.get_dataframe(variable_labels, country=country)\n\npopulation(sex='Male', age=(15,19), country='CHN')",
    "id": "859e7141c23e4236aee94be527ca2500",
    "idx": 8,
    "time": "2021-02-03T22:42:14.067Z",
    "type": "execution"
   },
   {
    "id": "859e7141c23e4236aee94be527ca2500",
    "time": "2021-02-03T22:42:14.228Z",
    "type": "completion"
   },
   {
    "code": "variable_labels = {\"SP.POP.1519.MA\":\"China Population\"}\n\n# Get the \nchn = wbdata.get_dataframe(variable_labels, country=\"USA\")\nchn",
    "id": "0768649561fc4ff28370d7ca71bb7dfa",
    "idx": 5,
    "time": "2021-02-03T22:42:37.782Z",
    "type": "execution"
   },
   {
    "id": "0768649561fc4ff28370d7ca71bb7dfa",
    "time": "2021-02-03T22:42:38.367Z",
    "type": "completion"
   },
   {
    "code": "def population(sex, age, country):\n    \n    if sex == \"Male\":\n        variable_labels = {\"SP.POP.\" + str(age[0])+str(age[1]) + \".MA\": sex + \" Population\"}\n    elif sex==\"Female\":\n        variable_labels = {\"SP.POP.\" + str(age[0])+str(age[1]) + \".FE\": sex + \" Population\"}\n    \n    return wbdata.get_dataframe(variable_labels, country=country)\n\npopulation(sex='Male', age=(15,19), country='CHN')",
    "id": "859e7141c23e4236aee94be527ca2500",
    "idx": 8,
    "time": "2021-02-03T22:43:29.592Z",
    "type": "execution"
   },
   {
    "id": "859e7141c23e4236aee94be527ca2500",
    "time": "2021-02-03T22:43:29.955Z",
    "type": "completion"
   },
   {
    "code": "chn = population('CHN')\nchn.index[0:3]",
    "id": "b20e3f24988f479b864852acf0ea2bf8",
    "idx": 9,
    "time": "2021-02-03T22:43:45.573Z",
    "type": "execution"
   },
   {
    "id": "b20e3f24988f479b864852acf0ea2bf8",
    "time": "2021-02-03T22:43:45.725Z",
    "type": "completion"
   },
   {
    "code": "def population(sex, age, country):\n    \n    if sex == \"Male\":\n        variable_labels = {\"SP.POP.\" + str(age[0])+str(age[1]) + \".MA\": sex + \" Population\"}\n    elif sex==\"Female\":\n        variable_labels = {\"SP.POP.\" + str(age[0])+str(age[1]) + \".FE\": sex + \" Population\"}\n    \n    return wbdata.get_dataframe(variable_labels, country=country)\n\nchn_1519_MA = population(sex='Male', age=(15,19), country='CHN')",
    "id": "859e7141c23e4236aee94be527ca2500",
    "idx": 8,
    "time": "2021-02-03T22:44:05.671Z",
    "type": "execution"
   },
   {
    "id": "859e7141c23e4236aee94be527ca2500",
    "time": "2021-02-03T22:44:05.756Z",
    "type": "completion"
   },
   {
    "code": "def population(sex, age, country):\n    \n    if sex == \"Male\":\n        variable_labels = {\"SP.POP.\" + str(age[0])+str(age[1]) + \".MA\": sex + \" Population\"}\n    elif sex==\"Female\":\n        variable_labels = {\"SP.POP.\" + str(age[0])+str(age[1]) + \".FE\": sex + \" Population\"}\n    \n    return wbdata.get_dataframe(variable_labels, country=country)\n\nchn_1519_MA = population(sex='Male', age=(15,19), country='CHN')\nchn_1519_MA",
    "id": "859e7141c23e4236aee94be527ca2500",
    "idx": 8,
    "time": "2021-02-03T22:44:13.944Z",
    "type": "execution"
   },
   {
    "id": "859e7141c23e4236aee94be527ca2500",
    "time": "2021-02-03T22:44:14.092Z",
    "type": "completion"
   },
   {
    "code": "def population(sex, age, country):\n    \n    if sex == \"Male\":\n        variable_labels = {\"SP.POP.TOTL\":'Population', \"SP.POP.\" + str(age[0])+str(age[1]) + \".MA\": sex + \" Population\"}\n    elif sex==\"Female\":\n        variable_labels = {\"SP.POP.TOTL\":'Population', \"SP.POP.\" + str(age[0])+str(age[1]) + \".FE\": sex + \" Population\"}\n    \n    return wbdata.get_dataframe(variable_labels, country=country)\n\nchn_1519_MA = population(sex='Male', age=(15,19), country='CHN')\nchn_1519_MA",
    "id": "859e7141c23e4236aee94be527ca2500",
    "idx": 8,
    "time": "2021-02-03T22:45:36.780Z",
    "type": "execution"
   },
   {
    "id": "859e7141c23e4236aee94be527ca2500",
    "time": "2021-02-03T22:45:36.890Z",
    "type": "completion"
   },
   {
    "code": "def population(sex, age, country):\n    \n    if sex == \"Male\":\n        variable_labels = {\"SP.POP.TOTL\":'Population', \n                           \"SP.POP.\" + str(age[0])+str(age[1]) + \".MA\": sex + \" Population\"}\n    elif sex==\"Female\":\n        variable_labels = {\"SP.POP.TOTL\":'Population', \n                           \"SP.POP.\" + str(age[0])+str(age[1]) + \".FE\": sex + \" Population\"}\n    \n    return wbdata.get_dataframe(variable_labels, country=country)\n\nchn_1519_MA = population(sex='Male', age=(15,19), country='CHN')\nchn_1519_MA",
    "id": "859e7141c23e4236aee94be527ca2500",
    "idx": 8,
    "time": "2021-02-03T22:46:14.722Z",
    "type": "execution"
   },
   {
    "id": "859e7141c23e4236aee94be527ca2500",
    "time": "2021-02-03T22:46:15.067Z",
    "type": "completion"
   },
   {
    "code": "def population(sex, age, country):\n    \n    if sex == \"Male\":\n        variable_labels = {\"SP.POP.TOTL\":'Population', \n                           \"SP.POP.\" + str(age[0])+str(age[1]) + \".MA\": sex}\n    elif sex==\"Female\":\n        variable_labels = {\"SP.POP.TOTL\":'Population', \n                           \"SP.POP.\" + str(age[0])+str(age[1]) + \".FE\": sex}\n    \n    return wbdata.get_dataframe(variable_labels, country=country)\n\nchn_1519_MA = population(sex='Male', age=(15,19), country='CHN')\nchn_1519_MA",
    "id": "859e7141c23e4236aee94be527ca2500",
    "idx": 8,
    "time": "2021-02-03T22:46:31.988Z",
    "type": "execution"
   },
   {
    "id": "859e7141c23e4236aee94be527ca2500",
    "time": "2021-02-03T22:46:32.577Z",
    "type": "completion"
   },
   {
    "code": "def population(sex, age, country, year):\n    \n    if sex == \"Male\":\n        variable_labels = {\"SP.POP.TOTL\":'Population', \n                           \"SP.POP.\" + str(age[0])+str(age[1]) + \".MA\": sex}\n    elif sex==\"Female\":\n        variable_labels = {\"SP.POP.TOTL\":'Population', \n                           \"SP.POP.\" + str(age[0])+str(age[1]) + \".FE\": sex}\n    \n    return wbdata.get_dataframe(variable_labels, country=country)\n\nchn_1519_MA = population(sex='Male', age=(15,19), country='CHN')\nchn_1519_MA.index",
    "id": "859e7141c23e4236aee94be527ca2500",
    "idx": 8,
    "time": "2021-02-03T22:47:40.286Z",
    "type": "execution"
   },
   {
    "id": "859e7141c23e4236aee94be527ca2500",
    "time": "2021-02-03T22:47:40.520Z",
    "type": "completion"
   },
   {
    "code": "def population(sex, age, country):\n    \n    if sex == \"Male\":\n        variable_labels = {\"SP.POP.TOTL\":'Population', \n                           \"SP.POP.\" + str(age[0])+str(age[1]) + \".MA\": sex}\n    elif sex==\"Female\":\n        variable_labels = {\"SP.POP.TOTL\":'Population', \n                           \"SP.POP.\" + str(age[0])+str(age[1]) + \".FE\": sex}\n    \n    return wbdata.get_dataframe(variable_labels, country=country)\n\nchn_1519_MA = population(sex='Male', age=(15,19), country='CHN')\nchn_1519_MA.index",
    "id": "859e7141c23e4236aee94be527ca2500",
    "idx": 8,
    "time": "2021-02-03T22:47:52.844Z",
    "type": "execution"
   },
   {
    "id": "859e7141c23e4236aee94be527ca2500",
    "time": "2021-02-03T22:47:52.944Z",
    "type": "completion"
   },
   {
    "code": "def population(sex, age, country):\n    \n    if sex == \"Male\":\n        variable_labels = {\"SP.POP.TOTL\":'Population', \n                           \"SP.POP.\" + str(age[0])+str(age[1]) + \".MA\": sex}\n    elif sex==\"Female\":\n        variable_labels = {\"SP.POP.TOTL\":'Population', \n                           \"SP.POP.\" + str(age[0])+str(age[1]) + \".FE\": sex}\n    \n    return wbdata.get_dataframe(variable_labels, country=country)\n\nchn_1519_MA = population(sex='Male', age=(15,19), country='CHN')\nchn_1519_MA.index[0]",
    "id": "859e7141c23e4236aee94be527ca2500",
    "idx": 8,
    "time": "2021-02-03T22:48:12.598Z",
    "type": "execution"
   },
   {
    "id": "859e7141c23e4236aee94be527ca2500",
    "time": "2021-02-03T22:48:12.838Z",
    "type": "completion"
   },
   {
    "code": "def population(sex, age, country):\n    \n    if sex == \"Male\":\n        variable_labels = {\"SP.POP.TOTL\":'Population', \n                           \"SP.POP.\" + str(age[0])+str(age[1]) + \".MA\": sex}\n    elif sex==\"Female\":\n        variable_labels = {\"SP.POP.TOTL\":'Population', \n                           \"SP.POP.\" + str(age[0])+str(age[1]) + \".FE\": sex}\n    \n    return wbdata.get_dataframe(variable_labels, country=country)\n\nchn_1519_MA = population(sex='Male', age=(15,19), country='CHN')\nchn_1519_MA.index[1960-end_year, 2020-start_year]",
    "id": "859e7141c23e4236aee94be527ca2500",
    "idx": 8,
    "time": "2021-02-03T22:49:08.601Z",
    "type": "execution"
   },
   {
    "id": "859e7141c23e4236aee94be527ca2500",
    "time": "2021-02-03T22:49:09.086Z",
    "type": "completion"
   },
   {
    "code": "def population(sex, age, country):\n    \n    if sex == \"Male\":\n        variable_labels = {\"SP.POP.TOTL\":'Population', \n                           \"SP.POP.\" + str(age[0])+str(age[1]) + \".MA\": sex}\n    elif sex==\"Female\":\n        variable_labels = {\"SP.POP.TOTL\":'Population', \n                           \"SP.POP.\" + str(age[0])+str(age[1]) + \".FE\": sex}\n    \n    return wbdata.get_dataframe(variable_labels, country=country)\n\nchn_1519_MA = population(sex='Male', age=(15,19), country='CHN')\nchn_1519_MA.index",
    "id": "859e7141c23e4236aee94be527ca2500",
    "idx": 8,
    "time": "2021-02-03T22:49:12.099Z",
    "type": "execution"
   },
   {
    "id": "859e7141c23e4236aee94be527ca2500",
    "time": "2021-02-03T22:49:12.320Z",
    "type": "completion"
   },
   {
    "code": "len(chn_1519_MA.index)",
    "id": "c9b9a35bebc64b4bbd13a825b3a4e9ca",
    "idx": 9,
    "time": "2021-02-03T22:49:25.731Z",
    "type": "execution"
   },
   {
    "id": "c9b9a35bebc64b4bbd13a825b3a4e9ca",
    "time": "2021-02-03T22:49:25.789Z",
    "type": "completion"
   },
   {
    "code": "chn_1519_MA.index[20]",
    "id": "c9b9a35bebc64b4bbd13a825b3a4e9ca",
    "idx": 9,
    "time": "2021-02-03T22:50:42.986Z",
    "type": "execution"
   },
   {
    "id": "c9b9a35bebc64b4bbd13a825b3a4e9ca",
    "time": "2021-02-03T22:50:43.074Z",
    "type": "completion"
   },
   {
    "code": "chn_1519_MA.index[30]",
    "id": "c9b9a35bebc64b4bbd13a825b3a4e9ca",
    "idx": 9,
    "time": "2021-02-03T22:50:45.502Z",
    "type": "execution"
   },
   {
    "id": "c9b9a35bebc64b4bbd13a825b3a4e9ca",
    "time": "2021-02-03T22:50:45.665Z",
    "type": "completion"
   },
   {
    "code": "chn_1519_MA.index[2020-1990]",
    "id": "c9b9a35bebc64b4bbd13a825b3a4e9ca",
    "idx": 9,
    "time": "2021-02-03T22:50:54.754Z",
    "type": "execution"
   },
   {
    "id": "c9b9a35bebc64b4bbd13a825b3a4e9ca",
    "time": "2021-02-03T22:50:54.987Z",
    "type": "completion"
   },
   {
    "code": "def population(sex, year, age, country):\n    \n    if sex == \"Male\":\n        variable_labels = {\"SP.POP.TOTL\":'Population', \n                           \"SP.POP.\" + str(age[0])+str(age[1]) + \".MA\": sex}\n    elif sex==\"Female\":\n        variable_labels = {\"SP.POP.TOTL\":'Population', \n                           \"SP.POP.\" + str(age[0])+str(age[1]) + \".FE\": sex}\n        \n    pop_df = wbdata.get_dataframe(variable_labels, country=country)\n    \n    pop_df.index[2020 - year]\n    return pop_df\n\nchn_1519_MA = population(sex='Male', year=1966, age=(15,19), country='CHN')\nchn_1519_MA.index",
    "id": "859e7141c23e4236aee94be527ca2500",
    "idx": 8,
    "time": "2021-02-03T22:54:26.689Z",
    "type": "execution"
   },
   {
    "id": "859e7141c23e4236aee94be527ca2500",
    "time": "2021-02-03T22:54:26.886Z",
    "type": "completion"
   },
   {
    "code": "def population(sex, year, age, country):\n    \n    if sex == \"Male\":\n        variable_labels = {\"SP.POP.TOTL\":'Population', \n                           \"SP.POP.\" + str(age[0])+str(age[1]) + \".MA\": sex}\n    elif sex==\"Female\":\n        variable_labels = {\"SP.POP.TOTL\":'Population', \n                           \"SP.POP.\" + str(age[0])+str(age[1]) + \".FE\": sex}\n        \n    pop_df = wbdata.get_dataframe(variable_labels, country=country)\n    \n    pop_df.index[2020 - year]\n    return pop_df\n\nchn_1519_MA = population(sex='Male', year=1966, age=(15,19), country='CHN')\nchn_1519_MA",
    "id": "859e7141c23e4236aee94be527ca2500",
    "idx": 8,
    "time": "2021-02-03T22:54:30.566Z",
    "type": "execution"
   },
   {
    "id": "859e7141c23e4236aee94be527ca2500",
    "time": "2021-02-03T22:54:30.803Z",
    "type": "completion"
   },
   {
    "code": "def population(sex, year, age, country):\n    \n    if sex == \"Male\":\n        variable_labels = {\"SP.POP.TOTL\":'Population', \n                           \"SP.POP.\" + str(age[0])+str(age[1]) + \".MA\": sex}\n    elif sex==\"Female\":\n        variable_labels = {\"SP.POP.TOTL\":'Population', \n                           \"SP.POP.\" + str(age[0])+str(age[1]) + \".FE\": sex}\n        \n    pop_df = wbdata.get_dataframe(variable_labels, country=country)\n    pop_df = pop_df.filter(like=year)\n    return pop_df\n\nchn_1519_MA = population(sex='Male', year=1966, age=(15,19), country='CHN')\nchn_1519_MA",
    "id": "859e7141c23e4236aee94be527ca2500",
    "idx": 8,
    "time": "2021-02-03T22:57:56.139Z",
    "type": "execution"
   },
   {
    "id": "859e7141c23e4236aee94be527ca2500",
    "time": "2021-02-03T22:57:56.391Z",
    "type": "completion"
   },
   {
    "code": "chn_1519_MA = population(sex='Male', year=1966, age=(15,19), country='CHN')\nchn_1519_MA",
    "id": "22b7d10f4ecb4ffe82d5015b9112f1ec",
    "idx": 9,
    "time": "2021-02-03T22:58:08.090Z",
    "type": "execution"
   },
   {
    "id": "22b7d10f4ecb4ffe82d5015b9112f1ec",
    "time": "2021-02-03T22:58:08.319Z",
    "type": "completion"
   },
   {
    "code": "def population(sex, year, age, country):\n    \n    if sex == \"Male\":\n        variable_labels = {\"SP.POP.TOTL\":'Population', \n                           \"SP.POP.\" + str(age[0])+str(age[1]) + \".MA\": sex}\n    elif sex==\"Female\":\n        variable_labels = {\"SP.POP.TOTL\":'Population', \n                           \"SP.POP.\" + str(age[0])+str(age[1]) + \".FE\": sex}\n        \n    pop_df = wbdata.get_dataframe(variable_labels, country=country)\n    pop_df = pop_df.filter(like=year)\n    return pop_df",
    "id": "859e7141c23e4236aee94be527ca2500",
    "idx": 8,
    "time": "2021-02-03T22:58:12.429Z",
    "type": "execution"
   },
   {
    "id": "859e7141c23e4236aee94be527ca2500",
    "time": "2021-02-03T22:58:12.597Z",
    "type": "completion"
   },
   {
    "code": "def population(sex, year, age, country):\n    \n    if sex == \"Male\":\n        variable_labels = {\"SP.POP.TOTL\":'Population', \n                           \"SP.POP.\" + str(age[0])+str(age[1]) + \".MA\": sex}\n    elif sex==\"Female\":\n        variable_labels = {\"SP.POP.TOTL\":'Population', \n                           \"SP.POP.\" + str(age[0])+str(age[1]) + \".FE\": sex}\n        \n    pop_df = wbdata.get_dataframe(variable_labels, country=country)\n    pop_df = pop_df.filter(like=year, axis=0)\n    return pop_df",
    "id": "859e7141c23e4236aee94be527ca2500",
    "idx": 8,
    "time": "2021-02-03T23:00:11.264Z",
    "type": "execution"
   },
   {
    "id": "859e7141c23e4236aee94be527ca2500",
    "time": "2021-02-03T23:00:11.333Z",
    "type": "completion"
   },
   {
    "code": "chn_1519_MA = population(sex='Male', year=1966, age=(15,19), country='CHN')\nchn_1519_MA",
    "id": "22b7d10f4ecb4ffe82d5015b9112f1ec",
    "idx": 9,
    "time": "2021-02-03T23:00:11.972Z",
    "type": "execution"
   },
   {
    "id": "22b7d10f4ecb4ffe82d5015b9112f1ec",
    "time": "2021-02-03T23:00:12.168Z",
    "type": "completion"
   },
   {
    "code": "chn_1519_MA = population(sex='Male', year=1966, age=(15,19), country='CHN')\nchn_1519_MA.index",
    "id": "22b7d10f4ecb4ffe82d5015b9112f1ec",
    "idx": 9,
    "time": "2021-02-03T23:00:23.166Z",
    "type": "execution"
   },
   {
    "id": "22b7d10f4ecb4ffe82d5015b9112f1ec",
    "time": "2021-02-03T23:00:23.296Z",
    "type": "completion"
   },
   {
    "code": "def population(sex, year, age, country):\n    \n    if sex == \"Male\":\n        variable_labels = {\"SP.POP.TOTL\":'Population', \n                           \"SP.POP.\" + str(age[0])+str(age[1]) + \".MA\": sex}\n    elif sex==\"Female\":\n        variable_labels = {\"SP.POP.TOTL\":'Population', \n                           \"SP.POP.\" + str(age[0])+str(age[1]) + \".FE\": sex}\n        \n    pop_df = wbdata.get_dataframe(variable_labels, country=country)\n    pop_df.index.astype(int)\n    pop_df = pop_df.filter(like=year, axis=0)\n    return pop_df",
    "id": "859e7141c23e4236aee94be527ca2500",
    "idx": 8,
    "time": "2021-02-03T23:01:03.653Z",
    "type": "execution"
   },
   {
    "id": "859e7141c23e4236aee94be527ca2500",
    "time": "2021-02-03T23:01:03.881Z",
    "type": "completion"
   },
   {
    "code": "chn_1519_MA = population(sex='Male', year=1966, age=(15,19), country='CHN')\nchn_1519_MA",
    "id": "22b7d10f4ecb4ffe82d5015b9112f1ec",
    "idx": 9,
    "time": "2021-02-03T23:01:04.656Z",
    "type": "execution"
   },
   {
    "id": "22b7d10f4ecb4ffe82d5015b9112f1ec",
    "time": "2021-02-03T23:01:05.197Z",
    "type": "completion"
   },
   {
    "code": "def population(sex, year, age, country):\n    \n    if sex == \"Male\":\n        variable_labels = {\"SP.POP.TOTL\":'Population', \n                           \"SP.POP.\" + str(age[0])+str(age[1]) + \".MA\": sex}\n    elif sex==\"Female\":\n        variable_labels = {\"SP.POP.TOTL\":'Population', \n                           \"SP.POP.\" + str(age[0])+str(age[1]) + \".FE\": sex}\n        \n    pop_df = wbdata.get_dataframe(variable_labels, country=country)\n    pop_df = pop_df.index.astype(int)\n    pop_df = pop_df.filter(like=year, axis=0)\n    return pop_df",
    "id": "859e7141c23e4236aee94be527ca2500",
    "idx": 8,
    "time": "2021-02-03T23:01:14.197Z",
    "type": "execution"
   },
   {
    "code": "chn_1519_MA = population(sex='Male', year=1966, age=(15,19), country='CHN')\nchn_1519_MA",
    "id": "22b7d10f4ecb4ffe82d5015b9112f1ec",
    "idx": 9,
    "time": "2021-02-03T23:01:14.566Z",
    "type": "execution"
   },
   {
    "id": "859e7141c23e4236aee94be527ca2500",
    "time": "2021-02-03T23:01:14.750Z",
    "type": "completion"
   },
   {
    "id": "22b7d10f4ecb4ffe82d5015b9112f1ec",
    "time": "2021-02-03T23:01:14.781Z",
    "type": "completion"
   },
   {
    "code": "def population(sex, year, age, country):\n    \n    if sex == \"Male\":\n        variable_labels = {\"SP.POP.TOTL\":'Population', \n                           \"SP.POP.\" + str(age[0])+str(age[1]) + \".MA\": sex}\n    elif sex==\"Female\":\n        variable_labels = {\"SP.POP.TOTL\":'Population', \n                           \"SP.POP.\" + str(age[0])+str(age[1]) + \".FE\": sex}\n        \n    pop_df = wbdata.get_dataframe(variable_labels, country=country)\n    pop_df = pop_df.filter(items=year, axis=0)\n    return pop_df",
    "id": "859e7141c23e4236aee94be527ca2500",
    "idx": 8,
    "time": "2021-02-03T23:01:50.376Z",
    "type": "execution"
   },
   {
    "id": "859e7141c23e4236aee94be527ca2500",
    "time": "2021-02-03T23:01:50.508Z",
    "type": "completion"
   },
   {
    "code": "chn_1519_MA = population(sex='Male', year=1966, age=(15,19), country='CHN')\nchn_1519_MA",
    "id": "22b7d10f4ecb4ffe82d5015b9112f1ec",
    "idx": 9,
    "time": "2021-02-03T23:01:50.992Z",
    "type": "execution"
   },
   {
    "id": "22b7d10f4ecb4ffe82d5015b9112f1ec",
    "time": "2021-02-03T23:01:51.338Z",
    "type": "completion"
   },
   {
    "code": "def population(sex, year, age, country):\n    \n    if sex == \"Male\":\n        variable_labels = {\"SP.POP.TOTL\":'Population', \n                           \"SP.POP.\" + str(age[0])+str(age[1]) + \".MA\": sex}\n    elif sex==\"Female\":\n        variable_labels = {\"SP.POP.TOTL\":'Population', \n                           \"SP.POP.\" + str(age[0])+str(age[1]) + \".FE\": sex}\n        \n    pop_df = wbdata.get_dataframe(variable_labels, country=country)\n    pop_df = pop_df.filter(items=[year], axis=0)\n    return pop_df",
    "id": "859e7141c23e4236aee94be527ca2500",
    "idx": 8,
    "time": "2021-02-03T23:02:02.705Z",
    "type": "execution"
   },
   {
    "id": "859e7141c23e4236aee94be527ca2500",
    "time": "2021-02-03T23:02:02.768Z",
    "type": "completion"
   },
   {
    "code": "chn_1519_MA = population(sex='Male', year=1966, age=(15,19), country='CHN')\nchn_1519_MA",
    "id": "22b7d10f4ecb4ffe82d5015b9112f1ec",
    "idx": 9,
    "time": "2021-02-03T23:02:03.336Z",
    "type": "execution"
   },
   {
    "id": "22b7d10f4ecb4ffe82d5015b9112f1ec",
    "time": "2021-02-03T23:02:03.487Z",
    "type": "completion"
   },
   {
    "code": "def population(sex, year, age, country):\n    \n    if sex == \"Male\":\n        variable_labels = {\"SP.POP.TOTL\":'Population', \n                           \"SP.POP.\" + str(age[0])+str(age[1]) + \".MA\": sex}\n    elif sex==\"Female\":\n        variable_labels = {\"SP.POP.TOTL\":'Population', \n                           \"SP.POP.\" + str(age[0])+str(age[1]) + \".FE\": sex}\n        \n    pop_df = wbdata.get_dataframe(variable_labels, country=country)\n    pop_df = pop_df.filter(like=str(year), axis=0)\n    return pop_df",
    "id": "859e7141c23e4236aee94be527ca2500",
    "idx": 8,
    "time": "2021-02-03T23:03:11.456Z",
    "type": "execution"
   },
   {
    "id": "859e7141c23e4236aee94be527ca2500",
    "time": "2021-02-03T23:03:11.552Z",
    "type": "completion"
   },
   {
    "code": "chn_1519_MA = population(sex='Male', year=1966, age=(15,19), country='CHN')\nchn_1519_MA",
    "id": "22b7d10f4ecb4ffe82d5015b9112f1ec",
    "idx": 9,
    "time": "2021-02-03T23:03:12.046Z",
    "type": "execution"
   },
   {
    "id": "22b7d10f4ecb4ffe82d5015b9112f1ec",
    "time": "2021-02-03T23:03:12.234Z",
    "type": "completion"
   },
   {
    "code": "chn_1519_MA = population(sex='Male', year=2000, age=(15,19), country='CHN')\nchn_1519_MA",
    "id": "22b7d10f4ecb4ffe82d5015b9112f1ec",
    "idx": 9,
    "time": "2021-02-03T23:03:19.407Z",
    "type": "execution"
   },
   {
    "id": "22b7d10f4ecb4ffe82d5015b9112f1ec",
    "time": "2021-02-03T23:03:19.513Z",
    "type": "completion"
   },
   {
    "code": "chn_1519_MA = population(sex='Male', year=2000, age=(15,19), country='CHN')\nchn_1519_MA",
    "id": "22b7d10f4ecb4ffe82d5015b9112f1ec",
    "idx": 9,
    "time": "2021-02-03T23:03:31.483Z",
    "type": "execution"
   },
   {
    "id": "22b7d10f4ecb4ffe82d5015b9112f1ec",
    "time": "2021-02-03T23:03:31.985Z",
    "type": "completion"
   },
   {
    "code": "chn_1519_MA = population(sex='Female', year=2000, age=(15,19), country='CHN')\nchn_1519_MA",
    "id": "22b7d10f4ecb4ffe82d5015b9112f1ec",
    "idx": 9,
    "time": "2021-02-03T23:03:37.699Z",
    "type": "execution"
   },
   {
    "id": "22b7d10f4ecb4ffe82d5015b9112f1ec",
    "time": "2021-02-03T23:03:38.063Z",
    "type": "completion"
   },
   {
    "code": "chn_1519_MA = population(sex='Female', year=2000, age=(50,54), country='CHN')\nchn_1519_MA",
    "id": "22b7d10f4ecb4ffe82d5015b9112f1ec",
    "idx": 9,
    "time": "2021-02-03T23:03:51.439Z",
    "type": "execution"
   },
   {
    "id": "22b7d10f4ecb4ffe82d5015b9112f1ec",
    "time": "2021-02-03T23:03:51.858Z",
    "type": "completion"
   },
   {
    "code": "chn_1519_MA = population(sex='Female', year=2000, age=(50,54), country='USA')\nchn_1519_MA",
    "id": "22b7d10f4ecb4ffe82d5015b9112f1ec",
    "idx": 9,
    "time": "2021-02-03T23:03:53.977Z",
    "type": "execution"
   },
   {
    "id": "22b7d10f4ecb4ffe82d5015b9112f1ec",
    "time": "2021-02-03T23:03:54.304Z",
    "type": "completion"
   },
   {
    "code": "chn_1519_MA = population(sex='Female', year=2000, age=(50,54), country='CHN')\nchn_1519_MA",
    "id": "22b7d10f4ecb4ffe82d5015b9112f1ec",
    "idx": 9,
    "time": "2021-02-03T23:03:58.045Z",
    "type": "execution"
   },
   {
    "id": "22b7d10f4ecb4ffe82d5015b9112f1ec",
    "time": "2021-02-03T23:03:58.193Z",
    "type": "completion"
   },
   {
    "code": "chn_1519_MA = population(sex='Female', year=2000, age=(50,54), country='CHN')\nchn_1519_MA",
    "id": "22b7d10f4ecb4ffe82d5015b9112f1ec",
    "idx": 9,
    "time": "2021-02-03T23:06:46.448Z",
    "type": "execution"
   },
   {
    "id": "22b7d10f4ecb4ffe82d5015b9112f1ec",
    "time": "2021-02-03T23:06:46.718Z",
    "type": "completion"
   },
   {
    "code": "# Function that takes in a SEX (\"Male\", \"Female\")\ndef population(sex, year, age, country):\n    if sex == \"Male\":\n        variable_labels = {\"SP.POP.TOTL\":'Total Population', \n                           \"SP.POP.\" + str(age[0])+str(age[1]) + \".MA\": sex}\n    elif sex==\"Female\":\n        variable_labels = {\"SP.POP.TOTL\":'Population', \n                           \"SP.POP.\" + str(age[0])+str(age[1]) + \".FE\": sex}\n    pop_df = wbdata.get_dataframe(variable_labels, country=country)\n    pop_df = pop_df.filter(like=str(year), axis=0)\n    return pop_df",
    "id": "859e7141c23e4236aee94be527ca2500",
    "idx": 8,
    "time": "2021-02-03T23:07:12.878Z",
    "type": "execution"
   },
   {
    "id": "859e7141c23e4236aee94be527ca2500",
    "time": "2021-02-03T23:07:13.149Z",
    "type": "completion"
   },
   {
    "code": "# Function that takes in a SEX (\"Male\", \"Female\")\ndef population(sex, year, age, country):\n    if sex == \"Male\":\n        variable_labels = {\"SP.POP.TOTL\":'Total Population', \n                           \"SP.POP.\" + str(age[0])+str(age[1]) + \".MA\": sex}\n    elif sex==\"Female\":\n        variable_labels = {\"SP.POP.TOTL\":'Population', \n                           \"SP.POP.\" + str(age[0])+str(age[1]) + \".FE\": sex}\n    pop_df = wbdata.get_dataframe(variable_labels, country=country)\n    pop_df = pop_df.filter(like=str(year), axis=0)\n    return pop_df",
    "id": "859e7141c23e4236aee94be527ca2500",
    "idx": 8,
    "time": "2021-02-03T23:07:16.576Z",
    "type": "execution"
   },
   {
    "code": "chn_1519_MA = population(sex='Female', year=2000, age=(50,54), country='CHN')\nchn_1519_MA",
    "id": "22b7d10f4ecb4ffe82d5015b9112f1ec",
    "idx": 9,
    "time": "2021-02-03T23:07:16.795Z",
    "type": "execution"
   },
   {
    "id": "859e7141c23e4236aee94be527ca2500",
    "time": "2021-02-03T23:07:17.059Z",
    "type": "completion"
   },
   {
    "id": "22b7d10f4ecb4ffe82d5015b9112f1ec",
    "time": "2021-02-03T23:07:17.143Z",
    "type": "completion"
   },
   {
    "code": "# Function that takes in a SEX (\"Male\", \"Female\")\ndef population(sex, year, age, country):\n    if sex == \"Male\":\n        variable_labels = {\"SP.POP.TOTL\":'Total Population', \n                           \"SP.POP.\" + str(age[0])+str(age[1]) + \".MA\": sex}\n    elif sex==\"Female\":\n        variable_labels = {\"SP.POP.TOTL\":'Total Population', \n                           \"SP.POP.\" + str(age[0])+str(age[1]) + \".FE\": sex}\n    pop_df = wbdata.get_dataframe(variable_labels, country=country)\n    pop_df = pop_df.filter(like=str(year), axis=0)\n    return pop_df",
    "id": "859e7141c23e4236aee94be527ca2500",
    "idx": 8,
    "time": "2021-02-03T23:07:22.164Z",
    "type": "execution"
   },
   {
    "id": "859e7141c23e4236aee94be527ca2500",
    "time": "2021-02-03T23:07:22.459Z",
    "type": "completion"
   },
   {
    "code": "chn_1519_MA = population(sex='Female', year=2000, age=(50,54), country='CHN')\nchn_1519_MA",
    "id": "22b7d10f4ecb4ffe82d5015b9112f1ec",
    "idx": 9,
    "time": "2021-02-03T23:07:22.712Z",
    "type": "execution"
   },
   {
    "id": "22b7d10f4ecb4ffe82d5015b9112f1ec",
    "time": "2021-02-03T23:07:22.855Z",
    "type": "completion"
   },
   {
    "code": "# Function that takes in a SEX (\"Male\", \"Female\"),\n\ndef population(sex, year, age, country):\n    if sex == \"Male\":\n        variable_labels = {\"SP.POP.\" + str(age[0])+str(age[1]) + \".MA\": sex}\n    elif sex==\"Female\":\n        variable_labels = {\"SP.POP.\" + str(age[0])+str(age[1]) + \".FE\": sex}\n    pop_df = wbdata.get_dataframe(variable_labels, country=country)\n    pop_df = pop_df.filter(like=str(year), axis=0)\n    return pop_df",
    "id": "859e7141c23e4236aee94be527ca2500",
    "idx": 8,
    "time": "2021-02-03T23:12:30.976Z",
    "type": "execution"
   },
   {
    "code": "chn_1519_MA = population(sex='Female', year=2000, age=(50,54), country='CHN')\nchn_1519_MA",
    "id": "22b7d10f4ecb4ffe82d5015b9112f1ec",
    "idx": 9,
    "time": "2021-02-03T23:12:31.193Z",
    "type": "execution"
   },
   {
    "id": "859e7141c23e4236aee94be527ca2500",
    "time": "2021-02-03T23:12:31.317Z",
    "type": "completion"
   },
   {
    "id": "22b7d10f4ecb4ffe82d5015b9112f1ec",
    "time": "2021-02-03T23:12:31.338Z",
    "type": "completion"
   },
   {
    "code": "# Function that takes in a SEX (\"Male\", \"Female\"), ... , COUNTRY=, .. and \n\ndef population(sex, year, age, country):\n    if sex == \"Male\":\n        variable_labels = {\"SP.POP.\" + str(age[0])+str(age[1]) + \".MA\": sex}\n    elif sex==\"Female\":\n        variable_labels = {\"SP.POP.\" + str(age[0])+str(age[1]) + \".FE\": sex}\n    pop_df = wbdata.get_dataframe(variable_labels, country=country)\n    pop_df = pop_df.filter(like=str(year), axis=0)\n    return pop_df[sex][0]",
    "id": "859e7141c23e4236aee94be527ca2500",
    "idx": 8,
    "time": "2021-02-03T23:14:15.328Z",
    "type": "execution"
   },
   {
    "id": "859e7141c23e4236aee94be527ca2500",
    "time": "2021-02-03T23:14:15.478Z",
    "type": "completion"
   },
   {
    "code": "chn_1519_MA = population(sex='Female', year=2000, age=(50,54), country='CHN')\nchn_1519_MA",
    "id": "22b7d10f4ecb4ffe82d5015b9112f1ec",
    "idx": 9,
    "time": "2021-02-03T23:14:15.529Z",
    "type": "execution"
   },
   {
    "id": "22b7d10f4ecb4ffe82d5015b9112f1ec",
    "time": "2021-02-03T23:14:15.781Z",
    "type": "completion"
   },
   {
    "code": "!pip install wbdata\n\nimport wbdata\nimport numpy as np",
    "id": "05a984042dae411981613d6280e30e2a",
    "idx": 0,
    "time": "2021-02-08T04:56:54.555Z",
    "type": "execution"
   },
   {
    "code": "# Return list of all country/region codes:\nwbdata.get_country()",
    "id": "d03097f4f91648ee8ce93b8bcafd6efa",
    "idx": 1,
    "time": "2021-02-08T04:56:54.560Z",
    "type": "execution"
   },
   {
    "code": "wbdata.get_source()",
    "id": "74bb6a29482b4dc38304af49b30e1d2b",
    "idx": 3,
    "time": "2021-02-08T04:56:54.563Z",
    "type": "execution"
   },
   {
    "code": "SOURCE = 40 # \"Population estimates and projections\n\nindicators = wbdata.get_indicator(source=SOURCE)\nindicators",
    "id": "d3adba0562d34a4cb2f89bef94737a4f",
    "idx": 4,
    "time": "2021-02-08T04:56:54.565Z",
    "type": "execution"
   },
   {
    "code": "variable_labels = {\"SP.POP.1519.MA\":\"China Population\"}\n\n# Get the \nchn = wbdata.get_dataframe(variable_labels, country=\"USA\")\nchn",
    "id": "21452ec7f1d84bb1acb3175b01ac3646",
    "idx": 5,
    "time": "2021-02-08T04:56:54.568Z",
    "type": "execution"
   },
   {
    "code": "# Date index is of type string; change to integers\nchn.index = chn.index.astype(int)\n\n# Rename \"date\" to \"year\"\nchn",
    "id": "60f5f4a76f82424b80c8c92b2cb48880",
    "idx": 6,
    "time": "2021-02-08T04:56:54.570Z",
    "type": "execution"
   },
   {
    "code": "# Function that takes in a SEX (\"Male\", \"Female\"), ... , COUNTRY=, .. and returns a statistic for the given function arguments\n\ndef population(sex, year, age, country):\n    if sex == \"Male\":\n        variable_labels = {\"SP.POP.\" + str(age[0])+str(age[1]) + \".MA\": sex}\n    elif sex==\"Female\":\n        variable_labels = {\"SP.POP.\" + str(age[0])+str(age[1]) + \".FE\": sex}\n    pop_df = wbdata.get_dataframe(variable_labels, country=country)\n    pop_df = pop_df.filter(like=str(year), axis=0)\n    return pop_df[sex][0]",
    "id": "f30316964a6d45f68ccb4811130de320",
    "idx": 8,
    "time": "2021-02-08T04:56:56.321Z",
    "type": "execution"
   },
   {
    "id": "05a984042dae411981613d6280e30e2a",
    "time": "2021-02-08T04:57:00.069Z",
    "type": "completion"
   },
   {
    "id": "d03097f4f91648ee8ce93b8bcafd6efa",
    "time": "2021-02-08T04:57:00.147Z",
    "type": "completion"
   },
   {
    "id": "74bb6a29482b4dc38304af49b30e1d2b",
    "time": "2021-02-08T04:57:00.174Z",
    "type": "completion"
   },
   {
    "id": "d3adba0562d34a4cb2f89bef94737a4f",
    "time": "2021-02-08T04:57:00.202Z",
    "type": "completion"
   },
   {
    "id": "21452ec7f1d84bb1acb3175b01ac3646",
    "time": "2021-02-08T04:57:00.268Z",
    "type": "completion"
   },
   {
    "id": "60f5f4a76f82424b80c8c92b2cb48880",
    "time": "2021-02-08T04:57:00.296Z",
    "type": "completion"
   },
   {
    "id": "f30316964a6d45f68ccb4811130de320",
    "time": "2021-02-08T04:57:00.298Z",
    "type": "completion"
   },
   {
    "code": "population(\"Female\", 2010, (15,19), \"CHN\")",
    "id": "e5ffbbd9022e4b04a93a590a5991f2fb",
    "idx": 9,
    "time": "2021-02-08T04:57:28.120Z",
    "type": "execution"
   },
   {
    "id": "e5ffbbd9022e4b04a93a590a5991f2fb",
    "time": "2021-02-08T04:57:28.186Z",
    "type": "completion"
   },
   {
    "code": "!pip install wbdata\n\nimport wbdata\nimport numpy as np",
    "id": "5275d24e6bae416b8fa1744ad035ebff",
    "idx": 0,
    "time": "2021-02-08T23:11:51.913Z",
    "type": "execution"
   },
   {
    "code": "# Return list of all country/region codes:\nwbdata.get_country()",
    "id": "7440523973eb47f8800c9cdf20b2a0d8",
    "idx": 1,
    "time": "2021-02-08T23:11:52.045Z",
    "type": "execution"
   },
   {
    "code": "wbdata.get_source()",
    "id": "8834edbb66dd490d86def9393acbf85b",
    "idx": 3,
    "time": "2021-02-08T23:11:52.212Z",
    "type": "execution"
   },
   {
    "code": "SOURCE = 40 # \"Population estimates and projections\n\nindicators = wbdata.get_indicator(source=SOURCE)\nindicators",
    "id": "5629cfafb46c4e7289b523aa8a914426",
    "idx": 4,
    "time": "2021-02-08T23:11:52.306Z",
    "type": "execution"
   },
   {
    "id": "5275d24e6bae416b8fa1744ad035ebff",
    "time": "2021-02-08T23:11:56.918Z",
    "type": "completion"
   },
   {
    "id": "7440523973eb47f8800c9cdf20b2a0d8",
    "time": "2021-02-08T23:11:57.356Z",
    "type": "completion"
   },
   {
    "id": "8834edbb66dd490d86def9393acbf85b",
    "time": "2021-02-08T23:11:57.691Z",
    "type": "completion"
   },
   {
    "id": "5629cfafb46c4e7289b523aa8a914426",
    "time": "2021-02-08T23:11:57.801Z",
    "type": "completion"
   },
   {
    "code": "SOURCE = 16 # \"Population estimates and projections\n\nindicators = wbdata.get_indicator(source=SOURCE)\nindicators",
    "id": "5629cfafb46c4e7289b523aa8a914426",
    "idx": 4,
    "time": "2021-02-08T23:12:21.974Z",
    "type": "execution"
   },
   {
    "id": "5629cfafb46c4e7289b523aa8a914426",
    "time": "2021-02-08T23:12:23.149Z",
    "type": "completion"
   },
   {
    "code": "variable_labels = {\"SP.POP.1519.MA\":\"China Population\"}\n\n# Get the \nchn = wbdata.get_dataframe(variable_labels, freq='Y')\nchn",
    "id": "ab5169f7b0e54d929cabe11c434d455b",
    "idx": 5,
    "time": "2021-02-09T00:02:05.683Z",
    "type": "execution"
   },
   {
    "id": "ab5169f7b0e54d929cabe11c434d455b",
    "time": "2021-02-09T00:02:11.893Z",
    "type": "completion"
   },
   {
    "code": "variable_labels = {\"SP.POP.1519.MA\":\"Total Population\"}\n\n# Get the \nchn = wbdata.get_dataframe(variable_labels, freq='Y')\nchn",
    "id": "ab5169f7b0e54d929cabe11c434d455b",
    "idx": 5,
    "time": "2021-02-09T00:02:56.537Z",
    "type": "execution"
   },
   {
    "id": "ab5169f7b0e54d929cabe11c434d455b",
    "time": "2021-02-09T00:02:56.764Z",
    "type": "completion"
   },
   {
    "code": "variable_labels = {\"SP.POP.1519.MA\":\"Total Population\"}\n\n# Get the \nchn = wbdata.get_dataframe(variable_labels, freq='Y')\nchn",
    "id": "ab5169f7b0e54d929cabe11c434d455b",
    "idx": 5,
    "time": "2021-02-09T00:46:19.119Z",
    "type": "execution"
   },
   {
    "id": "ab5169f7b0e54d929cabe11c434d455b",
    "time": "2021-02-09T00:46:19.370Z",
    "type": "completion"
   },
   {
    "code": "variable_labels = {\"SP.POP.1519.MA\":\"Total Population\"}\n\n# Get the \nchn = wbdata.get_dataframe(variable_labels, freq='Y')\nchn",
    "id": "ab5169f7b0e54d929cabe11c434d455b",
    "idx": 5,
    "time": "2021-02-09T00:46:35.903Z",
    "type": "execution"
   },
   {
    "id": "ab5169f7b0e54d929cabe11c434d455b",
    "time": "2021-02-09T00:46:36.091Z",
    "type": "completion"
   },
   {
    "code": "population(\"Female\", 2010, (16,19), \"CHN\")",
    "id": "6d15d280af3b4b1188e70adefe67af08",
    "idx": 9,
    "time": "2021-02-09T01:03:43.127Z",
    "type": "execution"
   },
   {
    "id": "6d15d280af3b4b1188e70adefe67af08",
    "time": "2021-02-09T01:03:43.291Z",
    "type": "completion"
   },
   {
    "code": "# Function that takes in a SEX (\"Male\", \"Female\"), ... , COUNTRY=, .. and returns a statistic for the given function arguments\n\ndef population(sex, year, age, country):\n    if sex == \"Male\":\n        variable_labels = {\"SP.POP.\" + str(age[0])+str(age[1]) + \".MA\": sex}\n    elif sex==\"Female\":\n        variable_labels = {\"SP.POP.\" + str(age[0])+str(age[1]) + \".FE\": sex}\n    pop_df = wbdata.get_dataframe(variable_labels, country=country)\n    pop_df = pop_df.filter(like=str(year), axis=0)\n    return pop_df[sex][0]",
    "id": "10651a43d0a444f38b2587b3829ad0e6",
    "idx": 8,
    "time": "2021-02-09T01:03:46.156Z",
    "type": "execution"
   },
   {
    "id": "10651a43d0a444f38b2587b3829ad0e6",
    "time": "2021-02-09T01:03:46.217Z",
    "type": "completion"
   },
   {
    "code": "population(\"Female\", 2010, (16,19), \"CHN\")",
    "id": "6d15d280af3b4b1188e70adefe67af08",
    "idx": 9,
    "time": "2021-02-09T01:03:46.326Z",
    "type": "execution"
   },
   {
    "id": "6d15d280af3b4b1188e70adefe67af08",
    "time": "2021-02-09T01:03:46.802Z",
    "type": "completion"
   },
   {
    "code": "population(\"Female\", 2010, (15,19), \"CHN\")",
    "id": "6d15d280af3b4b1188e70adefe67af08",
    "idx": 9,
    "time": "2021-02-09T01:03:50.297Z",
    "type": "execution"
   },
   {
    "id": "6d15d280af3b4b1188e70adefe67af08",
    "time": "2021-02-09T01:03:50.359Z",
    "type": "completion"
   },
   {
    "code": "import geopandas as geo",
    "id": "35844b3066f74b1184d7a5caababe686",
    "idx": 17,
    "time": "2021-02-09T01:05:01.917Z",
    "type": "execution"
   },
   {
    "id": "35844b3066f74b1184d7a5caababe686",
    "time": "2021-02-09T01:05:02.311Z",
    "type": "completion"
   },
   {
    "code": "!pip install geopandas\nimport geopandas as geo",
    "id": "35844b3066f74b1184d7a5caababe686",
    "idx": 17,
    "time": "2021-02-09T01:05:10.610Z",
    "type": "execution"
   },
   {
    "id": "35844b3066f74b1184d7a5caababe686",
    "time": "2021-02-09T01:05:14.969Z",
    "type": "completion"
   },
   {
    "code": "!pip install wbdata\n\nimport wbdata\nimport numpy as np",
    "id": "ad9c5778c6bb420d8be790fa812d0453",
    "idx": 0,
    "time": "2021-02-09T04:01:07.058Z",
    "type": "execution"
   },
   {
    "code": "# Return list of all country/region codes:\nwbdata.get_country()",
    "id": "f948b56faa0f49bc8f84d9ba24981f93",
    "idx": 1,
    "time": "2021-02-09T04:01:07.222Z",
    "type": "execution"
   },
   {
    "code": "wbdata.get_source()",
    "id": "1f89b1905f6f402080831d1d83eeb780",
    "idx": 3,
    "time": "2021-02-09T04:01:07.562Z",
    "type": "execution"
   },
   {
    "code": "SOURCE = 16 # \"Population estimates and projections\n\nindicators = wbdata.get_indicator(source=SOURCE)\nindicators",
    "id": "b71dcac739b0426f87a32b1f02f055e6",
    "idx": 4,
    "time": "2021-02-09T04:01:07.722Z",
    "type": "execution"
   },
   {
    "code": "variable_labels = {\"SP.POP.1519.MA\":\"Total Population\"}\n\n# Get the \nchn = wbdata.get_dataframe(variable_labels, freq='Y')\nchn",
    "id": "0d326f384aba4d6cad3f1846d4529eee",
    "idx": 5,
    "time": "2021-02-09T04:01:07.902Z",
    "type": "execution"
   },
   {
    "code": "# Date index is of type string; change to integers\nchn.index = chn.index.astype(int)\n\n# Rename \"date\" to \"year\"\nchn",
    "id": "5888795b371d481fa74ff426725ab416",
    "idx": 6,
    "time": "2021-02-09T04:01:08.083Z",
    "type": "execution"
   },
   {
    "code": "# Function that takes in a SEX (\"Male\", \"Female\"), ... , COUNTRY=, .. and returns a statistic for the given function arguments\n\ndef population(sex, year, age, country):\n    if sex == \"Male\":\n        variable_labels = {\"SP.POP.\" + str(age[0])+str(age[1]) + \".MA\": sex}\n    elif sex==\"Female\":\n        variable_labels = {\"SP.POP.\" + str(age[0])+str(age[1]) + \".FE\": sex}\n    pop_df = wbdata.get_dataframe(variable_labels, country=country)\n    pop_df = pop_df.filter(like=str(year), axis=0)\n    return pop_df[sex][0]",
    "id": "cd1351e234274cf68686240fdbc723b7",
    "idx": 8,
    "time": "2021-02-09T04:01:08.441Z",
    "type": "execution"
   },
   {
    "code": "population(\"Female\", 2010, (15,19), \"CHN\")",
    "id": "79541aa79fec4873a115f8feb872b243",
    "idx": 9,
    "time": "2021-02-09T04:01:08.622Z",
    "type": "execution"
   },
   {
    "code": "def population_df():\n    ",
    "id": "cfea1b69d63344edbf153977ec4bc276",
    "idx": 11,
    "time": "2021-02-09T04:01:08.992Z",
    "type": "execution"
   },
   {
    "id": "ad9c5778c6bb420d8be790fa812d0453",
    "time": "2021-02-09T04:01:12.546Z",
    "type": "completion"
   },
   {
    "id": "f948b56faa0f49bc8f84d9ba24981f93",
    "time": "2021-02-09T04:01:12.697Z",
    "type": "completion"
   },
   {
    "id": "1f89b1905f6f402080831d1d83eeb780",
    "time": "2021-02-09T04:01:12.705Z",
    "type": "completion"
   },
   {
    "id": "b71dcac739b0426f87a32b1f02f055e6",
    "time": "2021-02-09T04:01:12.718Z",
    "type": "completion"
   },
   {
    "id": "0d326f384aba4d6cad3f1846d4529eee",
    "time": "2021-02-09T04:01:12.834Z",
    "type": "completion"
   },
   {
    "id": "5888795b371d481fa74ff426725ab416",
    "time": "2021-02-09T04:01:13.052Z",
    "type": "completion"
   },
   {
    "id": "cd1351e234274cf68686240fdbc723b7",
    "time": "2021-02-09T04:01:13.060Z",
    "type": "completion"
   },
   {
    "id": "79541aa79fec4873a115f8feb872b243",
    "time": "2021-02-09T04:01:13.063Z",
    "type": "completion"
   },
   {
    "id": "cfea1b69d63344edbf153977ec4bc276",
    "time": "2021-02-09T04:01:13.065Z",
    "type": "completion"
   },
   {
    "code": "variable_labels = {\"SP.POP.1519.MA\":\"Total Population\"}\n\n# Get the \nchn = wbdata.get_dataframe(variable_labels, freq='Y')\nchn.type()",
    "id": "0d326f384aba4d6cad3f1846d4529eee",
    "idx": 5,
    "time": "2021-02-09T04:01:37.623Z",
    "type": "execution"
   },
   {
    "id": "0d326f384aba4d6cad3f1846d4529eee",
    "time": "2021-02-09T04:01:37.915Z",
    "type": "completion"
   },
   {
    "code": "variable_labels = {\"SP.POP.1519.MA\":\"Total Population\"}\n\n# Get the \nchn = wbdata.get_dataframe(variable_labels, freq='Y')\nchn.type",
    "id": "0d326f384aba4d6cad3f1846d4529eee",
    "idx": 5,
    "time": "2021-02-09T04:01:40.302Z",
    "type": "execution"
   },
   {
    "id": "0d326f384aba4d6cad3f1846d4529eee",
    "time": "2021-02-09T04:01:40.589Z",
    "type": "completion"
   },
   {
    "code": "variable_labels = {\"SP.POP.1519.MA\":\"Total Population\"}\n\n# Get the \nchn = wbdata.get_dataframe(variable_labels, freq='Y')\ntype(chn)",
    "id": "0d326f384aba4d6cad3f1846d4529eee",
    "idx": 5,
    "time": "2021-02-09T04:01:46.273Z",
    "type": "execution"
   },
   {
    "id": "0d326f384aba4d6cad3f1846d4529eee",
    "time": "2021-02-09T04:01:46.504Z",
    "type": "completion"
   },
   {
    "code": "variable_labels = {\"SP.POP.1519.MA\":\"Total Population\"}\n\n# Get the \nchn = wbdata.get_dataframe(variable_labels, freq='Y')\nchn",
    "id": "0d326f384aba4d6cad3f1846d4529eee",
    "idx": 5,
    "time": "2021-02-09T04:01:50.733Z",
    "type": "execution"
   },
   {
    "id": "0d326f384aba4d6cad3f1846d4529eee",
    "time": "2021-02-09T04:01:51.044Z",
    "type": "completion"
   },
   {
    "code": "SOURCE = 16 # \"Population estimates and projections\n\nindicators = wbdata.get_indicator(source=SOURCE)\nlist(indicators)",
    "id": "491579b01f924966859cca570d9e0ae6",
    "idx": 4,
    "time": "2021-02-10T01:15:44.081Z",
    "type": "execution"
   },
   {
    "id": "491579b01f924966859cca570d9e0ae6",
    "time": "2021-02-10T01:15:44.980Z",
    "type": "completion"
   },
   {
    "code": "SOURCE = 40 # \"Population estimates and projections\n\nindicators = wbdata.get_indicator(source=SOURCE)\nlist(indicators)",
    "id": "491579b01f924966859cca570d9e0ae6",
    "idx": 4,
    "time": "2021-02-10T01:15:47.755Z",
    "type": "execution"
   },
   {
    "id": "491579b01f924966859cca570d9e0ae6",
    "time": "2021-02-10T01:15:47.821Z",
    "type": "completion"
   },
   {
    "code": "!pip install wbdata\n\nimport wbdata\nimport numpy as np",
    "id": "eb8abc11c5ac4cc0af8528b6e4cf2c5d",
    "idx": 0,
    "time": "2021-02-10T01:15:50.670Z",
    "type": "execution"
   },
   {
    "code": "# Return list of all country/region codes:\nwbdata.get_country()",
    "id": "981972b8ecab421a864e2fb5944c55dc",
    "idx": 1,
    "time": "2021-02-10T01:15:50.674Z",
    "type": "execution"
   },
   {
    "code": "wbdata.get_source()",
    "id": "b6564ba7f242400e86e5945356c45635",
    "idx": 3,
    "time": "2021-02-10T01:15:50.677Z",
    "type": "execution"
   },
   {
    "code": "SOURCE = 40 # \"Population estimates and projections\n\nindicators = wbdata.get_indicator(source=SOURCE)\nlist(indicators)",
    "id": "491579b01f924966859cca570d9e0ae6",
    "idx": 4,
    "time": "2021-02-10T01:15:50.679Z",
    "type": "execution"
   },
   {
    "id": "eb8abc11c5ac4cc0af8528b6e4cf2c5d",
    "time": "2021-02-10T01:15:56.259Z",
    "type": "completion"
   },
   {
    "id": "981972b8ecab421a864e2fb5944c55dc",
    "time": "2021-02-10T01:15:56.332Z",
    "type": "completion"
   },
   {
    "id": "b6564ba7f242400e86e5945356c45635",
    "time": "2021-02-10T01:15:56.341Z",
    "type": "completion"
   },
   {
    "id": "491579b01f924966859cca570d9e0ae6",
    "time": "2021-02-10T01:15:56.690Z",
    "type": "completion"
   },
   {
    "code": "SOURCE = 40 # \"Population estimates and projections\n\nindicators = wbdata.get_indicator(source=SOURCE)\nindicators",
    "id": "491579b01f924966859cca570d9e0ae6",
    "idx": 4,
    "time": "2021-02-10T01:16:33.890Z",
    "type": "execution"
   },
   {
    "id": "491579b01f924966859cca570d9e0ae6",
    "time": "2021-02-10T01:16:34.044Z",
    "type": "completion"
   },
   {
    "code": "SOURCE = 40 # \"Population estimates and projections\n\nindicators = wbdata.get_indicator(source=SOURCE)\nindicators.keys()",
    "id": "491579b01f924966859cca570d9e0ae6",
    "idx": 4,
    "time": "2021-02-10T01:16:38.225Z",
    "type": "execution"
   },
   {
    "id": "491579b01f924966859cca570d9e0ae6",
    "time": "2021-02-10T01:16:38.377Z",
    "type": "completion"
   },
   {
    "code": "SOURCE = 40 # \"Population estimates and projections\n\nindicators = wbdata.get_indicator(source=SOURCE)\nindicators.keys",
    "id": "491579b01f924966859cca570d9e0ae6",
    "idx": 4,
    "time": "2021-02-10T01:16:40.009Z",
    "type": "execution"
   },
   {
    "id": "491579b01f924966859cca570d9e0ae6",
    "time": "2021-02-10T01:16:40.081Z",
    "type": "completion"
   },
   {
    "code": "SOURCE = 40 # \"Population estimates and projections\n\nindicators = wbdata.get_indicator(source=SOURCE)\nindicators",
    "id": "491579b01f924966859cca570d9e0ae6",
    "idx": 4,
    "time": "2021-02-10T01:16:41.995Z",
    "type": "execution"
   },
   {
    "id": "491579b01f924966859cca570d9e0ae6",
    "time": "2021-02-10T01:16:42.108Z",
    "type": "completion"
   },
   {
    "code": "wbdata.get_data(indicators)",
    "id": "19784f47e878457ca6ac277ae8004cc6",
    "idx": 5,
    "time": "2021-02-10T01:17:40.405Z",
    "type": "execution"
   },
   {
    "id": "19784f47e878457ca6ac277ae8004cc6",
    "time": "2021-02-10T01:17:40.499Z",
    "type": "completion"
   },
   {
    "code": "wbdata.get_data(SP.POP.AG25.FE.IN)",
    "id": "19784f47e878457ca6ac277ae8004cc6",
    "idx": 5,
    "time": "2021-02-10T01:17:58.896Z",
    "type": "execution"
   },
   {
    "id": "19784f47e878457ca6ac277ae8004cc6",
    "time": "2021-02-10T01:17:58.980Z",
    "type": "completion"
   },
   {
    "code": "wbdata.get_data(\"SP.POP.AG25.FE.IN\")",
    "id": "19784f47e878457ca6ac277ae8004cc6",
    "idx": 5,
    "time": "2021-02-10T01:18:04.605Z",
    "type": "execution"
   },
   {
    "id": "19784f47e878457ca6ac277ae8004cc6",
    "time": "2021-02-10T01:18:17.146Z",
    "type": "completion"
   },
   {
    "code": "wbdata.get_series(\"SP.POP.0014.FE.IN\")",
    "id": "19784f47e878457ca6ac277ae8004cc6",
    "idx": 5,
    "time": "2021-02-10T01:18:51.302Z",
    "type": "execution"
   },
   {
    "id": "19784f47e878457ca6ac277ae8004cc6",
    "time": "2021-02-10T01:19:05.562Z",
    "type": "completion"
   },
   {
    "code": "variable_labels = {\"SP.POP.1519.MA\":\"Total Population\",\n                  }\n\n# Get the \nchn = wbdata.get_dataframe(variable_labels, freq='Y')\nchn",
    "id": "805672535a4c4575a61df5f2a37722db",
    "idx": 6,
    "time": "2021-02-10T01:19:27.891Z",
    "type": "execution"
   },
   {
    "id": "805672535a4c4575a61df5f2a37722db",
    "time": "2021-02-10T01:19:28.184Z",
    "type": "completion"
   },
   {
    "code": "wbdata.get_series(variable_labels)",
    "id": "19784f47e878457ca6ac277ae8004cc6",
    "idx": 5,
    "time": "2021-02-10T01:19:33.637Z",
    "type": "execution"
   },
   {
    "id": "19784f47e878457ca6ac277ae8004cc6",
    "time": "2021-02-10T01:19:33.709Z",
    "type": "completion"
   },
   {
    "code": "wbdata.get_series(\"SP.POP.0014.FE.IN\")",
    "id": "19784f47e878457ca6ac277ae8004cc6",
    "idx": 5,
    "time": "2021-02-10T01:19:42.467Z",
    "type": "execution"
   },
   {
    "id": "19784f47e878457ca6ac277ae8004cc6",
    "time": "2021-02-10T01:19:42.645Z",
    "type": "completion"
   },
   {
    "code": "variable_labels = {\"SP.POP.1519.MA\":\"Total Population\",\n                  }\n\n# Get the \nchn = wbdata.get_dataframe(variable_labels, freq='Y', convert_date = True)\nchn",
    "id": "805672535a4c4575a61df5f2a37722db",
    "idx": 6,
    "time": "2021-02-10T01:20:04.926Z",
    "type": "execution"
   },
   {
    "id": "805672535a4c4575a61df5f2a37722db",
    "time": "2021-02-10T01:20:05.327Z",
    "type": "completion"
   },
   {
    "code": "variable_labels = {\"SP.POP.1519.MA\":\"Total Population\",\n                  }\n\n# Get the \nchn = wbdata.get_dataframe(variable_labels, freq='Y', Data_date = True)\nchn",
    "id": "805672535a4c4575a61df5f2a37722db",
    "idx": 6,
    "time": "2021-02-10T01:20:40.678Z",
    "type": "execution"
   },
   {
    "id": "805672535a4c4575a61df5f2a37722db",
    "time": "2021-02-10T01:20:40.763Z",
    "type": "completion"
   },
   {
    "code": "variable_labels = {\"SP.POP.1519.MA\":\"Total Population\",\n                  }\n\n# Get the \nchn = wbdata.get_dataframe(variable_labels, freq='Y', data_date = True)\nchn",
    "id": "805672535a4c4575a61df5f2a37722db",
    "idx": 6,
    "time": "2021-02-10T01:20:43.020Z",
    "type": "execution"
   },
   {
    "id": "805672535a4c4575a61df5f2a37722db",
    "time": "2021-02-10T01:20:43.143Z",
    "type": "completion"
   },
   {
    "code": "variable_labels = {\"SP.POP.1519.MA\":\"Total Population\",\n                  }\n\n# Get the \nchn = wbdata.get_dataframe(variable_labels, freq='Y', data_date = None)\nchn",
    "id": "805672535a4c4575a61df5f2a37722db",
    "idx": 6,
    "time": "2021-02-10T01:20:52.218Z",
    "type": "execution"
   },
   {
    "id": "805672535a4c4575a61df5f2a37722db",
    "time": "2021-02-10T01:20:52.416Z",
    "type": "completion"
   },
   {
    "code": "SOURCE = 40 # \"Population estimates and projections\n\nindicators = wbdata.get_indicator(source=SOURCE)\nindicators['id']",
    "id": "491579b01f924966859cca570d9e0ae6",
    "idx": 4,
    "time": "2021-02-10T01:24:35.438Z",
    "type": "execution"
   },
   {
    "id": "491579b01f924966859cca570d9e0ae6",
    "time": "2021-02-10T01:24:35.527Z",
    "type": "completion"
   },
   {
    "code": "SOURCE = 40 # \"Population estimates and projections\n\nindicators = wbdata.get_indicator(source=SOURCE)\nindicators",
    "id": "491579b01f924966859cca570d9e0ae6",
    "idx": 4,
    "time": "2021-02-10T01:24:41.784Z",
    "type": "execution"
   },
   {
    "id": "491579b01f924966859cca570d9e0ae6",
    "time": "2021-02-10T01:24:42.033Z",
    "type": "completion"
   },
   {
    "code": "SOURCE = 40 # \"Population estimates and projections\n\nindicators = wbdata.get_indicator(source=SOURCE)\nindicators.item(0)",
    "id": "491579b01f924966859cca570d9e0ae6",
    "idx": 4,
    "time": "2021-02-10T01:24:44.715Z",
    "type": "execution"
   },
   {
    "id": "491579b01f924966859cca570d9e0ae6",
    "time": "2021-02-10T01:24:44.780Z",
    "type": "completion"
   },
   {
    "code": "SOURCE = 40 # \"Population estimates and projections\n\nindicators = wbdata.get_indicator(source=SOURCE)\nindicators[0]",
    "id": "491579b01f924966859cca570d9e0ae6",
    "idx": 4,
    "time": "2021-02-10T01:24:47.994Z",
    "type": "execution"
   },
   {
    "id": "491579b01f924966859cca570d9e0ae6",
    "time": "2021-02-10T01:24:48.073Z",
    "type": "completion"
   },
   {
    "code": "SOURCE = 40 # \"Population estimates and projections\n\nindicators = wbdata.get_indicator(source=SOURCE)\nindicators",
    "id": "491579b01f924966859cca570d9e0ae6",
    "idx": 4,
    "time": "2021-02-10T01:25:01.453Z",
    "type": "execution"
   },
   {
    "id": "491579b01f924966859cca570d9e0ae6",
    "time": "2021-02-10T01:25:01.572Z",
    "type": "completion"
   },
   {
    "code": "SOURCE = 40 # \"Population estimates and projections\n\nindicators = wbdata.get_indicator(source=SOURCE)\nindicators[0]",
    "id": "491579b01f924966859cca570d9e0ae6",
    "idx": 4,
    "time": "2021-02-10T01:25:07.375Z",
    "type": "execution"
   },
   {
    "id": "491579b01f924966859cca570d9e0ae6",
    "time": "2021-02-10T01:25:07.460Z",
    "type": "completion"
   },
   {
    "code": "SOURCE = 40 # \"Population estimates and projections\n\nindicators = wbdata.get_indicator(source=SOURCE)\nindicators[0][0]",
    "id": "491579b01f924966859cca570d9e0ae6",
    "idx": 4,
    "time": "2021-02-10T01:25:12.586Z",
    "type": "execution"
   },
   {
    "id": "491579b01f924966859cca570d9e0ae6",
    "time": "2021-02-10T01:25:12.680Z",
    "type": "completion"
   },
   {
    "code": "SOURCE = 40 # \"Population estimates and projections\n\nindicators = wbdata.get_indicator(source=SOURCE)\nindicators[0]",
    "id": "491579b01f924966859cca570d9e0ae6",
    "idx": 4,
    "time": "2021-02-10T01:25:15.044Z",
    "type": "execution"
   },
   {
    "id": "491579b01f924966859cca570d9e0ae6",
    "time": "2021-02-10T01:25:15.131Z",
    "type": "completion"
   },
   {
    "code": "SOURCE = 40 # \"Population estimates and projections\n\nindicators = wbdata.get_indicator(source=SOURCE)\nindicators[0]['id']",
    "id": "491579b01f924966859cca570d9e0ae6",
    "idx": 4,
    "time": "2021-02-10T01:25:24.634Z",
    "type": "execution"
   },
   {
    "id": "491579b01f924966859cca570d9e0ae6",
    "time": "2021-02-10T01:25:24.709Z",
    "type": "completion"
   },
   {
    "code": "SOURCE = 40 # \"Population estimates and projections\n\nindicators = wbdata.get_indicator(source=SOURCE)\nindicators",
    "id": "491579b01f924966859cca570d9e0ae6",
    "idx": 4,
    "time": "2021-02-10T01:25:55.895Z",
    "type": "execution"
   },
   {
    "id": "491579b01f924966859cca570d9e0ae6",
    "time": "2021-02-10T01:25:56.023Z",
    "type": "completion"
   },
   {
    "code": "indicators[0]['id']",
    "id": "aa87ca1bf42647ec8d1d51a226f6179b",
    "idx": 5,
    "time": "2021-02-10T02:03:40.162Z",
    "type": "execution"
   },
   {
    "id": "aa87ca1bf42647ec8d1d51a226f6179b",
    "time": "2021-02-10T02:03:40.231Z",
    "type": "completion"
   },
   {
    "code": "indicators[5]['id']",
    "id": "aa87ca1bf42647ec8d1d51a226f6179b",
    "idx": 5,
    "time": "2021-02-10T02:03:43.054Z",
    "type": "execution"
   },
   {
    "id": "aa87ca1bf42647ec8d1d51a226f6179b",
    "time": "2021-02-10T02:03:43.874Z",
    "type": "completion"
   },
   {
    "code": "# Search through indicators for columns with relevant population data.\n\n[indicators[x]['id'] for x in range(len(indicators))]",
    "id": "8d7e1ba87879459b81a09884aacd72c1",
    "idx": 6,
    "time": "2021-02-10T02:11:10.273Z",
    "type": "execution"
   },
   {
    "id": "8d7e1ba87879459b81a09884aacd72c1",
    "time": "2021-02-10T02:11:10.378Z",
    "type": "completion"
   },
   {
    "code": "!pip install wbdata\n\nimport wbdata\nimport numpy as np\nimport re as r",
    "id": "eb8abc11c5ac4cc0af8528b6e4cf2c5d",
    "idx": 0,
    "time": "2021-02-10T02:13:57.771Z",
    "type": "execution"
   },
   {
    "code": "# Return list of all country/region codes:\nwbdata.get_country()",
    "id": "981972b8ecab421a864e2fb5944c55dc",
    "idx": 1,
    "time": "2021-02-10T02:13:59.874Z",
    "type": "execution"
   },
   {
    "code": "wbdata.get_source()",
    "id": "b6564ba7f242400e86e5945356c45635",
    "idx": 3,
    "time": "2021-02-10T02:14:00.218Z",
    "type": "execution"
   },
   {
    "code": "SOURCE = 40 # \"Population estimates and projections\n\nindicators = wbdata.get_indicator(source=SOURCE)\nindicators",
    "id": "491579b01f924966859cca570d9e0ae6",
    "idx": 4,
    "time": "2021-02-10T02:14:00.494Z",
    "type": "execution"
   },
   {
    "code": "indicators[5]['id']",
    "id": "aa87ca1bf42647ec8d1d51a226f6179b",
    "idx": 5,
    "time": "2021-02-10T02:14:00.717Z",
    "type": "execution"
   },
   {
    "id": "eb8abc11c5ac4cc0af8528b6e4cf2c5d",
    "time": "2021-02-10T02:14:04.425Z",
    "type": "completion"
   },
   {
    "id": "981972b8ecab421a864e2fb5944c55dc",
    "time": "2021-02-10T02:14:04.485Z",
    "type": "completion"
   },
   {
    "id": "b6564ba7f242400e86e5945356c45635",
    "time": "2021-02-10T02:14:04.490Z",
    "type": "completion"
   },
   {
    "id": "491579b01f924966859cca570d9e0ae6",
    "time": "2021-02-10T02:14:04.531Z",
    "type": "completion"
   },
   {
    "id": "aa87ca1bf42647ec8d1d51a226f6179b",
    "time": "2021-02-10T02:14:04.536Z",
    "type": "completion"
   },
   {
    "code": "!pip install wbdata\n\nimport wbdata\nimport numpy as np\nimport re ",
    "id": "eb8abc11c5ac4cc0af8528b6e4cf2c5d",
    "idx": 0,
    "time": "2021-02-10T02:23:58.811Z",
    "type": "execution"
   },
   {
    "code": "# Return list of all country/region codes:\nwbdata.get_country()",
    "id": "981972b8ecab421a864e2fb5944c55dc",
    "idx": 1,
    "time": "2021-02-10T02:23:58.975Z",
    "type": "execution"
   },
   {
    "code": "wbdata.get_source()",
    "id": "b6564ba7f242400e86e5945356c45635",
    "idx": 3,
    "time": "2021-02-10T02:23:59.482Z",
    "type": "execution"
   },
   {
    "code": "SOURCE = 40 # \"Population estimates and projections\"\n\nindicators = wbdata.get_indicator(source=SOURCE)\nindicators",
    "id": "491579b01f924966859cca570d9e0ae6",
    "idx": 4,
    "time": "2021-02-10T02:24:01.428Z",
    "type": "execution"
   },
   {
    "id": "eb8abc11c5ac4cc0af8528b6e4cf2c5d",
    "time": "2021-02-10T02:24:02.790Z",
    "type": "completion"
   },
   {
    "id": "981972b8ecab421a864e2fb5944c55dc",
    "time": "2021-02-10T02:24:02.840Z",
    "type": "completion"
   },
   {
    "id": "b6564ba7f242400e86e5945356c45635",
    "time": "2021-02-10T02:24:02.924Z",
    "type": "completion"
   },
   {
    "id": "491579b01f924966859cca570d9e0ae6",
    "time": "2021-02-10T02:24:02.947Z",
    "type": "completion"
   },
   {
    "code": "# Create a list of every column ID in source 40.\ncols_40 = [indicators[x]['id'] for x in range(len(indicators))]\n\n# Select items in the list that contain relevant population data by filtering through string patterns.\nr = re.compile(\"(SP.POP).[\\d]{2}[A-Z0-9]{2}.[MAFE]{2}\")\nfilter(r.match, cols_40)",
    "id": "8d7e1ba87879459b81a09884aacd72c1",
    "idx": 5,
    "time": "2021-02-10T02:24:26.173Z",
    "type": "execution"
   },
   {
    "id": "8d7e1ba87879459b81a09884aacd72c1",
    "time": "2021-02-10T02:24:26.259Z",
    "type": "completion"
   },
   {
    "code": "# Create a list of every column ID in source 40.\ncols_40 = [indicators[x]['id'] for x in range(len(indicators))]\n\n# Select items in the list that contain relevant population data by filtering through string patterns.\nr = re.compile(\"(SP.POP).[\\d]{2}[A-Z0-9]{2}.[MAFE]{2}\")\nlist(filter(r.match, cols_40))",
    "id": "8d7e1ba87879459b81a09884aacd72c1",
    "idx": 5,
    "time": "2021-02-10T02:24:33.541Z",
    "type": "execution"
   },
   {
    "id": "8d7e1ba87879459b81a09884aacd72c1",
    "time": "2021-02-10T02:24:33.611Z",
    "type": "completion"
   },
   {
    "code": "# Create a list of every column ID in source 40.\ncols_40 = [indicators[x]['id'] for x in range(len(indicators))]\n\n# Select items in the list that contain relevant population data by filtering through string patterns.\nr = re.compile(\"(SP.POP).[\\d]{2}[A-Z0-9]{2}.[MAFE]{2}$\")\nlist(filter(r.match, cols_40))",
    "id": "8d7e1ba87879459b81a09884aacd72c1",
    "idx": 5,
    "time": "2021-02-10T02:25:20.354Z",
    "type": "execution"
   },
   {
    "id": "8d7e1ba87879459b81a09884aacd72c1",
    "time": "2021-02-10T02:25:20.414Z",
    "type": "completion"
   },
   {
    "code": "# Create a list of every column ID in source 40.\ncols_40 = [indicators[x]['id'] for x in range(len(indicators))]\n\n# Select items in the list that contain relevant population data by filtering through string patterns.\nr = re.compile(\"(SP.POP).[\\d]{2}[A-Z0-9]{2}.[MAFE]{2}$\")\npop = list(filter(r.match, cols_40))\npop",
    "id": "8d7e1ba87879459b81a09884aacd72c1",
    "idx": 5,
    "time": "2021-02-10T02:26:15.232Z",
    "type": "execution"
   },
   {
    "id": "8d7e1ba87879459b81a09884aacd72c1",
    "time": "2021-02-10T02:26:15.327Z",
    "type": "completion"
   },
   {
    "code": "# Create a list of every column ID in source 40.\ncols_40 = [indicators[x]['id'] for x in range(len(indicators))]\n\n# Select items in the list that contain relevant population data by filtering through string patterns.\nr = re.compile(\"(SP.POP).[\\d]{2}[A-Z0-9]{2}.[MAFE]{2}$\")\npop = list(filter(r.match, cols_40))",
    "id": "8d7e1ba87879459b81a09884aacd72c1",
    "idx": 5,
    "time": "2021-02-10T02:26:28.953Z",
    "type": "execution"
   },
   {
    "id": "8d7e1ba87879459b81a09884aacd72c1",
    "time": "2021-02-10T02:26:29.013Z",
    "type": "completion"
   },
   {
    "code": "# Create a list of every column ID in source 40.\ncols_40 = [indicators[x]['id'] for x in range(len(indicators))]\n\n# Select items in the list that contain relevant population data by filtering through string patterns.\nr = re.compile(\"(SP.POP).[\\d]{2}[A-Z0-9]{2}.[MAFE]{2}$\")\npop_cols = list(filter(r.match, cols_40))\n\nvariable_labels = {}\nfor col in pop_cols:\n    variable_labels[col] = \"\"",
    "id": "8d7e1ba87879459b81a09884aacd72c1",
    "idx": 5,
    "time": "2021-02-10T02:27:47.544Z",
    "type": "execution"
   },
   {
    "id": "8d7e1ba87879459b81a09884aacd72c1",
    "time": "2021-02-10T02:27:47.627Z",
    "type": "completion"
   },
   {
    "code": "# Create a list of every column ID in source 40.\ncols_40 = [indicators[x] for x in range(len(indicators))]\n\n# Select items in the list that contain relevant population data by filtering through string patterns.\nr = re.compile(\"(SP.POP).[\\d]{2}[A-Z0-9]{2}.[MAFE]{2}$\")\npop_cols = list(filter(r.match, cols_40))\npop_cols",
    "id": "8d7e1ba87879459b81a09884aacd72c1",
    "idx": 5,
    "time": "2021-02-10T02:29:21.004Z",
    "type": "execution"
   },
   {
    "id": "8d7e1ba87879459b81a09884aacd72c1",
    "time": "2021-02-10T02:29:21.084Z",
    "type": "completion"
   },
   {
    "code": "# Create a list of every column ID in source 40.\ncols_40 = [indicators[x]['id'] for x in range(len(indicators))]\n\n# Select items in the list that contain relevant population data by filtering through string patterns.\nr = re.compile(\"(SP.POP).[\\d]{2}[A-Z0-9]{2}.[MAFE]{2}$\")\npop_cols = list(filter(r.match, cols_40))\n",
    "id": "8d7e1ba87879459b81a09884aacd72c1",
    "idx": 5,
    "time": "2021-02-10T02:29:32.583Z",
    "type": "execution"
   },
   {
    "id": "8d7e1ba87879459b81a09884aacd72c1",
    "time": "2021-02-10T02:29:32.644Z",
    "type": "completion"
   },
   {
    "code": "# Create a list of every column ID in source 40.\ncols_40 = [indicators[x]['id'] for x in range(len(indicators))]\n\n# Select items in the list that contain relevant population data by filtering through string patterns.\nr = re.compile(\"(SP.POP).[\\d]{2}[A-Z0-9]{2}.[MAFE]{2}$\")\npop_cols = list(filter(r.match, cols_40))\npop_cols",
    "id": "8d7e1ba87879459b81a09884aacd72c1",
    "idx": 5,
    "time": "2021-02-10T02:29:38.492Z",
    "type": "execution"
   },
   {
    "id": "8d7e1ba87879459b81a09884aacd72c1",
    "time": "2021-02-10T02:29:38.578Z",
    "type": "completion"
   },
   {
    "code": "cols_40",
    "id": "3f7bc13bdfd541f2b92e0e88412af00f",
    "idx": 5,
    "time": "2021-02-10T02:29:59.083Z",
    "type": "execution"
   },
   {
    "id": "3f7bc13bdfd541f2b92e0e88412af00f",
    "time": "2021-02-10T02:29:59.175Z",
    "type": "completion"
   },
   {
    "code": "indicators['id']",
    "id": "3f7bc13bdfd541f2b92e0e88412af00f",
    "idx": 5,
    "time": "2021-02-10T02:30:08.459Z",
    "type": "execution"
   },
   {
    "id": "3f7bc13bdfd541f2b92e0e88412af00f",
    "time": "2021-02-10T02:30:08.522Z",
    "type": "completion"
   },
   {
    "code": "indicators[0]",
    "id": "3f7bc13bdfd541f2b92e0e88412af00f",
    "idx": 5,
    "time": "2021-02-10T02:30:12.834Z",
    "type": "execution"
   },
   {
    "id": "3f7bc13bdfd541f2b92e0e88412af00f",
    "time": "2021-02-10T02:30:12.909Z",
    "type": "completion"
   },
   {
    "code": "indicators['name']",
    "id": "3f7bc13bdfd541f2b92e0e88412af00f",
    "idx": 5,
    "time": "2021-02-10T02:30:17.923Z",
    "type": "execution"
   },
   {
    "id": "3f7bc13bdfd541f2b92e0e88412af00f",
    "time": "2021-02-10T02:30:18.015Z",
    "type": "completion"
   },
   {
    "code": "indicators[0]['name']",
    "id": "3f7bc13bdfd541f2b92e0e88412af00f",
    "idx": 5,
    "time": "2021-02-10T02:30:25.524Z",
    "type": "execution"
   },
   {
    "id": "3f7bc13bdfd541f2b92e0e88412af00f",
    "time": "2021-02-10T02:30:28.325Z",
    "type": "completion"
   },
   {
    "code": "indicators[15]['name']",
    "id": "3f7bc13bdfd541f2b92e0e88412af00f",
    "idx": 5,
    "time": "2021-02-10T02:31:04.765Z",
    "type": "execution"
   },
   {
    "id": "3f7bc13bdfd541f2b92e0e88412af00f",
    "time": "2021-02-10T02:31:04.835Z",
    "type": "completion"
   },
   {
    "code": "indicators[30]['name']",
    "id": "3f7bc13bdfd541f2b92e0e88412af00f",
    "idx": 5,
    "time": "2021-02-10T02:31:07.306Z",
    "type": "execution"
   },
   {
    "id": "3f7bc13bdfd541f2b92e0e88412af00f",
    "time": "2021-02-10T02:31:07.425Z",
    "type": "completion"
   },
   {
    "code": "indicators[20]['name']",
    "id": "3f7bc13bdfd541f2b92e0e88412af00f",
    "idx": 5,
    "time": "2021-02-10T02:31:09.854Z",
    "type": "execution"
   },
   {
    "id": "3f7bc13bdfd541f2b92e0e88412af00f",
    "time": "2021-02-10T02:31:09.925Z",
    "type": "completion"
   },
   {
    "code": "indicators[40]['name']",
    "id": "3f7bc13bdfd541f2b92e0e88412af00f",
    "idx": 5,
    "time": "2021-02-10T02:31:14.124Z",
    "type": "execution"
   },
   {
    "id": "3f7bc13bdfd541f2b92e0e88412af00f",
    "time": "2021-02-10T02:31:14.186Z",
    "type": "completion"
   },
   {
    "code": "indicators[45]['name']",
    "id": "3f7bc13bdfd541f2b92e0e88412af00f",
    "idx": 5,
    "time": "2021-02-10T02:31:17.764Z",
    "type": "execution"
   },
   {
    "id": "3f7bc13bdfd541f2b92e0e88412af00f",
    "time": "2021-02-10T02:31:17.828Z",
    "type": "completion"
   },
   {
    "code": "[indicators[x]['name'] for x in range(len(indicators))]",
    "id": "3f7bc13bdfd541f2b92e0e88412af00f",
    "idx": 5,
    "time": "2021-02-10T02:31:55.247Z",
    "type": "execution"
   },
   {
    "id": "3f7bc13bdfd541f2b92e0e88412af00f",
    "time": "2021-02-10T02:31:55.313Z",
    "type": "completion"
   },
   {
    "code": "!pip install wbdata\n\nimport wbdata\nimport numpy as np\nimport re ",
    "id": "139720fa45754a87878f6ae98365d95b",
    "idx": 0,
    "time": "2021-02-10T06:56:53.056Z",
    "type": "execution"
   },
   {
    "code": "# Return list of all country/region codes:\nwbdata.get_country()",
    "id": "c93494e6f5524908b8f9bcb5ebafe88f",
    "idx": 1,
    "time": "2021-02-10T06:56:53.270Z",
    "type": "execution"
   },
   {
    "code": "wbdata.get_source()",
    "id": "513e606d65a948ac82ebec1f9ec9ef48",
    "idx": 3,
    "time": "2021-02-10T06:56:53.601Z",
    "type": "execution"
   },
   {
    "code": "SOURCE = 40 # \"Population estimates and projections\"\n\nindicators = wbdata.get_indicator(source=SOURCE)\nindicators",
    "id": "90ba7bd37cd8474797b59bf4f9bb6ccc",
    "idx": 4,
    "time": "2021-02-10T06:56:53.760Z",
    "type": "execution"
   },
   {
    "code": "[indicators[x]['name'] for x in range(len(indicators))]",
    "id": "7e10a7ab6a3e466eb10e1b9f9a784946",
    "idx": 5,
    "time": "2021-02-10T06:56:53.930Z",
    "type": "execution"
   },
   {
    "code": "# Create a list of every column ID in source 40.\ncols_40 = [indicators[x]['id'] for x in range(len(indicators))]\nnames_40 = [indicators[x]['name'] for x in range(len(indicators))]\n\n# Select items in the list that contain relevant population data by filtering through string patterns.\nr = re.compile(\"(SP.POP).[\\d]{2}[A-Z0-9]{2}.[MAFE]{2}$\")\npop_cols = list(filter(r.match, cols_40))\npop_cols",
    "id": "4185635cd8b04646a6909446165f41fa",
    "idx": 6,
    "time": "2021-02-10T06:56:54.060Z",
    "type": "execution"
   },
   {
    "code": "variable_labels = {}\nfor col in pop_cols:\n    if col\n    variable_labels[col] = ",
    "id": "58dc22da3a33427e87cabf464bf6990a",
    "idx": 7,
    "time": "2021-02-10T06:56:54.371Z",
    "type": "execution"
   },
   {
    "code": "variable_labels = {\"SP.POP.1519.MA\":\"Total Population\"}\n\n# Get the \nchn = wbdata.get_dataframe(variable_labels, freq='Y', data_date = None)\nchn",
    "id": "227a76a39465491dab48eeddccc8954e",
    "idx": 8,
    "time": "2021-02-10T06:56:54.581Z",
    "type": "execution"
   },
   {
    "id": "139720fa45754a87878f6ae98365d95b",
    "time": "2021-02-10T06:56:58.514Z",
    "type": "completion"
   },
   {
    "id": "c93494e6f5524908b8f9bcb5ebafe88f",
    "time": "2021-02-10T06:56:58.586Z",
    "type": "completion"
   },
   {
    "id": "513e606d65a948ac82ebec1f9ec9ef48",
    "time": "2021-02-10T06:56:58.593Z",
    "type": "completion"
   },
   {
    "id": "90ba7bd37cd8474797b59bf4f9bb6ccc",
    "time": "2021-02-10T06:56:58.611Z",
    "type": "completion"
   },
   {
    "id": "7e10a7ab6a3e466eb10e1b9f9a784946",
    "time": "2021-02-10T06:56:58.618Z",
    "type": "completion"
   },
   {
    "id": "4185635cd8b04646a6909446165f41fa",
    "time": "2021-02-10T06:56:58.622Z",
    "type": "completion"
   },
   {
    "id": "58dc22da3a33427e87cabf464bf6990a",
    "time": "2021-02-10T06:56:58.695Z",
    "type": "completion"
   },
   {
    "id": "227a76a39465491dab48eeddccc8954e",
    "time": "2021-02-10T06:56:58.702Z",
    "type": "completion"
   },
   {
    "code": "!pip install wbdata\n\nimport wbdata\nimport numpy as np\nimport re ",
    "id": "af38968c93ee44748a03a29d070ceecb",
    "idx": 0,
    "time": "2021-02-10T20:51:12.810Z",
    "type": "execution"
   },
   {
    "code": "# Return list of all country/region codes:\nwbdata.get_country()",
    "id": "98dd03733662407ea9ed0705e05ef02d",
    "idx": 1,
    "time": "2021-02-10T20:51:12.978Z",
    "type": "execution"
   },
   {
    "code": "wbdata.get_source()",
    "id": "93c79a81062b4c0a9c63564f42254e78",
    "idx": 3,
    "time": "2021-02-10T20:51:13.305Z",
    "type": "execution"
   },
   {
    "code": "SOURCE = 40 # \"Population estimates and projections\"\n\nindicators = wbdata.get_indicator(source=SOURCE)\nindicators",
    "id": "de4c030966d64447af2f8cffe587b4d4",
    "idx": 4,
    "time": "2021-02-10T20:51:13.485Z",
    "type": "execution"
   },
   {
    "code": "[indicators[x]['name'] for x in range(len(indicators))]",
    "id": "772d48c3a2d3415782cfe5a87a1ca685",
    "idx": 5,
    "time": "2021-02-10T20:51:13.665Z",
    "type": "execution"
   },
   {
    "code": "# Create a list of every column ID in source 40.\ncols_40 = [indicators[x]['id'] for x in range(len(indicators))]\nlabels = {}\nfor col in cols_40:\n    labels \n\n# Select items in the list that contain relevant population data by filtering through string patterns.\nr = re.compile(\"(SP.POP).[\\d]{2}[A-Z0-9]{2}.[MAFE]{2}$\")\npop_cols = list(filter(r.match, cols_40))\npop_cols",
    "id": "41935c69cbf14b9986c3cb683c1e0330",
    "idx": 6,
    "time": "2021-02-10T20:51:13.845Z",
    "type": "execution"
   },
   {
    "code": "variable_labels = {}\nfor col in pop_cols:\n    if col\n    variable_labels[col] = ",
    "id": "da8cb2c0ed28475dbb983d39cec08417",
    "idx": 7,
    "time": "2021-02-10T20:51:14.025Z",
    "type": "execution"
   },
   {
    "code": "variable_labels = {\"SP.POP.1519.MA\":\"Total Population\"}\n\n# Get the \nchn = wbdata.get_dataframe(variable_labels, freq='Y', data_date = None)\nchn",
    "id": "386d0acefa9f43298601d7a091ef98fc",
    "idx": 8,
    "time": "2021-02-10T20:51:14.215Z",
    "type": "execution"
   },
   {
    "id": "af38968c93ee44748a03a29d070ceecb",
    "time": "2021-02-10T20:51:18.179Z",
    "type": "completion"
   },
   {
    "id": "98dd03733662407ea9ed0705e05ef02d",
    "time": "2021-02-10T20:51:18.233Z",
    "type": "completion"
   },
   {
    "id": "93c79a81062b4c0a9c63564f42254e78",
    "time": "2021-02-10T20:51:18.296Z",
    "type": "completion"
   },
   {
    "id": "de4c030966d64447af2f8cffe587b4d4",
    "time": "2021-02-10T20:51:18.319Z",
    "type": "completion"
   },
   {
    "id": "772d48c3a2d3415782cfe5a87a1ca685",
    "time": "2021-02-10T20:51:18.349Z",
    "type": "completion"
   },
   {
    "id": "41935c69cbf14b9986c3cb683c1e0330",
    "time": "2021-02-10T20:51:18.356Z",
    "type": "completion"
   },
   {
    "id": "da8cb2c0ed28475dbb983d39cec08417",
    "time": "2021-02-10T20:51:18.429Z",
    "type": "completion"
   },
   {
    "id": "386d0acefa9f43298601d7a091ef98fc",
    "time": "2021-02-10T20:51:18.455Z",
    "type": "completion"
   },
   {
    "code": "[indicators[x]['name'] for x in indicators]",
    "id": "772d48c3a2d3415782cfe5a87a1ca685",
    "idx": 5,
    "time": "2021-02-10T20:58:54.233Z",
    "type": "execution"
   },
   {
    "id": "772d48c3a2d3415782cfe5a87a1ca685",
    "time": "2021-02-10T20:58:54.439Z",
    "type": "completion"
   },
   {
    "code": "[indicators[x]['name'] for x in range(len(indicators))]",
    "id": "772d48c3a2d3415782cfe5a87a1ca685",
    "idx": 5,
    "time": "2021-02-10T20:59:04.469Z",
    "type": "execution"
   },
   {
    "id": "772d48c3a2d3415782cfe5a87a1ca685",
    "time": "2021-02-10T20:59:04.576Z",
    "type": "completion"
   },
   {
    "code": "labels = {}\nfor i in range(len(indicators)):\n    col_id = indicators[i]['id']\n    col_name = indicators[i]['name']\n    labels[col_id] = col_name\n",
    "id": "772d48c3a2d3415782cfe5a87a1ca685",
    "idx": 5,
    "time": "2021-02-10T21:01:41.426Z",
    "type": "execution"
   },
   {
    "id": "772d48c3a2d3415782cfe5a87a1ca685",
    "time": "2021-02-10T21:01:41.505Z",
    "type": "completion"
   },
   {
    "code": "labels = {}\nfor i in range(len(indicators)):\n    col_id = indicators[i]['id']\n    col_name = indicators[i]['name']\n    labels[col_id] = col_name\nlabels",
    "id": "772d48c3a2d3415782cfe5a87a1ca685",
    "idx": 5,
    "time": "2021-02-10T21:01:46.394Z",
    "type": "execution"
   },
   {
    "id": "772d48c3a2d3415782cfe5a87a1ca685",
    "time": "2021-02-10T21:01:48.763Z",
    "type": "completion"
   },
   {
    "code": "labels.keys()",
    "id": "772d48c3a2d3415782cfe5a87a1ca685",
    "idx": 5,
    "time": "2021-02-10T21:04:23.438Z",
    "type": "execution"
   },
   {
    "id": "772d48c3a2d3415782cfe5a87a1ca685",
    "time": "2021-02-10T21:04:23.537Z",
    "type": "completion"
   },
   {
    "code": "# Create a list of every column ID in source 40.\nlabels = {}\n\nfor i in range(len(indicators)):\n    col_id = indicators[i]['id']\n    col_name = indicators[i]['name']\n    labels[col_id] = col_name\n\n# Select items in the list that contain relevant population data by filtering through string patterns.\nr = re.compile(\"(SP.POP).[\\d]{2}[A-Z0-9]{2}.[MAFE]{2}$\")\npop_cols = list(filter(r.match, labels.keys()))\npop_cols",
    "id": "41935c69cbf14b9986c3cb683c1e0330",
    "idx": 6,
    "time": "2021-02-10T21:05:02.051Z",
    "type": "execution"
   },
   {
    "id": "41935c69cbf14b9986c3cb683c1e0330",
    "time": "2021-02-10T21:05:02.126Z",
    "type": "completion"
   },
   {
    "code": "# Create a list of every column ID in source 40.\nlabels = {}\n\nfor i in range(len(indicators)):\n    col_id = indicators[i]['id']\n    col_name = indicators[i]['name']\n    labels[col_id] = col_name\n\n# Select items in the list that contain relevant population data by filtering through string patterns.\nr = re.compile(\"(SP.POP).[\\d]{2}[A-Z0-9]{2}.[MAFE]{2}$\")\npop_cols = list(filter(r.match, labels)\npop_cols",
    "id": "41935c69cbf14b9986c3cb683c1e0330",
    "idx": 6,
    "time": "2021-02-10T21:05:18.657Z",
    "type": "execution"
   },
   {
    "id": "41935c69cbf14b9986c3cb683c1e0330",
    "time": "2021-02-10T21:05:18.754Z",
    "type": "completion"
   },
   {
    "code": "# Create a list of every column ID in source 40.\nlabels = {}\n\nfor i in range(len(indicators)):\n    col_id = indicators[i]['id']\n    col_name = indicators[i]['name']\n    labels[col_id] = col_name\n\n# Select items in the list that contain relevant population data by filtering through string patterns.\nr = re.compile(\"(SP.POP).[\\d]{2}[A-Z0-9]{2}.[MAFE]{2}$\")\npop_cols = list(filter(r.match, labels))\npop_cols",
    "id": "41935c69cbf14b9986c3cb683c1e0330",
    "idx": 6,
    "time": "2021-02-10T21:05:23.904Z",
    "type": "execution"
   },
   {
    "id": "41935c69cbf14b9986c3cb683c1e0330",
    "time": "2021-02-10T21:05:23.981Z",
    "type": "completion"
   },
   {
    "code": "# Create a list of every column ID in source 40.\nlabels = {}\n\nfor i in range(len(indicators)):\n    col_id = indicators[i]['id']\n    col_name = indicators[i]['name']\n    labels[col_id] = col_name\n\n# Select items in the list that contain relevant population data by filtering through string patterns.\nr = re.compile(\"(SP.POP).[\\d]{2}[A-Z0-9]{2}.[MAFE]{2}$\")\nfilter(r.match, labels)",
    "id": "41935c69cbf14b9986c3cb683c1e0330",
    "idx": 6,
    "time": "2021-02-10T21:05:41.015Z",
    "type": "execution"
   },
   {
    "id": "41935c69cbf14b9986c3cb683c1e0330",
    "time": "2021-02-10T21:05:41.082Z",
    "type": "completion"
   },
   {
    "code": "# Create a list of every column ID in source 40.\nlabels = {}\n\nfor i in range(len(indicators)):\n    col_id = indicators[i]['id']\n    col_name = indicators[i]['name']\n    labels[col_id] = col_name\n\n# Select items in the list that contain relevant population data by filtering through string patterns.\nr = re.compile(\"(SP.POP).[\\d]{2}[A-Z0-9]{2}.[MAFE]{2}$\")\nprint(filter(r.match, labels))",
    "id": "41935c69cbf14b9986c3cb683c1e0330",
    "idx": 6,
    "time": "2021-02-10T21:05:46.684Z",
    "type": "execution"
   },
   {
    "id": "41935c69cbf14b9986c3cb683c1e0330",
    "time": "2021-02-10T21:05:46.759Z",
    "type": "completion"
   },
   {
    "code": "# Create a list of every column ID in source 40.\nlabels = {}\n\nfor i in range(len(indicators)):\n    col_id = indicators[i]['id']\n    col_name = indicators[i]['name']\n    labels[col_id] = col_name\n\n# Select items in the list that contain relevant population data by filtering through string patterns.\nr = re.compile(\"(SP.POP).[\\d]{2}[A-Z0-9]{2}.[MAFE]{2}$\")\nfilter(r.match, labels).show()",
    "id": "41935c69cbf14b9986c3cb683c1e0330",
    "idx": 6,
    "time": "2021-02-10T21:05:53.235Z",
    "type": "execution"
   },
   {
    "id": "41935c69cbf14b9986c3cb683c1e0330",
    "time": "2021-02-10T21:05:53.379Z",
    "type": "completion"
   },
   {
    "code": "# Create a list of every column ID in source 40.\nlabels = {}\n\nfor i in range(len(indicators)):\n    col_id = indicators[i]['id']\n    col_name = indicators[i]['name']\n    labels[col_id] = col_name\n\n# Select items in the list that contain relevant population data by filtering through string patterns.\nr = re.compile(\"(SP.POP).[\\d]{2}[A-Z0-9]{2}.[MAFE]{2}$\")\nlist(filter(r.match, labels))",
    "id": "41935c69cbf14b9986c3cb683c1e0330",
    "idx": 6,
    "time": "2021-02-10T22:00:33.415Z",
    "type": "execution"
   },
   {
    "id": "41935c69cbf14b9986c3cb683c1e0330",
    "time": "2021-02-10T22:00:33.514Z",
    "type": "completion"
   },
   {
    "code": "# Create a list of every column ID in source 40.\nlabels = {}\n\nfor i in range(len(indicators)):\n    col_id = indicators[i]['id']\n    col_name = indicators[i]['name']\n    labels[col_id] = col_name\n\n# Select items in the list that contain relevant population data by filtering through string patterns.\nr = re.compile(\"(SP.POP).[\\d]{2}[A-Z0-9]{2}.[MAFE]{2}$\")\ncol_keys = list(filter(r.match, labels))\n",
    "id": "41935c69cbf14b9986c3cb683c1e0330",
    "idx": 6,
    "time": "2021-02-10T22:03:01.728Z",
    "type": "execution"
   },
   {
    "id": "41935c69cbf14b9986c3cb683c1e0330",
    "time": "2021-02-10T22:03:01.812Z",
    "type": "completion"
   },
   {
    "code": "# Create a list of every column ID in source 40.\nlabels = {}\n\nfor i in range(len(indicators)):\n    col_id = indicators[i]['id']\n    col_name = indicators[i]['name']\n    labels[col_id] = col_name\n\n# Select items in the list that contain relevant population data by filtering through string patterns.\nr = re.compile(\"(SP.POP).[\\d]{2}[A-Z0-9]{2}.[MAFE]{2}$\")\ncol_keys = list(filter(r.match, labels))\ncol_keys",
    "id": "41935c69cbf14b9986c3cb683c1e0330",
    "idx": 6,
    "time": "2021-02-10T22:03:07.257Z",
    "type": "execution"
   },
   {
    "id": "41935c69cbf14b9986c3cb683c1e0330",
    "time": "2021-02-10T22:03:07.318Z",
    "type": "completion"
   },
   {
    "code": "labels.items()",
    "id": "46f1cfd56bbe49a485937ab9226cd1dc",
    "idx": 6,
    "time": "2021-02-10T22:03:46.878Z",
    "type": "execution"
   },
   {
    "id": "46f1cfd56bbe49a485937ab9226cd1dc",
    "time": "2021-02-10T22:03:47.082Z",
    "type": "completion"
   },
   {
    "code": "labels.values()",
    "id": "46f1cfd56bbe49a485937ab9226cd1dc",
    "idx": 6,
    "time": "2021-02-10T22:04:17.319Z",
    "type": "execution"
   },
   {
    "id": "46f1cfd56bbe49a485937ab9226cd1dc",
    "time": "2021-02-10T22:04:17.420Z",
    "type": "completion"
   },
   {
    "code": "# Create a list of every column ID in source 40.\nlabels = {}\n\nfor i in range(len(indicators)):\n    col_id = indicators[i]['id']\n    col_name = indicators[i]['name']\n    labels[col_id] = col_name\n\n# Select items in the list that contain relevant population data by filtering through string patterns.\nr = re.compile(\"(SP.POP).[\\d]{2}[A-Z0-9]{2}.[MAFE]{2}$\")\ncol_keys = list(filter(r.match, labels))\ncol_keys",
    "id": "41935c69cbf14b9986c3cb683c1e0330",
    "idx": 5,
    "time": "2021-02-10T22:04:32.979Z",
    "type": "execution"
   },
   {
    "id": "41935c69cbf14b9986c3cb683c1e0330",
    "time": "2021-02-10T22:04:33.045Z",
    "type": "completion"
   },
   {
    "code": "# Create a list of every column ID in source 40.\nlabels = {}\n\nfor i in range(len(indicators)):\n    col_id = indicators[i]['id']\n    col_name = indicators[i]['name']\n    labels[col_id] = col_name\n\n# Select items in the list that contain relevant population data by filtering through string patterns.\nr = re.compile(\"(SP.POP).[\\d]{2}[A-Z0-9]{2}.[MAFE]{2}$\")\ncol_keys = list(filter(r.match, labels))\ncol_keys\n\nlabels_filtered = {}\nfor key, value in labels.items():\n    if key in col_keys:\n        labels_filtered[key] = value\n        \nlabels_filtered",
    "id": "41935c69cbf14b9986c3cb683c1e0330",
    "idx": 5,
    "time": "2021-02-10T22:14:53.515Z",
    "type": "execution"
   },
   {
    "id": "41935c69cbf14b9986c3cb683c1e0330",
    "time": "2021-02-10T22:14:53.617Z",
    "type": "completion"
   },
   {
    "code": "# Create a list of every column ID in source 40.\nlabels = {}\n\nfor i in range(len(indicators)):\n    col_id = indicators[i]['id']\n    col_name = indicators[i]['name']\n    labels[col_id] = col_name\n\n# Select items in the list that contain relevant population data by filtering through string patterns.\nr = re.compile(\"(SP.POP).[\\d]{2}[A-Z0-9]{2}.[MAFE]{2}$\")\ncol_keys = list(filter(r.match, labels))\ncol_keys\n\nlabels_filtered = {}\nfor key, value in labels.items():\n    if key in col_keys:\n        labels_filtered[key] = value\n\nlabels_filtered",
    "id": "41935c69cbf14b9986c3cb683c1e0330",
    "idx": 5,
    "time": "2021-02-10T22:15:10.308Z",
    "type": "execution"
   },
   {
    "id": "41935c69cbf14b9986c3cb683c1e0330",
    "time": "2021-02-10T22:15:10.381Z",
    "type": "completion"
   },
   {
    "code": "# Returns a dictionary of filtered column labels.\ndef find_labels(indicators):\n    labels = {}\n\n    for i in range(len(indicators)):\n        col_id = indicators[i]['id']\n        col_name = indicators[i]['name']\n        labels[col_id] = col_name\n\n    # Select items in the list that contain relevant population data by filtering through string patterns.\n    r = re.compile(\"(SP.POP).[\\d]{2}[A-Z0-9]{2}.[MAFE]{2}$\")\n    col_keys = list(filter(r.match, labels))\n    col_keys\n\n    labels_filtered = {}\n    for key, value in labels.items():\n        if key in col_keys:\n            labels_filtered[key] = value\n\n    return labels_filtered",
    "id": "41935c69cbf14b9986c3cb683c1e0330",
    "idx": 5,
    "time": "2021-02-10T22:16:28.903Z",
    "type": "execution"
   },
   {
    "id": "41935c69cbf14b9986c3cb683c1e0330",
    "time": "2021-02-10T22:16:28.974Z",
    "type": "completion"
   },
   {
    "code": "# Returns a dictionary of filtered column labels.\ndef find_labels(indicators):\n    labels = {}\n\n    for i in range(len(indicators)):\n        col_id = indicators[i]['id']\n        col_name = indicators[i]['name']\n        labels[col_id] = col_name\n\n    # Select items in the list that contain relevant population data by filtering through string patterns.\n    r = re.compile(\"(SP.POP).[\\d]{2}[A-Z0-9]{2}.[MAFE]{2}$\")\n    col_keys = list(filter(r.match, labels))\n    col_keys\n\n    labels_filtered = {}\n    for key, value in labels.items():\n        if key in col_keys:\n            labels_filtered[key] = value\n\n    return labels_filtered\n\nfind_labels(indicators)",
    "id": "41935c69cbf14b9986c3cb683c1e0330",
    "idx": 5,
    "time": "2021-02-10T22:16:36.333Z",
    "type": "execution"
   },
   {
    "id": "41935c69cbf14b9986c3cb683c1e0330",
    "time": "2021-02-10T22:16:36.485Z",
    "type": "completion"
   },
   {
    "code": "SOURCE = 40 # \"Population estimates and projections\"\n\nindicators_40 = wbdata.get_indicator(source=SOURCE)\nindicators_40",
    "id": "de4c030966d64447af2f8cffe587b4d4",
    "idx": 4,
    "time": "2021-02-10T22:18:04.615Z",
    "type": "execution"
   },
   {
    "id": "de4c030966d64447af2f8cffe587b4d4",
    "time": "2021-02-10T22:18:04.740Z",
    "type": "completion"
   },
   {
    "code": "SOURCE = 40 # \"Population estimates and projections\"\n\nindicators_40 = wbdata.get_indicator(source=SOURCE)\nindicators_40",
    "id": "de4c030966d64447af2f8cffe587b4d4",
    "idx": 4,
    "time": "2021-02-10T22:18:09.077Z",
    "type": "execution"
   },
   {
    "id": "de4c030966d64447af2f8cffe587b4d4",
    "time": "2021-02-10T22:18:09.190Z",
    "type": "completion"
   },
   {
    "code": "# Takes in an indicator object and returns a dictionary of filtered column labels.\ndef find_labels(indicators):\n    labels = {}\n\n    for i in range(len(indicators)):\n        col_id = indicators[i]['id']\n        col_name = indicators[i]['name']\n        labels[col_id] = col_name\n\n    # Select items in the list that contain relevant population data by filtering through string patterns.\n    r = re.compile(\"(SP.POP).[\\d]{2}[A-Z0-9]{2}.[MAFE]{2}$\")\n    col_keys = list(filter(r.match, labels))\n    col_keys\n\n    labels_filtered = {}\n    for key, value in labels.items():\n        if key in col_keys:\n            labels_filtered[key] = value\n\n    return labels_filtered",
    "id": "41935c69cbf14b9986c3cb683c1e0330",
    "idx": 5,
    "time": "2021-02-10T22:18:09.484Z",
    "type": "execution"
   },
   {
    "id": "41935c69cbf14b9986c3cb683c1e0330",
    "time": "2021-02-10T22:18:09.548Z",
    "type": "completion"
   },
   {
    "code": "variable_labels = find_labels(indicators)\n\n# Get the \nchn = wbdata.get_dataframe(variable_labels, freq='Y', data_date = None)\nchn",
    "id": "386d0acefa9f43298601d7a091ef98fc",
    "idx": 6,
    "time": "2021-02-10T22:18:09.942Z",
    "type": "execution"
   },
   {
    "code": "variable_labels = find_labels(indicators_40)\n\n# Get the \nchn = wbdata.get_dataframe(variable_labels, freq='Y', data_date = None)\nchn",
    "id": "386d0acefa9f43298601d7a091ef98fc",
    "idx": 6,
    "time": "2021-02-10T22:18:14.964Z",
    "type": "execution"
   },
   {
    "code": "variable_labels = find_labels(indicators_40)\n\n# Get the \nchn = wbdata.get_dataframe(variable_labels, freq='Y')\nchn",
    "id": "386d0acefa9f43298601d7a091ef98fc",
    "idx": 6,
    "time": "2021-02-10T22:19:15.864Z",
    "type": "execution"
   },
   {
    "id": "386d0acefa9f43298601d7a091ef98fc",
    "time": "2021-02-10T22:19:20.585Z",
    "type": "completion"
   },
   {
    "id": "386d0acefa9f43298601d7a091ef98fc",
    "time": "2021-02-10T22:19:20.586Z",
    "type": "completion"
   },
   {
    "id": "386d0acefa9f43298601d7a091ef98fc",
    "time": "2021-02-10T22:19:20.587Z",
    "type": "completion"
   },
   {
    "code": "!pip install wbdata\n\nimport wbdata\nimport numpy as np\nimport re ",
    "id": "af38968c93ee44748a03a29d070ceecb",
    "idx": 0,
    "time": "2021-02-10T22:19:26.588Z",
    "type": "execution"
   },
   {
    "code": "# Return list of all country/region codes:\nwbdata.get_country()",
    "id": "98dd03733662407ea9ed0705e05ef02d",
    "idx": 1,
    "time": "2021-02-10T22:19:26.592Z",
    "type": "execution"
   },
   {
    "code": "wbdata.get_source()",
    "id": "93c79a81062b4c0a9c63564f42254e78",
    "idx": 3,
    "time": "2021-02-10T22:19:26.596Z",
    "type": "execution"
   },
   {
    "code": "SOURCE = 40 # \"Population estimates and projections\"\n\nindicators_40 = wbdata.get_indicator(source=SOURCE)\nindicators_40",
    "id": "de4c030966d64447af2f8cffe587b4d4",
    "idx": 4,
    "time": "2021-02-10T22:19:26.601Z",
    "type": "execution"
   },
   {
    "code": "# Takes in an indicator object and returns a dictionary of filtered column labels.\ndef find_labels(indicators):\n    labels = {}\n\n    for i in range(len(indicators)):\n        col_id = indicators[i]['id']\n        col_name = indicators[i]['name']\n        labels[col_id] = col_name\n\n    # Select items in the list that contain relevant population data by filtering through string patterns.\n    r = re.compile(\"(SP.POP).[\\d]{2}[A-Z0-9]{2}.[MAFE]{2}$\")\n    col_keys = list(filter(r.match, labels))\n    col_keys\n\n    labels_filtered = {}\n    for key, value in labels.items():\n        if key in col_keys:\n            labels_filtered[key] = value\n\n    return labels_filtered",
    "id": "41935c69cbf14b9986c3cb683c1e0330",
    "idx": 5,
    "time": "2021-02-10T22:19:26.605Z",
    "type": "execution"
   },
   {
    "code": "variable_labels = find_labels(indicators_40)\n\n# Get the \nchn = wbdata.get_dataframe(variable_labels, freq='Y')\nchn",
    "id": "386d0acefa9f43298601d7a091ef98fc",
    "idx": 6,
    "time": "2021-02-10T22:19:26.611Z",
    "type": "execution"
   },
   {
    "id": "af38968c93ee44748a03a29d070ceecb",
    "time": "2021-02-10T22:19:30.879Z",
    "type": "completion"
   },
   {
    "id": "98dd03733662407ea9ed0705e05ef02d",
    "time": "2021-02-10T22:19:30.979Z",
    "type": "completion"
   },
   {
    "id": "93c79a81062b4c0a9c63564f42254e78",
    "time": "2021-02-10T22:19:30.984Z",
    "type": "completion"
   },
   {
    "id": "de4c030966d64447af2f8cffe587b4d4",
    "time": "2021-02-10T22:19:30.989Z",
    "type": "completion"
   },
   {
    "id": "41935c69cbf14b9986c3cb683c1e0330",
    "time": "2021-02-10T22:19:30.991Z",
    "type": "completion"
   },
   {
    "code": "# Takes in an indicator object and returns a dictionary of filtered column labels.\ndef find_labels(indicators):\n    labels = {}\n\n    for i in range(len(indicators)):\n        col_id = indicators[i]['id']\n        col_name = indicators[i]['name']\n        labels[col_id] = col_name\n\n    # Select items in the list that contain relevant population data by filtering through string patterns.\n    r = re.compile(\"(SP.POP).[\\d]{2}[A-Z0-9]{2}.[MAFE]{2}$\")\n    col_keys = list(filter(r.match, labels))\n    col_keys\n\n    labels_filtered = {}\n    for key, value in labels.items():\n        if key in col_keys:\n            labels_filtered[key] = value\n            \n    return labels_filtered",
    "id": "43f8a2cadcda473a895746f758d51b45",
    "idx": 5,
    "time": "2021-02-10T22:24:07.363Z",
    "type": "execution"
   },
   {
    "code": "# Takes in an indicator object and returns a dictionary of filtered column labels.\ndef find_labels(indicators):\n    labels = {}\n\n    for i in range(len(indicators)):\n        col_id = indicators[i]['id']\n        col_name = indicators[i]['name']\n        labels[col_id] = col_name\n\n    # Select items in the list that contain relevant population data by filtering through string patterns.\n    r = re.compile(\"(SP.POP).[\\d]{2}[A-Z0-9]{2}.[MAFE]{2}$\")\n    col_keys = list(filter(r.match, labels))\n    col_keys\n\n    labels_filtered = {}\n    for key, value in labels.items():\n        if key in col_keys:\n            labels_filtered[key] = value\n            \n    return labels_filtered\n\nlabels_filtered",
    "id": "43f8a2cadcda473a895746f758d51b45",
    "idx": 5,
    "time": "2021-02-10T22:24:12.704Z",
    "type": "execution"
   },
   {
    "code": "# Takes in an indicator object and returns a dictionary of filtered column labels.\ndef find_labels(indicators):\n    labels = {}\n\n    for i in range(len(indicators)):\n        col_id = indicators[i]['id']\n        col_name = indicators[i]['name']\n        labels[col_id] = col_name\n\n    # Select items in the list that contain relevant population data by filtering through string patterns.\n    r = re.compile(\"(SP.POP).[\\d]{2}[A-Z0-9]{2}.[MAFE]{2}$\")\n    col_keys = list(filter(r.match, labels))\n    col_keys\n\n    labels_filtered = {}\n    for key, value in labels.items():\n        if key in col_keys:\n            labels_filtered[key] = value\n            \n    return labels_filtered\n\nvariable_labels",
    "id": "43f8a2cadcda473a895746f758d51b45",
    "idx": 5,
    "time": "2021-02-10T22:24:21.492Z",
    "type": "execution"
   },
   {
    "code": "# Takes in an indicator object and returns a dictionary of filtered column labels.\ndef find_labels(indicators):\n    labels = {}\n\n    for i in range(len(indicators)):\n        col_id = indicators[i]['id']\n        col_name = indicators[i]['name']\n        labels[col_id] = col_name\n\n    # Select items in the list that contain relevant population data by filtering through string patterns.\n    r = re.compile(\"(SP.POP).[\\d]{2}[A-Z0-9]{2}.[MAFE]{2}$\")\n    col_keys = list(filter(r.match, labels))\n    col_keys\n\n    labels_filtered = {}\n    for key, value in labels.items():\n        if key in col_keys:\n            labels_filtered[key] = value\n            \n    return labels_filtered\n\nfind_labels(indicators_40)",
    "id": "43f8a2cadcda473a895746f758d51b45",
    "idx": 5,
    "time": "2021-02-10T22:24:26.069Z",
    "type": "execution"
   },
   {
    "id": "386d0acefa9f43298601d7a091ef98fc",
    "time": "2021-02-10T22:24:29.883Z",
    "type": "completion"
   },
   {
    "id": "43f8a2cadcda473a895746f758d51b45",
    "time": "2021-02-10T22:24:29.965Z",
    "type": "completion"
   },
   {
    "id": "43f8a2cadcda473a895746f758d51b45",
    "time": "2021-02-10T22:24:29.965Z",
    "type": "completion"
   },
   {
    "id": "43f8a2cadcda473a895746f758d51b45",
    "time": "2021-02-10T22:24:29.966Z",
    "type": "completion"
   },
   {
    "id": "43f8a2cadcda473a895746f758d51b45",
    "time": "2021-02-10T22:24:29.966Z",
    "type": "completion"
   },
   {
    "code": "!pip install wbdata\n\nimport wbdata\nimport numpy as np\nimport re ",
    "id": "af38968c93ee44748a03a29d070ceecb",
    "idx": 0,
    "time": "2021-02-10T22:24:33.154Z",
    "type": "execution"
   },
   {
    "code": "# Return list of all country/region codes:\nwbdata.get_country()",
    "id": "98dd03733662407ea9ed0705e05ef02d",
    "idx": 1,
    "time": "2021-02-10T22:24:33.157Z",
    "type": "execution"
   },
   {
    "code": "wbdata.get_source()",
    "id": "93c79a81062b4c0a9c63564f42254e78",
    "idx": 3,
    "time": "2021-02-10T22:24:33.163Z",
    "type": "execution"
   },
   {
    "code": "SOURCE = 40 # \"Population estimates and projections\"\n\nindicators_40 = wbdata.get_indicator(source=SOURCE)\nindicators_40",
    "id": "de4c030966d64447af2f8cffe587b4d4",
    "idx": 4,
    "time": "2021-02-10T22:24:33.165Z",
    "type": "execution"
   },
   {
    "code": "# Takes in an indicator object and returns a dictionary of filtered column labels.\ndef find_labels(indicators):\n    labels = {}\n\n    for i in range(len(indicators)):\n        col_id = indicators[i]['id']\n        col_name = indicators[i]['name']\n        labels[col_id] = col_name\n\n    # Select items in the list that contain relevant population data by filtering through string patterns.\n    r = re.compile(\"(SP.POP).[\\d]{2}[A-Z0-9]{2}.[MAFE]{2}$\")\n    col_keys = list(filter(r.match, labels))\n    col_keys\n\n    labels_filtered = {}\n    for key, value in labels.items():\n        if key in col_keys:\n            labels_filtered[key] = value\n            \n    return labels_filtered\n\nfind_labels(indicators_40)",
    "id": "43f8a2cadcda473a895746f758d51b45",
    "idx": 5,
    "time": "2021-02-10T22:24:33.167Z",
    "type": "execution"
   },
   {
    "id": "af38968c93ee44748a03a29d070ceecb",
    "time": "2021-02-10T22:24:37.355Z",
    "type": "completion"
   },
   {
    "id": "98dd03733662407ea9ed0705e05ef02d",
    "time": "2021-02-10T22:24:37.508Z",
    "type": "completion"
   },
   {
    "id": "93c79a81062b4c0a9c63564f42254e78",
    "time": "2021-02-10T22:24:37.619Z",
    "type": "completion"
   },
   {
    "id": "de4c030966d64447af2f8cffe587b4d4",
    "time": "2021-02-10T22:24:37.624Z",
    "type": "completion"
   },
   {
    "id": "43f8a2cadcda473a895746f758d51b45",
    "time": "2021-02-10T22:24:37.630Z",
    "type": "completion"
   },
   {
    "code": "variable_labels = find_labels(indicators_40)[:3]\n\n# Get the \nchn = wbdata.get_dataframe(variable_labels, freq='Y')\nchn",
    "id": "386d0acefa9f43298601d7a091ef98fc",
    "idx": 6,
    "time": "2021-02-10T22:25:17.341Z",
    "type": "execution"
   },
   {
    "id": "386d0acefa9f43298601d7a091ef98fc",
    "time": "2021-02-10T22:25:19.290Z",
    "type": "completion"
   },
   {
    "code": "# Takes in an indicator object and returns a dictionary of filtered column labels.\ndef find_labels(indicators):\n    labels = {}\n\n    for i in range(len(indicators)):\n        col_id = indicators[i]['id']\n        col_name = indicators[i]['name']\n        labels[col_id] = col_name\n\n    # Select items in the list that contain relevant population data by filtering through string patterns.\n    r = re.compile(\"(SP.POP).[\\d]{2}[A-Z0-9]{2}.[MAFE]{2}$\")\n    col_keys = list(filter(r.match, labels))\n    col_keys\n\n    labels_filtered = {}\n    for key, value in labels.items():\n        if key in col_keys:\n            labels_filtered[key] = value\n            \n    return labels_filtered\n\nfind_labels(indicators_40)[:3]",
    "id": "43f8a2cadcda473a895746f758d51b45",
    "idx": 5,
    "time": "2021-02-10T22:25:25.639Z",
    "type": "execution"
   },
   {
    "id": "43f8a2cadcda473a895746f758d51b45",
    "time": "2021-02-10T22:25:25.743Z",
    "type": "completion"
   },
   {
    "code": "def take(n, iterable):\n    \"Return first n items of the iterable as a list\"\n    return list(islice(iterable, n))\nn_items = take(3, variable_labels.items())",
    "id": "eeb86c48d4c44b58adfa27ffe6a14a66",
    "idx": 6,
    "time": "2021-02-10T22:26:50.107Z",
    "type": "execution"
   },
   {
    "id": "eeb86c48d4c44b58adfa27ffe6a14a66",
    "time": "2021-02-10T22:26:50.291Z",
    "type": "completion"
   },
   {
    "code": "first3pairs = {k: variable_labels[k] for k in list(variable_labels)[:3]}\nfirst3pairs",
    "id": "ca44668bcaf3400b8d4f6070974a8649",
    "idx": 6,
    "time": "2021-02-10T22:28:23.360Z",
    "type": "execution"
   },
   {
    "id": "ca44668bcaf3400b8d4f6070974a8649",
    "time": "2021-02-10T22:28:23.563Z",
    "type": "completion"
   },
   {
    "code": "variable_labels = find_labels(indicators_40)\n\n# Get the \nchn = wbdata.get_dataframe(first3pairs, freq='Y')\nchn",
    "id": "386d0acefa9f43298601d7a091ef98fc",
    "idx": 7,
    "time": "2021-02-10T22:28:30.167Z",
    "type": "execution"
   },
   {
    "id": "386d0acefa9f43298601d7a091ef98fc",
    "time": "2021-02-10T22:28:30.824Z",
    "type": "completion"
   },
   {
    "code": "first3pairs = {k: variable_labels[k] for k in list(variable_labels)[:10]}\nfirst3pairs",
    "id": "ca44668bcaf3400b8d4f6070974a8649",
    "idx": 6,
    "time": "2021-02-10T22:28:39.540Z",
    "type": "execution"
   },
   {
    "id": "ca44668bcaf3400b8d4f6070974a8649",
    "time": "2021-02-10T22:28:39.655Z",
    "type": "completion"
   },
   {
    "code": "variable_labels = find_labels(indicators_40)\n\n# Get the \nchn = wbdata.get_dataframe(first3pairs, freq='Y')\nchn",
    "id": "386d0acefa9f43298601d7a091ef98fc",
    "idx": 7,
    "time": "2021-02-10T22:28:40.543Z",
    "type": "execution"
   },
   {
    "id": "386d0acefa9f43298601d7a091ef98fc",
    "time": "2021-02-10T22:28:42.477Z",
    "type": "completion"
   },
   {
    "code": "variable_labels = find_labels(indicators_40)\n\n# Get the \nchn = wbdata.get_dataframe(variable_labels, freq='Y')\nchn",
    "id": "386d0acefa9f43298601d7a091ef98fc",
    "idx": 7,
    "time": "2021-02-10T22:28:55.311Z",
    "type": "execution"
   },
   {
    "code": "variable_labels",
    "id": "ca44668bcaf3400b8d4f6070974a8649",
    "idx": 6,
    "time": "2021-02-10T22:29:47.195Z",
    "type": "execution"
   },
   {
    "id": "386d0acefa9f43298601d7a091ef98fc",
    "time": "2021-02-10T22:29:51.559Z",
    "type": "completion"
   },
   {
    "id": "ca44668bcaf3400b8d4f6070974a8649",
    "time": "2021-02-10T22:29:51.568Z",
    "type": "completion"
   },
   {
    "code": "len(variable_labels)",
    "id": "ca44668bcaf3400b8d4f6070974a8649",
    "idx": 6,
    "time": "2021-02-10T22:30:00.422Z",
    "type": "execution"
   },
   {
    "id": "ca44668bcaf3400b8d4f6070974a8649",
    "time": "2021-02-10T22:30:00.552Z",
    "type": "completion"
   },
   {
    "code": "first3pairs = {k: variable_labels[k] for k in list(variable_labels)[:3]}\nfirst3pairs",
    "id": "ca44668bcaf3400b8d4f6070974a8649",
    "idx": 6,
    "time": "2021-02-10T22:30:25.618Z",
    "type": "execution"
   },
   {
    "id": "ca44668bcaf3400b8d4f6070974a8649",
    "time": "2021-02-10T22:30:25.693Z",
    "type": "completion"
   },
   {
    "code": "variable_labels",
    "id": "9c931536daf342eb84011561484ead4f",
    "idx": 7,
    "time": "2021-02-10T22:30:33.758Z",
    "type": "execution"
   },
   {
    "id": "9c931536daf342eb84011561484ead4f",
    "time": "2021-02-10T22:30:34.085Z",
    "type": "completion"
   },
   {
    "code": "first3pairs = {k: variable_labels[k] for k in list(variable_labels)[:-10]}\nfirst3pairs",
    "id": "ca44668bcaf3400b8d4f6070974a8649",
    "idx": 6,
    "time": "2021-02-10T22:31:29.692Z",
    "type": "execution"
   },
   {
    "id": "ca44668bcaf3400b8d4f6070974a8649",
    "time": "2021-02-10T22:31:29.900Z",
    "type": "completion"
   },
   {
    "code": "first3pairs = {k: variable_labels[k] for k in list(variable_labels)[-10:]}\nfirst3pairs",
    "id": "ca44668bcaf3400b8d4f6070974a8649",
    "idx": 6,
    "time": "2021-02-10T22:31:42.639Z",
    "type": "execution"
   },
   {
    "id": "ca44668bcaf3400b8d4f6070974a8649",
    "time": "2021-02-10T22:31:42.741Z",
    "type": "completion"
   },
   {
    "code": "variable_labels = find_labels(indicators_40)\n\n# Get the \nchn = wbdata.get_dataframe(variable_labels, freq='Y')\nchn",
    "id": "386d0acefa9f43298601d7a091ef98fc",
    "idx": 7,
    "time": "2021-02-10T22:31:45.316Z",
    "type": "execution"
   },
   {
    "code": "first3pairs = {k: variable_labels[k] for k in list(variable_labels)[-2:]}\nfirst3pairs",
    "id": "ca44668bcaf3400b8d4f6070974a8649",
    "idx": 6,
    "time": "2021-02-10T22:32:47.618Z",
    "type": "execution"
   },
   {
    "code": "variable_labels = find_labels(indicators_40)\n\n# Get the \nchn = wbdata.get_dataframe(variable_labels, freq='Y')\nchn",
    "id": "386d0acefa9f43298601d7a091ef98fc",
    "idx": 7,
    "time": "2021-02-10T22:32:50.027Z",
    "type": "execution"
   },
   {
    "id": "ca44668bcaf3400b8d4f6070974a8649",
    "time": "2021-02-10T22:32:52.961Z",
    "type": "completion"
   },
   {
    "id": "386d0acefa9f43298601d7a091ef98fc",
    "time": "2021-02-10T22:32:52.980Z",
    "type": "completion"
   },
   {
    "id": "386d0acefa9f43298601d7a091ef98fc",
    "time": "2021-02-10T22:32:52.980Z",
    "type": "completion"
   },
   {
    "code": "first3pairs = {k: variable_labels[k] for k in list(variable_labels)[-2:]}\nfirst3pairs",
    "id": "ca44668bcaf3400b8d4f6070974a8649",
    "idx": 6,
    "time": "2021-02-10T22:32:54.193Z",
    "type": "execution"
   },
   {
    "code": "variable_labels = find_labels(indicators_40)\n\n# Get the \nchn = wbdata.get_dataframe(variable_labels, freq='Y')\nchn",
    "id": "386d0acefa9f43298601d7a091ef98fc",
    "idx": 7,
    "time": "2021-02-10T22:32:54.353Z",
    "type": "execution"
   },
   {
    "id": "ca44668bcaf3400b8d4f6070974a8649",
    "time": "2021-02-10T22:32:54.578Z",
    "type": "completion"
   },
   {
    "code": "first3pairs = {k: variable_labels[k] for k in list(variable_labels)[:32]}\nfirst3pairs",
    "id": "ca44668bcaf3400b8d4f6070974a8649",
    "idx": 6,
    "time": "2021-02-10T22:33:18.538Z",
    "type": "execution"
   },
   {
    "code": "variable_labels = find_labels(indicators_40)\n\n# Get the \nchn = wbdata.get_dataframe(variable_labels, freq='Y')\nchn",
    "id": "386d0acefa9f43298601d7a091ef98fc",
    "idx": 7,
    "time": "2021-02-10T22:33:19.301Z",
    "type": "execution"
   },
   {
    "id": "ca44668bcaf3400b8d4f6070974a8649",
    "time": "2021-02-10T22:33:19.633Z",
    "type": "completion"
   },
   {
    "id": "386d0acefa9f43298601d7a091ef98fc",
    "time": "2021-02-10T22:33:19.637Z",
    "type": "completion"
   },
   {
    "id": "386d0acefa9f43298601d7a091ef98fc",
    "time": "2021-02-10T22:33:19.637Z",
    "type": "completion"
   },
   {
    "code": "first3pairs = {k: variable_labels[k] for k in list(variable_labels)[:32]}\nfirst3pairs",
    "id": "ca44668bcaf3400b8d4f6070974a8649",
    "idx": 6,
    "time": "2021-02-10T22:33:23.482Z",
    "type": "execution"
   },
   {
    "id": "ca44668bcaf3400b8d4f6070974a8649",
    "time": "2021-02-10T22:33:23.578Z",
    "type": "completion"
   },
   {
    "code": "variable_labels = find_labels(indicators_40)\n\n# Get the \nchn = wbdata.get_dataframe(variable_labels, freq='Y')\nchn",
    "id": "386d0acefa9f43298601d7a091ef98fc",
    "idx": 7,
    "time": "2021-02-10T22:33:23.705Z",
    "type": "execution"
   },
   {
    "id": "386d0acefa9f43298601d7a091ef98fc",
    "time": "2021-02-10T22:33:27.938Z",
    "type": "completion"
   },
   {
    "code": "variable_labels = find_labels(indicators_40)\n\n# Get the \nchn = wbdata.get_dataframe(first3pairs, freq='Y')\nchn",
    "id": "386d0acefa9f43298601d7a091ef98fc",
    "idx": 7,
    "time": "2021-02-10T22:33:46.577Z",
    "type": "execution"
   },
   {
    "id": "386d0acefa9f43298601d7a091ef98fc",
    "time": "2021-02-10T22:33:51.035Z",
    "type": "completion"
   },
   {
    "code": "!pip install wbdata\n\nimport wbdata\nimport numpy as np\nimport re ",
    "id": "af38968c93ee44748a03a29d070ceecb",
    "idx": 0,
    "time": "2021-02-10T22:34:19.897Z",
    "type": "execution"
   },
   {
    "code": "# Return list of all country/region codes:\nwbdata.get_country()",
    "id": "98dd03733662407ea9ed0705e05ef02d",
    "idx": 1,
    "time": "2021-02-10T22:34:19.903Z",
    "type": "execution"
   },
   {
    "code": "wbdata.get_source()",
    "id": "93c79a81062b4c0a9c63564f42254e78",
    "idx": 3,
    "time": "2021-02-10T22:34:19.910Z",
    "type": "execution"
   },
   {
    "code": "SOURCE = 40 # \"Population estimates and projections\"\n\nindicators_40 = wbdata.get_indicator(source=SOURCE)\nindicators_40",
    "id": "de4c030966d64447af2f8cffe587b4d4",
    "idx": 4,
    "time": "2021-02-10T22:34:19.914Z",
    "type": "execution"
   },
   {
    "code": "# Takes in an indicator object and returns a dictionary of filtered column labels.\ndef find_labels(indicators):\n    labels = {}\n\n    for i in range(len(indicators)):\n        col_id = indicators[i]['id']\n        col_name = indicators[i]['name']\n        labels[col_id] = col_name\n\n    # Select items in the list that contain relevant population data by filtering through string patterns.\n    r = re.compile(\"(SP.POP).[\\d]{2}[A-Z0-9]{2}.[MAFE]{2}$\")\n    col_keys = list(filter(r.match, labels))\n    col_keys\n\n    labels_filtered = {}\n    for key, value in labels.items():\n        if key in col_keys:\n            labels_filtered[key] = value\n            \n    return labels_filtered\n\nfind_labels(indicators_40)",
    "id": "43f8a2cadcda473a895746f758d51b45",
    "idx": 5,
    "time": "2021-02-10T22:34:19.921Z",
    "type": "execution"
   },
   {
    "code": "first3pairs = {k: variable_labels[k] for k in list(variable_labels)[:32]}\nfirst3pairs",
    "id": "ca44668bcaf3400b8d4f6070974a8649",
    "idx": 6,
    "time": "2021-02-10T22:34:19.926Z",
    "type": "execution"
   },
   {
    "id": "af38968c93ee44748a03a29d070ceecb",
    "time": "2021-02-10T22:34:24.005Z",
    "type": "completion"
   },
   {
    "id": "98dd03733662407ea9ed0705e05ef02d",
    "time": "2021-02-10T22:34:24.092Z",
    "type": "completion"
   },
   {
    "id": "93c79a81062b4c0a9c63564f42254e78",
    "time": "2021-02-10T22:34:24.432Z",
    "type": "completion"
   },
   {
    "id": "de4c030966d64447af2f8cffe587b4d4",
    "time": "2021-02-10T22:34:24.677Z",
    "type": "completion"
   },
   {
    "id": "43f8a2cadcda473a895746f758d51b45",
    "time": "2021-02-10T22:34:24.879Z",
    "type": "completion"
   },
   {
    "id": "ca44668bcaf3400b8d4f6070974a8649",
    "time": "2021-02-10T22:34:24.948Z",
    "type": "completion"
   },
   {
    "code": "variable_labels = find_labels(indicators_40)\n\n# Get the \nchn = wbdata.get_dataframe(first3pairs, freq='Y')\nchn",
    "id": "386d0acefa9f43298601d7a091ef98fc",
    "idx": 7,
    "time": "2021-02-10T22:34:28.778Z",
    "type": "execution"
   },
   {
    "id": "386d0acefa9f43298601d7a091ef98fc",
    "time": "2021-02-10T22:34:32.994Z",
    "type": "completion"
   },
   {
    "code": "first3pairs = {k: variable_labels[k] for k in list(variable_labels)[:10]}\nfirst3pairs",
    "id": "ca44668bcaf3400b8d4f6070974a8649",
    "idx": 6,
    "time": "2021-02-10T22:34:41.744Z",
    "type": "execution"
   },
   {
    "id": "ca44668bcaf3400b8d4f6070974a8649",
    "time": "2021-02-10T22:34:41.843Z",
    "type": "completion"
   },
   {
    "code": "variable_labels = find_labels(indicators_40)\n\n# Get the \nchn = wbdata.get_dataframe(first3pairs, freq='Y')\nchn",
    "id": "386d0acefa9f43298601d7a091ef98fc",
    "idx": 7,
    "time": "2021-02-10T22:34:42.715Z",
    "type": "execution"
   },
   {
    "id": "386d0acefa9f43298601d7a091ef98fc",
    "time": "2021-02-10T22:34:44.809Z",
    "type": "completion"
   },
   {
    "code": "first3pairs = {k: variable_labels[k] for k in list(variable_labels)[:32]}\nfirst3pairs",
    "id": "ca44668bcaf3400b8d4f6070974a8649",
    "idx": 6,
    "time": "2021-02-10T22:35:12.177Z",
    "type": "execution"
   },
   {
    "id": "ca44668bcaf3400b8d4f6070974a8649",
    "time": "2021-02-10T22:35:12.636Z",
    "type": "completion"
   },
   {
    "code": "variable_labels = find_labels(indicators_40)\n\n# Get the \nchn = wbdata.get_dataframe(first3pairs, freq='Y', cache=False)\nchn",
    "id": "386d0acefa9f43298601d7a091ef98fc",
    "idx": 7,
    "time": "2021-02-10T22:35:15.939Z",
    "type": "execution"
   },
   {
    "code": "first3pairs = {k: variable_labels[k] for k in list(variable_labels)[:32]}\nfirst3pairs",
    "id": "ca44668bcaf3400b8d4f6070974a8649",
    "idx": 6,
    "time": "2021-02-10T22:36:45.791Z",
    "type": "execution"
   },
   {
    "code": "first3pairs = {k: variable_labels[k] for k in list(variable_labels)[:32]}\nfirst3pairs",
    "id": "ca44668bcaf3400b8d4f6070974a8649",
    "idx": 6,
    "time": "2021-02-10T22:36:59.117Z",
    "type": "execution"
   },
   {
    "code": "variable_labels = find_labels(indicators_40)\n\n# Get the \nchn = wbdata.get_dataframe(first3pairs, freq='Y', cache=False)\nchn",
    "id": "386d0acefa9f43298601d7a091ef98fc",
    "idx": 7,
    "time": "2021-02-10T22:36:59.576Z",
    "type": "execution"
   },
   {
    "id": "ca44668bcaf3400b8d4f6070974a8649",
    "time": "2021-02-10T22:37:05.061Z",
    "type": "completion"
   },
   {
    "id": "ca44668bcaf3400b8d4f6070974a8649",
    "time": "2021-02-10T22:37:05.061Z",
    "type": "completion"
   },
   {
    "id": "386d0acefa9f43298601d7a091ef98fc",
    "time": "2021-02-10T22:37:05.063Z",
    "type": "completion"
   },
   {
    "id": "386d0acefa9f43298601d7a091ef98fc",
    "time": "2021-02-10T22:37:05.063Z",
    "type": "completion"
   },
   {
    "code": "first3pairs = {k: variable_labels[k] for k in list(variable_labels)[:32]}\nfirst3pairs",
    "id": "ca44668bcaf3400b8d4f6070974a8649",
    "idx": 6,
    "time": "2021-02-10T22:38:36.763Z",
    "type": "execution"
   },
   {
    "id": "ca44668bcaf3400b8d4f6070974a8649",
    "time": "2021-02-10T22:38:36.834Z",
    "type": "completion"
   },
   {
    "code": "variable_labels = find_labels(indicators_40)\n\n# Get the \nchn = wbdata.get_dataframe(first3pairs, freq='Y')\nchn",
    "id": "386d0acefa9f43298601d7a091ef98fc",
    "idx": 7,
    "time": "2021-02-10T22:38:43.554Z",
    "type": "execution"
   },
   {
    "id": "386d0acefa9f43298601d7a091ef98fc",
    "time": "2021-02-10T22:38:47.674Z",
    "type": "completion"
   },
   {
    "code": "# Takes in an indicator object and returns a dictionary of filtered column labels.\ndef find_labels(indicators):\n    labels = {}\n\n    for i in range(len(indicators)):\n        col_id = indicators[i]['id']\n        col_name = indicators[i]['name']\n        labels[col_id] = col_name\n\n    # Select items in the list that contain relevant population data by filtering through string patterns.\n    r = re.compile(\"(SP.POP).[\\d]{2}[A-Z0-9]{2}.[MAFE]{2}$\")\n    col_keys = list(filter(r.match, labels))\n    col_keys\n\n    labels_filtered = {}\n    for key, value in labels.items():\n        if key in col_keys:\n            labels_filtered[key] = value\n            \n    return labels_filtered",
    "id": "43f8a2cadcda473a895746f758d51b45",
    "idx": 5,
    "time": "2021-02-10T22:39:02.692Z",
    "type": "execution"
   },
   {
    "id": "43f8a2cadcda473a895746f758d51b45",
    "time": "2021-02-10T22:39:02.757Z",
    "type": "completion"
   },
   {
    "code": "variable_labels = find_labels(indicators_40)\n\n# Get the \nchn = wbdata.get_dataframe(first3pairs, freq='Y')\nchn",
    "id": "386d0acefa9f43298601d7a091ef98fc",
    "idx": 7,
    "time": "2021-02-10T22:41:27.562Z",
    "type": "execution"
   },
   {
    "id": "386d0acefa9f43298601d7a091ef98fc",
    "time": "2021-02-10T22:41:32.491Z",
    "type": "completion"
   },
   {
    "code": "!pip install wbdata\n\nimport wbdata\nimport numpy as np\nimport re ",
    "id": "af38968c93ee44748a03a29d070ceecb",
    "idx": 0,
    "time": "2021-02-10T22:43:37.947Z",
    "type": "execution"
   },
   {
    "code": "# Return list of all country/region codes:\nwbdata.get_country()",
    "id": "98dd03733662407ea9ed0705e05ef02d",
    "idx": 1,
    "time": "2021-02-10T22:43:37.965Z",
    "type": "execution"
   },
   {
    "code": "wbdata.get_source()",
    "id": "93c79a81062b4c0a9c63564f42254e78",
    "idx": 3,
    "time": "2021-02-10T22:43:37.977Z",
    "type": "execution"
   },
   {
    "code": "SOURCE = 40 # \"Population estimates and projections\"\n\nindicators_40 = wbdata.get_indicator(source=SOURCE)\nindicators_40",
    "id": "de4c030966d64447af2f8cffe587b4d4",
    "idx": 4,
    "time": "2021-02-10T22:43:37.982Z",
    "type": "execution"
   },
   {
    "code": "# Takes in an indicator object and returns a dictionary of filtered column labels.\ndef find_labels(indicators):\n    labels = {}\n\n    for i in range(len(indicators)):\n        col_id = indicators[i]['id']\n        col_name = indicators[i]['name']\n        labels[col_id] = col_name\n\n    # Select items in the list that contain relevant population data by filtering through string patterns.\n    r = re.compile(\"(SP.POP).[\\d]{2}[A-Z0-9]{2}.[MAFE]{2}$\")\n    col_keys = list(filter(r.match, labels))\n    col_keys\n\n    labels_filtered = {}\n    for key, value in labels.items():\n        if key in col_keys:\n            labels_filtered[key] = value\n            \n    return labels_filtered",
    "id": "43f8a2cadcda473a895746f758d51b45",
    "idx": 5,
    "time": "2021-02-10T22:43:37.990Z",
    "type": "execution"
   },
   {
    "code": "first3pairs = {k: variable_labels[k] for k in list(variable_labels)[:32]}\nfirst3pairs",
    "id": "ca44668bcaf3400b8d4f6070974a8649",
    "idx": 6,
    "time": "2021-02-10T22:43:37.995Z",
    "type": "execution"
   },
   {
    "code": "variable_labels = find_labels(indicators_40)\n\n# Get the \nchn = wbdata.get_dataframe(first3pairs, freq='Y')\nchn",
    "id": "386d0acefa9f43298601d7a091ef98fc",
    "idx": 7,
    "time": "2021-02-10T22:43:40.779Z",
    "type": "execution"
   },
   {
    "id": "af38968c93ee44748a03a29d070ceecb",
    "time": "2021-02-10T22:43:42.945Z",
    "type": "completion"
   },
   {
    "id": "98dd03733662407ea9ed0705e05ef02d",
    "time": "2021-02-10T22:43:43.047Z",
    "type": "completion"
   },
   {
    "id": "93c79a81062b4c0a9c63564f42254e78",
    "time": "2021-02-10T22:43:43.064Z",
    "type": "completion"
   },
   {
    "id": "de4c030966d64447af2f8cffe587b4d4",
    "time": "2021-02-10T22:43:43.308Z",
    "type": "completion"
   },
   {
    "id": "43f8a2cadcda473a895746f758d51b45",
    "time": "2021-02-10T22:43:43.678Z",
    "type": "completion"
   },
   {
    "id": "ca44668bcaf3400b8d4f6070974a8649",
    "time": "2021-02-10T22:43:43.707Z",
    "type": "completion"
   },
   {
    "id": "386d0acefa9f43298601d7a091ef98fc",
    "time": "2021-02-10T22:43:43.720Z",
    "type": "completion"
   },
   {
    "code": "variable_labels = find_labels(indicators_40)\n\n# Get the \nchn = wbdata.get_dataframe(first3pairs, freq='Y')\nchn",
    "id": "386d0acefa9f43298601d7a091ef98fc",
    "idx": 6,
    "time": "2021-02-10T22:44:05.601Z",
    "type": "execution"
   },
   {
    "id": "386d0acefa9f43298601d7a091ef98fc",
    "time": "2021-02-10T22:44:05.719Z",
    "type": "completion"
   },
   {
    "code": "variable_labels = find_labels(indicators_40)\n\n# Get the \nchn = wbdata.get_dataframe(variable_labels, freq='Y')\nchn",
    "id": "386d0acefa9f43298601d7a091ef98fc",
    "idx": 6,
    "time": "2021-02-10T22:44:24.865Z",
    "type": "execution"
   },
   {
    "id": "386d0acefa9f43298601d7a091ef98fc",
    "time": "2021-02-10T22:44:28.819Z",
    "type": "completion"
   },
   {
    "code": "first3pairs = {k: variable_labels[k] for k in list(variable_labels)[:10]}\nfirst3pairs",
    "id": "23224d59ce744a75a373b845523b0455",
    "idx": 8,
    "time": "2021-02-10T22:44:46.099Z",
    "type": "execution"
   },
   {
    "id": "23224d59ce744a75a373b845523b0455",
    "time": "2021-02-10T22:44:46.215Z",
    "type": "completion"
   },
   {
    "code": "variable_labels = find_labels(indicators_40)\n\n# Get the \nchn = wbdata.get_dataframe(first3pairs, freq='Y')\nchn",
    "id": "386d0acefa9f43298601d7a091ef98fc",
    "idx": 6,
    "time": "2021-02-10T22:44:52.166Z",
    "type": "execution"
   },
   {
    "id": "386d0acefa9f43298601d7a091ef98fc",
    "time": "2021-02-10T22:44:54.254Z",
    "type": "completion"
   },
   {
    "code": "first3pairs = {k: variable_labels[k] for k in list(variable_labels)[:20]}\nfirst3pairs",
    "id": "23224d59ce744a75a373b845523b0455",
    "idx": 8,
    "time": "2021-02-10T22:45:04.549Z",
    "type": "execution"
   },
   {
    "id": "23224d59ce744a75a373b845523b0455",
    "time": "2021-02-10T22:45:04.631Z",
    "type": "completion"
   },
   {
    "code": "variable_labels = find_labels(indicators_40)\n\n# Get the \nchn = wbdata.get_dataframe(first3pairs, freq='Y')\nchn",
    "id": "386d0acefa9f43298601d7a091ef98fc",
    "idx": 6,
    "time": "2021-02-10T22:45:07.426Z",
    "type": "execution"
   },
   {
    "id": "386d0acefa9f43298601d7a091ef98fc",
    "time": "2021-02-10T22:45:11.102Z",
    "type": "completion"
   },
   {
    "code": "first3pairs = {k: variable_labels[k] for k in list(variable_labels)[:25]}\nfirst3pairs",
    "id": "23224d59ce744a75a373b845523b0455",
    "idx": 8,
    "time": "2021-02-10T22:45:53.409Z",
    "type": "execution"
   },
   {
    "id": "23224d59ce744a75a373b845523b0455",
    "time": "2021-02-10T22:45:53.569Z",
    "type": "completion"
   },
   {
    "code": "variable_labels = find_labels(indicators_40)\n\n# Get the \nchn = wbdata.get_dataframe(first3pairs, freq='Y')\nchn",
    "id": "386d0acefa9f43298601d7a091ef98fc",
    "idx": 6,
    "time": "2021-02-10T22:45:58.695Z",
    "type": "execution"
   },
   {
    "id": "386d0acefa9f43298601d7a091ef98fc",
    "time": "2021-02-10T22:46:03.569Z",
    "type": "completion"
   },
   {
    "code": "first3pairs = {k: variable_labels[k] for k in list(variable_labels)[:30]}\nfirst3pairs",
    "id": "23224d59ce744a75a373b845523b0455",
    "idx": 8,
    "time": "2021-02-10T22:46:19.873Z",
    "type": "execution"
   },
   {
    "id": "23224d59ce744a75a373b845523b0455",
    "time": "2021-02-10T22:46:19.973Z",
    "type": "completion"
   },
   {
    "code": "variable_labels = find_labels(indicators_40)\n\n# Get the \nchn = wbdata.get_dataframe(first3pairs, freq='Y')\nchn",
    "id": "386d0acefa9f43298601d7a091ef98fc",
    "idx": 6,
    "time": "2021-02-10T22:46:22.946Z",
    "type": "execution"
   },
   {
    "id": "386d0acefa9f43298601d7a091ef98fc",
    "time": "2021-02-10T22:46:26.986Z",
    "type": "completion"
   },
   {
    "code": "first3pairs = {k: variable_labels[k] for k in list(variable_labels)[30]}\nfirst3pairs",
    "id": "23224d59ce744a75a373b845523b0455",
    "idx": 8,
    "time": "2021-02-10T22:46:41.718Z",
    "type": "execution"
   },
   {
    "id": "23224d59ce744a75a373b845523b0455",
    "time": "2021-02-10T22:46:41.833Z",
    "type": "completion"
   },
   {
    "code": "first3pairs = {k: variable_labels[k] for k in list(variable_labels)[:30]}\nfirst3pairs",
    "id": "23224d59ce744a75a373b845523b0455",
    "idx": 8,
    "time": "2021-02-10T22:46:55.872Z",
    "type": "execution"
   },
   {
    "id": "23224d59ce744a75a373b845523b0455",
    "time": "2021-02-10T22:46:56.168Z",
    "type": "completion"
   },
   {
    "code": "first3pairs = {k: variable_labels[k] for k in list(variable_labels)[30]}\nfirst3pairs",
    "id": "23224d59ce744a75a373b845523b0455",
    "idx": 8,
    "time": "2021-02-10T22:46:59.292Z",
    "type": "execution"
   },
   {
    "id": "23224d59ce744a75a373b845523b0455",
    "time": "2021-02-10T22:46:59.393Z",
    "type": "completion"
   },
   {
    "code": "variable_labels[30]",
    "id": "a38c9ff758ce49e886d26ff1fb5130d3",
    "idx": 6,
    "time": "2021-02-10T22:47:11.028Z",
    "type": "execution"
   },
   {
    "id": "a38c9ff758ce49e886d26ff1fb5130d3",
    "time": "2021-02-10T22:47:11.117Z",
    "type": "completion"
   },
   {
    "code": "first3pairs = {k: variable_labels[k] for k in list(variable_labels)[:30]}\nfirst3pairs",
    "id": "23224d59ce744a75a373b845523b0455",
    "idx": 8,
    "time": "2021-02-10T22:47:23.799Z",
    "type": "execution"
   },
   {
    "id": "23224d59ce744a75a373b845523b0455",
    "time": "2021-02-10T22:47:24.000Z",
    "type": "completion"
   },
   {
    "code": "variable_labels.items()[30]",
    "id": "49b355607307484b898402353af5fdb1",
    "idx": 7,
    "time": "2021-02-10T22:47:59.702Z",
    "type": "execution"
   },
   {
    "id": "49b355607307484b898402353af5fdb1",
    "time": "2021-02-10T22:47:59.771Z",
    "type": "completion"
   },
   {
    "code": "variable_labels.keys()[30]",
    "id": "49b355607307484b898402353af5fdb1",
    "idx": 7,
    "time": "2021-02-10T22:48:05.504Z",
    "type": "execution"
   },
   {
    "id": "49b355607307484b898402353af5fdb1",
    "time": "2021-02-10T22:48:05.602Z",
    "type": "completion"
   },
   {
    "code": "list(variable_labels.items())[30]",
    "id": "49b355607307484b898402353af5fdb1",
    "idx": 7,
    "time": "2021-02-10T22:48:15.644Z",
    "type": "execution"
   },
   {
    "id": "49b355607307484b898402353af5fdb1",
    "time": "2021-02-10T22:48:15.809Z",
    "type": "completion"
   },
   {
    "code": "variable_labels = find_labels(indicators_40)\n\n# Get the \nchn = wbdata.get_dataframe({'SP.POP.7579.FE', 'Population ages 75-79, female'}, freq='Y')\nchn",
    "id": "386d0acefa9f43298601d7a091ef98fc",
    "idx": 6,
    "time": "2021-02-10T22:49:01.973Z",
    "type": "execution"
   },
   {
    "id": "386d0acefa9f43298601d7a091ef98fc",
    "time": "2021-02-10T22:49:02.354Z",
    "type": "completion"
   },
   {
    "code": "variable_labels = find_labels(indicators_40)\n\n# Get the \nchn = wbdata.get_dataframe({'SP.POP.7579.FE': 'Population ages 75-79, female'}, freq='Y')\nchn",
    "id": "386d0acefa9f43298601d7a091ef98fc",
    "idx": 6,
    "time": "2021-02-10T22:49:08.112Z",
    "type": "execution"
   },
   {
    "id": "386d0acefa9f43298601d7a091ef98fc",
    "time": "2021-02-10T22:49:32.159Z",
    "type": "completion"
   },
   {
    "code": "list(variable_labels.items())[27]",
    "id": "49b355607307484b898402353af5fdb1",
    "idx": 7,
    "time": "2021-02-10T22:49:46.800Z",
    "type": "execution"
   },
   {
    "id": "49b355607307484b898402353af5fdb1",
    "time": "2021-02-10T22:49:46.878Z",
    "type": "completion"
   },
   {
    "code": "list(variable_labels.items())[27]",
    "id": "49b355607307484b898402353af5fdb1",
    "idx": 7,
    "time": "2021-02-10T22:50:06.310Z",
    "type": "execution"
   },
   {
    "id": "49b355607307484b898402353af5fdb1",
    "time": "2021-02-10T22:50:06.443Z",
    "type": "completion"
   },
   {
    "code": "first3pairs = {k: variable_labels[k] for k in list(variable_labels)[:26]}\nfirst3pairs",
    "id": "23224d59ce744a75a373b845523b0455",
    "idx": 8,
    "time": "2021-02-10T22:50:12.960Z",
    "type": "execution"
   },
   {
    "id": "23224d59ce744a75a373b845523b0455",
    "time": "2021-02-10T22:50:13.063Z",
    "type": "completion"
   },
   {
    "code": "variable_labels = find_labels(indicators_40)\n\n# Get the \nchn = wbdata.get_dataframe(first3pairs, freq='Y')\nchn",
    "id": "386d0acefa9f43298601d7a091ef98fc",
    "idx": 6,
    "time": "2021-02-10T22:50:31.472Z",
    "type": "execution"
   },
   {
    "id": "386d0acefa9f43298601d7a091ef98fc",
    "time": "2021-02-10T22:50:36.464Z",
    "type": "completion"
   },
   {
    "code": "first3pairs = {k: variable_labels[k] for k in list(variable_labels)[:27]}\nfirst3pairs",
    "id": "23224d59ce744a75a373b845523b0455",
    "idx": 8,
    "time": "2021-02-10T22:50:43.054Z",
    "type": "execution"
   },
   {
    "id": "23224d59ce744a75a373b845523b0455",
    "time": "2021-02-10T22:50:43.261Z",
    "type": "completion"
   },
   {
    "code": "variable_labels = find_labels(indicators_40)\n\n# Get the \nchn = wbdata.get_dataframe(first3pairs, freq='Y')\nchn",
    "id": "386d0acefa9f43298601d7a091ef98fc",
    "idx": 6,
    "time": "2021-02-10T22:50:51.301Z",
    "type": "execution"
   },
   {
    "id": "386d0acefa9f43298601d7a091ef98fc",
    "time": "2021-02-10T22:50:56.569Z",
    "type": "completion"
   },
   {
    "code": "first3pairs = {k: variable_labels[k] for k in list(variable_labels)[:28]}\nfirst3pairs",
    "id": "23224d59ce744a75a373b845523b0455",
    "idx": 8,
    "time": "2021-02-10T22:51:01.206Z",
    "type": "execution"
   },
   {
    "id": "23224d59ce744a75a373b845523b0455",
    "time": "2021-02-10T22:51:01.375Z",
    "type": "completion"
   },
   {
    "code": "variable_labels = find_labels(indicators_40)\n\n# Get the \nchn = wbdata.get_dataframe(first3pairs, freq='Y')\nchn",
    "id": "386d0acefa9f43298601d7a091ef98fc",
    "idx": 6,
    "time": "2021-02-10T22:51:03.172Z",
    "type": "execution"
   },
   {
    "id": "386d0acefa9f43298601d7a091ef98fc",
    "time": "2021-02-10T22:51:08.492Z",
    "type": "completion"
   },
   {
    "code": "first3pairs = {k: variable_labels[k] for k in list(variable_labels)[:29]}\nfirst3pairs",
    "id": "23224d59ce744a75a373b845523b0455",
    "idx": 8,
    "time": "2021-02-10T22:51:12.535Z",
    "type": "execution"
   },
   {
    "id": "23224d59ce744a75a373b845523b0455",
    "time": "2021-02-10T22:51:12.676Z",
    "type": "completion"
   },
   {
    "code": "variable_labels = find_labels(indicators_40)\n\n# Get the \nchn = wbdata.get_dataframe(first3pairs, freq='Y')\nchn",
    "id": "386d0acefa9f43298601d7a091ef98fc",
    "idx": 6,
    "time": "2021-02-10T22:51:15.524Z",
    "type": "execution"
   },
   {
    "id": "386d0acefa9f43298601d7a091ef98fc",
    "time": "2021-02-10T22:51:19.574Z",
    "type": "completion"
   },
   {
    "code": "list(variable_labels.items())[29]",
    "id": "49b355607307484b898402353af5fdb1",
    "idx": 7,
    "time": "2021-02-10T22:51:28.079Z",
    "type": "execution"
   },
   {
    "id": "49b355607307484b898402353af5fdb1",
    "time": "2021-02-10T22:51:28.210Z",
    "type": "completion"
   },
   {
    "code": "variable_labels = find_labels(indicators_40)\n\n# Get the \nchn = wbdata.get_dataframe({'SP.POP.7074.FE': 'Population ages 70-74, female'}, freq='Y')\nchn",
    "id": "386d0acefa9f43298601d7a091ef98fc",
    "idx": 6,
    "time": "2021-02-10T22:52:02.335Z",
    "type": "execution"
   },
   {
    "id": "386d0acefa9f43298601d7a091ef98fc",
    "time": "2021-02-10T22:52:02.573Z",
    "type": "completion"
   },
   {
    "code": "first3pairs = {k: variable_labels[k] for k in list(variable_labels)[29]}\nfirst3pairs",
    "id": "23224d59ce744a75a373b845523b0455",
    "idx": 8,
    "time": "2021-02-10T22:54:43.087Z",
    "type": "execution"
   },
   {
    "id": "23224d59ce744a75a373b845523b0455",
    "time": "2021-02-10T22:54:43.433Z",
    "type": "completion"
   },
   {
    "code": "first3pairs = {k: variable_labels[k] for k in list(variable_labels)[:29]}\nfirst3pairs",
    "id": "23224d59ce744a75a373b845523b0455",
    "idx": 8,
    "time": "2021-02-10T22:54:47.927Z",
    "type": "execution"
   },
   {
    "id": "23224d59ce744a75a373b845523b0455",
    "time": "2021-02-10T22:54:48.154Z",
    "type": "completion"
   },
   {
    "code": "first3pairs = {k: variable_labels[k] for k in list(variable_labels)[:28]}\nfirst3pairs",
    "id": "23224d59ce744a75a373b845523b0455",
    "idx": 8,
    "time": "2021-02-10T22:55:00.236Z",
    "type": "execution"
   },
   {
    "id": "23224d59ce744a75a373b845523b0455",
    "time": "2021-02-10T22:55:00.593Z",
    "type": "completion"
   },
   {
    "code": "first3pairs = {k: variable_labels[k] for k in list(variable_labels)[28]}\nfirst3pairs",
    "id": "23224d59ce744a75a373b845523b0455",
    "idx": 8,
    "time": "2021-02-10T22:55:02.217Z",
    "type": "execution"
   },
   {
    "id": "23224d59ce744a75a373b845523b0455",
    "time": "2021-02-10T22:55:02.391Z",
    "type": "completion"
   },
   {
    "code": "first3pairs = {k: variable_labels[k] for k in list(variable_labels)[1]}\nfirst3pairs",
    "id": "23224d59ce744a75a373b845523b0455",
    "idx": 8,
    "time": "2021-02-10T22:55:05.997Z",
    "type": "execution"
   },
   {
    "id": "23224d59ce744a75a373b845523b0455",
    "time": "2021-02-10T22:55:06.524Z",
    "type": "completion"
   },
   {
    "code": "first3pairs = {k: variable_labels[k] for k in list(variable_labels)[28]}\nk",
    "id": "23224d59ce744a75a373b845523b0455",
    "idx": 8,
    "time": "2021-02-10T22:55:23.042Z",
    "type": "execution"
   },
   {
    "id": "23224d59ce744a75a373b845523b0455",
    "time": "2021-02-10T22:55:23.298Z",
    "type": "completion"
   },
   {
    "code": "k",
    "id": "7ca93dcfe4d54b268f7607e12a44ad41",
    "idx": 9,
    "time": "2021-02-10T22:55:33.353Z",
    "type": "execution"
   },
   {
    "id": "7ca93dcfe4d54b268f7607e12a44ad41",
    "time": "2021-02-10T22:55:33.535Z",
    "type": "completion"
   },
   {
    "code": "first3pairs = {k: variable_labels[k] for k in list(variable_labels)[:28]}\nfirst3pairs",
    "id": "23224d59ce744a75a373b845523b0455",
    "idx": 8,
    "time": "2021-02-10T22:55:47.008Z",
    "type": "execution"
   },
   {
    "id": "23224d59ce744a75a373b845523b0455",
    "time": "2021-02-10T22:55:47.296Z",
    "type": "completion"
   },
   {
    "code": "first3pairs = {k: variable_labels[k] for k in list(variable_labels)[:29]}\nfirst3pairs",
    "id": "23224d59ce744a75a373b845523b0455",
    "idx": 8,
    "time": "2021-02-10T22:55:53.763Z",
    "type": "execution"
   },
   {
    "id": "23224d59ce744a75a373b845523b0455",
    "time": "2021-02-10T22:55:53.994Z",
    "type": "completion"
   },
   {
    "code": "list(variable_labels.items())[28]",
    "id": "49b355607307484b898402353af5fdb1",
    "idx": 7,
    "time": "2021-02-10T22:56:06.244Z",
    "type": "execution"
   },
   {
    "id": "49b355607307484b898402353af5fdb1",
    "time": "2021-02-10T22:56:08.586Z",
    "type": "completion"
   },
   {
    "code": "first3pairs = {k: variable_labels[k] for k in list(variable_labels)[30:32]}\nfirst3pairs",
    "id": "23224d59ce744a75a373b845523b0455",
    "idx": 8,
    "time": "2021-02-10T22:56:48.179Z",
    "type": "execution"
   },
   {
    "id": "23224d59ce744a75a373b845523b0455",
    "time": "2021-02-10T22:56:48.276Z",
    "type": "completion"
   },
   {
    "code": "first3pairs = {k: variable_labels[k] for k in list(variable_labels)[30:]}\nfirst3pairs",
    "id": "23224d59ce744a75a373b845523b0455",
    "idx": 8,
    "time": "2021-02-10T22:56:53.670Z",
    "type": "execution"
   },
   {
    "id": "23224d59ce744a75a373b845523b0455",
    "time": "2021-02-10T22:56:53.778Z",
    "type": "completion"
   },
   {
    "code": "first3pairs = {k: variable_labels[k] for k in list(variable_labels)[30:]}\nfirst3pairs",
    "id": "23224d59ce744a75a373b845523b0455",
    "idx": 8,
    "time": "2021-02-10T22:56:57.045Z",
    "type": "execution"
   },
   {
    "id": "23224d59ce744a75a373b845523b0455",
    "time": "2021-02-10T22:56:57.161Z",
    "type": "completion"
   },
   {
    "code": "variable_labels = find_labels(indicators_40)\n\n# Get the \nchn = wbdata.get_dataframe(first3pairs, freq='Y')\nchn",
    "id": "386d0acefa9f43298601d7a091ef98fc",
    "idx": 6,
    "time": "2021-02-10T22:57:03.509Z",
    "type": "execution"
   },
   {
    "code": "variable_labels = find_labels(indicators_40)\n\n# Get the \nchn = wbdata.get_dataframe({'SP.POP.7579.MA': 'Population ages 75-79, male'}, freq='Y')\nchn",
    "id": "386d0acefa9f43298601d7a091ef98fc",
    "idx": 6,
    "time": "2021-02-10T22:58:00.679Z",
    "type": "execution"
   },
   {
    "id": "386d0acefa9f43298601d7a091ef98fc",
    "time": "2021-02-10T22:58:15.816Z",
    "type": "completion"
   },
   {
    "id": "386d0acefa9f43298601d7a091ef98fc",
    "time": "2021-02-10T22:58:15.816Z",
    "type": "completion"
   },
   {
    "code": "variable_labels = find_labels(indicators_40)\n\n# Get the \nchn = wbdata.get_dataframe({'SP.POP.7579.FE': 'Population ages 75-79, female'}, freq='Y')\nchn",
    "id": "386d0acefa9f43298601d7a091ef98fc",
    "idx": 6,
    "time": "2021-02-10T22:58:31.786Z",
    "type": "execution"
   },
   {
    "id": "386d0acefa9f43298601d7a091ef98fc",
    "time": "2021-02-10T22:58:32.183Z",
    "type": "completion"
   },
   {
    "code": "first3pairs = {k: variable_labels[k] for k in list(variable_labels)[29:]}\nfirst3pairs",
    "id": "23224d59ce744a75a373b845523b0455",
    "idx": 8,
    "time": "2021-02-10T22:58:41.812Z",
    "type": "execution"
   },
   {
    "id": "23224d59ce744a75a373b845523b0455",
    "time": "2021-02-10T22:58:42.306Z",
    "type": "completion"
   },
   {
    "code": "first3pairs = {k: variable_labels[k] for k in list(variable_labels)[28:]}\nfirst3pairs",
    "id": "23224d59ce744a75a373b845523b0455",
    "idx": 8,
    "time": "2021-02-10T22:58:47.546Z",
    "type": "execution"
   },
   {
    "id": "23224d59ce744a75a373b845523b0455",
    "time": "2021-02-10T22:58:47.722Z",
    "type": "completion"
   },
   {
    "code": "variable_labels = find_labels(indicators_40)\n\n# Get the \nchn = wbdata.get_dataframe({'SP.POP.7074.FE': 'Population ages 70-74, female'}, freq='Y')\nchn",
    "id": "386d0acefa9f43298601d7a091ef98fc",
    "idx": 6,
    "time": "2021-02-10T22:58:58.220Z",
    "type": "execution"
   },
   {
    "id": "386d0acefa9f43298601d7a091ef98fc",
    "time": "2021-02-10T22:58:58.553Z",
    "type": "completion"
   },
   {
    "code": "variable_labels = find_labels(indicators_40)\n\n# Get the \nchn = wbdata.get_dataframe({'SP.POP.7074.MA': 'Population ages 70-74, male'}, freq='Y')\nchn",
    "id": "386d0acefa9f43298601d7a091ef98fc",
    "idx": 6,
    "time": "2021-02-10T22:59:18.017Z",
    "type": "execution"
   },
   {
    "id": "386d0acefa9f43298601d7a091ef98fc",
    "time": "2021-02-10T22:59:37.829Z",
    "type": "completion"
   },
   {
    "code": "variable_labels = find_labels(indicators_40)\n\n# Get the \nchn = wbdata.get_dataframe({'SP.POP.7579.FE': 'Population ages 75-79, female'}, freq='Y')\nchn",
    "id": "386d0acefa9f43298601d7a091ef98fc",
    "idx": 6,
    "time": "2021-02-10T22:59:48.783Z",
    "type": "execution"
   },
   {
    "id": "386d0acefa9f43298601d7a091ef98fc",
    "time": "2021-02-10T22:59:49.003Z",
    "type": "completion"
   },
   {
    "code": "variable_labels = find_labels(indicators_40)\n\n# Get the \nchn = wbdata.get_dataframe({'SP.POP.7579.MA': 'Population ages 75-79, male'}, freq='Y')\nchn",
    "id": "386d0acefa9f43298601d7a091ef98fc",
    "idx": 6,
    "time": "2021-02-10T23:00:11.692Z",
    "type": "execution"
   },
   {
    "id": "386d0acefa9f43298601d7a091ef98fc",
    "time": "2021-02-10T23:00:14.877Z",
    "type": "completion"
   },
   {
    "code": "variable_labels = find_labels(indicators_40)\n\n# Get the \nchn = wbdata.get_dataframe({'SP.POP.80UP.FE': 'Population ages 80 and above, female',\n 'SP.POP.80UP.MA': 'Population ages 80 and above, male'}, freq='Y')\nchn",
    "id": "386d0acefa9f43298601d7a091ef98fc",
    "idx": 6,
    "time": "2021-02-10T23:00:33.794Z",
    "type": "execution"
   },
   {
    "id": "386d0acefa9f43298601d7a091ef98fc",
    "time": "2021-02-10T23:00:34.414Z",
    "type": "completion"
   },
   {
    "code": "variable_labels = find_labels(indicators_40)\n\n# Get the \nchn = wbdata.get_dataframe({'SP.POP.7074.FE': 'Population ages 70-74, female'}, freq='Y')\nchn",
    "id": "386d0acefa9f43298601d7a091ef98fc",
    "idx": 6,
    "time": "2021-02-10T23:01:09.618Z",
    "type": "execution"
   },
   {
    "id": "386d0acefa9f43298601d7a091ef98fc",
    "time": "2021-02-10T23:01:10.525Z",
    "type": "completion"
   },
   {
    "code": "variable_labels = find_labels(indicators_40)\n\n# Get the \nchn = wbdata.get_dataframe({'SP.POP.7074.FE': 'Population ages 70-74, female'})\nchn",
    "id": "386d0acefa9f43298601d7a091ef98fc",
    "idx": 6,
    "time": "2021-02-10T23:01:13.828Z",
    "type": "execution"
   },
   {
    "id": "386d0acefa9f43298601d7a091ef98fc",
    "time": "2021-02-10T23:01:14.275Z",
    "type": "completion"
   },
   {
    "code": "variable_labels = find_labels(indicators_40)\n\n# Get the \nchn = wbdata.get_dataframe({'SP.POP.7074.FE': 'Population ages 70-74, female'}, freq='Y')\nchn",
    "id": "386d0acefa9f43298601d7a091ef98fc",
    "idx": 6,
    "time": "2021-02-10T23:03:13.328Z",
    "type": "execution"
   },
   {
    "id": "386d0acefa9f43298601d7a091ef98fc",
    "time": "2021-02-10T23:03:14.085Z",
    "type": "completion"
   },
   {
    "code": "variable_labels = find_labels(indicators_40)\n\n# Get the \nchn = wbdata.get_dataframe({'SP.POP.7074.FE': 'Population ages 70-74, female'}, freq='Y')\nchn",
    "id": "386d0acefa9f43298601d7a091ef98fc",
    "idx": 6,
    "time": "2021-02-10T23:03:26.590Z",
    "type": "execution"
   },
   {
    "id": "386d0acefa9f43298601d7a091ef98fc",
    "time": "2021-02-10T23:03:27.076Z",
    "type": "completion"
   },
   {
    "code": "!pip install wbdata\n\nimport wbdata\nimport numpy as np\nimport re ",
    "id": "af38968c93ee44748a03a29d070ceecb",
    "idx": 0,
    "time": "2021-02-10T23:04:07.848Z",
    "type": "execution"
   },
   {
    "code": "# Return list of all country/region codes:\nwbdata.get_country()",
    "id": "98dd03733662407ea9ed0705e05ef02d",
    "idx": 1,
    "time": "2021-02-10T23:04:07.855Z",
    "type": "execution"
   },
   {
    "code": "wbdata.get_source()",
    "id": "93c79a81062b4c0a9c63564f42254e78",
    "idx": 3,
    "time": "2021-02-10T23:04:07.862Z",
    "type": "execution"
   },
   {
    "code": "SOURCE = 40 # \"Population estimates and projections\"\n\nindicators_40 = wbdata.get_indicator(source=SOURCE)\nindicators_40",
    "id": "de4c030966d64447af2f8cffe587b4d4",
    "idx": 4,
    "time": "2021-02-10T23:04:07.870Z",
    "type": "execution"
   },
   {
    "code": "# Takes in an indicator object and returns a dictionary of filtered column labels.\ndef find_labels(indicators):\n    labels = {}\n\n    for i in range(len(indicators)):\n        col_id = indicators[i]['id']\n        col_name = indicators[i]['name']\n        labels[col_id] = col_name\n\n    # Select items in the list that contain relevant population data by filtering through string patterns.\n    r = re.compile(\"(SP.POP).[\\d]{2}[A-Z0-9]{2}.[MAFE]{2}$\")\n    col_keys = list(filter(r.match, labels))\n    col_keys\n\n    labels_filtered = {}\n    for key, value in labels.items():\n        if key in col_keys:\n            labels_filtered[key] = value\n            \n    return labels_filtered",
    "id": "43f8a2cadcda473a895746f758d51b45",
    "idx": 5,
    "time": "2021-02-10T23:04:07.874Z",
    "type": "execution"
   },
   {
    "id": "af38968c93ee44748a03a29d070ceecb",
    "time": "2021-02-10T23:04:14.876Z",
    "type": "completion"
   },
   {
    "id": "98dd03733662407ea9ed0705e05ef02d",
    "time": "2021-02-10T23:04:15.216Z",
    "type": "completion"
   },
   {
    "id": "93c79a81062b4c0a9c63564f42254e78",
    "time": "2021-02-10T23:04:16.749Z",
    "type": "completion"
   },
   {
    "id": "de4c030966d64447af2f8cffe587b4d4",
    "time": "2021-02-10T23:04:16.964Z",
    "type": "completion"
   },
   {
    "id": "43f8a2cadcda473a895746f758d51b45",
    "time": "2021-02-10T23:04:17.218Z",
    "type": "completion"
   },
   {
    "code": "variable_labels = find_labels(indicators_40)\n\n# Get the \nchn = wbdata.get_dataframe({'SP.POP.7074.FE': 'Population ages 70-74, female'}, freq='Y')\nchn",
    "id": "386d0acefa9f43298601d7a091ef98fc",
    "idx": 6,
    "time": "2021-02-10T23:04:20.786Z",
    "type": "execution"
   },
   {
    "id": "386d0acefa9f43298601d7a091ef98fc",
    "time": "2021-02-10T23:04:30.730Z",
    "type": "completion"
   },
   {
    "code": "variable_labels = find_labels(indicators_40)\n\n# Get the \nchn = wbdata.get_dataframe(variable_labels, freq='Y')\nchn",
    "id": "386d0acefa9f43298601d7a091ef98fc",
    "idx": 6,
    "time": "2021-02-10T23:04:39.094Z",
    "type": "execution"
   },
   {
    "code": "!pip install wbdata\n\nimport wbdata\nimport numpy as np\nimport re ",
    "id": "af38968c93ee44748a03a29d070ceecb",
    "idx": 0,
    "time": "2021-02-10T23:05:37.762Z",
    "type": "execution"
   },
   {
    "code": "# Return list of all country/region codes:\nwbdata.get_country()",
    "id": "98dd03733662407ea9ed0705e05ef02d",
    "idx": 1,
    "time": "2021-02-10T23:05:37.784Z",
    "type": "execution"
   },
   {
    "code": "wbdata.get_source()",
    "id": "93c79a81062b4c0a9c63564f42254e78",
    "idx": 3,
    "time": "2021-02-10T23:05:37.801Z",
    "type": "execution"
   },
   {
    "code": "SOURCE = 40 # \"Population estimates and projections\"\n\nindicators_40 = wbdata.get_indicator(source=SOURCE)\nindicators_40",
    "id": "de4c030966d64447af2f8cffe587b4d4",
    "idx": 4,
    "time": "2021-02-10T23:05:37.811Z",
    "type": "execution"
   },
   {
    "code": "# Takes in an indicator object and returns a dictionary of filtered column labels.\ndef find_labels(indicators):\n    labels = {}\n\n    for i in range(len(indicators)):\n        col_id = indicators[i]['id']\n        col_name = indicators[i]['name']\n        labels[col_id] = col_name\n\n    # Select items in the list that contain relevant population data by filtering through string patterns.\n    r = re.compile(\"(SP.POP).[\\d]{2}[A-Z0-9]{2}.[MAFE]{2}$\")\n    col_keys = list(filter(r.match, labels))\n    col_keys\n\n    labels_filtered = {}\n    for key, value in labels.items():\n        if key in col_keys:\n            labels_filtered[key] = value\n            \n    return labels_filtered",
    "id": "43f8a2cadcda473a895746f758d51b45",
    "idx": 5,
    "time": "2021-02-10T23:05:37.841Z",
    "type": "execution"
   },
   {
    "code": "variable_labels = find_labels(indicators_40)\n\n# Get the \npop_df = wbdata.get_dataframe(variable_labels, freq='Y')\npop_df",
    "id": "386d0acefa9f43298601d7a091ef98fc",
    "idx": 6,
    "time": "2021-02-10T23:05:37.861Z",
    "type": "execution"
   },
   {
    "id": "af38968c93ee44748a03a29d070ceecb",
    "time": "2021-02-10T23:05:45.218Z",
    "type": "completion"
   },
   {
    "id": "98dd03733662407ea9ed0705e05ef02d",
    "time": "2021-02-10T23:05:45.802Z",
    "type": "completion"
   },
   {
    "id": "93c79a81062b4c0a9c63564f42254e78",
    "time": "2021-02-10T23:05:45.981Z",
    "type": "completion"
   },
   {
    "id": "de4c030966d64447af2f8cffe587b4d4",
    "time": "2021-02-10T23:05:46.041Z",
    "type": "completion"
   },
   {
    "id": "43f8a2cadcda473a895746f758d51b45",
    "time": "2021-02-10T23:05:46.044Z",
    "type": "completion"
   },
   {
    "id": "386d0acefa9f43298601d7a091ef98fc",
    "time": "2021-02-10T23:05:46.051Z",
    "type": "completion"
   },
   {
    "id": "386d0acefa9f43298601d7a091ef98fc",
    "time": "2021-02-10T23:05:46.051Z",
    "type": "completion"
   },
   {
    "code": "!pip install wbdata\n\nimport wbdata\nimport numpy as np\nimport re ",
    "id": "af38968c93ee44748a03a29d070ceecb",
    "idx": 0,
    "time": "2021-02-10T23:05:56.498Z",
    "type": "execution"
   },
   {
    "code": "# Return list of all country/region codes:\nwbdata.get_country()",
    "id": "98dd03733662407ea9ed0705e05ef02d",
    "idx": 1,
    "time": "2021-02-10T23:05:58.948Z",
    "type": "execution"
   },
   {
    "code": "wbdata.get_source()",
    "id": "93c79a81062b4c0a9c63564f42254e78",
    "idx": 3,
    "time": "2021-02-10T23:05:59.390Z",
    "type": "execution"
   },
   {
    "code": "SOURCE = 40 # \"Population estimates and projections\"\n\nindicators_40 = wbdata.get_indicator(source=SOURCE)\nindicators_40",
    "id": "de4c030966d64447af2f8cffe587b4d4",
    "idx": 4,
    "time": "2021-02-10T23:05:59.568Z",
    "type": "execution"
   },
   {
    "code": "# Takes in an indicator object and returns a dictionary of filtered column labels.\ndef find_labels(indicators):\n    labels = {}\n\n    for i in range(len(indicators)):\n        col_id = indicators[i]['id']\n        col_name = indicators[i]['name']\n        labels[col_id] = col_name\n\n    # Select items in the list that contain relevant population data by filtering through string patterns.\n    r = re.compile(\"(SP.POP).[\\d]{2}[A-Z0-9]{2}.[MAFE]{2}$\")\n    col_keys = list(filter(r.match, labels))\n    col_keys\n\n    labels_filtered = {}\n    for key, value in labels.items():\n        if key in col_keys:\n            labels_filtered[key] = value\n            \n    return labels_filtered",
    "id": "43f8a2cadcda473a895746f758d51b45",
    "idx": 5,
    "time": "2021-02-10T23:05:59.750Z",
    "type": "execution"
   },
   {
    "code": "variable_labels = find_labels(indicators_40)\n\n# Get the \npop_df = wbdata.get_dataframe(variable_labels, freq='Y')\npop_df",
    "id": "386d0acefa9f43298601d7a091ef98fc",
    "idx": 6,
    "time": "2021-02-10T23:06:00.116Z",
    "type": "execution"
   },
   {
    "id": "af38968c93ee44748a03a29d070ceecb",
    "time": "2021-02-10T23:06:00.854Z",
    "type": "completion"
   },
   {
    "id": "98dd03733662407ea9ed0705e05ef02d",
    "time": "2021-02-10T23:06:00.873Z",
    "type": "completion"
   },
   {
    "id": "93c79a81062b4c0a9c63564f42254e78",
    "time": "2021-02-10T23:06:00.882Z",
    "type": "completion"
   },
   {
    "id": "de4c030966d64447af2f8cffe587b4d4",
    "time": "2021-02-10T23:06:00.888Z",
    "type": "completion"
   },
   {
    "id": "43f8a2cadcda473a895746f758d51b45",
    "time": "2021-02-10T23:06:00.890Z",
    "type": "completion"
   },
   {
    "id": "386d0acefa9f43298601d7a091ef98fc",
    "time": "2021-02-10T23:06:00.892Z",
    "type": "completion"
   },
   {
    "code": "!pip install wbdata\n\nimport wbdata\nimport numpy as np\nimport re ",
    "id": "af38968c93ee44748a03a29d070ceecb",
    "idx": 0,
    "time": "2021-02-10T23:06:18.149Z",
    "type": "execution"
   },
   {
    "id": "af38968c93ee44748a03a29d070ceecb",
    "time": "2021-02-10T23:06:22.291Z",
    "type": "completion"
   },
   {
    "code": "# Return list of all country/region codes:\nwbdata.get_country()",
    "id": "98dd03733662407ea9ed0705e05ef02d",
    "idx": 1,
    "time": "2021-02-10T23:06:28.915Z",
    "type": "execution"
   },
   {
    "id": "98dd03733662407ea9ed0705e05ef02d",
    "time": "2021-02-10T23:06:29.498Z",
    "type": "completion"
   },
   {
    "code": "wbdata.get_source()",
    "id": "93c79a81062b4c0a9c63564f42254e78",
    "idx": 3,
    "time": "2021-02-10T23:06:31.722Z",
    "type": "execution"
   },
   {
    "code": "SOURCE = 40 # \"Population estimates and projections\"\n\nindicators_40 = wbdata.get_indicator(source=SOURCE)\nindicators_40",
    "id": "de4c030966d64447af2f8cffe587b4d4",
    "idx": 4,
    "time": "2021-02-10T23:06:31.945Z",
    "type": "execution"
   },
   {
    "id": "93c79a81062b4c0a9c63564f42254e78",
    "time": "2021-02-10T23:06:32.307Z",
    "type": "completion"
   },
   {
    "id": "de4c030966d64447af2f8cffe587b4d4",
    "time": "2021-02-10T23:06:32.366Z",
    "type": "completion"
   },
   {
    "code": "SOURCE = 40 # \"Population estimates and projections\"\n\nindicators_40 = wbdata.get_indicator(source=SOURCE)\nindicators_40",
    "id": "de4c030966d64447af2f8cffe587b4d4",
    "idx": 4,
    "time": "2021-02-10T23:06:36.572Z",
    "type": "execution"
   },
   {
    "id": "de4c030966d64447af2f8cffe587b4d4",
    "time": "2021-02-10T23:06:36.796Z",
    "type": "completion"
   },
   {
    "code": "# Takes in an indicator object and returns a dictionary of filtered column labels.\ndef find_labels(indicators):\n    labels = {}\n\n    for i in range(len(indicators)):\n        col_id = indicators[i]['id']\n        col_name = indicators[i]['name']\n        labels[col_id] = col_name\n\n    # Select items in the list that contain relevant population data by filtering through string patterns.\n    r = re.compile(\"(SP.POP).[\\d]{2}[A-Z0-9]{2}.[MAFE]{2}$\")\n    col_keys = list(filter(r.match, labels))\n    col_keys\n\n    labels_filtered = {}\n    for key, value in labels.items():\n        if key in col_keys:\n            labels_filtered[key] = value\n            \n    return labels_filtered",
    "id": "43f8a2cadcda473a895746f758d51b45",
    "idx": 5,
    "time": "2021-02-10T23:06:40.224Z",
    "type": "execution"
   },
   {
    "code": "variable_labels = find_labels(indicators_40)\n\n# Get the \npop_df = wbdata.get_dataframe(variable_labels, freq='Y')\npop_df",
    "id": "386d0acefa9f43298601d7a091ef98fc",
    "idx": 6,
    "time": "2021-02-10T23:06:40.449Z",
    "type": "execution"
   },
   {
    "id": "43f8a2cadcda473a895746f758d51b45",
    "time": "2021-02-10T23:06:40.592Z",
    "type": "completion"
   },
   {
    "code": "!pip install wbdata\n\nimport wbdata\nimport numpy as np\nimport re ",
    "id": "af38968c93ee44748a03a29d070ceecb",
    "idx": 0,
    "time": "2021-02-10T23:13:52.030Z",
    "type": "execution"
   },
   {
    "code": "# Return list of all country/region codes:\nwbdata.get_country()",
    "id": "98dd03733662407ea9ed0705e05ef02d",
    "idx": 1,
    "time": "2021-02-10T23:13:52.036Z",
    "type": "execution"
   },
   {
    "code": "wbdata.get_source()",
    "id": "93c79a81062b4c0a9c63564f42254e78",
    "idx": 3,
    "time": "2021-02-10T23:13:52.039Z",
    "type": "execution"
   },
   {
    "code": "SOURCE = 40 # \"Population estimates and projections\"\n\nindicators_40 = wbdata.get_indicator(source=SOURCE)\nindicators_40",
    "id": "de4c030966d64447af2f8cffe587b4d4",
    "idx": 4,
    "time": "2021-02-10T23:13:52.041Z",
    "type": "execution"
   },
   {
    "code": "# Takes in an indicator object and returns a dictionary of filtered column labels.\ndef find_labels(indicators):\n    labels = {}\n\n    for i in range(len(indicators)):\n        col_id = indicators[i]['id']\n        col_name = indicators[i]['name']\n        labels[col_id] = col_name\n\n    # Select items in the list that contain relevant population data by filtering through string patterns.\n    r = re.compile(\"(SP.POP).[\\d]{2}[A-Z0-9]{2}.[MAFE]{2}$\")\n    col_keys = list(filter(r.match, labels))\n    col_keys\n\n    labels_filtered = {}\n    for key, value in labels.items():\n        if key in col_keys:\n            labels_filtered[key] = value\n            \n    return labels_filtered",
    "id": "43f8a2cadcda473a895746f758d51b45",
    "idx": 5,
    "time": "2021-02-10T23:13:52.042Z",
    "type": "execution"
   },
   {
    "code": "variable_labels = find_labels(indicators_40)\n\n# Get the \npop_df = wbdata.get_dataframe(variable_labels, freq='Y')\npop_df",
    "id": "386d0acefa9f43298601d7a091ef98fc",
    "idx": 6,
    "time": "2021-02-10T23:13:52.043Z",
    "type": "execution"
   },
   {
    "id": "af38968c93ee44748a03a29d070ceecb",
    "time": "2021-02-10T23:13:56.731Z",
    "type": "completion"
   },
   {
    "id": "98dd03733662407ea9ed0705e05ef02d",
    "time": "2021-02-10T23:13:57.079Z",
    "type": "completion"
   },
   {
    "id": "93c79a81062b4c0a9c63564f42254e78",
    "time": "2021-02-10T23:13:57.268Z",
    "type": "completion"
   },
   {
    "id": "de4c030966d64447af2f8cffe587b4d4",
    "time": "2021-02-10T23:13:57.588Z",
    "type": "completion"
   },
   {
    "id": "43f8a2cadcda473a895746f758d51b45",
    "time": "2021-02-10T23:13:57.592Z",
    "type": "completion"
   },
   {
    "code": "variable_labels = find_labels(indicators_40)\n\n# Get the \npop_df = wbdata.get_dataframe(variable_labels)\npop_df",
    "id": "386d0acefa9f43298601d7a091ef98fc",
    "idx": 6,
    "time": "2021-02-10T23:17:12.542Z",
    "type": "execution"
   },
   {
    "id": "386d0acefa9f43298601d7a091ef98fc",
    "time": "2021-02-10T23:17:14.896Z",
    "type": "completion"
   },
   {
    "id": "386d0acefa9f43298601d7a091ef98fc",
    "time": "2021-02-10T23:17:14.896Z",
    "type": "completion"
   },
   {
    "id": "386d0acefa9f43298601d7a091ef98fc",
    "time": "2021-02-10T23:17:14.896Z",
    "type": "completion"
   },
   {
    "code": "!pip install wbdata\n\nimport wbdata\nimport numpy as np\nimport re ",
    "id": "af38968c93ee44748a03a29d070ceecb",
    "idx": 0,
    "time": "2021-02-10T23:17:17.895Z",
    "type": "execution"
   },
   {
    "code": "# Return list of all country/region codes:\nwbdata.get_country()",
    "id": "98dd03733662407ea9ed0705e05ef02d",
    "idx": 1,
    "time": "2021-02-10T23:17:17.898Z",
    "type": "execution"
   },
   {
    "code": "wbdata.get_source()",
    "id": "93c79a81062b4c0a9c63564f42254e78",
    "idx": 3,
    "time": "2021-02-10T23:17:17.901Z",
    "type": "execution"
   },
   {
    "code": "SOURCE = 40 # \"Population estimates and projections\"\n\nindicators_40 = wbdata.get_indicator(source=SOURCE)\nindicators_40",
    "id": "de4c030966d64447af2f8cffe587b4d4",
    "idx": 4,
    "time": "2021-02-10T23:17:17.904Z",
    "type": "execution"
   },
   {
    "code": "# Takes in an indicator object and returns a dictionary of filtered column labels.\ndef find_labels(indicators):\n    labels = {}\n\n    for i in range(len(indicators)):\n        col_id = indicators[i]['id']\n        col_name = indicators[i]['name']\n        labels[col_id] = col_name\n\n    # Select items in the list that contain relevant population data by filtering through string patterns.\n    r = re.compile(\"(SP.POP).[\\d]{2}[A-Z0-9]{2}.[MAFE]{2}$\")\n    col_keys = list(filter(r.match, labels))\n    col_keys\n\n    labels_filtered = {}\n    for key, value in labels.items():\n        if key in col_keys:\n            labels_filtered[key] = value\n            \n    return labels_filtered",
    "id": "43f8a2cadcda473a895746f758d51b45",
    "idx": 5,
    "time": "2021-02-10T23:17:17.906Z",
    "type": "execution"
   },
   {
    "code": "variable_labels = find_labels(indicators_40)\n\n# Get the \npop_df = wbdata.get_dataframe(variable_labels)\npop_df",
    "id": "386d0acefa9f43298601d7a091ef98fc",
    "idx": 6,
    "time": "2021-02-10T23:17:17.907Z",
    "type": "execution"
   },
   {
    "id": "af38968c93ee44748a03a29d070ceecb",
    "time": "2021-02-10T23:17:22.128Z",
    "type": "completion"
   },
   {
    "id": "98dd03733662407ea9ed0705e05ef02d",
    "time": "2021-02-10T23:17:22.185Z",
    "type": "completion"
   },
   {
    "id": "93c79a81062b4c0a9c63564f42254e78",
    "time": "2021-02-10T23:17:22.237Z",
    "type": "completion"
   },
   {
    "id": "de4c030966d64447af2f8cffe587b4d4",
    "time": "2021-02-10T23:17:22.281Z",
    "type": "completion"
   },
   {
    "id": "43f8a2cadcda473a895746f758d51b45",
    "time": "2021-02-10T23:17:22.283Z",
    "type": "completion"
   },
   {
    "id": "386d0acefa9f43298601d7a091ef98fc",
    "time": "2021-02-10T23:18:16.197Z",
    "type": "completion"
   },
   {
    "code": "variable_labels = find_labels(indicators_40)\n\n# Get the \npop_df = wbdata.get_dataframe(variable_labels)\npop_df",
    "id": "386d0acefa9f43298601d7a091ef98fc",
    "idx": 6,
    "time": "2021-02-10T23:19:39.055Z",
    "type": "execution"
   },
   {
    "code": "variable_labels = find_labels(indicators_40)\nvariable_labels",
    "id": "65ff6127779b489888cbfdb6084d34a8",
    "idx": 6,
    "time": "2021-02-10T23:21:24.183Z",
    "type": "execution"
   },
   {
    "id": "386d0acefa9f43298601d7a091ef98fc",
    "time": "2021-02-10T23:21:28.237Z",
    "type": "completion"
   },
   {
    "id": "65ff6127779b489888cbfdb6084d34a8",
    "time": "2021-02-10T23:21:28.240Z",
    "type": "completion"
   },
   {
    "code": "variable_labels = find_labels(indicators_40)\nvariable_labels",
    "id": "65ff6127779b489888cbfdb6084d34a8",
    "idx": 6,
    "time": "2021-02-10T23:21:30.583Z",
    "type": "execution"
   },
   {
    "id": "65ff6127779b489888cbfdb6084d34a8",
    "time": "2021-02-10T23:21:30.656Z",
    "type": "completion"
   },
   {
    "code": "# Get the \npop_df = wbdata.get_dataframe({'SP.POP.0004.FE': 'Population ages 00-04, female',\n 'SP.POP.0004.MA': 'Population ages 00-04, male',\n 'SP.POP.0509.FE': 'Population ages 05-09, female',\n 'SP.POP.0509.MA': 'Population ages 05-09, male',\n 'SP.POP.1014.FE': 'Population ages 10-14, female',\n 'SP.POP.1014.MA': 'Population ages 10-14, male',\n 'SP.POP.1519.FE': 'Population ages 15-19, female',\n 'SP.POP.1519.MA': 'Population ages 15-19, male'})\npop_df",
    "id": "386d0acefa9f43298601d7a091ef98fc",
    "idx": 7,
    "time": "2021-02-10T23:21:55.726Z",
    "type": "execution"
   },
   {
    "id": "386d0acefa9f43298601d7a091ef98fc",
    "time": "2021-02-10T23:21:57.370Z",
    "type": "completion"
   },
   {
    "code": "# Get the \npop_df = wbdata.get_dataframe({'SP.POP.0004.FE': 'Population ages 00-04, female',\n 'SP.POP.0004.MA': 'Population ages 00-04, male',\n 'SP.POP.0509.FE': 'Population ages 05-09, female',\n 'SP.POP.0509.MA': 'Population ages 05-09, male',\n 'SP.POP.1014.FE': 'Population ages 10-14, female',\n 'SP.POP.1014.MA': 'Population ages 10-14, male',\n 'SP.POP.1519.FE': 'Population ages 15-19, female',\n 'SP.POP.1519.MA': 'Population ages 15-19, male','SP.POP.7074.MA': 'Population ages 70-74, male',\n 'SP.POP.7579.FE': 'Population ages 75-79, female',\n 'SP.POP.7579.MA': 'Population ages 75-79, male',\n 'SP.POP.80UP.FE': 'Population ages 80 and above, female',\n 'SP.POP.80UP.MA': 'Population ages 80 and above, male'})\npop_df",
    "id": "386d0acefa9f43298601d7a091ef98fc",
    "idx": 7,
    "time": "2021-02-10T23:23:27.154Z",
    "type": "execution"
   },
   {
    "id": "386d0acefa9f43298601d7a091ef98fc",
    "time": "2021-02-10T23:24:18.132Z",
    "type": "completion"
   },
   {
    "code": "# Get the \npop_df = wbdata.get_dataframe({'SP.POP.7074.FE': 'Population ages 70-74, female'})\npop_df",
    "id": "386d0acefa9f43298601d7a091ef98fc",
    "idx": 7,
    "time": "2021-02-10T23:25:19.058Z",
    "type": "execution"
   },
   {
    "id": "386d0acefa9f43298601d7a091ef98fc",
    "time": "2021-02-10T23:25:19.435Z",
    "type": "completion"
   },
   {
    "code": "# Get the \npop_df = wbdata.get_dataframe(variable_labels)\npop_df",
    "id": "386d0acefa9f43298601d7a091ef98fc",
    "idx": 7,
    "time": "2021-02-10T23:25:31.310Z",
    "type": "execution"
   },
   {
    "id": "386d0acefa9f43298601d7a091ef98fc",
    "time": "2021-02-10T23:25:37.708Z",
    "type": "completion"
   },
   {
    "code": "# Function that takes in a SEX (\"Male\", \"Female\"), ... , COUNTRY=, .. and returns a statistic for the given function arguments\n\ndef population(sex, year, age, country):\n    if sex == \"Male\":\n        variable_labels = {\"SP.POP.\" + str(age[0])+str(age[1]) + \".MA\": sex}\n    elif sex==\"Female\":\n        variable_labels = {\"SP.POP.\" + str(age[0])+str(age[1]) + \".FE\": sex}\n    pop_df = wbdata.get_dataframe(variable_labels, country=country)\n    pop_df = pop_df.filter(like=str(year), axis=0)\n    return pop_df[sex][0]",
    "id": "a89260e5f26046c184cc68169b1730e4",
    "idx": 9,
    "time": "2021-02-10T23:26:21.984Z",
    "type": "execution"
   },
   {
    "id": "a89260e5f26046c184cc68169b1730e4",
    "time": "2021-02-10T23:26:22.167Z",
    "type": "completion"
   },
   {
    "code": "population(\"Female\", 2010, (15,19), \"CHN\")",
    "id": "71b5322d248f4bd0ba71ea4d026da5db",
    "idx": 10,
    "time": "2021-02-10T23:26:22.374Z",
    "type": "execution"
   },
   {
    "id": "71b5322d248f4bd0ba71ea4d026da5db",
    "time": "2021-02-10T23:26:23.883Z",
    "type": "completion"
   },
   {
    "code": "def population_df(indicators):\n    def find_labels(indicators):\n        labels = {}\n\n        for i in range(len(indicators)):\n            col_id = indicators[i]['id']\n            col_name = indicators[i]['name']\n            labels[col_id] = col_name\n\n        # Select items in the list that contain relevant population data by filtering through string patterns.\n        r = re.compile(\"(SP.POP).[\\d]{2}[A-Z0-9]{2}.[MAFE]{2}$\")\n        col_keys = list(filter(r.match, labels))\n        col_keys\n\n        labels_filtered = {}\n        for key, value in labels.items():\n            if key in col_keys:\n                labels_filtered[key] = value\n        return labels_filtered\n\n    variable_labels = find_labels(indicators_40)\n    return wbdata.get_dataframe(variable_labels)\n\npopulation_df(indicators_40)",
    "id": "d58970a778874348894ca62b62f0fccf",
    "idx": 11,
    "time": "2021-02-10T23:29:51.311Z",
    "type": "execution"
   },
   {
    "id": "d58970a778874348894ca62b62f0fccf",
    "time": "2021-02-10T23:29:57.585Z",
    "type": "completion"
   },
   {
    "code": "def population_df(indicators):\n    def find_labels(indicators):\n        labels = {}\n\n        for i in range(len(indicators)):\n            col_id = indicators[i]['id']\n            col_name = indicators[i]['name']\n            labels[col_id] = col_name\n\n        # Select items in the list that contain relevant population data by filtering through string patterns.\n        r = re.compile(\"(SP.POP).[\\d]{2}[A-Z0-9]{2}.[MAFE]{2}$\")\n        col_keys = list(filter(r.match, labels))\n        col_keys\n\n        labels_filtered = {}\n        for key, value in labels.items():\n            if key in col_keys:\n                labels_filtered[key] = value\n        return labels_filtered\n\n    variable_labels = find_labels(indicators_40)\n    return wbdata.get_dataframe(variable_labels)\n\n",
    "id": "d58970a778874348894ca62b62f0fccf",
    "idx": 11,
    "time": "2021-02-10T23:29:57.768Z",
    "type": "execution"
   },
   {
    "id": "d58970a778874348894ca62b62f0fccf",
    "time": "2021-02-10T23:29:57.940Z",
    "type": "completion"
   },
   {
    "code": "def population_df(indicators):\n    def find_labels(indicators):\n        labels = {}\n\n        for i in range(len(indicators)):\n            col_id = indicators[i]['id']\n            col_name = indicators[i]['name']\n            labels[col_id] = col_name\n\n        # Select items in the list that contain relevant population data by filtering through string patterns.\n        r = re.compile(\"(SP.POP).[\\d]{2}[A-Z0-9]{2}.[MAFE]{2}$\")\n        col_keys = list(filter(r.match, labels))\n        col_keys\n\n        labels_filtered = {}\n        for key, value in labels.items():\n            if key in col_keys:\n                labels_filtered[key] = value\n        return labels_filtered\n\n    variable_labels = find_labels(indicators_40)\n    return wbdata.get_dataframe(variable_labels)\n\npopulation_df(indicators_40)",
    "id": "d58970a778874348894ca62b62f0fccf",
    "idx": 11,
    "time": "2021-02-10T23:30:03.336Z",
    "type": "execution"
   },
   {
    "id": "d58970a778874348894ca62b62f0fccf",
    "time": "2021-02-10T23:30:09.410Z",
    "type": "completion"
   },
   {
    "code": "!pip install wbdata\n\nimport wbdata\nimport numpy as np\nimport re ",
    "id": "af38968c93ee44748a03a29d070ceecb",
    "idx": 0,
    "time": "2021-02-10T23:32:23.963Z",
    "type": "execution"
   },
   {
    "code": "# Return list of all country/region codes:\nwbdata.get_country()",
    "id": "98dd03733662407ea9ed0705e05ef02d",
    "idx": 1,
    "time": "2021-02-10T23:32:23.979Z",
    "type": "execution"
   },
   {
    "code": "wbdata.get_source()",
    "id": "93c79a81062b4c0a9c63564f42254e78",
    "idx": 3,
    "time": "2021-02-10T23:32:23.989Z",
    "type": "execution"
   },
   {
    "code": "SOURCE = 40 # \"Population estimates and projections\"\n\nindicators_40 = wbdata.get_indicator(source=SOURCE)\nindicators_40",
    "id": "de4c030966d64447af2f8cffe587b4d4",
    "idx": 4,
    "time": "2021-02-10T23:32:23.996Z",
    "type": "execution"
   },
   {
    "code": "# Takes in an indicator object and returns a dictionary of filtered column labels.\ndef find_labels(indicators):\n    labels = {}\n\n    for i in range(len(indicators)):\n        col_id = indicators[i]['id']\n        col_name = indicators[i]['name']\n        labels[col_id] = col_name\n\n    # Select items in the list that contain relevant population data by filtering through string patterns.\n    r = re.compile(\"(SP.POP).[\\d]{2}[A-Z0-9]{2}.[MAFE]{2}$\")\n    col_keys = list(filter(r.match, labels))\n    col_keys\n\n    labels_filtered = {}\n    for key, value in labels.items():\n        if key in col_keys:\n            labels_filtered[key] = value\n            \n    return labels_filtered",
    "id": "43f8a2cadcda473a895746f758d51b45",
    "idx": 5,
    "time": "2021-02-10T23:32:24.001Z",
    "type": "execution"
   },
   {
    "code": "variable_labels = find_labels(indicators_40)\nvariable_labels",
    "id": "65ff6127779b489888cbfdb6084d34a8",
    "idx": 6,
    "time": "2021-02-10T23:32:24.005Z",
    "type": "execution"
   },
   {
    "code": "# Function that takes in a SEX (\"Male\", \"Female\"), ... , COUNTRY=, .. and returns a statistic for the given function arguments\n\ndef population(sex, year, age, country):\n    if sex == \"Male\":\n        variable_labels = {\"SP.POP.\" + str(age[0])+str(age[1]) + \".MA\": sex}\n    elif sex==\"Female\":\n        variable_labels = {\"SP.POP.\" + str(age[0])+str(age[1]) + \".FE\": sex}\n    pop_df = wbdata.get_dataframe(variable_labels, country=country)\n    pop_df = pop_df.filter(like=str(year), axis=0)\n    return pop_df[sex][0]",
    "id": "a89260e5f26046c184cc68169b1730e4",
    "idx": 8,
    "time": "2021-02-10T23:32:24.012Z",
    "type": "execution"
   },
   {
    "code": "population(\"Female\", 2010, (15,19), \"CHN\")",
    "id": "71b5322d248f4bd0ba71ea4d026da5db",
    "idx": 9,
    "time": "2021-02-10T23:32:24.018Z",
    "type": "execution"
   },
   {
    "code": "def population_df(indicators):\n    def find_labels(indicators):\n        labels = {}\n\n        for i in range(len(indicators)):\n            col_id = indicators[i]['id']\n            col_name = indicators[i]['name']\n            labels[col_id] = col_name\n\n        # Select items in the list that contain relevant population data by filtering through string patterns.\n        r = re.compile(\"(SP.POP).[\\d]{2}[A-Z0-9]{2}.[MAFE]{2}$\")\n        col_keys = list(filter(r.match, labels))\n        col_keys\n\n        labels_filtered = {}\n        for key, value in labels.items():\n            if key in col_keys:\n                labels_filtered[key] = value\n        return labels_filtered\n\n    variable_labels = find_labels(indicators_40)\n    return wbdata.get_dataframe(variable_labels)\n\npopulation_df(indicators_40)",
    "id": "d58970a778874348894ca62b62f0fccf",
    "idx": 11,
    "time": "2021-02-10T23:32:24.031Z",
    "type": "execution"
   },
   {
    "code": "!pip install geopandas\nimport geopandas as geo",
    "id": "3c5efc1a313c4d2e9ec95907d0150812",
    "idx": 17,
    "time": "2021-02-10T23:32:24.055Z",
    "type": "execution"
   },
   {
    "code": "geo",
    "id": "0ccc53086cd049a787bc16e8080c3227",
    "idx": 18,
    "time": "2021-02-10T23:32:24.059Z",
    "type": "execution"
   },
   {
    "id": "af38968c93ee44748a03a29d070ceecb",
    "time": "2021-02-10T23:32:28.529Z",
    "type": "completion"
   },
   {
    "id": "98dd03733662407ea9ed0705e05ef02d",
    "time": "2021-02-10T23:32:28.656Z",
    "type": "completion"
   },
   {
    "id": "93c79a81062b4c0a9c63564f42254e78",
    "time": "2021-02-10T23:32:28.717Z",
    "type": "completion"
   },
   {
    "id": "de4c030966d64447af2f8cffe587b4d4",
    "time": "2021-02-10T23:32:28.728Z",
    "type": "completion"
   },
   {
    "id": "43f8a2cadcda473a895746f758d51b45",
    "time": "2021-02-10T23:32:28.738Z",
    "type": "completion"
   },
   {
    "id": "65ff6127779b489888cbfdb6084d34a8",
    "time": "2021-02-10T23:32:28.869Z",
    "type": "completion"
   },
   {
    "id": "a89260e5f26046c184cc68169b1730e4",
    "time": "2021-02-10T23:32:28.874Z",
    "type": "completion"
   },
   {
    "id": "71b5322d248f4bd0ba71ea4d026da5db",
    "time": "2021-02-10T23:32:28.915Z",
    "type": "completion"
   },
   {
    "id": "d58970a778874348894ca62b62f0fccf",
    "time": "2021-02-10T23:32:35.029Z",
    "type": "completion"
   },
   {
    "id": "3c5efc1a313c4d2e9ec95907d0150812",
    "time": "2021-02-10T23:32:39.579Z",
    "type": "completion"
   },
   {
    "id": "0ccc53086cd049a787bc16e8080c3227",
    "time": "2021-02-10T23:32:39.585Z",
    "type": "completion"
   },
   {
    "code": "def population_dataframes(indicators):\n    def find_labels(indicators):\n        labels = {}\n        \n        for i in range(len(indicators)):\n            col_id = indicators[i]['id']\n            col_name = indicators[i]['name']\n            labels[col_id] = col_name\n\n        # Select items in the list that contain relevant population data by filtering through string patterns.\n        r = re.compile(\"(SP.POP).[\\d]{2}[A-Z0-9]{2}.[MAFE]{2}$\")\n        col_keys = list(filter(r.match, labels))\n        col_keys\n\n        labels_filtered = {}\n        \n        for key, value in labels.items():\n            if key in col_keys:\n                labels_filtered[key] = value\n        return labels_filtered\n\n    variable_labels = find_labels(indicators_40)\n    return wbdata.get_dataframe(variable_labels)",
    "id": "d58970a778874348894ca62b62f0fccf",
    "idx": 11,
    "time": "2021-02-10T23:35:24.934Z",
    "type": "execution"
   },
   {
    "id": "d58970a778874348894ca62b62f0fccf",
    "time": "2021-02-10T23:35:25.025Z",
    "type": "completion"
   },
   {
    "code": "pop_df = population_dataframes(indicators_40)\npop_df",
    "id": "e1b9bb4a8cc64dfc95e60a67af002a9f",
    "idx": 12,
    "time": "2021-02-10T23:35:29.693Z",
    "type": "execution"
   },
   {
    "id": "e1b9bb4a8cc64dfc95e60a67af002a9f",
    "time": "2021-02-10T23:35:36.248Z",
    "type": "completion"
   },
   {
    "code": "pop_df = pop_df.index.astype(int)\npop_df",
    "id": "eab1edce3b48478c87bd3afd106bd411",
    "idx": 13,
    "time": "2021-02-10T23:37:07.338Z",
    "type": "execution"
   },
   {
    "id": "eab1edce3b48478c87bd3afd106bd411",
    "time": "2021-02-10T23:37:07.490Z",
    "type": "completion"
   },
   {
    "code": "pop_df = pop_df.index.levels[-1].astype(int)\npop_df",
    "id": "eab1edce3b48478c87bd3afd106bd411",
    "idx": 13,
    "time": "2021-02-10T23:37:52.139Z",
    "type": "execution"
   },
   {
    "id": "eab1edce3b48478c87bd3afd106bd411",
    "time": "2021-02-10T23:37:52.202Z",
    "type": "completion"
   },
   {
    "code": "pop_df = population_dataframes(indicators_40)\npop_df",
    "id": "e1b9bb4a8cc64dfc95e60a67af002a9f",
    "idx": 12,
    "time": "2021-02-10T23:37:58.661Z",
    "type": "execution"
   },
   {
    "code": "pop_df.index.levels[-1].astype(int)\npop_df",
    "id": "eab1edce3b48478c87bd3afd106bd411",
    "idx": 13,
    "time": "2021-02-10T23:38:02.410Z",
    "type": "execution"
   },
   {
    "id": "e1b9bb4a8cc64dfc95e60a67af002a9f",
    "time": "2021-02-10T23:38:04.992Z",
    "type": "completion"
   },
   {
    "id": "eab1edce3b48478c87bd3afd106bd411",
    "time": "2021-02-10T23:38:05.005Z",
    "type": "completion"
   },
   {
    "code": "pop_df.index.levels[-1].astype(int)",
    "id": "eab1edce3b48478c87bd3afd106bd411",
    "idx": 13,
    "time": "2021-02-10T23:38:14.114Z",
    "type": "execution"
   },
   {
    "id": "eab1edce3b48478c87bd3afd106bd411",
    "time": "2021-02-10T23:38:14.191Z",
    "type": "completion"
   },
   {
    "code": "pop_df.index.levels[-1].astype(int)\npop_df.index.levels[-1].type()",
    "id": "eab1edce3b48478c87bd3afd106bd411",
    "idx": 13,
    "time": "2021-02-10T23:39:11.760Z",
    "type": "execution"
   },
   {
    "id": "eab1edce3b48478c87bd3afd106bd411",
    "time": "2021-02-10T23:39:11.831Z",
    "type": "completion"
   },
   {
    "code": "pop_df.index.levels[-1].astype(int)\npop_df.index.levels[-1]",
    "id": "eab1edce3b48478c87bd3afd106bd411",
    "idx": 13,
    "time": "2021-02-10T23:39:14.879Z",
    "type": "execution"
   },
   {
    "id": "eab1edce3b48478c87bd3afd106bd411",
    "time": "2021-02-10T23:39:14.983Z",
    "type": "completion"
   },
   {
    "code": "pop_df.index.levels[-1].astype(int)\ntype(pop_df.index.levels[-1])",
    "id": "eab1edce3b48478c87bd3afd106bd411",
    "idx": 13,
    "time": "2021-02-10T23:39:18.969Z",
    "type": "execution"
   },
   {
    "id": "eab1edce3b48478c87bd3afd106bd411",
    "time": "2021-02-10T23:39:19.031Z",
    "type": "completion"
   },
   {
    "code": "pop_df.index.levels[-1].astype(int)\ntype(pop_df.index.levels[-1][0])",
    "id": "eab1edce3b48478c87bd3afd106bd411",
    "idx": 13,
    "time": "2021-02-10T23:39:21.660Z",
    "type": "execution"
   },
   {
    "id": "eab1edce3b48478c87bd3afd106bd411",
    "time": "2021-02-10T23:39:21.725Z",
    "type": "completion"
   },
   {
    "code": "pop_df.index.levels[-1] = pop_df.index.levels[-1].astype(int)\n",
    "id": "eab1edce3b48478c87bd3afd106bd411",
    "idx": 13,
    "time": "2021-02-10T23:39:58.691Z",
    "type": "execution"
   },
   {
    "id": "eab1edce3b48478c87bd3afd106bd411",
    "time": "2021-02-10T23:39:58.763Z",
    "type": "completion"
   },
   {
    "code": "# Function that takes in a SEX (\"Male\", \"Female\"), ... , COUNTRY=, .. and returns a statistic for the given function arguments\n\ndef population(sex, year, age, country):\n    if sex == \"Male\":\n        variable_labels = {\"SP.POP.\" + str(age[0])+str(age[1]) + \".MA\": sex}\n    elif sex==\"Female\":\n        variable_labels = {\"SP.POP.\" + str(age[0])+str(age[1]) + \".FE\": sex}\n    pop_stats = wbdata.get_dataframe(variable_labels, country=country)\n    pop_stats = pop_stats.filter(like=str(year), axis=0)\n    return pop_stats[sex][0]",
    "id": "a89260e5f26046c184cc68169b1730e4",
    "idx": 8,
    "time": "2021-02-10T23:41:09.731Z",
    "type": "execution"
   },
   {
    "id": "a89260e5f26046c184cc68169b1730e4",
    "time": "2021-02-10T23:41:09.792Z",
    "type": "completion"
   },
   {
    "code": "population(\"Female\", 2010, (15,19), \"CHN\")",
    "id": "71b5322d248f4bd0ba71ea4d026da5db",
    "idx": 9,
    "time": "2021-02-10T23:41:10.571Z",
    "type": "execution"
   },
   {
    "id": "71b5322d248f4bd0ba71ea4d026da5db",
    "time": "2021-02-10T23:41:10.642Z",
    "type": "completion"
   },
   {
    "code": "def population_dataframes(indicators):\n    def find_labels(indicators):\n        labels = {}\n        \n        for i in range(len(indicators)):\n            col_id = indicators[i]['id']\n            col_name = indicators[i]['name']\n            labels[col_id] = col_name\n\n        # Select items in the list that contain relevant population data by filtering through string patterns.\n        r = re.compile(\"(SP.POP).[\\d]{2}[A-Z0-9]{2}.[MAFE]{2}$\")\n        col_keys = list(filter(r.match, labels))\n        col_keys\n\n        labels_filtered = {}\n        \n        for key, value in labels.items():\n            if key in col_keys:\n                labels_filtered[key] = value\n        return labels_filtered\n\n    variable_labels = find_labels(indicators_40)\n    return wbdata.get_dataframe(variable_labels)",
    "id": "d58970a778874348894ca62b62f0fccf",
    "idx": 11,
    "time": "2021-02-10T23:41:11.241Z",
    "type": "execution"
   },
   {
    "id": "d58970a778874348894ca62b62f0fccf",
    "time": "2021-02-10T23:41:11.301Z",
    "type": "completion"
   },
   {
    "code": "pop_df = population_dataframes(indicators_40)\npop_df",
    "id": "e1b9bb4a8cc64dfc95e60a67af002a9f",
    "idx": 12,
    "time": "2021-02-10T23:41:12.152Z",
    "type": "execution"
   },
   {
    "id": "e1b9bb4a8cc64dfc95e60a67af002a9f",
    "time": "2021-02-10T23:41:18.357Z",
    "type": "completion"
   },
   {
    "code": "pop_df = population_dataframes(indicators_40)\npop_df.index",
    "id": "e1b9bb4a8cc64dfc95e60a67af002a9f",
    "idx": 12,
    "time": "2021-02-10T23:41:48.383Z",
    "type": "execution"
   },
   {
    "id": "e1b9bb4a8cc64dfc95e60a67af002a9f",
    "time": "2021-02-10T23:41:54.361Z",
    "type": "completion"
   },
   {
    "code": "pop_df.index.set_levels(pop_df.index.levels[1].astype(int), level=1)",
    "id": "eab1edce3b48478c87bd3afd106bd411",
    "idx": 13,
    "time": "2021-02-10T23:42:12.860Z",
    "type": "execution"
   },
   {
    "id": "eab1edce3b48478c87bd3afd106bd411",
    "time": "2021-02-10T23:42:12.944Z",
    "type": "completion"
   },
   {
    "code": "pop_df.index.set_levels(pop_df.index.levels[1].astype(int), level=1)\ntype(pop_df.index.levels[1]",
    "id": "eab1edce3b48478c87bd3afd106bd411",
    "idx": 13,
    "time": "2021-02-10T23:42:25.600Z",
    "type": "execution"
   },
   {
    "id": "eab1edce3b48478c87bd3afd106bd411",
    "time": "2021-02-10T23:42:25.676Z",
    "type": "completion"
   },
   {
    "code": "pop_df.index.set_levels(pop_df.index.levels[1].astype(int), level=1)\ntype(pop_df.index.levels[1])",
    "id": "eab1edce3b48478c87bd3afd106bd411",
    "idx": 13,
    "time": "2021-02-10T23:42:27.631Z",
    "type": "execution"
   },
   {
    "id": "eab1edce3b48478c87bd3afd106bd411",
    "time": "2021-02-10T23:42:27.693Z",
    "type": "completion"
   },
   {
    "code": "pop_df.index.set_levels(pop_df.index.levels[1].astype(int), level=1)\ntype(pop_df.index.levels[1][0])",
    "id": "eab1edce3b48478c87bd3afd106bd411",
    "idx": 13,
    "time": "2021-02-10T23:42:30.151Z",
    "type": "execution"
   },
   {
    "id": "eab1edce3b48478c87bd3afd106bd411",
    "time": "2021-02-10T23:42:30.217Z",
    "type": "completion"
   },
   {
    "code": "pop_df.index.set_levels(pop_df.index.levels[1].astype(int), level=1)\ntype(pop_df.index.levels[1][1])",
    "id": "eab1edce3b48478c87bd3afd106bd411",
    "idx": 13,
    "time": "2021-02-10T23:42:32.161Z",
    "type": "execution"
   },
   {
    "id": "eab1edce3b48478c87bd3afd106bd411",
    "time": "2021-02-10T23:42:32.224Z",
    "type": "completion"
   },
   {
    "code": "pop_df.index.set_levels(pop_df.index.levels[1].astype(int), level=1)",
    "id": "eab1edce3b48478c87bd3afd106bd411",
    "idx": 13,
    "time": "2021-02-10T23:42:34.990Z",
    "type": "execution"
   },
   {
    "id": "eab1edce3b48478c87bd3afd106bd411",
    "time": "2021-02-10T23:42:35.054Z",
    "type": "completion"
   },
   {
    "code": "pop_df.index.set_levels(pop_df.index.levels[1].astype(int), level=1)",
    "id": "eab1edce3b48478c87bd3afd106bd411",
    "idx": 13,
    "time": "2021-02-10T23:46:06.237Z",
    "type": "execution"
   },
   {
    "id": "eab1edce3b48478c87bd3afd106bd411",
    "time": "2021-02-10T23:46:06.318Z",
    "type": "completion"
   },
   {
    "code": "pop_df.index.set_levels(pop_df.index.levels[0].astype(int), level=1)",
    "id": "eab1edce3b48478c87bd3afd106bd411",
    "idx": 13,
    "time": "2021-02-10T23:46:12.402Z",
    "type": "execution"
   },
   {
    "id": "eab1edce3b48478c87bd3afd106bd411",
    "time": "2021-02-10T23:46:12.475Z",
    "type": "completion"
   },
   {
    "code": "pop_df.index.set_levels(pop_df.index.levels[-1].astype(int), level=1)",
    "id": "eab1edce3b48478c87bd3afd106bd411",
    "idx": 13,
    "time": "2021-02-10T23:46:17.662Z",
    "type": "execution"
   },
   {
    "id": "eab1edce3b48478c87bd3afd106bd411",
    "time": "2021-02-10T23:46:17.728Z",
    "type": "completion"
   },
   {
    "code": "pop_df.index.set_levels(pop_df.index.levels[0].astype(int), level=1)",
    "id": "eab1edce3b48478c87bd3afd106bd411",
    "idx": 13,
    "time": "2021-02-10T23:46:22.092Z",
    "type": "execution"
   },
   {
    "id": "eab1edce3b48478c87bd3afd106bd411",
    "time": "2021-02-10T23:46:22.170Z",
    "type": "completion"
   },
   {
    "code": "pop_df.index.set_levels(pop_df.index.levels[1].astype(int), level=1)",
    "id": "eab1edce3b48478c87bd3afd106bd411",
    "idx": 13,
    "time": "2021-02-10T23:46:25.552Z",
    "type": "execution"
   },
   {
    "id": "eab1edce3b48478c87bd3afd106bd411",
    "time": "2021-02-10T23:46:25.614Z",
    "type": "completion"
   },
   {
    "code": "pop_df.index.set_levels(pop_df.index.levels[2].astype(int), level=1)",
    "id": "eab1edce3b48478c87bd3afd106bd411",
    "idx": 13,
    "time": "2021-02-10T23:46:26.744Z",
    "type": "execution"
   },
   {
    "id": "eab1edce3b48478c87bd3afd106bd411",
    "time": "2021-02-10T23:46:26.828Z",
    "type": "completion"
   },
   {
    "code": "pop_df.index.set_levels(pop_df.index.levels[1].astype(int), level=1)",
    "id": "eab1edce3b48478c87bd3afd106bd411",
    "idx": 13,
    "time": "2021-02-10T23:46:28.332Z",
    "type": "execution"
   },
   {
    "id": "eab1edce3b48478c87bd3afd106bd411",
    "time": "2021-02-10T23:46:28.408Z",
    "type": "completion"
   },
   {
    "code": "pop_df.index.set_levels(pop_df.index.levels[1].astype(int), level=1)\npop_df.index.levels[1]",
    "id": "eab1edce3b48478c87bd3afd106bd411",
    "idx": 13,
    "time": "2021-02-10T23:46:38.832Z",
    "type": "execution"
   },
   {
    "id": "eab1edce3b48478c87bd3afd106bd411",
    "time": "2021-02-10T23:46:38.898Z",
    "type": "completion"
   },
   {
    "code": "pop_df.index.set_levels(pop_df.index.levels[1].astype(int), level=1)\npop_df.index.levels[1]",
    "id": "eab1edce3b48478c87bd3afd106bd411",
    "idx": 13,
    "time": "2021-02-10T23:51:13.770Z",
    "type": "execution"
   },
   {
    "id": "eab1edce3b48478c87bd3afd106bd411",
    "time": "2021-02-10T23:51:15.754Z",
    "type": "completion"
   },
   {
    "code": "pop_df.index.set_levels(pop_df.index.levels[1].astype(int), level=1)\npop_df.index.levels[1][0]",
    "id": "eab1edce3b48478c87bd3afd106bd411",
    "idx": 13,
    "time": "2021-02-10T23:51:21.860Z",
    "type": "execution"
   },
   {
    "id": "eab1edce3b48478c87bd3afd106bd411",
    "time": "2021-02-10T23:51:21.923Z",
    "type": "completion"
   },
   {
    "code": "pop_df.index.set_levels(pop_df.index.levels[1].astype(int), level=0)",
    "id": "eab1edce3b48478c87bd3afd106bd411",
    "idx": 13,
    "time": "2021-02-10T23:51:58.541Z",
    "type": "execution"
   },
   {
    "id": "eab1edce3b48478c87bd3afd106bd411",
    "time": "2021-02-10T23:51:58.645Z",
    "type": "completion"
   },
   {
    "code": "pop_df.index.set_levels(pop_df.index.levels[1].astype(int), level=1)",
    "id": "eab1edce3b48478c87bd3afd106bd411",
    "idx": 13,
    "time": "2021-02-10T23:52:05.041Z",
    "type": "execution"
   },
   {
    "id": "eab1edce3b48478c87bd3afd106bd411",
    "time": "2021-02-10T23:52:05.107Z",
    "type": "completion"
   },
   {
    "code": "pop_df.index.set_levels(pop_df.index.levels[1].astype(int), level=1)\npop_df.index.levels[1]",
    "id": "eab1edce3b48478c87bd3afd106bd411",
    "idx": 13,
    "time": "2021-02-10T23:52:14.870Z",
    "type": "execution"
   },
   {
    "id": "eab1edce3b48478c87bd3afd106bd411",
    "time": "2021-02-10T23:52:14.967Z",
    "type": "completion"
   },
   {
    "code": "pop_df.index.set_levels(pop_df.index.levels[1].astype(int), level=1)\npop_df.index.levels[1].dtype",
    "id": "eab1edce3b48478c87bd3afd106bd411",
    "idx": 13,
    "time": "2021-02-10T23:52:47.862Z",
    "type": "execution"
   },
   {
    "id": "eab1edce3b48478c87bd3afd106bd411",
    "time": "2021-02-10T23:52:47.923Z",
    "type": "completion"
   },
   {
    "code": "!pip install wbdata\n\nimport wbdata\nimport numpy as np\nimport re ",
    "id": "7068ef25b08246bd8e94c98e90be2a30",
    "idx": 0,
    "time": "2021-02-11T22:02:02.863Z",
    "type": "execution"
   },
   {
    "code": "# Return list of all country/region codes:\nwbdata.get_country()",
    "id": "cab91ddc59a94b318849de4688dbf7f9",
    "idx": 1,
    "time": "2021-02-11T22:02:03.011Z",
    "type": "execution"
   },
   {
    "code": "wbdata.get_source()",
    "id": "1f818a4034944ccc84fa8a196ca8da2c",
    "idx": 3,
    "time": "2021-02-11T22:02:03.310Z",
    "type": "execution"
   },
   {
    "code": "SOURCE = 40 # \"Population estimates and projections\"\n\nindicators_40 = wbdata.get_indicator(source=SOURCE)\nindicators_40",
    "id": "d4d81b7be10b456c84e66ffcc4bd17f4",
    "idx": 4,
    "time": "2021-02-11T22:02:03.454Z",
    "type": "execution"
   },
   {
    "code": "# Takes in an indicator object and returns a dictionary of filtered column labels.\ndef find_labels(indicators):\n    labels = {}\n\n    for i in range(len(indicators)):\n        col_id = indicators[i]['id']\n        col_name = indicators[i]['name']\n        labels[col_id] = col_name\n\n    # Select items in the list that contain relevant population data by filtering through string patterns.\n    r = re.compile(\"(SP.POP).[\\d]{2}[A-Z0-9]{2}.[MAFE]{2}$\")\n    col_keys = list(filter(r.match, labels))\n    col_keys\n\n    labels_filtered = {}\n    for key, value in labels.items():\n        if key in col_keys:\n            labels_filtered[key] = value\n            \n    return labels_filtered",
    "id": "cd5f98a01d924c2487f418df57ab48ef",
    "idx": 5,
    "time": "2021-02-11T22:02:03.591Z",
    "type": "execution"
   },
   {
    "code": "variable_labels = find_labels(indicators_40)\nvariable_labels",
    "id": "0bbf235a1810421f840df9dd4430de56",
    "idx": 6,
    "time": "2021-02-11T22:02:03.740Z",
    "type": "execution"
   },
   {
    "code": "# Function that takes in a SEX (\"Male\", \"Female\"), ... , COUNTRY=, .. and returns a statistic for the given function arguments\n\ndef population(sex, year, age, country):\n    if sex == \"Male\":\n        variable_labels = {\"SP.POP.\" + str(age[0])+str(age[1]) + \".MA\": sex}\n    elif sex==\"Female\":\n        variable_labels = {\"SP.POP.\" + str(age[0])+str(age[1]) + \".FE\": sex}\n    pop_stats = wbdata.get_dataframe(variable_labels, country=country)\n    pop_stats = pop_stats.filter(like=str(year), axis=0)\n    return pop_stats[sex][0]",
    "id": "22ffd8cfa82d4bda8a58607cebac884f",
    "idx": 8,
    "time": "2021-02-11T22:02:04.021Z",
    "type": "execution"
   },
   {
    "code": "population(\"Female\", 2010, (15,19), \"CHN\")",
    "id": "ecf1c7613ab74795870bb15a93aefd81",
    "idx": 9,
    "time": "2021-02-11T22:02:04.170Z",
    "type": "execution"
   },
   {
    "code": "def population_dataframes(indicators):\n    def find_labels(indicators):\n        labels = {}\n        \n        for i in range(len(indicators)):\n            col_id = indicators[i]['id']\n            col_name = indicators[i]['name']\n            labels[col_id] = col_name\n\n        # Select items in the list that contain relevant population data by filtering through string patterns.\n        r = re.compile(\"(SP.POP).[\\d]{2}[A-Z0-9]{2}.[MAFE]{2}$\")\n        col_keys = list(filter(r.match, labels))\n        col_keys\n\n        labels_filtered = {}\n        \n        for key, value in labels.items():\n            if key in col_keys:\n                labels_filtered[key] = value\n        return labels_filtered\n\n    variable_labels = find_labels(indicators_40)\n    return wbdata.get_dataframe(variable_labels)",
    "id": "40c38cfd3ef84c618e5a2349a5d30308",
    "idx": 11,
    "time": "2021-02-11T22:02:04.462Z",
    "type": "execution"
   },
   {
    "code": "pop_df = population_dataframes(indicators_40)\npop_df.index",
    "id": "eff8cd68b61e4c4681d2a5560b567ce1",
    "idx": 12,
    "time": "2021-02-11T22:02:04.630Z",
    "type": "execution"
   },
   {
    "code": "pop_df.index.set_levels(pop_df.index.levels[1].astype(int), level=1)\npop_df.index",
    "id": "4e965b1ab58249e68822786f7c5d26b4",
    "idx": 13,
    "time": "2021-02-11T22:02:07.771Z",
    "type": "execution"
   },
   {
    "id": "7068ef25b08246bd8e94c98e90be2a30",
    "time": "2021-02-11T22:02:10.763Z",
    "type": "completion"
   },
   {
    "id": "cab91ddc59a94b318849de4688dbf7f9",
    "time": "2021-02-11T22:02:10.863Z",
    "type": "completion"
   },
   {
    "id": "1f818a4034944ccc84fa8a196ca8da2c",
    "time": "2021-02-11T22:02:10.876Z",
    "type": "completion"
   },
   {
    "id": "d4d81b7be10b456c84e66ffcc4bd17f4",
    "time": "2021-02-11T22:02:10.888Z",
    "type": "completion"
   },
   {
    "id": "cd5f98a01d924c2487f418df57ab48ef",
    "time": "2021-02-11T22:02:10.927Z",
    "type": "completion"
   },
   {
    "id": "0bbf235a1810421f840df9dd4430de56",
    "time": "2021-02-11T22:02:10.941Z",
    "type": "completion"
   },
   {
    "id": "22ffd8cfa82d4bda8a58607cebac884f",
    "time": "2021-02-11T22:02:10.948Z",
    "type": "completion"
   },
   {
    "id": "ecf1c7613ab74795870bb15a93aefd81",
    "time": "2021-02-11T22:02:10.976Z",
    "type": "completion"
   },
   {
    "id": "40c38cfd3ef84c618e5a2349a5d30308",
    "time": "2021-02-11T22:02:10.978Z",
    "type": "completion"
   },
   {
    "id": "eff8cd68b61e4c4681d2a5560b567ce1",
    "time": "2021-02-11T22:02:21.642Z",
    "type": "completion"
   },
   {
    "id": "4e965b1ab58249e68822786f7c5d26b4",
    "time": "2021-02-11T22:02:21.653Z",
    "type": "completion"
   },
   {
    "code": "pop_df.set_levels(pop_df.index.levels[1].astype(int), level=1)",
    "id": "4e965b1ab58249e68822786f7c5d26b4",
    "idx": 13,
    "time": "2021-02-11T22:02:36.163Z",
    "type": "execution"
   },
   {
    "id": "4e965b1ab58249e68822786f7c5d26b4",
    "time": "2021-02-11T22:02:36.983Z",
    "type": "completion"
   },
   {
    "code": "pop.df.index.levels[1]",
    "id": "4e965b1ab58249e68822786f7c5d26b4",
    "idx": 13,
    "time": "2021-02-11T22:02:59.660Z",
    "type": "execution"
   },
   {
    "id": "4e965b1ab58249e68822786f7c5d26b4",
    "time": "2021-02-11T22:02:59.730Z",
    "type": "completion"
   },
   {
    "code": "pop_df.index.levels[1]",
    "id": "4e965b1ab58249e68822786f7c5d26b4",
    "idx": 13,
    "time": "2021-02-11T22:03:03.577Z",
    "type": "execution"
   },
   {
    "id": "4e965b1ab58249e68822786f7c5d26b4",
    "time": "2021-02-11T22:03:03.652Z",
    "type": "completion"
   },
   {
    "code": "pop_df.index = pop_df.index.set_levels(pop_df.index[1].astype(int), level=1)",
    "id": "4e965b1ab58249e68822786f7c5d26b4",
    "idx": 13,
    "time": "2021-02-11T22:04:22.829Z",
    "type": "execution"
   },
   {
    "id": "4e965b1ab58249e68822786f7c5d26b4",
    "time": "2021-02-11T22:04:22.919Z",
    "type": "completion"
   },
   {
    "code": "pop_df.index[1]",
    "id": "f216658b7f084b1c8fda4272c176503f",
    "idx": 13,
    "time": "2021-02-11T22:04:33.267Z",
    "type": "execution"
   },
   {
    "id": "f216658b7f084b1c8fda4272c176503f",
    "time": "2021-02-11T22:04:33.338Z",
    "type": "completion"
   },
   {
    "code": "pop_df.index.levels[1]",
    "id": "f216658b7f084b1c8fda4272c176503f",
    "idx": 13,
    "time": "2021-02-11T22:04:45.117Z",
    "type": "execution"
   },
   {
    "id": "f216658b7f084b1c8fda4272c176503f",
    "time": "2021-02-11T22:04:45.204Z",
    "type": "completion"
   },
   {
    "code": "pop_df.index = pop_df.index.set_levels(pop_df.index.levels[1].astype(int), level=1)",
    "id": "4e965b1ab58249e68822786f7c5d26b4",
    "idx": 13,
    "time": "2021-02-11T22:04:47.726Z",
    "type": "execution"
   },
   {
    "id": "4e965b1ab58249e68822786f7c5d26b4",
    "time": "2021-02-11T22:04:47.830Z",
    "type": "completion"
   },
   {
    "code": "pop_df.index = pop_df.index.set_levels(pop_df.index.levels[1].astype(int), level=1)\npop_df.index",
    "id": "4e965b1ab58249e68822786f7c5d26b4",
    "idx": 13,
    "time": "2021-02-11T22:04:50.778Z",
    "type": "execution"
   },
   {
    "id": "4e965b1ab58249e68822786f7c5d26b4",
    "time": "2021-02-11T22:04:50.905Z",
    "type": "completion"
   },
   {
    "code": "pop_df = population_dataframes(indicators_40)\n\n# Change MultiIndex\npop_df",
    "id": "eff8cd68b61e4c4681d2a5560b567ce1",
    "idx": 12,
    "time": "2021-02-11T22:05:55.717Z",
    "type": "execution"
   },
   {
    "code": "pop_df = population_dataframes(indicators_40)\npop_df",
    "id": "eff8cd68b61e4c4681d2a5560b567ce1",
    "idx": 12,
    "time": "2021-02-11T22:06:00.673Z",
    "type": "execution"
   },
   {
    "id": "eff8cd68b61e4c4681d2a5560b567ce1",
    "time": "2021-02-11T22:06:11.870Z",
    "type": "completion"
   },
   {
    "id": "eff8cd68b61e4c4681d2a5560b567ce1",
    "time": "2021-02-11T22:06:11.870Z",
    "type": "completion"
   },
   {
    "code": "# Change \"date\" index to type INT and rename to \"year\"\npop_df.index = pop_df.index.set_levels(pop_df.index.levels[1].astype(int), level=1)\npop_df.index",
    "id": "4e965b1ab58249e68822786f7c5d26b4",
    "idx": 14,
    "time": "2021-02-11T22:07:04.077Z",
    "type": "execution"
   },
   {
    "id": "4e965b1ab58249e68822786f7c5d26b4",
    "time": "2021-02-11T22:07:04.169Z",
    "type": "completion"
   },
   {
    "code": "# Change \"date\" index to type INT.\npop_df.index = pop_df.index.set_levels(pop_df.index.levels[1].astype(int), level=1)\npop_df.index\n\n# Rename MultiIndex column \"date\" to \"year\"\npop_df.rename(index={\"date\": \"year\"})",
    "id": "4e965b1ab58249e68822786f7c5d26b4",
    "idx": 14,
    "time": "2021-02-11T22:07:48.437Z",
    "type": "execution"
   },
   {
    "id": "4e965b1ab58249e68822786f7c5d26b4",
    "time": "2021-02-11T22:07:48.789Z",
    "type": "completion"
   },
   {
    "code": "# Change \"date\" index to type INT.\npop_df.index = pop_df.index.set_levels(pop_df.index.levels[1].astype(int), level=1)\npop_df.index\n\n# Rename MultiIndex column \"date\" to \"year\"\npop_df.rename(index={\"year\": \"date\"})",
    "id": "4e965b1ab58249e68822786f7c5d26b4",
    "idx": 14,
    "time": "2021-02-11T22:08:23.963Z",
    "type": "execution"
   },
   {
    "id": "4e965b1ab58249e68822786f7c5d26b4",
    "time": "2021-02-11T22:08:24.271Z",
    "type": "completion"
   },
   {
    "code": "# Change \"date\" index to type INT.\npop_df.index = pop_df.index.set_levels(pop_df.index.levels[1].astype(int), level=1)\npop_df.index\n\n# Rename MultiIndex column \"date\" to \"year\"\npop_df.rename(index={\"date\": \"year\"})",
    "id": "4e965b1ab58249e68822786f7c5d26b4",
    "idx": 14,
    "time": "2021-02-11T22:08:27.585Z",
    "type": "execution"
   },
   {
    "id": "4e965b1ab58249e68822786f7c5d26b4",
    "time": "2021-02-11T22:08:27.995Z",
    "type": "completion"
   },
   {
    "code": "# Change \"date\" index to type INT.\npop_df.index = pop_df.index.set_levels(pop_df.index.levels[1].astype(int), level=1)\npop_df.index\n\n# Rename MultiIndex column \"date\" to \"year\"\npop_df = pop_df.rename(index={\"date\": \"year\"})\npop_df",
    "id": "4e965b1ab58249e68822786f7c5d26b4",
    "idx": 14,
    "time": "2021-02-11T22:08:37.366Z",
    "type": "execution"
   },
   {
    "id": "4e965b1ab58249e68822786f7c5d26b4",
    "time": "2021-02-11T22:08:37.743Z",
    "type": "completion"
   },
   {
    "code": "# Change \"date\" index to type INT.\npop_df.index = pop_df.index.set_levels(pop_df.index.levels[1].astype(int), level=1)\n\n# Rename MultiIndex column \"date\" to \"year\"\npop_df = pop_df.rename(index={\"date\": \"year\"})\npop_df",
    "id": "4e965b1ab58249e68822786f7c5d26b4",
    "idx": 14,
    "time": "2021-02-11T22:08:42.555Z",
    "type": "execution"
   },
   {
    "id": "4e965b1ab58249e68822786f7c5d26b4",
    "time": "2021-02-11T22:08:45.436Z",
    "type": "completion"
   },
   {
    "code": "# Change \"date\" index to type INT.\npop_df.index = pop_df.index.set_levels(pop_df.index.levels[1].astype(int), level=1)\n\n# Rename MultiIndex column \"date\" to \"year\"\npop_df = pop_df.rename_axis(index=['country', 'year'])\npop_df\n\n# Delete 2020 row for every country code\n",
    "id": "4e965b1ab58249e68822786f7c5d26b4",
    "idx": 14,
    "time": "2021-02-11T22:10:06.875Z",
    "type": "execution"
   },
   {
    "id": "4e965b1ab58249e68822786f7c5d26b4",
    "time": "2021-02-11T22:10:07.138Z",
    "type": "completion"
   },
   {
    "code": "pop_df.index.get_level_values(1)",
    "id": "1af139698d7342bab192344ab292be44",
    "idx": 15,
    "time": "2021-02-11T22:11:12.717Z",
    "type": "execution"
   },
   {
    "id": "1af139698d7342bab192344ab292be44",
    "time": "2021-02-11T22:11:12.813Z",
    "type": "completion"
   },
   {
    "code": "# Change \"date\" index to type INT.\npop_df.index = pop_df.index.set_levels(pop_df.index.levels[1].astype(int), level=1)\n\n# Rename MultiIndex column \"date\" to \"year\"\npop_df = pop_df.rename_axis(index=['country', 'year'])\npop_df\n\n# Delete 2020 row for every country code\npop_df[~pop_df.index.get_level_values('year').isin(['2020'])]",
    "id": "4e965b1ab58249e68822786f7c5d26b4",
    "idx": 14,
    "time": "2021-02-11T22:30:24.825Z",
    "type": "execution"
   },
   {
    "id": "4e965b1ab58249e68822786f7c5d26b4",
    "time": "2021-02-11T22:30:25.152Z",
    "type": "completion"
   },
   {
    "code": "# Change \"date\" index to type INT.\npop_df.index = pop_df.index.set_levels(pop_df.index.levels[1].astype(int), level=1)\n\n# Rename MultiIndex column \"date\" to \"year\"\npop_df = pop_df.rename_axis(index=['country', 'year'])\n\n# Delete 2020 row for every country code\npop_df[~pop_df.index.get_level_values('year').isin(['2020'])]",
    "id": "4e965b1ab58249e68822786f7c5d26b4",
    "idx": 14,
    "time": "2021-02-11T22:30:33.744Z",
    "type": "execution"
   },
   {
    "id": "4e965b1ab58249e68822786f7c5d26b4",
    "time": "2021-02-11T22:30:34.009Z",
    "type": "completion"
   },
   {
    "code": "# Change \"date\" index to type INT.\npop_df.index = pop_df.index.set_levels(pop_df.index.levels[1].astype(int), level=1)\n\n# Rename MultiIndex column \"date\" to \"year\"\npop_df = pop_df.rename_axis(index=['country', 'year'])\n\n# Delete 2020 row for every country code\npop_df[~pop_df.index.get_level_values('year').isin([2020])]",
    "id": "4e965b1ab58249e68822786f7c5d26b4",
    "idx": 14,
    "time": "2021-02-11T22:30:42.842Z",
    "type": "execution"
   },
   {
    "id": "4e965b1ab58249e68822786f7c5d26b4",
    "time": "2021-02-11T22:30:43.182Z",
    "type": "completion"
   },
   {
    "code": "# Change \"date\" index to type INT.\npop_df.index = pop_df.index.set_levels(pop_df.index.levels[1].astype(int), level=1)\n\n# Rename MultiIndex column \"date\" to \"year\"\npop_df = pop_df.rename_axis(index=['country', 'year'])\n\n# Delete 2020 row for every country code\npop_df = pop_df[~pop_df.index.get_level_values('year').isin([2020])]\npop_df",
    "id": "4e965b1ab58249e68822786f7c5d26b4",
    "idx": 14,
    "time": "2021-02-11T22:31:03.383Z",
    "type": "execution"
   },
   {
    "id": "4e965b1ab58249e68822786f7c5d26b4",
    "time": "2021-02-11T22:31:03.695Z",
    "type": "completion"
   },
   {
    "code": "!pip install wbdata\n\nimport wbdata\nimport numpy as np\nimport re ",
    "id": "1936110a6ac6455b8d94e6df4fa9b523",
    "idx": 0,
    "time": "2021-02-12T00:37:05.670Z",
    "type": "execution"
   },
   {
    "code": "# Return list of all country/region codes:\nwbdata.get_country()",
    "id": "129e74f8c14547d8bb38a89a4d98e038",
    "idx": 1,
    "time": "2021-02-12T00:37:05.700Z",
    "type": "execution"
   },
   {
    "code": "wbdata.get_source()",
    "id": "1591a98e440945bc8dd335de6fc0ba94",
    "idx": 3,
    "time": "2021-02-12T00:37:05.884Z",
    "type": "execution"
   },
   {
    "code": "SOURCE = 40 # \"Population estimates and projections\"\n\nindicators_40 = wbdata.get_indicator(source=SOURCE)\nindicators_40",
    "id": "6c0f07eacbb149a79fee6a66d09a99f5",
    "idx": 4,
    "time": "2021-02-12T00:37:05.908Z",
    "type": "execution"
   },
   {
    "code": "# Takes in an indicator object and returns a dictionary of filtered column labels.\ndef find_labels(indicators):\n    labels = {}\n\n    for i in range(len(indicators)):\n        col_id = indicators[i]['id']\n        col_name = indicators[i]['name']\n        labels[col_id] = col_name\n\n    # Select items in the list that contain relevant population data by filtering through string patterns.\n    r = re.compile(\"(SP.POP).[\\d]{2}[A-Z0-9]{2}.[MAFE]{2}$\")\n    col_keys = list(filter(r.match, labels))\n    col_keys\n\n    labels_filtered = {}\n    for key, value in labels.items():\n        if key in col_keys:\n            labels_filtered[key] = value\n            \n    return labels_filtered",
    "id": "1328ced02a324e1d8561a78efed7d7e0",
    "idx": 5,
    "time": "2021-02-12T00:37:05.939Z",
    "type": "execution"
   },
   {
    "code": "variable_labels = find_labels(indicators_40)\nvariable_labels",
    "id": "08b8c6e4793843e3b82e5e1ddcdc2b3f",
    "idx": 6,
    "time": "2021-02-12T00:37:06.834Z",
    "type": "execution"
   },
   {
    "code": "# Function that takes in a SEX (\"Male\", \"Female\"), ... , COUNTRY=, .. and returns a statistic for the given function arguments\n\ndef population(sex, year, age, country):\n    if sex == \"Male\":\n        variable_labels = {\"SP.POP.\" + str(age[0])+str(age[1]) + \".MA\": sex}\n    elif sex==\"Female\":\n        variable_labels = {\"SP.POP.\" + str(age[0])+str(age[1]) + \".FE\": sex}\n    pop_stats = wbdata.get_dataframe(variable_labels, country=country)\n    pop_stats = pop_stats.filter(like=str(year), axis=0)\n    return pop_stats[sex][0]",
    "id": "1be6297a09eb4209b2538410c103867d",
    "idx": 8,
    "time": "2021-02-12T00:37:07.772Z",
    "type": "execution"
   },
   {
    "code": "population(\"Female\", 2010, (15,19), \"CHN\")",
    "id": "da03c0d9891e4f418973cfffbca6054a",
    "idx": 9,
    "time": "2021-02-12T00:37:08.188Z",
    "type": "execution"
   },
   {
    "code": "def population_dataframes(indicators):\n    def find_labels(indicators):\n        labels = {}\n        \n        for i in range(len(indicators)):\n            col_id = indicators[i]['id']\n            col_name = indicators[i]['name']\n            labels[col_id] = col_name\n\n        # Select items in the list that contain relevant population data by filtering through string patterns.\n        r = re.compile(\"(SP.POP).[\\d]{2}[A-Z0-9]{2}.[MAFE]{2}$\")\n        col_keys = list(filter(r.match, labels))\n        col_keys\n\n        labels_filtered = {}\n        \n        for key, value in labels.items():\n            if key in col_keys:\n                labels_filtered[key] = value\n        return labels_filtered\n\n    variable_labels = find_labels(indicators_40)\n    return wbdata.get_dataframe(variable_labels)",
    "id": "ebeb4a0bff064efa98925a9eebe2979f",
    "idx": 11,
    "time": "2021-02-12T00:37:09.202Z",
    "type": "execution"
   },
   {
    "code": "pop_df = population_dataframes(indicators_40)\npop_df",
    "id": "84a29857635444118c0d8ac043997a86",
    "idx": 12,
    "time": "2021-02-12T00:37:09.594Z",
    "type": "execution"
   },
   {
    "code": "# Change \"date\" index to type INT.\npop_df.index = pop_df.index.set_levels(pop_df.index.levels[1].astype(int), level=1)\n\n# Rename MultiIndex column \"date\" to \"year\"\npop_df = pop_df.rename_axis(index=['country', 'year'])\n\n# Delete 2020 row for every country code\npop_df = pop_df[~pop_df.index.get_level_values('year').isin([2020])]\npop_df",
    "id": "6ed13c09c5834147b7a77a19556aab47",
    "idx": 14,
    "time": "2021-02-12T00:37:10.836Z",
    "type": "execution"
   },
   {
    "id": "1936110a6ac6455b8d94e6df4fa9b523",
    "time": "2021-02-12T00:37:12.294Z",
    "type": "completion"
   },
   {
    "id": "129e74f8c14547d8bb38a89a4d98e038",
    "time": "2021-02-12T00:37:12.362Z",
    "type": "completion"
   },
   {
    "id": "1591a98e440945bc8dd335de6fc0ba94",
    "time": "2021-02-12T00:37:12.405Z",
    "type": "completion"
   },
   {
    "id": "6c0f07eacbb149a79fee6a66d09a99f5",
    "time": "2021-02-12T00:37:12.485Z",
    "type": "completion"
   },
   {
    "id": "1328ced02a324e1d8561a78efed7d7e0",
    "time": "2021-02-12T00:37:12.493Z",
    "type": "completion"
   },
   {
    "id": "08b8c6e4793843e3b82e5e1ddcdc2b3f",
    "time": "2021-02-12T00:37:12.504Z",
    "type": "completion"
   },
   {
    "id": "1be6297a09eb4209b2538410c103867d",
    "time": "2021-02-12T00:37:12.541Z",
    "type": "completion"
   },
   {
    "id": "da03c0d9891e4f418973cfffbca6054a",
    "time": "2021-02-12T00:37:12.544Z",
    "type": "completion"
   },
   {
    "id": "ebeb4a0bff064efa98925a9eebe2979f",
    "time": "2021-02-12T00:37:12.553Z",
    "type": "completion"
   },
   {
    "id": "84a29857635444118c0d8ac043997a86",
    "time": "2021-02-12T00:37:19.367Z",
    "type": "completion"
   },
   {
    "id": "6ed13c09c5834147b7a77a19556aab47",
    "time": "2021-02-12T00:37:19.427Z",
    "type": "completion"
   },
   {
    "code": "def population_dataframes(indicators):\n    \"\"\"Returns a pandas DataFrame indexed by Region or Country and Year, \n    with columns giving counts of people in different age-sex groups.\"\"\"\n    \n    def find_labels(indicators):\n        labels = {}\n        \n        for i in range(len(indicators)):\n            col_id = indicators[i]['id']\n            col_name = indicators[i]['name']\n            labels[col_id] = col_name\n\n        # Select items in the list that contain relevant population data by filtering through string patterns.\n        r = re.compile(\"(SP.POP).[\\d]{2}[A-Z0-9]{2}.[MAFE]{2}$\")\n        col_keys = list(filter(r.match, labels))\n        col_keys\n\n        labels_filtered = {}\n        \n        for key, value in labels.items():\n            if key in col_keys:\n                labels_filtered[key] = value\n        return labels_filtered\n\n    variable_labels = find_labels(indicators_40)\n    return wbdata.get_dataframe(variable_labels)",
    "id": "ebeb4a0bff064efa98925a9eebe2979f",
    "idx": 11,
    "time": "2021-02-12T00:49:17.065Z",
    "type": "execution"
   },
   {
    "id": "ebeb4a0bff064efa98925a9eebe2979f",
    "time": "2021-02-12T00:49:17.130Z",
    "type": "completion"
   },
   {
    "code": "pop_df = population_dataframes(indicators_40)\npop_df",
    "id": "84a29857635444118c0d8ac043997a86",
    "idx": 12,
    "time": "2021-02-12T00:49:17.746Z",
    "type": "execution"
   },
   {
    "code": "# Change \"date\" index to type INT.\npop_df.index = pop_df.index.set_levels(pop_df.index.levels[1].astype(int), level=1)\n\n# Rename MultiIndex column \"date\" to \"year\"\npop_df = pop_df.rename_axis(index=['country', 'year'])\n\n# Delete 2020 row for every country code\npop_df = pop_df[~pop_df.index.get_level_values('year').isin([2020])]\npop_df",
    "id": "6ed13c09c5834147b7a77a19556aab47",
    "idx": 14,
    "time": "2021-02-12T00:49:18.151Z",
    "type": "execution"
   },
   {
    "code": "def population_pyramid():\n    \"\"\"Takes as input a pandas DataFrame with columns providing counts \n    of people by age-sex groups, and constructs a population pyramid graph \n    for visualizing the data.\"\"\"\n    ",
    "id": "b14a76396e5246eb943788a7e5a4638d",
    "idx": 16,
    "time": "2021-02-12T00:49:18.658Z",
    "type": "execution"
   },
   {
    "id": "84a29857635444118c0d8ac043997a86",
    "time": "2021-02-12T00:49:24.422Z",
    "type": "completion"
   },
   {
    "id": "6ed13c09c5834147b7a77a19556aab47",
    "time": "2021-02-12T00:49:24.500Z",
    "type": "completion"
   },
   {
    "id": "b14a76396e5246eb943788a7e5a4638d",
    "time": "2021-02-12T00:49:24.502Z",
    "type": "completion"
   },
   {
    "code": "!pip install wbdata\n\nimport wbdata\nimport numpy as np\nimport re \nimport matplotlib.pyplot as plt\nimport seaborn as sns",
    "id": "1936110a6ac6455b8d94e6df4fa9b523",
    "idx": 0,
    "time": "2021-02-12T00:50:55.782Z",
    "type": "execution"
   },
   {
    "code": "# Return list of all country/region codes:\nwbdata.get_country()",
    "id": "129e74f8c14547d8bb38a89a4d98e038",
    "idx": 1,
    "time": "2021-02-12T00:50:56.242Z",
    "type": "execution"
   },
   {
    "code": "wbdata.get_source()",
    "id": "1591a98e440945bc8dd335de6fc0ba94",
    "idx": 3,
    "time": "2021-02-12T00:50:56.571Z",
    "type": "execution"
   },
   {
    "code": "SOURCE = 40 # \"Population estimates and projections\"\n\nindicators_40 = wbdata.get_indicator(source=SOURCE)\nindicators_40",
    "id": "6c0f07eacbb149a79fee6a66d09a99f5",
    "idx": 4,
    "time": "2021-02-12T00:50:56.742Z",
    "type": "execution"
   },
   {
    "code": "# Takes in an indicator object and returns a dictionary of filtered column labels.\ndef find_labels(indicators):\n    labels = {}\n\n    for i in range(len(indicators)):\n        col_id = indicators[i]['id']\n        col_name = indicators[i]['name']\n        labels[col_id] = col_name\n\n    # Select items in the list that contain relevant population data by filtering through string patterns.\n    r = re.compile(\"(SP.POP).[\\d]{2}[A-Z0-9]{2}.[MAFE]{2}$\")\n    col_keys = list(filter(r.match, labels))\n    col_keys\n\n    labels_filtered = {}\n    for key, value in labels.items():\n        if key in col_keys:\n            labels_filtered[key] = value\n            \n    return labels_filtered",
    "id": "1328ced02a324e1d8561a78efed7d7e0",
    "idx": 5,
    "time": "2021-02-12T00:50:56.901Z",
    "type": "execution"
   },
   {
    "code": "variable_labels = find_labels(indicators_40)\nvariable_labels",
    "id": "08b8c6e4793843e3b82e5e1ddcdc2b3f",
    "idx": 6,
    "time": "2021-02-12T00:50:57.071Z",
    "type": "execution"
   },
   {
    "code": "# Function that takes in a SEX (\"Male\", \"Female\"), ... , COUNTRY=, .. and returns a statistic for the given function arguments\n\ndef population(sex, year, age, country):\n    if sex == \"Male\":\n        variable_labels = {\"SP.POP.\" + str(age[0])+str(age[1]) + \".MA\": sex}\n    elif sex==\"Female\":\n        variable_labels = {\"SP.POP.\" + str(age[0])+str(age[1]) + \".FE\": sex}\n    pop_stats = wbdata.get_dataframe(variable_labels, country=country)\n    pop_stats = pop_stats.filter(like=str(year), axis=0)\n    return pop_stats[sex][0]",
    "id": "1be6297a09eb4209b2538410c103867d",
    "idx": 8,
    "time": "2021-02-12T00:50:57.421Z",
    "type": "execution"
   },
   {
    "code": "population(\"Female\", 2010, (15,19), \"CHN\")",
    "id": "da03c0d9891e4f418973cfffbca6054a",
    "idx": 9,
    "time": "2021-02-12T00:50:57.589Z",
    "type": "execution"
   },
   {
    "code": "def population_dataframes(indicators):\n    \"\"\"Returns a pandas DataFrame indexed by Region or Country and Year, \n    with columns giving counts of people in different age-sex groups.\"\"\"\n    \n    def find_labels(indicators):\n        labels = {}\n        \n        for i in range(len(indicators)):\n            col_id = indicators[i]['id']\n            col_name = indicators[i]['name']\n            labels[col_id] = col_name\n\n        # Select items in the list that contain relevant population data by filtering through string patterns.\n        r = re.compile(\"(SP.POP).[\\d]{2}[A-Z0-9]{2}.[MAFE]{2}$\")\n        col_keys = list(filter(r.match, labels))\n        col_keys\n\n        labels_filtered = {}\n        \n        for key, value in labels.items():\n            if key in col_keys:\n                labels_filtered[key] = value\n        return labels_filtered\n\n    variable_labels = find_labels(indicators_40)\n    return wbdata.get_dataframe(variable_labels)",
    "id": "ebeb4a0bff064efa98925a9eebe2979f",
    "idx": 11,
    "time": "2021-02-12T00:50:58.369Z",
    "type": "execution"
   },
   {
    "code": "pop_df = population_dataframes(indicators_40)\npop_df",
    "id": "84a29857635444118c0d8ac043997a86",
    "idx": 12,
    "time": "2021-02-12T00:50:58.571Z",
    "type": "execution"
   },
   {
    "code": "# Change \"date\" index to type INT.\npop_df.index = pop_df.index.set_levels(pop_df.index.levels[1].astype(int), level=1)\n\n# Rename MultiIndex column \"date\" to \"year\"\npop_df = pop_df.rename_axis(index=['country', 'year'])\n\n# Delete 2020 row for every country code\npop_df = pop_df[~pop_df.index.get_level_values('year').isin([2020])]\npop_df",
    "id": "6ed13c09c5834147b7a77a19556aab47",
    "idx": 14,
    "time": "2021-02-12T00:50:59.621Z",
    "type": "execution"
   },
   {
    "code": "def population_pyramid(df):\n    \"\"\"Takes as input a pandas DataFrame with columns providing counts \n    of people by age-sex groups, and constructs a population pyramid graph \n    for visualizing the data.\"\"\"\n    ",
    "id": "b14a76396e5246eb943788a7e5a4638d",
    "idx": 16,
    "time": "2021-02-12T00:51:00.949Z",
    "type": "execution"
   },
   {
    "id": "1936110a6ac6455b8d94e6df4fa9b523",
    "time": "2021-02-12T00:51:04.030Z",
    "type": "completion"
   },
   {
    "id": "129e74f8c14547d8bb38a89a4d98e038",
    "time": "2021-02-12T00:51:04.140Z",
    "type": "completion"
   },
   {
    "id": "1591a98e440945bc8dd335de6fc0ba94",
    "time": "2021-02-12T00:51:04.146Z",
    "type": "completion"
   },
   {
    "id": "6c0f07eacbb149a79fee6a66d09a99f5",
    "time": "2021-02-12T00:51:04.174Z",
    "type": "completion"
   },
   {
    "id": "1328ced02a324e1d8561a78efed7d7e0",
    "time": "2021-02-12T00:51:04.215Z",
    "type": "completion"
   },
   {
    "id": "08b8c6e4793843e3b82e5e1ddcdc2b3f",
    "time": "2021-02-12T00:51:04.220Z",
    "type": "completion"
   },
   {
    "id": "1be6297a09eb4209b2538410c103867d",
    "time": "2021-02-12T00:51:04.281Z",
    "type": "completion"
   },
   {
    "id": "da03c0d9891e4f418973cfffbca6054a",
    "time": "2021-02-12T00:51:04.292Z",
    "type": "completion"
   },
   {
    "id": "ebeb4a0bff064efa98925a9eebe2979f",
    "time": "2021-02-12T00:51:04.322Z",
    "type": "completion"
   },
   {
    "id": "84a29857635444118c0d8ac043997a86",
    "time": "2021-02-12T00:51:11.861Z",
    "type": "completion"
   },
   {
    "id": "6ed13c09c5834147b7a77a19556aab47",
    "time": "2021-02-12T00:51:11.959Z",
    "type": "completion"
   },
   {
    "id": "b14a76396e5246eb943788a7e5a4638d",
    "time": "2021-02-12T00:51:12.031Z",
    "type": "completion"
   },
   {
    "code": "df = pd.DataFrame({'Age': ['0-4','5-9','10-14','15-19','20-24','25-29','30-34','35-39','40-44','45-49','50-54','55-59','60-64','65-69','70-74','75-79','80-84','85-89','90-94','95-99','100+'], \n                    'Male': [-49228000, -61283000, -64391000, -52437000, -42955000, -44667000, -31570000, -23887000, -22390000, -20971000, -17685000, -15450000, -13932000, -11020000, -7611000, -4653000, -1952000, -625000, -116000, -14000, -1000], \n                    'Female': [52367000, 64959000, 67161000, 55388000, 45448000, 47129000, 33436000, 26710000, 25627000, 23612000, 20075000, 16368000, 14220000, 10125000, 5984000, 3131000, 1151000, 312000, 49000, 4000, 0]})\n\n\nAgeClass = ['100+','95-99','90-94','85-89','80-84','75-79','70-74','65-69','60-64','55-59','50-54','45-49','40-44','35-39','30-34','25-29','20-24','15-19','10-14','5-9','0-4']\n\nbar_plot = sns.barplot(x='Male', y='Age', data=df, order=AgeClass)\n\nbar_plot = sns.barplot(x='Female', y='Age', data=df, order=AgeClass)\n\nbar_plot.set(xlabel=\"Population (hundreds of millions)\", ylabel=\"Age-Group\", title = \"Population Pyramid\")",
    "id": "1e319b37c47442628b88d31631d85885",
    "idx": 21,
    "time": "2021-02-12T00:56:30.522Z",
    "type": "execution"
   },
   {
    "id": "1e319b37c47442628b88d31631d85885",
    "time": "2021-02-12T00:56:30.753Z",
    "type": "completion"
   },
   {
    "code": "!pip install wbdata\n\nimport pandas as pd\nimport wbdata\nimport numpy as np\nimport re \nimport matplotlib.pyplot as plt\nimport seaborn as sns",
    "id": "1936110a6ac6455b8d94e6df4fa9b523",
    "idx": 0,
    "time": "2021-02-12T00:56:50.639Z",
    "type": "execution"
   },
   {
    "code": "# Return list of all country/region codes:\nwbdata.get_country()",
    "id": "129e74f8c14547d8bb38a89a4d98e038",
    "idx": 1,
    "time": "2021-02-12T00:56:51.599Z",
    "type": "execution"
   },
   {
    "code": "wbdata.get_source()",
    "id": "1591a98e440945bc8dd335de6fc0ba94",
    "idx": 3,
    "time": "2021-02-12T00:56:51.929Z",
    "type": "execution"
   },
   {
    "code": "SOURCE = 40 # \"Population estimates and projections\"\n\nindicators_40 = wbdata.get_indicator(source=SOURCE)\nindicators_40",
    "id": "6c0f07eacbb149a79fee6a66d09a99f5",
    "idx": 4,
    "time": "2021-02-12T00:56:52.079Z",
    "type": "execution"
   },
   {
    "code": "# Takes in an indicator object and returns a dictionary of filtered column labels.\ndef find_labels(indicators):\n    labels = {}\n\n    for i in range(len(indicators)):\n        col_id = indicators[i]['id']\n        col_name = indicators[i]['name']\n        labels[col_id] = col_name\n\n    # Select items in the list that contain relevant population data by filtering through string patterns.\n    r = re.compile(\"(SP.POP).[\\d]{2}[A-Z0-9]{2}.[MAFE]{2}$\")\n    col_keys = list(filter(r.match, labels))\n    col_keys\n\n    labels_filtered = {}\n    for key, value in labels.items():\n        if key in col_keys:\n            labels_filtered[key] = value\n            \n    return labels_filtered",
    "id": "1328ced02a324e1d8561a78efed7d7e0",
    "idx": 5,
    "time": "2021-02-12T00:56:52.229Z",
    "type": "execution"
   },
   {
    "code": "variable_labels = find_labels(indicators_40)\nvariable_labels",
    "id": "08b8c6e4793843e3b82e5e1ddcdc2b3f",
    "idx": 6,
    "time": "2021-02-12T00:56:52.409Z",
    "type": "execution"
   },
   {
    "code": "# Function that takes in a SEX (\"Male\", \"Female\"), ... , COUNTRY=, .. and returns a statistic for the given function arguments\n\ndef population(sex, year, age, country):\n    if sex == \"Male\":\n        variable_labels = {\"SP.POP.\" + str(age[0])+str(age[1]) + \".MA\": sex}\n    elif sex==\"Female\":\n        variable_labels = {\"SP.POP.\" + str(age[0])+str(age[1]) + \".FE\": sex}\n    pop_stats = wbdata.get_dataframe(variable_labels, country=country)\n    pop_stats = pop_stats.filter(like=str(year), axis=0)\n    return pop_stats[sex][0]",
    "id": "1be6297a09eb4209b2538410c103867d",
    "idx": 8,
    "time": "2021-02-12T00:56:52.719Z",
    "type": "execution"
   },
   {
    "code": "population(\"Female\", 2010, (15,19), \"CHN\")",
    "id": "da03c0d9891e4f418973cfffbca6054a",
    "idx": 9,
    "time": "2021-02-12T00:56:52.890Z",
    "type": "execution"
   },
   {
    "code": "def population_dataframes(indicators):\n    \"\"\"Returns a pandas DataFrame indexed by Region or Country and Year, \n    with columns giving counts of people in different age-sex groups.\"\"\"\n    \n    def find_labels(indicators):\n        labels = {}\n        \n        for i in range(len(indicators)):\n            col_id = indicators[i]['id']\n            col_name = indicators[i]['name']\n            labels[col_id] = col_name\n\n        # Select items in the list that contain relevant population data by filtering through string patterns.\n        r = re.compile(\"(SP.POP).[\\d]{2}[A-Z0-9]{2}.[MAFE]{2}$\")\n        col_keys = list(filter(r.match, labels))\n        col_keys\n\n        labels_filtered = {}\n        \n        for key, value in labels.items():\n            if key in col_keys:\n                labels_filtered[key] = value\n        return labels_filtered\n\n    variable_labels = find_labels(indicators_40)\n    return wbdata.get_dataframe(variable_labels)",
    "id": "ebeb4a0bff064efa98925a9eebe2979f",
    "idx": 11,
    "time": "2021-02-12T00:56:53.219Z",
    "type": "execution"
   },
   {
    "id": "1936110a6ac6455b8d94e6df4fa9b523",
    "time": "2021-02-12T00:56:55.053Z",
    "type": "completion"
   },
   {
    "id": "129e74f8c14547d8bb38a89a4d98e038",
    "time": "2021-02-12T00:56:55.109Z",
    "type": "completion"
   },
   {
    "id": "1591a98e440945bc8dd335de6fc0ba94",
    "time": "2021-02-12T00:56:55.112Z",
    "type": "completion"
   },
   {
    "code": "pop_df = population_dataframes(indicators_40)\npop_df",
    "id": "84a29857635444118c0d8ac043997a86",
    "idx": 12,
    "time": "2021-02-12T00:56:55.244Z",
    "type": "execution"
   },
   {
    "id": "6c0f07eacbb149a79fee6a66d09a99f5",
    "time": "2021-02-12T00:56:55.263Z",
    "type": "completion"
   },
   {
    "id": "1328ced02a324e1d8561a78efed7d7e0",
    "time": "2021-02-12T00:56:55.267Z",
    "type": "completion"
   },
   {
    "id": "08b8c6e4793843e3b82e5e1ddcdc2b3f",
    "time": "2021-02-12T00:56:55.272Z",
    "type": "completion"
   },
   {
    "id": "1be6297a09eb4209b2538410c103867d",
    "time": "2021-02-12T00:56:55.328Z",
    "type": "completion"
   },
   {
    "id": "da03c0d9891e4f418973cfffbca6054a",
    "time": "2021-02-12T00:56:55.334Z",
    "type": "completion"
   },
   {
    "id": "ebeb4a0bff064efa98925a9eebe2979f",
    "time": "2021-02-12T00:56:55.338Z",
    "type": "completion"
   },
   {
    "code": "# Change \"date\" index to type INT.\npop_df.index = pop_df.index.set_levels(pop_df.index.levels[1].astype(int), level=1)\n\n# Rename MultiIndex column \"date\" to \"year\"\npop_df = pop_df.rename_axis(index=['country', 'year'])\n\n# Delete 2020 row for every country code\npop_df = pop_df[~pop_df.index.get_level_values('year').isin([2020])]\npop_df",
    "id": "6ed13c09c5834147b7a77a19556aab47",
    "idx": 14,
    "time": "2021-02-12T00:56:56.032Z",
    "type": "execution"
   },
   {
    "id": "84a29857635444118c0d8ac043997a86",
    "time": "2021-02-12T00:57:03.342Z",
    "type": "completion"
   },
   {
    "id": "6ed13c09c5834147b7a77a19556aab47",
    "time": "2021-02-12T00:57:03.423Z",
    "type": "completion"
   },
   {
    "code": "df = pd.DataFrame({'Age': ['0-4','5-9','10-14','15-19','20-24','25-29','30-34','35-39','40-44','45-49','50-54','55-59','60-64','65-69','70-74','75-79','80-84','85-89','90-94','95-99','100+'], \n                    'Male': [-49228000, -61283000, -64391000, -52437000, -42955000, -44667000, -31570000, -23887000, -22390000, -20971000, -17685000, -15450000, -13932000, -11020000, -7611000, -4653000, -1952000, -625000, -116000, -14000, -1000], \n                    'Female': [52367000, 64959000, 67161000, 55388000, 45448000, 47129000, 33436000, 26710000, 25627000, 23612000, 20075000, 16368000, 14220000, 10125000, 5984000, 3131000, 1151000, 312000, 49000, 4000, 0]})\n\n\nAgeClass = ['100+','95-99','90-94','85-89','80-84','75-79','70-74','65-69','60-64','55-59','50-54','45-49','40-44','35-39','30-34','25-29','20-24','15-19','10-14','5-9','0-4']\n\nbar_plot = sns.barplot(x='Male', y='Age', data=df, order=AgeClass)\n\nbar_plot = sns.barplot(x='Female', y='Age', data=df, order=AgeClass)\n\nbar_plot.set(xlabel=\"Population (hundreds of millions)\", ylabel=\"Age-Group\", title = \"Population Pyramid\")",
    "id": "1e319b37c47442628b88d31631d85885",
    "idx": 21,
    "time": "2021-02-12T00:57:08.761Z",
    "type": "execution"
   },
   {
    "id": "1e319b37c47442628b88d31631d85885",
    "time": "2021-02-12T00:57:09.465Z",
    "type": "completion"
   },
   {
    "code": "df = pd.DataFrame({'Age': ['0-4','5-9','10-14','15-19','20-24','25-29','30-34','35-39','40-44','45-49','50-54','55-59','60-64','65-69','70-74','75-79','80-84','85-89','90-94','95-99','100+'], \n                    'Male': [-49228000, -61283000, -64391000, -52437000, -42955000, -44667000, -31570000, -23887000, -22390000, -20971000, -17685000, -15450000, -13932000, -11020000, -7611000, -4653000, -1952000, -625000, -116000, -14000, -1000], \n                    'Female': [52367000, 64959000, 67161000, 55388000, 45448000, 47129000, 33436000, 26710000, 25627000, 23612000, 20075000, 16368000, 14220000, 10125000, 5984000, 3131000, 1151000, 312000, 49000, 4000, 0]})\n\n\nAgeClass = ['100+','95-99','90-94','85-89','80-84','75-79','70-74','65-69','60-64','55-59','50-54','45-49','40-44','35-39','30-34','25-29','20-24','15-19','10-14','5-9','0-4']\n\nbar_plot = sns.barplot(x='Male', y='Age', data=df, order=AgeClass)\n\nbar_plot = sns.barplot(x='Female', y='Age', data=df, order=AgeClass)\n\nbar_plot.set(xlabel=\"Population (hundreds of millions)\", ylabel=\"Age-Group\", title = \"Population Pyramid\");",
    "id": "1e319b37c47442628b88d31631d85885",
    "idx": 21,
    "time": "2021-02-12T00:57:15.771Z",
    "type": "execution"
   },
   {
    "id": "1e319b37c47442628b88d31631d85885",
    "time": "2021-02-12T00:57:16.496Z",
    "type": "completion"
   },
   {
    "code": "df",
    "id": "179e4b542c2346fb8c2d09212ed3147b",
    "idx": 21,
    "time": "2021-02-12T01:00:41.403Z",
    "type": "execution"
   },
   {
    "id": "179e4b542c2346fb8c2d09212ed3147b",
    "time": "2021-02-12T01:00:41.493Z",
    "type": "completion"
   },
   {
    "code": "sns.barplot(x='Male', y='Age', data=pop_df)",
    "id": "45f8a4177db940d780192389c39ad8e0",
    "idx": 17,
    "time": "2021-02-12T01:01:26.584Z",
    "type": "execution"
   },
   {
    "id": "45f8a4177db940d780192389c39ad8e0",
    "time": "2021-02-12T01:01:26.701Z",
    "type": "completion"
   },
   {
    "code": "# Change \"date\" index to type INT.\npop_df.index = pop_df.index.set_levels(pop_df.index.levels[1].astype(int), level=1)\n\n# Rename MultiIndex column \"date\" to \"year\"\npop_df = pop_df.rename_axis(index=['country', 'year'])\n\n# Delete 2020 row for every country code\npop_df = pop_df[~pop_df.index.get_level_values('year').isin([2020])]\npop_df[pop_df.index.get_level_values('country').isin(['world'])]",
    "id": "6ed13c09c5834147b7a77a19556aab47",
    "idx": 14,
    "time": "2021-02-12T01:02:26.433Z",
    "type": "execution"
   },
   {
    "id": "6ed13c09c5834147b7a77a19556aab47",
    "time": "2021-02-12T01:02:26.566Z",
    "type": "completion"
   },
   {
    "code": "# Change \"date\" index to type INT.\npop_df.index = pop_df.index.set_levels(pop_df.index.levels[1].astype(int), level=1)\n\n# Rename MultiIndex column \"date\" to \"year\"\npop_df = pop_df.rename_axis(index=['country', 'year'])\n\n# Delete 2020 row for every country code\npop_df = pop_df[~pop_df.index.get_level_values('year').isin([2020])]\npop_df[pop_df.index.get_level_values('country').isin(['World'])]",
    "id": "6ed13c09c5834147b7a77a19556aab47",
    "idx": 14,
    "time": "2021-02-12T01:02:29.443Z",
    "type": "execution"
   },
   {
    "id": "6ed13c09c5834147b7a77a19556aab47",
    "time": "2021-02-12T01:02:29.847Z",
    "type": "completion"
   },
   {
    "code": "# Change \"date\" index to type INT.\npop_df.index = pop_df.index.set_levels(pop_df.index.levels[1].astype(int), level=1)\n\n# Rename MultiIndex column \"date\" to \"year\"\npop_df = pop_df.rename_axis(index=['country', 'year'])\n\n# Delete 2020 row for every country code\npop_df = pop_df[~pop_df.index.get_level_values('year').isin([2020])]\npop_df",
    "id": "6ed13c09c5834147b7a77a19556aab47",
    "idx": 14,
    "time": "2021-02-12T01:03:13.983Z",
    "type": "execution"
   },
   {
    "id": "6ed13c09c5834147b7a77a19556aab47",
    "time": "2021-02-12T01:03:14.186Z",
    "type": "completion"
   },
   {
    "code": "def country_pop(pop_df, country):\n    \"\"\"Select population data in POP_DF that belong to a particular COUNTRY\"\"\"\n    return pop_df[pop_df.index.get_level_values('country').isin(['World'])]",
    "id": "f1c929e7577444088a162ca5cae74e1f",
    "idx": 17,
    "time": "2021-02-12T01:06:50.082Z",
    "type": "execution"
   },
   {
    "id": "f1c929e7577444088a162ca5cae74e1f",
    "time": "2021-02-12T01:06:50.147Z",
    "type": "completion"
   },
   {
    "code": "def country_pop(pop_df, country):\n    \"\"\"Select population data in POP_DF that belong to a COUNTRY or region\"\"\"\n    return pop_df[pop_df.index.get_level_values('country').isin(['World'])]",
    "id": "f1c929e7577444088a162ca5cae74e1f",
    "idx": 17,
    "time": "2021-02-12T01:07:12.667Z",
    "type": "execution"
   },
   {
    "id": "f1c929e7577444088a162ca5cae74e1f",
    "time": "2021-02-12T01:07:12.738Z",
    "type": "completion"
   },
   {
    "code": "def country_pop(pop_df, country):\n    \"\"\"Select population data in POP_DF that belong to a COUNTRY or region\"\"\"\n    return pop_df[pop_df.index.get_level_values('country').isin(['World'])]\n\nworld_df = country_pop(pop_df, \"World\")\nworld",
    "id": "f1c929e7577444088a162ca5cae74e1f",
    "idx": 17,
    "time": "2021-02-12T01:07:36.715Z",
    "type": "execution"
   },
   {
    "id": "f1c929e7577444088a162ca5cae74e1f",
    "time": "2021-02-12T01:07:36.802Z",
    "type": "completion"
   },
   {
    "code": "def country_pop(pop_df, country):\n    \"\"\"Select population data in POP_DF that belong to a COUNTRY or region\"\"\"\n    return pop_df[pop_df.index.get_level_values('country').isin(['World'])]\n\nworld_df = country_pop(pop_df, \"World\")\nworld_df",
    "id": "f1c929e7577444088a162ca5cae74e1f",
    "idx": 17,
    "time": "2021-02-12T01:07:41.257Z",
    "type": "execution"
   },
   {
    "id": "f1c929e7577444088a162ca5cae74e1f",
    "time": "2021-02-12T01:07:41.697Z",
    "type": "completion"
   },
   {
    "code": "def country_pop(pop_df, country):\n    \"\"\"Select population data in POP_DF that belong to a COUNTRY or region\"\"\"\n    return pop_df[pop_df.index.get_level_values('country').isin(['World'])]\n\nworld_df = country_pop(pop_df, \"World\")\nworld_df.head()",
    "id": "f1c929e7577444088a162ca5cae74e1f",
    "idx": 17,
    "time": "2021-02-12T01:07:56.010Z",
    "type": "execution"
   },
   {
    "id": "f1c929e7577444088a162ca5cae74e1f",
    "time": "2021-02-12T01:07:56.159Z",
    "type": "completion"
   },
   {
    "code": "# Change \"date\" index to type INT.\npop_df.index = pop_df.index.set_levels(pop_df.index.levels[1].astype(int), level=1)\n\n# Rename MultiIndex column \"date\" to \"year\"\npop_df = pop_df.rename_axis(index=['country', 'year'])\n\n# Delete 2020 row for every country code\npop_df = pop_df[~pop_df.index.get_level_values('year').isin([2020])]\npop_df.head()",
    "id": "6ed13c09c5834147b7a77a19556aab47",
    "idx": 14,
    "time": "2021-02-12T01:07:59.727Z",
    "type": "execution"
   },
   {
    "id": "6ed13c09c5834147b7a77a19556aab47",
    "time": "2021-02-12T01:07:59.873Z",
    "type": "completion"
   },
   {
    "code": "pop_df = population_dataframes(indicators_40)\npop_df.head()",
    "id": "84a29857635444118c0d8ac043997a86",
    "idx": 12,
    "time": "2021-02-12T01:08:04.817Z",
    "type": "execution"
   },
   {
    "id": "84a29857635444118c0d8ac043997a86",
    "time": "2021-02-12T01:08:13.557Z",
    "type": "completion"
   },
   {
    "code": "def population(sex, year, age, country):\n    \"\"\"Function that takes in a SEX (\"Male\", \"Female\"), ... , COUNTRY=, .. \n    and returns a statistic for the given function arguments\"\"\"\n    if sex == \"Male\":\n        variable_labels = {\"SP.POP.\" + str(age[0])+str(age[1]) + \".MA\": sex}\n    elif sex==\"Female\":\n        variable_labels = {\"SP.POP.\" + str(age[0])+str(age[1]) + \".FE\": sex}\n    pop_stats = wbdata.get_dataframe(variable_labels, country=country)\n    pop_stats = pop_stats.filter(like=str(year), axis=0)\n    return pop_stats[sex][0]",
    "id": "1be6297a09eb4209b2538410c103867d",
    "idx": 7,
    "time": "2021-02-12T01:09:19.107Z",
    "type": "execution"
   },
   {
    "id": "1be6297a09eb4209b2538410c103867d",
    "time": "2021-02-12T01:09:19.171Z",
    "type": "completion"
   },
   {
    "code": "population(\"Female\", 2010, (15,19), \"CHN\")",
    "id": "da03c0d9891e4f418973cfffbca6054a",
    "idx": 8,
    "time": "2021-02-12T01:09:19.286Z",
    "type": "execution"
   },
   {
    "id": "da03c0d9891e4f418973cfffbca6054a",
    "time": "2021-02-12T01:09:19.356Z",
    "type": "completion"
   },
   {
    "code": "def population_dataframes(indicators):\n    \"\"\"Returns a pandas DataFrame indexed by Region or Country and Year, \n    with columns giving counts of people in different age-sex groups.\"\"\"\n    \n    def find_labels(indicators):\n        labels = {}\n        \n        for i in range(len(indicators)):\n            col_id = indicators[i]['id']\n            col_name = indicators[i]['name']\n            labels[col_id] = col_name\n\n        # Filter through column ID strings to obtain relevant population data.\n        r = re.compile(\"(SP.POP).[\\d]{2}[A-Z0-9]{2}.[MAFE]{2}$\")\n        col_keys = list(filter(r.match, labels))\n        col_keys\n\n        labels_filtered = {}\n        \n        for key, value in labels.items():\n            if key in col_keys:\n                labels_filtered[key] = value\n        return labels_filtered\n\n    variable_labels = find_labels(indicators_40)\n    return wbdata.get_dataframe(variable_labels)",
    "id": "ebeb4a0bff064efa98925a9eebe2979f",
    "idx": 10,
    "time": "2021-02-12T01:10:16.545Z",
    "type": "execution"
   },
   {
    "id": "ebeb4a0bff064efa98925a9eebe2979f",
    "time": "2021-02-12T01:10:16.609Z",
    "type": "completion"
   },
   {
    "code": "pop_df = population_dataframes(indicators_40)\npop_df.head()",
    "id": "84a29857635444118c0d8ac043997a86",
    "idx": 11,
    "time": "2021-02-12T01:10:16.736Z",
    "type": "execution"
   },
   {
    "code": "# Change \"date\" index to type INT.\npop_df.index = pop_df.index.set_levels(pop_df.index.levels[1].astype(int), level=1)\n\n# Rename MultiIndex column \"date\" to \"year\"\npop_df = pop_df.rename_axis(index=['country', 'year'])\n\n# Delete 2020 row for every country code\npop_df = pop_df[~pop_df.index.get_level_values('year').isin([2020])]\npop_df.head()",
    "id": "6ed13c09c5834147b7a77a19556aab47",
    "idx": 13,
    "time": "2021-02-12T01:10:17.016Z",
    "type": "execution"
   },
   {
    "id": "84a29857635444118c0d8ac043997a86",
    "time": "2021-02-12T01:10:25.061Z",
    "type": "completion"
   },
   {
    "id": "6ed13c09c5834147b7a77a19556aab47",
    "time": "2021-02-12T01:10:25.124Z",
    "type": "completion"
   },
   {
    "code": "def population_dataframes(indicators):\n    \"\"\"Returns a pandas DataFrame indexed by Region or Country and Year, \n    with columns giving counts of people in different age-sex groups.\"\"\"\n    \n    def find_labels(indicators):\n        \n        labels = {}\n        for i in range(len(indicators)):\n            col_id = indicators[i]['id']\n            col_name = indicators[i]['name']\n            labels[col_id] = col_name\n\n        # Filter through column ID strings to obtain relevant population data.\n        r = re.compile(\"(SP.POP).[\\d]{2}[A-Z0-9]{2}.[MAFE]{2}$\")\n        col_keys = list(filter(r.match, labels))\n        col_keys\n\n        labels_filtered = {}\n        \n        for key, value in labels.items():\n            if key in col_keys:\n                labels_filtered[key] = value\n        return labels_filtered\n\n    variable_labels = find_labels(indicators_40)\n    return wbdata.get_dataframe(variable_labels)",
    "id": "ebeb4a0bff064efa98925a9eebe2979f",
    "idx": 10,
    "time": "2021-02-12T01:10:35.027Z",
    "type": "execution"
   },
   {
    "id": "ebeb4a0bff064efa98925a9eebe2979f",
    "time": "2021-02-12T01:10:35.087Z",
    "type": "completion"
   },
   {
    "code": "pop_df = population_dataframes(indicators_40)\npop_df.head()",
    "id": "84a29857635444118c0d8ac043997a86",
    "idx": 11,
    "time": "2021-02-12T01:10:35.178Z",
    "type": "execution"
   },
   {
    "id": "84a29857635444118c0d8ac043997a86",
    "time": "2021-02-12T01:10:43.235Z",
    "type": "completion"
   },
   {
    "code": "def population_dataframes(indicators):\n    \"\"\"Returns a pandas DataFrame indexed by Region or Country and Year, \n    with columns giving counts of people in different age-sex groups.\"\"\"\n    \n    def find_labels(indicators):\n        \"\"\"Takes in an indicator object to filter through variable keys and\n        parse through necessary ID's to obtain relevant data. \"\"\"\n        labels = {}\n        for i in range(len(indicators)):\n            col_id = indicators[i]['id']\n            col_name = indicators[i]['name']\n            labels[col_id] = col_name\n\n        # Filter through column ID strings to obtain relevant population data.\n        r = re.compile(\"(SP.POP).[\\d]{2}[A-Z0-9]{2}.[MAFE]{2}$\")\n        col_keys = list(filter(r.match, labels))\n        col_keys\n\n        labels_filtered = {}\n        \n        for key, value in labels.items():\n            if key in col_keys:\n                labels_filtered[key] = value\n        return labels_filtered\n\n    variable_labels = find_labels(indicators_40)\n    return wbdata.get_dataframe(variable_labels)",
    "id": "ebeb4a0bff064efa98925a9eebe2979f",
    "idx": 10,
    "time": "2021-02-12T01:12:00.108Z",
    "type": "execution"
   },
   {
    "id": "ebeb4a0bff064efa98925a9eebe2979f",
    "time": "2021-02-12T01:12:00.165Z",
    "type": "completion"
   },
   {
    "code": "pop_df = population_dataframes(indicators_40)\npop_df.head()",
    "id": "84a29857635444118c0d8ac043997a86",
    "idx": 11,
    "time": "2021-02-12T01:12:00.298Z",
    "type": "execution"
   },
   {
    "code": "def population_dataframes(indicators):\n    \"\"\"Returns a pandas DataFrame indexed by Region or Country and Year, \n    with columns giving counts of people in different age-sex groups.\"\"\"\n    \n    def find_labels(indicators):\n        \"\"\"Takes in an indicator object to filter through variable keys and\n        parse through necessary ID's to obtain relevant data. \"\"\"\n        labels = {}\n        for i in range(len(indicators)):\n            col_id = indicators[i]['id']\n            col_name = indicators[i]['name']\n            labels[col_id] = col_name\n\n        # Filter through column ID strings to obtain relevant population data.\n        r = re.compile(\"(SP.POP).[\\d]{2}[A-Z0-9]{2}.[MAFE]{2}$\")\n        col_keys = list(filter(r.match, labels))\n        col_keys\n\n        labels_filtered = {}\n        \n        for key, value in labels.items():\n            if key in col_keys:\n                labels_filtered[key] = value\n        return labels_filtered\n\n    variable_labels = find_labels(indicators_40)\n    return wbdata.get_dataframe(variable_labels)\n",
    "id": "ebeb4a0bff064efa98925a9eebe2979f",
    "idx": 10,
    "time": "2021-02-12T01:12:03.767Z",
    "type": "execution"
   },
   {
    "code": "def population_dataframes(indicators):\n    \"\"\"Returns a pandas DataFrame indexed by Region or Country and Year, \n    with columns giving counts of people in different age-sex groups.\"\"\"\n    \n    def find_labels(indicators):\n        \"\"\"Takes in an indicator object to filter through variable keys and\n        parse through necessary ID's to obtain relevant data. \"\"\"\n        labels = {}\n        for i in range(len(indicators)):\n            col_id = indicators[i]['id']\n            col_name = indicators[i]['name']\n            labels[col_id] = col_name\n\n        # Filter through column ID strings to obtain relevant population data.\n        r = re.compile(\"(SP.POP).[\\d]{2}[A-Z0-9]{2}.[MAFE]{2}$\")\n        col_keys = list(filter(r.match, labels))\n        col_keys\n\n        labels_filtered = {}\n        \n        for key, value in labels.items():\n            if key in col_keys:\n                labels_filtered[key] = value\n        return labels_filtered\n\n    variable_labels = find_labels(indicators_40)\n    return wbdata.get_dataframe(variable_labels)",
    "id": "ebeb4a0bff064efa98925a9eebe2979f",
    "idx": 10,
    "time": "2021-02-12T01:12:06.657Z",
    "type": "execution"
   },
   {
    "code": "pop_df = population_dataframes(indicators_40)\npop_df.head()",
    "id": "84a29857635444118c0d8ac043997a86",
    "idx": 11,
    "time": "2021-02-12T01:12:07.647Z",
    "type": "execution"
   },
   {
    "id": "ebeb4a0bff064efa98925a9eebe2979f",
    "time": "2021-02-12T01:12:08.294Z",
    "type": "completion"
   },
   {
    "id": "ebeb4a0bff064efa98925a9eebe2979f",
    "time": "2021-02-12T01:12:08.294Z",
    "type": "completion"
   },
   {
    "code": "# Change \"date\" index to type INT.\npop_df.index = pop_df.index.set_levels(pop_df.index.levels[1].astype(int), level=1)\n\n# Rename MultiIndex column \"date\" to \"year\"\npop_df = pop_df.rename_axis(index=['country', 'year'])\n\n# Delete 2020 row for every country code\npop_df = pop_df[~pop_df.index.get_level_values('year').isin([2020])]\npop_df.head()",
    "id": "6ed13c09c5834147b7a77a19556aab47",
    "idx": 13,
    "time": "2021-02-12T01:12:08.629Z",
    "type": "execution"
   },
   {
    "id": "84a29857635444118c0d8ac043997a86",
    "time": "2021-02-12T01:12:16.753Z",
    "type": "completion"
   },
   {
    "id": "84a29857635444118c0d8ac043997a86",
    "time": "2021-02-12T01:12:16.753Z",
    "type": "completion"
   },
   {
    "id": "6ed13c09c5834147b7a77a19556aab47",
    "time": "2021-02-12T01:12:16.787Z",
    "type": "completion"
   },
   {
    "code": "def find_labels(indicators):\n        \"\"\"Takes in an indicator object to filter through variable keys and\n        parse through necessary ID's to obtain relevant data. \"\"\"\n        labels = {}\n        for i in range(len(indicators)):\n            col_id = indicators[i]['id']\n            col_name = indicators[i]['name']\n            labels[col_id] = col_name\n\n        # Filter through column ID strings to obtain relevant population data.\n        r = re.compile(\"(SP.POP).[\\d]{2}[A-Z0-9]{2}.[MAFE]{2}$\")\n        col_keys = list(filter(r.match, labels))\n        col_keys\n\n        labels_filtered = {}\n        \n        for key, value in labels.items():\n            if key in col_keys:\n                labels_filtered[key] = value\n        return labels_filtered",
    "id": "465166e4385e464e86e113f980a96dbf",
    "idx": 10,
    "time": "2021-02-12T01:20:31.903Z",
    "type": "execution"
   },
   {
    "id": "465166e4385e464e86e113f980a96dbf",
    "time": "2021-02-12T01:20:31.971Z",
    "type": "completion"
   },
   {
    "code": "def find_labels(indicators):\n        \"\"\"Takes in an indicator object to filter through variable keys and\n        parse through necessary ID's to obtain relevant data. \"\"\"\n        labels = {}\n        for i in range(len(indicators)):\n            col_id = indicators[i]['id']\n            col_name = indicators[i]['name']\n            labels[col_id] = col_name\n\n        # Filter through column ID strings to obtain relevant population data.\n        r = re.compile(\"(SP.POP).[\\d]{2}[A-Z0-9]{2}.[MAFE]{2}$\")\n        col_keys = list(filter(r.match, labels))\n        col_keys\n\n        labels_filtered = {}\n        \n        for key, value in labels.items():\n            if key in col_keys:\n                labels_filtered[key] = value\n        return labels_filtered",
    "id": "465166e4385e464e86e113f980a96dbf",
    "idx": 10,
    "time": "2021-02-12T01:21:17.111Z",
    "type": "execution"
   },
   {
    "id": "465166e4385e464e86e113f980a96dbf",
    "time": "2021-02-12T01:21:17.175Z",
    "type": "completion"
   },
   {
    "code": "def find_labels(indicators):\n        \"\"\"Takes in an indicator object to filter through variable keys and\n        parse through necessary ID's to obtain relevant data. \"\"\"\n        labels = {}\n        for i in range(len(indicators)):\n            col_id = indicators[i]['id']\n            col_name = indicators[i]['name']\n            labels[col_id] = col_name\n\n        # Filter through column ID strings to obtain relevant population data.\n        r = re.compile(\"(SP.POP).[\\d]{2}[A-Z0-9]{2}.[MAFE]{2}$\")\n        col_keys = list(filter(r.match, labels))\n        col_keys\n\n        labels_filtered = {}\n        \n        for key, value in labels.items():\n            if key in col_keys:\n                labels_filtered[key] = value\n        return labels_filtered\n    \nfind_labels(indicators_40)",
    "id": "465166e4385e464e86e113f980a96dbf",
    "idx": 10,
    "time": "2021-02-12T01:21:41.503Z",
    "type": "execution"
   },
   {
    "id": "465166e4385e464e86e113f980a96dbf",
    "time": "2021-02-12T01:21:41.593Z",
    "type": "completion"
   },
   {
    "code": "def find_labels(indicators):\n        \"\"\"Takes in an indicator object to filter through variable keys and\n        parse through necessary ID's to obtain relevant data. \"\"\"\n        labels = {}\n        for i in range(len(indicators)):\n            col_id = indicators[i]['id']\n            col_name = indicators[i]['name']\n            labels[col_id] = col_name\n\n        # Filter through column ID strings to obtain relevant population data.\n        r = re.compile(\"(SP.POP).[\\d]{2}[A-Z0-9]{2}.[MAFE]{2}$\")\n        col_keys = list(filter(r.match, labels))\n        col_keys\n\n        labels_filtered = {}\n        \n        for key, value in labels.items():\n            if key in col_keys:\n                labels_filtered[key] = value\n        return labels_filtered\n    \npop_labels = find_labels(indicators_40)",
    "id": "465166e4385e464e86e113f980a96dbf",
    "idx": 10,
    "time": "2021-02-12T01:21:54.974Z",
    "type": "execution"
   },
   {
    "id": "465166e4385e464e86e113f980a96dbf",
    "time": "2021-02-12T01:21:55.036Z",
    "type": "completion"
   },
   {
    "code": "labels = {}\nfor i in range(len(indicators)):\n    col_id = indicators[i]['id']\n    col_name = indicators[i]['name']\n    labels[col_id] = col_name\n    \ndef find_labels(indicators):\n        \"\"\"Takes in an indicator object to filter through variable keys and\n        parse through necessary ID's to obtain relevant data. \"\"\"\n        # Filter through column ID strings to obtain relevant population data.\n        r = re.compile(\"(SP.POP).[\\d]{2}[A-Z0-9]{2}.[MAFE]{2}$\")\n        col_keys = list(filter(r.match, labels))\n        col_keys\n\n        labels_filtered = {}\n        for key, value in labels.items():\n            if key in col_keys:\n                labels_filtered[key] = value\n        return labels_filtered\n    \npop_labels = find_labels(indicators_40)\n# Add additional labels for total population (male AND female)\ntotals_keys = ['SP.POP.TOTL']\ntotals_values = ['']",
    "id": "465166e4385e464e86e113f980a96dbf",
    "idx": 10,
    "time": "2021-02-12T01:35:46.344Z",
    "type": "execution"
   },
   {
    "id": "465166e4385e464e86e113f980a96dbf",
    "time": "2021-02-12T01:35:46.470Z",
    "type": "completion"
   },
   {
    "code": "labels = {}\nfor i in range(len(indicators_40)):\n    col_id = indicators_40[i]['id']\n    col_name = indicators_40[i]['name']\n    labels[col_id] = col_name\n    \ndef find_labels(indicators):\n        \"\"\"Takes in an indicator object to filter through variable keys and\n        parse through necessary ID's to obtain relevant data. \"\"\"\n        # Filter through column ID strings to obtain relevant population data.\n        r = re.compile(\"(SP.POP).[\\d]{2}[A-Z0-9]{2}.[MAFE]{2}$\")\n        col_keys = list(filter(r.match, labels))\n        col_keys\n\n        labels_filtered = {}\n        for key, value in labels.items():\n            if key in col_keys:\n                labels_filtered[key] = value\n        return labels_filtered\n    \npop_labels = find_labels(indicators_40)\n# Add additional labels for total population (male AND female)\ntotals_keys = ['SP.POP.TOTL']\ntotals_values = ['']",
    "id": "465166e4385e464e86e113f980a96dbf",
    "idx": 10,
    "time": "2021-02-12T01:35:56.677Z",
    "type": "execution"
   },
   {
    "id": "465166e4385e464e86e113f980a96dbf",
    "time": "2021-02-12T01:35:56.741Z",
    "type": "completion"
   },
   {
    "code": "labels",
    "id": "165d37649ef848878b2786c6a48ff72d",
    "idx": 11,
    "time": "2021-02-12T01:36:16.318Z",
    "type": "execution"
   },
   {
    "id": "165d37649ef848878b2786c6a48ff72d",
    "time": "2021-02-12T01:36:16.463Z",
    "type": "completion"
   },
   {
    "code": "labels = {}\nfor i in range(len(indicators_40)):\n    col_id = indicators_40[i]['id']\n    col_name = indicators_40[i]['name']\n    labels[col_id] = col_name\n        \ndef find_labels(indicators):\n    \"\"\"Takes in an indicator object to filter through variable keys and\n    parse through necessary ID's to obtain relevant data. \"\"\"\n        \n    # Filter through column ID strings to obtain relevant population data.\n    r = re.compile(\"(SP.POP).[\\d]{2}[A-Z0-9]{2}.[MAFE]{2}$\")\n    col_keys = list(filter(r.match, labels))\n    print(col_keys)\n\n    labels_filtered = {}\n    for key, value in labels.items():\n        if key in col_keys:\n            labels_filtered[key] = value\n    return labels_filtered\n    \npop_labels = find_labels(indicators_40)\n# Add additional labels for total population (male AND female)\ntotals_keys = ['SP.POP.TOTL']\ntotals_values = ['']",
    "id": "465166e4385e464e86e113f980a96dbf",
    "idx": 10,
    "time": "2021-02-12T01:50:32.699Z",
    "type": "execution"
   },
   {
    "id": "465166e4385e464e86e113f980a96dbf",
    "time": "2021-02-12T01:50:32.797Z",
    "type": "completion"
   },
   {
    "code": "labels = {}\nfor i in range(len(indicators_40)):\n    col_id = indicators_40[i]['id']\n    col_name = indicators_40[i]['name']\n    labels[col_id] = col_name\n        \ndef find_labels(indicators):\n    \"\"\"Takes in an indicator object to filter through variable keys and\n    parse through necessary ID's to obtain relevant data. \"\"\"\n        \n    # Filter through column ID strings to obtain relevant population data.\n    r = re.compile(\"(SP.POP).[\\d]{2}[A-Z0-9]{2}.[MAFE]{2}$\")\n    col_keys = list(filter(r.match, labels))\n    \n    # Add total population column at the end of COL_KEYS\n    col_keys.append('SP.POP.TOTL')\n\n    labels_filtered = {}\n    for key, value in labels.items():\n        if key in col_keys:\n            labels_filtered[key] = value\n    return labels_filtered\n    \npop_labels = find_labels(indicators_40)\n# Add additional labels for total population (male AND female)",
    "id": "465166e4385e464e86e113f980a96dbf",
    "idx": 10,
    "time": "2021-02-12T01:52:05.859Z",
    "type": "execution"
   },
   {
    "id": "465166e4385e464e86e113f980a96dbf",
    "time": "2021-02-12T01:52:05.936Z",
    "type": "completion"
   },
   {
    "code": "def population_dataframes(indicators):\n    \"\"\"Returns a pandas DataFrame indexed by Region or Country and Year, \n    with columns giving counts of people in different age-sex groups.\"\"\"\n    # Create a dictionary of all corresponding ID's and keys in SOURCE 40 from WBDATA\n    labels = {}\n    for i in range(len(indicators)):\n        col_id = indicators[i]['id']\n        col_name = indicators[i]['name']\n        labels[col_id] = col_name\n\n    def find_labels(indicators):\n        \"\"\"Helper function that akes in an indicator object to filter through variable \n        keys and parse through necessary ID's to obtain relevant data. \"\"\"\n        # Filter through column ID strings to obtain relevant population data.\n        r = re.compile(\"(SP.POP).[\\d]{2}[A-Z0-9]{2}.[MAFE]{2}$\")\n        col_keys = list(filter(r.match, labels))\n\n        # Add total population column at the end of COL_KEYS\n        col_keys.append('SP.POP.TOTL')\n\n        labels_filtered = {}\n        for key, value in labels.items():\n            if key in col_keys:\n                labels_filtered[key] = value\n        return labels_filtered\n\n    pop_labels = find_labels(indicators)\n    variable_labels = find_labels(indicators)\n    return wbdata.get_dataframe(variable_labels)",
    "id": "ebeb4a0bff064efa98925a9eebe2979f",
    "idx": 10,
    "time": "2021-02-12T01:54:27.937Z",
    "type": "execution"
   },
   {
    "id": "ebeb4a0bff064efa98925a9eebe2979f",
    "time": "2021-02-12T01:54:28.004Z",
    "type": "completion"
   },
   {
    "code": "def population_dataframes(indicators):\n    \"\"\"Returns a pandas DataFrame indexed by Region or Country and Year, \n    with columns giving counts of people in different age-sex groups.\"\"\"\n    # Create a dictionary of all corresponding ID's and keys in SOURCE 40 from WBDATA\n    labels = {}\n    for i in range(len(indicators)):\n        col_id = indicators[i]['id']\n        col_name = indicators[i]['name']\n        labels[col_id] = col_name\n\n    def find_labels(indicators):\n        \"\"\"Helper function that akes in an indicator object to filter through variable \n        keys and parse through necessary ID's to obtain relevant data. \"\"\"\n        # Filter through column ID strings to obtain relevant population data.\n        r = re.compile(\"(SP.POP).[\\d]{2}[A-Z0-9]{2}.[MAFE]{2}$\")\n        col_keys = list(filter(r.match, labels))\n\n        # Add total population column at the end of COL_KEYS\n        col_keys.append('SP.POP.TOTL')\n\n        labels_filtered = {}\n        for key, value in labels.items():\n            if key in col_keys:\n                labels_filtered[key] = value\n        return labels_filtered\n\n    df_labels = find_labels(indicators)\n    return wbdata.get_dataframe(df_labels)",
    "id": "ebeb4a0bff064efa98925a9eebe2979f",
    "idx": 10,
    "time": "2021-02-12T01:55:29.171Z",
    "type": "execution"
   },
   {
    "id": "ebeb4a0bff064efa98925a9eebe2979f",
    "time": "2021-02-12T01:55:29.233Z",
    "type": "completion"
   },
   {
    "code": "pop_df = population_dataframes(indicators_40)\npop_df.head()",
    "id": "84a29857635444118c0d8ac043997a86",
    "idx": 11,
    "time": "2021-02-12T01:55:30.118Z",
    "type": "execution"
   },
   {
    "code": "# Change \"date\" index to type INT.\npop_df.index = pop_df.index.set_levels(pop_df.index.levels[1].astype(int), level=1)\n\n# Rename MultiIndex column \"date\" to \"year\"\npop_df = pop_df.rename_axis(index=['country', 'year'])\n\n# Delete 2020 row for every country code\npop_df = pop_df[~pop_df.index.get_level_values('year').isin([2020])]\npop_df.head()",
    "id": "6ed13c09c5834147b7a77a19556aab47",
    "idx": 13,
    "time": "2021-02-12T01:55:32.290Z",
    "type": "execution"
   },
   {
    "id": "84a29857635444118c0d8ac043997a86",
    "time": "2021-02-12T01:56:01.117Z",
    "type": "completion"
   },
   {
    "id": "6ed13c09c5834147b7a77a19556aab47",
    "time": "2021-02-12T01:56:01.132Z",
    "type": "completion"
   },
   {
    "code": "def country_pop(pop_df, country):\n    \"\"\"Select population data in POP_DF that belong to a COUNTRY or region\"\"\"\n    return pop_df[pop_df.index.get_level_values('country').isin(['World'])]\n\nworld_df = country_pop(pop_df, \"World\")\nworld_df",
    "id": "f1c929e7577444088a162ca5cae74e1f",
    "idx": 16,
    "time": "2021-02-12T02:31:21.200Z",
    "type": "execution"
   },
   {
    "id": "f1c929e7577444088a162ca5cae74e1f",
    "time": "2021-02-12T02:31:21.731Z",
    "type": "completion"
   },
   {
    "code": "def country_pop(pop_df, country):\n    \"\"\"Select population data in POP_DF that belong to a COUNTRY or region\"\"\"\n    return pop_df[pop_df.index.get_level_values('country').isin(['World'])]\n\n# world_df = country_pop(pop_df, \"World\")\n[col for col in pop_df.columns if 'male' in columns]\n# world_df['Population, total male'] = world",
    "id": "f1c929e7577444088a162ca5cae74e1f",
    "idx": 16,
    "time": "2021-02-12T02:36:56.732Z",
    "type": "execution"
   },
   {
    "id": "f1c929e7577444088a162ca5cae74e1f",
    "time": "2021-02-12T02:36:56.877Z",
    "type": "completion"
   },
   {
    "code": "# Change \"date\" index to type INT.\npop_df.index = pop_df.index.set_levels(pop_df.index.levels[1].astype(int), level=1)\n\n# Rename MultiIndex column \"date\" to \"year\"\npop_df = pop_df.rename_axis(index=['country', 'year'])\n\n# Delete 2020 row for every country code\npop_df = pop_df[~pop_df.index.get_level_values('year').isin([2020])]\npop_df.head()\npop_df.columns",
    "id": "6ed13c09c5834147b7a77a19556aab47",
    "idx": 13,
    "time": "2021-02-12T02:37:05.620Z",
    "type": "execution"
   },
   {
    "id": "6ed13c09c5834147b7a77a19556aab47",
    "time": "2021-02-12T02:37:05.748Z",
    "type": "completion"
   },
   {
    "code": "# Change \"date\" index to type INT.\npop_df.index = pop_df.index.set_levels(pop_df.index.levels[1].astype(int), level=1)\n\n# Rename MultiIndex column \"date\" to \"year\"\npop_df = pop_df.rename_axis(index=['country', 'year'])\n\n# Delete 2020 row for every country code\npop_df = pop_df[~pop_df.index.get_level_values('year').isin([2020])]\npop_df.head()",
    "id": "6ed13c09c5834147b7a77a19556aab47",
    "idx": 13,
    "time": "2021-02-12T02:37:12.219Z",
    "type": "execution"
   },
   {
    "id": "6ed13c09c5834147b7a77a19556aab47",
    "time": "2021-02-12T02:37:12.377Z",
    "type": "completion"
   },
   {
    "code": "def country_pop(pop_df, country):\n    \"\"\"Select population data in POP_DF that belong to a COUNTRY or region\"\"\"\n    return pop_df[pop_df.index.get_level_values('country').isin(['World'])]\n\n# world_df = country_pop(pop_df, \"World\")\n[col for col in pop_df.columns if 'male' in pop_df.columns]\n# world_df['Population, total male'] = world",
    "id": "f1c929e7577444088a162ca5cae74e1f",
    "idx": 16,
    "time": "2021-02-12T02:37:16.289Z",
    "type": "execution"
   },
   {
    "id": "f1c929e7577444088a162ca5cae74e1f",
    "time": "2021-02-12T02:37:16.354Z",
    "type": "completion"
   },
   {
    "code": "def country_pop(pop_df, country):\n    \"\"\"Select population data in POP_DF that belong to a COUNTRY or region\"\"\"\n    return pop_df[pop_df.index.get_level_values('country').isin(['World'])]\n\n# world_df = country_pop(pop_df, \"World\")\n[col for col in pop_df.columns if 'male' in col]\n# world_df['Population, total male'] = world",
    "id": "f1c929e7577444088a162ca5cae74e1f",
    "idx": 16,
    "time": "2021-02-12T02:37:37.170Z",
    "type": "execution"
   },
   {
    "id": "f1c929e7577444088a162ca5cae74e1f",
    "time": "2021-02-12T02:37:37.261Z",
    "type": "completion"
   },
   {
    "code": "def country_pop(pop_df, country):\n    \"\"\"Select population data in POP_DF that belong to a COUNTRY or region\"\"\"\n    return pop_df[pop_df.index.get_level_values('country').isin(['World'])]\n\n# world_df = country_pop(pop_df, \"World\")\n[col for col in pop_df.columns if 'female' in col]\n# world_df['Population, total male'] = world",
    "id": "f1c929e7577444088a162ca5cae74e1f",
    "idx": 16,
    "time": "2021-02-12T02:37:40.940Z",
    "type": "execution"
   },
   {
    "id": "f1c929e7577444088a162ca5cae74e1f",
    "time": "2021-02-12T02:37:41.003Z",
    "type": "completion"
   },
   {
    "code": "def country_pop(pop_df, country):\n    \"\"\"Select population data in POP_DF that belong to a COUNTRY or region\"\"\"\n    return pop_df[pop_df.index.get_level_values('country').isin(['World'])]\n\n# world_df = country_pop(pop_df, \"World\")\ncols_f = [col for col in pop_df.columns if 'female' in col]\ncols_m = [col for col in pop_df.columns if col not in cols_f]\ncols_m\n# world_df['Population, total male'] = world",
    "id": "f1c929e7577444088a162ca5cae74e1f",
    "idx": 16,
    "time": "2021-02-12T02:38:12.349Z",
    "type": "execution"
   },
   {
    "id": "f1c929e7577444088a162ca5cae74e1f",
    "time": "2021-02-12T02:38:12.441Z",
    "type": "completion"
   },
   {
    "code": "def country_pop(pop_df, country):\n    \"\"\"Select population data in POP_DF that belong to a COUNTRY or region\"\"\"\n    return pop_df[pop_df.index.get_level_values('country').isin(['World'])]\n\ncols_f = [col for col in pop_df.columns if 'female' in col]\ncols_m = [col for col in pop_df.columns if col not in cols_f]\n\nworld_df = country_pop(pop_df, \"World\")\nworld_df\n# world_df['Population, total male'] = world",
    "id": "f1c929e7577444088a162ca5cae74e1f",
    "idx": 16,
    "time": "2021-02-12T02:39:45.153Z",
    "type": "execution"
   },
   {
    "id": "f1c929e7577444088a162ca5cae74e1f",
    "time": "2021-02-12T02:39:45.627Z",
    "type": "completion"
   },
   {
    "code": "def country_pop(pop_df, country):\n    \"\"\"Select population data in POP_DF that belong to a COUNTRY or region\"\"\"\n    return pop_df[pop_df.index.get_level_values('country').isin(['World'])]\n\ncols_f = [col for col in pop_df.columns if 'female' in col]\ncols_m = [col for col in pop_df.columns if col not in cols_f]\n\nworld_df = country_pop(pop_df, \"World\")\n#world_df['Population, total female'] = \nworld_df.sum(axis=1)\n# world_df['Population, total male'] = world",
    "id": "f1c929e7577444088a162ca5cae74e1f",
    "idx": 16,
    "time": "2021-02-12T02:41:08.319Z",
    "type": "execution"
   },
   {
    "id": "f1c929e7577444088a162ca5cae74e1f",
    "time": "2021-02-12T02:41:08.410Z",
    "type": "completion"
   },
   {
    "code": "def country_pop(pop_df, country):\n    \"\"\"Select population data in POP_DF that belong to a COUNTRY or region\"\"\"\n    return pop_df[pop_df.index.get_level_values('country').isin(['World'])]\n\ncols_f = [col for col in pop_df.columns if 'female' in col]\ncols_m = [col for col in pop_df.columns if col not in cols_f]\n\nworld_df = country_pop(pop_df, \"World\")\n#world_df['Population, total female'] = \nworld_df[cols_f].sum(axis=1)\n# world_df['Population, total male'] = world",
    "id": "f1c929e7577444088a162ca5cae74e1f",
    "idx": 16,
    "time": "2021-02-12T02:41:24.245Z",
    "type": "execution"
   },
   {
    "id": "f1c929e7577444088a162ca5cae74e1f",
    "time": "2021-02-12T02:41:24.318Z",
    "type": "completion"
   },
   {
    "code": "def country_pop(pop_df, country):\n    \"\"\"Select population data in POP_DF that belong to a COUNTRY or region\"\"\"\n    return pop_df[pop_df.index.get_level_values('country').isin(['World'])]\n\ncols_f = [col for col in pop_df.columns if 'female' in col]\ncols_m = [col for col in pop_df.columns if col not in cols_f]\n\nworld_df = country_pop(pop_df, \"World\")\nworld_df['Population, total female'] = world_df[cols_f].sum(axis=1)\n# world_df['Population, total male'] = world",
    "id": "f1c929e7577444088a162ca5cae74e1f",
    "idx": 16,
    "time": "2021-02-12T02:41:38.114Z",
    "type": "execution"
   },
   {
    "id": "f1c929e7577444088a162ca5cae74e1f",
    "time": "2021-02-12T02:41:38.228Z",
    "type": "completion"
   },
   {
    "code": "def country_pop(pop_df, country):\n    \"\"\"Select population data in POP_DF that belong to a COUNTRY or region\"\"\"\n    return pop_df[pop_df.index.get_level_values('country').isin(['World'])]\n\ncols_f = [col for col in pop_df.columns if 'female' in col]\ncols_m = [col for col in pop_df.columns if col not in cols_f]\n\nworld_df = country_pop(pop_df, \"World\")\n#world_df['Population, total female'] = \nworld_df[cols_f].sum(axis=1)\n# world_df['Population, total male'] = world",
    "id": "f1c929e7577444088a162ca5cae74e1f",
    "idx": 16,
    "time": "2021-02-12T02:41:49.424Z",
    "type": "execution"
   },
   {
    "id": "f1c929e7577444088a162ca5cae74e1f",
    "time": "2021-02-12T02:41:49.503Z",
    "type": "completion"
   },
   {
    "code": "def country_pop(pop_df, country):\n    \"\"\"Select population data in POP_DF that belong to a COUNTRY or region\"\"\"\n    return pop_df[pop_df.index.get_level_values('country').isin(['World'])]\n\ncols_f = [col for col in pop_df.columns if 'female' in col]\ncols_m = [col for col in pop_df.columns if col not in cols_f]\n\nworld_df = country_pop(pop_df, \"World\")\nworld_df['Population, total female'] = world_df[cols_f].sum(axis=1)\n# world_df['Population, total male'] = world",
    "id": "f1c929e7577444088a162ca5cae74e1f",
    "idx": 16,
    "time": "2021-02-12T02:42:12.655Z",
    "type": "execution"
   },
   {
    "id": "f1c929e7577444088a162ca5cae74e1f",
    "time": "2021-02-12T02:42:12.741Z",
    "type": "completion"
   },
   {
    "code": "def country_pop(pop_df, country):\n    \"\"\"Select population data in POP_DF that belong to a COUNTRY or region\"\"\"\n    return pop_df[pop_df.index.get_level_values('country').isin(['World'])]\n\ncols_f = [col for col in pop_df.columns if 'female' in col]\ncols_m = [col for col in pop_df.columns if col not in cols_f]\n\nworld_df = country_pop(pop_df, \"World\")\nworld_df['Population, total female'] = sum(world_df[cols_f])\n# world_df['Population, total male'] = world",
    "id": "f1c929e7577444088a162ca5cae74e1f",
    "idx": 16,
    "time": "2021-02-12T02:42:49.385Z",
    "type": "execution"
   },
   {
    "id": "f1c929e7577444088a162ca5cae74e1f",
    "time": "2021-02-12T02:42:49.499Z",
    "type": "completion"
   },
   {
    "code": "def country_pop(pop_df, country):\n    \"\"\"Select population data in POP_DF that belong to a COUNTRY or region\"\"\"\n    return pop_df[pop_df.index.get_level_values('country').isin(['World'])]\n\ncols_f = [col for col in pop_df.columns if 'female' in col]\ncols_m = [col for col in pop_df.columns if col not in cols_f]\n\nworld_df = country_pop(pop_df, \"World\")\nworld_df['Population, total female'] = world_df.loc[:,cols_f].sum(axis=1)\n# world_df['Population, total male'] = world",
    "id": "f1c929e7577444088a162ca5cae74e1f",
    "idx": 16,
    "time": "2021-02-12T02:43:20.374Z",
    "type": "execution"
   },
   {
    "id": "f1c929e7577444088a162ca5cae74e1f",
    "time": "2021-02-12T02:43:20.456Z",
    "type": "completion"
   },
   {
    "code": "def country_pop(pop_df, country):\n    \"\"\"Select population data in POP_DF that belong to a COUNTRY or region\"\"\"\n    return pop_df[pop_df.index.get_level_values('country').isin(['World'])]\n\ncols_f = [col for col in pop_df.columns if 'female' in col]\ncols_m = [col for col in pop_df.columns if col not in cols_f]\n\nworld_df = country_pop(pop_df, \"World\")\n# world_df['Population, total female'] = \nworld_df.loc[:,cols_f].sum(axis=1)\n# world_df['Population, total male'] = world",
    "id": "f1c929e7577444088a162ca5cae74e1f",
    "idx": 16,
    "time": "2021-02-12T02:43:35.464Z",
    "type": "execution"
   },
   {
    "id": "f1c929e7577444088a162ca5cae74e1f",
    "time": "2021-02-12T02:43:35.560Z",
    "type": "completion"
   },
   {
    "code": "def country_pop(pop_df, country):\n    \"\"\"Select population data in POP_DF that belong to a COUNTRY or region\"\"\"\n    return pop_df[pop_df.index.get_level_values('country').isin(['World'])]\n\ncols_f = [col for col in pop_df.columns if 'female' in col]\ncols_m = [col for col in pop_df.columns if col not in cols_f]\n\nworld_df = country_pop(pop_df, \"World\")\n# world_df['Population, total female'] = \npop_df.loc[:,cols_f].sum(axis=1)\n# world_df['Population, total male'] = world",
    "id": "f1c929e7577444088a162ca5cae74e1f",
    "idx": 16,
    "time": "2021-02-12T02:45:26.316Z",
    "type": "execution"
   },
   {
    "id": "f1c929e7577444088a162ca5cae74e1f",
    "time": "2021-02-12T02:45:26.402Z",
    "type": "completion"
   },
   {
    "code": "def country_pop(pop_df, country):\n    \"\"\"Select population data in POP_DF that belong to a COUNTRY or region\"\"\"\n    return pop_df[pop_df.index.get_level_values('country').isin(['World'])]\n\ncols_f = [col for col in pop_df.columns if 'female' in col]\ncols_m = [col for col in pop_df.columns if col not in cols_f]\n\nworld_df = country_pop(pop_df, \"World\")\n# world_df['Population, total female'] = \npop_df['Population, total female'] = pop_df.loc[:,cols_f].sum(axis=1)\n# world_df['Population, total male'] = world",
    "id": "f1c929e7577444088a162ca5cae74e1f",
    "idx": 16,
    "time": "2021-02-12T02:45:39.496Z",
    "type": "execution"
   },
   {
    "id": "f1c929e7577444088a162ca5cae74e1f",
    "time": "2021-02-12T02:45:39.562Z",
    "type": "completion"
   },
   {
    "code": "def country_pop(pop_df, country):\n    \"\"\"Select population data in POP_DF that belong to a COUNTRY or region\"\"\"\n    return pop_df[pop_df.index.get_level_values('country').isin(['World'])]\n\ncols_f = [col for col in pop_df.columns if 'female' in col]\ncols_m = [col for col in pop_df.columns if col not in cols_f]\n\nworld_df = country_pop(pop_df, \"World\")\n# world_df['Population, total female'] = \npop_df['Population, total female'] = pop_df.loc[:,cols_f].sum(axis=1)\n# world_df['Population, total male'] = world\npop_df",
    "id": "f1c929e7577444088a162ca5cae74e1f",
    "idx": 16,
    "time": "2021-02-12T02:46:07.236Z",
    "type": "execution"
   },
   {
    "id": "f1c929e7577444088a162ca5cae74e1f",
    "time": "2021-02-12T02:46:07.505Z",
    "type": "completion"
   },
   {
    "code": "# Change \"date\" index to type INT.\npop_df.index = pop_df.index.set_levels(pop_df.index.levels[1].astype(int), level=1)\n\n# Rename MultiIndex column \"date\" to \"year\"\npop_df = pop_df.rename_axis(index=['country', 'year'])\n\n# Delete 2020 row for every country code\npop_df = pop_df[~pop_df.index.get_level_values('year').isin([2020])]\n\n# Add population total breakdowns for male and female\npop_df['Population, total female'] = pop_df.loc[:,cols_f].sum(axis=1)\npop_df['Population, total male'] = pop_df.loc[:, cols_m].sum(axis=1)\npop_df.head()",
    "id": "6ed13c09c5834147b7a77a19556aab47",
    "idx": 13,
    "time": "2021-02-12T02:47:01.488Z",
    "type": "execution"
   },
   {
    "id": "6ed13c09c5834147b7a77a19556aab47",
    "time": "2021-02-12T02:47:01.652Z",
    "type": "completion"
   },
   {
    "code": "def country_pop(pop_df, country):\n    \"\"\"Takes in a population DataFrame and selects population \n    data for a specific country/region\"\"\"\n    return pop_df[pop_df.index.get_level_values('country').isin(['World'])]\n\ncols_f = [col for col in pop_df.columns if 'female' in col]\ncols_m = [col for col in pop_df.columns if col not in cols_f]\n\nworld_df = country_pop(pop_df, \"World\")\nworld_df",
    "id": "f1c929e7577444088a162ca5cae74e1f",
    "idx": 16,
    "time": "2021-02-12T02:47:53.949Z",
    "type": "execution"
   },
   {
    "id": "f1c929e7577444088a162ca5cae74e1f",
    "time": "2021-02-12T02:47:54.423Z",
    "type": "completion"
   },
   {
    "code": "def country_pop(pop_df, country):\n    \"\"\"Takes in a population DataFrame and selects population \n    data for a specific country/region\"\"\"\n    return pop_df[pop_df.index.get_level_values('country').isin(['World'])]\n\ncols_f = [col for col in pop_df.columns if 'female' in col]\ncols_m = [col for col in pop_df.columns if col not in cols_f]\n\nworld_df = country_pop(pop_df, \"World\")\nworld_df.head()",
    "id": "f1c929e7577444088a162ca5cae74e1f",
    "idx": 16,
    "time": "2021-02-12T02:48:03.125Z",
    "type": "execution"
   },
   {
    "id": "f1c929e7577444088a162ca5cae74e1f",
    "time": "2021-02-12T02:48:03.271Z",
    "type": "completion"
   },
   {
    "code": "pop_df.isnull().sum()",
    "id": "7dcc50dbeeda4ce38a88d2fb4caac9a2",
    "idx": 14,
    "time": "2021-02-12T02:50:31.799Z",
    "type": "execution"
   },
   {
    "id": "7dcc50dbeeda4ce38a88d2fb4caac9a2",
    "time": "2021-02-12T02:50:31.898Z",
    "type": "completion"
   },
   {
    "code": "pop_df.isnull()",
    "id": "7dcc50dbeeda4ce38a88d2fb4caac9a2",
    "idx": 14,
    "time": "2021-02-12T02:50:42.040Z",
    "type": "execution"
   },
   {
    "id": "7dcc50dbeeda4ce38a88d2fb4caac9a2",
    "time": "2021-02-12T02:50:42.224Z",
    "type": "completion"
   },
   {
    "code": "# Change \"date\" index to type INT.\npop_df.index = pop_df.index.set_levels(pop_df.index.levels[1].astype(int), level=1)\n\n# Rename MultiIndex column \"date\" to \"year\"\npop_df = pop_df.rename_axis(index=['country', 'year'])\n\n# Delete 2020 row for every country code\npop_df = pop_df[~pop_df.index.get_level_values('year').isin([2020])]\n\n# Add population total breakdowns for male and female\ncols_f = [col for col in pop_df.columns if 'female' in col]\ncols_m = [col for col in pop_df.columns if col not in cols_f]\npop_df['Population, total female'] = pop_df.loc[:,cols_f].sum(axis=1)\npop_df['Population, total male'] = pop_df.loc[:, cols_m].sum(axis=1)\npop_df.head()",
    "id": "6ed13c09c5834147b7a77a19556aab47",
    "idx": 13,
    "time": "2021-02-12T02:52:23.264Z",
    "type": "execution"
   },
   {
    "id": "6ed13c09c5834147b7a77a19556aab47",
    "time": "2021-02-12T02:52:23.405Z",
    "type": "completion"
   },
   {
    "code": "world_df.columns[-1]",
    "id": "48fdea99414c4cde9ff74d40455a0357",
    "idx": 17,
    "time": "2021-02-12T02:53:23.840Z",
    "type": "execution"
   },
   {
    "id": "48fdea99414c4cde9ff74d40455a0357",
    "time": "2021-02-12T02:53:23.925Z",
    "type": "completion"
   },
   {
    "code": "# Create axis labels for age brackets\nworld_df.columns",
    "id": "48fdea99414c4cde9ff74d40455a0357",
    "idx": 17,
    "time": "2021-02-12T02:55:08.981Z",
    "type": "execution"
   },
   {
    "id": "48fdea99414c4cde9ff74d40455a0357",
    "time": "2021-02-12T02:55:09.098Z",
    "type": "completion"
   },
   {
    "code": "# Create axis labels for age brackets\nlist(world_df.columns)",
    "id": "48fdea99414c4cde9ff74d40455a0357",
    "idx": 17,
    "time": "2021-02-12T02:55:20.890Z",
    "type": "execution"
   },
   {
    "id": "48fdea99414c4cde9ff74d40455a0357",
    "time": "2021-02-12T02:55:20.949Z",
    "type": "completion"
   },
   {
    "code": "# Create axis labels for age brackets\nlist(world_df.columns)[2::]:\n    ",
    "id": "48fdea99414c4cde9ff74d40455a0357",
    "idx": 17,
    "time": "2021-02-12T02:56:13.261Z",
    "type": "execution"
   },
   {
    "id": "48fdea99414c4cde9ff74d40455a0357",
    "time": "2021-02-12T02:56:13.355Z",
    "type": "completion"
   },
   {
    "code": "# Create axis labels for age brackets\nlist(world_df.columns)[::]\n    ",
    "id": "48fdea99414c4cde9ff74d40455a0357",
    "idx": 17,
    "time": "2021-02-12T02:56:17.011Z",
    "type": "execution"
   },
   {
    "id": "48fdea99414c4cde9ff74d40455a0357",
    "time": "2021-02-12T02:56:17.074Z",
    "type": "completion"
   },
   {
    "code": "# Create axis labels for age brackets\nlist(world_df.columns)[0::]\n",
    "id": "48fdea99414c4cde9ff74d40455a0357",
    "idx": 17,
    "time": "2021-02-12T02:56:22.271Z",
    "type": "execution"
   },
   {
    "id": "48fdea99414c4cde9ff74d40455a0357",
    "time": "2021-02-12T02:56:22.372Z",
    "type": "completion"
   },
   {
    "code": "# Create axis labels for age brackets\nlist(world_df.columns)[2::]",
    "id": "48fdea99414c4cde9ff74d40455a0357",
    "idx": 17,
    "time": "2021-02-12T02:56:26.661Z",
    "type": "execution"
   },
   {
    "id": "48fdea99414c4cde9ff74d40455a0357",
    "time": "2021-02-12T02:56:26.744Z",
    "type": "completion"
   },
   {
    "code": "# Create axis labels for age brackets\nlist(world_df.columns)[:2:]",
    "id": "48fdea99414c4cde9ff74d40455a0357",
    "idx": 17,
    "time": "2021-02-12T02:56:29.311Z",
    "type": "execution"
   },
   {
    "id": "48fdea99414c4cde9ff74d40455a0357",
    "time": "2021-02-12T02:56:29.403Z",
    "type": "completion"
   },
   {
    "code": "# Create axis labels for age brackets\nlist(world_df.columns)[::2]",
    "id": "48fdea99414c4cde9ff74d40455a0357",
    "idx": 17,
    "time": "2021-02-12T02:56:39.662Z",
    "type": "execution"
   },
   {
    "id": "48fdea99414c4cde9ff74d40455a0357",
    "time": "2021-02-12T02:56:39.726Z",
    "type": "completion"
   },
   {
    "code": "# Create axis labels for age brackets\nageGroups = []\nfor col in list(world_df.columns)[::2]:\n    ageGroups += col[16:21]\nageGroups",
    "id": "48fdea99414c4cde9ff74d40455a0357",
    "idx": 17,
    "time": "2021-02-12T02:59:13.263Z",
    "type": "execution"
   },
   {
    "id": "48fdea99414c4cde9ff74d40455a0357",
    "time": "2021-02-12T02:59:13.386Z",
    "type": "completion"
   },
   {
    "code": "# Create axis labels for age brackets\nageGroups = []\nfor col in list(world_df.columns)[::2]:\n    ageGroups += col[16:21]\nworld_df.columns[::2]",
    "id": "48fdea99414c4cde9ff74d40455a0357",
    "idx": 17,
    "time": "2021-02-12T02:59:44.463Z",
    "type": "execution"
   },
   {
    "id": "48fdea99414c4cde9ff74d40455a0357",
    "time": "2021-02-12T02:59:44.529Z",
    "type": "completion"
   },
   {
    "code": "# Create axis labels for age brackets\nageGroups = []\nfor col in list(world_df.columns)[::2]:\n    ageGroups += col[16:21]\nworld_df.columns[::2][16:21]",
    "id": "48fdea99414c4cde9ff74d40455a0357",
    "idx": 17,
    "time": "2021-02-12T02:59:54.705Z",
    "type": "execution"
   },
   {
    "id": "48fdea99414c4cde9ff74d40455a0357",
    "time": "2021-02-12T02:59:54.799Z",
    "type": "completion"
   },
   {
    "code": "# Create axis labels for age brackets\nageGroups = []\nfor col in list(world_df.columns)[::2]:\n    ageGroups += col[16:21]\nworld_df.columns[::2]",
    "id": "48fdea99414c4cde9ff74d40455a0357",
    "idx": 17,
    "time": "2021-02-12T02:59:58.593Z",
    "type": "execution"
   },
   {
    "id": "48fdea99414c4cde9ff74d40455a0357",
    "time": "2021-02-12T02:59:58.659Z",
    "type": "completion"
   },
   {
    "code": "# Create axis labels for age brackets\nageGroups = []\nfor col in list(world_df.columns)[::2]:\n    ageGroups += col[16:21]\nworld_df.columns[::2][0]",
    "id": "48fdea99414c4cde9ff74d40455a0357",
    "idx": 17,
    "time": "2021-02-12T03:00:06.874Z",
    "type": "execution"
   },
   {
    "id": "48fdea99414c4cde9ff74d40455a0357",
    "time": "2021-02-12T03:00:06.961Z",
    "type": "completion"
   },
   {
    "code": "# Create axis labels for age brackets\nageGroups = []\nfor col in list(world_df.columns)[::2]:\n    ageGroups += col[16:21]\nworld_df.columns[::2][0][16:21]",
    "id": "48fdea99414c4cde9ff74d40455a0357",
    "idx": 17,
    "time": "2021-02-12T03:00:15.343Z",
    "type": "execution"
   },
   {
    "id": "48fdea99414c4cde9ff74d40455a0357",
    "time": "2021-02-12T03:00:15.409Z",
    "type": "completion"
   },
   {
    "code": "# Create axis labels for age brackets\nageGroups = []\nfor col in list(world_df.columns)[::2]:\n    ageGroups.append(col[16:21])\nageGroups",
    "id": "48fdea99414c4cde9ff74d40455a0357",
    "idx": 17,
    "time": "2021-02-12T03:00:29.754Z",
    "type": "execution"
   },
   {
    "id": "48fdea99414c4cde9ff74d40455a0357",
    "time": "2021-02-12T03:00:29.848Z",
    "type": "completion"
   },
   {
    "code": "# Create axis labels for age brackets\nageGroups = []\nfor col in list(world_df.columns)[::2]:\n    ageGroups.append(col[16:21])\nageGroups = ageGroups[-2:]",
    "id": "48fdea99414c4cde9ff74d40455a0357",
    "idx": 17,
    "time": "2021-02-12T03:01:04.083Z",
    "type": "execution"
   },
   {
    "id": "48fdea99414c4cde9ff74d40455a0357",
    "time": "2021-02-12T03:01:04.143Z",
    "type": "completion"
   },
   {
    "code": "# Create axis labels for age brackets\nageGroups = []\nfor col in list(world_df.columns)[::2]:\n    ageGroups.append(col[16:21])\nageGroups = ageGroups[-2:]\nageGroups",
    "id": "48fdea99414c4cde9ff74d40455a0357",
    "idx": 17,
    "time": "2021-02-12T03:01:07.573Z",
    "type": "execution"
   },
   {
    "id": "48fdea99414c4cde9ff74d40455a0357",
    "time": "2021-02-12T03:01:10.071Z",
    "type": "completion"
   },
   {
    "code": "# Create axis labels for age brackets\nageGroups = []\nfor col in list(world_df.columns)[::2]:\n    ageGroups.append(col[16:21])\nageGroups = ageGroups[:-2]\nageGroups",
    "id": "48fdea99414c4cde9ff74d40455a0357",
    "idx": 17,
    "time": "2021-02-12T03:01:13.503Z",
    "type": "execution"
   },
   {
    "id": "48fdea99414c4cde9ff74d40455a0357",
    "time": "2021-02-12T03:01:13.568Z",
    "type": "completion"
   },
   {
    "code": "# Create axis labels for age brackets\nageGroups = []\nfor col in list(world_df.columns)[::2]:\n    ageGroups.append(col[16:21])\nageGroups = ageGroups[:-2]\nageGroups.pop()",
    "id": "48fdea99414c4cde9ff74d40455a0357",
    "idx": 17,
    "time": "2021-02-12T03:01:28.513Z",
    "type": "execution"
   },
   {
    "id": "48fdea99414c4cde9ff74d40455a0357",
    "time": "2021-02-12T03:01:28.631Z",
    "type": "completion"
   },
   {
    "code": "# Create axis labels for age brackets\nageGroups = []\nfor col in list(world_df.columns)[::2]:\n    ageGroups.append(col[16:21])\nageGroups = ageGroups[:-2]\nageGroups",
    "id": "48fdea99414c4cde9ff74d40455a0357",
    "idx": 17,
    "time": "2021-02-12T03:01:31.303Z",
    "type": "execution"
   },
   {
    "id": "48fdea99414c4cde9ff74d40455a0357",
    "time": "2021-02-12T03:01:31.371Z",
    "type": "completion"
   },
   {
    "code": "# Create axis labels for age brackets\nageGroups = []\nfor col in list(world_df.columns)[::2]:\n    ageGroups.append(col[16:21])\nageGroups = ageGroups[:-3]\nageGroups",
    "id": "48fdea99414c4cde9ff74d40455a0357",
    "idx": 17,
    "time": "2021-02-12T03:01:38.815Z",
    "type": "execution"
   },
   {
    "id": "48fdea99414c4cde9ff74d40455a0357",
    "time": "2021-02-12T03:01:38.877Z",
    "type": "completion"
   },
   {
    "code": "# Create axis labels for age brackets\n\nageGroups = [col[16:21] for col in world_df.columns[::2]]\nageGroups = ageGroups[:-3]\nageGroups.append('80+')",
    "id": "48fdea99414c4cde9ff74d40455a0357",
    "idx": 17,
    "time": "2021-02-12T03:02:40.384Z",
    "type": "execution"
   },
   {
    "id": "48fdea99414c4cde9ff74d40455a0357",
    "time": "2021-02-12T03:02:40.444Z",
    "type": "completion"
   },
   {
    "code": "# Create axis labels for age brackets\n\nageGroups = [col[16:21] for col in world_df.columns[::2]]\nageGroups = ageGroups[:-3]\nageGroups",
    "id": "48fdea99414c4cde9ff74d40455a0357",
    "idx": 17,
    "time": "2021-02-12T03:02:45.214Z",
    "type": "execution"
   },
   {
    "id": "48fdea99414c4cde9ff74d40455a0357",
    "time": "2021-02-12T03:02:45.275Z",
    "type": "completion"
   },
   {
    "code": "# Create axis labels for age brackets\n\nageGroups = [col[16:21] for col in world_df.columns[::2]]\nageGroups = ageGroups[:-3]\nageGroups.append('80+')",
    "id": "48fdea99414c4cde9ff74d40455a0357",
    "idx": 17,
    "time": "2021-02-12T03:02:50.664Z",
    "type": "execution"
   },
   {
    "id": "48fdea99414c4cde9ff74d40455a0357",
    "time": "2021-02-12T03:02:50.721Z",
    "type": "completion"
   },
   {
    "code": "# Create axis labels for age brackets\n\nageGroups = [col[16:21] for col in world_df.columns[::2]]\nageGroups = ageGroups[:-3]\nageGroups.append('80+')\nageGroups",
    "id": "48fdea99414c4cde9ff74d40455a0357",
    "idx": 17,
    "time": "2021-02-12T03:02:53.555Z",
    "type": "execution"
   },
   {
    "id": "48fdea99414c4cde9ff74d40455a0357",
    "time": "2021-02-12T03:02:53.615Z",
    "type": "completion"
   },
   {
    "code": "def country_pop(pop_df, country):\n    \"\"\"Takes in a population DataFrame and selects population \n    data for a specific country/region\"\"\"\n    return pop_df[pop_df.index.get_level_values('country').isin(['World'])]\n\nworld_df = country_pop(pop_df, \"World\")\nworld_d.index.get_level_values('year').isin(['2019'])",
    "id": "f1c929e7577444088a162ca5cae74e1f",
    "idx": 16,
    "time": "2021-02-12T03:08:49.423Z",
    "type": "execution"
   },
   {
    "id": "f1c929e7577444088a162ca5cae74e1f",
    "time": "2021-02-12T03:08:49.516Z",
    "type": "completion"
   },
   {
    "code": "def country_pop(pop_df, country):\n    \"\"\"Takes in a population DataFrame and selects population \n    data for a specific country/region\"\"\"\n    return pop_df[pop_df.index.get_level_values('country').isin(['World'])]\n\nworld_df = country_pop(pop_df, \"World\")\nworld_df.index.get_level_values('year').isin(['2019'])",
    "id": "f1c929e7577444088a162ca5cae74e1f",
    "idx": 16,
    "time": "2021-02-12T03:08:52.287Z",
    "type": "execution"
   },
   {
    "id": "f1c929e7577444088a162ca5cae74e1f",
    "time": "2021-02-12T03:08:52.355Z",
    "type": "completion"
   },
   {
    "code": "def country_pop(pop_df, country):\n    \"\"\"Takes in a population DataFrame and selects population \n    data for a specific country/region\"\"\"\n    return pop_df[pop_df.index.get_level_values('country').isin(['World'])]\n\nworld_df = country_pop(pop_df, \"World\")\nworld_df[world_df.index.get_level_values('year').isin(['2019'])]",
    "id": "f1c929e7577444088a162ca5cae74e1f",
    "idx": 16,
    "time": "2021-02-12T03:09:05.307Z",
    "type": "execution"
   },
   {
    "id": "f1c929e7577444088a162ca5cae74e1f",
    "time": "2021-02-12T03:09:05.426Z",
    "type": "completion"
   },
   {
    "code": "def country_pop(pop_df, country):\n    \"\"\"Takes in a population DataFrame and selects population \n    data for a specific country/region\"\"\"\n    return pop_df[pop_df.index.get_level_values('country').isin(['World'])]\n\nworld_df = country_pop(pop_df, \"World\")\nworld_df[world_df.index.get_level_values('year').isin([2019])]",
    "id": "f1c929e7577444088a162ca5cae74e1f",
    "idx": 16,
    "time": "2021-02-12T03:09:19.427Z",
    "type": "execution"
   },
   {
    "id": "f1c929e7577444088a162ca5cae74e1f",
    "time": "2021-02-12T03:09:19.557Z",
    "type": "completion"
   },
   {
    "code": "def country_pop(pop_df, country):\n    \"\"\"Takes in a population DataFrame and selects population \n    data for a specific country/region\"\"\"\n    return pop_df[pop_df.index.get_level_values('country').isin(['World'])]\n\nworld_df = country_pop(pop_df, \"World\")\nworld_df[world_df.index.get_level_values('year').isin([2019])]\nworld_df.plot()",
    "id": "f1c929e7577444088a162ca5cae74e1f",
    "idx": 16,
    "time": "2021-02-12T03:09:37.298Z",
    "type": "execution"
   },
   {
    "id": "f1c929e7577444088a162ca5cae74e1f",
    "time": "2021-02-12T03:09:38.412Z",
    "type": "completion"
   },
   {
    "code": "def country_pop(pop_df, country):\n    \"\"\"Takes in a population DataFrame and selects population \n    data for a specific country/region\"\"\"\n    return pop_df[pop_df.index.get_level_values('country').isin(['World'])]\n\nworld_df = country_pop(pop_df, \"World\")\nworld_df[world_df.index.get_level_values('year').isin([2019])]\nworld_df",
    "id": "f1c929e7577444088a162ca5cae74e1f",
    "idx": 16,
    "time": "2021-02-12T03:09:45.880Z",
    "type": "execution"
   },
   {
    "id": "f1c929e7577444088a162ca5cae74e1f",
    "time": "2021-02-12T03:09:46.293Z",
    "type": "completion"
   },
   {
    "code": "def country_pop(pop_df, country):\n    \"\"\"Takes in a population DataFrame and selects population \n    data for a specific country/region\"\"\"\n    return pop_df[pop_df.index.get_level_values('country').isin(['World'])]\n\nworld_df = country_pop(pop_df, \"World\")\nworld_df[world_df.index.get_level_values('year').isin([2019])]",
    "id": "f1c929e7577444088a162ca5cae74e1f",
    "idx": 16,
    "time": "2021-02-12T03:09:52.685Z",
    "type": "execution"
   },
   {
    "id": "f1c929e7577444088a162ca5cae74e1f",
    "time": "2021-02-12T03:09:52.836Z",
    "type": "completion"
   },
   {
    "code": "def country_pop(pop_df, country, year):\n    \"\"\"Takes in a population DataFrame and selects population \n    data for a specific country/region\"\"\"\n    return pop_df[pop_df.index.get_level_values('country').isin(['World']) and [world_df.index.get_level_values('year').isin([year])]\n\nworld_df = country_pop(pop_df, \"World\")\nworld_df",
    "id": "f1c929e7577444088a162ca5cae74e1f",
    "idx": 16,
    "time": "2021-02-12T03:10:34.759Z",
    "type": "execution"
   },
   {
    "id": "f1c929e7577444088a162ca5cae74e1f",
    "time": "2021-02-12T03:10:34.821Z",
    "type": "completion"
   },
   {
    "code": "def country_pop(pop_df, country, year):\n    \"\"\"Takes in a population DataFrame and selects population \n    data for a specific country/region\"\"\"\n    return pop_df[pop_df.index.get_level_values('country').isin(['World']) and [world_df.index.get_level_values('year').isin([year])]]\n\nworld_df = country_pop(pop_df, \"World\")\nworld_df",
    "id": "f1c929e7577444088a162ca5cae74e1f",
    "idx": 16,
    "time": "2021-02-12T03:10:42.468Z",
    "type": "execution"
   },
   {
    "id": "f1c929e7577444088a162ca5cae74e1f",
    "time": "2021-02-12T03:10:42.537Z",
    "type": "completion"
   },
   {
    "code": "def country_pop(pop_df, country, year):\n    \"\"\"Takes in a population DataFrame and selects population \n    data for a specific country/region\"\"\"\n    return pop_df[pop_df.index.get_level_values('country').isin(['World']) and [world_df.index.get_level_values('year').isin([year])]]\n\nworld_df = country_pop(pop_df, \"World\", 2019)\nworld_df",
    "id": "f1c929e7577444088a162ca5cae74e1f",
    "idx": 16,
    "time": "2021-02-12T03:10:50.018Z",
    "type": "execution"
   },
   {
    "id": "f1c929e7577444088a162ca5cae74e1f",
    "time": "2021-02-12T03:10:50.131Z",
    "type": "completion"
   },
   {
    "code": "def country_pop(pop_df, country, year):\n    \"\"\"Takes in a population DataFrame and selects population \n    data for a specific country/region\"\"\"\n    return pop_df[pop_df.index.get_level_values('country').isin(['World'])]\n\nworld_df = country_pop(pop_df, \"World\")\nworld_df[world_df.index.get_level_values('year').isin([2019])",
    "id": "f1c929e7577444088a162ca5cae74e1f",
    "idx": 16,
    "time": "2021-02-12T03:11:11.528Z",
    "type": "execution"
   },
   {
    "id": "f1c929e7577444088a162ca5cae74e1f",
    "time": "2021-02-12T03:11:11.594Z",
    "type": "completion"
   },
   {
    "code": "def country_pop(pop_df, country, year):\n    \"\"\"Takes in a population DataFrame and selects population \n    data for a specific country/region\"\"\"\n    return pop_df[pop_df.index.get_level_values('country').isin(['World'])]\n\nworld_df = country_pop(pop_df, \"World\")\nworld_df[world_df.index.get_level_values('year').isin([2019])]",
    "id": "f1c929e7577444088a162ca5cae74e1f",
    "idx": 16,
    "time": "2021-02-12T03:11:13.708Z",
    "type": "execution"
   },
   {
    "id": "f1c929e7577444088a162ca5cae74e1f",
    "time": "2021-02-12T03:11:13.806Z",
    "type": "completion"
   },
   {
    "code": "def country_pop(pop_df, country):\n    \"\"\"Takes in a population DataFrame and selects population \n    data for a specific country/region\"\"\"\n    return pop_df[pop_df.index.get_level_values('country').isin(['World'])]\n\nworld_df = country_pop(pop_df, \"World\")\nworld_df[world_df.index.get_level_values('year').isin([2019])]",
    "id": "f1c929e7577444088a162ca5cae74e1f",
    "idx": 16,
    "time": "2021-02-12T03:11:17.828Z",
    "type": "execution"
   },
   {
    "id": "f1c929e7577444088a162ca5cae74e1f",
    "time": "2021-02-12T03:11:17.957Z",
    "type": "completion"
   },
   {
    "code": "def country_pop(pop_df, country):\n    \"\"\"Takes in a population DataFrame and selects population \n    data for a specific country/region\"\"\"\n    return pop_df[pop_df.index.get_level_values('country').isin(['World'])]\n\nworld_df = country_pop(pop_df, \"World\")\nworld_df[world_df.index.get_level_values('year').isin([2019])]\nworld_df.iloc[::-1]",
    "id": "f1c929e7577444088a162ca5cae74e1f",
    "idx": 16,
    "time": "2021-02-12T03:12:01.181Z",
    "type": "execution"
   },
   {
    "id": "f1c929e7577444088a162ca5cae74e1f",
    "time": "2021-02-12T03:12:01.652Z",
    "type": "completion"
   },
   {
    "code": "def country_pop(pop_df, country):\n    \"\"\"Takes in a population DataFrame and selects population \n    data for a specific country/region\"\"\"\n    return pop_df[pop_df.index.get_level_values('country').isin(['World'])]\n\nworld_df = country_pop(pop_df, \"World\")\nworld_df world_df[world_df.index.get_level_values('year').isin([2019])]\nworld_df.iloc[::-1]",
    "id": "f1c929e7577444088a162ca5cae74e1f",
    "idx": 16,
    "time": "2021-02-12T03:12:16.927Z",
    "type": "execution"
   },
   {
    "id": "f1c929e7577444088a162ca5cae74e1f",
    "time": "2021-02-12T03:12:17.020Z",
    "type": "completion"
   },
   {
    "code": "def country_pop(pop_df, country):\n    \"\"\"Takes in a population DataFrame and selects population \n    data for a specific country/region\"\"\"\n    return pop_df[pop_df.index.get_level_values('country').isin(['World'])]\n\nworld_df = country_pop(pop_df, \"World\")\nworld_df =  world_df[world_df.index.get_level_values('year').isin([2019])]\nworld_df.iloc[::-1]",
    "id": "f1c929e7577444088a162ca5cae74e1f",
    "idx": 16,
    "time": "2021-02-12T03:12:25.339Z",
    "type": "execution"
   },
   {
    "id": "f1c929e7577444088a162ca5cae74e1f",
    "time": "2021-02-12T03:12:25.462Z",
    "type": "completion"
   },
   {
    "code": "def country_pop(pop_df, country):\n    \"\"\"Takes in a population DataFrame and selects population \n    data for a specific country/region\"\"\"\n    return pop_df[pop_df.index.get_level_values('country').isin(['World'])]\n\nworld_df = country_pop(pop_df, \"World\")\nworld_df =  world_df[world_df.index.get_level_values('year').isin([2019])]\nworld_df.T",
    "id": "f1c929e7577444088a162ca5cae74e1f",
    "idx": 16,
    "time": "2021-02-12T03:13:20.979Z",
    "type": "execution"
   },
   {
    "id": "f1c929e7577444088a162ca5cae74e1f",
    "time": "2021-02-12T03:13:21.129Z",
    "type": "completion"
   },
   {
    "code": "def country_pop(pop_df, country):\n    \"\"\"Takes in a population DataFrame and selects population \n    data for a specific country/region\"\"\"\n    return pop_df[pop_df.index.get_level_values('country').isin(['World'])]\n\nworld_df = country_pop(pop_df, \"World\")\nworld_df =  world_df[world_df.index.get_level_values('year').isin([2019])]\nworld_df.T.columns",
    "id": "f1c929e7577444088a162ca5cae74e1f",
    "idx": 16,
    "time": "2021-02-12T03:13:29.320Z",
    "type": "execution"
   },
   {
    "id": "f1c929e7577444088a162ca5cae74e1f",
    "time": "2021-02-12T03:13:29.384Z",
    "type": "completion"
   },
   {
    "code": "def country_pop(pop_df, country):\n    \"\"\"Takes in a population DataFrame and selects population \n    data for a specific country/region\"\"\"\n    return pop_df[pop_df.index.get_level_values('country').isin(['World'])]\n\nworld_df = country_pop(pop_df, \"World\")\nworld_df =  world_df[world_df.index.get_level_values('year').isin([2019])]\nworld_df.T",
    "id": "f1c929e7577444088a162ca5cae74e1f",
    "idx": 16,
    "time": "2021-02-12T03:13:41.309Z",
    "type": "execution"
   },
   {
    "id": "f1c929e7577444088a162ca5cae74e1f",
    "time": "2021-02-12T03:13:41.390Z",
    "type": "completion"
   },
   {
    "code": "def country_pop(pop_df, country):\n    \"\"\"Takes in a population DataFrame and selects population \n    data for a specific country/region\"\"\"\n    return pop_df[pop_df.index.get_level_values('country').isin(['World'])]\n\nworld_df = country_pop(pop_df, \"World\")\nworld_df =  world_df[world_df.index.get_level_values('year').isin([2019])]\nworld_df.T.columns",
    "id": "f1c929e7577444088a162ca5cae74e1f",
    "idx": 16,
    "time": "2021-02-12T03:13:47.110Z",
    "type": "execution"
   },
   {
    "id": "f1c929e7577444088a162ca5cae74e1f",
    "time": "2021-02-12T03:13:47.179Z",
    "type": "completion"
   },
   {
    "code": "def country_pop(pop_df, country):\n    \"\"\"Takes in a population DataFrame and selects population \n    data for a specific country/region\"\"\"\n    return pop_df[pop_df.index.get_level_values('country').isin(['World'])]\n\nworld_df = country_pop(pop_df, \"World\")\nworld_df =  world_df[world_df.index.get_level_values('year').isin([2019])]\nworld_df.T.index",
    "id": "f1c929e7577444088a162ca5cae74e1f",
    "idx": 16,
    "time": "2021-02-12T03:13:51.559Z",
    "type": "execution"
   },
   {
    "id": "f1c929e7577444088a162ca5cae74e1f",
    "time": "2021-02-12T03:13:51.624Z",
    "type": "completion"
   },
   {
    "code": "def country_pop(pop_df, country):\n    \"\"\"Takes in a population DataFrame and selects population \n    data for a specific country/region\"\"\"\n    return pop_df[pop_df.index.get_level_values('country').isin(['World'])]\n\nworld_df = country_pop(pop_df, \"World\")\nworld_df =  world_df[world_df.index.get_level_values('year').isin([2019])]\nworld_df.T",
    "id": "f1c929e7577444088a162ca5cae74e1f",
    "idx": 16,
    "time": "2021-02-12T03:13:56.229Z",
    "type": "execution"
   },
   {
    "id": "f1c929e7577444088a162ca5cae74e1f",
    "time": "2021-02-12T03:13:56.369Z",
    "type": "completion"
   },
   {
    "code": "def country_pop(pop_df, country):\n    \"\"\"Takes in a population DataFrame and selects population \n    data for a specific country/region\"\"\"\n    return pop_df[pop_df.index.get_level_values('country').isin(['World'])]\n\nworld_df = country_pop(pop_df, \"World\")\nworld_df =  world_df[world_df.index.get_level_values('year').isin([2019])]\nworld_df.T.columns",
    "id": "f1c929e7577444088a162ca5cae74e1f",
    "idx": 16,
    "time": "2021-02-12T03:14:09.730Z",
    "type": "execution"
   },
   {
    "id": "f1c929e7577444088a162ca5cae74e1f",
    "time": "2021-02-12T03:14:09.797Z",
    "type": "completion"
   },
   {
    "code": "def country_pop(pop_df, country):\n    \"\"\"Takes in a population DataFrame and selects population \n    data for a specific country/region\"\"\"\n    return pop_df[pop_df.index.get_level_values('country').isin(['World'])]\n\nworld_df = country_pop(pop_df, \"World\")\nworld_df =  world_df[world_df.index.get_level_values('year').isin([2019])]\nworld_df.T",
    "id": "f1c929e7577444088a162ca5cae74e1f",
    "idx": 16,
    "time": "2021-02-12T03:27:02.991Z",
    "type": "execution"
   },
   {
    "id": "f1c929e7577444088a162ca5cae74e1f",
    "time": "2021-02-12T03:27:03.086Z",
    "type": "completion"
   },
   {
    "code": "def country_pop(pop_df, country):\n    \"\"\"Takes in a population DataFrame and selects population \n    data for a specific country/region\"\"\"\n    return pop_df[pop_df.index.get_level_values('country').isin(['World'])]\n\nworld_df = country_pop(pop_df, \"World\")\nworld_df =  world_df[world_df.index.get_level_values('year').isin([2019])]\nworld_df",
    "id": "f1c929e7577444088a162ca5cae74e1f",
    "idx": 16,
    "time": "2021-02-12T03:28:19.912Z",
    "type": "execution"
   },
   {
    "id": "f1c929e7577444088a162ca5cae74e1f",
    "time": "2021-02-12T03:28:20.012Z",
    "type": "completion"
   },
   {
    "code": "# Create axis labels for age brackets\nages = [col[16:21] for col in world_df.columns[::2]]\nages = ageGroups[:-3]\nages.append('80+')\nages\n\npd.DataFrame({'Age': ages})",
    "id": "48fdea99414c4cde9ff74d40455a0357",
    "idx": 17,
    "time": "2021-02-12T03:36:22.811Z",
    "type": "execution"
   },
   {
    "id": "48fdea99414c4cde9ff74d40455a0357",
    "time": "2021-02-12T03:36:22.919Z",
    "type": "completion"
   },
   {
    "code": "# Create axis labels for age brackets\nages = [col[16:21] for col in world_df.columns[::2]]\nages = ageGroups[:-3].append('80+')\n\npd.DataFrame({'Age': ages})",
    "id": "48fdea99414c4cde9ff74d40455a0357",
    "idx": 17,
    "time": "2021-02-12T03:36:32.731Z",
    "type": "execution"
   },
   {
    "id": "48fdea99414c4cde9ff74d40455a0357",
    "time": "2021-02-12T03:36:32.857Z",
    "type": "completion"
   },
   {
    "code": "# Create axis labels for age brackets\nages = [col[16:21] for col in world_df.columns[::2]]\nages = ageGroups[:-3]\nages.append('80+')\n\npd.DataFrame({'Age': ages})",
    "id": "48fdea99414c4cde9ff74d40455a0357",
    "idx": 17,
    "time": "2021-02-12T03:36:35.971Z",
    "type": "execution"
   },
   {
    "id": "48fdea99414c4cde9ff74d40455a0357",
    "time": "2021-02-12T03:36:36.047Z",
    "type": "completion"
   },
   {
    "code": "# Create axis labels for age brackets\nages = [col[16:21] for col in world_df.columns[::2]]\nages = ageGroups[:-3]\nages.append('80+')\n\nworld_df.iloc[0]\npd.DataFrame({'Age': ages,\n             'Male': \n             'Female': })",
    "id": "48fdea99414c4cde9ff74d40455a0357",
    "idx": 17,
    "time": "2021-02-12T03:40:39.391Z",
    "type": "execution"
   },
   {
    "id": "48fdea99414c4cde9ff74d40455a0357",
    "time": "2021-02-12T03:40:39.456Z",
    "type": "completion"
   },
   {
    "code": "# Create axis labels for age brackets\nages = [col[16:21] for col in world_df.columns[::2]]\nages = ageGroups[:-3]\nages.append('80+')\n\nworld_df.iloc[0]\n# pd.DataFrame({'Age': ages,\n#             'Male': \n#             'Female': })",
    "id": "48fdea99414c4cde9ff74d40455a0357",
    "idx": 17,
    "time": "2021-02-12T03:40:48.351Z",
    "type": "execution"
   },
   {
    "id": "48fdea99414c4cde9ff74d40455a0357",
    "time": "2021-02-12T03:40:48.422Z",
    "type": "completion"
   },
   {
    "code": "# Create axis labels for age brackets\nages = [col[16:21] for col in world_df.columns[::2]]\nages = ageGroups[:-3]\nages.append('80+')\n\nworld_df.iloc[0].as_matrix()\n# pd.DataFrame({'Age': ages,\n#             'Male': \n#             'Female': })",
    "id": "48fdea99414c4cde9ff74d40455a0357",
    "idx": 17,
    "time": "2021-02-12T03:40:59.041Z",
    "type": "execution"
   },
   {
    "id": "48fdea99414c4cde9ff74d40455a0357",
    "time": "2021-02-12T03:40:59.176Z",
    "type": "completion"
   },
   {
    "code": "# Create axis labels for age brackets\nages = [col[16:21] for col in world_df.columns[::2]]\nages = ageGroups[:-3]\nages.append('80+')\n\nworld_df.iloc[0]\n# pd.DataFrame({'Age': ages,\n#             'Male': \n#             'Female': })",
    "id": "48fdea99414c4cde9ff74d40455a0357",
    "idx": 17,
    "time": "2021-02-12T03:41:25.732Z",
    "type": "execution"
   },
   {
    "id": "48fdea99414c4cde9ff74d40455a0357",
    "time": "2021-02-12T03:41:25.807Z",
    "type": "completion"
   },
   {
    "code": "# Create axis labels for age brackets\nages = [col[16:21] for col in world_df.columns[::2]]\nages = ageGroups[:-3]\nages.append('80+')\n\nlist(world_df.iloc[0])\n# pd.DataFrame({'Age': ages,\n#             'Male': \n#             'Female': })",
    "id": "48fdea99414c4cde9ff74d40455a0357",
    "idx": 17,
    "time": "2021-02-12T03:41:36.460Z",
    "type": "execution"
   },
   {
    "id": "48fdea99414c4cde9ff74d40455a0357",
    "time": "2021-02-12T03:41:36.556Z",
    "type": "completion"
   },
   {
    "code": "# Create axis labels for age brackets\nages = [col[16:21] for col in world_df.columns[::2]]\nages = ageGroups[:-3]\nages.append('80+')\n\nlist(world_df.iloc[0]::2)\n# pd.DataFrame({'Age': ages,\n#             'Male': \n#             'Female': })",
    "id": "48fdea99414c4cde9ff74d40455a0357",
    "idx": 17,
    "time": "2021-02-12T03:41:51.960Z",
    "type": "execution"
   },
   {
    "id": "48fdea99414c4cde9ff74d40455a0357",
    "time": "2021-02-12T03:41:52.024Z",
    "type": "completion"
   },
   {
    "code": "# Create axis labels for age brackets\nages = [col[16:21] for col in world_df.columns[::2]]\nages = ageGroups[:-3]\nages.append('80+')\n\nlist(world_df.iloc[0])[::2]\n# pd.DataFrame({'Age': ages,\n#             'Male': \n#             'Female': })",
    "id": "48fdea99414c4cde9ff74d40455a0357",
    "idx": 17,
    "time": "2021-02-12T03:41:57.191Z",
    "type": "execution"
   },
   {
    "id": "48fdea99414c4cde9ff74d40455a0357",
    "time": "2021-02-12T03:41:57.260Z",
    "type": "completion"
   },
   {
    "code": "# Create axis labels for age brackets\nages = [col[16:21] for col in world_df.columns[::2]]\nages = ageGroups[:-3]\nages.append('80+')\n\nlist(world_df.iloc[0])[1::2]\n# pd.DataFrame({'Age': ages,\n#             'Male': \n#             'Female': })",
    "id": "48fdea99414c4cde9ff74d40455a0357",
    "idx": 17,
    "time": "2021-02-12T03:42:09.030Z",
    "type": "execution"
   },
   {
    "id": "48fdea99414c4cde9ff74d40455a0357",
    "time": "2021-02-12T03:42:09.132Z",
    "type": "completion"
   },
   {
    "code": "# Create axis labels for age brackets\nages = [col[16:21] for col in world_df.columns[::2]]\nages = ageGroups[:-3]\nages.append('80+')\n\nlist(world_df.iloc[0])[::2]\n# pd.DataFrame({'Age': ages,\n#             'Male': \n#             'Female': })",
    "id": "48fdea99414c4cde9ff74d40455a0357",
    "idx": 17,
    "time": "2021-02-12T03:42:15.550Z",
    "type": "execution"
   },
   {
    "id": "48fdea99414c4cde9ff74d40455a0357",
    "time": "2021-02-12T03:42:15.617Z",
    "type": "completion"
   },
   {
    "code": "# Create axis labels for age brackets\nages = [col[16:21] for col in world_df.columns[::2]]\nages = ageGroups[:-3]\nages.append('80+')\n\nmale_pop = list(world_df.iloc[0])[::2]\nfemale_pop = list(world_df.iloc[0])[1::2]\n# pd.DataFrame({'Age': ages,\n#             'Male': \n#             'Female': })",
    "id": "48fdea99414c4cde9ff74d40455a0357",
    "idx": 17,
    "time": "2021-02-12T03:42:39.111Z",
    "type": "execution"
   },
   {
    "id": "48fdea99414c4cde9ff74d40455a0357",
    "time": "2021-02-12T03:42:39.173Z",
    "type": "completion"
   },
   {
    "code": "# Create axis labels for age brackets\nages = [col[16:21] for col in world_df.columns[::2]]\nages = ageGroups[:-3]\nages.append('80+')\n\nfemale_pop = list(world_df.iloc[0])[::2]\nmale_pop = list(world_df.iloc[0])[1::2]\n# pd.DataFrame({'Age': ages,\n#             'Male': \n#             'Female': })",
    "id": "48fdea99414c4cde9ff74d40455a0357",
    "idx": 17,
    "time": "2021-02-12T03:42:44.002Z",
    "type": "execution"
   },
   {
    "id": "48fdea99414c4cde9ff74d40455a0357",
    "time": "2021-02-12T03:42:44.060Z",
    "type": "completion"
   },
   {
    "code": "# Create axis labels for age brackets\nages = [col[16:21] for col in world_df.columns[::2]]\nages = ageGroups[:-3]\nages.append('80+', 'Total', 'Total female', 'Total male')\n\nfemale_pop = list(world_df.iloc[0])[::2]\nmale_pop = list(world_df.iloc[0])[1::2]\npd.DataFrame({'Age': ages,\n             'Population, female': female_pop\n             'Population, male': male_pop})",
    "id": "48fdea99414c4cde9ff74d40455a0357",
    "idx": 17,
    "time": "2021-02-12T03:44:01.411Z",
    "type": "execution"
   },
   {
    "id": "48fdea99414c4cde9ff74d40455a0357",
    "time": "2021-02-12T03:44:01.526Z",
    "type": "completion"
   },
   {
    "code": "# Create axis labels for age brackets\nages = [col[16:21] for col in world_df.columns[::2]]\nages = ageGroups[:-3]\nages.append('80+', 'Total', 'Total female', 'Total male')\n\nfemale_pop = list(world_df.iloc[0])[::2]\nmale_pop = list(world_df.iloc[0])[1::2]\npd.DataFrame({'Age': ages,\n             'Population, female': female_pop,\n             'Population, male': male_pop})",
    "id": "48fdea99414c4cde9ff74d40455a0357",
    "idx": 17,
    "time": "2021-02-12T03:44:07.851Z",
    "type": "execution"
   },
   {
    "id": "48fdea99414c4cde9ff74d40455a0357",
    "time": "2021-02-12T03:44:07.952Z",
    "type": "completion"
   },
   {
    "code": "# Create axis labels for age brackets\nages = [col[16:21] for col in world_df.columns[::2]]\nages = ageGroups[:-3]\nages.append('80+').append('Total').append('Total female').append('Total male')\n\nfemale_pop = list(world_df.iloc[0])[::2]\nmale_pop = list(world_df.iloc[0])[1::2]\npd.DataFrame({'Age': ages,\n             'Population, female': female_pop,\n             'Population, male': male_pop})",
    "id": "48fdea99414c4cde9ff74d40455a0357",
    "idx": 17,
    "time": "2021-02-12T03:44:33.813Z",
    "type": "execution"
   },
   {
    "id": "48fdea99414c4cde9ff74d40455a0357",
    "time": "2021-02-12T03:44:33.883Z",
    "type": "completion"
   },
   {
    "code": "# Create axis labels for age brackets\nages = [col[16:21] for col in world_df.columns[::2]]\nages = ageGroups[:-3]\nages.append('80+')\nages.append('Total')\nages.append('Total female')\nages.append('Total male')\n\nfemale_pop = list(world_df.iloc[0])[::2]\nmale_pop = list(world_df.iloc[0])[1::2]\npd.DataFrame({'Age': ages,\n             'Population, female': female_pop,\n             'Population, male': male_pop})",
    "id": "48fdea99414c4cde9ff74d40455a0357",
    "idx": 17,
    "time": "2021-02-12T03:44:48.783Z",
    "type": "execution"
   },
   {
    "id": "48fdea99414c4cde9ff74d40455a0357",
    "time": "2021-02-12T03:44:48.901Z",
    "type": "completion"
   },
   {
    "code": "# Create axis labels for age brackets\nages = [col[16:21] for col in world_df.columns[::2]]\nages = ageGroups[:-3]\nages.append('80+')\nages.append('Total')\nages.append('Total female')\nages.append('Total male')\nprint(len(ages))\n\nfemale_pop = list(world_df.iloc[0])[::2]\nmale_pop = list(world_df.iloc[0])[1::2]\npd.DataFrame({'Age': ages,\n             'Population, female': female_pop,\n             'Population, male': male_pop})",
    "id": "48fdea99414c4cde9ff74d40455a0357",
    "idx": 17,
    "time": "2021-02-12T03:45:01.632Z",
    "type": "execution"
   },
   {
    "id": "48fdea99414c4cde9ff74d40455a0357",
    "time": "2021-02-12T03:45:01.806Z",
    "type": "completion"
   },
   {
    "code": "# Create axis labels for age brackets\nages = [col[16:21] for col in world_df.columns[::2]]\nages = ageGroups[:-3]\nages.append('80+')\n\nfemale_pop = list(world_df.iloc[0])[::2][:-3]\nmale_pop = list(world_df.iloc[0])[1::2][:-3]\npd.DataFrame({'Age': ages,\n             'Population, female': female_pop,\n             'Population, male': male_pop})",
    "id": "48fdea99414c4cde9ff74d40455a0357",
    "idx": 17,
    "time": "2021-02-12T03:45:25.136Z",
    "type": "execution"
   },
   {
    "id": "48fdea99414c4cde9ff74d40455a0357",
    "time": "2021-02-12T03:45:25.267Z",
    "type": "completion"
   },
   {
    "code": "# Create axis labels for age brackets\nages = [col[16:21] for col in world_df.columns[::2]]\nages = ageGroups[:-3]\nages.append('80+')\n\nfemale_pop = list(world_df.iloc[0])[::2][:-3]\nmale_pop = list(world_df.iloc[0])[1::2][:-3]\n\nprint(len(ages), len(female_pop), len(male_pop))\npd.DataFrame({'Age': ages,\n             'Population, female': female_pop,\n             'Population, male': male_pop})\n",
    "id": "48fdea99414c4cde9ff74d40455a0357",
    "idx": 17,
    "time": "2021-02-12T03:45:45.622Z",
    "type": "execution"
   },
   {
    "id": "48fdea99414c4cde9ff74d40455a0357",
    "time": "2021-02-12T03:45:45.758Z",
    "type": "completion"
   },
   {
    "code": "# Create axis labels for age brackets\nages = [col[16:21] for col in world_df.columns[::2]]\nages = ageGroups[:-3]\nages.append('80+')\n\nfemale_pop = list(world_df.iloc[0])[::2][:-4]\nmale_pop = list(world_df.iloc[0])[1::2][:-3]\n\nprint(len(ages), len(female_pop), len(male_pop))\npd.DataFrame({'Age': ages,\n             'Population, female': female_pop,\n             'Population, male': male_pop})\n",
    "id": "48fdea99414c4cde9ff74d40455a0357",
    "idx": 17,
    "time": "2021-02-12T03:45:57.533Z",
    "type": "execution"
   },
   {
    "id": "48fdea99414c4cde9ff74d40455a0357",
    "time": "2021-02-12T03:45:57.681Z",
    "type": "completion"
   },
   {
    "code": "# Create axis labels for age brackets\nages = [col[16:21] for col in world_df.columns[::2]]\nages = ageGroups[:-3]\nages.append('80+')\n\nfemale_pop = list(world_df.iloc[0])[::2][:-4]\nmale_pop = list(world_df.iloc[0])[1::2][:-3]\n\nprint(len(ages), len(female_pop), len(male_pop))\npd.DataFrame({'Age': ages,\n             'Population, total female': female_pop,\n             'Population, total male': male_pop})\n",
    "id": "48fdea99414c4cde9ff74d40455a0357",
    "idx": 17,
    "time": "2021-02-12T03:46:23.522Z",
    "type": "execution"
   },
   {
    "id": "48fdea99414c4cde9ff74d40455a0357",
    "time": "2021-02-12T03:46:25.716Z",
    "type": "completion"
   },
   {
    "code": "# Create axis labels for age brackets\nages = [col[16:21] for col in world_df.columns[::2]]\nages = ages[:-3]\nages.append('80+')\n\nfemale_pop = list(world_df.iloc[0])[::2][:-4]\nmale_pop = list(world_df.iloc[0])[1::2][:-3]\n\nprint(len(ages), len(female_pop), len(male_pop))\npd.DataFrame({'Age': ages,\n             'Population, total female': female_pop,\n             'Population, total male': male_pop})\n",
    "id": "48fdea99414c4cde9ff74d40455a0357",
    "idx": 17,
    "time": "2021-02-12T03:48:07.684Z",
    "type": "execution"
   },
   {
    "id": "48fdea99414c4cde9ff74d40455a0357",
    "time": "2021-02-12T03:48:07.817Z",
    "type": "completion"
   },
   {
    "code": "# Create axis labels for age brackets\nages = [col[16:21] for col in world_df.columns[::2]]\nages = ages[:-3]\nages.append('80+')\n\nfemale_pop = list(world_df.iloc[0])[::2]\nmale_pop = list(world_df.iloc[0])[1::2]\n\nprint(len(ages), len(female_pop), len(male_pop))\npd.DataFrame({'Age': ages,\n             'Population, total female': female_pop,\n             'Population, total male': male_pop})\n",
    "id": "48fdea99414c4cde9ff74d40455a0357",
    "idx": 17,
    "time": "2021-02-12T03:48:18.155Z",
    "type": "execution"
   },
   {
    "id": "48fdea99414c4cde9ff74d40455a0357",
    "time": "2021-02-12T03:48:18.288Z",
    "type": "completion"
   },
   {
    "code": "# Create axis labels for age brackets\nages = [col[16:21] for col in world_df.columns[::2]]\nages = ages\nages.append('80+')\n\nfemale_pop = list(world_df.iloc[0])[::2]\nmale_pop = list(world_df.iloc[0])[1::2]\n\nprint(len(ages), len(female_pop), len(male_pop))\npd.DataFrame({'Age': ages,\n             'Population, total female': female_pop,\n             'Population, total male': male_pop})\n",
    "id": "48fdea99414c4cde9ff74d40455a0357",
    "idx": 17,
    "time": "2021-02-12T03:48:41.364Z",
    "type": "execution"
   },
   {
    "id": "48fdea99414c4cde9ff74d40455a0357",
    "time": "2021-02-12T03:48:41.482Z",
    "type": "completion"
   },
   {
    "code": "# Create axis labels for age brackets\nages = [col[16:21] for col in world_df.columns[::2]]\nages = ages\nages.append('80+')\n\nfemale_pop = list(world_df.iloc[0])[::2]\nmale_pop = list(world_df.iloc[0])[1::2]\n\nprint(ages)\nprint(len(ages), len(female_pop), len(male_pop))\npd.DataFrame({'Age': ages,\n             'Population, total female': female_pop,\n             'Population, total male': male_pop})\n",
    "id": "48fdea99414c4cde9ff74d40455a0357",
    "idx": 17,
    "time": "2021-02-12T03:48:54.956Z",
    "type": "execution"
   },
   {
    "id": "48fdea99414c4cde9ff74d40455a0357",
    "time": "2021-02-12T03:48:55.086Z",
    "type": "completion"
   },
   {
    "code": "# Create axis labels for age brackets\nages = [col[16:21] for col in world_df.columns[::2]]\nages = ages[:-3]\nages.append('80+')\n\nfemale_pop = list(world_df.iloc[0])[::2]\nmale_pop = list(world_df.iloc[0])[1::2]\n\nprint(ages)\nprint(len(ages), len(female_pop), len(male_pop))\npd.DataFrame({'Age': ages,\n             'Population, total female': female_pop,\n             'Population, total male': male_pop})\n",
    "id": "48fdea99414c4cde9ff74d40455a0357",
    "idx": 17,
    "time": "2021-02-12T03:49:09.715Z",
    "type": "execution"
   },
   {
    "id": "48fdea99414c4cde9ff74d40455a0357",
    "time": "2021-02-12T03:49:09.856Z",
    "type": "completion"
   },
   {
    "code": "# Create axis labels for age brackets\nages = [col[16:21] for col in world_df.columns[::2]]\nages = ages[:-3]\nages.append('80+')\n\nfemale_pop = list(world_df.iloc[0])[::2]\nmale_pop = list(world_df.iloc[0])[1::2]\n\nprint(ages)\nprint(len(ages), len(female_pop), len(male_pop))\npd.DataFrame({'Age': ages,\n             'Population, total female': female_pop,\n             'Population, total male': male_pop})\n",
    "id": "48fdea99414c4cde9ff74d40455a0357",
    "idx": 17,
    "time": "2021-02-12T03:50:16.718Z",
    "type": "execution"
   },
   {
    "id": "48fdea99414c4cde9ff74d40455a0357",
    "time": "2021-02-12T03:50:16.886Z",
    "type": "completion"
   },
   {
    "code": "# Create axis labels for age brackets\nages = [col[16:21] for col in world_df.columns[::2]]\nages = ages[:-3]\nages.append('80+')\n\nfemale_pop = list(world_df.iloc[0])[::2][:-2]\nmale_pop = list(world_df.iloc[0])[1::2]\n\nprint(ages)\n\nprint(len(ages), len(female_pop), len(male_pop))\npd.DataFrame({'Age': ages,\n             'Population, total female': female_pop,\n             'Population, total male': male_pop})\n",
    "id": "48fdea99414c4cde9ff74d40455a0357",
    "idx": 17,
    "time": "2021-02-12T03:50:35.351Z",
    "type": "execution"
   },
   {
    "id": "48fdea99414c4cde9ff74d40455a0357",
    "time": "2021-02-12T03:50:35.504Z",
    "type": "completion"
   },
   {
    "code": "# Create axis labels for age brackets\nages = [col[16:21] for col in world_df.columns[::2]]\nages = ages[:-3]\nages.append('80+')\n\nfemale_pop = list(world_df.iloc[0])[::2][:-2]\nmale_pop = list(world_df.iloc[0])[1::2][:-1]\n\nprint(ages)\n\nprint(len(ages), len(female_pop), len(male_pop))\npd.DataFrame({'Age': ages,\n             'Population, total female': female_pop,\n             'Population, total male': male_pop})\n",
    "id": "48fdea99414c4cde9ff74d40455a0357",
    "idx": 17,
    "time": "2021-02-12T03:50:39.630Z",
    "type": "execution"
   },
   {
    "id": "48fdea99414c4cde9ff74d40455a0357",
    "time": "2021-02-12T03:50:39.799Z",
    "type": "completion"
   },
   {
    "code": "# Create axis labels for age brackets\nages = [col[16:21] for col in world_df.columns[::2]]\nages = ages[:-3]\nages.append('80+')\n\nfemale_pop = list(world_df.iloc[0])[::2][:-2]\nmale_pop = list(world_df.iloc[0])[1::2][:-1]\n\nprint(ages)\n\nprint(len(ages), len(female_pop), len(male_pop))\npd.DataFrame({'Age Group': ages,\n             'Population, total female': female_pop,\n             'Population, total male': male_pop})\n",
    "id": "48fdea99414c4cde9ff74d40455a0357",
    "idx": 17,
    "time": "2021-02-12T03:51:09.729Z",
    "type": "execution"
   },
   {
    "id": "48fdea99414c4cde9ff74d40455a0357",
    "time": "2021-02-12T03:51:09.848Z",
    "type": "completion"
   },
   {
    "code": "# Create axis labels for age brackets\nages = [col[16:21] for col in world_df.columns[::2]]\nages = ages[:-3]\nages.append('80+')\n\nf_pop = list(world_df.iloc[0])[::2][:-2]\nm_pop = list(world_df.iloc[0])[1::2][:-1]\n\npd.DataFrame({'Age Group': ages,\n             'Population, total female': f_pop,\n             'Population, total male': m_pop})\n",
    "id": "48fdea99414c4cde9ff74d40455a0357",
    "idx": 17,
    "time": "2021-02-12T03:51:28.726Z",
    "type": "execution"
   },
   {
    "id": "48fdea99414c4cde9ff74d40455a0357",
    "time": "2021-02-12T03:51:28.841Z",
    "type": "completion"
   },
   {
    "code": "# Create axis labels for age brackets\nages = [col[16:21] for col in world_df.columns[::2]]\nages = ages[:-3]\nages.append('80+')\n\nf_pop = list(world_df.iloc[0])[::2][:-2]\nm_pop = list(world_df.iloc[0])[1::2][:-1]\n\nworld_ppy_df = pd.DataFrame({'Age': ages,\n             'Population, total female': f_pop,\n             'Population, total male': m_pop})\nworld_ppy_df",
    "id": "48fdea99414c4cde9ff74d40455a0357",
    "idx": 17,
    "time": "2021-02-12T03:52:42.900Z",
    "type": "execution"
   },
   {
    "id": "48fdea99414c4cde9ff74d40455a0357",
    "time": "2021-02-12T03:52:43.001Z",
    "type": "completion"
   },
   {
    "code": "# Create axis labels for age brackets\nages = [col[16:21] for col in world_df.columns[::2]]\nages = ages[:-3]\nages.append('80+')\n\nf_pop = np.array(world_df.iloc[0])[::2][:-2]\nm_pop = np.array(world_df.iloc[0])[1::2][:-1]\n\nworld_ppy_df = pd.DataFrame({'Age': ages,\n             'Population, total female': f_pop,\n             'Population, total male': m_pop})\nworld_ppy = sns.barplot(x='Population, total female',\n                       y='Age')",
    "id": "48fdea99414c4cde9ff74d40455a0357",
    "idx": 17,
    "time": "2021-02-12T03:53:50.520Z",
    "type": "execution"
   },
   {
    "id": "48fdea99414c4cde9ff74d40455a0357",
    "time": "2021-02-12T03:53:50.658Z",
    "type": "completion"
   },
   {
    "code": "# Create axis labels for age brackets\nages = [col[16:21] for col in world_df.columns[::2]]\nages = ages[:-3]\nages.append('80+')\n\nf_pop = list(world_df.iloc[0])[::2][:-2]\nm_pop = list(world_df.iloc[0])[1::2][:-1]\n\nworld_ppy_df = pd.DataFrame({'Age': ages,\n             'Population, total female': f_pop,\n             'Population, total male': m_pop})\nworld_ppy = sns.barplot(x='Population, total female',\n                       y='Age')",
    "id": "48fdea99414c4cde9ff74d40455a0357",
    "idx": 17,
    "time": "2021-02-12T03:53:53.360Z",
    "type": "execution"
   },
   {
    "id": "48fdea99414c4cde9ff74d40455a0357",
    "time": "2021-02-12T03:53:53.469Z",
    "type": "completion"
   },
   {
    "code": "# Create axis labels for age brackets\nages = [col[16:21] for col in world_df.columns[::2]]\nages = ages[:-3]\nages.append('80+')\n\nf_pop = list(world_df.iloc[0])[::2][:-2]\nm_pop = list(world_df.iloc[0])[1::2][:-1]\n\nworld_ppy_df = pd.DataFrame({'Age': ages,\n             'Population, total female': f_pop,\n             'Population, total male': m_pop})\nworld_ppy = sns.barplot(x='Population, total female',\n                       y='Age',\n                       data=world_ppy_df)",
    "id": "48fdea99414c4cde9ff74d40455a0357",
    "idx": 17,
    "time": "2021-02-12T03:54:04.710Z",
    "type": "execution"
   },
   {
    "id": "48fdea99414c4cde9ff74d40455a0357",
    "time": "2021-02-12T03:54:05.190Z",
    "type": "completion"
   },
   {
    "code": "# Create axis labels for age brackets\nages = [col[16:21] for col in world_df.columns[::2]]\nages = ages[:-3]\nages.append('80+')\n\nf_pop = list(world_df.iloc[0])[::2][:-2]\nm_pop = list(world_df.iloc[0])[1::2][:-1]\n\nworld_ppy_df = pd.DataFrame({'Age': ages,\n             'Population, total female': f_pop,\n             'Population, total male': m_pop})\nworld_ppy = sns.barplot(x='Population, total female',\n                       y='Age',\n                       data=world_ppy_df)\n\nbar_plot.set(xlabel=\"Population (hundreds of millions)\", ylabel=\"Age-Group\", title = \"Population Pyramid\")",
    "id": "48fdea99414c4cde9ff74d40455a0357",
    "idx": 17,
    "time": "2021-02-12T03:54:28.861Z",
    "type": "execution"
   },
   {
    "id": "48fdea99414c4cde9ff74d40455a0357",
    "time": "2021-02-12T03:54:29.297Z",
    "type": "completion"
   },
   {
    "code": "# Create axis labels for age brackets\nages = [col[16:21] for col in world_df.columns[::2]]\nages = ages[:-3]\nages.append('80+')\n\nf_pop = list(world_df.iloc[0])[::2][:-2]\nm_pop = list(world_df.iloc[0])[1::2][:-1]\n\nworld_ppy_df = pd.DataFrame({'Age': ages,\n             'Population, total female': f_pop,\n             'Population, total male': m_pop})\nworld_ppy = sns.barplot(x='Population, total female',\n                       y='Age',\n                       data=world_ppy_df)\n\nbar_plot.set(xlabel=\"Population (hundreds of millions)\", ylabel=\"Age-Group\", title = \"Population Pyramid\");",
    "id": "48fdea99414c4cde9ff74d40455a0357",
    "idx": 17,
    "time": "2021-02-12T03:54:31.352Z",
    "type": "execution"
   },
   {
    "id": "48fdea99414c4cde9ff74d40455a0357",
    "time": "2021-02-12T03:54:31.780Z",
    "type": "completion"
   },
   {
    "code": "# Create axis labels for age brackets\nages = [col[16:21] for col in world_df.columns[::2]]\nages = ages[:-3]\nages.append('80+')\n\nf_pop = list(world_df.iloc[0])[::2][:-2]\nm_pop = list(world_df.iloc[0])[1::2][:-1]\n\nworld_ppy_df = pd.DataFrame({'Age': ages,\n             'Population, total female': f_pop,\n             'Population, total male': m_pop})\n\nageAxis = ages[::-1]\nworld_ppy = sns.barplot(x='Population, total female',\n                       y='Age',\n                       data=world_ppy_df,\n                       order = ageAxis)\n\nbar_plot.set(xlabel=\"Population (hundreds of millions)\", ylabel=\"Age-Group\", title = \"Population Pyramid\");\n",
    "id": "48fdea99414c4cde9ff74d40455a0357",
    "idx": 17,
    "time": "2021-02-12T03:55:21.581Z",
    "type": "execution"
   },
   {
    "id": "48fdea99414c4cde9ff74d40455a0357",
    "time": "2021-02-12T03:55:22.173Z",
    "type": "completion"
   },
   {
    "code": "# Create axis labels for age brackets\nages = [col[16:21] for col in world_df.columns[::2]]\nages = ages[:-3]\nages.append('80+')\n\nf_pop = list(world_df.iloc[0])[::2][:-2]\nm_pop = list(world_df.iloc[0])[1::2][:-1]\n\nworld_ppy_df = pd.DataFrame({'Age': ages,\n             'Population, total female': f_pop,\n             'Population, total male': m_pop})\n\nageAxis = ages[::-1]\nworld_ppy = sns.barplot(x='Population, total female',\n                       y='Age',\n                       data=world_ppy_df,\n                       order = ageAxis)\n\nworld_ppy.set(xlabel=\"Population (hundreds of millions)\", ylabel=\"Age-Group\", title = \"Population Pyramid\");\n",
    "id": "48fdea99414c4cde9ff74d40455a0357",
    "idx": 17,
    "time": "2021-02-12T03:56:42.782Z",
    "type": "execution"
   },
   {
    "id": "48fdea99414c4cde9ff74d40455a0357",
    "time": "2021-02-12T03:56:43.552Z",
    "type": "completion"
   },
   {
    "code": "# Create axis labels for age brackets\nages = [col[16:21] for col in world_df.columns[::2]]\nages = ages[:-3]\nages.append('80+')\n\nf_pop = list(world_df.iloc[0])[::2][:-2]\nm_pop = list(world_df.iloc[0])[1::2][:-1]\n\nworld_ppy_df = pd.DataFrame({'Age': ages,\n             'Population, total female': f_pop,\n             'Population, total male': m_pop})\n\nageAxis = ages[::-1]\nworld_ppy = sns.barplot(x='Population, total female',\n                       y='Age',\n                       data=world_ppy_df,\n                       order = ageAxis)\n\nbar_plot.set(xlabel=\"Population (hundreds of millions)\", ylabel=\"Age-Group\", title = \"Population Pyramid\");\n",
    "id": "48fdea99414c4cde9ff74d40455a0357",
    "idx": 17,
    "time": "2021-02-12T03:57:06.461Z",
    "type": "execution"
   },
   {
    "id": "48fdea99414c4cde9ff74d40455a0357",
    "time": "2021-02-12T03:57:06.923Z",
    "type": "completion"
   },
   {
    "code": "# Create axis labels for age brackets\nages = [col[16:21] for col in world_df.columns[::2]]\nages = ages[:-3]\nages.append('80+')\n\nf_pop = list(world_df.iloc[0])[::2][:-2]\nm_pop = list(world_df.iloc[0])[1::2][:-1]\n\nworld_ppy_df = pd.DataFrame({'Age': ages,\n             'Population, total female': f_pop,\n             'Population, total male': m_pop})\n\nageAxis = ages[::-1]\nworld_ppy = sns.barplot(x='Population, total female',\n                       y='Age',\n                       data=world_ppy_df,\n                       order=ageAxis)\nworld_ppy = sns.barplot(x='Population, total male',\n                       y='Age',\n                       data=world_ppy_df,\n                       order=ageAxis)\n\nworld_ppy.set(xlabel=\"Population (hundreds of millions)\", ylabel=\"Age-Group\", title = \"Population Pyramid\");",
    "id": "48fdea99414c4cde9ff74d40455a0357",
    "idx": 17,
    "time": "2021-02-12T03:58:02.882Z",
    "type": "execution"
   },
   {
    "id": "48fdea99414c4cde9ff74d40455a0357",
    "time": "2021-02-12T03:58:03.493Z",
    "type": "completion"
   },
   {
    "code": "# Create axis labels for age brackets\nages = [col[16:21] for col in world_df.columns[::2]]\nages = ages[:-3]\nages.append('80+')\n\nf_pop = list(world_df.iloc[0])[::2][:-2]\nm_pop = list(world_df.iloc[0])[1::2][:-1]\n\nworld_ppy_df = pd.DataFrame({'Age': ages,\n             'Population, total female': f_pop,\n             'Population, total male': m_pop})\n\nageAxis = ages[::-1]\nworld_ppy = sns.barplot(x='Population, total female',\n                       y='Age',\n                       data=world_ppy_df,\n                       order=ageAxis,\n                       lw=0)\nworld_ppy = sns.barplot(x='Population, total male',\n                       y='Age',\n                       data=world_ppy_df,\n                       order=ageAxis,\n                       lw=0)\n\nworld_ppy.set(xlabel=\"Population (hundreds of millions)\", ylabel=\"Age-Group\", title = \"Population Pyramid\");",
    "id": "48fdea99414c4cde9ff74d40455a0357",
    "idx": 17,
    "time": "2021-02-12T03:58:54.992Z",
    "type": "execution"
   },
   {
    "id": "48fdea99414c4cde9ff74d40455a0357",
    "time": "2021-02-12T03:58:55.541Z",
    "type": "completion"
   },
   {
    "code": "# Create axis labels for age brackets\nages = [col[16:21] for col in world_df.columns[::2]]\nages = ages[:-3]\nages.append('80+')\n\nf_pop = list(world_df.iloc[0])[::2][:-2]\nm_pop = list(world_df.iloc[0])[1::2][:-1]\n\nworld_ppy_df = pd.DataFrame({'Age': ages,\n             'Population, total female': f_pop,\n             'Population, total male': m_pop})\nworld_ppy_df['Population, total male'] = world_ppy_df['Population, total male']*-1\n\nageAxis = ages[::-1]\nworld_ppy = sns.barplot(x='Population, total female',\n                       y='Age',\n                       data=world_ppy_df,\n                       order=ageAxis,\n                       lw=0)\nworld_ppy = sns.barplot(x='Population, total male',\n                       y='Age',\n                       data=world_ppy_df,\n                       order=ageAxis,\n                       lw=0)\n\nworld_ppy.set(xlabel=\"Population (hundreds of millions)\", ylabel=\"Age-Group\", title = \"Population Pyramid\");",
    "id": "48fdea99414c4cde9ff74d40455a0357",
    "idx": 17,
    "time": "2021-02-12T04:00:33.374Z",
    "type": "execution"
   },
   {
    "id": "48fdea99414c4cde9ff74d40455a0357",
    "time": "2021-02-12T04:00:33.942Z",
    "type": "completion"
   },
   {
    "code": "# Create axis labels for age brackets\nages = [col[16:21] for col in world_df.columns[::2]]\nages = ages[:-3]\nages.append('80+')\n\nf_pop = list(world_df.iloc[0])[::2][:-2]\nm_pop = list(world_df.iloc[0])[1::2][:-1]\n\nworld_ppy_df = pd.DataFrame({'Age': ages,\n             'Population, total female': f_pop,\n             'Population, total male': m_pop})\nworld_ppy_df['Population, total male'] = world_ppy_df['Population, total male']*-1\n\nageAxis = ages[::-1]\nworld_ppy = sns.barplot(x='Population, total female',\n                       y='Age',\n                       data=world_ppy_df,\n                       order=ageAxis,\n                       lw=0)\nworld_ppy = sns.barplot(x='Population, total male',\n                       y='Age',\n                       data=world_ppy_df,\n                       order=ageAxis,\n                       lw=0)\ntype(world_ppy)\n\nworld_ppy.set(xlabel=\"Population (hundreds of millions)\", ylabel=\"Age-Group\", title = \"Population Pyramid\");",
    "id": "48fdea99414c4cde9ff74d40455a0357",
    "idx": 17,
    "time": "2021-02-12T04:03:20.127Z",
    "type": "execution"
   },
   {
    "id": "48fdea99414c4cde9ff74d40455a0357",
    "time": "2021-02-12T04:03:20.714Z",
    "type": "completion"
   },
   {
    "code": "# Create axis labels for age brackets\nages = [col[16:21] for col in world_df.columns[::2]]\nages = ages[:-3]\nages.append('80+')\n\nf_pop = list(world_df.iloc[0])[::2][:-2]\nm_pop = list(world_df.iloc[0])[1::2][:-1]\n\nworld_ppy_df = pd.DataFrame({'Age': ages,\n             'Population, total female': f_pop,\n             'Population, total male': m_pop})\nworld_ppy_df['Population, total male'] = world_ppy_df['Population, total male']*-1\n\nageAxis = ages[::-1]\nworld_ppy = sns.barplot(x='Population, total female',\n                       y='Age',\n                       data=world_ppy_df,\n                       order=ageAxis,\n                       lw=0)\nworld_ppy = sns.barplot(x='Population, total male',\n                       y='Age',\n                       data=world_ppy_df,\n                       order=ageAxis,\n                       lw=0)\nprint(type(world_ppy))\n\nworld_ppy.set(xlabel=\"Population (hundreds of millions)\", ylabel=\"Age-Group\", title = \"Population Pyramid\");",
    "id": "48fdea99414c4cde9ff74d40455a0357",
    "idx": 17,
    "time": "2021-02-12T04:03:25.024Z",
    "type": "execution"
   },
   {
    "id": "48fdea99414c4cde9ff74d40455a0357",
    "time": "2021-02-12T04:03:25.710Z",
    "type": "completion"
   },
   {
    "code": "# Create axis labels for age brackets\nages = [col[16:21] for col in world_df.columns[::2]]\nages = ages[:-3]\nages.append('80+')\n\nf_pop = list(world_df.iloc[0])[::2][:-2]\nm_pop = list(world_df.iloc[0])[1::2][:-1]\n\nworld_ppy_df = pd.DataFrame({'Age': ages,\n             'Population, total female': f_pop,\n             'Population, total male': m_pop})\nworld_ppy_df['Population, total male'] = world_ppy_df['Population, total male']*-1\n\nageAxis = ages[::-1]\nworld_ppy = sns.barplot(x='Population, total female',\n                       y='Age',\n                       data=world_ppy_df,\n                       order=ageAxis,\n                       lw=0)\nworld_ppy = sns.barplot(x='Population, total male',\n                       y='Age',\n                       data=world_ppy_df,\n                       order=ageAxis,\n                       lw=0)\nworld_ppy.axvline()\n\nworld_ppy.set(xlabel=\"Population (hundreds of millions)\", ylabel=\"Age-Group\", title = \"Population Pyramid\");",
    "id": "48fdea99414c4cde9ff74d40455a0357",
    "idx": 17,
    "time": "2021-02-12T04:05:37.196Z",
    "type": "execution"
   },
   {
    "id": "48fdea99414c4cde9ff74d40455a0357",
    "time": "2021-02-12T04:05:37.787Z",
    "type": "completion"
   },
   {
    "code": "# Create axis labels for age brackets\nages = [col[16:21] for col in world_df.columns[::2]]\nages = ages[:-3]\nages.append('80+')\n\nf_pop = list(world_df.iloc[0])[::2][:-2]\nm_pop = list(world_df.iloc[0])[1::2][:-1]\n\nworld_ppy_df = pd.DataFrame({'Age': ages,\n             'Population, total female': f_pop,\n             'Population, total male': m_pop})\nworld_ppy_df['Population, total male'] = world_ppy_df['Population, total male']*-1\n\nageAxis = ages[::-1]\nworld_ppy = sns.barplot(x='Population, total female',\n                       y='Age',\n                       data=world_ppy_df,\n                       order=ageAxis,\n                       lw=0)\nworld_ppy = sns.barplot(x='Population, total male',\n                       y='Age',\n                       data=world_ppy_df,\n                       order=ageAxis,\n                       lw=0)\nworld_ppy.axvline(color='w')\n\nworld_ppy.set(xlabel=\"Population (hundreds of millions)\", ylabel=\"Age-Group\", title = \"Population Pyramid\");",
    "id": "48fdea99414c4cde9ff74d40455a0357",
    "idx": 17,
    "time": "2021-02-12T04:06:47.207Z",
    "type": "execution"
   },
   {
    "id": "48fdea99414c4cde9ff74d40455a0357",
    "time": "2021-02-12T04:06:47.833Z",
    "type": "completion"
   },
   {
    "code": "# Create axis labels for age brackets\nages = [col[16:21] for col in world_df.columns[::2]]\nages = ages[:-3]\nages.append('80+')\n\nf_pop = list(world_df.iloc[0])[::2][:-2]\nm_pop = list(world_df.iloc[0])[1::2][:-1]\n\nworld_ppy_df = pd.DataFrame({'Age': ages,\n             'Population, total female': f_pop,\n             'Population, total male': m_pop})\nworld_ppy_df['Population, total male'] = world_ppy_df['Population, total male']*-1\n\nageAxis = ages[::-1]\nworld_ppy = sns.barplot(x='Population, total female',\n                       y='Age',\n                       data=world_ppy_df,\n                       order=ageAxis,\n                       lw=0)\nworld_ppy = sns.barplot(x='Population, total male',\n                       y='Age',\n                       data=world_ppy_df,\n                       order=ageAxis,\n                       lw=0)\nworld_ppy.axvline(color='w')\n\nworld_ppy.figsize(15,15)\nworld_ppy.set(xlabel=\"Population (hundreds of millions)\", ylabel=\"Age-Group\", title = \"Population Pyramid\");",
    "id": "48fdea99414c4cde9ff74d40455a0357",
    "idx": 17,
    "time": "2021-02-12T04:09:09.228Z",
    "type": "execution"
   },
   {
    "id": "48fdea99414c4cde9ff74d40455a0357",
    "time": "2021-02-12T04:09:09.883Z",
    "type": "completion"
   },
   {
    "code": "# Create axis labels for age brackets\nages = [col[16:21] for col in world_df.columns[::2]]\nages = ages[:-3]\nages.append('80+')\n\nf_pop = list(world_df.iloc[0])[::2][:-2]\nm_pop = list(world_df.iloc[0])[1::2][:-1]\n\nworld_ppy_df = pd.DataFrame({'Age': ages,\n             'Population, total female': f_pop,\n             'Population, total male': m_pop})\nworld_ppy_df['Population, total male'] = world_ppy_df['Population, total male']*-1\n\nageAxis = ages[::-1]\nworld_ppy = sns.barplot(x='Population, total female',\n                       y='Age',\n                       data=world_ppy_df,\n                       order=ageAxis,\n                       lw=0)\nworld_ppy = sns.barplot(x='Population, total male',\n                       y='Age',\n                       data=world_ppy_df,\n                       order=ageAxis,\n                       lw=0)\nworld_ppy.axvline(color='w')\n\nplt.subplots(figsize=(15,15))\nworld_ppy.set(xlabel=\"Population (hundreds of millions)\", ylabel=\"Age-Group\", title = \"Population Pyramid\");",
    "id": "48fdea99414c4cde9ff74d40455a0357",
    "idx": 17,
    "time": "2021-02-12T04:09:50.110Z",
    "type": "execution"
   },
   {
    "id": "48fdea99414c4cde9ff74d40455a0357",
    "time": "2021-02-12T04:09:50.912Z",
    "type": "completion"
   },
   {
    "code": "# Create axis labels for age brackets\nages = [col[16:21] for col in world_df.columns[::2]]\nages = ages[:-3]\nages.append('80+')\n\nf_pop = list(world_df.iloc[0])[::2][:-2]\nm_pop = list(world_df.iloc[0])[1::2][:-1]\n\nworld_ppy_df = pd.DataFrame({'Age': ages,\n             'Population, total female': f_pop,\n             'Population, total male': m_pop})\nworld_ppy_df['Population, total male'] = world_ppy_df['Population, total male']*-1\n\nageAxis = ages[::-1]\nworld_ppy = sns.barplot(x='Population, total female',\n                       y='Age',\n                       data=world_ppy_df,\n                       order=ageAxis,\n                       lw=0)\nworld_ppy = sns.barplot(x='Population, total male',\n                       y='Age',\n                       data=world_ppy_df,\n                       order=ageAxis,\n                       lw=0)\nworld_ppy.axvline(color='w')\nworld_ppy.subplots(figsize=(15,15))\nworld_ppy.set(xlabel=\"Population (hundreds of millions)\", ylabel=\"Age-Group\", title = \"Population Pyramid\");",
    "id": "48fdea99414c4cde9ff74d40455a0357",
    "idx": 17,
    "time": "2021-02-12T04:10:02.028Z",
    "type": "execution"
   },
   {
    "id": "48fdea99414c4cde9ff74d40455a0357",
    "time": "2021-02-12T04:10:02.729Z",
    "type": "completion"
   },
   {
    "code": "# Create axis labels for age brackets\nages = [col[16:21] for col in world_df.columns[::2]]\nages = ages[:-3]\nages.append('80+')\n\nf_pop = list(world_df.iloc[0])[::2][:-2]\nm_pop = list(world_df.iloc[0])[1::2][:-1]\n\nworld_ppy_df = pd.DataFrame({'Age': ages,\n             'Population, total female': f_pop,\n             'Population, total male': m_pop})\nworld_ppy_df['Population, total male'] = world_ppy_df['Population, total male']*-1\n\nageAxis = ages[::-1]\nworld_ppy = sns.barplot(x='Population, total female',\n                       y='Age',\n                       data=world_ppy_df,\n                       order=ageAxis,\n                       lw=0)\nworld_ppy = sns.barplot(x='Population, total male',\n                       y='Age',\n                       data=world_ppy_df,\n                       order=ageAxis,\n                       lw=0)\nworld_ppy.axvline(color='w')\nworld_ppy.adjust(figsize=(15,15))\nworld_ppy.set(xlabel=\"Population (hundreds of millions)\", ylabel=\"Age-Group\", title = \"Population Pyramid\");",
    "id": "48fdea99414c4cde9ff74d40455a0357",
    "idx": 17,
    "time": "2021-02-12T04:10:15.359Z",
    "type": "execution"
   },
   {
    "id": "48fdea99414c4cde9ff74d40455a0357",
    "time": "2021-02-12T04:10:15.929Z",
    "type": "completion"
   },
   {
    "code": "# Create axis labels for age brackets\nages = [col[16:21] for col in world_df.columns[::2]]\nages = ages[:-3]\nages.append('80+')\n\nf_pop = list(world_df.iloc[0])[::2][:-2]\nm_pop = list(world_df.iloc[0])[1::2][:-1]\n\nworld_ppy_df = pd.DataFrame({'Age': ages,\n             'Population, total female': f_pop,\n             'Population, total male': m_pop})\nworld_ppy_df['Population, total male'] = world_ppy_df['Population, total male']*-1\n\nageAxis = ages[::-1]\nworld_ppy = sns.barplot(x='Population, total female',\n                       y='Age',\n                       data=world_ppy_df,\n                       order=ageAxis,\n                       lw=0)\nworld_ppy = sns.barplot(x='Population, total male',\n                       y='Age',\n                       data=world_ppy_df,\n                       order=ageAxis,\n                       lw=0)\nworld_ppy.axvline(color='w')\nworld_ppy.figure(figsize=(15,15))\nworld_ppy.set(xlabel=\"Population (hundreds of millions)\", ylabel=\"Age-Group\", title = \"Population Pyramid\");",
    "id": "48fdea99414c4cde9ff74d40455a0357",
    "idx": 17,
    "time": "2021-02-12T04:10:20.988Z",
    "type": "execution"
   },
   {
    "id": "48fdea99414c4cde9ff74d40455a0357",
    "time": "2021-02-12T04:10:21.517Z",
    "type": "completion"
   },
   {
    "code": "# Create axis labels for age brackets\nages = [col[16:21] for col in world_df.columns[::2]]\nages = ages[:-3]\nages.append('80+')\n\nf_pop = list(world_df.iloc[0])[::2][:-2]\nm_pop = list(world_df.iloc[0])[1::2][:-1]\n\nworld_ppy_df = pd.DataFrame({'Age': ages,\n             'Population, total female': f_pop,\n             'Population, total male': m_pop})\nworld_ppy_df['Population, total male'] = world_ppy_df['Population, total male']*-1\n\nfig, ax = pyplot.subplots(figsize=(15,15))\nageAxis = ages[::-1]\nworld_ppy = sns.barplot(x='Population, total female',\n                       y='Age',\n                       data=world_ppy_df,\n                       order=ageAxis,\n                       lw=0)\nworld_ppy = sns.barplot(x='Population, total male',\n                       y='Age',\n                       data=world_ppy_df,\n                       order=ageAxis,\n                       lw=0)\nworld_ppy.axvline(color='w')\nworld_ppy\nworld_ppy.set(xlabel=\"Population (hundreds of millions)\", ylabel=\"Age-Group\", title = \"Population Pyramid\");",
    "id": "48fdea99414c4cde9ff74d40455a0357",
    "idx": 17,
    "time": "2021-02-12T04:11:53.109Z",
    "type": "execution"
   },
   {
    "id": "48fdea99414c4cde9ff74d40455a0357",
    "time": "2021-02-12T04:11:53.242Z",
    "type": "completion"
   },
   {
    "code": "# Create axis labels for age brackets\nages = [col[16:21] for col in world_df.columns[::2]]\nages = ages[:-3]\nages.append('80+')\n\nf_pop = list(world_df.iloc[0])[::2][:-2]\nm_pop = list(world_df.iloc[0])[1::2][:-1]\n\nworld_ppy_df = pd.DataFrame({'Age': ages,\n             'Population, total female': f_pop,\n             'Population, total male': m_pop})\nworld_ppy_df['Population, total male'] = world_ppy_df['Population, total male']*-1\n\nfig, ax = py.subplots(figsize=(15,15))\nageAxis = ages[::-1]\nworld_ppy = sns.barplot(x='Population, total female',\n                       y='Age',\n                       data=world_ppy_df,\n                       order=ageAxis,\n                       lw=0)\nworld_ppy = sns.barplot(x='Population, total male',\n                       y='Age',\n                       data=world_ppy_df,\n                       order=ageAxis,\n                       lw=0)\nworld_ppy.axvline(color='w')\nworld_ppy\nworld_ppy.set(xlabel=\"Population (hundreds of millions)\", ylabel=\"Age-Group\", title = \"Population Pyramid\");",
    "id": "48fdea99414c4cde9ff74d40455a0357",
    "idx": 17,
    "time": "2021-02-12T04:12:01.519Z",
    "type": "execution"
   },
   {
    "id": "48fdea99414c4cde9ff74d40455a0357",
    "time": "2021-02-12T04:12:01.595Z",
    "type": "completion"
   },
   {
    "code": "# Create axis labels for age brackets\nages = [col[16:21] for col in world_df.columns[::2]]\nages = ages[:-3]\nages.append('80+')\n\nf_pop = list(world_df.iloc[0])[::2][:-2]\nm_pop = list(world_df.iloc[0])[1::2][:-1]\n\nworld_ppy_df = pd.DataFrame({'Age': ages,\n             'Population, total female': f_pop,\n             'Population, total male': m_pop})\nworld_ppy_df['Population, total male'] = world_ppy_df['Population, total male']*-1\n\nfig, ax = plt.subplots(figsize=(15,15))\nageAxis = ages[::-1]\nworld_ppy = sns.barplot(x='Population, total female',\n                       y='Age',\n                       data=world_ppy_df,\n                       order=ageAxis,\n                       lw=0)\nworld_ppy = sns.barplot(x='Population, total male',\n                       y='Age',\n                       data=world_ppy_df,\n                       order=ageAxis,\n                       lw=0)\nworld_ppy.axvline(color='w')\nworld_ppy\nworld_ppy.set(xlabel=\"Population (hundreds of millions)\", ylabel=\"Age-Group\", title = \"Population Pyramid\");",
    "id": "48fdea99414c4cde9ff74d40455a0357",
    "idx": 17,
    "time": "2021-02-12T04:12:14.263Z",
    "type": "execution"
   },
   {
    "id": "48fdea99414c4cde9ff74d40455a0357",
    "time": "2021-02-12T04:12:14.889Z",
    "type": "completion"
   },
   {
    "code": "# Create axis labels for age brackets\nages = [col[16:21] for col in world_df.columns[::2]]\nages = ages[:-3]\nages.append('80+')\n\nf_pop = list(world_df.iloc[0])[::2][:-2]\nm_pop = list(world_df.iloc[0])[1::2][:-1]\n\nworld_ppy_df = pd.DataFrame({'Age': ages,\n             'Population, total female': f_pop,\n             'Population, total male': m_pop})\nworld_ppy_df['Population, total male'] = world_ppy_df['Population, total male']*-1\n\nworld_ppy, ax = plt.subplots(figsize=(15,15))\nageAxis = ages[::-1]\nworld_ppy = sns.barplot(x='Population, total female',\n                       y='Age',\n                       data=world_ppy_df,\n                       order=ageAxis,\n                       lw=0)\nworld_ppy = sns.barplot(x='Population, total male',\n                       y='Age',\n                       data=world_ppy_df,\n                       order=ageAxis,\n                       lw=0)\nworld_ppy.axvline(color='w')\nworld_ppy\nworld_ppy.set(xlabel=\"Population (hundreds of millions)\", ylabel=\"Age-Group\", title = \"Population Pyramid\");",
    "id": "48fdea99414c4cde9ff74d40455a0357",
    "idx": 17,
    "time": "2021-02-12T04:12:29.669Z",
    "type": "execution"
   },
   {
    "id": "48fdea99414c4cde9ff74d40455a0357",
    "time": "2021-02-12T04:12:30.340Z",
    "type": "completion"
   },
   {
    "code": "# Create axis labels for age brackets\nages = [col[16:21] for col in world_df.columns[::2]]\nages = ages[:-3]\nages.append('80+')\n\nf_pop = list(world_df.iloc[0])[::2][:-2]\nm_pop = list(world_df.iloc[0])[1::2][:-1]\n\nworld_ppy_df = pd.DataFrame({'Age': ages,\n             'Population, total female': f_pop,\n             'Population, total male': m_pop})\nworld_ppy_df['Population, total male'] = world_ppy_df['Population, total male']*-1\n\nworld_ppy, ax = plt.subplots(figsize=(10,10))\nageAxis = ages[::-1]\nworld_ppy = sns.barplot(x='Population, total female',\n                       y='Age',\n                       data=world_ppy_df,\n                       order=ageAxis,\n                       lw=0)\nworld_ppy = sns.barplot(x='Population, total male',\n                       y='Age',\n                       data=world_ppy_df,\n                       order=ageAxis,\n                       lw=0)\nworld_ppy.axvline(color='w')\nworld_ppy\nworld_ppy.set(xlabel=\"Population (hundreds of millions)\", ylabel=\"Age-Group\", title = \"Population Pyramid\");",
    "id": "48fdea99414c4cde9ff74d40455a0357",
    "idx": 17,
    "time": "2021-02-12T04:12:36.659Z",
    "type": "execution"
   },
   {
    "id": "48fdea99414c4cde9ff74d40455a0357",
    "time": "2021-02-12T04:12:37.251Z",
    "type": "completion"
   },
   {
    "code": "# Create axis labels for age brackets\nages = [col[16:21] for col in world_df.columns[::2]]\nages = ages[:-3]\nages.append('80+')\n\nf_pop = list(world_df.iloc[0])[::2][:-2]\nm_pop = list(world_df.iloc[0])[1::2][:-1]\n\nworld_ppy_df = pd.DataFrame({'Age': ages,\n             'Population, total female': f_pop,\n             'Population, total male': m_pop})\nworld_ppy_df['Population, total male'] = world_ppy_df['Population, total male']*-1\n\nworld_ppy, ax = plt.subplots(figsize=(10,5))\nageAxis = ages[::-1]\nworld_ppy = sns.barplot(x='Population, total female',\n                       y='Age',\n                       data=world_ppy_df,\n                       order=ageAxis,\n                       lw=0)\nworld_ppy = sns.barplot(x='Population, total male',\n                       y='Age',\n                       data=world_ppy_df,\n                       order=ageAxis,\n                       lw=0)\nworld_ppy.axvline(color='w')\nworld_ppy\nworld_ppy.set(xlabel=\"Population (hundreds of millions)\", ylabel=\"Age-Group\", title = \"Population Pyramid\");",
    "id": "48fdea99414c4cde9ff74d40455a0357",
    "idx": 17,
    "time": "2021-02-12T04:12:44.648Z",
    "type": "execution"
   },
   {
    "id": "48fdea99414c4cde9ff74d40455a0357",
    "time": "2021-02-12T04:12:45.290Z",
    "type": "completion"
   },
   {
    "code": "# Create axis labels for age brackets\nages = [col[16:21] for col in world_df.columns[::2]]\nages = ages[:-3]\nages.append('80+')\n\nf_pop = list(world_df.iloc[0])[::2][:-2]\nm_pop = list(world_df.iloc[0])[1::2][:-1]\n\nworld_ppy_df = pd.DataFrame({'Age': ages,\n             'Population, total female': f_pop,\n             'Population, total male': m_pop})\nworld_ppy_df['Population, total male'] = world_ppy_df['Population, total male']*-1\n\nworld_ppy, ax = plt.subplots(figsize=(10,7))\nageAxis = ages[::-1]\nworld_ppy = sns.barplot(x='Population, total female',\n                       y='Age',\n                       data=world_ppy_df,\n                       order=ageAxis,\n                       lw=0)\nworld_ppy = sns.barplot(x='Population, total male',\n                       y='Age',\n                       data=world_ppy_df,\n                       order=ageAxis,\n                       lw=0)\nworld_ppy.axvline(color='w')\nworld_ppy\nworld_ppy.set(xlabel=\"Population (hundreds of millions)\", ylabel=\"Age-Group\", title = \"Population Pyramid\");",
    "id": "48fdea99414c4cde9ff74d40455a0357",
    "idx": 17,
    "time": "2021-02-12T04:12:48.090Z",
    "type": "execution"
   },
   {
    "id": "48fdea99414c4cde9ff74d40455a0357",
    "time": "2021-02-12T04:12:48.695Z",
    "type": "completion"
   },
   {
    "code": "# Create axis labels for age brackets\nages = [col[16:21] for col in world_df.columns[::2]]\nages = ages[:-3]\nages.append('80+')\n\nf_pop = list(world_df.iloc[0])[::2][:-2]\nm_pop = list(world_df.iloc[0])[1::2][:-1]\n\nworld_ppy_df = pd.DataFrame({'Age': ages,\n             'Population, total female': f_pop,\n             'Population, total male': m_pop})\nworld_ppy_df['Population, total male'] = world_ppy_df['Population, total male']*-1\n\nworld_ppy, ax = plt.subplots(figsize=(11.7,8.27))\nageAxis = ages[::-1]\nworld_ppy = sns.barplot(x='Population, total female',\n                       y='Age',\n                       data=world_ppy_df,\n                       order=ageAxis,\n                       lw=0)\nworld_ppy = sns.barplot(x='Population, total male',\n                       y='Age',\n                       data=world_ppy_df,\n                       order=ageAxis,\n                       lw=0)\nworld_ppy.axvline(color='w')\nworld_ppy\nworld_ppy.set(xlabel=\"Population (hundreds of millions)\", ylabel=\"Age-Group\", title = \"Population Pyramid\");",
    "id": "48fdea99414c4cde9ff74d40455a0357",
    "idx": 17,
    "time": "2021-02-12T04:12:57.140Z",
    "type": "execution"
   },
   {
    "id": "48fdea99414c4cde9ff74d40455a0357",
    "time": "2021-02-12T04:12:57.697Z",
    "type": "completion"
   },
   {
    "code": "# Create axis labels for age brackets\nages = [col[16:21] for col in world_df.columns[::2]]\nages = ages[:-3]\nages.append('80+')\n\nf_pop = list(world_df.iloc[0])[::2][:-2]\nm_pop = list(world_df.iloc[0])[1::2][:-1]\n\nworld_ppy_df = pd.DataFrame({'Age': ages,\n             'Population, total female': f_pop,\n             'Population, total male': m_pop})\nworld_ppy_df['Population, total male'] = world_ppy_df['Population, total male']*-1\n\n\nworld_ppy, ax = plt.subplots(figsize=(11.7, 8.27))\nageAxis = ages[::-1]\nworld_ppy = sns.barplot(x='Population, total female',\n                       y='Age',\n                       data=world_ppy_df,\n                       order=ageAxis,\n                       lw=0,\n                       color='dodgerblue')\nworld_ppy = sns.barplot(x='Population, total male',\n                       y='Age',\n                       data=world_ppy_df,\n                       order=ageAxis,\n                       lw=0)\nworld_ppy.axvline(color='w')\nworld_ppy\nworld_ppy.set(xlabel=\"Population (hundreds of millions)\", ylabel=\"Age-Group\", title = \"Population Pyramid\");",
    "id": "48fdea99414c4cde9ff74d40455a0357",
    "idx": 17,
    "time": "2021-02-12T04:15:31.240Z",
    "type": "execution"
   },
   {
    "id": "48fdea99414c4cde9ff74d40455a0357",
    "time": "2021-02-12T04:15:31.816Z",
    "type": "completion"
   },
   {
    "code": "# Create axis labels for age brackets\nages = [col[16:21] for col in world_df.columns[::2]]\nages = ages[:-3]\nages.append('80+')\n\nf_pop = list(world_df.iloc[0])[::2][:-2]\nm_pop = list(world_df.iloc[0])[1::2][:-1]\n\nworld_ppy_df = pd.DataFrame({'Age': ages,\n             'Population, total female': f_pop,\n             'Population, total male': m_pop})\nworld_ppy_df['Population, total male'] = world_ppy_df['Population, total male']*-1\n\n\nworld_ppy, ax = plt.subplots(figsize=(11.7, 8.27))\nageAxis = ages[::-1]\nworld_ppy = sns.barplot(x='Population, total female',\n                        y='Age',\n                        data=world_ppy_df,\n                        order=ageAxis,\n                        lw=0,\n                        color='dodgerblue')\nworld_ppy = sns.barplot(x='Population, total male',\n                        y='Age',\n                        data=world_ppy_df,\n                        order=ageAxis,\n                        lw=0,\n                        color='crimson')\n                        \nworld_ppy.axvline(color='w')\nworld_ppy\nworld_ppy.set(xlabel=\"Population (hundreds of millions)\", ylabel=\"Age-Group\", title = \"Population Pyramid\");",
    "id": "48fdea99414c4cde9ff74d40455a0357",
    "idx": 17,
    "time": "2021-02-12T04:17:20.041Z",
    "type": "execution"
   },
   {
    "id": "48fdea99414c4cde9ff74d40455a0357",
    "time": "2021-02-12T04:17:20.646Z",
    "type": "completion"
   },
   {
    "code": "# Create axis labels for age brackets\nages = [col[16:21] for col in world_df.columns[::2]]\nages = ages[:-3]\nages.append('80+')\n\nf_pop = list(world_df.iloc[0])[::2][:-2]\nm_pop = list(world_df.iloc[0])[1::2][:-1]\n\nworld_ppy_df = pd.DataFrame({'Age': ages,\n             'Population, total female': f_pop,\n             'Population, total male': m_pop})\nworld_ppy_df['Population, total male'] = world_ppy_df['Population, total male']*-1\n\n\nworld_ppy, ax = plt.subplots(figsize=(11.7, 8.27))\nageAxis = ages[::-1]\nworld_ppy = sns.barplot(x='Population, total female',\n                        y='Age',\n                        data=world_ppy_df,\n                        order=ageAxis,\n                        lw=0,\n                        color='crimson')\nworld_ppy = sns.barplot(x='Population, total male',\n                        y='Age',\n                        data=world_ppy_df,\n                        order=ageAxis,\n                        lw=0,\n                        color='dodgerblue')\n                        \nworld_ppy.axvline(color='w')\nworld_ppy\nworld_ppy.set(xlabel=\"Population (hundreds of millions)\", ylabel=\"Age-Group\", title = \"Population Pyramid\");",
    "id": "48fdea99414c4cde9ff74d40455a0357",
    "idx": 17,
    "time": "2021-02-12T04:17:35.446Z",
    "type": "execution"
   },
   {
    "id": "48fdea99414c4cde9ff74d40455a0357",
    "time": "2021-02-12T04:17:36.266Z",
    "type": "completion"
   },
   {
    "code": "# Create axis labels for age brackets\nages = [col[16:21] for col in world_df.columns[::2]]\nages = ages[:-3]\nages.append('80+')\n\nf_pop = list(world_df.iloc[0])[::2][:-2]\nm_pop = list(world_df.iloc[0])[1::2][:-1]\n\nworld_ppy_df = pd.DataFrame({'Age': ages,\n             'Population, total female': f_pop,\n             'Population, total male': m_pop})\nworld_ppy_df['Population, total male'] = world_ppy_df['Population, total male']*-1\n\n\nworld_ppy, ax = plt.subplots(figsize=(11.7, 8.27))\nageAxis = ages[::-1]\nworld_ppy = sns.barplot(x='Population, total female',\n                        y='Age',\n                        data=world_ppy_df,\n                        order=ageAxis,\n                        lw=0,\n                        color='crimson')\nworld_ppy = sns.barplot(x='Population, total male',\n                        y='Age',\n                        data=world_ppy_df,\n                        order=ageAxis,\n                        lw=0,\n                        color='dodgerblue')\n                        \nworld_ppy.axvline(lw=10, color='w')\nworld_ppy.set(xlabel=\"Population (hundreds of millions)\", ylabel=\"Age Group\", title = \"Population Pyramid\");",
    "id": "48fdea99414c4cde9ff74d40455a0357",
    "idx": 17,
    "time": "2021-02-12T04:18:51.521Z",
    "type": "execution"
   },
   {
    "id": "48fdea99414c4cde9ff74d40455a0357",
    "time": "2021-02-12T04:18:52.119Z",
    "type": "completion"
   },
   {
    "code": "# Create axis labels for age brackets\nages = [col[16:21] for col in world_df.columns[::2]]\nages = ages[:-3]\nages.append('80+')\n\nf_pop = list(world_df.iloc[0])[::2][:-2]\nm_pop = list(world_df.iloc[0])[1::2][:-1]\n\nworld_ppy_df = pd.DataFrame({'Age': ages,\n             'Population, total female': f_pop,\n             'Population, total male': m_pop})\nworld_ppy_df['Population, total male'] = world_ppy_df['Population, total male']*-1\n\n\nworld_ppy, ax = plt.subplots(figsize=(11.7, 8.27))\nageAxis = ages[::-1]\nworld_ppy = sns.barplot(x='Population, total female',\n                        y='Age',\n                        data=world_ppy_df,\n                        order=ageAxis,\n                        lw=0,\n                        color='crimson')\nworld_ppy = sns.barplot(x='Population, total male',\n                        y='Age',\n                        data=world_ppy_df,\n                        order=ageAxis,\n                        lw=0,\n                        color='dodgerblue')\n                        \nworld_ppy.axvline(lw=5, color='w')\nworld_ppy.set(xlabel=\"Population (hundreds of millions)\", ylabel=\"Age Group\", title = \"Population Pyramid\");",
    "id": "48fdea99414c4cde9ff74d40455a0357",
    "idx": 17,
    "time": "2021-02-12T04:18:56.932Z",
    "type": "execution"
   },
   {
    "id": "48fdea99414c4cde9ff74d40455a0357",
    "time": "2021-02-12T04:18:57.517Z",
    "type": "completion"
   },
   {
    "code": "# Create axis labels for age brackets\nages = [col[16:21] for col in world_df.columns[::2]]\nages = ages[:-3]\nages.append('80+')\n\nf_pop = list(world_df.iloc[0])[::2][:-2]\nm_pop = list(world_df.iloc[0])[1::2][:-1]\n\nworld_ppy_df = pd.DataFrame({'Age': ages,\n             'Population, total female': f_pop,\n             'Population, total male': m_pop})\nworld_ppy_df['Population, total male'] = world_ppy_df['Population, total male']*-1\n\n\nworld_ppy, ax = plt.subplots(figsize=(11.7, 8.27))\nageAxis = ages[::-1]\nworld_ppy = sns.barplot(x='Population, total female',\n                        y='Age',\n                        data=world_ppy_df,\n                        order=ageAxis,\n                        lw=0,\n                        color='crimson')\nworld_ppy = sns.barplot(x='Population, total male',\n                        y='Age',\n                        data=world_ppy_df,\n                        order=ageAxis,\n                        lw=0,\n                        color='dodgerblue')\n                        \nworld_ppy.axvline(lw=3, color='w')\nworld_ppy.set(xlabel=\"Population (hundreds of millions)\", ylabel=\"Age Group\", title = \"Population Pyramid\");",
    "id": "48fdea99414c4cde9ff74d40455a0357",
    "idx": 17,
    "time": "2021-02-12T04:19:07.361Z",
    "type": "execution"
   },
   {
    "id": "48fdea99414c4cde9ff74d40455a0357",
    "time": "2021-02-12T04:19:07.936Z",
    "type": "completion"
   },
   {
    "code": "# Create axis labels for age brackets\nages = [col[16:21] for col in world_df.columns[::2]]\nages = ages[:-3]\nages.append('80+')\n\nf_pop = list(world_df.iloc[0])[::2][:-2]\nm_pop = list(world_df.iloc[0])[1::2][:-1]\n\nworld_ppy_df = pd.DataFrame({'Age': ages,\n             'Population, total female': f_pop,\n             'Population, total male': m_pop})\nworld_ppy_df['Population, total male'] = world_ppy_df['Population, total male']*-1\n\n\nworld_ppy, ax = plt.subplots(figsize=(11.7, 8.27))\nageAxis = ages[::-1]\nworld_ppy = sns.barplot(x='Population, total female',\n                        y='Age',\n                        data=world_ppy_df,\n                        order=ageAxis,\n                        lw=0,\n                        color='crimson')\nworld_ppy = sns.barplot(x='Population, total male',\n                        y='Age',\n                        data=world_ppy_df,\n                        order=ageAxis,\n                        lw=0,\n                        color='dodgerblue')\n                        \nworld_ppy.axvline(lw=3.5, color='w')\nworld_ppy.set(xlabel=\"Population (hundreds of millions)\", ylabel=\"Age Group\", title = \"Population Pyramid\");",
    "id": "48fdea99414c4cde9ff74d40455a0357",
    "idx": 17,
    "time": "2021-02-12T04:19:12.172Z",
    "type": "execution"
   },
   {
    "id": "48fdea99414c4cde9ff74d40455a0357",
    "time": "2021-02-12T04:19:14.375Z",
    "type": "completion"
   },
   {
    "code": "# Create axis labels for age brackets\nages = [col[16:21] for col in world_df.columns[::2]]\nages = ages[:-3]\nages.append('80+')\n\nf_pop = list(world_df.iloc[0])[::2][:-2]\nm_pop = list(world_df.iloc[0])[1::2][:-1]\n\nworld_ppy_df = pd.DataFrame({'Age': ages,\n             'Population, total female': f_pop,\n             'Population, total male': m_pop})\nworld_ppy_df['Population, total male'] = world_ppy_df['Population, total male']*-1\n\n\nworld_ppy, ax = plt.subplots(figsize=(11.7, 8.27))\nageAxis = ages[::-1]\nworld_ppy = sns.barplot(x='Population, total female',\n                        y='Age',\n                        data=world_ppy_df,\n                        order=ageAxis,\n                        lw=0,\n                        color='crimson')\nworld_ppy = sns.barplot(x='Population, total male',\n                        y='Age',\n                        data=world_ppy_df,\n                        order=ageAxis,\n                        lw=0,\n                        color='coral')\n                        \nworld_ppy.axvline(lw=3.5, color='w')\nworld_ppy.set(xlabel=\"Population (hundreds of millions)\", ylabel=\"Age Group\", title = \"Population Pyramid\");",
    "id": "48fdea99414c4cde9ff74d40455a0357",
    "idx": 17,
    "time": "2021-02-12T04:20:18.833Z",
    "type": "execution"
   },
   {
    "id": "48fdea99414c4cde9ff74d40455a0357",
    "time": "2021-02-12T04:20:19.586Z",
    "type": "completion"
   },
   {
    "code": "# Create axis labels for age brackets\nages = [col[16:21] for col in world_df.columns[::2]]\nages = ages[:-3]\nages.append('80+')\n\nf_pop = list(world_df.iloc[0])[::2][:-2]\nm_pop = list(world_df.iloc[0])[1::2][:-1]\n\nworld_ppy_df = pd.DataFrame({'Age': ages,\n             'Population, total female': f_pop,\n             'Population, total male': m_pop})\nworld_ppy_df['Population, total male'] = world_ppy_df['Population, total male']*-1\n\n\nworld_ppy, ax = plt.subplots(figsize=(11.7, 8.27))\nageAxis = ages[::-1]\nworld_ppy = sns.barplot(x='Population, total female',\n                        y='Age',\n                        data=world_ppy_df,\n                        order=ageAxis,\n                        lw=0,\n                        color='coral')\nworld_ppy = sns.barplot(x='Population, total male',\n                        y='Age',\n                        data=world_ppy_df,\n                        order=ageAxis,\n                        lw=0,\n                        color='dodgerblue')\n                        \nworld_ppy.axvline(lw=3.5, color='w')\nworld_ppy.set(xlabel=\"Population (hundreds of millions)\", ylabel=\"Age Group\", title = \"Population Pyramid\");",
    "id": "48fdea99414c4cde9ff74d40455a0357",
    "idx": 17,
    "time": "2021-02-12T04:20:23.282Z",
    "type": "execution"
   },
   {
    "id": "48fdea99414c4cde9ff74d40455a0357",
    "time": "2021-02-12T04:20:24.017Z",
    "type": "completion"
   },
   {
    "code": "# Create axis labels for age brackets\nages = [col[16:21] for col in world_df.columns[::2]]\nages = ages[:-3]\nages.append('80+')\n\nf_pop = list(world_df.iloc[0])[::2][:-2]\nm_pop = list(world_df.iloc[0])[1::2][:-1]\n\nworld_ppy_df = pd.DataFrame({'Age': ages,\n             'Population, total female': f_pop,\n             'Population, total male': m_pop})\nworld_ppy_df['Population, total male'] = world_ppy_df['Population, total male']*-1\n\n\nworld_ppy, ax = plt.subplots(figsize=(11.7, 8.27))\nageAxis = ages[::-1]\nworld_ppy = sns.barplot(x='Population, total female',\n                        y='Age',\n                        data=world_ppy_df,\n                        order=ageAxis,\n                        lw=0,\n                        color='orangered')\nworld_ppy = sns.barplot(x='Population, total male',\n                        y='Age',\n                        data=world_ppy_df,\n                        order=ageAxis,\n                        lw=0,\n                        color='dodgerblue')\n                        \nworld_ppy.axvline(lw=3.5, color='w')\nworld_ppy.set(xlabel=\"Population (hundreds of millions)\", ylabel=\"Age Group\", title = \"Population Pyramid\");",
    "id": "48fdea99414c4cde9ff74d40455a0357",
    "idx": 17,
    "time": "2021-02-12T04:20:30.835Z",
    "type": "execution"
   },
   {
    "id": "48fdea99414c4cde9ff74d40455a0357",
    "time": "2021-02-12T04:20:31.420Z",
    "type": "completion"
   },
   {
    "code": "# Create axis labels for age brackets\nages = [col[16:21] for col in world_df.columns[::2]]\nages = ages[:-3]\nages.append('80+')\n\nf_pop = list(world_df.iloc[0])[::2][:-2]\nm_pop = list(world_df.iloc[0])[1::2][:-1]\n\nworld_ppy_df = pd.DataFrame({'Age': ages,\n             'Population, total female': f_pop,\n             'Population, total male': m_pop})\nworld_ppy_df['Population, total male'] = world_ppy_df['Population, total male']*-1\n\n\nworld_ppy, ax = plt.subplots(figsize=(11.7, 8.27))\nageAxis = ages[::-1]\nworld_ppy = sns.barplot(x='Population, total female',\n                        y='Age',\n                        data=world_ppy_df,\n                        order=ageAxis,\n                        lw=0,\n                        color='orangered')\nworld_ppy = sns.barplot(x='Population, total male',\n                        y='Age',\n                        data=world_ppy_df,\n                        order=ageAxis,\n                        lw=0,\n                        color='royalblue')\n                        \nworld_ppy.axvline(lw=3.5, color='w')\nworld_ppy.set(xlabel=\"Population (hundreds of millions)\", ylabel=\"Age Group\", title = \"Population Pyramid\");",
    "id": "48fdea99414c4cde9ff74d40455a0357",
    "idx": 17,
    "time": "2021-02-12T04:22:26.667Z",
    "type": "execution"
   },
   {
    "id": "48fdea99414c4cde9ff74d40455a0357",
    "time": "2021-02-12T04:22:27.394Z",
    "type": "completion"
   },
   {
    "code": "# Create axis labels for age brackets\nages = [col[16:21] for col in world_df.columns[::2]]\nages = ages[:-3]\nages.append('80+')\n\nf_pop = list(world_df.iloc[0])[::2][:-2]\nm_pop = list(world_df.iloc[0])[1::2][:-1]\n\nworld_ppy_df = pd.DataFrame({'Age': ages,\n             'Population, total female': f_pop,\n             'Population, total male': m_pop})\nworld_ppy_df['Population, total male'] = world_ppy_df['Population, total male']*-1\n\n\nworld_ppy, ax = plt.subplots(figsize=(11.7, 8.27))\nageAxis = ages[::-1]\nworld_ppy = sns.barplot(x='Population, total female',\n                        y='Age',\n                        data=world_ppy_df,\n                        order=ageAxis,\n                        lw=0,\n                        color='orangered')\nworld_ppy = sns.barplot(x='Population, total male',\n                        y='Age',\n                        data=world_ppy_df,\n                        order=ageAxis,\n                        lw=0,\n                        color='cornflowerblue')\n                        \nworld_ppy.axvline(lw=3.5, color='w')\nworld_ppy.set(xlabel=\"Population (hundreds of millions)\", ylabel=\"Age Group\", title = \"Population Pyramid\");",
    "id": "48fdea99414c4cde9ff74d40455a0357",
    "idx": 17,
    "time": "2021-02-12T04:22:31.054Z",
    "type": "execution"
   },
   {
    "id": "48fdea99414c4cde9ff74d40455a0357",
    "time": "2021-02-12T04:22:31.636Z",
    "type": "completion"
   },
   {
    "code": "# Create axis labels for age brackets\nages = [col[16:21] for col in world_df.columns[::2]]\nages = ages[:-3]\nages.append('80+')\n\nf_pop = list(world_df.iloc[0])[::2][:-2]\nm_pop = list(world_df.iloc[0])[1::2][:-1]\n\nworld_ppy_df = pd.DataFrame({'Age': ages,\n             'Population, total female': f_pop,\n             'Population, total male': m_pop})\nworld_ppy_df['Population, total male'] = world_ppy_df['Population, total male']*-1\n\n\nworld_ppy, ax = plt.subplots(figsize=(11.7, 8.27))\nageAxis = ages[::-1]\nworld_ppy = sns.barplot(x='Population, total female',\n                        y='Age',\n                        data=world_ppy_df,\n                        order=ageAxis,\n                        lw=0,\n                        color='orangered')\nworld_ppy = sns.barplot(x='Population, total male',\n                        y='Age',\n                        data=world_ppy_df,\n                        order=ageAxis,\n                        lw=0,\n                        color='dodgerblue')\n                        \nworld_ppy.axvline(lw=3.5, color='w')\nworld_ppy.set(xlabel=\"Population (hundreds of millions)\", ylabel=\"Age Group\", title = \"Population Pyramid\");",
    "id": "48fdea99414c4cde9ff74d40455a0357",
    "idx": 17,
    "time": "2021-02-12T04:22:42.815Z",
    "type": "execution"
   },
   {
    "id": "48fdea99414c4cde9ff74d40455a0357",
    "time": "2021-02-12T04:22:43.382Z",
    "type": "completion"
   },
   {
    "code": "# Create axis labels for age brackets\nages = [col[16:21] for col in world_df.columns[::2]]\nages = ages[:-3]\nages.append('80+')\n\nf_pop = list(world_df.iloc[0])[::2][:-2]\nm_pop = list(world_df.iloc[0])[1::2][:-1]\n\nworld_ppy_df = pd.DataFrame({'Age': ages,\n             'Population, total female': f_pop,\n             'Population, total male': m_pop})\nworld_ppy_df['Population, total male'] = world_ppy_df['Population, total male']*-1\n\n\nworld_ppy, ax = plt.subplots(figsize=(11.7, 8.27))\nageAxis = ages[::-1]\nworld_ppy = sns.barplot(x='Population, total female',\n                        y='Age',\n                        data=world_ppy_df,\n                        order=ageAxis,\n                        lw=0,\n                        color='gold')\nworld_ppy = sns.barplot(x='Population, total male',\n                        y='Age',\n                        data=world_ppy_df,\n                        order=ageAxis,\n                        lw=0,\n                        color='dodgerblue')\n                        \nworld_ppy.axvline(lw=3.5, color='w')\nworld_ppy.set(xlabel=\"Population (hundreds of millions)\", ylabel=\"Age Group\", title = \"Population Pyramid\");",
    "id": "48fdea99414c4cde9ff74d40455a0357",
    "idx": 17,
    "time": "2021-02-12T04:23:13.244Z",
    "type": "execution"
   },
   {
    "id": "48fdea99414c4cde9ff74d40455a0357",
    "time": "2021-02-12T04:23:13.996Z",
    "type": "completion"
   },
   {
    "code": "# Create axis labels for age brackets\nages = [col[16:21] for col in world_df.columns[::2]]\nages = ages[:-3]\nages.append('80+')\n\nf_pop = list(world_df.iloc[0])[::2][:-2]\nm_pop = list(world_df.iloc[0])[1::2][:-1]\n\nworld_ppy_df = pd.DataFrame({'Age': ages,\n             'Population, total female': f_pop,\n             'Population, total male': m_pop})\nworld_ppy_df['Population, total male'] = world_ppy_df['Population, total male']*-1\n\n\nworld_ppy, ax = plt.subplots(figsize=(11.7, 8.27))\nageAxis = ages[::-1]\nworld_ppy = sns.barplot(x='Population, total female',\n                        y='Age',\n                        data=world_ppy_df,\n                        order=ageAxis,\n                        lw=0,\n                        color='yellow')\nworld_ppy = sns.barplot(x='Population, total male',\n                        y='Age',\n                        data=world_ppy_df,\n                        order=ageAxis,\n                        lw=0,\n                        color='dodgerblue')\n                        \nworld_ppy.axvline(lw=3.5, color='w')\nworld_ppy.set(xlabel=\"Population (hundreds of millions)\", ylabel=\"Age Group\", title = \"Population Pyramid\");",
    "id": "48fdea99414c4cde9ff74d40455a0357",
    "idx": 17,
    "time": "2021-02-12T04:23:17.466Z",
    "type": "execution"
   },
   {
    "id": "48fdea99414c4cde9ff74d40455a0357",
    "time": "2021-02-12T04:23:20.551Z",
    "type": "completion"
   },
   {
    "code": "# Create axis labels for age brackets\nages = [col[16:21] for col in world_df.columns[::2]]\nages = ages[:-3]\nages.append('80+')\n\nf_pop = list(world_df.iloc[0])[::2][:-2]\nm_pop = list(world_df.iloc[0])[1::2][:-1]\n\nworld_ppy_df = pd.DataFrame({'Age': ages,\n             'Population, total female': f_pop,\n             'Population, total male': m_pop})\nworld_ppy_df['Population, total male'] = world_ppy_df['Population, total male']*-1\n\n\nworld_ppy, ax = plt.subplots(figsize=(11.7, 8.27))\nageAxis = ages[::-1]\nworld_ppy = sns.barplot(x='Population, total female',\n                        y='Age',\n                        data=world_ppy_df,\n                        order=ageAxis,\n                        lw=0,\n                        color='aliceblue')\nworld_ppy = sns.barplot(x='Population, total male',\n                        y='Age',\n                        data=world_ppy_df,\n                        order=ageAxis,\n                        lw=0,\n                        color='dodgerblue')\n                        \nworld_ppy.axvline(lw=3.5, color='w')\nworld_ppy.set(xlabel=\"Population (hundreds of millions)\", ylabel=\"Age Group\", title = \"Population Pyramid\");",
    "id": "48fdea99414c4cde9ff74d40455a0357",
    "idx": 17,
    "time": "2021-02-12T04:23:29.857Z",
    "type": "execution"
   },
   {
    "id": "48fdea99414c4cde9ff74d40455a0357",
    "time": "2021-02-12T04:23:30.522Z",
    "type": "completion"
   },
   {
    "code": "# Create axis labels for age brackets\nages = [col[16:21] for col in world_df.columns[::2]]\nages = ages[:-3]\nages.append('80+')\n\nf_pop = list(world_df.iloc[0])[::2][:-2]\nm_pop = list(world_df.iloc[0])[1::2][:-1]\n\nworld_ppy_df = pd.DataFrame({'Age': ages,\n             'Population, total female': f_pop,\n             'Population, total male': m_pop})\nworld_ppy_df['Population, total male'] = world_ppy_df['Population, total male']*-1\n\n\nworld_ppy, ax = plt.subplots(figsize=(11.7, 8.27))\nageAxis = ages[::-1]\nworld_ppy = sns.barplot(x='Population, total female',\n                        y='Age',\n                        data=world_ppy_df,\n                        order=ageAxis,\n                        lw=0,\n                        color='chartreuse')\nworld_ppy = sns.barplot(x='Population, total male',\n                        y='Age',\n                        data=world_ppy_df,\n                        order=ageAxis,\n                        lw=0,\n                        color='dodgerblue')\n                        \nworld_ppy.axvline(lw=3.5, color='w')\nworld_ppy.set(xlabel=\"Population (hundreds of millions)\", ylabel=\"Age Group\", title = \"Population Pyramid\");",
    "id": "48fdea99414c4cde9ff74d40455a0357",
    "idx": 17,
    "time": "2021-02-12T04:23:49.285Z",
    "type": "execution"
   },
   {
    "id": "48fdea99414c4cde9ff74d40455a0357",
    "time": "2021-02-12T04:23:49.851Z",
    "type": "completion"
   },
   {
    "code": "# Create axis labels for age brackets\nages = [col[16:21] for col in world_df.columns[::2]]\nages = ages[:-3]\nages.append('80+')\n\nf_pop = list(world_df.iloc[0])[::2][:-2]\nm_pop = list(world_df.iloc[0])[1::2][:-1]\n\nworld_ppy_df = pd.DataFrame({'Age': ages,\n             'Population, total female': f_pop,\n             'Population, total male': m_pop})\nworld_ppy_df['Population, total male'] = world_ppy_df['Population, total male']*-1\n\n\nworld_ppy, ax = plt.subplots(figsize=(11.7, 8.27))\nageAxis = ages[::-1]\nworld_ppy = sns.barplot(x='Population, total female',\n                        y='Age',\n                        data=world_ppy_df,\n                        order=ageAxis,\n                        lw=0,\n                        color='tomato')\nworld_ppy = sns.barplot(x='Population, total male',\n                        y='Age',\n                        data=world_ppy_df,\n                        order=ageAxis,\n                        lw=0,\n                        color='dodgerblue')\n                        \nworld_ppy.axvline(lw=3.5, color='w')\nworld_ppy.set(xlabel=\"Population (hundreds of millions)\", ylabel=\"Age Group\", title = \"Population Pyramid\");",
    "id": "48fdea99414c4cde9ff74d40455a0357",
    "idx": 17,
    "time": "2021-02-12T04:24:03.664Z",
    "type": "execution"
   },
   {
    "id": "48fdea99414c4cde9ff74d40455a0357",
    "time": "2021-02-12T04:24:04.246Z",
    "type": "completion"
   },
   {
    "code": "# Create axis labels for age brackets\nages = [col[16:21] for col in world_df.columns[::2]]\nages = ages[:-3]\nages.append('80+')\n\nf_pop = list(world_df.iloc[0])[::2][:-2]\nm_pop = list(world_df.iloc[0])[1::2][:-1]\n\nworld_ppy_df = pd.DataFrame({'Age': ages,\n             'Population, total female': f_pop,\n             'Population, total male': m_pop})\nworld_ppy_df['Population, total male'] = world_ppy_df['Population, total male']*-1\n\n\nworld_ppy, ax = plt.subplots(figsize=(11.7, 8.27))\nageAxis = ages[::-1]\nworld_ppy = sns.barplot(x='Population, total female',\n                        y='Age',\n                        data=world_ppy_df,\n                        order=ageAxis,\n                        lw=0,\n                        color='indianred')\nworld_ppy = sns.barplot(x='Population, total male',\n                        y='Age',\n                        data=world_ppy_df,\n                        order=ageAxis,\n                        lw=0,\n                        color='dodgerblue')\n                        \nworld_ppy.axvline(lw=3.5, color='w')\nworld_ppy.set(xlabel=\"Population (hundreds of millions)\", ylabel=\"Age Group\", title = \"Population Pyramid\");",
    "id": "48fdea99414c4cde9ff74d40455a0357",
    "idx": 17,
    "time": "2021-02-12T04:24:13.236Z",
    "type": "execution"
   },
   {
    "id": "48fdea99414c4cde9ff74d40455a0357",
    "time": "2021-02-12T04:24:13.909Z",
    "type": "completion"
   },
   {
    "code": "# Create axis labels for age brackets\nages = [col[16:21] for col in world_df.columns[::2]]\nages = ages[:-3]\nages.append('80+')\n\nf_pop = list(world_df.iloc[0])[::2][:-2]\nm_pop = list(world_df.iloc[0])[1::2][:-1]\n\nworld_ppy_df = pd.DataFrame({'Age': ages,\n             'Population, total female': f_pop,\n             'Population, total male': m_pop})\nworld_ppy_df['Population, total male'] = world_ppy_df['Population, total male']*-1\n\n\nworld_ppy, ax = plt.subplots(figsize=(11.7, 8.27))\nageAxis = ages[::-1]\nworld_ppy = sns.barplot(x='Population, total female',\n                        y='Age',\n                        data=world_ppy_df,\n                        order=ageAxis,\n                        lw=0,\n                        color='salmon')\nworld_ppy = sns.barplot(x='Population, total male',\n                        y='Age',\n                        data=world_ppy_df,\n                        order=ageAxis,\n                        lw=0,\n                        color='dodgerblue')\n                        \nworld_ppy.axvline(lw=3.5, color='w')\nworld_ppy.set(xlabel=\"Population (hundreds of millions)\", ylabel=\"Age Group\", title = \"Population Pyramid\");",
    "id": "48fdea99414c4cde9ff74d40455a0357",
    "idx": 17,
    "time": "2021-02-12T04:24:23.244Z",
    "type": "execution"
   },
   {
    "id": "48fdea99414c4cde9ff74d40455a0357",
    "time": "2021-02-12T04:24:24.016Z",
    "type": "completion"
   },
   {
    "code": "# Create axis labels for age brackets\nages = [col[16:21] for col in world_df.columns[::2]]\nages = ages[:-3]\nages.append('80+')\n\nf_pop = list(world_df.iloc[0])[::2][:-2]\nm_pop = list(world_df.iloc[0])[1::2][:-1]\n\nworld_ppy_df = pd.DataFrame({'Age': ages,\n             'Population, total female': f_pop,\n             'Population, total male': m_pop})\nworld_ppy_df['Population, total male'] = world_ppy_df['Population, total male']*-1\n\n\nworld_ppy, ax = plt.subplots(figsize=(11.7, 8.27))\nageAxis = ages[::-1]\nworld_ppy = sns.barplot(x='Population, total female',\n                        y='Age',\n                        data=world_ppy_df,\n                        order=ageAxis,\n                        lw=0,\n                        color='tomato')\nworld_ppy = sns.barplot(x='Population, total male',\n                        y='Age',\n                        data=world_ppy_df,\n                        order=ageAxis,\n                        lw=0,\n                        color='dodgerblue')\n                        \nworld_ppy.axvline(lw=3.5, color='w')\nworld_ppy.set(xlabel=\"Population (hundreds of millions)\", ylabel=\"Age Group\", title = \"Population Pyramid\");",
    "id": "48fdea99414c4cde9ff74d40455a0357",
    "idx": 17,
    "time": "2021-02-12T04:24:25.987Z",
    "type": "execution"
   },
   {
    "id": "48fdea99414c4cde9ff74d40455a0357",
    "time": "2021-02-12T04:24:26.620Z",
    "type": "completion"
   },
   {
    "code": "# Create axis labels for age brackets\nages = [col[16:21] for col in world_df.columns[::2]]\nages = ages[:-3]\nages.append('80+')\n\nf_pop = list(world_df.iloc[0])[::2][:-2]\nm_pop = list(world_df.iloc[0])[1::2][:-1]\n\nworld_ppy_df = pd.DataFrame({'Age': ages,\n             'Population, total female': f_pop,\n             'Population, total male': m_pop})\nworld_ppy_df['Population, total male'] = world_ppy_df['Population, total male']*-1\n\n\nworld_ppy, ax = plt.subplots(figsize=(11.7, 8.27))\nageAxis = ages[::-1]\nworld_ppy = sns.barplot(x='Population, total female',\n                        y='Age',\n                        data=world_ppy_df,\n                        order=ageAxis,\n                        lw=0,\n                        color='pink')\nworld_ppy = sns.barplot(x='Population, total male',\n                        y='Age',\n                        data=world_ppy_df,\n                        order=ageAxis,\n                        lw=0,\n                        color='dodgerblue')\n                        \nworld_ppy.axvline(lw=3.5, color='w')\nworld_ppy.set(xlabel=\"Population (hundreds of millions)\", ylabel=\"Age Group\", title = \"Population Pyramid\");",
    "id": "48fdea99414c4cde9ff74d40455a0357",
    "idx": 17,
    "time": "2021-02-12T04:25:26.775Z",
    "type": "execution"
   },
   {
    "id": "48fdea99414c4cde9ff74d40455a0357",
    "time": "2021-02-12T04:25:27.563Z",
    "type": "completion"
   },
   {
    "code": "# Create axis labels for age brackets\nages = [col[16:21] for col in world_df.columns[::2]]\nages = ages[:-3]\nages.append('80+')\n\nf_pop = list(world_df.iloc[0])[::2][:-2]\nm_pop = list(world_df.iloc[0])[1::2][:-1]\n\nworld_ppy_df = pd.DataFrame({'Age': ages,\n             'Population, total female': f_pop,\n             'Population, total male': m_pop})\nworld_ppy_df['Population, total male'] = world_ppy_df['Population, total male']*-1\n\n\nworld_ppy, ax = plt.subplots(figsize=(11.7, 8.27))\nageAxis = ages[::-1]\nworld_ppy = sns.barplot(x='Population, total female',\n                        y='Age',\n                        data=world_ppy_df,\n                        order=ageAxis,\n                        lw=0,\n                        color='tomato')\nworld_ppy = sns.barplot(x='Population, total male',\n                        y='Age',\n                        data=world_ppy_df,\n                        order=ageAxis,\n                        lw=0,\n                        color='dodgerblue')\n                        \nworld_ppy.axvline(lw=3.5, color='w')\nworld_ppy.set(xlabel=\"Population (hundreds of millions)\", ylabel=\"Age Group\", title = \"Population Pyramid\");",
    "id": "48fdea99414c4cde9ff74d40455a0357",
    "idx": 17,
    "time": "2021-02-12T04:25:30.371Z",
    "type": "execution"
   },
   {
    "id": "48fdea99414c4cde9ff74d40455a0357",
    "time": "2021-02-12T04:25:30.954Z",
    "type": "completion"
   },
   {
    "code": "# Create axis labels for age brackets\nages = [col[16:21] for col in world_df.columns[::2]]\nages = ages[:-3]\nages.append('80+')\n\nf_pop = list(world_df.iloc[0])[::2][:-2]\nm_pop = list(world_df.iloc[0])[1::2][:-1]\n\nworld_ppy_df = pd.DataFrame({'Age': ages,\n             'Population, total female': f_pop,\n             'Population, total male': m_pop})\nworld_ppy_df['Population, total male'] = world_ppy_df['Population, total male']*-1\n\n\nworld_ppy, ax = plt.subplots(figsize=(11.7, 8.27))\nageAxis = ages[::-1]\nworld_ppy = sns.barplot(x='Population, total female',\n                        y='Age',\n                        data=world_ppy_df,\n                        order=ageAxis,\n                        lw=0,\n                        color='mediumorchid')\nworld_ppy = sns.barplot(x='Population, total male',\n                        y='Age',\n                        data=world_ppy_df,\n                        order=ageAxis,\n                        lw=0,\n                        color='dodgerblue')\n                        \nworld_ppy.axvline(lw=3.5, color='w')\nworld_ppy.set(xlabel=\"Population (hundreds of millions)\", ylabel=\"Age Group\", title = \"Population Pyramid\");",
    "id": "48fdea99414c4cde9ff74d40455a0357",
    "idx": 17,
    "time": "2021-02-12T04:25:45.515Z",
    "type": "execution"
   },
   {
    "id": "48fdea99414c4cde9ff74d40455a0357",
    "time": "2021-02-12T04:25:46.108Z",
    "type": "completion"
   },
   {
    "code": "# Create axis labels for age brackets\nages = [col[16:21] for col in world_df.columns[::2]]\nages = ages[:-3]\nages.append('80+')\n\nf_pop = list(world_df.iloc[0])[::2][:-2]\nm_pop = list(world_df.iloc[0])[1::2][:-1]\n\nworld_ppy_df = pd.DataFrame({'Age': ages,\n             'Population, total female': f_pop,\n             'Population, total male': m_pop})\nworld_ppy_df['Population, total male'] = world_ppy_df['Population, total male']*-1\n\n\nworld_ppy, ax = plt.subplots(figsize=(11.7, 8.27))\nageAxis = ages[::-1]\nworld_ppy = sns.barplot(x='Population, total female',\n                        y='Age',\n                        data=world_ppy_df,\n                        order=ageAxis,\n                        lw=0,\n                        color='tomato')\nworld_ppy = sns.barplot(x='Population, total male',\n                        y='Age',\n                        data=world_ppy_df,\n                        order=ageAxis,\n                        lw=0,\n                        color='dodgerblue')\n                        \nworld_ppy.axvline(lw=3.5, color='w')\nworld_ppy.set(xlabel=\"Population (hundreds of millions)\", ylabel=\"Age Group\", title = \"Population Pyramid\");",
    "id": "48fdea99414c4cde9ff74d40455a0357",
    "idx": 17,
    "time": "2021-02-12T04:25:47.836Z",
    "type": "execution"
   },
   {
    "id": "48fdea99414c4cde9ff74d40455a0357",
    "time": "2021-02-12T04:25:48.944Z",
    "type": "completion"
   },
   {
    "code": "# Create axis labels for age brackets\nages = [col[16:21] for col in world_df.columns[::2]]\nages = ages[:-3]\nages.append('80+')\n\nf_pop = list(world_df.iloc[0])[::2][:-2]\nm_pop = list(world_df.iloc[0])[1::2][:-1]\n\nworld_ppy_df = pd.DataFrame({'Age': ages,\n             'Population, total female': f_pop,\n             'Population, total male': m_pop})\nworld_ppy_df['Population, total male'] = world_ppy_df['Population, total male']*-1\n\n\nworld_ppy, ax = plt.subplots(figsize=(11.7, 8.27))\nageAxis = ages[::-1]\nworld_ppy = sns.barplot(x='Population, total female',\n                        y='Age',\n                        data=world_ppy_df,\n                        order=ageAxis,\n                        lw=0,\n                        color='forestgreen')\nworld_ppy = sns.barplot(x='Population, total male',\n                        y='Age',\n                        data=world_ppy_df,\n                        order=ageAxis,\n                        lw=0,\n                        color='dodgerblue')\n                        \nworld_ppy.axvline(lw=3.5, color='w')\nworld_ppy.set(xlabel=\"Population (hundreds of millions)\", ylabel=\"Age Group\", title = \"Population Pyramid\");",
    "id": "48fdea99414c4cde9ff74d40455a0357",
    "idx": 17,
    "time": "2021-02-12T04:26:10.605Z",
    "type": "execution"
   },
   {
    "id": "48fdea99414c4cde9ff74d40455a0357",
    "time": "2021-02-12T04:26:11.343Z",
    "type": "completion"
   },
   {
    "code": "# Create axis labels for age brackets\nages = [col[16:21] for col in world_df.columns[::2]]\nages = ages[:-3]\nages.append('80+')\n\nf_pop = list(world_df.iloc[0])[::2][:-2]\nm_pop = list(world_df.iloc[0])[1::2][:-1]\n\nworld_ppy_df = pd.DataFrame({'Age': ages,\n             'Population, total female': f_pop,\n             'Population, total male': m_pop})\nworld_ppy_df['Population, total male'] = world_ppy_df['Population, total male']*-1\n\n\nworld_ppy, ax = plt.subplots(figsize=(11.7, 8.27))\nageAxis = ages[::-1]\nworld_ppy = sns.barplot(x='Population, total female',\n                        y='Age',\n                        data=world_ppy_df,\n                        order=ageAxis,\n                        lw=0,\n                        color='tomato')\nworld_ppy = sns.barplot(x='Population, total male',\n                        y='Age',\n                        data=world_ppy_df,\n                        order=ageAxis,\n                        lw=0,\n                        color='dodgerblue')\n                        \nworld_ppy.axvline(lw=3.5, color='w')\nworld_ppy.set(xlabel=\"Population (hundreds of millions)\", ylabel=\"Age Group\", title = \"Population Pyramid\");",
    "id": "48fdea99414c4cde9ff74d40455a0357",
    "idx": 17,
    "time": "2021-02-12T04:26:13.160Z",
    "type": "execution"
   },
   {
    "id": "48fdea99414c4cde9ff74d40455a0357",
    "time": "2021-02-12T04:26:13.860Z",
    "type": "completion"
   },
   {
    "code": "# Create axis labels for age brackets\nages = [col[16:21] for col in world_df.columns[::2]]\nages = ages[:-3]\nages.append('80+')\n\nf_pop = list(world_df.iloc[0])[::2][:-2]\nm_pop = list(world_df.iloc[0])[1::2][:-1]\n\nworld_ppy_df = pd.DataFrame({'Age': ages,\n             'Population, total female': f_pop,\n             'Population, total male': m_pop})\nworld_ppy_df['Population, total male'] = world_ppy_df['Population, total male']*-1\n\n\nworld_ppy, ax = plt.subplots(figsize=(11.7, 8.27))\nageAxis = ages[::-1]\nworld_ppy = sns.barplot(x='Population, total female',\n                        y='Age',\n                        data=world_ppy_df,\n                        order=ageAxis,\n                        lw=0,\n                        color='tomato')\nworld_ppy = sns.barplot(x='Population, total male',\n                        y='Age',\n                        data=world_ppy_df,\n                        order=ageAxis,\n                        lw=0,\n                        color='dodgerblue')\n                        \nworld_ppy.axvline(lw=3.5, color='w')\nworld_ppy.set_title(\"Population Pyramid\",\n                   fontdict={'fontsize':12})\nworld_ppy.set(xlabel=\"Population (hundreds of millions)\", ylabel=\"Age Group\");",
    "id": "48fdea99414c4cde9ff74d40455a0357",
    "idx": 17,
    "time": "2021-02-12T04:29:13.613Z",
    "type": "execution"
   },
   {
    "id": "48fdea99414c4cde9ff74d40455a0357",
    "time": "2021-02-12T04:29:14.236Z",
    "type": "completion"
   },
   {
    "code": "# Create axis labels for age brackets\nages = [col[16:21] for col in world_df.columns[::2]]\nages = ages[:-3]\nages.append('80+')\n\nf_pop = list(world_df.iloc[0])[::2][:-2]\nm_pop = list(world_df.iloc[0])[1::2][:-1]\n\nworld_ppy_df = pd.DataFrame({'Age': ages,\n             'Population, total female': f_pop,\n             'Population, total male': m_pop})\nworld_ppy_df['Population, total male'] = world_ppy_df['Population, total male']*-1\n\n\nworld_ppy, ax = plt.subplots(figsize=(11.7, 8.27))\nageAxis = ages[::-1]\nworld_ppy = sns.barplot(x='Population, total female',\n                        y='Age',\n                        data=world_ppy_df,\n                        order=ageAxis,\n                        lw=0,\n                        color='tomato')\nworld_ppy = sns.barplot(x='Population, total male',\n                        y='Age',\n                        data=world_ppy_df,\n                        order=ageAxis,\n                        lw=0,\n                        color='dodgerblue')\n                        \nworld_ppy.axvline(lw=3.5, color='w')\nworld_ppy.set_title(\"Population Pyramid\",\n                   fontdict={'fontsize':13})\nworld_ppy.set(xlabel=\"Population (hundreds of millions)\", ylabel=\"Age Group\");",
    "id": "48fdea99414c4cde9ff74d40455a0357",
    "idx": 17,
    "time": "2021-02-12T04:29:16.607Z",
    "type": "execution"
   },
   {
    "id": "48fdea99414c4cde9ff74d40455a0357",
    "time": "2021-02-12T04:29:17.229Z",
    "type": "completion"
   },
   {
    "code": "# Create axis labels for age brackets\nages = [col[16:21] for col in world_df.columns[::2]]\nages = ages[:-3]\nages.append('80+')\n\nf_pop = list(world_df.iloc[0])[::2][:-2]\nm_pop = list(world_df.iloc[0])[1::2][:-1]\n\nworld_ppy_df = pd.DataFrame({'Age': ages,\n             'Population, total female': f_pop,\n             'Population, total male': m_pop})\nworld_ppy_df['Population, total male'] = world_ppy_df['Population, total male']*-1\n\n\nworld_ppy, ax = plt.subplots(figsize=(11.7, 8.27))\nageAxis = ages[::-1]\nworld_ppy = sns.barplot(x='Population, total female',\n                        y='Age',\n                        data=world_ppy_df,\n                        order=ageAxis,\n                        lw=0,\n                        color='tomato')\nworld_ppy = sns.barplot(x='Population, total male',\n                        y='Age',\n                        data=world_ppy_df,\n                        order=ageAxis,\n                        lw=0,\n                        color='dodgerblue')\n                        \nworld_ppy.axvline(lw=3.5, color='w')\nworld_ppy.set_title(\"Population Pyramid\",\n                   fontdict={'fontsize':14})\nworld_ppy.set(xlabel=\"Population (hundreds of millions)\", ylabel=\"Age Group\");",
    "id": "48fdea99414c4cde9ff74d40455a0357",
    "idx": 17,
    "time": "2021-02-12T04:29:18.259Z",
    "type": "execution"
   },
   {
    "id": "48fdea99414c4cde9ff74d40455a0357",
    "time": "2021-02-12T04:29:18.867Z",
    "type": "completion"
   },
   {
    "code": "# Create axis labels for age brackets\nages = [col[16:21] for col in world_df.columns[::2]]\nages = ages[:-3]\nages.append('80+')\n\nf_pop = list(world_df.iloc[0])[::2][:-2]\nm_pop = list(world_df.iloc[0])[1::2][:-1]\n\nworld_ppy_df = pd.DataFrame({'Age': ages,\n             'Population, total female': f_pop,\n             'Population, total male': m_pop})\nworld_ppy_df['Population, total male'] = world_ppy_df['Population, total male']*-1\n\n\nworld_ppy, ax = plt.subplots(figsize=(11.7, 8.27))\nageAxis = ages[::-1]\nworld_ppy = sns.barplot(x='Population, total female',\n                        y='Age',\n                        data=world_ppy_df,\n                        order=ageAxis,\n                        lw=0,\n                        color='tomato')\nworld_ppy = sns.barplot(x='Population, total male',\n                        y='Age',\n                        data=world_ppy_df,\n                        order=ageAxis,\n                        lw=0,\n                        color='dodgerblue')\n                        \nworld_ppy.axvline(lw=3.5, color='w')\nworld_ppy.set_title(\"Population Pyramid\",\n                   fontdict={'fontsize':30})\nworld_ppy.set(xlabel=\"Population (hundreds of millions)\", ylabel=\"Age Group\");",
    "id": "48fdea99414c4cde9ff74d40455a0357",
    "idx": 17,
    "time": "2021-02-12T04:29:22.377Z",
    "type": "execution"
   },
   {
    "id": "48fdea99414c4cde9ff74d40455a0357",
    "time": "2021-02-12T04:29:23.111Z",
    "type": "completion"
   },
   {
    "code": "# Create axis labels for age brackets\nages = [col[16:21] for col in world_df.columns[::2]]\nages = ages[:-3]\nages.append('80+')\n\nf_pop = list(world_df.iloc[0])[::2][:-2]\nm_pop = list(world_df.iloc[0])[1::2][:-1]\n\nworld_ppy_df = pd.DataFrame({'Age': ages,\n             'Population, total female': f_pop,\n             'Population, total male': m_pop})\nworld_ppy_df['Population, total male'] = world_ppy_df['Population, total male']*-1\n\n\nworld_ppy, ax = plt.subplots(figsize=(11.7, 8.27))\nageAxis = ages[::-1]\nworld_ppy = sns.barplot(x='Population, total female',\n                        y='Age',\n                        data=world_ppy_df,\n                        order=ageAxis,\n                        lw=0,\n                        color='tomato')\nworld_ppy = sns.barplot(x='Population, total male',\n                        y='Age',\n                        data=world_ppy_df,\n                        order=ageAxis,\n                        lw=0,\n                        color='dodgerblue')\n                        \nworld_ppy.axvline(lw=3.5, color='w')\nworld_ppy.set_title(\"Population Pyramid\",\n                   fontdict={'fontsize':15})\nworld_ppy.set(xlabel=\"Population (hundreds of millions)\", ylabel=\"Age Group\");",
    "id": "48fdea99414c4cde9ff74d40455a0357",
    "idx": 17,
    "time": "2021-02-12T04:29:25.038Z",
    "type": "execution"
   },
   {
    "id": "48fdea99414c4cde9ff74d40455a0357",
    "time": "2021-02-12T04:29:25.641Z",
    "type": "completion"
   },
   {
    "code": "# Create axis labels for age brackets\nages = [col[16:21] for col in world_df.columns[::2]]\nages = ages[:-3]\nages.append('80+')\n\nf_pop = list(world_df.iloc[0])[::2][:-2]\nm_pop = list(world_df.iloc[0])[1::2][:-1]\n\nworld_ppy_df = pd.DataFrame({'Age': ages,\n             'Population, total female': f_pop,\n             'Population, total male': m_pop})\nworld_ppy_df['Population, total male'] = world_ppy_df['Population, total male']*-1\n\n\nworld_ppy, ax = plt.subplots(figsize=(11.7, 8.27))\nageAxis = ages[::-1]\nworld_ppy = sns.barplot(x='Population, total female',\n                        y='Age',\n                        data=world_ppy_df,\n                        order=ageAxis,\n                        lw=0,\n                        color='tomato')\nworld_ppy = sns.barplot(x='Population, total male',\n                        y='Age',\n                        data=world_ppy_df,\n                        order=ageAxis,\n                        lw=0,\n                        color='dodgerblue')\n                        \nworld_ppy.axvline(lw=3.5, color='w')\nworld_ppy.set_title(\"Population Pyramid\",\n                    fontdict={'fontsize':14,'fontweight':3})\n                    \n                   )\nworld_ppy.set(xlabel=\"Population (hundreds of millions)\", ylabel=\"Age Group\");",
    "id": "48fdea99414c4cde9ff74d40455a0357",
    "idx": 17,
    "time": "2021-02-12T04:30:33.647Z",
    "type": "execution"
   },
   {
    "id": "48fdea99414c4cde9ff74d40455a0357",
    "time": "2021-02-12T04:30:33.760Z",
    "type": "completion"
   },
   {
    "code": "# Create axis labels for age brackets\nages = [col[16:21] for col in world_df.columns[::2]]\nages = ages[:-3]\nages.append('80+')\n\nf_pop = list(world_df.iloc[0])[::2][:-2]\nm_pop = list(world_df.iloc[0])[1::2][:-1]\n\nworld_ppy_df = pd.DataFrame({'Age': ages,\n             'Population, total female': f_pop,\n             'Population, total male': m_pop})\nworld_ppy_df['Population, total male'] = world_ppy_df['Population, total male']*-1\n\n\nworld_ppy, ax = plt.subplots(figsize=(11.7, 8.27))\nageAxis = ages[::-1]\nworld_ppy = sns.barplot(x='Population, total female',\n                        y='Age',\n                        data=world_ppy_df,\n                        order=ageAxis,\n                        lw=0,\n                        color='tomato')\nworld_ppy = sns.barplot(x='Population, total male',\n                        y='Age',\n                        data=world_ppy_df,\n                        order=ageAxis,\n                        lw=0,\n                        color='dodgerblue')\n                        \nworld_ppy.axvline(lw=3.5, color='w')\nworld_ppy.set_title(\"Population Pyramid\",\n                    fontdict={'fontsize':14,'fontweight':3})\n                    \nworld_ppy.set(xlabel=\"Population (hundreds of millions)\", ylabel=\"Age Group\");",
    "id": "48fdea99414c4cde9ff74d40455a0357",
    "idx": 17,
    "time": "2021-02-12T04:30:38.537Z",
    "type": "execution"
   },
   {
    "id": "48fdea99414c4cde9ff74d40455a0357",
    "time": "2021-02-12T04:30:39.137Z",
    "type": "completion"
   },
   {
    "code": "# Create axis labels for age brackets\nages = [col[16:21] for col in world_df.columns[::2]]\nages = ages[:-3]\nages.append('80+')\n\nf_pop = list(world_df.iloc[0])[::2][:-2]\nm_pop = list(world_df.iloc[0])[1::2][:-1]\n\nworld_ppy_df = pd.DataFrame({'Age': ages,\n             'Population, total female': f_pop,\n             'Population, total male': m_pop})\nworld_ppy_df['Population, total male'] = world_ppy_df['Population, total male']*-1\n\n\nworld_ppy, ax = plt.subplots(figsize=(11.7, 8.27))\nageAxis = ages[::-1]\nworld_ppy = sns.barplot(x='Population, total female',\n                        y='Age',\n                        data=world_ppy_df,\n                        order=ageAxis,\n                        lw=0,\n                        color='tomato')\nworld_ppy = sns.barplot(x='Population, total male',\n                        y='Age',\n                        data=world_ppy_df,\n                        order=ageAxis,\n                        lw=0,\n                        color='dodgerblue')\n                        \nworld_ppy.axvline(lw=3.5, color='w')\nworld_ppy.set_title(\"Population Pyramid\", fontdict={'fontsize':14,'fontweight':3})\n                    \nworld_ppy.set(xlabel=\"Population (hundreds of millions)\", ylabel=\"Age Group\");",
    "id": "48fdea99414c4cde9ff74d40455a0357",
    "idx": 17,
    "time": "2021-02-12T04:30:48.358Z",
    "type": "execution"
   },
   {
    "id": "48fdea99414c4cde9ff74d40455a0357",
    "time": "2021-02-12T04:30:48.952Z",
    "type": "completion"
   },
   {
    "code": "# Create axis labels for age brackets\nages = [col[16:21] for col in world_df.columns[::2]]\nages = ages[:-3]\nages.append('80+')\n\nf_pop = list(world_df.iloc[0])[::2][:-2]\nm_pop = list(world_df.iloc[0])[1::2][:-1]\n\nworld_ppy_df = pd.DataFrame({'Age': ages,\n             'Population, total female': f_pop,\n             'Population, total male': m_pop})\nworld_ppy_df['Population, total male'] = world_ppy_df['Population, total male']*-1\n\n\nworld_ppy, ax = plt.subplots(figsize=(11.7, 8.27))\nageAxis = ages[::-1]\nworld_ppy = sns.barplot(x='Population, total female',\n                        y='Age',\n                        data=world_ppy_df,\n                        order=ageAxis,\n                        lw=0,\n                        color='tomato')\nworld_ppy = sns.barplot(x='Population, total male',\n                        y='Age',\n                        data=world_ppy_df,\n                        order=ageAxis,\n                        lw=0,\n                        color='dodgerblue')\n                        \nworld_ppy.axvline(lw=3.5, color='w')\nworld_ppy.set_title(\"Population Pyramid\", fontdict={'fontsize':14,'fontweight':3}, pad=10)\n                    \nworld_ppy.set(xlabel=\"Population (hundreds of millions)\", ylabel=\"Age Group\");",
    "id": "48fdea99414c4cde9ff74d40455a0357",
    "idx": 17,
    "time": "2021-02-12T04:31:01.028Z",
    "type": "execution"
   },
   {
    "id": "48fdea99414c4cde9ff74d40455a0357",
    "time": "2021-02-12T04:31:01.598Z",
    "type": "completion"
   },
   {
    "code": "# Create axis labels for age brackets\nages = [col[16:21] for col in world_df.columns[::2]]\nages = ages[:-3]\nages.append('80+')\n\nf_pop = list(world_df.iloc[0])[::2][:-2]\nm_pop = list(world_df.iloc[0])[1::2][:-1]\n\nworld_ppy_df = pd.DataFrame({'Age': ages,\n             'Population, total female': f_pop,\n             'Population, total male': m_pop})\nworld_ppy_df['Population, total male'] = world_ppy_df['Population, total male']*-1\n\n\nworld_ppy, ax = plt.subplots(figsize=(11.7, 8.27))\nageAxis = ages[::-1]\nworld_ppy = sns.barplot(x='Population, total female',\n                        y='Age',\n                        data=world_ppy_df,\n                        order=ageAxis,\n                        lw=0,\n                        color='tomato')\nworld_ppy = sns.barplot(x='Population, total male',\n                        y='Age',\n                        data=world_ppy_df,\n                        order=ageAxis,\n                        lw=0,\n                        color='dodgerblue')\n                        \nworld_ppy.axvline(lw=3.5, color='w')\nworld_ppy.set_title(\"Population Pyramid\", fontdict={'fontsize':14,'fontweight':3}, pad=15)\n                    \nworld_ppy.set(xlabel=\"Population (hundreds of millions)\", ylabel=\"Age Group\");",
    "id": "48fdea99414c4cde9ff74d40455a0357",
    "idx": 17,
    "time": "2021-02-12T04:31:04.189Z",
    "type": "execution"
   },
   {
    "id": "48fdea99414c4cde9ff74d40455a0357",
    "time": "2021-02-12T04:31:04.901Z",
    "type": "completion"
   },
   {
    "code": "# Create axis labels for age brackets\nages = [col[16:21] for col in world_df.columns[::2]]\nages = ages[:-3]\nages.append('80+')\n\nf_pop = list(world_df.iloc[0])[::2][:-2]\nm_pop = list(world_df.iloc[0])[1::2][:-1]\n\nworld_ppy_df = pd.DataFrame({'Age': ages,\n             'Population, total female': f_pop,\n             'Population, total male': m_pop})\nworld_ppy_df['Population, total male'] = world_ppy_df['Population, total male']*-1\n\n\nworld_ppy, ax = plt.subplots(figsize=(11.7, 8.27),\n                            fontfamily)\nageAxis = ages[::-1]\nworld_ppy = sns.barplot(x='Population, total female',\n                        y='Age',\n                        data=world_ppy_df,\n                        order=ageAxis,\n                        lw=0,\n                        color='tomato')\nworld_ppy = sns.barplot(x='Population, total male',\n                        y='Age',\n                        data=world_ppy_df,\n                        order=ageAxis,\n                        lw=0,\n                        color='dodgerblue')\n                        \nworld_ppy.axvline(lw=3.5, color='w')\nworld_ppy.set_title(\"Population Pyramid\", fontdict={'fontsize':14,'fontstyle':6}, pad=15)\n                    \nworld_ppy.set(xlabel=\"Population (hundreds of millions)\", ylabel=\"Age Group\");",
    "id": "48fdea99414c4cde9ff74d40455a0357",
    "idx": 17,
    "time": "2021-02-12T04:32:36.879Z",
    "type": "execution"
   },
   {
    "id": "48fdea99414c4cde9ff74d40455a0357",
    "time": "2021-02-12T04:32:36.974Z",
    "type": "completion"
   },
   {
    "code": "# Create axis labels for age brackets\nages = [col[16:21] for col in world_df.columns[::2]]\nages = ages[:-3]\nages.append('80+')\n\nf_pop = list(world_df.iloc[0])[::2][:-2]\nm_pop = list(world_df.iloc[0])[1::2][:-1]\n\nworld_ppy_df = pd.DataFrame({'Age': ages,\n             'Population, total female': f_pop,\n             'Population, total male': m_pop})\nworld_ppy_df['Population, total male'] = world_ppy_df['Population, total male']*-1\n\n\nworld_ppy, ax = plt.subplots(figsize=(11.7, 8.27))\nageAxis = ages[::-1]\nworld_ppy = sns.barplot(x='Population, total female',\n                        y='Age',\n                        data=world_ppy_df,\n                        order=ageAxis,\n                        lw=0,\n                        color='tomato')\nworld_ppy = sns.barplot(x='Population, total male',\n                        y='Age',\n                        data=world_ppy_df,\n                        order=ageAxis,\n                        lw=0,\n                        color='dodgerblue')\n                        \nworld_ppy.axvline(lw=3.5, color='w')\nworld_ppy.set_title(\"Population Pyramid\", fontdict={'fontsize':14,'fontstyle':6}, pad=15)\n                    \nworld_ppy.set(xlabel=\"Population (hundreds of millions)\", ylabel=\"Age Group\");",
    "id": "48fdea99414c4cde9ff74d40455a0357",
    "idx": 17,
    "time": "2021-02-12T04:32:49.045Z",
    "type": "execution"
   },
   {
    "id": "48fdea99414c4cde9ff74d40455a0357",
    "time": "2021-02-12T04:32:49.657Z",
    "type": "completion"
   },
   {
    "code": "# Create axis labels for age brackets\nages = [col[16:21] for col in world_df.columns[::2]]\nages = ages[:-3]\nages.append('80+')\n\nf_pop = list(world_df.iloc[0])[::2][:-2]\nm_pop = list(world_df.iloc[0])[1::2][:-1]\n\nworld_ppy_df = pd.DataFrame({'Age': ages,\n             'Population, total female': f_pop,\n             'Population, total male': m_pop})\nworld_ppy_df['Population, total male'] = world_ppy_df['Population, total male']*-1\n\n\nworld_ppy, ax = plt.subplots(figsize=(11.7, 8.27),\n                            fontfamily=\"monospace\")\nageAxis = ages[::-1]\nworld_ppy = sns.barplot(x='Population, total female',\n                        y='Age',\n                        data=world_ppy_df,\n                        order=ageAxis,\n                        lw=0,\n                        color='tomato')\nworld_ppy = sns.barplot(x='Population, total male',\n                        y='Age',\n                        data=world_ppy_df,\n                        order=ageAxis,\n                        lw=0,\n                        color='dodgerblue')\n                        \nworld_ppy.axvline(lw=3.5, color='w')\nworld_ppy.set_title(\"Population Pyramid\", fontdict={'fontsize':14,'fontweight':3}, pad=15)\n                    \nworld_ppy.set(xlabel=\"Population (hundreds of millions)\", ylabel=\"Age Group\");",
    "id": "48fdea99414c4cde9ff74d40455a0357",
    "idx": 17,
    "time": "2021-02-12T04:34:22.071Z",
    "type": "execution"
   },
   {
    "id": "48fdea99414c4cde9ff74d40455a0357",
    "time": "2021-02-12T04:34:22.210Z",
    "type": "completion"
   },
   {
    "code": "# Create axis labels for age brackets\nages = [col[16:21] for col in world_df.columns[::2]]\nages = ages[:-3]\nages.append('80+')\n\nf_pop = list(world_df.iloc[0])[::2][:-2]\nm_pop = list(world_df.iloc[0])[1::2][:-1]\n\nworld_ppy_df = pd.DataFrame({'Age': ages,\n             'Population, total female': f_pop,\n             'Population, total male': m_pop})\nworld_ppy_df['Population, total male'] = world_ppy_df['Population, total male']*-1\n\n\nworld_ppy, ax = plt.subplots(figsize=(11.7, 8.27))\nageAxis = ages[::-1]\nworld_ppy = sns.barplot(x='Population, total female',\n                        y='Age',\n                        data=world_ppy_df,\n                        order=ageAxis,\n                        lw=0,\n                        color='tomato')\nworld_ppy = sns.barplot(x='Population, total male',\n                        y='Age',\n                        data=world_ppy_df,\n                        order=ageAxis,\n                        lw=0,\n                        color='dodgerblue')\n                        \nworld_ppy.axvline(lw=3.5, color='w')\nworld_ppy.set_title(\"Population Pyramid\", fontdict={'fontsize':14,'fontweight':3}, pad=15, fontfamily='avenir')\n                    \nworld_ppy.set(xlabel=\"Population (hundreds of millions)\", ylabel=\"Age Group\");",
    "id": "48fdea99414c4cde9ff74d40455a0357",
    "idx": 17,
    "time": "2021-02-12T04:34:53.951Z",
    "type": "execution"
   },
   {
    "id": "48fdea99414c4cde9ff74d40455a0357",
    "time": "2021-02-12T04:34:54.846Z",
    "type": "completion"
   },
   {
    "code": "# Create axis labels for age brackets\nages = [col[16:21] for col in world_df.columns[::2]]\nages = ages[:-3]\nages.append('80+')\n\nf_pop = list(world_df.iloc[0])[::2][:-2]\nm_pop = list(world_df.iloc[0])[1::2][:-1]\n\nworld_ppy_df = pd.DataFrame({'Age': ages,\n             'Population, total female': f_pop,\n             'Population, total male': m_pop})\nworld_ppy_df['Population, total male'] = world_ppy_df['Population, total male']*-1\n\n\nworld_ppy, ax = plt.subplots(figsize=(11.7, 8.27))\nageAxis = ages[::-1]\nworld_ppy = sns.barplot(x='Population, total female',\n                        y='Age',\n                        data=world_ppy_df,\n                        order=ageAxis,\n                        lw=0,\n                        color='tomato')\nworld_ppy = sns.barplot(x='Population, total male',\n                        y='Age',\n                        data=world_ppy_df,\n                        order=ageAxis,\n                        lw=0,\n                        color='dodgerblue')\n                        \nworld_ppy.axvline(lw=3.5, color='w')\nworld_ppy.set_title(\"Population Pyramid\", fontdict={'fontsize':14,'fontweight':3}, pad=15, fontfamily='serif')\n                    \nworld_ppy.set(xlabel=\"Population (hundreds of millions)\", ylabel=\"Age Group\");",
    "id": "48fdea99414c4cde9ff74d40455a0357",
    "idx": 17,
    "time": "2021-02-12T04:35:00.290Z",
    "type": "execution"
   },
   {
    "id": "48fdea99414c4cde9ff74d40455a0357",
    "time": "2021-02-12T04:35:00.957Z",
    "type": "completion"
   },
   {
    "code": "# Create axis labels for age brackets\nages = [col[16:21] for col in world_df.columns[::2]]\nages = ages[:-3]\nages.append('80+')\n\nf_pop = list(world_df.iloc[0])[::2][:-2]\nm_pop = list(world_df.iloc[0])[1::2][:-1]\n\nworld_ppy_df = pd.DataFrame({'Age': ages,\n             'Population, total female': f_pop,\n             'Population, total male': m_pop})\nworld_ppy_df['Population, total male'] = world_ppy_df['Population, total male']*-1\n\n\nworld_ppy, ax = plt.subplots(figsize=(11.7, 8.27))\nageAxis = ages[::-1]\nworld_ppy = sns.barplot(x='Population, total female',\n                        y='Age',\n                        data=world_ppy_df,\n                        order=ageAxis,\n                        lw=0,\n                        color='tomato')\nworld_ppy = sns.barplot(x='Population, total male',\n                        y='Age',\n                        data=world_ppy_df,\n                        order=ageAxis,\n                        lw=0,\n                        color='dodgerblue')\n                        \nworld_ppy.axvline(lw=3.5, color='w')\nworld_ppy.set_title(\"Population Pyramid\", fontdict={'fontsize':14,'fontweight':3}, pad=15, fontfamily='sansserif')\n                    \nworld_ppy.set(xlabel=\"Population (hundreds of millions)\", ylabel=\"Age Group\");",
    "id": "48fdea99414c4cde9ff74d40455a0357",
    "idx": 17,
    "time": "2021-02-12T04:35:04.982Z",
    "type": "execution"
   },
   {
    "id": "48fdea99414c4cde9ff74d40455a0357",
    "time": "2021-02-12T04:35:05.561Z",
    "type": "completion"
   },
   {
    "code": "# Create axis labels for age brackets\nages = [col[16:21] for col in world_df.columns[::2]]\nages = ages[:-3]\nages.append('80+')\n\nf_pop = list(world_df.iloc[0])[::2][:-2]\nm_pop = list(world_df.iloc[0])[1::2][:-1]\n\nworld_ppy_df = pd.DataFrame({'Age': ages,\n             'Population, total female': f_pop,\n             'Population, total male': m_pop})\nworld_ppy_df['Population, total male'] = world_ppy_df['Population, total male']*-1\n\n\nworld_ppy, ax = plt.subplots(figsize=(11.7, 8.27))\nageAxis = ages[::-1]\nworld_ppy = sns.barplot(x='Population, total female',\n                        y='Age',\n                        data=world_ppy_df,\n                        order=ageAxis,\n                        lw=0,\n                        color='tomato')\nworld_ppy = sns.barplot(x='Population, total male',\n                        y='Age',\n                        data=world_ppy_df,\n                        order=ageAxis,\n                        lw=0,\n                        color='dodgerblue')\n                        \nworld_ppy.axvline(lw=3.5, color='w')\nworld_ppy.set_title(\"Population Pyramid\", fontdict={'fontsize':14,'fontweight':3}, pad=15, fontfamily='comicsans')\n                    \nworld_ppy.set(xlabel=\"Population (hundreds of millions)\", ylabel=\"Age Group\");",
    "id": "48fdea99414c4cde9ff74d40455a0357",
    "idx": 17,
    "time": "2021-02-12T04:35:08.271Z",
    "type": "execution"
   },
   {
    "id": "48fdea99414c4cde9ff74d40455a0357",
    "time": "2021-02-12T04:35:08.844Z",
    "type": "completion"
   },
   {
    "code": "# Create axis labels for age brackets\nages = [col[16:21] for col in world_df.columns[::2]]\nages = ages[:-3]\nages.append('80+')\n\nf_pop = list(world_df.iloc[0])[::2][:-2]\nm_pop = list(world_df.iloc[0])[1::2][:-1]\n\nworld_ppy_df = pd.DataFrame({'Age': ages,\n             'Population, total female': f_pop,\n             'Population, total male': m_pop})\nworld_ppy_df['Population, total male'] = world_ppy_df['Population, total male']*-1\n\n\nworld_ppy, ax = plt.subplots(figsize=(11.7, 8.27))\nageAxis = ages[::-1]\nworld_ppy = sns.barplot(x='Population, total female',\n                        y='Age',\n                        data=world_ppy_df,\n                        order=ageAxis,\n                        lw=0,\n                        color='tomato')\nworld_ppy = sns.barplot(x='Population, total male',\n                        y='Age',\n                        data=world_ppy_df,\n                        order=ageAxis,\n                        lw=0,\n                        color='dodgerblue')\n                        \nworld_ppy.axvline(lw=3.5, color='w')\nworld_ppy.set_title(\"Population Pyramid\", fontdict={'fontsize':14,'fontweight':3}, pad=15, fontfamily='fantasy')\n                    \nworld_ppy.set(xlabel=\"Population (hundreds of millions)\", ylabel=\"Age Group\");",
    "id": "48fdea99414c4cde9ff74d40455a0357",
    "idx": 17,
    "time": "2021-02-12T04:35:27.619Z",
    "type": "execution"
   },
   {
    "id": "48fdea99414c4cde9ff74d40455a0357",
    "time": "2021-02-12T04:35:28.364Z",
    "type": "completion"
   },
   {
    "code": "# Create axis labels for age brackets\nages = [col[16:21] for col in world_df.columns[::2]]\nages = ages[:-3]\nages.append('80+')\n\nf_pop = list(world_df.iloc[0])[::2][:-2]\nm_pop = list(world_df.iloc[0])[1::2][:-1]\n\nworld_ppy_df = pd.DataFrame({'Age': ages,\n             'Population, total female': f_pop,\n             'Population, total male': m_pop})\nworld_ppy_df['Population, total male'] = world_ppy_df['Population, total male']*-1\n\n\nworld_ppy, ax = plt.subplots(figsize=(11.7, 8.27))\nageAxis = ages[::-1]\nworld_ppy = sns.barplot(x='Population, total female',\n                        y='Age',\n                        data=world_ppy_df,\n                        order=ageAxis,\n                        lw=0,\n                        color='tomato')\nworld_ppy = sns.barplot(x='Population, total male',\n                        y='Age',\n                        data=world_ppy_df,\n                        order=ageAxis,\n                        lw=0,\n                        color='dodgerblue')\n                        \nworld_ppy.axvline(lw=3.5, color='w')\nworld_ppy.set_title(\"Population Pyramid\", fontdict={'fontsize':14,'fontweight':3}, pad=15, fontfamily='cursive')\n                    \nworld_ppy.set(xlabel=\"Population (hundreds of millions)\", ylabel=\"Age Group\");",
    "id": "48fdea99414c4cde9ff74d40455a0357",
    "idx": 17,
    "time": "2021-02-12T04:35:35.339Z",
    "type": "execution"
   },
   {
    "id": "48fdea99414c4cde9ff74d40455a0357",
    "time": "2021-02-12T04:35:37.461Z",
    "type": "completion"
   },
   {
    "code": "# Create axis labels for age brackets\nages = [col[16:21] for col in world_df.columns[::2]]\nages = ages[:-3]\nages.append('80+')\n\nf_pop = list(world_df.iloc[0])[::2][:-2]\nm_pop = list(world_df.iloc[0])[1::2][:-1]\n\nworld_ppy_df = pd.DataFrame({'Age': ages,\n             'Population, total female': f_pop,\n             'Population, total male': m_pop})\nworld_ppy_df['Population, total male'] = world_ppy_df['Population, total male']*-1\n\n\nworld_ppy, ax = plt.subplots(figsize=(11.7, 8.27))\nageAxis = ages[::-1]\nworld_ppy = sns.barplot(x='Population, total female',\n                        y='Age',\n                        data=world_ppy_df,\n                        order=ageAxis,\n                        lw=0,\n                        color='tomato')\nworld_ppy = sns.barplot(x='Population, total male',\n                        y='Age',\n                        data=world_ppy_df,\n                        order=ageAxis,\n                        lw=0,\n                        color='dodgerblue')\n                        \nworld_ppy.axvline(lw=3.5, color='w')\nworld_ppy.set_title(\"Population Pyramid\", fontdict={'fontsize':14,'fontweight':3}, pad=15, fontfamily='serif')\n                    \nworld_ppy.set(xlabel=\"Population (hundreds of millions)\", ylabel=\"Age Group\");",
    "id": "48fdea99414c4cde9ff74d40455a0357",
    "idx": 17,
    "time": "2021-02-12T04:35:42.620Z",
    "type": "execution"
   },
   {
    "id": "48fdea99414c4cde9ff74d40455a0357",
    "time": "2021-02-12T04:35:43.222Z",
    "type": "completion"
   },
   {
    "code": "# Create axis labels for age brackets\nages = [col[16:21] for col in world_df.columns[::2]]\nages = ages[:-3]\nages.append('80+')\n\nf_pop = list(world_df.iloc[0])[::2][:-2]\nm_pop = list(world_df.iloc[0])[1::2][:-1]\n\nworld_ppy_df = pd.DataFrame({'Age': ages,\n             'Population, total female': f_pop,\n             'Population, total male': m_pop})\nworld_ppy_df['Population, total male'] = world_ppy_df['Population, total male']*-1\n\n\nworld_ppy, ax = plt.subplots(figsize=(11.7, 8.27))\nageAxis = ages[::-1]\nworld_ppy = sns.barplot(x='Population, total female',\n                        y='Age',\n                        data=world_ppy_df,\n                        order=ageAxis,\n                        lw=0,\n                        color='tomato')\nworld_ppy = sns.barplot(x='Population, total male',\n                        y='Age',\n                        data=world_ppy_df,\n                        order=ageAxis,\n                        lw=0,\n                        color='dodgerblue')\n                        \nworld_ppy.axvline(lw=3.5, color='w')\nworld_ppy.set_title(\"Population Pyramid\", fontdict={'fontsize':14,'fontweight':3}, pad=15, fontfamily='')\n                    \nworld_ppy.set(xlabel=\"Population (hundreds of millions)\", ylabel=\"Age Group\");",
    "id": "48fdea99414c4cde9ff74d40455a0357",
    "idx": 17,
    "time": "2021-02-12T04:35:48.221Z",
    "type": "execution"
   },
   {
    "id": "48fdea99414c4cde9ff74d40455a0357",
    "time": "2021-02-12T04:35:49.026Z",
    "type": "completion"
   },
   {
    "code": "# Create axis labels for age brackets\nages = [col[16:21] for col in world_df.columns[::2]]\nages = ages[:-3]\nages.append('80+')\n\nf_pop = list(world_df.iloc[0])[::2][:-2]\nm_pop = list(world_df.iloc[0])[1::2][:-1]\n\nworld_ppy_df = pd.DataFrame({'Age': ages,\n             'Population, total female': f_pop,\n             'Population, total male': m_pop})\nworld_ppy_df['Population, total male'] = world_ppy_df['Population, total male']*-1\n\n\nworld_ppy, ax = plt.subplots(figsize=(11.7, 8.27))\nageAxis = ages[::-1]\nworld_ppy = sns.barplot(x='Population, total female',\n                        y='Age',\n                        data=world_ppy_df,\n                        order=ageAxis,\n                        lw=0,\n                        color='tomato')\nworld_ppy = sns.barplot(x='Population, total male',\n                        y='Age',\n                        data=world_ppy_df,\n                        order=ageAxis,\n                        lw=0,\n                        color='dodgerblue')\n                        \nworld_ppy.axvline(lw=3.5, color='w')\nworld_ppy.set_title(\"Population Pyramid\", fontdict={'fontsize':14,'fontweight':3}, pad=15)\n                    \nworld_ppy.set(xlabel=\"Population (hundreds of millions)\", ylabel=\"Age Group\");",
    "id": "48fdea99414c4cde9ff74d40455a0357",
    "idx": 17,
    "time": "2021-02-12T04:39:55.175Z",
    "type": "execution"
   },
   {
    "id": "48fdea99414c4cde9ff74d40455a0357",
    "time": "2021-02-12T04:39:55.816Z",
    "type": "completion"
   },
   {
    "code": "def country_pop(pop_df, country, year):\n    \"\"\"Takes in a population DataFrame and selects population \n    data for a specific country/region in YEAR. \"\"\"\n    pop_df[pop_df.index.get_level_values('country').isin([country])]\n    new_df = country_pop(pop_df, country)\n    return new_df[new_df.index.get_level_values('year').isin([year])]\n \ndef population_pyramid(pop_df, country, year):\n    \"\"\"Takes as input a pandas DataFrame with columns providing counts \n    of people by age-sex groups, and constructs a population pyramid graph \n    for visualizing the data.\"\"\"\n    pop = ...\n    return ...",
    "id": "b14a76396e5246eb943788a7e5a4638d",
    "idx": 18,
    "time": "2021-02-12T04:45:52.782Z",
    "type": "execution"
   },
   {
    "id": "b14a76396e5246eb943788a7e5a4638d",
    "time": "2021-02-12T04:45:55.010Z",
    "type": "completion"
   },
   {
    "code": "def country_pop(pop_df, country, year):\n        \"\"\"Takes in a population DataFrame and selects population \n        data for a specific country/region in YEAR. \"\"\"\n        pop_df[pop_df.index.get_level_values('country').isin([country])]\n        new_df = country_pop(pop_df, country)\n        return new_df[new_df.index.get_level_values('year').isin([year])]\n\ndef population_pyramid(pop_df, country, year):\n    \"\"\"Takes as input a pandas DataFrame with columns providing counts \n    of people by age-sex groups, and constructs a population pyramid graph \n    for visualizing the data.\"\"\"\n    country_df = country_pop(pop_df, country, year)\n    ages = [col[16:21] for col in ppy_df.columns[::2]]\n    ages = ages[:-3]\n    ages.append('80+')\n\n    f_pop = list(ppy_df.iloc[0])[::2][:-2]\n    m_pop = list(ppy_df.iloc[0])[1::2][:-1]\n\n    ppy_df = pd.DataFrame({'Age': ages,\n                 'Population, total female': f_pop,\n                 'Population, total male': m_pop})\n    ppy_df['Population, total male'] = ppy_df['Population, total male']*-1\n\n\n    ppy, ax = plt.subplots(figsize=(11.7, 8.27))\n    ageAxis = ages[::-1]\n    ppy = sns.barplot(x='Population, total female',\n                            y='Age',\n                            data=ppy_df,\n                            order=ageAxis,\n                            lw=0,\n                            color='tomato')\n    ppy = sns.barplot(x='Population, total male',\n                            y='Age',\n                            data=ppy_df,\n                            order=ageAxis,\n                            lw=0,\n                            color='dodgerblue')\n\n    ppy.axvline(lw=3.5, color='w')\n    ppy.set_title(\"Population Pyramid\", fontdict={'fontsize':14,'fontweight':3}, pad=15)                 \n    ppy.set(xlabel=\"Population (hundreds of millions)\", ylabel=\"Age Group\");",
    "id": "b14a76396e5246eb943788a7e5a4638d",
    "idx": 18,
    "time": "2021-02-12T04:50:20.814Z",
    "type": "execution"
   },
   {
    "id": "b14a76396e5246eb943788a7e5a4638d",
    "time": "2021-02-12T04:50:20.880Z",
    "type": "completion"
   },
   {
    "code": "def country_pop(pop_df, country, year):\n        \"\"\"Takes in a population DataFrame and selects population \n        data for a specific country/region in YEAR. \"\"\"\n        pop_df[pop_df.index.get_level_values('country').isin([country])]\n        new_df = country_pop(pop_df, country)\n        return new_df[new_df.index.get_level_values('year').isin([year])]\n\ndef population_pyramid(pop_df, country, year):\n    \"\"\"Takes as input a pandas DataFrame with columns providing counts \n    of people by age-sex groups, and constructs a population pyramid graph \n    for visualizing the data.\"\"\"\n    country_df = country_pop(pop_df, country, year)\n    ages = [col[16:21] for col in ppy_df.columns[::2]]\n    ages = ages[:-3]\n    ages.append('80+')\n\n    f_pop = list(ppy_df.iloc[0])[::2][:-2]\n    m_pop = list(ppy_df.iloc[0])[1::2][:-1]\n\n    ppy_df = pd.DataFrame({'Age': ages,\n                 'Population, total female': f_pop,\n                 'Population, total male': m_pop})\n    ppy_df['Population, total male'] = ppy_df['Population, total male']*-1\n\n\n    ppy, ax = plt.subplots(figsize=(11.7, 8.27))\n    ageAxis = ages[::-1]\n    ppy = sns.barplot(x='Population, total female',\n                            y='Age',\n                            data=ppy_df,\n                            order=ageAxis,\n                            lw=0,\n                            color='tomato')\n    ppy = sns.barplot(x='Population, total male',\n                            y='Age',\n                            data=ppy_df,\n                            order=ageAxis,\n                            lw=0,\n                            color='dodgerblue')\n\n    ppy.axvline(lw=3.5, color='w')\n    ppy.set_title(\"Population Pyramid\", fontdict={'fontsize':14,'fontweight':3}, pad=15)                 \n    ppy.set(xlabel=\"Population (hundreds of millions)\", ylabel=\"Age Group\");",
    "id": "b14a76396e5246eb943788a7e5a4638d",
    "idx": 18,
    "time": "2021-02-12T04:51:05.447Z",
    "type": "execution"
   },
   {
    "id": "b14a76396e5246eb943788a7e5a4638d",
    "time": "2021-02-12T04:51:05.511Z",
    "type": "completion"
   },
   {
    "code": "population_pyramid(pop_df, \"World\", 2019)",
    "id": "a40715c63f194d618a49c2116c76eda9",
    "idx": 19,
    "time": "2021-02-12T04:51:36.737Z",
    "type": "execution"
   },
   {
    "id": "a40715c63f194d618a49c2116c76eda9",
    "time": "2021-02-12T04:51:36.855Z",
    "type": "completion"
   },
   {
    "code": "def country_pop(pop_df, country, year):\n        \"\"\"Takes in a population DataFrame and selects population \n        data for a specific country/region in YEAR. \"\"\"\n        new_df = pop_df[pop_df.index.get_level_values('country').isin([country])]\n        return new_df[new_df.index.get_level_values('year').isin([year])]\n\ndef population_pyramid(pop_df, country, year):\n    \"\"\"Takes as input a pandas DataFrame with columns providing counts \n    of people by age-sex groups, and constructs a population pyramid graph \n    for visualizing the data.\"\"\"\n    country_df = country_pop(pop_df, country, year)\n    ages = [col[16:21] for col in ppy_df.columns[::2]]\n    ages = ages[:-3]\n    ages.append('80+')\n\n    f_pop = list(ppy_df.iloc[0])[::2][:-2]\n    m_pop = list(ppy_df.iloc[0])[1::2][:-1]\n\n    ppy_df = pd.DataFrame({'Age': ages,\n                 'Population, total female': f_pop,\n                 'Population, total male': m_pop})\n    ppy_df['Population, total male'] = ppy_df['Population, total male']*-1\n\n\n    ppy, ax = plt.subplots(figsize=(11.7, 8.27))\n    ageAxis = ages[::-1]\n    ppy = sns.barplot(x='Population, total female',\n                            y='Age',\n                            data=ppy_df,\n                            order=ageAxis,\n                            lw=0,\n                            color='tomato')\n    ppy = sns.barplot(x='Population, total male',\n                            y='Age',\n                            data=ppy_df,\n                            order=ageAxis,\n                            lw=0,\n                            color='dodgerblue')\n\n    ppy.axvline(lw=3.5, color='w')\n    ppy.set_title(\"Population Pyramid\", fontdict={'fontsize':14,'fontweight':3}, pad=15)                 \n    ppy.set(xlabel=\"Population (hundreds of millions)\", ylabel=\"Age Group\");",
    "id": "b14a76396e5246eb943788a7e5a4638d",
    "idx": 18,
    "time": "2021-02-12T04:53:03.569Z",
    "type": "execution"
   },
   {
    "id": "b14a76396e5246eb943788a7e5a4638d",
    "time": "2021-02-12T04:53:03.636Z",
    "type": "completion"
   },
   {
    "code": "population_pyramid(pop_df, \"World\", 2019)",
    "id": "a40715c63f194d618a49c2116c76eda9",
    "idx": 19,
    "time": "2021-02-12T04:53:04.708Z",
    "type": "execution"
   },
   {
    "id": "a40715c63f194d618a49c2116c76eda9",
    "time": "2021-02-12T04:53:04.815Z",
    "type": "completion"
   },
   {
    "code": "def country_pop(pop_df, country, year):\n        \"\"\"Takes in a population DataFrame and selects population \n        data for a specific country/region in YEAR. \"\"\"\n        new_df = pop_df[pop_df.index.get_level_values('country').isin([country])]\n        return new_df[new_df.index.get_level_values('year').isin([year])]\n\ndef population_pyramid(pop_df, country, year):\n    \"\"\"Takes as input a pandas DataFrame with columns providing counts \n    of people by age-sex groups, and constructs a population pyramid graph \n    for visualizing the data.\"\"\"\n    country_df = country_pop(pop_df, country, year)\n    ages = [col[16:21] for col in country_df.columns[::2]]\n    ages = ages[:-3]\n    ages.append('80+')\n\n    f_pop = list(ppy_df.iloc[0])[::2][:-2]\n    m_pop = list(ppy_df.iloc[0])[1::2][:-1]\n\n    ppy_df = pd.DataFrame({'Age': ages,\n                 'Population, total female': f_pop,\n                 'Population, total male': m_pop})\n    ppy_df['Population, total male'] = ppy_df['Population, total male']*-1\n\n\n    ppy, ax = plt.subplots(figsize=(11.7, 8.27))\n    ageAxis = ages[::-1]\n    ppy = sns.barplot(x='Population, total female',\n                            y='Age',\n                            data=ppy_df,\n                            order=ageAxis,\n                            lw=0,\n                            color='tomato')\n    ppy = sns.barplot(x='Population, total male',\n                            y='Age',\n                            data=ppy_df,\n                            order=ageAxis,\n                            lw=0,\n                            color='dodgerblue')\n\n    ppy.axvline(lw=3.5, color='w')\n    ppy.set_title(\"Population Pyramid\", fontdict={'fontsize':14,'fontweight':3}, pad=15)                 \n    ppy.set(xlabel=\"Population (hundreds of millions)\", ylabel=\"Age Group\");",
    "id": "b14a76396e5246eb943788a7e5a4638d",
    "idx": 18,
    "time": "2021-02-12T04:53:35.021Z",
    "type": "execution"
   },
   {
    "id": "b14a76396e5246eb943788a7e5a4638d",
    "time": "2021-02-12T04:53:35.087Z",
    "type": "completion"
   },
   {
    "code": "population_pyramid(pop_df, \"World\", 2019)",
    "id": "a40715c63f194d618a49c2116c76eda9",
    "idx": 19,
    "time": "2021-02-12T04:53:35.300Z",
    "type": "execution"
   },
   {
    "id": "a40715c63f194d618a49c2116c76eda9",
    "time": "2021-02-12T04:53:35.413Z",
    "type": "completion"
   },
   {
    "code": "def country_pop(pop_df, country, year):\n        \"\"\"Takes in a population DataFrame and selects population \n        data for a specific country/region in YEAR. \"\"\"\n        new_df = pop_df[pop_df.index.get_level_values('country').isin([country])]\n        return new_df[new_df.index.get_level_values('year').isin([year])]\n\ndef population_pyramid(pop_df, country, year):\n    \"\"\"Takes as input a pandas DataFrame with columns providing counts \n    of people by age-sex groups, and constructs a population pyramid graph \n    for visualizing the data.\"\"\"\n    country_df = country_pop(pop_df, country, year)\n    ages = [col[16:21] for col in country_df.columns[::2]]\n    ages = ages[:-3]\n    ages.append('80+')\n\n    f_pop = list(country_df.iloc[0])[::2][:-2]\n    m_pop = list(country_df.iloc[0])[1::2][:-1]\n\n    ppy_df = pd.DataFrame({'Age': ages,\n                 'Population, total female': f_pop,\n                 'Population, total male': m_pop})\n    ppy_df['Population, total male'] = ppy_df['Population, total male']*-1\n\n\n    ppy, ax = plt.subplots(figsize=(11.7, 8.27))\n    ageAxis = ages[::-1]\n    ppy = sns.barplot(x='Population, total female',\n                            y='Age',\n                            data=ppy_df,\n                            order=ageAxis,\n                            lw=0,\n                            color='tomato')\n    ppy = sns.barplot(x='Population, total male',\n                            y='Age',\n                            data=ppy_df,\n                            order=ageAxis,\n                            lw=0,\n                            color='dodgerblue')\n\n    ppy.axvline(lw=3.5, color='w')\n    ppy.set_title(\"Population Pyramid\", fontdict={'fontsize':14,'fontweight':3}, pad=15)                 \n    ppy.set(xlabel=\"Population (hundreds of millions)\", ylabel=\"Age Group\");",
    "id": "b14a76396e5246eb943788a7e5a4638d",
    "idx": 18,
    "time": "2021-02-12T04:53:45.410Z",
    "type": "execution"
   },
   {
    "id": "b14a76396e5246eb943788a7e5a4638d",
    "time": "2021-02-12T04:53:45.475Z",
    "type": "completion"
   },
   {
    "code": "population_pyramid(pop_df, \"World\", 2019)",
    "id": "a40715c63f194d618a49c2116c76eda9",
    "idx": 19,
    "time": "2021-02-12T04:53:46.230Z",
    "type": "execution"
   },
   {
    "id": "a40715c63f194d618a49c2116c76eda9",
    "time": "2021-02-12T04:53:47.056Z",
    "type": "completion"
   },
   {
    "code": "population_pyramid(pop_df, \"World\", 2010)",
    "id": "a40715c63f194d618a49c2116c76eda9",
    "idx": 19,
    "time": "2021-02-12T04:53:58.990Z",
    "type": "execution"
   },
   {
    "id": "a40715c63f194d618a49c2116c76eda9",
    "time": "2021-02-12T04:53:59.563Z",
    "type": "completion"
   },
   {
    "code": "population_pyramid(pop_df, \"World\", 1960)",
    "id": "a40715c63f194d618a49c2116c76eda9",
    "idx": 19,
    "time": "2021-02-12T04:54:04.889Z",
    "type": "execution"
   },
   {
    "id": "a40715c63f194d618a49c2116c76eda9",
    "time": "2021-02-12T04:54:05.528Z",
    "type": "completion"
   },
   {
    "code": "population_pyramid(pop_df, \"World\", 1970)",
    "id": "a40715c63f194d618a49c2116c76eda9",
    "idx": 19,
    "time": "2021-02-12T04:54:12.489Z",
    "type": "execution"
   },
   {
    "id": "a40715c63f194d618a49c2116c76eda9",
    "time": "2021-02-12T04:54:13.031Z",
    "type": "completion"
   },
   {
    "code": "population_pyramid(pop_df, \"World\", 2000)",
    "id": "a40715c63f194d618a49c2116c76eda9",
    "idx": 19,
    "time": "2021-02-12T04:54:17.399Z",
    "type": "execution"
   },
   {
    "id": "a40715c63f194d618a49c2116c76eda9",
    "time": "2021-02-12T04:54:18.010Z",
    "type": "completion"
   },
   {
    "code": "population_pyramid(pop_df, \"World\", 2001)",
    "id": "a40715c63f194d618a49c2116c76eda9",
    "idx": 19,
    "time": "2021-02-12T04:54:20.679Z",
    "type": "execution"
   },
   {
    "id": "a40715c63f194d618a49c2116c76eda9",
    "time": "2021-02-12T04:54:21.285Z",
    "type": "completion"
   },
   {
    "code": "population_pyramid(pop_df, \"China\", 2001)",
    "id": "48ab26c0ca4649ca80f809eac2d4105d",
    "idx": 20,
    "time": "2021-02-12T04:54:30.531Z",
    "type": "execution"
   },
   {
    "id": "48ab26c0ca4649ca80f809eac2d4105d",
    "time": "2021-02-12T04:54:31.227Z",
    "type": "completion"
   },
   {
    "code": "population_pyramid(pop_df, \"China\", 1960)",
    "id": "48ab26c0ca4649ca80f809eac2d4105d",
    "idx": 20,
    "time": "2021-02-12T04:54:36.732Z",
    "type": "execution"
   },
   {
    "id": "48ab26c0ca4649ca80f809eac2d4105d",
    "time": "2021-02-12T04:54:37.318Z",
    "type": "completion"
   },
   {
    "code": "population_pyramid(pop_df, \"China\", 1980)",
    "id": "48ab26c0ca4649ca80f809eac2d4105d",
    "idx": 20,
    "time": "2021-02-12T04:54:43.779Z",
    "type": "execution"
   },
   {
    "id": "48ab26c0ca4649ca80f809eac2d4105d",
    "time": "2021-02-12T04:54:44.418Z",
    "type": "completion"
   },
   {
    "code": "population_pyramid(pop_df, \"China\", 2019)",
    "id": "48ab26c0ca4649ca80f809eac2d4105d",
    "idx": 20,
    "time": "2021-02-12T04:54:47.289Z",
    "type": "execution"
   },
   {
    "id": "48ab26c0ca4649ca80f809eac2d4105d",
    "time": "2021-02-12T04:54:47.912Z",
    "type": "completion"
   },
   {
    "code": "population_pyramid(pop_df, \"China\", 2000)",
    "id": "48ab26c0ca4649ca80f809eac2d4105d",
    "idx": 20,
    "time": "2021-02-12T04:54:51.339Z",
    "type": "execution"
   },
   {
    "id": "48ab26c0ca4649ca80f809eac2d4105d",
    "time": "2021-02-12T04:54:51.956Z",
    "type": "completion"
   },
   {
    "code": "population_pyramid(pop_df, \"China\", 1960)",
    "id": "48ab26c0ca4649ca80f809eac2d4105d",
    "idx": 20,
    "time": "2021-02-12T04:54:54.519Z",
    "type": "execution"
   },
   {
    "id": "48ab26c0ca4649ca80f809eac2d4105d",
    "time": "2021-02-12T04:54:55.355Z",
    "type": "completion"
   },
   {
    "code": "population_pyramid(pop_df, \"China\", 1960)",
    "id": "48ab26c0ca4649ca80f809eac2d4105d",
    "idx": 20,
    "time": "2021-02-12T04:54:58.299Z",
    "type": "execution"
   },
   {
    "id": "48ab26c0ca4649ca80f809eac2d4105d",
    "time": "2021-02-12T04:54:58.876Z",
    "type": "completion"
   },
   {
    "code": "population_pyramid(pop_df, \"China\", 2019)",
    "id": "48ab26c0ca4649ca80f809eac2d4105d",
    "idx": 20,
    "time": "2021-02-12T04:55:04.649Z",
    "type": "execution"
   },
   {
    "id": "48ab26c0ca4649ca80f809eac2d4105d",
    "time": "2021-02-12T04:55:05.236Z",
    "type": "completion"
   },
   {
    "code": "population_pyramid(pop_df, \"World\", 2019)",
    "id": "a40715c63f194d618a49c2116c76eda9",
    "idx": 19,
    "time": "2021-02-12T04:55:16.579Z",
    "type": "execution"
   },
   {
    "id": "a40715c63f194d618a49c2116c76eda9",
    "time": "2021-02-12T04:55:17.174Z",
    "type": "completion"
   },
   {
    "code": "population_pyramid(pop_df, \"China\", 2019)",
    "id": "48ab26c0ca4649ca80f809eac2d4105d",
    "idx": 20,
    "time": "2021-02-12T04:55:17.329Z",
    "type": "execution"
   },
   {
    "id": "48ab26c0ca4649ca80f809eac2d4105d",
    "time": "2021-02-12T04:55:17.965Z",
    "type": "completion"
   },
   {
    "code": "population_pyramid(pop_df, \"India\", 2019)",
    "id": "4cdd1f695b404fbca805d71813cc9b2d",
    "idx": 21,
    "time": "2021-02-12T04:55:38.108Z",
    "type": "execution"
   },
   {
    "id": "4cdd1f695b404fbca805d71813cc9b2d",
    "time": "2021-02-12T04:55:38.776Z",
    "type": "completion"
   },
   {
    "code": "!pip install wbdata\n\nimport pandas as pd\nimport wbdata\nimport numpy as np\nimport re \nimport matplotlib.pyplot as plt\nimport seaborn as sns",
    "id": "d8c737d2ebba4a7795be23c3434d6686",
    "idx": 0,
    "time": "2021-02-12T23:12:43.163Z",
    "type": "execution"
   },
   {
    "code": "# Return list of all country/region codes:\nwbdata.get_country()",
    "id": "b81ace59eca1493284e68e03261de7d9",
    "idx": 2,
    "time": "2021-02-12T23:12:44.061Z",
    "type": "execution"
   },
   {
    "code": "wbdata.get_source()",
    "id": "d10217230250418bb144203790351d9f",
    "idx": 4,
    "time": "2021-02-12T23:12:44.700Z",
    "type": "execution"
   },
   {
    "code": "SOURCE = 40 # \"Population estimates and projections\"\n\nindicators_40 = wbdata.get_indicator(source=SOURCE)\nindicators_40",
    "id": "11cc3fcd77d346798bc5893c6d4f6db4",
    "idx": 5,
    "time": "2021-02-12T23:12:44.860Z",
    "type": "execution"
   },
   {
    "code": "def population(sex, year, age, country):\n    \"\"\"Function that takes in a SEX (\"Male\", \"Female\"), ... , COUNTRY=, .. \n    and returns a statistic for the given function arguments\"\"\"\n    if sex == \"Male\":\n        variable_labels = {\"SP.POP.\" + str(age[0])+str(age[1]) + \".MA\": sex}\n    elif sex==\"Female\":\n        variable_labels = {\"SP.POP.\" + str(age[0])+str(age[1]) + \".FE\": sex}\n    pop_stats = wbdata.get_dataframe(variable_labels, country=country)\n    pop_stats = pop_stats.filter(like=str(year), axis=0)\n    return pop_stats[sex][0]",
    "id": "5ed7396b0d74482da6a9bdd450753fb6",
    "idx": 7,
    "time": "2021-02-12T23:12:45.230Z",
    "type": "execution"
   },
   {
    "code": "population(\"Female\", 2010, (15,19), \"CHN\")",
    "id": "5ead2ee43d024085920f4e6abce7753f",
    "idx": 8,
    "time": "2021-02-12T23:12:45.411Z",
    "type": "execution"
   },
   {
    "code": "def population_dataframes(indicators):\n    \"\"\"Returns a pandas DataFrame indexed by Region or Country and Year, \n    with columns giving counts of people in different age-sex groups.\"\"\"\n    # Create a dictionary of all corresponding ID's and keys in SOURCE 40 from WBDATA\n    labels = {}\n    for i in range(len(indicators)):\n        col_id = indicators[i]['id']\n        col_name = indicators[i]['name']\n        labels[col_id] = col_name\n\n    def find_labels(indicators):\n        \"\"\"Helper function that akes in an indicator object to filter through variable \n        keys and parse through necessary ID's to obtain relevant data. \"\"\"\n        # Filter through column ID strings to obtain relevant population data.\n        r = re.compile(\"(SP.POP).[\\d]{2}[A-Z0-9]{2}.[MAFE]{2}$\")\n        col_keys = list(filter(r.match, labels))\n\n        # Add total population column at the end of COL_KEYS\n        col_keys.append('SP.POP.TOTL')\n\n        labels_filtered = {}\n        for key, value in labels.items():\n            if key in col_keys:\n                labels_filtered[key] = value\n        return labels_filtered\n\n    df_labels = find_labels(indicators)\n    return wbdata.get_dataframe(df_labels)",
    "id": "33ef852d41d9481b8ba93590a364360b",
    "idx": 10,
    "time": "2021-02-12T23:12:45.775Z",
    "type": "execution"
   },
   {
    "code": "pop_df = population_dataframes(indicators_40)\npop_df.head()",
    "id": "87566e10b34b44c9a2fa3ffeff7af27d",
    "idx": 11,
    "time": "2021-02-12T23:12:45.931Z",
    "type": "execution"
   },
   {
    "code": "# Change \"date\" index to type INT.\npop_df.index = pop_df.index.set_levels(pop_df.index.levels[1].astype(int), level=1)\n\n# Rename MultiIndex column \"date\" to \"year\"\npop_df = pop_df.rename_axis(index=['country', 'year'])\n\n# Delete 2020 row for every country code\npop_df = pop_df[~pop_df.index.get_level_values('year').isin([2020])]\n\n# Add population total breakdowns for male and female\ncols_f = [col for col in pop_df.columns if 'female' in col]\ncols_m = [col for col in pop_df.columns if col not in cols_f]\npop_df['Population, total female'] = pop_df.loc[:,cols_f].sum(axis=1)\npop_df['Population, total male'] = pop_df.loc[:, cols_m].sum(axis=1)\npop_df.head()",
    "id": "8d1c14af738545488bffff25e1548dbd",
    "idx": 13,
    "time": "2021-02-12T23:12:46.471Z",
    "type": "execution"
   },
   {
    "code": "def country_pop(pop_df, country, year):\n        \"\"\"Takes in a population DataFrame and selects population \n        data for a specific country/region in YEAR. \"\"\"\n        new_df = pop_df[pop_df.index.get_level_values('country').isin([country])]\n        return new_df[new_df.index.get_level_values('year').isin([year])]\n\ndef population_pyramid(pop_df, country, year):\n    \"\"\"Takes as input a pandas DataFrame with columns providing counts \n    of people by age-sex groups, and constructs a population pyramid graph \n    for visualizing the data.\"\"\"\n    country_df = country_pop(pop_df, country, year)\n    ages = [col[16:21] for col in country_df.columns[::2]]\n    ages = ages[:-3]\n    ages.append('80+')\n\n    f_pop = list(country_df.iloc[0])[::2][:-2]\n    m_pop = list(country_df.iloc[0])[1::2][:-1]\n\n    ppy_df = pd.DataFrame({'Age': ages,\n                 'Population, total female': f_pop,\n                 'Population, total male': m_pop})\n    ppy_df['Population, total male'] = ppy_df['Population, total male']*-1\n\n\n    ppy, ax = plt.subplots(figsize=(11.7, 8.27))\n    ageAxis = ages[::-1]\n    ppy = sns.barplot(x='Population, total female',\n                            y='Age',\n                            data=ppy_df,\n                            order=ageAxis,\n                            lw=0,\n                            color='tomato')\n    ppy = sns.barplot(x='Population, total male',\n                            y='Age',\n                            data=ppy_df,\n                            order=ageAxis,\n                            lw=0,\n                            color='dodgerblue')\n\n    ppy.axvline(lw=3.5, color='w')\n    ppy.set_title(\"Population Pyramid\", fontdict={'fontsize':14,'fontweight':3}, pad=15)                 \n    ppy.set(xlabel=\"Population (hundreds of millions)\", ylabel=\"Age Group\");",
    "id": "79db5a18bd914a50abcce9ace54a5abc",
    "idx": 16,
    "time": "2021-02-12T23:12:47.060Z",
    "type": "execution"
   },
   {
    "code": "population_pyramid(pop_df, \"World\", 2019)",
    "id": "c2d800d609e242eeb709b91819848a84",
    "idx": 17,
    "time": "2021-02-12T23:12:50.294Z",
    "type": "execution"
   },
   {
    "code": "population_pyramid(pop_df, \"China\", 2019)",
    "id": "7afa5ed7dd9c4b59a84a8350d2358581",
    "idx": 18,
    "time": "2021-02-12T23:12:50.890Z",
    "type": "execution"
   },
   {
    "code": "population_pyramid(pop_df, \"India\", 2019)",
    "id": "748c2104027a4f7694b1d9d530b82da3",
    "idx": 19,
    "time": "2021-02-12T23:12:51.260Z",
    "type": "execution"
   },
   {
    "id": "d8c737d2ebba4a7795be23c3434d6686",
    "time": "2021-02-12T23:12:51.581Z",
    "type": "completion"
   },
   {
    "id": "b81ace59eca1493284e68e03261de7d9",
    "time": "2021-02-12T23:12:51.671Z",
    "type": "completion"
   },
   {
    "id": "d10217230250418bb144203790351d9f",
    "time": "2021-02-12T23:12:51.680Z",
    "type": "completion"
   },
   {
    "id": "11cc3fcd77d346798bc5893c6d4f6db4",
    "time": "2021-02-12T23:12:51.736Z",
    "type": "completion"
   },
   {
    "id": "5ed7396b0d74482da6a9bdd450753fb6",
    "time": "2021-02-12T23:12:51.768Z",
    "type": "completion"
   },
   {
    "id": "5ead2ee43d024085920f4e6abce7753f",
    "time": "2021-02-12T23:12:51.790Z",
    "type": "completion"
   },
   {
    "id": "33ef852d41d9481b8ba93590a364360b",
    "time": "2021-02-12T23:12:51.815Z",
    "type": "completion"
   },
   {
    "id": "87566e10b34b44c9a2fa3ffeff7af27d",
    "time": "2021-02-12T23:13:00.112Z",
    "type": "completion"
   },
   {
    "id": "8d1c14af738545488bffff25e1548dbd",
    "time": "2021-02-12T23:13:00.146Z",
    "type": "completion"
   },
   {
    "id": "79db5a18bd914a50abcce9ace54a5abc",
    "time": "2021-02-12T23:13:00.179Z",
    "type": "completion"
   },
   {
    "id": "c2d800d609e242eeb709b91819848a84",
    "time": "2021-02-12T23:13:00.718Z",
    "type": "completion"
   },
   {
    "id": "7afa5ed7dd9c4b59a84a8350d2358581",
    "time": "2021-02-12T23:13:01.204Z",
    "type": "completion"
   },
   {
    "id": "748c2104027a4f7694b1d9d530b82da3",
    "time": "2021-02-12T23:13:01.586Z",
    "type": "completion"
   },
   {
    "code": "population_pyramid(pop_df, \"World\", 2019)\nline, = ax.plot([], [], lw=2)\n",
    "id": "c2d800d609e242eeb709b91819848a84",
    "idx": 17,
    "time": "2021-02-12T23:21:22.489Z",
    "type": "execution"
   },
   {
    "id": "c2d800d609e242eeb709b91819848a84",
    "time": "2021-02-12T23:21:23.381Z",
    "type": "completion"
   },
   {
    "code": "def country_pop(pop_df, country, year):\n        \"\"\"Takes in a population DataFrame and selects population \n        data for a specific country/region in YEAR. \"\"\"\n        new_df = pop_df[pop_df.index.get_level_values('country').isin([country])]\n        new_df[new_df.index.get_level_values('year').isin([year])]\n        country_df = country_pop(pop_df, \"World\", 2019)\n        ages = [col[16:21] for col in country_df.columns[::2]]\n        ages = ages[:-3]\n        ages.append('80+')\n        f_pop = list(country_df.iloc[0])[::2][:-2]\n        m_pop = list(country_df.iloc[0])[1::2][:-1]\n        ppy_df = pd.DataFrame({'Age': ages,\n                         'Population, total female': f_pop,\n                         'Population, total male': m_pop})\n        return ppy_df['Population, total male'] = ppy_df['Population, total male']*-1\n    \ndef population_pyramid(df, country, year):\n    \"\"\"Takes as input a pandas DataFrame with columns providing counts \n    of people by age-sex groups, and constructs a population pyramid graph \n    for visualizing the data.\"\"\"\n    ppy, ax = plt.subplots(figsize=(11.7, 8.27))\n    ageAxis = df['Age'][::-1]\n    ppy = sns.barplot(x='Population, total female',\n                            y='Age',\n                            data=df,\n                            order=ageAxis,\n                            lw=0,\n                            color='tomato')\n    ppy = sns.barplot(x='Population, total male',\n                            y='Age',\n                            data=df,\n                            order=ageAxis,\n                            lw=0,\n                            color='dodgerblue')\n\n    ppy.axvline(lw=3.5, color='w')\n    ppy.set_title(\"Population Pyramid\", fontdict={'fontsize':14,'fontweight':3}, pad=15)                 \n    ppy.set(xlabel=\"Population (hundreds of millions)\", ylabel=\"Age Group\");",
    "id": "79db5a18bd914a50abcce9ace54a5abc",
    "idx": 16,
    "time": "2021-02-12T23:26:29.791Z",
    "type": "execution"
   },
   {
    "id": "79db5a18bd914a50abcce9ace54a5abc",
    "time": "2021-02-12T23:26:29.896Z",
    "type": "completion"
   },
   {
    "code": "def country_pop(pop_df, country, year):\n        \"\"\"Takes in a population DataFrame and selects population \n        data for a specific country/region in YEAR. \"\"\"\n        new_df = pop_df[pop_df.index.get_level_values('country').isin([country])]\n        new_df[new_df.index.get_level_values('year').isin([year])]\n        country_df = country_pop(pop_df, \"World\", 2019)\n        ages = [col[16:21] for col in country_df.columns[::2]]\n        ages = ages[:-3]\n        ages.append('80+')\n        f_pop = list(country_df.iloc[0])[::2][:-2]\n        m_pop = list(country_df.iloc[0])[1::2][:-1]\n        ppy_df = pd.DataFrame({'Age': ages,\n                         'Population, total female': f_pop,\n                         'Population, total male': m_pop})\n        ppy_df['Population, total male'] = ppy_df['Population, total male']*-1\n        return ppy_df\n    \ndef population_pyramid(df, country, year):\n    \"\"\"Takes as input a pandas DataFrame with columns providing counts \n    of people by age-sex groups, and constructs a population pyramid graph \n    for visualizing the data.\"\"\"\n    ppy, ax = plt.subplots(figsize=(11.7, 8.27))\n    ageAxis = df['Age'][::-1]\n    ppy = sns.barplot(x='Population, total female',\n                            y='Age',\n                            data=df,\n                            order=ageAxis,\n                            lw=0,\n                            color='tomato')\n    ppy = sns.barplot(x='Population, total male',\n                            y='Age',\n                            data=df,\n                            order=ageAxis,\n                            lw=0,\n                            color='dodgerblue')\n\n    ppy.axvline(lw=3.5, color='w')\n    ppy.set_title(\"Population Pyramid\", fontdict={'fontsize':14,'fontweight':3}, pad=15)                 \n    ppy.set(xlabel=\"Population (hundreds of millions)\", ylabel=\"Age Group\");",
    "id": "79db5a18bd914a50abcce9ace54a5abc",
    "idx": 16,
    "time": "2021-02-12T23:26:49.042Z",
    "type": "execution"
   },
   {
    "id": "79db5a18bd914a50abcce9ace54a5abc",
    "time": "2021-02-12T23:26:49.106Z",
    "type": "completion"
   },
   {
    "code": "country_pop(pop_df, \"World\", 2019\n           )",
    "id": "2553eeeb1a9940488cd990385d6a35d5",
    "idx": 17,
    "time": "2021-02-12T23:27:04.637Z",
    "type": "execution"
   },
   {
    "code": "country_pop(pop_df, \"World\", 2019)",
    "id": "2553eeeb1a9940488cd990385d6a35d5",
    "idx": 17,
    "time": "2021-02-12T23:27:09.568Z",
    "type": "execution"
   },
   {
    "id": "2553eeeb1a9940488cd990385d6a35d5",
    "time": "2021-02-12T23:27:17.988Z",
    "type": "completion"
   },
   {
    "id": "2553eeeb1a9940488cd990385d6a35d5",
    "time": "2021-02-12T23:27:17.988Z",
    "type": "completion"
   },
   {
    "code": "country_pop(pop_df, \"World\", 2019)",
    "id": "2553eeeb1a9940488cd990385d6a35d5",
    "idx": 17,
    "time": "2021-02-12T23:27:33.197Z",
    "type": "execution"
   },
   {
    "id": "2553eeeb1a9940488cd990385d6a35d5",
    "time": "2021-02-12T23:27:46.631Z",
    "type": "completion"
   },
   {
    "code": "def country_pop(pop_df, country, year):\n        \"\"\"Takes in a population DataFrame and selects population \n        data for a specific country/region in YEAR. \"\"\"\n        new_df = pop_df[pop_df.index.get_level_values('country').isin([country])]\n        country_df = new_df[new_df.index.get_level_values('year').isin([year])]\n        ages = [col[16:21] for col in country_df.columns[::2]]\n        ages = ages[:-3]\n        ages.append('80+')\n        f_pop = list(country_df.iloc[0])[::2][:-2]\n        m_pop = list(country_df.iloc[0])[1::2][:-1]\n        ppy_df = pd.DataFrame({'Age': ages,\n                         'Population, total female': f_pop,\n                         'Population, total male': m_pop})\n        ppy_df['Population, total male'] = ppy_df['Population, total male']*-1\n        return ppy_df\n    \ndef population_pyramid(df, country, year):\n    \"\"\"Takes as input a pandas DataFrame with columns providing counts \n    of people by age-sex groups, and constructs a population pyramid graph \n    for visualizing the data.\"\"\"\n    ppy, ax = plt.subplots(figsize=(11.7, 8.27))\n    ageAxis = df['Age'][::-1]\n    ppy = sns.barplot(x='Population, total female',\n                            y='Age',\n                            data=df,\n                            order=ageAxis,\n                            lw=0,\n                            color='tomato')\n    ppy = sns.barplot(x='Population, total male',\n                            y='Age',\n                            data=df,\n                            order=ageAxis,\n                            lw=0,\n                            color='dodgerblue')\n\n    ppy.axvline(lw=3.5, color='w')\n    ppy.set_title(\"Population Pyramid\", fontdict={'fontsize':14,'fontweight':3}, pad=15)                 \n    ppy.set(xlabel=\"Population (hundreds of millions)\", ylabel=\"Age Group\");",
    "id": "79db5a18bd914a50abcce9ace54a5abc",
    "idx": 16,
    "time": "2021-02-12T23:30:02.524Z",
    "type": "execution"
   },
   {
    "id": "79db5a18bd914a50abcce9ace54a5abc",
    "time": "2021-02-12T23:30:02.642Z",
    "type": "completion"
   },
   {
    "code": "country_pop(pop_df, \"World\", 2019)",
    "id": "2553eeeb1a9940488cd990385d6a35d5",
    "idx": 17,
    "time": "2021-02-12T23:30:03.147Z",
    "type": "execution"
   },
   {
    "id": "2553eeeb1a9940488cd990385d6a35d5",
    "time": "2021-02-12T23:30:03.266Z",
    "type": "completion"
   },
   {
    "code": "def country_pop(pop_df, country, year):\n        \"\"\"Takes in a population DataFrame and selects population \n        data for a specific country/region in YEAR. \"\"\"\n        new_df = pop_df[pop_df.index.get_level_values('country').isin([country])]\n        country_df = new_df[new_df.index.get_level_values('year').isin([year])]\n        ages = [col[16:21] for col in country_df.columns[::2]]\n        ages = ages[:-3]\n        ages.append('80+')\n        f_pop = list(country_df.iloc[0])[::2][:-2]\n        m_pop = list(country_df.iloc[0])[1::2][:-1]\n        ppy_df = pd.DataFrame({'Age': ages,\n                         'Population, total female': f_pop,\n                         'Population, total male': m_pop})\n        # Convert male population data to negative values for displaying purposes.\n        ppy_df['Population, total male'] = ppy_df['Population, total male']*-1\n        return ppy_df\n    \ndef population_pyramid(df, country, year):\n    \"\"\"Takes as input a pandas DataFrame with columns providing counts \n    of people by age-sex groups, and constructs a population pyramid graph \n    for visualizing the data.\"\"\"\n    ppy, ax = plt.subplots(figsize=(11.7, 8.27))\n    ageAxis = df['Age'][::-1]\n    ppy = sns.barplot(x='Population, total female',\n                            y='Age',\n                            data=df,\n                            order=ageAxis,\n                            lw=0,\n                            color='tomato')\n    ppy = sns.barplot(x='Population, total male',\n                            y='Age',\n                            data=df,\n                            order=ageAxis,\n                            lw=0,\n                            color='dodgerblue')\n\n    ppy.axvline(lw=3.5, color='w')\n    ppy.set_title(\"Population Pyramid\", fontdict={'fontsize':14,'fontweight':3}, pad=15)                 \n    ppy.set(xlabel=\"Population (hundreds of millions)\", ylabel=\"Age Group\");",
    "id": "79db5a18bd914a50abcce9ace54a5abc",
    "idx": 16,
    "time": "2021-02-12T23:30:56.485Z",
    "type": "execution"
   },
   {
    "id": "79db5a18bd914a50abcce9ace54a5abc",
    "time": "2021-02-12T23:30:56.550Z",
    "type": "completion"
   },
   {
    "code": "country_pop(pop_df, \"World\", 2019)",
    "id": "2553eeeb1a9940488cd990385d6a35d5",
    "idx": 17,
    "time": "2021-02-12T23:30:57.032Z",
    "type": "execution"
   },
   {
    "id": "2553eeeb1a9940488cd990385d6a35d5",
    "time": "2021-02-12T23:30:57.132Z",
    "type": "completion"
   },
   {
    "code": "population_pyramid(pop_df, \"World\", 2019)\n",
    "id": "c2d800d609e242eeb709b91819848a84",
    "idx": 17,
    "time": "2021-02-12T23:31:00.666Z",
    "type": "execution"
   },
   {
    "id": "c2d800d609e242eeb709b91819848a84",
    "time": "2021-02-12T23:31:01.032Z",
    "type": "completion"
   },
   {
    "code": "country_pop(pop_df, )",
    "id": "c2d800d609e242eeb709b91819848a84",
    "idx": 17,
    "time": "2021-02-12T23:31:28.416Z",
    "type": "execution"
   },
   {
    "id": "c2d800d609e242eeb709b91819848a84",
    "time": "2021-02-12T23:31:28.486Z",
    "type": "completion"
   },
   {
    "code": "country_pop(pop_df, \"World\", 2019)",
    "id": "c2d800d609e242eeb709b91819848a84",
    "idx": 17,
    "time": "2021-02-12T23:31:34.235Z",
    "type": "execution"
   },
   {
    "id": "c2d800d609e242eeb709b91819848a84",
    "time": "2021-02-12T23:31:34.319Z",
    "type": "completion"
   },
   {
    "code": "def country_pop(pop_df, country, year):\n        \"\"\"Takes in a population DataFrame and selects population \n        data for a specific country/region in YEAR. \"\"\"\n        new_df = pop_df[pop_df.index.get_level_values('country').isin([country])]\n        country_df = new_df[new_df.index.get_level_values('year').isin([year])]\n        ages = [col[16:21] for col in country_df.columns[::2]]\n        ages = ages[:-3]\n        ages.append('80+')\n        f_pop = list(country_df.iloc[0])[::2][:-2]\n        m_pop = list(country_df.iloc[0])[1::2][:-1]\n        ppy_df = pd.DataFrame({'Age': ages,\n                         'Population, total female': f_pop,\n                         'Population, total male': m_pop})\n        # Convert male population data to negative values for displaying purposes.\n        ppy_df['Population, total male'] = ppy_df['Population, total male']*-1\n        return ppy_df\n    \ndef population_pyramid(df):\n    \"\"\"Takes as input a pandas DataFrame with columns providing counts \n    of people by age-sex groups, and constructs a population pyramid graph \n    for visualizing the data.\"\"\"\n    ppy, ax = plt.subplots(figsize=(11.7, 8.27))\n    ageAxis = df['Age'][::-1]\n    ppy = sns.barplot(x='Population, total female',\n                            y='Age',\n                            data=df,\n                            order=ageAxis,\n                            lw=0,\n                            color='tomato')\n    ppy = sns.barplot(x='Population, total male',\n                            y='Age',\n                            data=df,\n                            order=ageAxis,\n                            lw=0,\n                            color='dodgerblue')\n\n    ppy.axvline(lw=3.5, color='w')\n    ppy.set_title(\"Population Pyramid\", fontdict={'fontsize':14,'fontweight':3}, pad=15)                 \n    ppy.set(xlabel=\"Population (hundreds of millions)\", ylabel=\"Age Group\");",
    "id": "79db5a18bd914a50abcce9ace54a5abc",
    "idx": 16,
    "time": "2021-02-12T23:31:37.564Z",
    "type": "execution"
   },
   {
    "id": "79db5a18bd914a50abcce9ace54a5abc",
    "time": "2021-02-12T23:31:37.632Z",
    "type": "completion"
   },
   {
    "code": "\npopulation_pyramid(generate_ppy_df(pop_df, \"World\", 2019))",
    "id": "c2d800d609e242eeb709b91819848a84",
    "idx": 17,
    "time": "2021-02-12T23:33:36.542Z",
    "type": "execution"
   },
   {
    "id": "c2d800d609e242eeb709b91819848a84",
    "time": "2021-02-12T23:33:36.639Z",
    "type": "completion"
   },
   {
    "code": "def generate_ppy_df(pop_df, country, year):\n        \"\"\"Takes in a population DataFrame and selects population \n        data for a specific country/region in YEAR, then modifies the\n        DataFrame in a way that can be visualized. \"\"\"\n        new_df = pop_df[pop_df.index.get_level_values('country').isin([country])]\n        country_df = new_df[new_df.index.get_level_values('year').isin([year])]\n        ages = [col[16:21] for col in country_df.columns[::2]]\n        ages = ages[:-3]\n        ages.append('80+')\n        f_pop = list(country_df.iloc[0])[::2][:-2]\n        m_pop = list(country_df.iloc[0])[1::2][:-1]\n        ppy_df = pd.DataFrame({'Age': ages,\n                         'Population, total female': f_pop,\n                         'Population, total male': m_pop})\n        # Convert male population data to negative values for displaying purposes.\n        ppy_df['Population, total male'] = ppy_df['Population, total male']*-1\n        return ppy_df\n    \ndef population_pyramid(df):\n    \"\"\"Takes as input a pandas DataFrame with columns providing counts \n    of people by age-sex groups, and constructs a population pyramid graph \n    for visualizing the data.\"\"\"\n    ppy, ax = plt.subplots(figsize=(11.7, 8.27))\n    ageAxis = df['Age'][::-1]\n    ppy = sns.barplot(x='Population, total female',\n                            y='Age',\n                            data=df,\n                            order=ageAxis,\n                            lw=0,\n                            color='tomato')\n    ppy = sns.barplot(x='Population, total male',\n                            y='Age',\n                            data=df,\n                            order=ageAxis,\n                            lw=0,\n                            color='dodgerblue')\n\n    ppy.axvline(lw=3.5, color='w')\n    ppy.set_title(\"Population Pyramid\", fontdict={'fontsize':14,'fontweight':3}, pad=15)                 \n    ppy.set(xlabel=\"Population (hundreds of millions)\", ylabel=\"Age Group\");",
    "id": "79db5a18bd914a50abcce9ace54a5abc",
    "idx": 16,
    "time": "2021-02-12T23:33:39.895Z",
    "type": "execution"
   },
   {
    "id": "79db5a18bd914a50abcce9ace54a5abc",
    "time": "2021-02-12T23:33:39.956Z",
    "type": "completion"
   },
   {
    "code": "\npopulation_pyramid(generate_ppy_df(pop_df, \"World\", 2019))",
    "id": "c2d800d609e242eeb709b91819848a84",
    "idx": 17,
    "time": "2021-02-12T23:33:40.037Z",
    "type": "execution"
   },
   {
    "id": "c2d800d609e242eeb709b91819848a84",
    "time": "2021-02-12T23:33:40.636Z",
    "type": "completion"
   },
   {
    "code": "def generate_ppy_df(pop_df, country, year):\n        \"\"\"Takes in a population DataFrame and selects population \n        data for a specific country/region in YEAR, then modifies the\n        DataFrame in a way that can be visualized. \"\"\"\n        new_df = pop_df[pop_df.index.get_level_values('country').isin([country])]\n        country_df = new_df[new_df.index.get_level_values('year').isin([year])]\n        ages = [col[16:21] for col in country_df.columns[::2]]\n        ages = ages[:-3]\n        ages.append('80+')\n        f_pop = list(country_df.iloc[0])[::2][:-2]\n        m_pop = list(country_df.iloc[0])[1::2][:-1]\n        ppy_df = pd.DataFrame({'Age': ages,\n                         'Population, total female': f_pop,\n                         'Population, total male': m_pop})\n        # Convert male population data to negative values for displaying purposes.\n        ppy_df['Population, total male'] = ppy_df['Population, total male']*-1\n        return ppy_df\n\n\n# def population_pyramid(df):\n#    \"\"\"Takes as input a pandas DataFrame with columns providing counts \n#    of people by age-sex groups, and constructs a population pyramid graph \n#    for visualizing the data.\"\"\"\ndf=generate_ppy_df(pop_df, \"World\", 2019)\nppy, ax = plt.subplots(figsize=(11.7, 8.27))\nageAxis = df['Age'][::-1]\nppy = sns.barplot(x='Population, total female',\n                        y='Age',\n                        data=df,\n                        order=ageAxis,\n                        lw=0,\n                        color='tomato')\nppy = sns.barplot(x='Population, total male',\n                        y='Age',\n                        data=df,\n                        order=ageAxis,\n                        lw=0,\n                        color='dodgerblue')\n\nppy.axvline(lw=3.5, color='w')\nppy.set_title(\"Population Pyramid\", fontdict={'fontsize':14,'fontweight':3}, pad=15)                 \nppy.set(xlabel=\"Population (hundreds of millions)\", ylabel=\"Age Group\");",
    "id": "79db5a18bd914a50abcce9ace54a5abc",
    "idx": 16,
    "time": "2021-02-12T23:39:38.642Z",
    "type": "execution"
   },
   {
    "id": "79db5a18bd914a50abcce9ace54a5abc",
    "time": "2021-02-12T23:39:39.367Z",
    "type": "completion"
   },
   {
    "code": "ppy",
    "id": "dce5c71021054b4485459499927e4511",
    "idx": 17,
    "time": "2021-02-12T23:40:12.688Z",
    "type": "execution"
   },
   {
    "id": "dce5c71021054b4485459499927e4511",
    "time": "2021-02-12T23:40:12.749Z",
    "type": "completion"
   },
   {
    "code": "ax",
    "id": "dce5c71021054b4485459499927e4511",
    "idx": 17,
    "time": "2021-02-12T23:40:21.189Z",
    "type": "execution"
   },
   {
    "id": "dce5c71021054b4485459499927e4511",
    "time": "2021-02-12T23:40:24.508Z",
    "type": "completion"
   },
   {
    "code": "plt.subplots()",
    "id": "dce5c71021054b4485459499927e4511",
    "idx": 17,
    "time": "2021-02-12T23:40:37.289Z",
    "type": "execution"
   },
   {
    "id": "dce5c71021054b4485459499927e4511",
    "time": "2021-02-12T23:40:37.522Z",
    "type": "completion"
   },
   {
    "code": "print(ax)",
    "id": "dce5c71021054b4485459499927e4511",
    "idx": 17,
    "time": "2021-02-12T23:40:48.240Z",
    "type": "execution"
   },
   {
    "id": "dce5c71021054b4485459499927e4511",
    "time": "2021-02-12T23:40:48.327Z",
    "type": "completion"
   },
   {
    "code": "ax.show()",
    "id": "dce5c71021054b4485459499927e4511",
    "idx": 17,
    "time": "2021-02-12T23:40:52.769Z",
    "type": "execution"
   },
   {
    "id": "dce5c71021054b4485459499927e4511",
    "time": "2021-02-12T23:40:52.855Z",
    "type": "completion"
   },
   {
    "code": "ax.display()",
    "id": "dce5c71021054b4485459499927e4511",
    "idx": 17,
    "time": "2021-02-12T23:40:55.149Z",
    "type": "execution"
   },
   {
    "id": "dce5c71021054b4485459499927e4511",
    "time": "2021-02-12T23:40:55.231Z",
    "type": "completion"
   },
   {
    "code": "ax.figure()",
    "id": "dce5c71021054b4485459499927e4511",
    "idx": 17,
    "time": "2021-02-12T23:40:58.729Z",
    "type": "execution"
   },
   {
    "id": "dce5c71021054b4485459499927e4511",
    "time": "2021-02-12T23:40:58.796Z",
    "type": "completion"
   },
   {
    "code": "ax.title",
    "id": "dce5c71021054b4485459499927e4511",
    "idx": 17,
    "time": "2021-02-12T23:41:07.479Z",
    "type": "execution"
   },
   {
    "id": "dce5c71021054b4485459499927e4511",
    "time": "2021-02-12T23:41:07.545Z",
    "type": "completion"
   },
   {
    "code": "def generate_ppy_df(pop_df, country, year):\n        \"\"\"Takes in a population DataFrame and selects population \n        data for a specific country/region in YEAR, then modifies the\n        DataFrame in a way that can be visualized. \"\"\"\n        new_df = pop_df[pop_df.index.get_level_values('country').isin([country])]\n        country_df = new_df[new_df.index.get_level_values('year').isin([year])]\n        ages = [col[16:21] for col in country_df.columns[::2]]\n        ages = ages[:-3]\n        ages.append('80+')\n        f_pop = list(country_df.iloc[0])[::2][:-2]\n        m_pop = list(country_df.iloc[0])[1::2][:-1]\n        ppy_df = pd.DataFrame({'Age': ages,\n                         'Population, total female': f_pop,\n                         'Population, total male': m_pop})\n        # Convert male population data to negative values for displaying purposes.\n        ppy_df['Population, total male'] = ppy_df['Population, total male']*-1\n        return ppy_df\n\n\n# def population_pyramid(df):\n#    \"\"\"Takes as input a pandas DataFrame with columns providing counts \n#    of people by age-sex groups, and constructs a population pyramid graph \n#    for visualizing the data.\"\"\"\ndf=generate_ppy_df(pop_df, \"World\", 2019)\n\nfig_ppy, ax = plt.subplots(figsize=(11.7, 8.27))\nageAxis = df['Age'][::-1]\nfig_ppy = sns.barplot(x='Population, total female',\n                        y='Age',\n                        data=df,\n                        order=ageAxis,\n                        lw=0,\n                        color='tomato')\nfig_ppy = sns.barplot(x='Population, total male',\n                        y='Age',\n                        data=df,\n                        order=ageAxis,\n                        lw=0,\n                        color='dodgerblue')\n\nfig_ppy.axvline(lw=3.5, color='w')\nfig_ppy.set_title(\"Population Pyramid\", fontdict={'fontsize':14,'fontweight':3}, pad=15)                 \nfig_ppy.set(xlabel=\"Population (hundreds of millions)\", ylabel=\"Age Group\");",
    "id": "79db5a18bd914a50abcce9ace54a5abc",
    "idx": 16,
    "time": "2021-02-12T23:41:59.600Z",
    "type": "execution"
   },
   {
    "id": "79db5a18bd914a50abcce9ace54a5abc",
    "time": "2021-02-12T23:42:00.282Z",
    "type": "completion"
   },
   {
    "code": "ax.title",
    "id": "dce5c71021054b4485459499927e4511",
    "idx": 17,
    "time": "2021-02-12T23:42:01.439Z",
    "type": "execution"
   },
   {
    "id": "dce5c71021054b4485459499927e4511",
    "time": "2021-02-12T23:42:01.502Z",
    "type": "completion"
   },
   {
    "code": "def generate_ppy_df(pop_df, country, year):\n        \"\"\"Takes in a population DataFrame and selects population \n        data for a specific country/region in YEAR, then modifies the\n        DataFrame in a way that can be visualized. \"\"\"\n        new_df = pop_df[pop_df.index.get_level_values('country').isin([country])]\n        country_df = new_df[new_df.index.get_level_values('year').isin([year])]\n        ages = [col[16:21] for col in country_df.columns[::2]]\n        ages = ages[:-3]\n        ages.append('80+')\n        f_pop = list(country_df.iloc[0])[::2][:-2]\n        m_pop = list(country_df.iloc[0])[1::2][:-1]\n        ppy_df = pd.DataFrame({'Age': ages,\n                         'Population, total female': f_pop,\n                         'Population, total male': m_pop})\n        # Convert male population data to negative values for displaying purposes.\n        ppy_df['Population, total male'] = ppy_df['Population, total male']*-1\n        return ppy_df\n\n\n# def population_pyramid(df):\n#    \"\"\"Takes as input a pandas DataFrame with columns providing counts \n#    of people by age-sex groups, and constructs a population pyramid graph \n#    for visualizing the data.\"\"\"\ndf=generate_ppy_df(pop_df, \"World\", 2019)\n\nfig_ppy = plt.figure()\nax = plt.axes()\nageAxis = df['Age'][::-1]\nfig_ppy = sns.barplot(x='Population, total female',\n                        y='Age',\n                        data=df,\n                        order=ageAxis,\n                        lw=0,\n                        color='tomato')\nfig_ppy = sns.barplot(x='Population, total male',\n                        y='Age',\n                        data=df,\n                        order=ageAxis,\n                        lw=0,\n                        color='dodgerblue')\n\nfig_ppy.axvline(lw=3.5, color='w')\nfig_ppy.set_title(\"Population Pyramid\", fontdict={'fontsize':14,'fontweight':3}, pad=15)                 \nfig_ppy.set(xlabel=\"Population (hundreds of millions)\", ylabel=\"Age Group\");",
    "id": "79db5a18bd914a50abcce9ace54a5abc",
    "idx": 16,
    "time": "2021-02-12T23:43:58.101Z",
    "type": "execution"
   },
   {
    "id": "79db5a18bd914a50abcce9ace54a5abc",
    "time": "2021-02-12T23:43:58.963Z",
    "type": "completion"
   },
   {
    "code": "def generate_ppy_df(pop_df, country, year):\n        \"\"\"Takes in a population DataFrame and selects population \n        data for a specific country/region in YEAR, then modifies the\n        DataFrame in a way that can be visualized. \"\"\"\n        new_df = pop_df[pop_df.index.get_level_values('country').isin([country])]\n        country_df = new_df[new_df.index.get_level_values('year').isin([year])]\n        ages = [col[16:21] for col in country_df.columns[::2]]\n        ages = ages[:-3]\n        ages.append('80+')\n        f_pop = list(country_df.iloc[0])[::2][:-2]\n        m_pop = list(country_df.iloc[0])[1::2][:-1]\n        ppy_df = pd.DataFrame({'Age': ages,\n                         'Population, total female': f_pop,\n                         'Population, total male': m_pop})\n        # Convert male population data to negative values for displaying purposes.\n        ppy_df['Population, total male'] = ppy_df['Population, total male']*-1\n        return ppy_df\n\n\n# def population_pyramid(df):\n#    \"\"\"Takes as input a pandas DataFrame with columns providing counts \n#    of people by age-sex groups, and constructs a population pyramid graph \n#    for visualizing the data.\"\"\"\ndf=generate_ppy_df(pop_df, \"World\", 2019)\n\nfig_ppy = plt.figure(figsize=(10,7))\nax = plt.axes()\nageAxis = df['Age'][::-1]\nfig_ppy = sns.barplot(x='Population, total female',\n                        y='Age',\n                        data=df,\n                        order=ageAxis,\n                        lw=0,\n                        color='tomato')\nfig_ppy = sns.barplot(x='Population, total male',\n                        y='Age',\n                        data=df,\n                        order=ageAxis,\n                        lw=0,\n                        color='dodgerblue')\n\nfig_ppy.axvline(lw=3.5, color='w')\nfig_ppy.set_title(\"Population Pyramid\", fontdict={'fontsize':14,'fontweight':3}, pad=15)                 \nfig_ppy.set(xlabel=\"Population (hundreds of millions)\", ylabel=\"Age Group\");",
    "id": "79db5a18bd914a50abcce9ace54a5abc",
    "idx": 16,
    "time": "2021-02-12T23:44:11.921Z",
    "type": "execution"
   },
   {
    "id": "79db5a18bd914a50abcce9ace54a5abc",
    "time": "2021-02-12T23:44:12.479Z",
    "type": "completion"
   },
   {
    "code": "def generate_ppy_df(pop_df, country, year):\n        \"\"\"Takes in a population DataFrame and selects population \n        data for a specific country/region in YEAR, then modifies the\n        DataFrame in a way that can be visualized. \"\"\"\n        new_df = pop_df[pop_df.index.get_level_values('country').isin([country])]\n        country_df = new_df[new_df.index.get_level_values('year').isin([year])]\n        ages = [col[16:21] for col in country_df.columns[::2]]\n        ages = ages[:-3]\n        ages.append('80+')\n        f_pop = list(country_df.iloc[0])[::2][:-2]\n        m_pop = list(country_df.iloc[0])[1::2][:-1]\n        ppy_df = pd.DataFrame({'Age': ages,\n                         'Population, total female': f_pop,\n                         'Population, total male': m_pop})\n        # Convert male population data to negative values for displaying purposes.\n        ppy_df['Population, total male'] = ppy_df['Population, total male']*-1\n        return ppy_df\n\n\n# def population_pyramid(df):\n#    \"\"\"Takes as input a pandas DataFrame with columns providing counts \n#    of people by age-sex groups, and constructs a population pyramid graph \n#    for visualizing the data.\"\"\"\ndf=generate_ppy_df(pop_df, \"World\", 2019)\n\nfig_ppy = plt.figure(figsize=(10,8))\nax = plt.axes()\nageAxis = df['Age'][::-1]\nfig_ppy = sns.barplot(x='Population, total female',\n                        y='Age',\n                        data=df,\n                        order=ageAxis,\n                        lw=0,\n                        color='tomato')\nfig_ppy = sns.barplot(x='Population, total male',\n                        y='Age',\n                        data=df,\n                        order=ageAxis,\n                        lw=0,\n                        color='dodgerblue')\n\nfig_ppy.axvline(lw=3.5, color='w')\nfig_ppy.set_title(\"Population Pyramid\", fontdict={'fontsize':14,'fontweight':3}, pad=15)                 \nfig_ppy.set(xlabel=\"Population (hundreds of millions)\", ylabel=\"Age Group\");",
    "id": "79db5a18bd914a50abcce9ace54a5abc",
    "idx": 16,
    "time": "2021-02-12T23:44:17.151Z",
    "type": "execution"
   },
   {
    "id": "79db5a18bd914a50abcce9ace54a5abc",
    "time": "2021-02-12T23:44:17.743Z",
    "type": "completion"
   },
   {
    "code": "def generate_ppy_df(pop_df, country, year):\n        \"\"\"Takes in a population DataFrame and selects population \n        data for a specific country/region in YEAR, then modifies the\n        DataFrame in a way that can be visualized. \"\"\"\n        new_df = pop_df[pop_df.index.get_level_values('country').isin([country])]\n        country_df = new_df[new_df.index.get_level_values('year').isin([year])]\n        ages = [col[16:21] for col in country_df.columns[::2]]\n        ages = ages[:-3]\n        ages.append('80+')\n        f_pop = list(country_df.iloc[0])[::2][:-2]\n        m_pop = list(country_df.iloc[0])[1::2][:-1]\n        ppy_df = pd.DataFrame({'Age': ages,\n                         'Population, total female': f_pop,\n                         'Population, total male': m_pop})\n        # Convert male population data to negative values for displaying purposes.\n        ppy_df['Population, total male'] = ppy_df['Population, total male']*-1\n        return ppy_df\n\n\n# def population_pyramid(df):\n#    \"\"\"Takes as input a pandas DataFrame with columns providing counts \n#    of people by age-sex groups, and constructs a population pyramid graph \n#    for visualizing the data.\"\"\"\ndf=generate_ppy_df(pop_df, \"World\", 2019)\n\nfig_ppy = plt.figure(figsize=(10,10))\nax = plt.axes()\nageAxis = df['Age'][::-1]\nfig_ppy = sns.barplot(x='Population, total female',\n                        y='Age',\n                        data=df,\n                        order=ageAxis,\n                        lw=0,\n                        color='tomato')\nfig_ppy = sns.barplot(x='Population, total male',\n                        y='Age',\n                        data=df,\n                        order=ageAxis,\n                        lw=0,\n                        color='dodgerblue')\n\nfig_ppy.axvline(lw=3.5, color='w')\nfig_ppy.set_title(\"Population Pyramid\", fontdict={'fontsize':14,'fontweight':3}, pad=15)                 \nfig_ppy.set(xlabel=\"Population (hundreds of millions)\", ylabel=\"Age Group\");",
    "id": "79db5a18bd914a50abcce9ace54a5abc",
    "idx": 16,
    "time": "2021-02-12T23:44:23.600Z",
    "type": "execution"
   },
   {
    "id": "79db5a18bd914a50abcce9ace54a5abc",
    "time": "2021-02-12T23:44:24.222Z",
    "type": "completion"
   },
   {
    "code": "def generate_ppy_df(pop_df, country, year):\n        \"\"\"Takes in a population DataFrame and selects population \n        data for a specific country/region in YEAR, then modifies the\n        DataFrame in a way that can be visualized. \"\"\"\n        new_df = pop_df[pop_df.index.get_level_values('country').isin([country])]\n        country_df = new_df[new_df.index.get_level_values('year').isin([year])]\n        ages = [col[16:21] for col in country_df.columns[::2]]\n        ages = ages[:-3]\n        ages.append('80+')\n        f_pop = list(country_df.iloc[0])[::2][:-2]\n        m_pop = list(country_df.iloc[0])[1::2][:-1]\n        ppy_df = pd.DataFrame({'Age': ages,\n                         'Population, total female': f_pop,\n                         'Population, total male': m_pop})\n        # Convert male population data to negative values for displaying purposes.\n        ppy_df['Population, total male'] = ppy_df['Population, total male']*-1\n        return ppy_df\n\n\n# def population_pyramid(df):\n#    \"\"\"Takes as input a pandas DataFrame with columns providing counts \n#    of people by age-sex groups, and constructs a population pyramid graph \n#    for visualizing the data.\"\"\"\ndf=generate_ppy_df(pop_df, \"World\", 2019)\n\nfig_ppy = plt.figure(figsize=(12,10))\nax = plt.axes()\nageAxis = df['Age'][::-1]\nfig_ppy = sns.barplot(x='Population, total female',\n                        y='Age',\n                        data=df,\n                        order=ageAxis,\n                        lw=0,\n                        color='tomato')\nfig_ppy = sns.barplot(x='Population, total male',\n                        y='Age',\n                        data=df,\n                        order=ageAxis,\n                        lw=0,\n                        color='dodgerblue')\n\nfig_ppy.axvline(lw=3.5, color='w')\nfig_ppy.set_title(\"Population Pyramid\", fontdict={'fontsize':14,'fontweight':3}, pad=15)                 \nfig_ppy.set(xlabel=\"Population (hundreds of millions)\", ylabel=\"Age Group\");",
    "id": "79db5a18bd914a50abcce9ace54a5abc",
    "idx": 16,
    "time": "2021-02-12T23:44:29.161Z",
    "type": "execution"
   },
   {
    "id": "79db5a18bd914a50abcce9ace54a5abc",
    "time": "2021-02-12T23:44:35.433Z",
    "type": "completion"
   },
   {
    "code": "def generate_ppy_df(pop_df, country, year):\n        \"\"\"Takes in a population DataFrame and selects population \n        data for a specific country/region in YEAR, then modifies the\n        DataFrame in a way that can be visualized. \"\"\"\n        new_df = pop_df[pop_df.index.get_level_values('country').isin([country])]\n        country_df = new_df[new_df.index.get_level_values('year').isin([year])]\n        ages = [col[16:21] for col in country_df.columns[::2]]\n        ages = ages[:-3]\n        ages.append('80+')\n        f_pop = list(country_df.iloc[0])[::2][:-2]\n        m_pop = list(country_df.iloc[0])[1::2][:-1]\n        ppy_df = pd.DataFrame({'Age': ages,\n                         'Population, total female': f_pop,\n                         'Population, total male': m_pop})\n        # Convert male population data to negative values for displaying purposes.\n        ppy_df['Population, total male'] = ppy_df['Population, total male']*-1\n        return ppy_df\n\n\n# def population_pyramid(df):\n#    \"\"\"Takes as input a pandas DataFrame with columns providing counts \n#    of people by age-sex groups, and constructs a population pyramid graph \n#    for visualizing the data.\"\"\"\ndf=generate_ppy_df(pop_df, \"World\", 2019)\n\nfig1 = plt.figure(figsize=(12,10))\nax1 = plt.axes()\nageAxis = df['Age'][::-1]\nfig_ppy = sns.barplot(x='Population, total female',\n                        y='Age',\n                        data=df,\n                        order=ageAxis,\n                        lw=0,\n                        color='tomato')\nfig1 = sns.barplot(x='Population, total male',\n                        y='Age',\n                        data=df,\n                        order=ageAxis,\n                        lw=0,\n                        color='dodgerblue')\n\nfig1.axvline(lw=3.5, color='w')\nfig_ppy.set_title(\"Population Pyramid\", fontdict={'fontsize':14,'fontweight':3}, pad=15)                 \nfig_ppy.set(xlabel=\"Population (hundreds of millions)\", ylabel=\"Age Group\");",
    "id": "79db5a18bd914a50abcce9ace54a5abc",
    "idx": 16,
    "time": "2021-02-12T23:45:51.841Z",
    "type": "execution"
   },
   {
    "id": "79db5a18bd914a50abcce9ace54a5abc",
    "time": "2021-02-12T23:45:52.512Z",
    "type": "completion"
   },
   {
    "code": "def generate_ppy_df(pop_df, country, year):\n        \"\"\"Takes in a population DataFrame and selects population \n        data for a specific country/region in YEAR, then modifies the\n        DataFrame in a way that can be visualized. \"\"\"\n        new_df = pop_df[pop_df.index.get_level_values('country').isin([country])]\n        country_df = new_df[new_df.index.get_level_values('year').isin([year])]\n        ages = [col[16:21] for col in country_df.columns[::2]]\n        ages = ages[:-3]\n        ages.append('80+')\n        f_pop = list(country_df.iloc[0])[::2][:-2]\n        m_pop = list(country_df.iloc[0])[1::2][:-1]\n        ppy_df = pd.DataFrame({'Age': ages,\n                         'Population, total female': f_pop,\n                         'Population, total male': m_pop})\n        # Convert male population data to negative values for displaying purposes.\n        ppy_df['Population, total male'] = ppy_df['Population, total male']*-1\n        return ppy_df\n\n\n# def population_pyramid(df):\n#    \"\"\"Takes as input a pandas DataFrame with columns providing counts \n#    of people by age-sex groups, and constructs a population pyramid graph \n#    for visualizing the data.\"\"\"\ndf=generate_ppy_df(pop_df, \"World\", 2019)\n\nfig1 = plt.figure(figsize=(12,10))\nax1 = plt.axes()\nageAxis = df['Age'][::-1]\nfig_ppy = sns.barplot(x='Population, total female',\n                        y='Age',\n                        data=df,\n                        order=ageAxis,\n                        lw=0,\n                        color='tomato')\nfig1 = sns.barplot(x='Population, total male',\n                        y='Age',\n                        data=df,\n                        order=ageAxis,\n                        lw=0,\n                        color='dodgerblue')\n\nfig1.axvline(lw=3.5, color='w')\nfig1.set_title(\"Population Pyramid\", fontdict={'fontsize':14,'fontweight':3}, pad=15)                 \nfig1.set(xlabel=\"Population (hundreds of millions)\", ylabel=\"Age Group\");",
    "id": "79db5a18bd914a50abcce9ace54a5abc",
    "idx": 16,
    "time": "2021-02-12T23:45:57.331Z",
    "type": "execution"
   },
   {
    "id": "79db5a18bd914a50abcce9ace54a5abc",
    "time": "2021-02-12T23:45:57.910Z",
    "type": "completion"
   },
   {
    "code": "def generate_ppy_df(pop_df, country, year):\n        \"\"\"Takes in a population DataFrame and selects population \n        data for a specific country/region in YEAR, then modifies the\n        DataFrame in a way that can be visualized. \"\"\"\n        new_df = pop_df[pop_df.index.get_level_values('country').isin([country])]\n        country_df = new_df[new_df.index.get_level_values('year').isin([year])]\n        ages = [col[16:21] for col in country_df.columns[::2]]\n        ages = ages[:-3]\n        ages.append('80+')\n        f_pop = list(country_df.iloc[0])[::2][:-2]\n        m_pop = list(country_df.iloc[0])[1::2][:-1]\n        ppy_df = pd.DataFrame({'Age': ages,\n                         'Population, total female': f_pop,\n                         'Population, total male': m_pop})\n        # Convert male population data to negative values for displaying purposes.\n        ppy_df['Population, total male'] = ppy_df['Population, total male']*-1\n        return ppy_df\n\n\n# def population_pyramid(df):\n#    \"\"\"Takes as input a pandas DataFrame with columns providing counts \n#    of people by age-sex groups, and constructs a population pyramid graph \n#    for visualizing the data.\"\"\"\ndf=generate_ppy_df(pop_df, \"World\", 2019)\n\nfig1 = plt.figure(figsize=(12,9))\nax1 = plt.axes()\nageAxis = df['Age'][::-1]\nfig_ppy = sns.barplot(x='Population, total female',\n                        y='Age',\n                        data=df,\n                        order=ageAxis,\n                        lw=0,\n                        color='tomato')\nfig1 = sns.barplot(x='Population, total male',\n                        y='Age',\n                        data=df,\n                        order=ageAxis,\n                        lw=0,\n                        color='dodgerblue')\n\nfig1.axvline(lw=3.5, color='w')\nfig1.set_title(\"Population Pyramid\", fontdict={'fontsize':14,'fontweight':3}, pad=15)                 \nfig1.set(xlabel=\"Population (hundreds of millions)\", ylabel=\"Age Group\");",
    "id": "79db5a18bd914a50abcce9ace54a5abc",
    "idx": 16,
    "time": "2021-02-12T23:46:09.052Z",
    "type": "execution"
   },
   {
    "id": "79db5a18bd914a50abcce9ace54a5abc",
    "time": "2021-02-12T23:46:09.614Z",
    "type": "completion"
   },
   {
    "code": "def generate_ppy_df(pop_df, country, year):\n        \"\"\"Takes in a population DataFrame and selects population \n        data for a specific country/region in YEAR, then modifies the\n        DataFrame in a way that can be visualized. \"\"\"\n        new_df = pop_df[pop_df.index.get_level_values('country').isin([country])]\n        country_df = new_df[new_df.index.get_level_values('year').isin([year])]\n        ages = [col[16:21] for col in country_df.columns[::2]]\n        ages = ages[:-3]\n        ages.append('80+')\n        f_pop = list(country_df.iloc[0])[::2][:-2]\n        m_pop = list(country_df.iloc[0])[1::2][:-1]\n        ppy_df = pd.DataFrame({'Age': ages,\n                         'Population, total female': f_pop,\n                         'Population, total male': m_pop})\n        # Convert male population data to negative values for displaying purposes.\n        ppy_df['Population, total male'] = ppy_df['Population, total male']*-1\n        return ppy_df\n\n\n# def population_pyramid(df):\n#    \"\"\"Takes as input a pandas DataFrame with columns providing counts \n#    of people by age-sex groups, and constructs a population pyramid graph \n#    for visualizing the data.\"\"\"\ndf=generate_ppy_df(pop_df, \"World\", 2019)\n\nfig1 = plt.figure(figsize=(12,8))\nax1 = plt.axes()\nageAxis = df['Age'][::-1]\nfig_ppy = sns.barplot(x='Population, total female',\n                        y='Age',\n                        data=df,\n                        order=ageAxis,\n                        lw=0,\n                        color='tomato')\nfig1 = sns.barplot(x='Population, total male',\n                        y='Age',\n                        data=df,\n                        order=ageAxis,\n                        lw=0,\n                        color='dodgerblue')\n\nfig1.axvline(lw=3.5, color='w')\nfig1.set_title(\"Population Pyramid\", fontdict={'fontsize':14,'fontweight':3}, pad=15)                 \nfig1.set(xlabel=\"Population (hundreds of millions)\", ylabel=\"Age Group\");",
    "id": "79db5a18bd914a50abcce9ace54a5abc",
    "idx": 16,
    "time": "2021-02-12T23:46:16.022Z",
    "type": "execution"
   },
   {
    "id": "79db5a18bd914a50abcce9ace54a5abc",
    "time": "2021-02-12T23:46:16.552Z",
    "type": "completion"
   },
   {
    "code": "fig = plt.figure()\nax = plt.axes(xlim=(0, 2), ylim=(-2, 2))\nline, = ax.plot([], [], lw=2)\n",
    "id": "dce5c71021054b4485459499927e4511",
    "idx": 17,
    "time": "2021-02-12T23:47:16.293Z",
    "type": "execution"
   },
   {
    "id": "dce5c71021054b4485459499927e4511",
    "time": "2021-02-12T23:47:16.584Z",
    "type": "completion"
   },
   {
    "code": "fig = plt.figure()\nax = plt.axes(xlim=(0, 2), ylim=(-2, 2))\n\n",
    "id": "dce5c71021054b4485459499927e4511",
    "idx": 17,
    "time": "2021-02-12T23:47:23.192Z",
    "type": "execution"
   },
   {
    "id": "dce5c71021054b4485459499927e4511",
    "time": "2021-02-12T23:47:23.489Z",
    "type": "completion"
   },
   {
    "code": "fig = plt.figure()\nax = plt.axes(xlim=(0, 2), ylim=(-2, 2))\n\nline, = ax.plot([], [], lw=2)",
    "id": "dce5c71021054b4485459499927e4511",
    "idx": 17,
    "time": "2021-02-12T23:47:26.741Z",
    "type": "execution"
   },
   {
    "id": "dce5c71021054b4485459499927e4511",
    "time": "2021-02-12T23:47:26.993Z",
    "type": "completion"
   },
   {
    "code": "!pip install wbdata\n\nimport pandas as pd\nimport wbdata\nimport numpy as np\nimport re \nimport matplotlib.pyplot as plt\nimport seaborn as sns\nfrom matplotlib import animation",
    "id": "d8c737d2ebba4a7795be23c3434d6686",
    "idx": 0,
    "time": "2021-02-12T23:48:33.684Z",
    "type": "execution"
   },
   {
    "code": "# Return list of all country/region codes:\nwbdata.get_country()",
    "id": "b81ace59eca1493284e68e03261de7d9",
    "idx": 2,
    "time": "2021-02-12T23:48:35.025Z",
    "type": "execution"
   },
   {
    "code": "wbdata.get_source()",
    "id": "d10217230250418bb144203790351d9f",
    "idx": 4,
    "time": "2021-02-12T23:48:35.333Z",
    "type": "execution"
   },
   {
    "code": "SOURCE = 40 # \"Population estimates and projections\"\n\nindicators_40 = wbdata.get_indicator(source=SOURCE)\nindicators_40",
    "id": "11cc3fcd77d346798bc5893c6d4f6db4",
    "idx": 5,
    "time": "2021-02-12T23:48:35.474Z",
    "type": "execution"
   },
   {
    "code": "def population(sex, year, age, country):\n    \"\"\"Function that takes in a SEX (\"Male\", \"Female\"), ... , COUNTRY=, .. \n    and returns a statistic for the given function arguments\"\"\"\n    if sex == \"Male\":\n        variable_labels = {\"SP.POP.\" + str(age[0])+str(age[1]) + \".MA\": sex}\n    elif sex==\"Female\":\n        variable_labels = {\"SP.POP.\" + str(age[0])+str(age[1]) + \".FE\": sex}\n    pop_stats = wbdata.get_dataframe(variable_labels, country=country)\n    pop_stats = pop_stats.filter(like=str(year), axis=0)\n    return pop_stats[sex][0]",
    "id": "5ed7396b0d74482da6a9bdd450753fb6",
    "idx": 7,
    "time": "2021-02-12T23:48:35.772Z",
    "type": "execution"
   },
   {
    "code": "population(\"Female\", 2010, (15,19), \"CHN\")",
    "id": "5ead2ee43d024085920f4e6abce7753f",
    "idx": 8,
    "time": "2021-02-12T23:48:35.923Z",
    "type": "execution"
   },
   {
    "code": "def population_dataframes(indicators):\n    \"\"\"Returns a pandas DataFrame indexed by Region or Country and Year, \n    with columns giving counts of people in different age-sex groups.\"\"\"\n    # Create a dictionary of all corresponding ID's and keys in SOURCE 40 from WBDATA\n    labels = {}\n    for i in range(len(indicators)):\n        col_id = indicators[i]['id']\n        col_name = indicators[i]['name']\n        labels[col_id] = col_name\n\n    def find_labels(indicators):\n        \"\"\"Helper function that akes in an indicator object to filter through variable \n        keys and parse through necessary ID's to obtain relevant data. \"\"\"\n        # Filter through column ID strings to obtain relevant population data.\n        r = re.compile(\"(SP.POP).[\\d]{2}[A-Z0-9]{2}.[MAFE]{2}$\")\n        col_keys = list(filter(r.match, labels))\n\n        # Add total population column at the end of COL_KEYS\n        col_keys.append('SP.POP.TOTL')\n\n        labels_filtered = {}\n        for key, value in labels.items():\n            if key in col_keys:\n                labels_filtered[key] = value\n        return labels_filtered\n\n    df_labels = find_labels(indicators)\n    return wbdata.get_dataframe(df_labels)",
    "id": "33ef852d41d9481b8ba93590a364360b",
    "idx": 10,
    "time": "2021-02-12T23:48:36.223Z",
    "type": "execution"
   },
   {
    "code": "pop_df = population_dataframes(indicators_40)\npop_df.head()",
    "id": "87566e10b34b44c9a2fa3ffeff7af27d",
    "idx": 11,
    "time": "2021-02-12T23:48:36.376Z",
    "type": "execution"
   },
   {
    "code": "# Change \"date\" index to type INT.\npop_df.index = pop_df.index.set_levels(pop_df.index.levels[1].astype(int), level=1)\n\n# Rename MultiIndex column \"date\" to \"year\"\npop_df = pop_df.rename_axis(index=['country', 'year'])\n\n# Delete 2020 row for every country code\npop_df = pop_df[~pop_df.index.get_level_values('year').isin([2020])]\n\n# Add population total breakdowns for male and female\ncols_f = [col for col in pop_df.columns if 'female' in col]\ncols_m = [col for col in pop_df.columns if col not in cols_f]\npop_df['Population, total female'] = pop_df.loc[:,cols_f].sum(axis=1)\npop_df['Population, total male'] = pop_df.loc[:, cols_m].sum(axis=1)\npop_df.head()",
    "id": "8d1c14af738545488bffff25e1548dbd",
    "idx": 13,
    "time": "2021-02-12T23:48:36.807Z",
    "type": "execution"
   },
   {
    "code": "def generate_ppy_df(pop_df, country, year):\n        \"\"\"Takes in a population DataFrame and selects population \n        data for a specific country/region in YEAR, then modifies the\n        DataFrame in a way that can be visualized. \"\"\"\n        new_df = pop_df[pop_df.index.get_level_values('country').isin([country])]\n        country_df = new_df[new_df.index.get_level_values('year').isin([year])]\n        ages = [col[16:21] for col in country_df.columns[::2]]\n        ages = ages[:-3]\n        ages.append('80+')\n        f_pop = list(country_df.iloc[0])[::2][:-2]\n        m_pop = list(country_df.iloc[0])[1::2][:-1]\n        ppy_df = pd.DataFrame({'Age': ages,\n                         'Population, total female': f_pop,\n                         'Population, total male': m_pop})\n        # Convert male population data to negative values for displaying purposes.\n        ppy_df['Population, total male'] = ppy_df['Population, total male']*-1\n        return ppy_df\n\n\n# def population_pyramid(df):\n#    \"\"\"Takes as input a pandas DataFrame with columns providing counts \n#    of people by age-sex groups, and constructs a population pyramid graph \n#    for visualizing the data.\"\"\"\ndf=generate_ppy_df(pop_df, \"World\", 2019)\n\nfig1 = plt.figure(figsize=(12,8))\nax1 = plt.axes()\nageAxis = df['Age'][::-1]\nfig_ppy = sns.barplot(x='Population, total female',\n                        y='Age',\n                        data=df,\n                        order=ageAxis,\n                        lw=0,\n                        color='tomato')\nfig1 = sns.barplot(x='Population, total male',\n                        y='Age',\n                        data=df,\n                        order=ageAxis,\n                        lw=0,\n                        color='dodgerblue')\n\nfig1.axvline(lw=3.5, color='w')\nfig1.set_title(\"Population Pyramid\", fontdict={'fontsize':14,'fontweight':3}, pad=15)                 \nfig1.set(xlabel=\"Population (hundreds of millions)\", ylabel=\"Age Group\");",
    "id": "79db5a18bd914a50abcce9ace54a5abc",
    "idx": 16,
    "time": "2021-02-12T23:48:37.224Z",
    "type": "execution"
   },
   {
    "code": "fig = plt.figure()\nax = plt.axes(xlim=(0, 2), ylim=(-2, 2))\n\nline, = ax.plot([], [], lw=2)",
    "id": "dce5c71021054b4485459499927e4511",
    "idx": 17,
    "time": "2021-02-12T23:48:37.392Z",
    "type": "execution"
   },
   {
    "code": "population_pyramid(generate_ppy_df(pop_df, \"World\", 2019))",
    "id": "c2d800d609e242eeb709b91819848a84",
    "idx": 18,
    "time": "2021-02-12T23:48:37.562Z",
    "type": "execution"
   },
   {
    "id": "d8c737d2ebba4a7795be23c3434d6686",
    "time": "2021-02-12T23:48:38.074Z",
    "type": "completion"
   },
   {
    "code": "population_pyramid(pop_df, \"China\", 2019)",
    "id": "7afa5ed7dd9c4b59a84a8350d2358581",
    "idx": 19,
    "time": "2021-02-12T23:48:38.108Z",
    "type": "execution"
   },
   {
    "id": "b81ace59eca1493284e68e03261de7d9",
    "time": "2021-02-12T23:48:38.154Z",
    "type": "completion"
   },
   {
    "id": "d10217230250418bb144203790351d9f",
    "time": "2021-02-12T23:48:38.193Z",
    "type": "completion"
   },
   {
    "id": "11cc3fcd77d346798bc5893c6d4f6db4",
    "time": "2021-02-12T23:48:38.231Z",
    "type": "completion"
   },
   {
    "id": "5ed7396b0d74482da6a9bdd450753fb6",
    "time": "2021-02-12T23:48:38.234Z",
    "type": "completion"
   },
   {
    "id": "5ead2ee43d024085920f4e6abce7753f",
    "time": "2021-02-12T23:48:38.243Z",
    "type": "completion"
   },
   {
    "id": "33ef852d41d9481b8ba93590a364360b",
    "time": "2021-02-12T23:48:38.247Z",
    "type": "completion"
   },
   {
    "id": "87566e10b34b44c9a2fa3ffeff7af27d",
    "time": "2021-02-12T23:48:47.031Z",
    "type": "completion"
   },
   {
    "id": "8d1c14af738545488bffff25e1548dbd",
    "time": "2021-02-12T23:48:47.037Z",
    "type": "completion"
   },
   {
    "id": "79db5a18bd914a50abcce9ace54a5abc",
    "time": "2021-02-12T23:48:47.542Z",
    "type": "completion"
   },
   {
    "id": "dce5c71021054b4485459499927e4511",
    "time": "2021-02-12T23:48:47.741Z",
    "type": "completion"
   },
   {
    "id": "c2d800d609e242eeb709b91819848a84",
    "time": "2021-02-12T23:48:48.274Z",
    "type": "completion"
   },
   {
    "id": "7afa5ed7dd9c4b59a84a8350d2358581",
    "time": "2021-02-12T23:48:48.278Z",
    "type": "completion"
   },
   {
    "code": "def barlist(n): \n    return [1/float(n*k) for k in range(1,6)]\n\nfig=plt.figure()\n\nn=100 #Number of frames\nx=range(1,6)\nbarcollection = plt.bar(x,barlist(1))\n\ndef animate(i):\n    y=barlist(i+1)\n    for i, b in enumerate(barcollection):\n        b.set_height(y[i])\n\nanim=animation.FuncAnimation(fig,animate,repeat=False,blit=False,frames=n,\n                             interval=100)\n\nanim.save('mymovie.mp4',writer=animation.FFMpegWriter(fps=10))\nplt.show()",
    "id": "dce5c71021054b4485459499927e4511",
    "idx": 17,
    "time": "2021-02-12T23:49:32.573Z",
    "type": "execution"
   },
   {
    "id": "dce5c71021054b4485459499927e4511",
    "time": "2021-02-12T23:49:37.829Z",
    "type": "completion"
   },
   {
    "code": "def barlist(n): \n    return [1/float(n*k) for k in range(1,6)]\n\nfig=plt.figure()\n\nn=100 #Number of frames\nx=range(1,6)\nbarcollection = plt.bar(x,barlist(1))\n\ndef animate(i):\n    y=barlist(i+1)\n    for i, b in enumerate(barcollection):\n        b.set_height(y[i])\n\nanim=animation.FuncAnimation(fig,animate,repeat=False,blit=False,frames=n,\n                             interval=100)\n\nanim.save('mymovie.mp4',writer=animation.FFMpegWriter(fps=50))\nplt.show()",
    "id": "dce5c71021054b4485459499927e4511",
    "idx": 17,
    "time": "2021-02-12T23:49:48.093Z",
    "type": "execution"
   },
   {
    "id": "dce5c71021054b4485459499927e4511",
    "time": "2021-02-12T23:49:54.047Z",
    "type": "completion"
   },
   {
    "code": "!pip install wbdata\n\nimport pandas as pd\nimport wbdata\nimport numpy as np\nimport re \nimport matplotlib.pyplot as plt\nimport seaborn as sns\nfrom matplotlib import animation as ani",
    "id": "d8c737d2ebba4a7795be23c3434d6686",
    "idx": 0,
    "time": "2021-02-12T23:50:30.234Z",
    "type": "execution"
   },
   {
    "code": "# Return list of all country/region codes:\nwbdata.get_country()",
    "id": "b81ace59eca1493284e68e03261de7d9",
    "idx": 2,
    "time": "2021-02-12T23:50:30.653Z",
    "type": "execution"
   },
   {
    "code": "wbdata.get_source()",
    "id": "d10217230250418bb144203790351d9f",
    "idx": 4,
    "time": "2021-02-12T23:50:30.943Z",
    "type": "execution"
   },
   {
    "code": "SOURCE = 40 # \"Population estimates and projections\"\n\nindicators_40 = wbdata.get_indicator(source=SOURCE)\nindicators_40",
    "id": "11cc3fcd77d346798bc5893c6d4f6db4",
    "idx": 5,
    "time": "2021-02-12T23:50:31.073Z",
    "type": "execution"
   },
   {
    "code": "def population(sex, year, age, country):\n    \"\"\"Function that takes in a SEX (\"Male\", \"Female\"), ... , COUNTRY=, .. \n    and returns a statistic for the given function arguments\"\"\"\n    if sex == \"Male\":\n        variable_labels = {\"SP.POP.\" + str(age[0])+str(age[1]) + \".MA\": sex}\n    elif sex==\"Female\":\n        variable_labels = {\"SP.POP.\" + str(age[0])+str(age[1]) + \".FE\": sex}\n    pop_stats = wbdata.get_dataframe(variable_labels, country=country)\n    pop_stats = pop_stats.filter(like=str(year), axis=0)\n    return pop_stats[sex][0]",
    "id": "5ed7396b0d74482da6a9bdd450753fb6",
    "idx": 7,
    "time": "2021-02-12T23:50:31.404Z",
    "type": "execution"
   },
   {
    "code": "population(\"Female\", 2010, (15,19), \"CHN\")",
    "id": "5ead2ee43d024085920f4e6abce7753f",
    "idx": 8,
    "time": "2021-02-12T23:50:31.527Z",
    "type": "execution"
   },
   {
    "code": "def population_dataframes(indicators):\n    \"\"\"Returns a pandas DataFrame indexed by Region or Country and Year, \n    with columns giving counts of people in different age-sex groups.\"\"\"\n    # Create a dictionary of all corresponding ID's and keys in SOURCE 40 from WBDATA\n    labels = {}\n    for i in range(len(indicators)):\n        col_id = indicators[i]['id']\n        col_name = indicators[i]['name']\n        labels[col_id] = col_name\n\n    def find_labels(indicators):\n        \"\"\"Helper function that akes in an indicator object to filter through variable \n        keys and parse through necessary ID's to obtain relevant data. \"\"\"\n        # Filter through column ID strings to obtain relevant population data.\n        r = re.compile(\"(SP.POP).[\\d]{2}[A-Z0-9]{2}.[MAFE]{2}$\")\n        col_keys = list(filter(r.match, labels))\n\n        # Add total population column at the end of COL_KEYS\n        col_keys.append('SP.POP.TOTL')\n\n        labels_filtered = {}\n        for key, value in labels.items():\n            if key in col_keys:\n                labels_filtered[key] = value\n        return labels_filtered\n\n    df_labels = find_labels(indicators)\n    return wbdata.get_dataframe(df_labels)",
    "id": "33ef852d41d9481b8ba93590a364360b",
    "idx": 10,
    "time": "2021-02-12T23:50:31.844Z",
    "type": "execution"
   },
   {
    "code": "pop_df = population_dataframes(indicators_40)\npop_df.head()",
    "id": "87566e10b34b44c9a2fa3ffeff7af27d",
    "idx": 11,
    "time": "2021-02-12T23:50:32.004Z",
    "type": "execution"
   },
   {
    "code": "# Change \"date\" index to type INT.\npop_df.index = pop_df.index.set_levels(pop_df.index.levels[1].astype(int), level=1)\n\n# Rename MultiIndex column \"date\" to \"year\"\npop_df = pop_df.rename_axis(index=['country', 'year'])\n\n# Delete 2020 row for every country code\npop_df = pop_df[~pop_df.index.get_level_values('year').isin([2020])]\n\n# Add population total breakdowns for male and female\ncols_f = [col for col in pop_df.columns if 'female' in col]\ncols_m = [col for col in pop_df.columns if col not in cols_f]\npop_df['Population, total female'] = pop_df.loc[:,cols_f].sum(axis=1)\npop_df['Population, total male'] = pop_df.loc[:, cols_m].sum(axis=1)\npop_df.head()",
    "id": "8d1c14af738545488bffff25e1548dbd",
    "idx": 13,
    "time": "2021-02-12T23:50:32.324Z",
    "type": "execution"
   },
   {
    "code": "def generate_ppy_df(pop_df, country, year):\n        \"\"\"Takes in a population DataFrame and selects population \n        data for a specific country/region in YEAR, then modifies the\n        DataFrame in a way that can be visualized. \"\"\"\n        new_df = pop_df[pop_df.index.get_level_values('country').isin([country])]\n        country_df = new_df[new_df.index.get_level_values('year').isin([year])]\n        ages = [col[16:21] for col in country_df.columns[::2]]\n        ages = ages[:-3]\n        ages.append('80+')\n        f_pop = list(country_df.iloc[0])[::2][:-2]\n        m_pop = list(country_df.iloc[0])[1::2][:-1]\n        ppy_df = pd.DataFrame({'Age': ages,\n                         'Population, total female': f_pop,\n                         'Population, total male': m_pop})\n        # Convert male population data to negative values for displaying purposes.\n        ppy_df['Population, total male'] = ppy_df['Population, total male']*-1\n        return ppy_df\n\n\n# def population_pyramid(df):\n#    \"\"\"Takes as input a pandas DataFrame with columns providing counts \n#    of people by age-sex groups, and constructs a population pyramid graph \n#    for visualizing the data.\"\"\"\ndf=generate_ppy_df(pop_df, \"World\", 2019)\n\nfig1 = plt.figure(figsize=(12,8))\nax1 = plt.axes()\nageAxis = df['Age'][::-1]\nfig_ppy = sns.barplot(x='Population, total female',\n                        y='Age',\n                        data=df,\n                        order=ageAxis,\n                        lw=0,\n                        color='tomato')\nfig1 = sns.barplot(x='Population, total male',\n                        y='Age',\n                        data=df,\n                        order=ageAxis,\n                        lw=0,\n                        color='dodgerblue')\n\nfig1.axvline(lw=3.5, color='w')\nfig1.set_title(\"Population Pyramid\", fontdict={'fontsize':14,'fontweight':3}, pad=15)                 \nfig1.set(xlabel=\"Population (hundreds of millions)\", ylabel=\"Age Group\");",
    "id": "79db5a18bd914a50abcce9ace54a5abc",
    "idx": 16,
    "time": "2021-02-12T23:50:33.294Z",
    "type": "execution"
   },
   {
    "id": "d8c737d2ebba4a7795be23c3434d6686",
    "time": "2021-02-12T23:50:34.617Z",
    "type": "completion"
   },
   {
    "id": "b81ace59eca1493284e68e03261de7d9",
    "time": "2021-02-12T23:50:34.688Z",
    "type": "completion"
   },
   {
    "id": "d10217230250418bb144203790351d9f",
    "time": "2021-02-12T23:50:34.697Z",
    "type": "completion"
   },
   {
    "id": "11cc3fcd77d346798bc5893c6d4f6db4",
    "time": "2021-02-12T23:50:34.736Z",
    "type": "completion"
   },
   {
    "id": "5ed7396b0d74482da6a9bdd450753fb6",
    "time": "2021-02-12T23:50:34.771Z",
    "type": "completion"
   },
   {
    "id": "5ead2ee43d024085920f4e6abce7753f",
    "time": "2021-02-12T23:50:34.775Z",
    "type": "completion"
   },
   {
    "id": "33ef852d41d9481b8ba93590a364360b",
    "time": "2021-02-12T23:50:34.776Z",
    "type": "completion"
   },
   {
    "id": "87566e10b34b44c9a2fa3ffeff7af27d",
    "time": "2021-02-12T23:50:43.034Z",
    "type": "completion"
   },
   {
    "id": "8d1c14af738545488bffff25e1548dbd",
    "time": "2021-02-12T23:50:43.075Z",
    "type": "completion"
   },
   {
    "id": "79db5a18bd914a50abcce9ace54a5abc",
    "time": "2021-02-12T23:50:43.769Z",
    "type": "completion"
   },
   {
    "code": "fig = plt.figure()\nbar = ''\ndef buildmebarchart(i=int):\n    iv = min(i, len(df1.index)-1) #the loop iterates an extra one time, which causes the dataframes to go out of bounds. This was the easiest (most lazy) way to solve this :)\n    objects = df1.max().index\n    y_pos = np.arange(len(objects))\n    performance = df1.iloc[[iv]].values.tolist()[0]\n    if bar == 'vertical':\n        plt.bar(y_pos, performance, align='center', color=['red', 'green', 'blue', 'orange'])\n        plt.xticks(y_pos, objects)\n        plt.ylabel('Deaths')\n        plt.xlabel('Countries')\n        plt.title('Deaths per Country \\n' + str(df1.index[iv].strftime('%y-%m-%d')))\n    else:\n        plt.barh(y_pos, performance, align='center', color=['red', 'green', 'blue', 'orange'])\n        plt.yticks(y_pos, objects)\n        plt.xlabel('Deaths')\n        plt.ylabel('Countries')\nanimator = ani.FuncAnimation(fig, buildmebarchart, interval=100)\nplt.show()",
    "id": "dce5c71021054b4485459499927e4511",
    "idx": 17,
    "time": "2021-02-12T23:51:55.855Z",
    "type": "execution"
   },
   {
    "id": "dce5c71021054b4485459499927e4511",
    "time": "2021-02-12T23:51:55.969Z",
    "type": "completion"
   },
   {
    "code": "fig = plt.figure()\nbar = ''\ndef buildmebarchart(i=int):\n    iv = min(i, len(df1.index)-1) #the loop iterates an extra one time, which causes the dataframes to go out of bounds. This was the easiest (most lazy) way to solve this :)\n    objects = df1.max().index\n    y_pos = np.arange(len(objects))\n    performance = df1.iloc[[iv]].values.tolist()[0]\n    if bar == 'vertical':\n        plt.bar(y_pos, performance, align='center', color=['red', 'green', 'blue', 'orange'])\n        plt.xticks(y_pos, objects)\n        plt.ylabel('Deaths')\n        plt.xlabel('Countries')\n        plt.title('Deaths per Country \\n' + str(df1.index[iv].strftime('%y-%m-%d')))\n    else:\n        plt.barh(y_pos, performance, align='center', color=['red', 'green', 'blue', 'orange'])\n        plt.yticks(y_pos, objects)\n        plt.xlabel('Deaths')\n        plt.ylabel('Countries')\nanimator = ani.FuncAnimation(fig, buildmebarchart, interval=100)\nplt.show()",
    "id": "dce5c71021054b4485459499927e4511",
    "idx": 17,
    "time": "2021-02-12T23:52:04.914Z",
    "type": "execution"
   },
   {
    "id": "dce5c71021054b4485459499927e4511",
    "time": "2021-02-12T23:52:04.991Z",
    "type": "completion"
   },
   {
    "code": "fig = plt.figure()\nbar = ''\ndef buildmebarchart(i=int):\n    iv = min(i, len(df1.index)-1) #the loop iterates an extra one time, which causes the dataframes to go out of bounds. This was the easiest (most lazy) way to solve this :)\n    objects = df1.max().index\n    y_pos = np.arange(len(objects))\n    performance = df1.iloc[[iv]].values.tolist()[0]\n    if bar == 'vertical':\n        plt.bar(y_pos, performance, align='center', color=['red', 'green', 'blue', 'orange'])\n        plt.xticks(y_pos, objects)\n        plt.ylabel('Deaths')\n        plt.xlabel('Countries')\n        plt.title('Deaths per Country \\n' + str(df1.index[iv].strftime('%y-%m-%d')))\n    else:\n        plt.barh(y_pos, performance, align='center', color=['red', 'green', 'blue', 'orange'])\n        plt.yticks(y_pos, objects)\n        plt.xlabel('Deaths')\n        plt.ylabel('Countries')\nanimator = ani.FuncAnimation(fig, buildmebarchart, interval=100)\nplt.show()\nHTML(anim.to_html5_video())",
    "id": "dce5c71021054b4485459499927e4511",
    "idx": 17,
    "time": "2021-02-12T23:54:15.127Z",
    "type": "execution"
   },
   {
    "id": "dce5c71021054b4485459499927e4511",
    "time": "2021-02-12T23:54:15.267Z",
    "type": "completion"
   },
   {
    "code": "fig = plt.figure()\nbar = ''\ndef buildmebarchart(i=int):\n    iv = min(i, len(df1.index)-1) #the loop iterates an extra one time, which causes the dataframes to go out of bounds. This was the easiest (most lazy) way to solve this :)\n    objects = df1.max().index\n    y_pos = np.arange(len(objects))\n    performance = df1.iloc[[iv]].values.tolist()[0]\n    if bar == 'vertical':\n        plt.bar(y_pos, performance, align='center', color=['red', 'green', 'blue', 'orange'])\n        plt.xticks(y_pos, objects)\n        plt.ylabel('Deaths')\n        plt.xlabel('Countries')\n        plt.title('Deaths per Country \\n' + str(df1.index[iv].strftime('%y-%m-%d')))\n    else:\n        plt.barh(y_pos, performance, align='center', color=['red', 'green', 'blue', 'orange'])\n        plt.yticks(y_pos, objects)\n        plt.xlabel('Deaths')\n        plt.ylabel('Countries')\nanimator = ani.FuncAnimation(fig, buildmebarchart, interval=100)\nplt.show()\n",
    "id": "dce5c71021054b4485459499927e4511",
    "idx": 17,
    "time": "2021-02-12T23:54:17.406Z",
    "type": "execution"
   },
   {
    "id": "dce5c71021054b4485459499927e4511",
    "time": "2021-02-12T23:54:17.468Z",
    "type": "completion"
   },
   {
    "code": "%matplotlib inline\n\nimport numpy as np\nimport matplotlib.pyplot as plt\n\nfrom matplotlib import animation, rc\nfrom IPython.display import HTML\n\n# First set up the figure, the axis, and the plot element we want to animate\nfig, ax = plt.subplots()\n\nax.set_xlim(( 0, 2))\nax.set_ylim((-2, 2))\n\nline, = ax.plot([], [], lw=2)\n\n# initialization function: plot the background of each frame\ndef init():\n    line.set_data([], [])\n    return (line,)\n\n# animation function. This is called sequentially\ndef animate(i):\n    x = np.linspace(0, 2, 1000)\n    y = np.sin(2 * np.pi * (x - 0.01 * i))\n    line.set_data(x, y)\n    return (line,)\n\n### call the animator. blit=True means only re-draw the parts that have changed.\n\nanim = animation.FuncAnimation(fig, animate, init_func=init,\n                               frames=100, interval=20, blit=True)\n\n# equivalent to rcParams['animation.html'] = 'html5'\nrc('animation', html='jshtml')\nrc\n\nHTML(anim.to_jshtml())",
    "id": "dce5c71021054b4485459499927e4511",
    "idx": 17,
    "time": "2021-02-13T00:10:36.795Z",
    "type": "execution"
   },
   {
    "id": "dce5c71021054b4485459499927e4511",
    "time": "2021-02-13T00:10:45.905Z",
    "type": "completion"
   },
   {
    "code": "fig = plt.figure()\nbar = ''\ndef buildmebarchart(i=int):\n    iv = min(i, len(df1.index)-1) #the loop iterates an extra one time, which causes the dataframes to go out of bounds. This was the easiest (most lazy) way to solve this :)\n    objects = df1.max().index\n    y_pos = np.arange(len(objects))\n    performance = df1.iloc[[iv]].values.tolist()[0]\n    if bar == 'vertical':\n        plt.bar(y_pos, performance, align='center', color=['red', 'green', 'blue', 'orange'])\n        plt.xticks(y_pos, objects)\n        plt.ylabel('Deaths')\n        plt.xlabel('Countries')\n        plt.title('Deaths per Country \\n' + str(df1.index[iv].strftime('%y-%m-%d')))\n    else:\n        plt.barh(y_pos, performance, align='center', color=['red', 'green', 'blue', 'orange'])\n        plt.yticks(y_pos, objects)\n        plt.xlabel('Deaths')\n        plt.ylabel('Countries')\nanimator = ani.FuncAnimation(fig, buildmebarchart, interval=100)\nplt.show()",
    "id": "dce5c71021054b4485459499927e4511",
    "idx": 17,
    "time": "2021-02-13T00:13:11.838Z",
    "type": "execution"
   },
   {
    "id": "dce5c71021054b4485459499927e4511",
    "time": "2021-02-13T00:13:11.953Z",
    "type": "completion"
   },
   {
    "code": "%matplotlib inline\n\nimport numpy as np\nimport matplotlib.pyplot as plt\n\nfrom matplotlib import animation, rc\nfrom IPython.display import HTML\n\nfig = plt.figure()\nbar = ''\ndef buildmebarchart(i=int):\n    iv = min(i, len(df1.index)-1) #the loop iterates an extra one time, which causes the dataframes to go out of bounds. This was the easiest (most lazy) way to solve this :)\n    objects = df1.max().index\n    y_pos = np.arange(len(objects))\n    performance = df1.iloc[[iv]].values.tolist()[0]\n    if bar == 'vertical':\n        plt.bar(y_pos, performance, align='center', color=['red', 'green', 'blue', 'orange'])\n        plt.xticks(y_pos, objects)\n        plt.ylabel('Deaths')\n        plt.xlabel('Countries')\n        plt.title('Deaths per Country \\n' + str(df1.index[iv].strftime('%y-%m-%d')))\n    else:\n        plt.barh(y_pos, performance, align='center', color=['red', 'green', 'blue', 'orange'])\n        plt.yticks(y_pos, objects)\n        plt.xlabel('Deaths')\n        plt.ylabel('Countries')\nanimator = ani.FuncAnimation(fig, buildmebarchart, interval=100)\nplt.show()\n\nHTML(anim.to_jshtml())",
    "id": "dce5c71021054b4485459499927e4511",
    "idx": 17,
    "time": "2021-02-13T00:13:27.228Z",
    "type": "execution"
   },
   {
    "id": "dce5c71021054b4485459499927e4511",
    "time": "2021-02-13T00:13:28.232Z",
    "type": "completion"
   },
   {
    "code": "%matplotlib inline\n\nimport numpy as np\nimport matplotlib.pyplot as plt\n\nfrom matplotlib import animation, rc\nfrom IPython.display import HTML\n\nfig = plt.figure()\nbar = ''\ndef buildmebarchart(i=int):\n    iv = min(i, len(df1.index)-1) #the loop iterates an extra one time, which causes the dataframes to go out of bounds. This was the easiest (most lazy) way to solve this :)\n    objects = df1.max().index\n    y_pos = np.arange(len(objects))\n    performance = df1.iloc[[iv]].values.tolist()[0]\n    if bar == 'vertical':\n        plt.bar(y_pos, performance, align='center', color=['red', 'green', 'blue', 'orange'])\n        plt.xticks(y_pos, objects)\n        plt.ylabel('Deaths')\n        plt.xlabel('Countries')\n        plt.title('Deaths per Country \\n' + str(df1.index[iv].strftime('%y-%m-%d')))\n    else:\n        plt.barh(y_pos, performance, align='center', color=['red', 'green', 'blue', 'orange'])\n        plt.yticks(y_pos, objects)\n        plt.xlabel('Deaths')\n        plt.ylabel('Countries')\nanimator = ani.FuncAnimation(fig, buildmebarchart, interval=100)\nplt.show()\n\nHTML(animator.to_jshtml())",
    "id": "dce5c71021054b4485459499927e4511",
    "idx": 17,
    "time": "2021-02-13T00:13:34.678Z",
    "type": "execution"
   },
   {
    "id": "dce5c71021054b4485459499927e4511",
    "time": "2021-02-13T00:13:34.831Z",
    "type": "completion"
   },
   {
    "code": "%matplotlib inline\n\nimport numpy as np\nimport matplotlib.pyplot as plt\n\nfrom matplotlib import animation, rc\nfrom IPython.display import HTML\n\ndef barlist(n): \n    return [1/float(n*k) for k in range(1,6)]\n\nfig=plt.figure()\n\nn=100 #Number of frames\nx=range(1,6)\nbarcollection = plt.bar(x,barlist(1))\n\ndef animate(i):\n    y=barlist(i+1)\n    for i, b in enumerate(barcollection):\n        b.set_height(y[i])\n\nanim=animation.FuncAnimation(fig,animate,repeat=False,blit=False,frames=n,\n                             interval=100)\n\nanim.save('mymovie.mp4',writer=animation.FFMpegWriter(fps=10))\nplt.show()\nHTML(animator.to_jshtml())",
    "id": "dce5c71021054b4485459499927e4511",
    "idx": 17,
    "time": "2021-02-13T00:17:51.999Z",
    "type": "execution"
   },
   {
    "id": "dce5c71021054b4485459499927e4511",
    "time": "2021-02-13T00:18:01.958Z",
    "type": "completion"
   },
   {
    "code": "%matplotlib inline\n\nimport numpy as np\nimport matplotlib.pyplot as plt\n\nfrom matplotlib import animation, rc\nfrom IPython.display import HTML\n\ndef barlist(n): \n    return [1/float(n*k) for k in range(1,6)]\n\nfig=plt.figure()\n\nn=100 #Number of frames\nx=range(1,6)\nbarcollection = plt.bar(x,barlist(1))\n\ndef animate(i):\n    y=barlist(i+1)\n    for i, b in enumerate(barcollection):\n        b.set_height(y[i])\n\nanim=animation.FuncAnimation(fig,animate,repeat=False,blit=False,frames=n,\n                             interval=100)\n\nanim.save('mymovie.mp4',writer=animation.FFMpegWriter(fps=10))\nplt.show()\nHTML(animator.to_jshtml())",
    "id": "dce5c71021054b4485459499927e4511",
    "idx": 17,
    "time": "2021-02-13T00:18:56.231Z",
    "type": "execution"
   },
   {
    "id": "dce5c71021054b4485459499927e4511",
    "time": "2021-02-13T00:19:01.328Z",
    "type": "completion"
   },
   {
    "code": "!pip install wbdata\n\nimport pandas as pd\nimport wbdata\nimport numpy as np\nimport re \nimport matplotlib.pyplot as plt\nimport seaborn as sns\nfrom matplotlib import animation as ani",
    "id": "d8c737d2ebba4a7795be23c3434d6686",
    "idx": 0,
    "time": "2021-02-13T00:19:20.023Z",
    "type": "execution"
   },
   {
    "code": "# Return list of all country/region codes:\nwbdata.get_country()",
    "id": "b81ace59eca1493284e68e03261de7d9",
    "idx": 2,
    "time": "2021-02-13T00:19:20.026Z",
    "type": "execution"
   },
   {
    "code": "wbdata.get_source()",
    "id": "d10217230250418bb144203790351d9f",
    "idx": 4,
    "time": "2021-02-13T00:19:20.028Z",
    "type": "execution"
   },
   {
    "code": "SOURCE = 40 # \"Population estimates and projections\"\n\nindicators_40 = wbdata.get_indicator(source=SOURCE)\nindicators_40",
    "id": "11cc3fcd77d346798bc5893c6d4f6db4",
    "idx": 5,
    "time": "2021-02-13T00:19:20.030Z",
    "type": "execution"
   },
   {
    "code": "def population(sex, year, age, country):\n    \"\"\"Function that takes in a SEX (\"Male\", \"Female\"), ... , COUNTRY=, .. \n    and returns a statistic for the given function arguments\"\"\"\n    if sex == \"Male\":\n        variable_labels = {\"SP.POP.\" + str(age[0])+str(age[1]) + \".MA\": sex}\n    elif sex==\"Female\":\n        variable_labels = {\"SP.POP.\" + str(age[0])+str(age[1]) + \".FE\": sex}\n    pop_stats = wbdata.get_dataframe(variable_labels, country=country)\n    pop_stats = pop_stats.filter(like=str(year), axis=0)\n    return pop_stats[sex][0]",
    "id": "5ed7396b0d74482da6a9bdd450753fb6",
    "idx": 7,
    "time": "2021-02-13T00:19:20.033Z",
    "type": "execution"
   },
   {
    "code": "population(\"Female\", 2010, (15,19), \"CHN\")",
    "id": "5ead2ee43d024085920f4e6abce7753f",
    "idx": 8,
    "time": "2021-02-13T00:19:20.035Z",
    "type": "execution"
   },
   {
    "code": "def population_dataframes(indicators):\n    \"\"\"Returns a pandas DataFrame indexed by Region or Country and Year, \n    with columns giving counts of people in different age-sex groups.\"\"\"\n    # Create a dictionary of all corresponding ID's and keys in SOURCE 40 from WBDATA\n    labels = {}\n    for i in range(len(indicators)):\n        col_id = indicators[i]['id']\n        col_name = indicators[i]['name']\n        labels[col_id] = col_name\n\n    def find_labels(indicators):\n        \"\"\"Helper function that akes in an indicator object to filter through variable \n        keys and parse through necessary ID's to obtain relevant data. \"\"\"\n        # Filter through column ID strings to obtain relevant population data.\n        r = re.compile(\"(SP.POP).[\\d]{2}[A-Z0-9]{2}.[MAFE]{2}$\")\n        col_keys = list(filter(r.match, labels))\n\n        # Add total population column at the end of COL_KEYS\n        col_keys.append('SP.POP.TOTL')\n\n        labels_filtered = {}\n        for key, value in labels.items():\n            if key in col_keys:\n                labels_filtered[key] = value\n        return labels_filtered\n\n    df_labels = find_labels(indicators)\n    return wbdata.get_dataframe(df_labels)",
    "id": "33ef852d41d9481b8ba93590a364360b",
    "idx": 10,
    "time": "2021-02-13T00:19:20.037Z",
    "type": "execution"
   },
   {
    "code": "pop_df = population_dataframes(indicators_40)\npop_df.head()",
    "id": "87566e10b34b44c9a2fa3ffeff7af27d",
    "idx": 11,
    "time": "2021-02-13T00:19:20.040Z",
    "type": "execution"
   },
   {
    "code": "# Change \"date\" index to type INT.\npop_df.index = pop_df.index.set_levels(pop_df.index.levels[1].astype(int), level=1)\n\n# Rename MultiIndex column \"date\" to \"year\"\npop_df = pop_df.rename_axis(index=['country', 'year'])\n\n# Delete 2020 row for every country code\npop_df = pop_df[~pop_df.index.get_level_values('year').isin([2020])]\n\n# Add population total breakdowns for male and female\ncols_f = [col for col in pop_df.columns if 'female' in col]\ncols_m = [col for col in pop_df.columns if col not in cols_f]\npop_df['Population, total female'] = pop_df.loc[:,cols_f].sum(axis=1)\npop_df['Population, total male'] = pop_df.loc[:, cols_m].sum(axis=1)\npop_df.head()",
    "id": "8d1c14af738545488bffff25e1548dbd",
    "idx": 13,
    "time": "2021-02-13T00:19:20.044Z",
    "type": "execution"
   },
   {
    "code": "def generate_ppy_df(pop_df, country, year):\n        \"\"\"Takes in a population DataFrame and selects population \n        data for a specific country/region in YEAR, then modifies the\n        DataFrame in a way that can be visualized. \"\"\"\n        new_df = pop_df[pop_df.index.get_level_values('country').isin([country])]\n        country_df = new_df[new_df.index.get_level_values('year').isin([year])]\n        ages = [col[16:21] for col in country_df.columns[::2]]\n        ages = ages[:-3]\n        ages.append('80+')\n        f_pop = list(country_df.iloc[0])[::2][:-2]\n        m_pop = list(country_df.iloc[0])[1::2][:-1]\n        ppy_df = pd.DataFrame({'Age': ages,\n                         'Population, total female': f_pop,\n                         'Population, total male': m_pop})\n        # Convert male population data to negative values for displaying purposes.\n        ppy_df['Population, total male'] = ppy_df['Population, total male']*-1\n        return ppy_df\n\n\n# def population_pyramid(df):\n#    \"\"\"Takes as input a pandas DataFrame with columns providing counts \n#    of people by age-sex groups, and constructs a population pyramid graph \n#    for visualizing the data.\"\"\"\ndf=generate_ppy_df(pop_df, \"World\", 2019)\n\nfig1 = plt.figure(figsize=(12,8))\nax1 = plt.axes()\nageAxis = df['Age'][::-1]\nfig_ppy = sns.barplot(x='Population, total female',\n                        y='Age',\n                        data=df,\n                        order=ageAxis,\n                        lw=0,\n                        color='tomato')\nfig1 = sns.barplot(x='Population, total male',\n                        y='Age',\n                        data=df,\n                        order=ageAxis,\n                        lw=0,\n                        color='dodgerblue')\n\nfig1.axvline(lw=3.5, color='w')\nfig1.set_title(\"Population Pyramid\", fontdict={'fontsize':14,'fontweight':3}, pad=15)                 \nfig1.set(xlabel=\"Population (hundreds of millions)\", ylabel=\"Age Group\");",
    "id": "79db5a18bd914a50abcce9ace54a5abc",
    "idx": 16,
    "time": "2021-02-13T00:19:20.047Z",
    "type": "execution"
   },
   {
    "code": "%matplotlib inline\n\nimport numpy as np\nimport matplotlib.pyplot as plt\n\nfrom matplotlib import animation, rc\nfrom IPython.display import HTML\n\ndef barlist(n): \n    return [1/float(n*k) for k in range(1,6)]\n\nfig=plt.figure()\n\nn=100 #Number of frames\nx=range(1,6)\nbarcollection = plt.bar(x,barlist(1))\n\ndef animate(i):\n    y=barlist(i+1)\n    for i, b in enumerate(barcollection):\n        b.set_height(y[i])\n\nanim=animation.FuncAnimation(fig,animate,repeat=False,blit=False,frames=n,\n                             interval=100)\n\nanim.save('mymovie.mp4',writer=animation.FFMpegWriter(fps=10))\nplt.show()\nHTML(animator.to_jshtml())",
    "id": "dce5c71021054b4485459499927e4511",
    "idx": 17,
    "time": "2021-02-13T00:19:22.893Z",
    "type": "execution"
   },
   {
    "id": "d8c737d2ebba4a7795be23c3434d6686",
    "time": "2021-02-13T00:19:26.412Z",
    "type": "completion"
   },
   {
    "id": "b81ace59eca1493284e68e03261de7d9",
    "time": "2021-02-13T00:19:26.469Z",
    "type": "completion"
   },
   {
    "id": "d10217230250418bb144203790351d9f",
    "time": "2021-02-13T00:19:26.476Z",
    "type": "completion"
   },
   {
    "id": "11cc3fcd77d346798bc5893c6d4f6db4",
    "time": "2021-02-13T00:19:26.517Z",
    "type": "completion"
   },
   {
    "id": "5ed7396b0d74482da6a9bdd450753fb6",
    "time": "2021-02-13T00:19:26.531Z",
    "type": "completion"
   },
   {
    "id": "5ead2ee43d024085920f4e6abce7753f",
    "time": "2021-02-13T00:19:26.568Z",
    "type": "completion"
   },
   {
    "id": "33ef852d41d9481b8ba93590a364360b",
    "time": "2021-02-13T00:19:26.604Z",
    "type": "completion"
   },
   {
    "id": "87566e10b34b44c9a2fa3ffeff7af27d",
    "time": "2021-02-13T00:19:34.715Z",
    "type": "completion"
   },
   {
    "id": "8d1c14af738545488bffff25e1548dbd",
    "time": "2021-02-13T00:19:34.770Z",
    "type": "completion"
   },
   {
    "id": "79db5a18bd914a50abcce9ace54a5abc",
    "time": "2021-02-13T00:19:35.296Z",
    "type": "completion"
   },
   {
    "id": "dce5c71021054b4485459499927e4511",
    "time": "2021-02-13T00:19:40.416Z",
    "type": "completion"
   },
   {
    "code": "%matplotlib inline\n\nimport numpy as np\nimport matplotlib.pyplot as plt\n\nfrom matplotlib import animation, rc\nfrom IPython.display import HTML\n\ndef barlist(n): \n    return [1/float(n*k) for k in range(1,6)]\n\nfig=plt.figure()\n\nn=100 #Number of frames\nx=range(1,6)\nbarcollection = plt.bar(x,barlist(1))\n\ndef animate(i):\n    y=barlist(i+1)\n    for i, b in enumerate(barcollection):\n        b.set_height(y[i])\n\nanim=animation.FuncAnimation(fig,animate,repeat=False,blit=False,frames=n,\n                             interval=100)\n\nanim.save('mymovie.mp4',writer=animation.FFMpegWriter(fps=10))\nplt.show()\nHTML(anim.to_jshtml())",
    "id": "dce5c71021054b4485459499927e4511",
    "idx": 17,
    "time": "2021-02-13T00:20:39.980Z",
    "type": "execution"
   },
   {
    "id": "dce5c71021054b4485459499927e4511",
    "time": "2021-02-13T00:20:50.921Z",
    "type": "completion"
   },
   {
    "code": "%matplotlib inline\n\nimport numpy as np\nimport matplotlib.pyplot as plt\n\nfrom matplotlib import animation, rc\nfrom IPython.display import HTML\n\ndef barlist(n): \n    return [1/float(n*k) for k in range(1,6)]\n\nfig=plt.figure()\n\nn=100 #Number of frames\nx=range(1,6)\nbarcollection = plt.bar(x,barlist(1))\n\ndef animate(i):\n    y=barlist(i+1)\n    for i, b in enumerate(barcollection):\n        b.set_height(y[i])\n\nanim=animation.FuncAnimation(fig,animate,repeat=False,blit=False,frames=n,\n                             interval=100)\n\nanim.save('mymovie.mp4',writer=animation.FFMpegWriter(fps=10))\nHTML(anim.to_jshtml())",
    "id": "dce5c71021054b4485459499927e4511",
    "idx": 17,
    "time": "2021-02-13T00:23:24.322Z",
    "type": "execution"
   },
   {
    "id": "dce5c71021054b4485459499927e4511",
    "time": "2021-02-13T00:23:36.541Z",
    "type": "completion"
   },
   {
    "code": "%matplotlib inline\n\nimport numpy as np\nimport matplotlib.pyplot as plt\n\nfrom matplotlib import animation, rc\nfrom IPython.display import HTML\n\ndef barlist(n): \n    return [1/float(n*k) for k in range(1,6)]\n\nfig=plt.figure()\n\nn=100 #Number of frames\nx=range(1,6)\nbarcollection = plt.bar(x,barlist(1))\n\ndef animate(i):\n    y=barlist(i+1)\n    for i, b in enumerate(barcollection):\n        b.set_height(y[i])\n\nanim=animation.FuncAnimation(fig,animate,repeat=False,blit=False,frames=n,\n                             interval=100)\n\n\nHTML(anim.to_jshtml())",
    "id": "dce5c71021054b4485459499927e4511",
    "idx": 17,
    "time": "2021-02-13T00:24:02.633Z",
    "type": "execution"
   },
   {
    "id": "dce5c71021054b4485459499927e4511",
    "time": "2021-02-13T00:24:11.423Z",
    "type": "completion"
   },
   {
    "code": "generate_ppy_df(pop_df, \"World\", 2019)",
    "id": "ecce988dee8b4061b92ecec104d07152",
    "idx": 17,
    "time": "2021-02-13T00:52:11.862Z",
    "type": "execution"
   },
   {
    "id": "ecce988dee8b4061b92ecec104d07152",
    "time": "2021-02-13T00:52:12.035Z",
    "type": "completion"
   },
   {
    "code": "generate_ppy_df(pop_df, \"World\", 2018)",
    "id": "ecce988dee8b4061b92ecec104d07152",
    "idx": 17,
    "time": "2021-02-13T00:52:30.225Z",
    "type": "execution"
   },
   {
    "id": "ecce988dee8b4061b92ecec104d07152",
    "time": "2021-02-13T00:52:30.314Z",
    "type": "completion"
   },
   {
    "code": "df1 = generate_ppy_df(pop_df, \"World\", 2018)\ndf1",
    "id": "ecce988dee8b4061b92ecec104d07152",
    "idx": 17,
    "time": "2021-02-13T00:57:03.120Z",
    "type": "execution"
   },
   {
    "id": "ecce988dee8b4061b92ecec104d07152",
    "time": "2021-02-13T00:57:03.206Z",
    "type": "completion"
   },
   {
    "code": "df1 = generate_ppy_df(pop_df, \"World\", 2018)\ndf1.max().index",
    "id": "ecce988dee8b4061b92ecec104d07152",
    "idx": 17,
    "time": "2021-02-13T00:57:09.722Z",
    "type": "execution"
   },
   {
    "id": "ecce988dee8b4061b92ecec104d07152",
    "time": "2021-02-13T00:57:09.796Z",
    "type": "completion"
   },
   {
    "code": "df1 = generate_ppy_df(pop_df, \"World\", 2018)\ndf1.max()",
    "id": "ecce988dee8b4061b92ecec104d07152",
    "idx": 17,
    "time": "2021-02-13T00:57:22.641Z",
    "type": "execution"
   },
   {
    "id": "ecce988dee8b4061b92ecec104d07152",
    "time": "2021-02-13T00:57:22.731Z",
    "type": "completion"
   },
   {
    "code": "%matplotlib notebook\n\nimport numpy as np\nimport matplotlib.pyplot as plt\n\nfrom matplotlib import animation, rc\nfrom IPython.display import HTML\n\ndef barlist(n): \n    return [1/float(n*k) for k in range(1,6)]\n\nfig=plt.figure()\n\nn=100 #Number of frames\nx=range(1,6)\nbarcollection = plt.bar(x,barlist(1))\n\ndef animate(i):\n    generate_ppy_df(pop_df, \"World\", 1960+i)\n\nanim=animation.FuncAnimation(fig,animate,blit=False,frames=n,interval=100)\n\nHTML(anim.to_jshtml())",
    "id": "dce5c71021054b4485459499927e4511",
    "idx": 18,
    "time": "2021-02-13T01:03:20.911Z",
    "type": "execution"
   },
   {
    "id": "dce5c71021054b4485459499927e4511",
    "time": "2021-02-13T01:03:23.354Z",
    "type": "completion"
   },
   {
    "code": "%matplotlib notebook\n\nimport numpy as np\nimport matplotlib.pyplot as plt\n\nfrom matplotlib import animation, rc\nfrom IPython.display import HTML\n\ndef barlist(n): \n    return [1/float(n*k) for k in range(1,6)]\n\nfig=plt.figure()\n\nn=100 #Number of frames\nx=range(1,6)\nbarcollection = plt.bar(x,barlist(1))\n\ndef animate(i):\n    df = generate_ppy_df(pop_df, \"World\", 1960+i)\n    p = sns.barplot(x='Population, total female',y='Age',data=df,order=ageAxis,lw=0,color='tomato')\n    p = sns.barplot(x='Population, total male',y='Age',data=df,order=ageAxis,lw=0,color='dodgerblue')\n    p.tick_params(labelsize=17)\n    plt.setp(p.lines,linewidth=7)\n\nanim=animation.FuncAnimation(fig,animate,blit=False,frames=n,interval=100)\n",
    "id": "dce5c71021054b4485459499927e4511",
    "idx": 18,
    "time": "2021-02-13T01:11:08.840Z",
    "type": "execution"
   },
   {
    "id": "dce5c71021054b4485459499927e4511",
    "time": "2021-02-13T01:11:09.209Z",
    "type": "completion"
   },
   {
    "code": "%matplotlib notebook\n\nimport numpy as np\nimport matplotlib.pyplot as plt\n\nfrom matplotlib import animation, rc\nfrom IPython.display import HTML\n\ndef barlist(n): \n    return [1/float(n*k) for k in range(1,6)]\n\nfig=plt.figure()\n\nn=100 #Number of frames\nx=range(1,6)\nbarcollection = plt.bar(x,barlist(1))\n\ndef animate(i):\n    df = generate_ppy_df(pop_df, \"World\", 1960+i)\n    p = sns.barplot(x='Population, total female',y='Age',data=df,order=ageAxis,lw=0,color='tomato')\n    p = sns.barplot(x='Population, total male',y='Age',data=df,order=ageAxis,lw=0,color='dodgerblue')\n    \n\nanim=animation.FuncAnimation(fig,animate,blit=False,frames=n,interval=100)\n",
    "id": "dce5c71021054b4485459499927e4511",
    "idx": 18,
    "time": "2021-02-13T01:11:45.329Z",
    "type": "execution"
   },
   {
    "id": "dce5c71021054b4485459499927e4511",
    "time": "2021-02-13T01:11:46.674Z",
    "type": "completion"
   },
   {
    "code": "%matplotlib notebook\n\nimport numpy as np\nimport matplotlib.pyplot as plt\n\nfrom matplotlib import animation, rc\nfrom IPython.display import HTML\n\ndef barlist(n): \n    return [1/float(n*k) for k in range(1,6)]\n\nfig=plt.figure()\n\nn=100 #Number of frames\nx=range(1,6)\nbarcollection = plt.bar(x,barlist(1))\n\ndef animate(i):\n    df = generate_ppy_df(pop_df, \"World\", 1960+i)\n    p = sns.barplot(x='Population, total female',y='Age',data=df,order=ageAxis,lw=0,color='tomato')\n    p = sns.barplot(x='Population, total male',y='Age',data=df,order=ageAxis,lw=0,color='dodgerblue')\n    p.tick_params(labelsize=17)\n    \n\nanim=animation.FuncAnimation(fig,animate,blit=False,frames=n,interval=100)\n",
    "id": "dce5c71021054b4485459499927e4511",
    "idx": 18,
    "time": "2021-02-13T01:12:12.351Z",
    "type": "execution"
   },
   {
    "id": "dce5c71021054b4485459499927e4511",
    "time": "2021-02-13T01:12:12.592Z",
    "type": "completion"
   },
   {
    "code": "%matplotlib notebook\n\nimport numpy as np\nimport matplotlib.pyplot as plt\n\nfrom matplotlib import animation, rc\nfrom IPython.display import HTML\n\ndef barlist(n): \n    return [1/float(n*k) for k in range(1,6)]\n\nfig=plt.figure()\n\nn=100 #Number of frames\nx=range(1,6)\nbarcollection = plt.bar(x,barlist(1))\n\ndef animate(i):\n    df = generate_ppy_df(pop_df, \"World\", 1960+i)\n    p = sns.barplot(x='Population, total female',y='Age',data=df,order=ageAxis,lw=0,color='tomato')\n    p = sns.barplot(x='Population, total male',y='Age',data=df,order=ageAxis,lw=0,color='dodgerblue')\n    \n    plt.setp(p.lines,linewidth=7)\n    \n\nanim=animation.FuncAnimation(fig,animate,blit=False,frames=n,interval=100)\n",
    "id": "dce5c71021054b4485459499927e4511",
    "idx": 18,
    "time": "2021-02-13T01:12:27.590Z",
    "type": "execution"
   },
   {
    "id": "dce5c71021054b4485459499927e4511",
    "time": "2021-02-13T01:12:28.374Z",
    "type": "completion"
   },
   {
    "code": "%matplotlib notebook\nfrom matplotlib import animation, rc\nfrom IPython.display import HTML\n\ndef barlist(n): \n    return [1/float(n*k) for k in range(1,6)]\n\nfig=plt.figure()\n\nn=100 #Number of frames\nx=range(1,6)\nbarcollection = plt.bar(x,barlist(1))\n\ndef animate(i):\n    df = generate_ppy_df(pop_df, \"World\", 1960+i)\n    p = sns.barplot(x='Population, total female',y='Age',data=df,order=ageAxis,lw=0,color='tomato')\n    p = sns.barplot(x='Population, total male',y='Age',data=df,order=ageAxis,lw=0,color='dodgerblue')\n    plt.setp(p.lines,linewidth=7)\n    \n\nanim=animation.FuncAnimation(fig,animate,blit=False,frames=n,interval=100)\n",
    "id": "dce5c71021054b4485459499927e4511",
    "idx": 17,
    "time": "2021-02-13T01:13:36.077Z",
    "type": "execution"
   },
   {
    "id": "dce5c71021054b4485459499927e4511",
    "time": "2021-02-13T01:13:37.181Z",
    "type": "completion"
   },
   {
    "code": "%matplotlib notebook\nfrom matplotlib import animation, rc\nfrom IPython.display import HTML\n\ndef barlist(n): \n    return [1/float(n*k) for k in range(1,6)]\n\nfig=plt.figure()\n\nn=100 #Number of frames\nx=range(1,6)\nbarcollection = plt.bar(x,barlist(1))\n\ndef animate(i):\n    df = generate_ppy_df(pop_df, \"World\", 1960+i)\n    p = sns.barplot(x='Population, total female',y='Age',data=df,order=ageAxis,lw=0,color='tomato')\n    p = sns.barplot(x='Population, total male',y='Age',data=df,order=ageAxis,lw=0,color='dodgerblue')\n    \n    \n\nanim=animation.FuncAnimation(fig,animate,blit=False,frames=n,interval=100)\n",
    "id": "dce5c71021054b4485459499927e4511",
    "idx": 17,
    "time": "2021-02-13T01:13:46.146Z",
    "type": "execution"
   },
   {
    "id": "dce5c71021054b4485459499927e4511",
    "time": "2021-02-13T01:13:47.219Z",
    "type": "completion"
   },
   {
    "code": "%matplotlib notebook\nfrom matplotlib import animation, rc\nfrom IPython.display import HTML\n\ndef barlist(n): \n    return [1/float(n*k) for k in range(1,6)]\n\nfig=plt.figure()\n\nn=100 #Number of frames\nx=range(1,6)\nbarcollection = plt.bar(x,barlist(1))\n\ndef animate(i):\n    df = generate_ppy_df(pop_df, \"World\", 1960+i)\n    p = sns.barplot(x='Population, total female',y='Age',data=df,order=ageAxis,lw=0,color='tomato')\n    p = sns.barplot(x='Population, total male',y='Age',data=df,order=ageAxis,lw=0,color='dodgerblue')\n    \n    \n\nanim=animation.FuncAnimation(fig,animate,blit=False,frames=n,interval=100)\n\n    \n    ",
    "id": "6bce48fee53e4d9d89d8645ba13f33bb",
    "idx": 21,
    "time": "2021-02-13T01:14:10.834Z",
    "type": "execution"
   },
   {
    "id": "6bce48fee53e4d9d89d8645ba13f33bb",
    "time": "2021-02-13T01:14:10.999Z",
    "type": "completion"
   },
   {
    "code": "%matplotlib notebook\nfrom matplotlib import animation, rc\nfrom IPython.display import HTML\n\ndef barlist(n): \n    return [1/float(n*k) for k in range(1,6)]\n\nfig=plt.figure()\n\nn=100 #Number of frames\nx=range(1,6)\nbarcollection = plt.bar(x,barlist(1))\n\ndef animate(i):\n    df = generate_ppy_df(pop_df, \"World\", 1960+i)\n    p = sns.barplot(x='Population, total female',y='Age',data=df,order=ageAxis,lw=0,color='tomato')\n    p = sns.barplot(x='Population, total male',y='Age',data=df,order=ageAxis,lw=0,color='dodgerblue')\n\nanim=animation.FuncAnimation(fig,animate,blit=False,frames=n,interval=100)",
    "id": "6bce48fee53e4d9d89d8645ba13f33bb",
    "idx": 21,
    "time": "2021-02-13T01:14:20.275Z",
    "type": "execution"
   },
   {
    "id": "6bce48fee53e4d9d89d8645ba13f33bb",
    "time": "2021-02-13T01:14:20.742Z",
    "type": "completion"
   },
   {
    "code": "%matplotlib notebook\nfrom matplotlib import animation, rc\nfrom IPython.display import HTML\n\ndef barlist(n): \n    return [1/float(n*k) for k in range(1,6)]\n\nfig=plt.figure(figsize=(12,7))\n\nn=100 #Number of frames\nx=range(1,6)\nbarcollection = plt.bar(x,barlist(1))\n\ndef animate(i):\n    df = generate_ppy_df(pop_df, \"World\", 1960+i)\n    p = sns.barplot(x='Population, total female',y='Age',data=df,order=ageAxis,lw=0,color='tomato')\n    p = sns.barplot(x='Population, total male',y='Age',data=df,order=ageAxis,lw=0,color='dodgerblue')\n\nanim=animation.FuncAnimation(fig,animate,blit=False,frames=n,interval=100)",
    "id": "6bce48fee53e4d9d89d8645ba13f33bb",
    "idx": 21,
    "time": "2021-02-13T01:14:33.856Z",
    "type": "execution"
   },
   {
    "id": "6bce48fee53e4d9d89d8645ba13f33bb",
    "time": "2021-02-13T01:14:34.162Z",
    "type": "completion"
   },
   {
    "code": "%matplotlib notebook\nfrom matplotlib import animation, rc\nfrom IPython.display import HTML\n\ndef barlist(n): \n    return [1/float(n*k) for k in range(1,6)]\n\nfig=plt.figure(figsize=(12,7))\n\nn=100 #Number of frames\nx=range(1,6)\nbarcollection = plt.bar(x,barlist(1))\n\ndef animate(i):\n    df = generate_ppy_df(pop_df, \"World\", 1960+i)\n    p = sns.barplot(x='Population, total female',y='Age',data=df,order=ageAxis,lw=0,color='tomato')\n    p = sns.barplot(x='Population, total male',y='Age',data=df,order=ageAxis,lw=0,color='dodgerblue')\n    p.axvline(lw=3.5, color='w')\n    p.set_title(\"Population Pyramid\", fontdict={'fontsize':14,'fontweight':3}, pad=15)                 \n    p.set(xlabel=\"Population (hundreds of millions)\", ylabel=\"Age Group\");\n\nanim=animation.FuncAnimation(fig,animate,blit=False,frames=n,interval=100)",
    "id": "6bce48fee53e4d9d89d8645ba13f33bb",
    "idx": 21,
    "time": "2021-02-13T01:15:06.489Z",
    "type": "execution"
   },
   {
    "id": "6bce48fee53e4d9d89d8645ba13f33bb",
    "time": "2021-02-13T01:15:06.673Z",
    "type": "completion"
   },
   {
    "code": "%matplotlib notebook\nfrom matplotlib import animation, rc\nfrom IPython.display import HTML\n\ndef barlist(n): \n    return [1/float(n*k) for k in range(1,6)]\n\nfig=plt.figure(figsize=(12,7))\n\nn=100 #Number of frames\nx=range(1,6)\nbarcollection = plt.bar(x,barlist(1))\n\ndef animate(i):\n    year = 1960 + i\n    df = generate_ppy_df(pop_df, \"World\", 1960+i)\n    p = sns.barplot(x='Population, total female',y='Age',data=df,order=ageAxis,lw=0,color='tomato')\n    p = sns.barplot(x='Population, total male',y='Age',data=df,order=ageAxis,lw=0,color='dodgerblue')\n    p.axvline(lw=3.5, color='w')\n    p.set_title(\"Population Pyramid, Year = {}\".format(year), fontdict={'fontsize':14,'fontweight':3}, pad=15)                 \n    p.set(xlabel=\"Population (hundreds of millions)\", ylabel=\"Age Group\");\n\nanim=animation.FuncAnimation(fig,animate,frames=n,interval=100)",
    "id": "6bce48fee53e4d9d89d8645ba13f33bb",
    "idx": 21,
    "time": "2021-02-13T01:17:38.981Z",
    "type": "execution"
   },
   {
    "id": "6bce48fee53e4d9d89d8645ba13f33bb",
    "time": "2021-02-13T01:17:40.671Z",
    "type": "completion"
   },
   {
    "code": "%matplotlib notebook\nfrom matplotlib import animation, rc\nfrom IPython.display import HTML\n\ndef barlist(n): \n    return [1/float(n*k) for k in range(1,6)]\n\nfig=plt.figure(figsize=(12,7))\n\nn=100 #Number of frames\nx=range(1,6)\nbarcollection = plt.bar(x,barlist(1))\n\ndef animate(i):\n    year = 1960 + i\n    region = \"World\"\n    df = generate_ppy_df(pop_df, region, year)\n    p = sns.barplot(x='Population, total female',y='Age',data=df,order=ageAxis,lw=0,color='tomato')\n    p = sns.barplot(x='Population, total male',y='Age',data=df,order=ageAxis,lw=0,color='dodgerblue')\n    p.axvline(lw=3.5, color='w')\n    p.set_title(\"{r} Population Pyramid, Year = {y}\".format(r=region, y=year), fontdict={'fontsize':14,'fontweight':3}, pad=15)                 \n    p.set(xlabel=\"Population (hundreds of millions)\", ylabel=\"Age Group\");\n\nanim=animation.FuncAnimation(fig,animate,frames=n,interval=100)",
    "id": "6bce48fee53e4d9d89d8645ba13f33bb",
    "idx": 21,
    "time": "2021-02-13T01:19:32.307Z",
    "type": "execution"
   },
   {
    "id": "6bce48fee53e4d9d89d8645ba13f33bb",
    "time": "2021-02-13T01:19:33.601Z",
    "type": "completion"
   },
   {
    "code": "%matplotlib notebook\nfrom matplotlib import animation, rc\nfrom IPython.display import HTML\n\ndef barlist(n): \n    return [1/float(n*k) for k in range(1,6)]\n\nfig=plt.figure(figsize=(12,7))\n\nn=200 #Number of frames\nx=range(1,6)\nbarcollection = plt.bar(x,barlist(1))\n\ndef animate(i):\n    year = 1960 + i\n    region = \"World\"\n    df = generate_ppy_df(pop_df, region, year)\n    p = sns.barplot(x='Population, total female',y='Age',data=df,order=ageAxis,lw=0,color='tomato')\n    p = sns.barplot(x='Population, total male',y='Age',data=df,order=ageAxis,lw=0,color='dodgerblue')\n    p.axvline(lw=3.5, color='w')\n    p.set_title(\"{r} Population Pyramid, Year = {y}\".format(r=region, y=year), fontdict={'fontsize':14,'fontweight':3}, pad=15)                 \n    p.set(xlabel=\"Population (hundreds of millions)\", ylabel=\"Age Group\");\n    def smoothListGaussian(listin,strippedXs=False,degree=5):  \n        window=degree*2-1  \n        weight=np.array([1.0]*window)  \n        weightGauss=[]  \n        for i in range(window):  \n            i=i-degree+1  \n            frac=i/float(window)  \n            gauss=1/(np.exp((4*(frac))**2))  \n            weightGauss.append(gauss)\n        weight=np.array(weightGauss)*weight  \n        smoothed=[0.0]*(len(listin)-window)  \n        for i in range(len(smoothed)):        \n            smoothed[i]=sum(np.array(listin[i:i+window])*weight)/sum(weight)  \n        return smoothed\n\nanim=animation.FuncAnimation(fig,animate,frames=n,interval=100)\nanim.save(:file:'world_ppy.gif')",
    "id": "6bce48fee53e4d9d89d8645ba13f33bb",
    "idx": 21,
    "time": "2021-02-13T01:28:53.766Z",
    "type": "execution"
   },
   {
    "id": "6bce48fee53e4d9d89d8645ba13f33bb",
    "time": "2021-02-13T01:28:55.421Z",
    "type": "completion"
   },
   {
    "code": "anim.save('world_ppy.gif')",
    "id": "38bac20636bd47759160f05ef541c00d",
    "idx": 22,
    "time": "2021-02-13T01:29:01.254Z",
    "type": "execution"
   },
   {
    "code": "%matplotlib notebook\nfrom matplotlib import animation, rc\nfrom IPython.display import HTML\n\ndef barlist(n): \n    return [1/float(n*k) for k in range(1,6)]\n\nfig=plt.figure(figsize=(12,7))\n\nn=200 #Number of frames\nx=range(1,6)\nbarcollection = plt.bar(x,barlist(1))\n\ndef animate(i):\n    year = 1960 + i\n    region = \"World\"\n    df = generate_ppy_df(pop_df, region, year)\n    p = sns.barplot(x='Population, total female',y='Age',data=df,order=ageAxis,lw=0,color='tomato')\n    p = sns.barplot(x='Population, total male',y='Age',data=df,order=ageAxis,lw=0,color='dodgerblue')\n    p.axvline(lw=3.5, color='w')\n    p.set_title(\"{r} Population Pyramid, Year = {y}\".format(r=region, y=year), fontdict={'fontsize':14,'fontweight':3}, pad=15)                 \n    p.set(xlabel=\"Population (hundreds of millions)\", ylabel=\"Age Group\");\n    def smoothListGaussian(listin,strippedXs=False,degree=5):  \n        window=degree*2-1  \n        weight=np.array([1.0]*window)  \n        weightGauss=[]  \n        for i in range(window):  \n            i=i-degree+1  \n            frac=i/float(window)  \n            gauss=1/(np.exp((4*(frac))**2))  \n            weightGauss.append(gauss)\n        weight=np.array(weightGauss)*weight  \n        smoothed=[0.0]*(len(listin)-window)  \n        for i in range(len(smoothed)):        \n            smoothed[i]=sum(np.array(listin[i:i+window])*weight)/sum(weight)  \n        return smoothed\n\nanim=animation.FuncAnimation(fig,animate,frames=n,interval=100)\n",
    "id": "6bce48fee53e4d9d89d8645ba13f33bb",
    "idx": 21,
    "time": "2021-02-13T01:29:08.979Z",
    "type": "execution"
   },
   {
    "code": "anim.save('world_ppy.gif')",
    "id": "38bac20636bd47759160f05ef541c00d",
    "idx": 22,
    "time": "2021-02-13T01:29:09.349Z",
    "type": "execution"
   },
   {
    "id": "6bce48fee53e4d9d89d8645ba13f33bb",
    "time": "2021-02-13T01:30:45.715Z",
    "type": "completion"
   },
   {
    "id": "38bac20636bd47759160f05ef541c00d",
    "time": "2021-02-13T01:30:45.726Z",
    "type": "completion"
   },
   {
    "id": "38bac20636bd47759160f05ef541c00d",
    "time": "2021-02-13T01:30:45.727Z",
    "type": "completion"
   },
   {
    "code": "%matplotlib notebook\nfrom matplotlib import animation, rc\nfrom IPython.display import HTML\n\ndef barlist(n): \n    return [1/float(n*k) for k in range(1,6)]\n\nfig=plt.figure(figsize=(12,7))\n\nn=200 #Number of frames\nx=range(1,6)\nbarcollection = plt.bar(x,barlist(1))\n\ndef animate(i):\n    year = 1960 + i\n    region = \"World\"\n    df = generate_ppy_df(pop_df, region, year)\n    p = sns.barplot(x='Population, total female',y='Age',data=df,order=ageAxis,lw=0,color='tomato')\n    p = sns.barplot(x='Population, total male',y='Age',data=df,order=ageAxis,lw=0,color='dodgerblue')\n    p.axvline(lw=3.5, color='w')\n    p.set_title(\"{r} Population Pyramid, Year = {y}\".format(r=region, y=year), fontdict={'fontsize':14,'fontweight':3}, pad=15)                 \n    p.set(xlabel=\"Population (hundreds of millions)\", ylabel=\"Age Group\");\n\nanim=animation.FuncAnimation(fig,animate,frames=n,interval=100)\n",
    "id": "6bce48fee53e4d9d89d8645ba13f33bb",
    "idx": 21,
    "time": "2021-02-13T01:30:48.105Z",
    "type": "execution"
   },
   {
    "id": "6bce48fee53e4d9d89d8645ba13f33bb",
    "time": "2021-02-13T01:30:48.279Z",
    "type": "completion"
   },
   {
    "code": "anim.save('world_ppy.gif')",
    "id": "38bac20636bd47759160f05ef541c00d",
    "idx": 22,
    "time": "2021-02-13T01:30:55.871Z",
    "type": "execution"
   },
   {
    "id": "38bac20636bd47759160f05ef541c00d",
    "time": "2021-02-13T01:32:21.587Z",
    "type": "completion"
   },
   {
    "code": "%matplotlib notebook\nfrom matplotlib import animation, rc\nfrom IPython.display import HTML\n\ndef barlist(n): \n    return [1/float(n*k) for k in range(1,6)]\n\nfig=plt.figure(figsize=(12,7))\n\nn=200 #Number of frames\nx=range(1,6)\nbarcollection = plt.bar(x,barlist(1))\n\ndef animate(i):\n    year = 1960 + i\n    region = \"World\"\n    df = generate_ppy_df(pop_df, region, year)\n    p = sns.barplot(x='Population, total female',y='Age',data=df,order=ageAxis,lw=0,color='tomato')\n    p = sns.barplot(x='Population, total male',y='Age',data=df,order=ageAxis,lw=0,color='dodgerblue')\n    p.axvline(lw=3.5, color='w')\n    p.set_title(\"{r} Population Pyramid, Year = {y}\".format(r=region, y=year), fontdict={'fontsize':14,'fontweight':3}, pad=15)                 \n    p.set(xlabel=\"Population (hundreds of millions)\", ylabel=\"Age Group\");\n\nanim=animation.FuncAnimation(fig,animate,frames=n,interval=100)",
    "id": "6bce48fee53e4d9d89d8645ba13f33bb",
    "idx": 21,
    "time": "2021-02-13T01:32:43.529Z",
    "type": "execution"
   },
   {
    "id": "6bce48fee53e4d9d89d8645ba13f33bb",
    "time": "2021-02-13T01:32:43.730Z",
    "type": "completion"
   }
  ],
  "kernelspec": {
   "display_name": "Python 3",
   "language": "python",
   "name": "python3"
  },
  "language_info": {
   "codemirror_mode": {
    "name": "ipython",
    "version": 3
   },
   "file_extension": ".py",
   "mimetype": "text/x-python",
   "name": "python",
   "nbconvert_exporter": "python",
   "pygments_lexer": "ipython3",
   "version": "3.8.6"
  }
 },
 "nbformat": 4,
 "nbformat_minor": 4
}
