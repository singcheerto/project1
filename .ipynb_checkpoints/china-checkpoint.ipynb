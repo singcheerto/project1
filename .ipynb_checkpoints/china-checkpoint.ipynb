{
 "cells": [
  {
   "cell_type": "code",
   "execution_count": 1,
   "metadata": {},
   "outputs": [
    {
     "name": "stdout",
     "output_type": "stream",
     "text": [
      "Requirement already satisfied: wbdata in /opt/conda/lib/python3.8/site-packages (0.3.0)\n",
      "Requirement already satisfied: appdirs<2.0,>=1.4 in /opt/conda/lib/python3.8/site-packages (from wbdata) (1.4.4)\n",
      "Requirement already satisfied: tabulate>=0.8.5 in /opt/conda/lib/python3.8/site-packages (from wbdata) (0.8.7)\n",
      "Requirement already satisfied: requests>=2.0 in /opt/conda/lib/python3.8/site-packages (from wbdata) (2.25.1)\n",
      "Requirement already satisfied: decorator>=4.0 in /opt/conda/lib/python3.8/site-packages (from wbdata) (4.4.2)\n",
      "Requirement already satisfied: certifi>=2017.4.17 in /opt/conda/lib/python3.8/site-packages (from requests>=2.0->wbdata) (2019.11.28)\n",
      "Requirement already satisfied: idna<3,>=2.5 in /opt/conda/lib/python3.8/site-packages (from requests>=2.0->wbdata) (2.8)\n",
      "Requirement already satisfied: urllib3<1.27,>=1.21.1 in /opt/conda/lib/python3.8/site-packages (from requests>=2.0->wbdata) (1.25.7)\n",
      "Requirement already satisfied: chardet<5,>=3.0.2 in /opt/conda/lib/python3.8/site-packages (from requests>=2.0->wbdata) (3.0.4)\n"
     ]
    }
   ],
   "source": [
    "!pip install wbdata\n",
    "\n",
    "import pandas as pd\n",
    "import wbdata\n",
    "import numpy as np\n",
    "import re \n",
    "import seaborn as sns\n",
    "import matplotlib.pyplot as plt\n",
    "from matplotlib import animation as ani\n",
    "import matplotlib.patches as mpatches"
   ]
  },
  {
   "cell_type": "code",
   "execution_count": 2,
   "metadata": {},
   "outputs": [
    {
     "data": {
      "text/plain": [
       "  id  name\n",
       "----  --------------------------------------------------------------------\n",
       "   1  Doing Business\n",
       "   2  World Development Indicators\n",
       "   3  Worldwide Governance Indicators\n",
       "   5  Subnational Malnutrition Database\n",
       "   6  International Debt Statistics\n",
       "  11  Africa Development Indicators\n",
       "  12  Education Statistics\n",
       "  13  Enterprise Surveys\n",
       "  14  Gender Statistics\n",
       "  15  Global Economic Monitor\n",
       "  16  Health Nutrition and Population Statistics\n",
       "  18  IDA Results Measurement System\n",
       "  19  Millennium Development Goals\n",
       "  20  Quarterly Public Sector Debt\n",
       "  22  Quarterly External Debt Statistics SDDS\n",
       "  23  Quarterly External Debt Statistics GDDS\n",
       "  24  Poverty and Equity\n",
       "  25  Jobs\n",
       "  27  Global Economic Prospects\n",
       "  28  Global Financial Inclusion\n",
       "  29  The Atlas of Social Protection: Indicators of Resilience and Equity\n",
       "  30  Exporter Dynamics Database – Indicators at Country-Year Level\n",
       "  31  Country Policy and Institutional Assessment\n",
       "  32  Global Financial Development\n",
       "  33  G20 Financial Inclusion Indicators\n",
       "  34  Global Partnership for Education\n",
       "  35  Sustainable Energy for All\n",
       "  36  Statistical Capacity Indicators\n",
       "  37  LAC Equity Lab\n",
       "  38  Subnational Poverty\n",
       "  39  Health Nutrition and Population Statistics by Wealth Quintile\n",
       "  40  Population estimates and projections\n",
       "  41  Country Partnership Strategy for India (FY2013 - 17)\n",
       "  43  Adjusted Net Savings\n",
       "  44  Readiness for Investment in Sustainable Energy\n",
       "  45  Indonesia Database for Policy and Economic Research\n",
       "  46  Sustainable Development Goals\n",
       "  50  Subnational Population\n",
       "  54  Joint External Debt Hub\n",
       "  57  WDI Database Archives\n",
       "  58  Universal Health Coverage\n",
       "  59  Wealth Accounts\n",
       "  60  Economic Fitness\n",
       "  61  PPPs Regulatory Quality\n",
       "  62  International Comparison Program (ICP) 2011\n",
       "  63  Human Capital Index\n",
       "  64  Worldwide Bureaucracy Indicators\n",
       "  65  Health Equity and Financial Protection Indicators\n",
       "  66  Logistics Performance Index\n",
       "  67  PEFA 2011\n",
       "  68  PEFA 2016\n",
       "  69  Global Financial Inclusion and Consumer Protection Survey\n",
       "  70  Economic Fitness 2\n",
       "  71  International Comparison Program (ICP) 2005\n",
       "  72  PEFA_Test\n",
       "  73  Global Financial Inclusion and Consumer Protection Survey (Internal)\n",
       "  75  Environment, Social and Governance (ESG) Data\n",
       "  76  Remittance Prices Worldwide (Sending Countries)\n",
       "  77  Remittance Prices Worldwide (Receiving Countries)\n",
       "  78  ICP 2017\n",
       "  79  PEFA_GRPFM\n",
       "  80  Gender Disaggregated Labor Database (GDLD)\n",
       "  81  International Debt Statistics: DSSI"
      ]
     },
     "execution_count": 2,
     "metadata": {},
     "output_type": "execute_result"
    }
   ],
   "source": [
    "wbdata.get_source()"
   ]
  },
  {
   "cell_type": "code",
   "execution_count": 39,
   "metadata": {},
   "outputs": [
    {
     "data": {
      "text/plain": [
       "id                    name\n",
       "--------------------  -------------------------------------------------------------------------------------------------------------------------------\n",
       "HD.HCI.OVRL           Human Capital Index (HCI) (scale 0-1)\n",
       "HD.HCI.OVRL.FE        Human Capital Index (HCI), Female (scale 0-1)\n",
       "HD.HCI.OVRL.LB        Human Capital Index (HCI), Lower Bound (scale 0-1)\n",
       "HD.HCI.OVRL.LB.FE     Human Capital Index (HCI), Female, Lower Bound (scale 0-1)\n",
       "HD.HCI.OVRL.LB.MA     Human Capital Index (HCI), Male, Lower Bound (scale 0-1)\n",
       "HD.HCI.OVRL.MA        Human Capital Index (HCI), Male (scale 0-1)\n",
       "HD.HCI.OVRL.UB        Human Capital Index (HCI), Upper Bound (scale 0-1)\n",
       "HD.HCI.OVRL.UB.FE     Human Capital Index (HCI), Female, Upper Bound (scale 0-1)\n",
       "HD.HCI.OVRL.UB.MA     Human Capital Index (HCI), Male, Upper Bound (scale 0-1)\n",
       "NY.GNP.PCAP.CD        GNI per capita, Atlas method (current US$)\n",
       "SE.ADT.1524.LT.FM.ZS  Literacy rate, youth (ages 15-24), gender parity index (GPI)\n",
       "SE.ADT.1524.LT.MA.ZS  Literacy rate, youth male (% of males ages 15-24)\n",
       "SE.ADT.1524.LT.ZS     Literacy rate, youth total (% of people ages 15-24)\n",
       "SE.ADT.LITR.FE.ZS     Literacy rate, adult female (% of females ages 15 and above)\n",
       "SE.ADT.LITR.MA.ZS     Literacy rate, adult male (% of males ages 15 and above)\n",
       "SE.ADT.LITR.ZS        Literacy rate, adult total (% of people ages 15 and above)\n",
       "SE.ENR.ORPH           Ratio of school attendance of orphans to school attendance of non-orphans ages 10-14\n",
       "SE.PRM.CMPT.FE.ZS     Primary completion rate, female (% of relevant age group)\n",
       "SE.PRM.CMPT.MA.ZS     Primary completion rate, male (% of relevant age group)\n",
       "SE.PRM.CMPT.ZS        Primary completion rate, total (% of relevant age group)\n",
       "SE.PRM.ENRR           School enrollment, primary (% gross)\n",
       "SE.PRM.ENRR.FE        School enrollment, primary, female (% gross)\n",
       "SE.PRM.ENRR.MA        School enrollment, primary, male (% gross)\n",
       "SE.PRM.NENR           School enrollment, primary (% net)\n",
       "SE.PRM.NENR.FE        School enrollment, primary, female (% net)\n",
       "SE.PRM.NENR.MA        School enrollment, primary, male (% net)\n",
       "SE.SEC.ENRR           School enrollment, secondary (% gross)\n",
       "SE.SEC.ENRR.FE        School enrollment, secondary, female (% gross)\n",
       "SE.SEC.ENRR.MA        School enrollment, secondary, male (% gross)\n",
       "SE.SEC.NENR           School enrollment, secondary (% net)\n",
       "SE.SEC.NENR.FE        School enrollment, secondary, female (% net)\n",
       "SE.SEC.NENR.MA        School enrollment, secondary, male (% net)\n",
       "SE.TER.ENRR           School enrollment, tertiary (% gross)\n",
       "SE.TER.ENRR.FE        School enrollment, tertiary, female (% gross)\n",
       "SE.XPD.TOTL.GD.ZS     Government expenditure on education, total (% of GDP)\n",
       "SH.ALC.PCAP.FE.LI     Total alcohol consumption per capita, female (liters of pure alcohol, projected estimates, female 15+ years of age)\n",
       "SH.ALC.PCAP.LI        Total alcohol consumption per capita (liters of pure alcohol, projected estimates, 15+ years of age)\n",
       "SH.ALC.PCAP.MA.LI     Total alcohol consumption per capita, male (liters of pure alcohol, projected estimates, male 15+ years of age)\n",
       "SH.ANM.ALLW.ZS        Prevalence of anemia among women of reproductive age (% of women ages 15-49)\n",
       "SH.ANM.CHLD.ZS        Prevalence of anemia among children (% of children under 5)\n",
       "SH.ANM.NPRG.ZS        Prevalence of anemia among non-pregnant women (% of women ages 15-49)\n",
       "SH.CON.1524.FE.ZS     Condom use, population ages 15-24, female (% of females ages 15-24)\n",
       "SH.CON.1524.MA.ZS     Condom use, population ages 15-24, male (% of males ages 15-24)\n",
       "SH.CON.AIDS.FE.ZS     Condom use with non regular partner, % adults(15-49), female\n",
       "SH.CON.AIDS.MA.ZS     Condom use with non regular partner, % adults(15-49), male\n",
       "SH.DTH.0509           Number of deaths ages 5-9 years\n",
       "SH.DTH.1014           Number of deaths ages 10-14 years\n",
       "SH.DTH.1519           Number of deaths ages 15-19 years\n",
       "SH.DTH.2024           Number of deaths ages 20-24 years\n",
       "SH.DTH.COMM.ZS        Cause of death, by communicable diseases and maternal, prenatal and nutrition conditions (% of total)\n",
       "SH.DTH.IMRT           Number of infant deaths\n",
       "SH.DTH.IMRT.FE        Number of infant deaths, female\n",
       "SH.DTH.IMRT.MA        Number of infant deaths, male\n",
       "SH.DTH.INJR.ZS        Cause of death, by injury (% of total)\n",
       "SH.DTH.MORT           Number of under-five deaths\n",
       "SH.DTH.MORT.FE        Number of under-five deaths, female\n",
       "SH.DTH.MORT.MA        Number of under-five deaths, male\n",
       "SH.DTH.NCOM.ZS        Cause of death, by non-communicable diseases (% of total)\n",
       "SH.DTH.NMRT           Number of neonatal deaths\n",
       "SH.DTH.STLB           Number of stillbirths\n",
       "SH.DYN.0509           Probability of dying among children ages 5-9 years (per 1,000)\n",
       "SH.DYN.1014           Probability of dying among adolescents ages 10-14 years (per 1,000)\n",
       "SH.DYN.1519           Probability of dying among adolescents ages 15-19 years (per 1,000)\n",
       "SH.DYN.2024           Probability of dying among youth ages 20-24 years (per 1,000)\n",
       "SH.DYN.AIDS           Adults (ages 15+) living with HIV\n",
       "SH.DYN.AIDS.DH        AIDS estimated deaths (UNAIDS estimates)\n",
       "SH.DYN.AIDS.FE.ZS     Women's share of population ages 15+ living with HIV (%)\n",
       "SH.DYN.AIDS.ZS        Prevalence of HIV, total (% of population ages 15-49)\n",
       "SH.DYN.MORT           Mortality rate, under-5 (per 1,000 live births)\n",
       "SH.DYN.MORT.FE        Mortality rate, under-5, female (per 1,000 live births)\n",
       "SH.DYN.MORT.MA        Mortality rate, under-5, male (per 1,000 live births)\n",
       "SH.DYN.NCOM.FE.ZS     Mortality from CVD, cancer, diabetes or CRD between exact ages 30 and 70, female (%)\n",
       "SH.DYN.NCOM.MA.ZS     Mortality from CVD, cancer, diabetes or CRD between exact ages 30 and 70, male (%)\n",
       "SH.DYN.NCOM.ZS        Mortality from CVD, cancer, diabetes or CRD between exact ages 30 and 70 (%)\n",
       "SH.DYN.NMRT           Mortality rate, neonatal (per 1,000 live births)\n",
       "SH.DYN.STLB           Stillbirth rate (per 1,000 total births)\n",
       "SH.FPL.SATI.ZS        Demand for family planning satisfied by any methods (% of married women with demand for family planning)\n",
       "SH.FPL.SATM.ZS        Demand for family planning satisfied by modern methods (% of married women with demand for family planning)\n",
       "SH.H2O.BASW.RU.ZS     People using at least basic drinking water services, rural (% of rural population)\n",
       "SH.H2O.BASW.UR.ZS     People using at least basic drinking water services, urban (% of urban population)\n",
       "SH.H2O.BASW.ZS        People using at least basic drinking water services (% of population)\n",
       "SH.H2O.SMDW.RU.ZS     People using safely managed drinking water services, rural (% of rural population)\n",
       "SH.H2O.SMDW.UR.ZS     People using safely managed drinking water services, urban (% of urban population)\n",
       "SH.H2O.SMDW.ZS        People using safely managed drinking water services (% of population)\n",
       "SH.HIV.0014           Children (0-14) living with HIV\n",
       "SH.HIV.1524.FE.ZS     Prevalence of HIV, female (% ages 15-24)\n",
       "SH.HIV.1524.KW.FE.ZS  Comprehensive correct knowledge of HIV/AIDS, ages 15-24, female (2 prevent ways and reject 3 misconceptions)\n",
       "SH.HIV.1524.KW.MA.ZS  Comprehensive correct knowledge of HIV/AIDS, ages 15-24, male (2 prevent ways and reject 3 misconceptions)\n",
       "SH.HIV.1524.MA.ZS     Prevalence of HIV, male (% ages 15-24)\n",
       "SH.HIV.ARTC.ZS        Antiretroviral therapy coverage (% of people living with HIV)\n",
       "SH.HIV.INCD           Adults (ages 15-49) newly infected with HIV\n",
       "SH.HIV.INCD.14        Children (ages 0-14) newly infected with HIV\n",
       "SH.HIV.INCD.50.P3     Incidence of HIV, ages 50+ (per 1,000 uninfected population ages 50+)\n",
       "SH.HIV.INCD.TL        Adults (ages 15+) and children (ages 0-14) newly infected with HIV\n",
       "SH.HIV.INCD.TL.P3     Incidence of HIV, all (per 1,000 uninfected population)\n",
       "SH.HIV.INCD.YG        Young people (15-24) newly infected with HIV\n",
       "SH.HIV.INCD.YG.P3     Incidence of HIV, ages 15-24 (per 1,000 uninfected population ages 15-24)\n",
       "SH.HIV.INCD.ZS        Incidence of HIV, ages 15-49 (per 1,000 uninfected population ages 15-49)\n",
       "SH.HIV.KNOW.FE.ZS     % of females having comprehensive correct knowledge about HIV (2 prevent ways and reject 3 misconceptions)\n",
       "SH.HIV.KNOW.MA.ZS     Comprehensive correct knowledge of HIV/AIDS, ages 15-49, male (2 prevent ways and reject 3 misconceptions)\n",
       "SH.HIV.ORPH           Children orphaned by HIV/AIDS\n",
       "SH.HIV.PMTC.ZS        Antiretroviral therapy coverage for PMTCT (% of pregnant women living with HIV)\n",
       "SH.HIV.TOTL           Adults (ages 15+) and children (0-14 years) living with HIV\n",
       "SH.IMM.HEPB           Immunization, HepB3 (% of one-year-old children)\n",
       "SH.IMM.HIB3           Immunization, Hib3 (% of children ages 12-23 months)\n",
       "SH.IMM.IBCG           Immunization, BCG (% of one-year-old children)\n",
       "SH.IMM.IDPT           Immunization, DPT (% of children ages 12-23 months)\n",
       "SH.IMM.MEA2           Immunization, measles second dose (% of children by the nationally recommended age)\n",
       "SH.IMM.MEAS           Immunization, measles (% of children ages 12-23 months)\n",
       "SH.IMM.POL3           Immunization, Pol3 (% of one-year-old children)\n",
       "SH.MED.BEDS.ZS        Hospital beds (per 1,000 people)\n",
       "SH.MED.CMHW.P3        Community health workers (per 1,000 people)\n",
       "SH.MED.NUMW.P3        Nurses and midwives (per 1,000 people)\n",
       "SH.MED.PHYS.ZS        Physicians (per 1,000 people)\n",
       "SH.MED.SAOP.P5        Specialist surgical workforce (per 100,000 population)\n",
       "SH.MLR.INCD.P3        Incidence of malaria (per 1,000 population at risk)\n",
       "SH.MLR.IPTP.ZS        Intermittent preventive treatment (IPT) of malaria in pregnancy (% of pregnant women)\n",
       "SH.MLR.NETS.ZS        Use of insecticide-treated bed nets (% of under-5 population)\n",
       "SH.MLR.TRET.ZS        Children with fever receiving antimalarial drugs (% of children under age 5 with fever)\n",
       "SH.MMR.DTHS           Number of maternal deaths\n",
       "SH.MMR.LEVE           Length of paid maternity leave (days)\n",
       "SH.MMR.RISK           Lifetime risk of maternal death (1 in: rate varies by country)\n",
       "SH.MMR.RISK.ZS        Lifetime risk of maternal death (%)\n",
       "SH.MMR.WAGE.ZS        Maternal leave benefits (% of wages paid in covered period)\n",
       "SH.PRG.ANEM           Prevalence of anemia among pregnant women (%)\n",
       "SH.PRG.SYPH.ZS        Prevalence of syphilis (% of women attending antenatal care)\n",
       "SH.PRV.SMOK           Prevalence of current tobacco use (% of adults)\n",
       "SH.PRV.SMOK.FE        Prevalence of current tobacco use, females (% of female adults)\n",
       "SH.PRV.SMOK.MA        Prevalence of current tobacco use, males (% of male adults)\n",
       "SH.SGR.CRSK.ZS        Risk of catastrophic expenditure for surgical care (% of people at risk)\n",
       "SH.SGR.IRSK.ZS        Risk of impoverishing expenditure for surgical care (% of people at risk)\n",
       "SH.SGR.PROC.P5        Number of surgical procedures (per 100,000 population)\n",
       "SH.STA.AIRP.FE.P5     Mortality rate attributed to household and ambient air pollution, age-standardized, female (per 100,000 female population)\n",
       "SH.STA.AIRP.MA.P5     Mortality rate attributed to household and ambient air pollution, age-standardized, male (per 100,000 male population)\n",
       "SH.STA.AIRP.P5        Mortality rate attributed to household and ambient air pollution, age-standardized (per 100,000 population)\n",
       "SH.STA.ANV4.ZS        Pregnant women receiving prenatal care of at least four visits (% of pregnant women)\n",
       "SH.STA.ANVC.ZS        Pregnant women receiving prenatal care (%)\n",
       "SH.STA.ARIC.ZS        ARI treatment (% of children under 5 taken to a health provider)\n",
       "SH.STA.BASS.RU.ZS     People using at least basic sanitation services, rural (% of rural population)\n",
       "SH.STA.BASS.UR.ZS     People using at least basic sanitation services, urban (% of urban population)\n",
       "SH.STA.BASS.ZS        People using at least basic sanitation services (% of population)\n",
       "SH.STA.BFED.ZS        Exclusive breastfeeding (% of children under 6 months)\n",
       "SH.STA.BRTC.ZS        Births attended by skilled health staff (% of total)\n",
       "SH.STA.BRTW.ZS        Low-birthweight babies (% of births)\n",
       "SH.STA.DIAB.ZS        Diabetes prevalence (% of population ages 20 to 79)\n",
       "SH.STA.HYGN.RU.ZS     People with basic handwashing facilities including soap and water, rural (% of rural population)\n",
       "SH.STA.HYGN.UR.ZS     People with basic handwashing facilities including soap and water, urban (% of urban population)\n",
       "SH.STA.HYGN.ZS        People with basic handwashing facilities including soap and water (% of population)\n",
       "SH.STA.IYCF.ZS        Infant and young child feeding practices, all 3 IYCF (% children ages 6-23 months)\n",
       "SH.STA.MALN.FE.ZS     Prevalence of underweight, weight for age, female (% of children under 5)\n",
       "SH.STA.MALN.MA.ZS     Prevalence of underweight, weight for age, male (% of children under 5)\n",
       "SH.STA.MALN.ZS        Prevalence of underweight, weight for age (% of children under 5)\n",
       "SH.STA.MALR           Malaria cases reported\n",
       "SH.STA.MMRT           Maternal mortality ratio (modeled estimate, per 100,000 live births)\n",
       "SH.STA.MMRT.NE        Maternal mortality ratio (national estimate, per 100,000 live births)\n",
       "SH.STA.ODFC.RU.ZS     People practicing open defecation, rural (% of rural population)\n",
       "SH.STA.ODFC.UR.ZS     People practicing open defecation, urban (% of urban population)\n",
       "SH.STA.ODFC.ZS        People practicing open defecation (% of population)\n",
       "SH.STA.ORCF.ZS        Diarrhea treatment (% of children under 5 receiving oral rehydration and continued feeding)\n",
       "SH.STA.ORTH           Diarrhea treatment (% of children under 5 who received ORS packet)\n",
       "SH.STA.OWAD.FE.ZS     Prevalence of overweight, female (% of female adults)\n",
       "SH.STA.OWAD.MA.ZS     Prevalence of overweight, male (% of male adults)\n",
       "SH.STA.OWAD.ZS        Prevalence of overweight (% of adults)\n",
       "SH.STA.OWGH.FE.ZS     Prevalence of overweight, weight for height, female (% of children under 5)\n",
       "SH.STA.OWGH.MA.ZS     Prevalence of overweight, weight for height, male (% of children under 5)\n",
       "SH.STA.OWGH.ZS        Prevalence of overweight, weight for height (% of children under 5)\n",
       "SH.STA.PNVC.ZS        Postnatal care coverage (% mothers)\n",
       "SH.STA.POIS.P5        Mortality rate attributed to unintentional poisoning (per 100,000 population)\n",
       "SH.STA.POIS.P5.FE     Mortality rate attributed to unintentional poisoning, female (per 100,000 female population)\n",
       "SH.STA.POIS.P5.MA     Mortality rate attributed to unintentional poisoning, male (per 100,000 male population)\n",
       "SH.STA.SMSS.RU.ZS     People using safely managed sanitation services, rural (% of rural population)\n",
       "SH.STA.SMSS.UR.ZS     People using safely managed sanitation services, urban (% of urban population)\n",
       "SH.STA.SMSS.ZS        People using safely managed sanitation services (% of population)\n",
       "SH.STA.STNT.FE.ZS     Prevalence of stunting, height for age, female (% of children under 5)\n",
       "SH.STA.STNT.MA.ZS     Prevalence of stunting, height for age, male (% of children under 5)\n",
       "SH.STA.STNT.ZS        Prevalence of stunting, height for age (% of children under 5)\n",
       "SH.STA.SUIC.FE.P5     Suicide mortality rate, female (per 100,000 female population)\n",
       "SH.STA.SUIC.MA.P5     Suicide mortality rate, male (per 100,000 male population)\n",
       "SH.STA.SUIC.P5        Suicide mortality rate (per 100,000 population)\n",
       "SH.STA.TRAF.P5        Mortality caused by road traffic injury (per 100,000 people)\n",
       "SH.STA.WASH.P5        Mortality rate attributed to unsafe water, unsafe sanitation and lack of hygiene (per 100,000 population)\n",
       "SH.STA.WAST.FE.ZS     Prevalence of wasting, weight for height, female (% of children under 5)\n",
       "SH.STA.WAST.MA.ZS     Prevalence of wasting, weight for height, male (% of children under 5)\n",
       "SH.STA.WAST.ZS        Prevalence of wasting, weight for height (% of children under 5)\n",
       "SH.SVR.WAST.FE.ZS     Prevalence of severe wasting, weight for height, female (% of children under 5)\n",
       "SH.SVR.WAST.MA.ZS     Prevalence of severe wasting, weight for height, male (% of children under 5)\n",
       "SH.SVR.WAST.ZS        Prevalence of severe wasting, weight for height (% of children under 5)\n",
       "SH.TBS.CURE.ZS        Tuberculosis treatment success rate (% of new cases)\n",
       "SH.TBS.DTEC.ZS        Tuberculosis case detection rate (%, all forms)\n",
       "SH.TBS.INCD           Incidence of tuberculosis (per 100,000 people)\n",
       "SH.TBS.MORT           Tuberculosis death rate (per 100,000 people)\n",
       "SH.UHC.NOP1.CG        Increase in poverty gap at $1.90 ($ 2011 PPP) poverty line due to out-of-pocket health care expenditure (USD)\n",
       "SH.UHC.NOP1.TO        Number of people pushed below the $1.90 ($ 2011 PPP) poverty line by out-of-pocket health care expenditure\n",
       "SH.UHC.NOP1.ZG        Increase in poverty gap at $1.90 ($ 2011 PPP) poverty line due to out-of-pocket health care expenditure (% of poverty line)\n",
       "SH.UHC.NOP1.ZS        Proportion of population pushed below the $1.90 ($ 2011 PPP) poverty line by out-of-pocket health care expenditure (%)\n",
       "SH.UHC.NOP2.CG        Increase in poverty gap at $3.20 ($ 2011 PPP) poverty line due to out-of-pocket health care expenditure (USD)\n",
       "SH.UHC.NOP2.TO        Number of people pushed below the $3.20 ($ 2011 PPP) poverty line by out-of-pocket health care expenditure\n",
       "SH.UHC.NOP2.ZG        Increase in poverty gap at $3.20 ($ 2011 PPP) poverty line due to out-of-pocket health care expenditure (% of poverty line)\n",
       "SH.UHC.NOP2.ZS        Proportion of population pushed below the $3.20 ($ 2011 PPP) poverty line by out-of-pocket health care expenditure (%)\n",
       "SH.UHC.OOPC.10.TO     Number of people spending more than 10% of household consumption or income on out-of-pocket health care expenditure\n",
       "SH.UHC.OOPC.10.ZS     Proportion of population spending more than 10% of household consumption or income on out-of-pocket health care expenditure (%)\n",
       "SH.UHC.OOPC.25.TO     Number of people spending more than 25% of household consumption or income on out-of-pocket health care expenditure\n",
       "SH.UHC.OOPC.25.ZS     Proportion of population spending more than 25% of household consumption or income on out-of-pocket health care expenditure (%)\n",
       "SH.UHC.SRVS.CV.XD     UHC service coverage index\n",
       "SH.VAC.TTNS.ZS        Newborns protected against tetanus (%)\n",
       "SH.XPD.CHEX.GD.ZS     Current health expenditure (% of GDP)\n",
       "SH.XPD.CHEX.PC.CD     Current health expenditure per capita (current US$)\n",
       "SH.XPD.CHEX.PP.CD     Current health expenditure per capita, PPP (current international $)\n",
       "SH.XPD.EHEX.CH.ZS     External health expenditure (% of current health expenditure)\n",
       "SH.XPD.EHEX.EH.ZS     External health expenditure channeled through government (% of external health expenditure)\n",
       "SH.XPD.EHEX.PC.CD     External health expenditure per capita (current US$)\n",
       "SH.XPD.EHEX.PP.CD     External health expenditure per capita, PPP (current international $)\n",
       "SH.XPD.GHED.CH.ZS     Domestic general government health expenditure (% of current health expenditure)\n",
       "SH.XPD.GHED.GD.ZS     Domestic general government health expenditure (% of GDP)\n",
       "SH.XPD.GHED.GE.ZS     Domestic general government health expenditure (% of general government expenditure)\n",
       "SH.XPD.GHED.PC.CD     Domestic general government health expenditure per capita (current US$)\n",
       "SH.XPD.GHED.PP.CD     Domestic general government health expenditure per capita, PPP (current international $)\n",
       "SH.XPD.KHEX.GD.ZS     Capital health expenditure (% of GDP)\n",
       "SH.XPD.OOPC.CH.ZS     Out-of-pocket expenditure (% of current health expenditure)\n",
       "SH.XPD.OOPC.PC.CD     Out-of-pocket expenditure per capita (current US$)\n",
       "SH.XPD.OOPC.PP.CD     Out-of-pocket expenditure per capita, PPP (current international $)\n",
       "SH.XPD.PVTD.CH.ZS     Domestic private health expenditure (% of current health expenditure)\n",
       "SH.XPD.PVTD.PC.CD     Domestic private health expenditure per capita (current US$)\n",
       "SH.XPD.PVTD.PP.CD     Domestic private health expenditure per capita, PPP (current international $)\n",
       "SI.POV.NAHC           Poverty headcount ratio at national poverty lines (% of population)\n",
       "SI.POV.RUHC           Rural poverty headcount ratio at national poverty lines (% of rural population)\n",
       "SI.POV.URHC           Urban poverty headcount ratio at national poverty lines (% of urban population)\n",
       "SL.EMP.INSV.FE.ZS     Share of women in wage employment in the nonagricultural sector (% of total nonagricultural employment)\n",
       "SL.TLF.TOTL.FE.ZS     Labor force, female (% of total labor force)\n",
       "SL.TLF.TOTL.IN        Labor force, total\n",
       "SL.UEM.TOTL.FE.ZS     Unemployment, female (% of female labor force) (modeled ILO estimate)\n",
       "SL.UEM.TOTL.MA.ZS     Unemployment, male (% of male labor force) (modeled ILO estimate)\n",
       "SL.UEM.TOTL.ZS        Unemployment, total (% of total labor force) (modeled ILO estimate)\n",
       "SM.POP.NETM           Net migration\n",
       "SN.ITK.DEFC           Number of people who are undernourished\n",
       "SN.ITK.DEFC.ZS        Prevalence of undernourishment (% of population)\n",
       "SN.ITK.SALT.ZS        Consumption of iodized salt (% of households)\n",
       "SN.ITK.VITA.ZS        Vitamin A supplementation coverage rate (% of children ages 6-59 months)\n",
       "SP.ADO.TFRT           Adolescent fertility rate (births per 1,000 women ages 15-19)\n",
       "SP.DYN.AMRT.FE        Mortality rate, adult, female (per 1,000 female adults)\n",
       "SP.DYN.AMRT.MA        Mortality rate, adult, male (per 1,000 male adults)\n",
       "SP.DYN.CBRT.IN        Birth rate, crude (per 1,000 people)\n",
       "SP.DYN.CDRT.IN        Death rate, crude (per 1,000 people)\n",
       "SP.DYN.CONM.ZS        Contraceptive prevalence, modern methods (% of women ages 15-49)\n",
       "SP.DYN.CONU.ZS        Contraceptive prevalence, any methods (% of women ages 15-49)\n",
       "SP.DYN.IMRT.FE.IN     Mortality rate, infant, female (per 1,000 live births)\n",
       "SP.DYN.IMRT.IN        Mortality rate, infant (per 1,000 live births)\n",
       "SP.DYN.IMRT.MA.IN     Mortality rate, infant, male (per 1,000 live births)\n",
       "SP.DYN.LE00.FE.IN     Life expectancy at birth, female (years)\n",
       "SP.DYN.LE00.IN        Life expectancy at birth, total (years)\n",
       "SP.DYN.LE00.MA.IN     Life expectancy at birth, male (years)\n",
       "SP.DYN.SMAM.FE        Age at first marriage, female\n",
       "SP.DYN.SMAM.MA        Age at first marriage, male\n",
       "SP.DYN.TFRT.IN        Fertility rate, total (births per woman)\n",
       "SP.DYN.TO65.FE.ZS     Survival to age 65, female (% of cohort)\n",
       "SP.DYN.TO65.MA.ZS     Survival to age 65, male (% of cohort)\n",
       "SP.DYN.WFRT           Wanted fertility rate (births per woman)\n",
       "SP.HOU.FEMA.ZS        Female headed households (% of households with a female head)\n",
       "SP.M15.2024.FE.ZS     Women who were first married by age 15 (% of women ages 20-24)\n",
       "SP.M18.2024.FE.ZS     Women who were first married by age 18 (% of women ages 20-24)\n",
       "SP.MTR.1519.ZS        Teenage mothers (% of women ages 15-19 who have had children or are currently pregnant)\n",
       "SP.POP.0004.FE        Population ages 00-04, female\n",
       "SP.POP.0004.FE.5Y     Population ages 00-04, female (% of female population)\n",
       "SP.POP.0004.MA        Population ages 00-04, male\n",
       "SP.POP.0004.MA.5Y     Population ages 00-04, male (% of male population)\n",
       "SP.POP.0014.FE.IN     Population ages 0-14, female\n",
       "SP.POP.0014.FE.ZS     Population ages 0-14, female (% of female population)\n",
       "SP.POP.0014.MA.IN     Population ages 0-14, male\n",
       "SP.POP.0014.MA.ZS     Population ages 0-14, male (% of male population)\n",
       "SP.POP.0014.TO        Population ages 0-14, total\n",
       "SP.POP.0014.TO.ZS     Population ages 0-14 (% of total population)\n",
       "SP.POP.0509.FE        Population ages 05-09, female\n",
       "SP.POP.0509.FE.5Y     Population ages 05-09, female (% of female population)\n",
       "SP.POP.0509.MA        Population ages 05-09, male\n",
       "SP.POP.0509.MA.5Y     Population ages 05-09, male (% of male population)\n",
       "SP.POP.1014.FE        Population ages 10-14, female\n",
       "SP.POP.1014.FE.5Y     Population ages 10-14, female (% of female population)\n",
       "SP.POP.1014.MA        Population ages 10-14, male\n",
       "SP.POP.1014.MA.5Y     Population ages 10-14, male (% of male population)\n",
       "SP.POP.1519.FE        Population ages 15-19, female\n",
       "SP.POP.1519.FE.5Y     Population ages 15-19, female (% of female population)\n",
       "SP.POP.1519.MA        Population ages 15-19, male\n",
       "SP.POP.1519.MA.5Y     Population ages 15-19, male (% of male population)\n",
       "SP.POP.1564.FE.IN     Population ages 15-64, female\n",
       "SP.POP.1564.FE.ZS     Population ages 15-64, female (% of female population)\n",
       "SP.POP.1564.MA.IN     Population ages 15-64, male\n",
       "SP.POP.1564.MA.ZS     Population ages 15-64, male (% of male population)\n",
       "SP.POP.1564.TO        Population ages 15-64, total\n",
       "SP.POP.1564.TO.ZS     Population ages 15-64 (% of total population)\n",
       "SP.POP.2024.FE        Population ages 20-24, female\n",
       "SP.POP.2024.FE.5Y     Population ages 20-24, female (% of female population)\n",
       "SP.POP.2024.MA        Population ages 20-24, male\n",
       "SP.POP.2024.MA.5Y     Population ages 20-24, male (% of male population)\n",
       "SP.POP.2529.FE        Population ages 25-29, female\n",
       "SP.POP.2529.FE.5Y     Population ages 25-29, female (% of female population)\n",
       "SP.POP.2529.MA        Population ages 25-29, male\n",
       "SP.POP.2529.MA.5Y     Population ages 25-29, male (% of male population)\n",
       "SP.POP.3034.FE        Population ages 30-34, female\n",
       "SP.POP.3034.FE.5Y     Population ages 30-34, female (% of female population)\n",
       "SP.POP.3034.MA        Population ages 30-34, male\n",
       "SP.POP.3034.MA.5Y     Population ages 30-34, male (% of male population)\n",
       "SP.POP.3539.FE        Population ages 35-39, female\n",
       "SP.POP.3539.FE.5Y     Population ages 35-39, female (% of female population)\n",
       "SP.POP.3539.MA        Population ages 35-39, male\n",
       "SP.POP.3539.MA.5Y     Population ages 35-39, male (% of male population)\n",
       "SP.POP.4044.FE        Population ages 40-44, female\n",
       "SP.POP.4044.FE.5Y     Population ages 40-44, female (% of female population)\n",
       "SP.POP.4044.MA        Population ages 40-44, male\n",
       "SP.POP.4044.MA.5Y     Population ages 40-44, male (% of male population)\n",
       "SP.POP.4549.FE        Population ages 45-49, female\n",
       "SP.POP.4549.FE.5Y     Population ages 45-49, female (% of female population)\n",
       "SP.POP.4549.MA        Population ages 45-49, male\n",
       "SP.POP.4549.MA.5Y     Population ages 45-49, male (% of male population)\n",
       "SP.POP.5054.FE        Population ages 50-54, female\n",
       "SP.POP.5054.FE.5Y     Population ages 50-54, female (% of female population)\n",
       "SP.POP.5054.MA        Population ages 50-54, male\n",
       "SP.POP.5054.MA.5Y     Population ages 50-54, male (% of male population)\n",
       "SP.POP.5559.FE        Population ages 55-59, female\n",
       "SP.POP.5559.FE.5Y     Population ages 55-59, female (% of female population)\n",
       "SP.POP.5559.MA        Population ages 55-59, male\n",
       "SP.POP.5559.MA.5Y     Population ages 55-59, male (% of male population)\n",
       "SP.POP.6064.FE        Population ages 60-64, female\n",
       "SP.POP.6064.FE.5Y     Population ages 60-64, female (% of female population)\n",
       "SP.POP.6064.MA        Population ages 60-64, male\n",
       "SP.POP.6064.MA.5Y     Population ages 60-64, male (% of male population)\n",
       "SP.POP.6569.FE        Population ages 65-69, female\n",
       "SP.POP.6569.FE.5Y     Population ages 65-69, female (% of female population)\n",
       "SP.POP.6569.MA        Population ages 65-69, male\n",
       "SP.POP.6569.MA.5Y     Population ages 65-69, male (% of male population)\n",
       "SP.POP.65UP.FE.IN     Population ages 65 and above, female\n",
       "SP.POP.65UP.FE.ZS     Population ages 65 and above, female (% of female population)\n",
       "SP.POP.65UP.MA.IN     Population ages 65 and above, male\n",
       "SP.POP.65UP.MA.ZS     Population ages 65 and above, male (% of male population)\n",
       "SP.POP.65UP.TO        Population ages 65 and above, total\n",
       "SP.POP.65UP.TO.ZS     Population ages 65 and above (% of total population)\n",
       "SP.POP.7074.FE        Population ages 70-74, female\n",
       "SP.POP.7074.FE.5Y     Population ages 70-74, female (% of female population)\n",
       "SP.POP.7074.MA        Population ages 70-74, male\n",
       "SP.POP.7074.MA.5Y     Population ages 70-74, male (% of male population)\n",
       "SP.POP.7579.FE        Population ages 75-79, female\n",
       "SP.POP.7579.FE.5Y     Population ages 75-79, female (% of female population)\n",
       "SP.POP.7579.MA        Population ages 75-79, male\n",
       "SP.POP.7579.MA.5Y     Population ages 75-79, male (% of male population)\n",
       "SP.POP.80UP.FE        Population ages 80 and above, female\n",
       "SP.POP.80UP.FE.5Y     Population ages 80 and above, female (% of female population)\n",
       "SP.POP.80UP.MA        Population ages 80 and above, male\n",
       "SP.POP.80UP.MA.5Y     Population ages 80 and above, male (% of male population)\n",
       "SP.POP.AG00.FE.IN     Age population, age 00, female, interpolated\n",
       "SP.POP.AG00.MA.IN     Age population, age 00, male, interpolated\n",
       "SP.POP.AG01.FE.IN     Age population, age 01, female, interpolated\n",
       "SP.POP.AG01.MA.IN     Age population, age 01, male, interpolated\n",
       "SP.POP.AG02.FE.IN     Age population, age 02, female, interpolated\n",
       "SP.POP.AG02.MA.IN     Age population, age 02, male, interpolated\n",
       "SP.POP.AG03.FE.IN     Age population, age 03, female, interpolated\n",
       "SP.POP.AG03.MA.IN     Age population, age 03, male, interpolated\n",
       "SP.POP.AG04.FE.IN     Age population, age 04, female, interpolated\n",
       "SP.POP.AG04.MA.IN     Age population, age 04, male, interpolated\n",
       "SP.POP.AG05.FE.IN     Age population, age 05, female, interpolated\n",
       "SP.POP.AG05.MA.IN     Age population, age 05, male, interpolated\n",
       "SP.POP.AG06.FE.IN     Age population, age 06, female, interpolated\n",
       "SP.POP.AG06.MA.IN     Age population, age 06, male, interpolated\n",
       "SP.POP.AG07.FE.IN     Age population, age 07, female, interpolated\n",
       "SP.POP.AG07.MA.IN     Age population, age 07, male, interpolated\n",
       "SP.POP.AG08.FE.IN     Age population, age 08, female, interpolated\n",
       "SP.POP.AG08.MA.IN     Age population, age 08, male, interpolated\n",
       "SP.POP.AG09.FE.IN     Age population, age 09, female, interpolated\n",
       "SP.POP.AG09.MA.IN     Age population, age 09, male, interpolated\n",
       "SP.POP.AG10.FE.IN     Age population, age 10, female, interpolated\n",
       "SP.POP.AG10.MA.IN     Age population, age 10, male, interpolated\n",
       "SP.POP.AG11.FE.IN     Age population, age 11, female, interpolated\n",
       "SP.POP.AG11.MA.IN     Age population, age 11, male, interpolated\n",
       "SP.POP.AG12.FE.IN     Age population, age 12, female, interpolated\n",
       "SP.POP.AG12.MA.IN     Age population, age 12, male, interpolated\n",
       "SP.POP.AG13.FE.IN     Age population, age 13, female, interpolated\n",
       "SP.POP.AG13.MA.IN     Age population, age 13, male, interpolated\n",
       "SP.POP.AG14.FE.IN     Age population, age 14, female, interpolated\n",
       "SP.POP.AG14.MA.IN     Age population, age 14, male, interpolated\n",
       "SP.POP.AG15.FE.IN     Age population, age 15, female, interpolated\n",
       "SP.POP.AG15.MA.IN     Age population, age 15, male, interpolated\n",
       "SP.POP.AG16.FE.IN     Age population, age 16, female, interpolated\n",
       "SP.POP.AG16.MA.IN     Age population, age 16, male, interpolated\n",
       "SP.POP.AG17.FE.IN     Age population, age 17, female, interpolated\n",
       "SP.POP.AG17.MA.IN     Age population, age 17, male, interpolated\n",
       "SP.POP.AG18.FE.IN     Age population, age 18, female, interpolated\n",
       "SP.POP.AG18.MA.IN     Age population, age 18, male, interpolated\n",
       "SP.POP.AG19.FE.IN     Age population, age 19, female, interpolated\n",
       "SP.POP.AG19.MA.IN     Age population, age 19, male, interpolated\n",
       "SP.POP.AG20.FE.IN     Age population, age 20, female, interpolated\n",
       "SP.POP.AG20.MA.IN     Age population, age 20, male, interpolated\n",
       "SP.POP.AG21.FE.IN     Age population, age 21, female, interpolated\n",
       "SP.POP.AG21.MA.IN     Age population, age 21, male, interpolated\n",
       "SP.POP.AG22.FE.IN     Age population, age 22, female, interpolated\n",
       "SP.POP.AG22.MA.IN     Age population, age 22, male, interpolated\n",
       "SP.POP.AG23.FE.IN     Age population, age 23, female, interpolated\n",
       "SP.POP.AG23.MA.IN     Age population, age 23, male, interpolated\n",
       "SP.POP.AG24.FE.IN     Age population, age 24, female, interpolated\n",
       "SP.POP.AG24.MA.IN     Age population, age 24, male, interpolated\n",
       "SP.POP.AG25.FE.IN     Age population, age 25, female, interpolated\n",
       "SP.POP.AG25.MA.IN     Age population, age 25, male, interpolated\n",
       "SP.POP.BRTH.MF        Sex ratio at birth (male births per female births)\n",
       "SP.POP.DPND           Age dependency ratio (% of working-age population)\n",
       "SP.POP.DPND.OL        Age dependency ratio, old (% of working-age population)\n",
       "SP.POP.DPND.YG        Age dependency ratio, young (% of working-age population)\n",
       "SP.POP.GROW           Population growth (annual %)\n",
       "SP.POP.TOTL           Population, total\n",
       "SP.POP.TOTL.FE.IN     Population, female\n",
       "SP.POP.TOTL.FE.ZS     Population, female (% of total population)\n",
       "SP.POP.TOTL.MA.IN     Population, male\n",
       "SP.POP.TOTL.MA.ZS     Population, male (% of total population)\n",
       "SP.REG.BRTH.FE.ZS     Completeness of birth registration, female (%)\n",
       "SP.REG.BRTH.MA.ZS     Completeness of birth registration, male (%)\n",
       "SP.REG.BRTH.RU.ZS     Completeness of birth registration, rural (%)\n",
       "SP.REG.BRTH.UR.ZS     Completeness of birth registration, urban (%)\n",
       "SP.REG.BRTH.ZS        Completeness of birth registration (%)\n",
       "SP.REG.DTHS.ZS        Completeness of death registration with cause-of-death information (%)\n",
       "SP.RUR.TOTL           Rural population\n",
       "SP.RUR.TOTL.ZG        Rural population growth (annual %)\n",
       "SP.RUR.TOTL.ZS        Rural population (% of total population)\n",
       "SP.URB.GROW           Urban population growth (annual %)\n",
       "SP.URB.TOTL           Urban population\n",
       "SP.URB.TOTL.IN.ZS     Urban population (% of total population)\n",
       "SP.UWT.TFRT           Unmet need for contraception (% of married women ages 15-49)"
      ]
     },
     "execution_count": 39,
     "metadata": {},
     "output_type": "execute_result"
    }
   ],
   "source": [
    "SOURCE=16\n",
    "indicators = wbdata.get_indicator(source=SOURCE)\n",
    "indicators"
   ]
  },
  {
   "cell_type": "code",
   "execution_count": 106,
   "metadata": {},
   "outputs": [
    {
     "data": {
      "text/html": [
       "<div>\n",
       "<style scoped>\n",
       "    .dataframe tbody tr th:only-of-type {\n",
       "        vertical-align: middle;\n",
       "    }\n",
       "\n",
       "    .dataframe tbody tr th {\n",
       "        vertical-align: top;\n",
       "    }\n",
       "\n",
       "    .dataframe thead th {\n",
       "        text-align: right;\n",
       "    }\n",
       "</style>\n",
       "<table border=\"1\" class=\"dataframe\">\n",
       "  <thead>\n",
       "    <tr style=\"text-align: right;\">\n",
       "      <th></th>\n",
       "      <th>Mortality rate, under-5 (per 1,000 live births)</th>\n",
       "      <th>Mortality rate, under-5, female (per 1,000 live births)</th>\n",
       "      <th>Mortality rate, under-5, male (per 1,000 live births)</th>\n",
       "    </tr>\n",
       "    <tr>\n",
       "      <th>year</th>\n",
       "      <th></th>\n",
       "      <th></th>\n",
       "      <th></th>\n",
       "    </tr>\n",
       "  </thead>\n",
       "  <tbody>\n",
       "    <tr>\n",
       "      <th>2018</th>\n",
       "      <td>70170.0</td>\n",
       "      <td>8.0</td>\n",
       "      <td>9.0</td>\n",
       "    </tr>\n",
       "    <tr>\n",
       "      <th>2017</th>\n",
       "      <td>77398.0</td>\n",
       "      <td>8.6</td>\n",
       "      <td>9.7</td>\n",
       "    </tr>\n",
       "    <tr>\n",
       "      <th>2016</th>\n",
       "      <td>85305.0</td>\n",
       "      <td>9.3</td>\n",
       "      <td>10.5</td>\n",
       "    </tr>\n",
       "    <tr>\n",
       "      <th>2015</th>\n",
       "      <td>93912.0</td>\n",
       "      <td>10.0</td>\n",
       "      <td>11.4</td>\n",
       "    </tr>\n",
       "    <tr>\n",
       "      <th>2014</th>\n",
       "      <td>103120.0</td>\n",
       "      <td>10.8</td>\n",
       "      <td>12.3</td>\n",
       "    </tr>\n",
       "  </tbody>\n",
       "</table>\n",
       "</div>"
      ],
      "text/plain": [
       "      Mortality rate, under-5 (per 1,000 live births)  \\\n",
       "year                                                    \n",
       "2018                                          70170.0   \n",
       "2017                                          77398.0   \n",
       "2016                                          85305.0   \n",
       "2015                                          93912.0   \n",
       "2014                                         103120.0   \n",
       "\n",
       "      Mortality rate, under-5, female (per 1,000 live births)  \\\n",
       "year                                                            \n",
       "2018                                                8.0         \n",
       "2017                                                8.6         \n",
       "2016                                                9.3         \n",
       "2015                                               10.0         \n",
       "2014                                               10.8         \n",
       "\n",
       "      Mortality rate, under-5, male (per 1,000 live births)  \n",
       "year                                                         \n",
       "2018                                                9.0      \n",
       "2017                                                9.7      \n",
       "2016                                               10.5      \n",
       "2015                                               11.4      \n",
       "2014                                               12.3      "
      ]
     },
     "execution_count": 106,
     "metadata": {},
     "output_type": "execute_result"
    }
   ],
   "source": [
    "chn_fr = wbdata.get_dataframe({'SH.DTH.NMRT':'Mortality rate, under-5 (per 1,000 live births)',\n",
    "                              'SH.DYN.MORT.FE':'Mortality rate, under-5, female (per 1,000 live births)',\n",
    "                              'SH.DYN.MORT.MA':'Mortality rate, under-5, male (per 1,000 live births)'}, country='CHN')\n",
    "chn_fr.index = chn_fr.index.astype(int)\n",
    "chn_fr.index = chn_fr.index.rename('year')\n",
    "chn_fr = chn_fr.drop([2019, 2020])\n",
    "chn_fr.head()"
   ]
  },
  {
   "cell_type": "code",
   "execution_count": 108,
   "metadata": {},
   "outputs": [
    {
     "data": {
      "image/png": "[encoded data removed]",
      "text/plain": [
       "<Figure size 846x594 with 1 Axes>"
      ]
     },
     "metadata": {
      "needs_background": "light"
     },
     "output_type": "display_data"
    }
   ],
   "source": [
    "fig = plt.figure(figsize=(11.75,8.25))\n",
    "ax = plt.axes()\n",
    "\n",
    "\n",
    "plt.plot(chn_fr.index, chn_fr.iloc[:, 1], color='tomato')\n",
    "plt.plot(chn_fr.index, chn_fr.iloc[:, 2], color='dodgerblue')\n",
    "\n",
    "ax.legend(chn_fr.columns[1:])\n",
    "plt.xlabel('year')\n",
    "plt.ylabel('Mortality rate, under-5 (per 1,000 live births)')\n",
    "plt.title('Under-5 mortality rates in China, 1960-2018', fontdict={'fontsize':14})\n",
    "plt.show();"
   ]
  },
  {
   "cell_type": "code",
   "execution_count": 114,
   "metadata": {},
   "outputs": [
    {
     "data": {
      "text/html": [
       "<div>\n",
       "<style scoped>\n",
       "    .dataframe tbody tr th:only-of-type {\n",
       "        vertical-align: middle;\n",
       "    }\n",
       "\n",
       "    .dataframe tbody tr th {\n",
       "        vertical-align: top;\n",
       "    }\n",
       "\n",
       "    .dataframe thead th {\n",
       "        text-align: right;\n",
       "    }\n",
       "</style>\n",
       "<table border=\"1\" class=\"dataframe\">\n",
       "  <thead>\n",
       "    <tr style=\"text-align: right;\">\n",
       "      <th></th>\n",
       "      <th>Population, female</th>\n",
       "      <th>Population, male</th>\n",
       "      <th>Population ages 00-04, female</th>\n",
       "      <th>Population ages 00-04, male</th>\n",
       "    </tr>\n",
       "    <tr>\n",
       "      <th>year</th>\n",
       "      <th></th>\n",
       "      <th></th>\n",
       "      <th></th>\n",
       "      <th></th>\n",
       "    </tr>\n",
       "  </thead>\n",
       "  <tbody>\n",
       "    <tr>\n",
       "      <th>2019</th>\n",
       "      <td>680596325.0</td>\n",
       "      <td>717118675.0</td>\n",
       "      <td>38930156.0</td>\n",
       "      <td>43971560.0</td>\n",
       "    </tr>\n",
       "    <tr>\n",
       "      <th>2018</th>\n",
       "      <td>677972245.0</td>\n",
       "      <td>714757755.0</td>\n",
       "      <td>39307468.0</td>\n",
       "      <td>44502954.0</td>\n",
       "    </tr>\n",
       "    <tr>\n",
       "      <th>2017</th>\n",
       "      <td>674707818.0</td>\n",
       "      <td>711687182.0</td>\n",
       "      <td>39542519.0</td>\n",
       "      <td>44885574.0</td>\n",
       "    </tr>\n",
       "    <tr>\n",
       "      <th>2016</th>\n",
       "      <td>670780903.0</td>\n",
       "      <td>707884097.0</td>\n",
       "      <td>39596016.0</td>\n",
       "      <td>45125907.0</td>\n",
       "    </tr>\n",
       "    <tr>\n",
       "      <th>2015</th>\n",
       "      <td>667009225.0</td>\n",
       "      <td>704210775.0</td>\n",
       "      <td>39474973.0</td>\n",
       "      <td>45261623.0</td>\n",
       "    </tr>\n",
       "  </tbody>\n",
       "</table>\n",
       "</div>"
      ],
      "text/plain": [
       "      Population, female  Population, male  Population ages 00-04, female  \\\n",
       "year                                                                        \n",
       "2019         680596325.0       717118675.0                     38930156.0   \n",
       "2018         677972245.0       714757755.0                     39307468.0   \n",
       "2017         674707818.0       711687182.0                     39542519.0   \n",
       "2016         670780903.0       707884097.0                     39596016.0   \n",
       "2015         667009225.0       704210775.0                     39474973.0   \n",
       "\n",
       "      Population ages 00-04, male  \n",
       "year                               \n",
       "2019                   43971560.0  \n",
       "2018                   44502954.0  \n",
       "2017                   44885574.0  \n",
       "2016                   45125907.0  \n",
       "2015                   45261623.0  "
      ]
     },
     "execution_count": 114,
     "metadata": {},
     "output_type": "execute_result"
    }
   ],
   "source": [
    "chn_pop = wbdata.get_dataframe({'SP.POP.TOTL.FE.IN':'Population, female',\n",
    "                               'SP.POP.TOTL.MA.IN':'Population, male',\n",
    "                               'SP.POP.0004.FE':'Population ages 00-04, female',\n",
    "                               'SP.POP.0004.MA':'Population ages 00-04, male'}, country='CHN')\n",
    "chn_pop.index = chn_pop.index.astype(int)\n",
    "chn_pop.index = chn_pop.index.rename('year')\n",
    "chn_pop.drop([2020]).head()"
   ]
  },
  {
   "cell_type": "code",
   "execution_count": 123,
   "metadata": {},
   "outputs": [
    {
     "data": {
      "image/png": "[encoded data removed]",
      "text/plain": [
       "<Figure size 846x594 with 1 Axes>"
      ]
     },
     "metadata": {
      "needs_background": "light"
     },
     "output_type": "display_data"
    }
   ],
   "source": [
    "fig = plt.figure(figsize=(11.75,8.25))\n",
    "ax = plt.axes()\n",
    "\n",
    "\n",
    "plt.plot(chn_pop.index, chn_pop.iloc[:, 2], color='tomato')\n",
    "plt.plot(chn_pop.index, chn_pop.iloc[:, 3], color='dodgerblue')\n",
    "\n",
    "ax.legend(chn_pop.columns[2:])\n",
    "plt.xlabel('year')\n",
    "plt.ylabel('Population (hundreds of millions)')\n",
    "plt.title('Tracking under-5 population in China over time', fontdict={'fontsize':14})\n",
    "plt.show();"
   ]
  },
  {
   "cell_type": "code",
   "execution_count": null,
   "metadata": {},
   "outputs": [],
   "source": []
  }
 ],
 "metadata": {
  "history": [
   {
    "code": "!pip install wbdata\n\nimport pandas as pd\nimport wbdata\nimport numpy as np\nimport re \nimport seaborn as sns\nimport matplotlib.pyplot as plt\nfrom matplotlib import animation as ani\nimport matplotlib.patches as mpatches",
    "id": "1cff6896d6484ce8afd8c01fd784a4ea",
    "idx": 0,
    "time": "2021-02-17T10:49:42.376Z",
    "type": "execution"
   },
   {
    "code": "wbdata.get_source()",
    "id": "8bc160dd6f8b47ef8adeefc14aada9ca",
    "idx": 1,
    "time": "2021-02-17T10:49:49.732Z",
    "type": "execution"
   },
   {
    "id": "1cff6896d6484ce8afd8c01fd784a4ea",
    "time": "2021-02-17T10:49:52.446Z",
    "type": "completion"
   },
   {
    "id": "8bc160dd6f8b47ef8adeefc14aada9ca",
    "time": "2021-02-17T10:49:52.478Z",
    "type": "completion"
   },
   {
    "code": "SOURCE=40\nwbdata.get_indicators(source=SOURCE)",
    "id": "9043db9a0d97451fa474eb92d308f1a8",
    "idx": 2,
    "time": "2021-02-17T10:50:11.501Z",
    "type": "execution"
   },
   {
    "id": "9043db9a0d97451fa474eb92d308f1a8",
    "time": "2021-02-17T10:50:12.027Z",
    "type": "completion"
   },
   {
    "code": "SOURCE=40\nwbdata.get_indicator(source=SOURCE)",
    "id": "9043db9a0d97451fa474eb92d308f1a8",
    "idx": 2,
    "time": "2021-02-17T10:50:16.891Z",
    "type": "execution"
   },
   {
    "id": "9043db9a0d97451fa474eb92d308f1a8",
    "time": "2021-02-17T10:50:17.040Z",
    "type": "completion"
   },
   {
    "code": "SOURCE=16\nwbdata.get_indicator(source=SOURCE)",
    "id": "9043db9a0d97451fa474eb92d308f1a8",
    "idx": 2,
    "time": "2021-02-17T10:50:28.271Z",
    "type": "execution"
   },
   {
    "id": "9043db9a0d97451fa474eb92d308f1a8",
    "time": "2021-02-17T10:50:31.325Z",
    "type": "completion"
   },
   {
    "code": "wbdata.get_dataframe(indicators, country='CHN')",
    "id": "33d9b787a54443b48171b23064536c17",
    "idx": 3,
    "time": "2021-02-17T10:51:47.332Z",
    "type": "execution"
   },
   {
    "id": "33d9b787a54443b48171b23064536c17",
    "time": "2021-02-17T10:51:47.424Z",
    "type": "completion"
   },
   {
    "code": "SOURCE=16\nindicators = wbdata.get_indicator(source=SOURCE)",
    "id": "9043db9a0d97451fa474eb92d308f1a8",
    "idx": 2,
    "time": "2021-02-17T10:51:50.522Z",
    "type": "execution"
   },
   {
    "id": "9043db9a0d97451fa474eb92d308f1a8",
    "time": "2021-02-17T10:51:50.605Z",
    "type": "completion"
   },
   {
    "code": "wbdata.get_dataframe(indicators, country='CHN')",
    "id": "33d9b787a54443b48171b23064536c17",
    "idx": 3,
    "time": "2021-02-17T10:51:51.282Z",
    "type": "execution"
   },
   {
    "id": "33d9b787a54443b48171b23064536c17",
    "time": "2021-02-17T10:51:51.416Z",
    "type": "completion"
   },
   {
    "code": "SOURCE=16\nindicators = wbdata.get_indicator(source=SOURCE)\nindicators",
    "id": "9043db9a0d97451fa474eb92d308f1a8",
    "idx": 2,
    "time": "2021-02-17T10:53:21.123Z",
    "type": "execution"
   },
   {
    "id": "9043db9a0d97451fa474eb92d308f1a8",
    "time": "2021-02-17T10:53:21.417Z",
    "type": "completion"
   },
   {
    "code": "wbdata.get_dataframe({'SP.DYN.CONU.ZS':'Contraceptive prevalence, any methods (% of women ages 15-49)'}, country='CHN')",
    "id": "33d9b787a54443b48171b23064536c17",
    "idx": 3,
    "time": "2021-02-17T10:54:27.284Z",
    "type": "execution"
   },
   {
    "id": "33d9b787a54443b48171b23064536c17",
    "time": "2021-02-17T10:54:28.931Z",
    "type": "completion"
   },
   {
    "code": "wbdata.get_dataframe({'SP.DYN.LE00.IN':'Life expectancy at birth, total (years)'}, country='CHN')",
    "id": "33d9b787a54443b48171b23064536c17",
    "idx": 3,
    "time": "2021-02-17T10:55:02.384Z",
    "type": "execution"
   },
   {
    "id": "33d9b787a54443b48171b23064536c17",
    "time": "2021-02-17T10:55:03.438Z",
    "type": "completion"
   },
   {
    "code": "chn_le = wbdata.get_dataframe({'SP.DYN.LE00.IN':'Life expectancy at birth, total (years)'}, country='CHN')\nchn_le",
    "id": "33d9b787a54443b48171b23064536c17",
    "idx": 3,
    "time": "2021-02-17T10:55:24.756Z",
    "type": "execution"
   },
   {
    "id": "33d9b787a54443b48171b23064536c17",
    "time": "2021-02-17T10:55:24.940Z",
    "type": "completion"
   },
   {
    "code": "chn_le.plot()",
    "id": "0dec87fd961445e8861771295bf4c136",
    "idx": 4,
    "time": "2021-02-17T10:55:29.747Z",
    "type": "execution"
   },
   {
    "id": "0dec87fd961445e8861771295bf4c136",
    "time": "2021-02-17T10:55:30.146Z",
    "type": "completion"
   },
   {
    "code": "chn_le = wbdata.get_dataframe({'SP.DYN.LE00.IN':'Life expectancy at birth, total (years)'}, country='CHN')\nchn_le.index.astype(int)",
    "id": "33d9b787a54443b48171b23064536c17",
    "idx": 3,
    "time": "2021-02-17T10:55:52.217Z",
    "type": "execution"
   },
   {
    "id": "33d9b787a54443b48171b23064536c17",
    "time": "2021-02-17T10:55:52.370Z",
    "type": "completion"
   },
   {
    "code": "chn_le = wbdata.get_dataframe({'SP.DYN.LE00.IN':'Life expectancy at birth, total (years)'}, country='CHN')\nchn_le.index = chn_le.index.astype(int)\nchn_le",
    "id": "33d9b787a54443b48171b23064536c17",
    "idx": 3,
    "time": "2021-02-17T10:55:59.986Z",
    "type": "execution"
   },
   {
    "id": "33d9b787a54443b48171b23064536c17",
    "time": "2021-02-17T10:56:00.060Z",
    "type": "completion"
   },
   {
    "code": "chn_le.plot",
    "id": "0dec87fd961445e8861771295bf4c136",
    "idx": 4,
    "time": "2021-02-17T10:56:04.897Z",
    "type": "execution"
   },
   {
    "id": "0dec87fd961445e8861771295bf4c136",
    "time": "2021-02-17T10:56:04.968Z",
    "type": "completion"
   },
   {
    "code": "chn_le.plot()",
    "id": "0dec87fd961445e8861771295bf4c136",
    "idx": 4,
    "time": "2021-02-17T10:56:07.465Z",
    "type": "execution"
   },
   {
    "id": "0dec87fd961445e8861771295bf4c136",
    "time": "2021-02-17T10:56:07.987Z",
    "type": "completion"
   },
   {
    "code": "chn_le = wbdata.get_dataframe({'SP.DYN.LE00.IN':'Life expectancy at birth, total (years)'}, country='IND')\nchn_le.index = chn_le.index.astype(int)\nchn_le",
    "id": "33d9b787a54443b48171b23064536c17",
    "idx": 3,
    "time": "2021-02-17T10:56:23.868Z",
    "type": "execution"
   },
   {
    "code": "chn_le.plot()",
    "id": "0dec87fd961445e8861771295bf4c136",
    "idx": 4,
    "time": "2021-02-17T10:56:24.027Z",
    "type": "execution"
   },
   {
    "id": "33d9b787a54443b48171b23064536c17",
    "time": "2021-02-17T10:56:25.075Z",
    "type": "completion"
   },
   {
    "id": "0dec87fd961445e8861771295bf4c136",
    "time": "2021-02-17T10:56:25.400Z",
    "type": "completion"
   },
   {
    "code": "chn_le = wbdata.get_dataframe({'SP.DYN.LE00.IN':'Life expectancy at birth, total (years)'}, country='CHN')\nchn_le.index = chn_le.index.astype(int)\nchn_le",
    "id": "33d9b787a54443b48171b23064536c17",
    "idx": 3,
    "time": "2021-02-17T10:56:36.008Z",
    "type": "execution"
   },
   {
    "id": "33d9b787a54443b48171b23064536c17",
    "time": "2021-02-17T10:56:36.089Z",
    "type": "completion"
   },
   {
    "code": "chn_.plot()",
    "id": "0dec87fd961445e8861771295bf4c136",
    "idx": 4,
    "time": "2021-02-17T10:56:36.177Z",
    "type": "execution"
   },
   {
    "id": "0dec87fd961445e8861771295bf4c136",
    "time": "2021-02-17T10:56:36.339Z",
    "type": "completion"
   },
   {
    "code": "chn_le.plot()",
    "id": "0dec87fd961445e8861771295bf4c136",
    "idx": 4,
    "time": "2021-02-17T10:56:40.127Z",
    "type": "execution"
   },
   {
    "id": "0dec87fd961445e8861771295bf4c136",
    "time": "2021-02-17T10:56:40.861Z",
    "type": "completion"
   },
   {
    "code": "chn_le.plot();\nplt.ylabel('Life expectancy at birth, total (years)')",
    "id": "0dec87fd961445e8861771295bf4c136",
    "idx": 4,
    "time": "2021-02-17T10:57:04.237Z",
    "type": "execution"
   },
   {
    "id": "0dec87fd961445e8861771295bf4c136",
    "time": "2021-02-17T10:57:04.719Z",
    "type": "completion"
   },
   {
    "code": "chn_le = wbdata.get_dataframe({'SP.DYN.TFRT.IN ':'Fertility rate, total (births per woman)'}, country='CHN')\nchn_le.index = chn_le.index.astype(int)\nchn_le",
    "id": "33d9b787a54443b48171b23064536c17",
    "idx": 3,
    "time": "2021-02-17T10:57:39.968Z",
    "type": "execution"
   },
   {
    "id": "33d9b787a54443b48171b23064536c17",
    "time": "2021-02-17T10:57:41.587Z",
    "type": "completion"
   },
   {
    "code": "chn_le = wbdata.get_dataframe({'SP.DYN.TFRT.IN ':'Fertility rate, total (births per woman)'}, country='CHN')\nchn_le",
    "id": "33d9b787a54443b48171b23064536c17",
    "idx": 3,
    "time": "2021-02-17T10:57:51.279Z",
    "type": "execution"
   },
   {
    "id": "33d9b787a54443b48171b23064536c17",
    "time": "2021-02-17T10:57:51.462Z",
    "type": "completion"
   },
   {
    "code": "chn_le = wbdata.get_dataframe({'SP.DYN.TFRT.IN ':'Fertility rate, total (births per woman)'}, country='CHN')\nchn_le",
    "id": "33d9b787a54443b48171b23064536c17",
    "idx": 3,
    "time": "2021-02-17T10:59:03.240Z",
    "type": "execution"
   },
   {
    "id": "33d9b787a54443b48171b23064536c17",
    "time": "2021-02-17T10:59:03.489Z",
    "type": "completion"
   },
   {
    "code": "chn_le = wbdata.get_dataframe({'SP.DYN.TFRT.IN':'Fertility rate, total (births per woman)'}, country='CHN')\nchn_le",
    "id": "33d9b787a54443b48171b23064536c17",
    "idx": 3,
    "time": "2021-02-17T10:59:15.500Z",
    "type": "execution"
   },
   {
    "id": "33d9b787a54443b48171b23064536c17",
    "time": "2021-02-17T10:59:16.803Z",
    "type": "completion"
   },
   {
    "code": "chn_le = wbdata.get_dataframe({'SP.DYN.TFRT.IN':'Fertility rate, total (births per woman)'}, country='CHN')\nchn_le.index = chn_le.index.astype(int)",
    "id": "33d9b787a54443b48171b23064536c17",
    "idx": 3,
    "time": "2021-02-17T10:59:37.810Z",
    "type": "execution"
   },
   {
    "id": "33d9b787a54443b48171b23064536c17",
    "time": "2021-02-17T10:59:37.909Z",
    "type": "completion"
   },
   {
    "code": "chn_le = wbdata.get_dataframe({'SP.DYN.TFRT.IN':'Fertility rate, total (births per woman)'}, country='CHN')\nchn_le.index = chn_le.index.astype(int)\nchn_le",
    "id": "33d9b787a54443b48171b23064536c17",
    "idx": 3,
    "time": "2021-02-17T10:59:41.889Z",
    "type": "execution"
   },
   {
    "id": "33d9b787a54443b48171b23064536c17",
    "time": "2021-02-17T10:59:42.026Z",
    "type": "completion"
   },
   {
    "code": "chn_le = wbdata.get_dataframe({'SP.DYN.TFRT.IN':'Fertility rate, total (births per woman)'}, country='CHN')\nchn_le.index = chn_le.index.astype(int)\nchn_le = chn_le.drop([2019,2020])\nchn_le",
    "id": "33d9b787a54443b48171b23064536c17",
    "idx": 3,
    "time": "2021-02-17T10:59:55.990Z",
    "type": "execution"
   },
   {
    "id": "33d9b787a54443b48171b23064536c17",
    "time": "2021-02-17T10:59:56.142Z",
    "type": "completion"
   },
   {
    "code": "chn_le = wbdata.get_dataframe({'SP.DYN.TFRT.IN':'Fertility rate, total (births per woman)'}, country='CHN')\nchn_le.index = chn_le.index.astype(int)\nchn_le = chn_le.drop([2019,2020])\nchn_le.head()",
    "id": "33d9b787a54443b48171b23064536c17",
    "idx": 3,
    "time": "2021-02-17T11:00:01.021Z",
    "type": "execution"
   },
   {
    "id": "33d9b787a54443b48171b23064536c17",
    "time": "2021-02-17T11:00:01.215Z",
    "type": "completion"
   },
   {
    "code": "chn_le.plot();\nplt.ylabel('Life expectancy at birth, total (years)')",
    "id": "0dec87fd961445e8861771295bf4c136",
    "idx": 4,
    "time": "2021-02-17T11:00:05.020Z",
    "type": "execution"
   },
   {
    "id": "0dec87fd961445e8861771295bf4c136",
    "time": "2021-02-17T11:00:05.572Z",
    "type": "completion"
   },
   {
    "code": "fig = plt.figure(figsize=(11.75,8.25))\nax = plt.axes()\n\nplt.plot(chn_fr.index, chn_fr.iloc[:, 0]\nplt.ylabel('Life expectancy at birth, total (years)')",
    "id": "0dec87fd961445e8861771295bf4c136",
    "idx": 4,
    "time": "2021-02-17T11:01:41.911Z",
    "type": "execution"
   },
   {
    "id": "0dec87fd961445e8861771295bf4c136",
    "time": "2021-02-17T11:01:42.090Z",
    "type": "completion"
   },
   {
    "code": "fig = plt.figure(figsize=(11.75,8.25))\nax = plt.axes()\n\nplt.plot(chn_fr.index, chn_fr.iloc[:, 0])\nplt.ylabel('Life expectancy at birth, total (years)')",
    "id": "0dec87fd961445e8861771295bf4c136",
    "idx": 4,
    "time": "2021-02-17T11:01:44.911Z",
    "type": "execution"
   },
   {
    "id": "0dec87fd961445e8861771295bf4c136",
    "time": "2021-02-17T11:01:45.275Z",
    "type": "completion"
   },
   {
    "code": "chn_fr = wbdata.get_dataframe({'SP.DYN.TFRT.IN':'Fertility rate, total (births per woman)'}, country='CHN')\nchn_fr.index = chn_le.index.astype(int)\nchn_fr = chn_le.drop([2019,2020])\nchn_fr.head()",
    "id": "33d9b787a54443b48171b23064536c17",
    "idx": 3,
    "time": "2021-02-17T11:01:56.262Z",
    "type": "execution"
   },
   {
    "id": "33d9b787a54443b48171b23064536c17",
    "time": "2021-02-17T11:01:56.467Z",
    "type": "completion"
   },
   {
    "code": "chn_fr = wbdata.get_dataframe({'SP.DYN.TFRT.IN':'Fertility rate, total (births per woman)'}, country='CHN')\nchn_fr.index = chn_le.index.astype(int)\nchn_fr = chn_le.drop(index=[2019,2020])\nchn_fr.head()",
    "id": "33d9b787a54443b48171b23064536c17",
    "idx": 3,
    "time": "2021-02-17T11:02:06.484Z",
    "type": "execution"
   },
   {
    "id": "33d9b787a54443b48171b23064536c17",
    "time": "2021-02-17T11:02:06.701Z",
    "type": "completion"
   },
   {
    "code": "chn_fr = wbdata.get_dataframe({'SP.DYN.TFRT.IN':'Fertility rate, total (births per woman)'}, country='CHN')\nchn_fr.index = chn_le.index.astype(int)\nchn_fr = chn_le.drop([2019,2020])\nchn_fr",
    "id": "33d9b787a54443b48171b23064536c17",
    "idx": 3,
    "time": "2021-02-17T11:02:36.503Z",
    "type": "execution"
   },
   {
    "id": "33d9b787a54443b48171b23064536c17",
    "time": "2021-02-17T11:02:36.717Z",
    "type": "completion"
   },
   {
    "code": "chn_fr = wbdata.get_dataframe({'SP.DYN.TFRT.IN':'Fertility rate, total (births per woman)'}, country='CHN')\nchn_fr.index = chn_le.index.astype(int)",
    "id": "33d9b787a54443b48171b23064536c17",
    "idx": 3,
    "time": "2021-02-17T11:02:47.924Z",
    "type": "execution"
   },
   {
    "id": "33d9b787a54443b48171b23064536c17",
    "time": "2021-02-17T11:02:48.198Z",
    "type": "completion"
   },
   {
    "code": "SOURCE=16\nindicators = wbdata.get_indicator(source=SOURCE)\nindicators",
    "id": "9043db9a0d97451fa474eb92d308f1a8",
    "idx": 2,
    "time": "2021-02-17T11:02:52.633Z",
    "type": "execution"
   },
   {
    "id": "9043db9a0d97451fa474eb92d308f1a8",
    "time": "2021-02-17T11:02:53.080Z",
    "type": "completion"
   },
   {
    "code": "chn_fr = wbdata.get_dataframe({'SP.DYN.TFRT.IN':'Fertility rate, total (births per woman)'}, country='CHN')\nchn_fr",
    "id": "33d9b787a54443b48171b23064536c17",
    "idx": 3,
    "time": "2021-02-17T11:02:57.243Z",
    "type": "execution"
   },
   {
    "id": "33d9b787a54443b48171b23064536c17",
    "time": "2021-02-17T11:02:57.432Z",
    "type": "completion"
   },
   {
    "code": "chn_fr = wbdata.get_dataframe({'SP.DYN.TFRT.IN':'Fertility rate, total (births per woman)'}, country='CHN')\nchn_fr.index = chn_fr.index.astype(int)\n",
    "id": "33d9b787a54443b48171b23064536c17",
    "idx": 3,
    "time": "2021-02-17T11:03:09.243Z",
    "type": "execution"
   },
   {
    "id": "33d9b787a54443b48171b23064536c17",
    "time": "2021-02-17T11:03:09.328Z",
    "type": "completion"
   },
   {
    "code": "chn_fr = wbdata.get_dataframe({'SP.DYN.TFRT.IN':'Fertility rate, total (births per woman)'}, country='CHN')\nchn_fr.index = chn_fr.index.astype(int)\nchn_fr",
    "id": "33d9b787a54443b48171b23064536c17",
    "idx": 3,
    "time": "2021-02-17T11:03:12.244Z",
    "type": "execution"
   },
   {
    "id": "33d9b787a54443b48171b23064536c17",
    "time": "2021-02-17T11:03:12.363Z",
    "type": "completion"
   },
   {
    "code": "chn_fr = wbdata.get_dataframe({'SP.DYN.TFRT.IN':'Fertility rate, total (births per woman)'}, country='CHN')\nchn_fr.index = chn_fr.index.astype(int)\nchn_fr.index = chn_fr.index.rename('year')\nchn_fr",
    "id": "33d9b787a54443b48171b23064536c17",
    "idx": 3,
    "time": "2021-02-17T11:03:51.675Z",
    "type": "execution"
   },
   {
    "id": "33d9b787a54443b48171b23064536c17",
    "time": "2021-02-17T11:03:51.840Z",
    "type": "completion"
   },
   {
    "code": "chn_fr = wbdata.get_dataframe({'SP.DYN.CONU.ZS':'Fertility rate, total (births per woman)'}, country='CHN')\nchn_fr.index = chn_fr.index.astype(int)\nchn_fr.index = chn_fr.index.rename('year')\nchn_fr",
    "id": "33d9b787a54443b48171b23064536c17",
    "idx": 3,
    "time": "2021-02-17T11:04:38.215Z",
    "type": "execution"
   },
   {
    "id": "33d9b787a54443b48171b23064536c17",
    "time": "2021-02-17T11:04:38.297Z",
    "type": "completion"
   },
   {
    "code": "chn_fr = wbdata.get_dataframe({'SP.DYN.TFRT.IN':'Fertility rate, total (births per woman)'}, country='CHN')\nchn_fr.index = chn_fr.index.astype(int)\nchn_fr.index = chn_fr.index.rename('year')\nchn_fr",
    "id": "33d9b787a54443b48171b23064536c17",
    "idx": 3,
    "time": "2021-02-17T11:04:43.484Z",
    "type": "execution"
   },
   {
    "id": "33d9b787a54443b48171b23064536c17",
    "time": "2021-02-17T11:04:43.673Z",
    "type": "completion"
   },
   {
    "code": "chn_fr = wbdata.get_dataframe({'SP.DYN.TFRT.IN':'Fertility rate, total (births per woman)'}, country='CHN')\nchn_fr.index = chn_fr.index.astype(int)\nchn_fr.index = chn_fr.index.rename('year')\nchn_fr = chn_fr.drop([2019, 2020])\nchn_fr.head()",
    "id": "33d9b787a54443b48171b23064536c17",
    "idx": 3,
    "time": "2021-02-17T11:04:59.165Z",
    "type": "execution"
   },
   {
    "id": "33d9b787a54443b48171b23064536c17",
    "time": "2021-02-17T11:04:59.258Z",
    "type": "completion"
   },
   {
    "code": "fig = plt.figure(figsize=(11.75,8.25))\nax = plt.axes()\n\nplt.plot(chn_fr.index, chn_fr.iloc[:, 0])\nplt.ylabel('Life expectancy at birth, total (years)')",
    "id": "0dec87fd961445e8861771295bf4c136",
    "idx": 4,
    "time": "2021-02-17T11:05:02.654Z",
    "type": "execution"
   },
   {
    "id": "0dec87fd961445e8861771295bf4c136",
    "time": "2021-02-17T11:05:03.045Z",
    "type": "completion"
   },
   {
    "code": "fig = plt.figure(figsize=(11.75,8.25))\nax = plt.axes()\n\nplt.plot(chn_fr.index, chn_fr.iloc[:, 0])\nplt.ylabel('Life expectancy at birth, total (years)');",
    "id": "0dec87fd961445e8861771295bf4c136",
    "idx": 4,
    "time": "2021-02-17T11:05:08.914Z",
    "type": "execution"
   },
   {
    "id": "0dec87fd961445e8861771295bf4c136",
    "time": "2021-02-17T11:05:09.493Z",
    "type": "completion"
   },
   {
    "code": "chn_fr = wbdata.get_dataframe({'SP.DYN.TFRT.IN':'Fertility rate, total (births per woman)'})\nchn_fr.index = chn_fr.index.astype(int)\nchn_fr.index = chn_fr.index.rename('year')\nchn_fr = chn_fr.drop([2019, 2020])\nchn_fr.head()",
    "id": "33d9b787a54443b48171b23064536c17",
    "idx": 3,
    "time": "2021-02-17T11:05:22.164Z",
    "type": "execution"
   },
   {
    "code": "fig = plt.figure(figsize=(11.75,8.25))\nax = plt.axes()\n\nplt.plot(chn_fr.index, chn_fr.iloc[:])\nplt.ylabel('Life expectancy at birth, total (years)');",
    "id": "0dec87fd961445e8861771295bf4c136",
    "idx": 4,
    "time": "2021-02-17T11:05:32.496Z",
    "type": "execution"
   },
   {
    "id": "33d9b787a54443b48171b23064536c17",
    "time": "2021-02-17T11:05:45.755Z",
    "type": "completion"
   },
   {
    "id": "0dec87fd961445e8861771295bf4c136",
    "time": "2021-02-17T11:05:45.758Z",
    "type": "completion"
   },
   {
    "code": "chn_fr = wbdata.get_dataframe({'SP.DYN.TFRT.IN':'Fertility rate, total (births per woman)'}, country='CHN')\nchn_fr.index = chn_fr.index.astype(int)\nchn_fr.index = chn_fr.index.rename('year')\nchn_fr = chn_fr.drop([2019, 2020])\nchn_fr.head()",
    "id": "33d9b787a54443b48171b23064536c17",
    "idx": 3,
    "time": "2021-02-17T11:05:53.976Z",
    "type": "execution"
   },
   {
    "id": "33d9b787a54443b48171b23064536c17",
    "time": "2021-02-17T11:05:54.147Z",
    "type": "completion"
   },
   {
    "code": "fig = plt.figure(figsize=(11.75,8.25))\nax = plt.axes()\n\nplt.plot(chn_fr.index, chn_fr.iloc[:])\nplt.ylabel('Life expectancy at birth, total (years)');",
    "id": "0dec87fd961445e8861771295bf4c136",
    "idx": 4,
    "time": "2021-02-17T11:05:57.184Z",
    "type": "execution"
   },
   {
    "id": "0dec87fd961445e8861771295bf4c136",
    "time": "2021-02-17T11:05:57.623Z",
    "type": "completion"
   },
   {
    "code": "fig = plt.figure(figsize=(11.75,8.25))\nax = plt.axes()\n\nplt.plot(chn_fr.index, chn_fr.iloc[:, 0])\nplt.ylabel('Fertility rate, total (births per woman)');\nplt.title('Total fertility rate in China, 1960-2018')",
    "id": "0dec87fd961445e8861771295bf4c136",
    "idx": 4,
    "time": "2021-02-17T11:07:06.071Z",
    "type": "execution"
   },
   {
    "id": "0dec87fd961445e8861771295bf4c136",
    "time": "2021-02-17T11:07:06.848Z",
    "type": "completion"
   },
   {
    "code": "fig = plt.figure(figsize=(11.75,8.25))\nax = plt.axes()\n\nplt.plot(chn_fr.index, chn_fr.iloc[:, 0])\nplt.ylabel('Fertility rate, total (births per woman)')\nplt.title('Total fertility rate in China, 1960-2018')\nplt.show();",
    "id": "0dec87fd961445e8861771295bf4c136",
    "idx": 4,
    "time": "2021-02-17T11:07:12.706Z",
    "type": "execution"
   },
   {
    "id": "0dec87fd961445e8861771295bf4c136",
    "time": "2021-02-17T11:07:13.094Z",
    "type": "completion"
   },
   {
    "code": "fig = plt.figure(figsize=(11.75,8.25))\nax = plt.axes()\n\nplt.plot(chn_fr.index, chn_fr.iloc[:, 0])\nplt.ylabel('Fertility rate, total (births per woman)')\nplt.title('Total fertility rate in China, 1960-2018', fontdict={fontsize=15})\nplt.show();",
    "id": "0dec87fd961445e8861771295bf4c136",
    "idx": 4,
    "time": "2021-02-17T11:07:25.216Z",
    "type": "execution"
   },
   {
    "id": "0dec87fd961445e8861771295bf4c136",
    "time": "2021-02-17T11:07:25.304Z",
    "type": "completion"
   },
   {
    "code": "fig = plt.figure(figsize=(11.75,8.25))\nax = plt.axes()\n\nplt.plot(chn_fr.index, chn_fr.iloc[:, 0])\nplt.ylabel('Fertility rate, total (births per woman)')\nplt.title('Total fertility rate in China, 1960-2018', fontdict={fontsize:15})\nplt.show();",
    "id": "0dec87fd961445e8861771295bf4c136",
    "idx": 4,
    "time": "2021-02-17T11:07:30.026Z",
    "type": "execution"
   },
   {
    "id": "0dec87fd961445e8861771295bf4c136",
    "time": "2021-02-17T11:07:30.608Z",
    "type": "completion"
   },
   {
    "code": "fig = plt.figure(figsize=(11.75,8.25))\nax = plt.axes()\n\nplt.plot(chn_fr.index, chn_fr.iloc[:, 0])\nplt.ylabel('Fertility rate, total (births per woman)')\nplt.title('Total fertility rate in China, 1960-2018', fontdict={'fontsize':15})\nplt.show();",
    "id": "0dec87fd961445e8861771295bf4c136",
    "idx": 4,
    "time": "2021-02-17T11:07:37.727Z",
    "type": "execution"
   },
   {
    "id": "0dec87fd961445e8861771295bf4c136",
    "time": "2021-02-17T11:07:38.180Z",
    "type": "completion"
   },
   {
    "code": "fig = plt.figure(figsize=(11.75,8.25))\nax = plt.axes()\n\nplt.plot(chn_fr.index, chn_fr.iloc[:, 0])\nplt.ylabel('Fertility rate, total (births per woman)')\nplt.title('Total fertility rate in China, 1960-2018', fontdict={'fontsize':14})\nplt.show();",
    "id": "0dec87fd961445e8861771295bf4c136",
    "idx": 4,
    "time": "2021-02-17T11:07:43.137Z",
    "type": "execution"
   },
   {
    "id": "0dec87fd961445e8861771295bf4c136",
    "time": "2021-02-17T11:07:43.710Z",
    "type": "completion"
   },
   {
    "code": "chn_fr = wbdata.get_dataframe({'SH.DTH.IMRT':'Number of infant deaths'}, country='CHN')\nchn_fr.index = chn_fr.index.astype(int)\nchn_fr.index = chn_fr.index.rename('year')\nchn_fr = chn_fr.drop([2019, 2020])\nchn_fr.head()",
    "id": "33d9b787a54443b48171b23064536c17",
    "idx": 3,
    "time": "2021-02-17T11:09:44.888Z",
    "type": "execution"
   },
   {
    "id": "33d9b787a54443b48171b23064536c17",
    "time": "2021-02-17T11:09:46.271Z",
    "type": "completion"
   },
   {
    "code": "fig = plt.figure(figsize=(11.75,8.25))\nax = plt.axes()\n\nplt.plot(chn_fr.index, chn_fr.iloc[:, 0])\nplt.ylabel('Fertility rate, total (births per woman)')\nplt.title('Total fertility rate in China, 1960-2018', fontdict={'fontsize':14})\nplt.show();",
    "id": "0dec87fd961445e8861771295bf4c136",
    "idx": 4,
    "time": "2021-02-17T11:09:47.380Z",
    "type": "execution"
   },
   {
    "id": "0dec87fd961445e8861771295bf4c136",
    "time": "2021-02-17T11:09:47.839Z",
    "type": "completion"
   },
   {
    "code": "chn_fr = wbdata.get_dataframe({'SH.DTH.IMRT':'Number of infant deaths',\n                              'SH.DTH.IMRT.FE':'Number of infant deaths, female',\n                              'SH.DTH.IMRT.MA','Number of infant deaths, male'}, country='CHN')\nchn_fr.index = chn_fr.index.astype(int)\nchn_fr.index = chn_fr.index.rename('year')\nchn_fr = chn_fr.drop([2019, 2020])\nchn_fr.head()",
    "id": "33d9b787a54443b48171b23064536c17",
    "idx": 3,
    "time": "2021-02-17T11:11:13.452Z",
    "type": "execution"
   },
   {
    "id": "33d9b787a54443b48171b23064536c17",
    "time": "2021-02-17T11:11:13.560Z",
    "type": "completion"
   },
   {
    "code": "chn_fr = wbdata.get_dataframe({'SH.DTH.IMRT':'Number of infant deaths',\n                              'SH.DTH.IMRT.FE':'Number of infant deaths, female',\n                              'SH.DTH.IMRT.MA':'Number of infant deaths, male'}, country='CHN')\nchn_fr.index = chn_fr.index.astype(int)\nchn_fr.index = chn_fr.index.rename('year')\nchn_fr = chn_fr.drop([2019, 2020])\nchn_fr.head()",
    "id": "33d9b787a54443b48171b23064536c17",
    "idx": 3,
    "time": "2021-02-17T11:11:17.720Z",
    "type": "execution"
   },
   {
    "code": "fig = plt.figure(figsize=(11.75,8.25))\nax = plt.axes()\n\nplt.plot(chn_fr.index, chn_fr.iloc[:, 0])\nplt.ylabel('Fertility rate, total (births per woman)')\nplt.title('Total fertility rate in China, 1960-2018', fontdict={'fontsize':14})\nplt.show();",
    "id": "0dec87fd961445e8861771295bf4c136",
    "idx": 4,
    "time": "2021-02-17T11:11:18.301Z",
    "type": "execution"
   },
   {
    "id": "33d9b787a54443b48171b23064536c17",
    "time": "2021-02-17T11:11:20.361Z",
    "type": "completion"
   },
   {
    "id": "0dec87fd961445e8861771295bf4c136",
    "time": "2021-02-17T11:11:20.688Z",
    "type": "completion"
   },
   {
    "code": "fig = plt.figure(figsize=(11.75,8.25))\nax = plt.axes()\n\nplt.plot(chn_fr.index, chn_fr.iloc[:, 0])\nplt.plot(chn_fr.index, chn_fr.iloc[:, 1])\nplt.ylabel('Fertility rate, total (births per woman)')\nplt.title('Total fertility rate in China, 1960-2018', fontdict={'fontsize':14})\nplt.show();",
    "id": "0dec87fd961445e8861771295bf4c136",
    "idx": 4,
    "time": "2021-02-17T11:11:45.851Z",
    "type": "execution"
   },
   {
    "id": "0dec87fd961445e8861771295bf4c136",
    "time": "2021-02-17T11:11:46.614Z",
    "type": "completion"
   },
   {
    "code": "fig = plt.figure(figsize=(11.75,8.25))\nax = plt.axes()\n\nplt.plot(chn_fr.index, chn_fr.iloc[:, 0])\nplt.plot(chn_fr.index, chn_fr.iloc[:, 1])\nplt.plot(chn_fr.index, chn_fr.iloc[:, 2])\nplt.ylabel('Number of infant deaths')\nplt.title('Infant deaths in China, 1960-2018', fontdict={'fontsize':14})\nplt.show();",
    "id": "0dec87fd961445e8861771295bf4c136",
    "idx": 4,
    "time": "2021-02-17T11:12:33.343Z",
    "type": "execution"
   },
   {
    "id": "0dec87fd961445e8861771295bf4c136",
    "time": "2021-02-17T11:12:33.789Z",
    "type": "completion"
   },
   {
    "code": "fig = plt.figure(figsize=(11.75,8.25))\nax = plt.axes()\n\nplt.plot(chn_fr.index, chn_fr.iloc[:, 0])\nplt.plot(chn_fr.index, chn_fr.iloc[:, 1])\nplt.plot(chn_fr.index, chn_fr.iloc[:, 2])\nplt.ylabel('Number of infant deaths')\nplt.title('Infant deaths in China, 1960-2018', fontdict={'fontsize':14})\nplt.show();",
    "id": "0dec87fd961445e8861771295bf4c136",
    "idx": 4,
    "time": "2021-02-17T11:13:10.962Z",
    "type": "execution"
   },
   {
    "id": "0dec87fd961445e8861771295bf4c136",
    "time": "2021-02-17T11:13:11.578Z",
    "type": "completion"
   },
   {
    "code": "fig = plt.figure(figsize=(11.75,8.25))\nax = plt.axes()\n\nplt.plot(chn_fr.index, chn_fr.iloc[:, 0])\nplt.plot(chn_fr.index, chn_fr.iloc[:, 1])\n#plt.plot(chn_fr.index, chn_fr.iloc[:, 2])\nplt.ylabel('Number of infant deaths')\nplt.title('Infant deaths in China, 1960-2018', fontdict={'fontsize':14})\nplt.show();",
    "id": "0dec87fd961445e8861771295bf4c136",
    "idx": 4,
    "time": "2021-02-17T11:14:07.876Z",
    "type": "execution"
   },
   {
    "id": "0dec87fd961445e8861771295bf4c136",
    "time": "2021-02-17T11:14:08.747Z",
    "type": "completion"
   },
   {
    "code": "fig = plt.figure(figsize=(11.75,8.25))\nax = plt.axes()\n\nplt.plot(chn_fr.index, chn_fr.iloc[:, 0])\nplt.plot(chn_fr.index, chn_fr.iloc[:, 1])\nplt.plot(chn_fr.index, chn_fr.iloc[:, 2])\nplt.ylabel('Number of infant deaths')\nplt.title('Infant deaths in China, 1960-2018', fontdict={'fontsize':14})\nplt.show();",
    "id": "0dec87fd961445e8861771295bf4c136",
    "idx": 4,
    "time": "2021-02-17T11:14:20.493Z",
    "type": "execution"
   },
   {
    "id": "0dec87fd961445e8861771295bf4c136",
    "time": "2021-02-17T11:14:21.077Z",
    "type": "completion"
   },
   {
    "code": "chn_fr = wbdata.get_dataframe({'SH.DTH.MORT':'Number of infant deaths',\n                              'SH.DTH.MORT.FE':'Number of infant deaths, female',\n                              'SH.DTH.MORT.MA':'Number of infant deaths, male'}, country='CHN')\nchn_fr.index = chn_fr.index.astype(int)\nchn_fr.index = chn_fr.index.rename('year')\nchn_fr = chn_fr.drop([2019, 2020])\nchn_fr.head()",
    "id": "33d9b787a54443b48171b23064536c17",
    "idx": 3,
    "time": "2021-02-17T11:15:50.284Z",
    "type": "execution"
   },
   {
    "code": "fig = plt.figure(figsize=(11.75,8.25))\nax = plt.axes()\n\nplt.plot(chn_fr.index, chn_fr.iloc[:, 0])\nplt.plot(chn_fr.index, chn_fr.iloc[:, 1])\nplt.plot(chn_fr.index, chn_fr.iloc[:, 2])\nplt.ylabel('Number of infant deaths')\nplt.title('Infant deaths in China, 1960-2018', fontdict={'fontsize':14})\nplt.show();",
    "id": "0dec87fd961445e8861771295bf4c136",
    "idx": 4,
    "time": "2021-02-17T11:15:51.595Z",
    "type": "execution"
   },
   {
    "id": "33d9b787a54443b48171b23064536c17",
    "time": "2021-02-17T11:15:53.896Z",
    "type": "completion"
   },
   {
    "id": "0dec87fd961445e8861771295bf4c136",
    "time": "2021-02-17T11:15:54.371Z",
    "type": "completion"
   },
   {
    "code": "chn_fr = wbdata.get_dataframe({'SH.DYN.MORT':'Number of infant deaths',\n                              'SH.DYN.MORT.FE':'Number of infant deaths, female',\n                              'SH.DYN.MORT.MA':'Number of infant deaths, male'}, country='CHN')\nchn_fr.index = chn_fr.index.astype(int)\nchn_fr.index = chn_fr.index.rename('year')\nchn_fr = chn_fr.drop([2019, 2020])\nchn_fr.head()",
    "id": "33d9b787a54443b48171b23064536c17",
    "idx": 3,
    "time": "2021-02-17T11:16:24.289Z",
    "type": "execution"
   },
   {
    "code": "fig = plt.figure(figsize=(11.75,8.25))\nax = plt.axes()\n\nplt.plot(chn_fr.index, chn_fr.iloc[:, 0])\nplt.plot(chn_fr.index, chn_fr.iloc[:, 1])\nplt.plot(chn_fr.index, chn_fr.iloc[:, 2])\nplt.ylabel('Number of infant deaths')\nplt.title('Infant deaths in China, 1960-2018', fontdict={'fontsize':14})\nplt.show();",
    "id": "0dec87fd961445e8861771295bf4c136",
    "idx": 4,
    "time": "2021-02-17T11:16:24.905Z",
    "type": "execution"
   },
   {
    "id": "33d9b787a54443b48171b23064536c17",
    "time": "2021-02-17T11:16:27.464Z",
    "type": "completion"
   },
   {
    "id": "0dec87fd961445e8861771295bf4c136",
    "time": "2021-02-17T11:16:27.957Z",
    "type": "completion"
   },
   {
    "code": "chn_fr = wbdata.get_dataframe({'SH.DYN.MORT':'Mortality rate, under-5 (per 1,000 live births)',\n                              'SH.DYN.MORT.FE':'Mortality rate, under-5 (per 1,000 live births), female',\n                              'SH.DYN.MORT.MA':'Mortality rate, under-5 (per 1,000 live births), male'}, country='CHN')\nchn_fr.index = chn_fr.index.astype(int)\nchn_fr.index = chn_fr.index.rename('year')\nchn_fr = chn_fr.drop([2019, 2020])\nchn_fr.head()",
    "id": "33d9b787a54443b48171b23064536c17",
    "idx": 3,
    "time": "2021-02-17T11:17:23.247Z",
    "type": "execution"
   },
   {
    "id": "33d9b787a54443b48171b23064536c17",
    "time": "2021-02-17T11:17:23.359Z",
    "type": "completion"
   },
   {
    "code": "fig = plt.figure(figsize=(11.75,8.25))\nax = plt.axes()\n\nplt.plot(chn_fr.index, chn_fr.iloc[:, 0])\nplt.plot(chn_fr.index, chn_fr.iloc[:, 1])\nplt.plot(chn_fr.index, chn_fr.iloc[:, 2])\nplt.ylabel('Mortality rate, under-5 (per 1,000 live births)')\nplt.title('Under-5 mortality rates in China, 1960-2018', fontdict={'fontsize':14})\nplt.show();",
    "id": "0dec87fd961445e8861771295bf4c136",
    "idx": 4,
    "time": "2021-02-17T11:17:45.287Z",
    "type": "execution"
   },
   {
    "id": "0dec87fd961445e8861771295bf4c136",
    "time": "2021-02-17T11:17:45.820Z",
    "type": "completion"
   },
   {
    "code": "fig = plt.figure(figsize=(11.75,8.25))\nax = plt.axes()\n\nplt.plot(chn_fr.index, chn_fr.iloc[:, 1])\nplt.plot(chn_fr.index, chn_fr.iloc[:, 2])\nplt.ylabel('Mortality rate, under-5 (per 1,000 live births)')\nplt.title('Under-5 mortality rates in China, 1960-2018', fontdict={'fontsize':14})\nplt.show();",
    "id": "0dec87fd961445e8861771295bf4c136",
    "idx": 4,
    "time": "2021-02-17T11:17:55.646Z",
    "type": "execution"
   },
   {
    "id": "0dec87fd961445e8861771295bf4c136",
    "time": "2021-02-17T11:17:56.073Z",
    "type": "completion"
   },
   {
    "code": "chn_fr = wbdata.get_dataframe({'SP.REG.BRTH.FE.ZS':'Mortality rate, under-5 (per 1,000 live births)',\n                              'SP.REG.BRTH.MA.ZS':'Mortality rate, under-5 (per 1,000 live births), female',\n                              'SH.DYN.MORT.MA':'Mortality rate, under-5 (per 1,000 live births), male'}, country='CHN')\nchn_fr.index = chn_fr.index.astype(int)\nchn_fr.index = chn_fr.index.rename('year')\nchn_fr = chn_fr.drop([2019, 2020])\nchn_fr.head()",
    "id": "33d9b787a54443b48171b23064536c17",
    "idx": 3,
    "time": "2021-02-17T11:19:07.518Z",
    "type": "execution"
   },
   {
    "code": "fig = plt.figure(figsize=(11.75,8.25))\nax = plt.axes()\n\nplt.plot(chn_fr.index, chn_fr.iloc[:, 1])\nplt.plot(chn_fr.index, chn_fr.iloc[:, 2])\nplt.ylabel('Mortality rate, under-5 (per 1,000 live births)')\nplt.title('Under-5 mortality rates in China, 1960-2018', fontdict={'fontsize':14})\nplt.show();",
    "id": "0dec87fd961445e8861771295bf4c136",
    "idx": 4,
    "time": "2021-02-17T11:19:09.488Z",
    "type": "execution"
   },
   {
    "id": "33d9b787a54443b48171b23064536c17",
    "time": "2021-02-17T11:19:09.617Z",
    "type": "completion"
   },
   {
    "id": "0dec87fd961445e8861771295bf4c136",
    "time": "2021-02-17T11:19:10.009Z",
    "type": "completion"
   },
   {
    "code": "chn_fr = wbdata.get_dataframe({'SH.DYN.MORT':'Mortality rate, under-5 (per 1,000 live births)',\n                              'SH.DYN.MORT.FE':'Mortality rate, under-5 (per 1,000 live births), female',\n                              'SH.DYN.MORT.MA':'Mortality rate, under-5 (per 1,000 live births), male'}, country='CHN')\nchn_fr.index = chn_fr.index.astype(int)\nchn_fr.index = chn_fr.index.rename('year')\nchn_fr = chn_fr.drop([2019, 2020])\nchn_fr.head()",
    "id": "33d9b787a54443b48171b23064536c17",
    "idx": 3,
    "time": "2021-02-17T11:19:16.438Z",
    "type": "execution"
   },
   {
    "id": "33d9b787a54443b48171b23064536c17",
    "time": "2021-02-17T11:19:16.734Z",
    "type": "completion"
   },
   {
    "code": "fig = plt.figure(figsize=(11.75,8.25))\nax = plt.axes()\n\nplt.plot(chn_fr.index, chn_fr.iloc[:, 1])\nplt.plot(chn_fr.index, chn_fr.iloc[:, 2])\nplt.ylabel('Mortality rate, under-5 (per 1,000 live births)')\nplt.title('Under-5 mortality rates in China, 1960-2018', fontdict={'fontsize':14})\nplt.show();",
    "id": "0dec87fd961445e8861771295bf4c136",
    "idx": 4,
    "time": "2021-02-17T11:19:17.008Z",
    "type": "execution"
   },
   {
    "id": "0dec87fd961445e8861771295bf4c136",
    "time": "2021-02-17T11:19:17.470Z",
    "type": "completion"
   },
   {
    "code": "chn_fr = wbdata.get_dataframe({'SH.DYN.MORT':'Mortality rate, under-5 (per 1,000 live births)',\n                              'SH.DYN.MORT.FE':'Mortality rate, under-5 (per 1,000 live births), female',\n                              'SH.DYN.MORT.MA':'Mortality rate, under-5 (per 1,000 live births), male'}, country='CHN')\nchn_fr.index = chn_fr.index.astype(int)\nchn_fr.index = chn_fr.index.rename('year')\nchn_fr = chn_fr.drop([2019, 2020])\nchn_fr",
    "id": "33d9b787a54443b48171b23064536c17",
    "idx": 3,
    "time": "2021-02-17T11:19:37.368Z",
    "type": "execution"
   },
   {
    "id": "33d9b787a54443b48171b23064536c17",
    "time": "2021-02-17T11:19:37.806Z",
    "type": "completion"
   },
   {
    "code": "chn_fr = wbdata.get_dataframe({'SH.DYN.MORT':'Mortality rate, under-5 (per 1,000 live births)',\n                              'SH.DYN.MORT.FE':'Mortality rate, under-5 (per 1,000 live births), female',\n                              'SH.DYN.MORT.MA':'Mortality rate, under-5 (per 1,000 live births), male'}, country='CHN')\nchn_fr.index = chn_fr.index.astype(int)\nchn_fr.index = chn_fr.index.rename('year')\nchn_fr = chn_fr.drop([2019, 2020])\nchn_fr",
    "id": "33d9b787a54443b48171b23064536c17",
    "idx": 3,
    "time": "2021-02-17T11:19:45.472Z",
    "type": "execution"
   },
   {
    "id": "33d9b787a54443b48171b23064536c17",
    "time": "2021-02-17T11:19:46.818Z",
    "type": "completion"
   },
   {
    "code": "fig = plt.figure(figsize=(11.75,8.25))\nax = plt.axes()\n\nplt.plot(chn_fr.index, chn_fr.iloc[:, 1])\nplt.plot(chn_fr.index, chn_fr.iloc[:, 2])\nplt.ylabel('Mortality rate, under-5 (per 1,000 live births)')\nplt.title('Under-5 mortality rates in China, 1960-2018', fontdict={'fontsize':14})\nplt.show();",
    "id": "0dec87fd961445e8861771295bf4c136",
    "idx": 4,
    "time": "2021-02-17T11:19:47.068Z",
    "type": "execution"
   },
   {
    "id": "0dec87fd961445e8861771295bf4c136",
    "time": "2021-02-17T11:19:47.490Z",
    "type": "completion"
   },
   {
    "code": "chn_fr = wbdata.get_dataframe({'SH.DYN.MORT':'Mortality rate, under-5 (per 1,000 live births)',\n                              'SH.DYN.MORT.FE':'Mortality rate, under-5 (per 1,000 live births), female',\n                              'SH.DYN.MORT.MA':'Mortality rate, under-5 (per 1,000 live births), male'}, country='CHN')\nchn_fr.index = chn_fr.index.astype(int)\nchn_fr.index = chn_fr.index.rename('year')\nchn_fr = chn_fr.drop([2019, 2020])\nchn_fr.head()",
    "id": "33d9b787a54443b48171b23064536c17",
    "idx": 3,
    "time": "2021-02-17T11:19:52.420Z",
    "type": "execution"
   },
   {
    "id": "33d9b787a54443b48171b23064536c17",
    "time": "2021-02-17T11:19:52.524Z",
    "type": "completion"
   },
   {
    "code": "chn_fr = wbdata.get_dataframe({'SH.DTH.STLB':'Mortality rate, under-5 (per 1,000 live births)'}, country='CHN')\nchn_fr.index = chn_fr.index.astype(int)\nchn_fr.index = chn_fr.index.rename('year')\nchn_fr = chn_fr.drop([2019, 2020])\nchn_fr.head()",
    "id": "33d9b787a54443b48171b23064536c17",
    "idx": 3,
    "time": "2021-02-17T11:20:47.043Z",
    "type": "execution"
   },
   {
    "id": "33d9b787a54443b48171b23064536c17",
    "time": "2021-02-17T11:20:48.588Z",
    "type": "completion"
   },
   {
    "code": "fig = plt.figure(figsize=(11.75,8.25))\nax = plt.axes()\n\nplt.plot(chn_fr.index, chn_fr.iloc[:, 0])\nplt.ylabel('Mortality rate, under-5 (per 1,000 live births)')\nplt.title('Under-5 mortality rates in China, 1960-2018', fontdict={'fontsize':14})\nplt.show();",
    "id": "0dec87fd961445e8861771295bf4c136",
    "idx": 4,
    "time": "2021-02-17T11:20:57.710Z",
    "type": "execution"
   },
   {
    "id": "0dec87fd961445e8861771295bf4c136",
    "time": "2021-02-17T11:20:58.253Z",
    "type": "completion"
   },
   {
    "code": "chn_fr = wbdata.get_dataframe({'SP.DYN.LE00.IN':'Mortality rate, under-5 (per 1,000 live births)',\n                              'SP.DYN.LE00.FE.IN':'Mortality rate, under-5 (per 1,000 live births), female',\n                              'SP.DYN.LE00.MA.IN':'Mortality rate, under-5 (per 1,000 live births), male'}, country='CHN')\nchn_fr.index = chn_fr.index.astype(int)\nchn_fr.index = chn_fr.index.rename('year')\nchn_fr = chn_fr.drop([2019, 2020])\nchn_fr.head()",
    "id": "33d9b787a54443b48171b23064536c17",
    "idx": 3,
    "time": "2021-02-17T11:24:17.109Z",
    "type": "execution"
   },
   {
    "code": "fig = plt.figure(figsize=(11.75,8.25))\nax = plt.axes()\n\nplt.plot(chn_fr.index, chn_fr.iloc[:, 0])\nplt.ylabel('Mortality rate, under-5 (per 1,000 live births)')\nplt.title('Under-5 mortality rates in China, 1960-2018', fontdict={'fontsize':14})\nplt.show();",
    "id": "0dec87fd961445e8861771295bf4c136",
    "idx": 4,
    "time": "2021-02-17T11:24:17.673Z",
    "type": "execution"
   },
   {
    "id": "33d9b787a54443b48171b23064536c17",
    "time": "2021-02-17T11:24:19.159Z",
    "type": "completion"
   },
   {
    "id": "0dec87fd961445e8861771295bf4c136",
    "time": "2021-02-17T11:24:19.668Z",
    "type": "completion"
   },
   {
    "code": "fig = plt.figure(figsize=(11.75,8.25))\nax = plt.axes()\n\nplt.plot(chn_fr.index, chn_fr.iloc[:, 0])\nplt.plot(chn_fr.index, chn_fr.iloc[:, 1])\nplt.ylabel('Mortality rate, under-5 (per 1,000 live births)')\nplt.title('Under-5 mortality rates in China, 1960-2018', fontdict={'fontsize':14})\nplt.show();",
    "id": "0dec87fd961445e8861771295bf4c136",
    "idx": 4,
    "time": "2021-02-17T11:24:56.383Z",
    "type": "execution"
   },
   {
    "id": "0dec87fd961445e8861771295bf4c136",
    "time": "2021-02-17T11:24:57.049Z",
    "type": "completion"
   },
   {
    "code": "fig = plt.figure(figsize=(11.75,8.25))\nax = plt.axes()\n\nplt.plot(chn_fr.index, chn_fr.iloc[:, 0])\nplt.plot(chn_fr.index, chn_fr.iloc[:, 1])\nplt.plot(chn_fr.index, chn_fr.iloc[:, 2])\nplt.ylabel('Mortality rate, under-5 (per 1,000 live births)')\nplt.title('Under-5 mortality rates in China, 1960-2018', fontdict={'fontsize':14})\nplt.show();",
    "id": "0dec87fd961445e8861771295bf4c136",
    "idx": 4,
    "time": "2021-02-17T11:25:09.243Z",
    "type": "execution"
   },
   {
    "id": "0dec87fd961445e8861771295bf4c136",
    "time": "2021-02-17T11:25:09.715Z",
    "type": "completion"
   },
   {
    "code": "fig = plt.figure(figsize=(11.75,8.25))\nax = plt.axes()\n\nplt.plot(chn_fr.index, chn_fr.iloc[:, 1])\nplt.plot(chn_fr.index, chn_fr.iloc[:, 2])\nplt.ylabel('Mortality rate, under-5 (per 1,000 live births)')\nplt.title('Under-5 mortality rates in China, 1960-2018', fontdict={'fontsize':14})\nplt.show();",
    "id": "0dec87fd961445e8861771295bf4c136",
    "idx": 4,
    "time": "2021-02-17T11:25:26.344Z",
    "type": "execution"
   },
   {
    "id": "0dec87fd961445e8861771295bf4c136",
    "time": "2021-02-17T11:25:26.731Z",
    "type": "completion"
   },
   {
    "code": "fig = plt.figure(figsize=(11.75,8.25))\nax = plt.axes()\n\nplt.plot(chn_fr.index, chn_fr.iloc[:, 1], color='tomato')\nplt.plot(chn_fr.index, chn_fr.iloc[:, 2])\nplt.ylabel('Mortality rate, under-5 (per 1,000 live births)')\nplt.title('Under-5 mortality rates in China, 1960-2018', fontdict={'fontsize':14})\nplt.show();",
    "id": "0dec87fd961445e8861771295bf4c136",
    "idx": 4,
    "time": "2021-02-17T11:25:36.834Z",
    "type": "execution"
   },
   {
    "id": "0dec87fd961445e8861771295bf4c136",
    "time": "2021-02-17T11:25:37.263Z",
    "type": "completion"
   },
   {
    "code": "fig = plt.figure(figsize=(11.75,8.25))\nax = plt.axes()\n\nplt.plot(chn_fr.index, chn_fr.iloc[:, 1], color='tomato')\nplt.plot(chn_fr.index, chn_fr.iloc[:, 2], color='blue')\nplt.ylabel('Mortality rate, under-5 (per 1,000 live births)')\nplt.title('Under-5 mortality rates in China, 1960-2018', fontdict={'fontsize':14})\nplt.show();",
    "id": "0dec87fd961445e8861771295bf4c136",
    "idx": 4,
    "time": "2021-02-17T11:25:42.144Z",
    "type": "execution"
   },
   {
    "id": "0dec87fd961445e8861771295bf4c136",
    "time": "2021-02-17T11:25:42.740Z",
    "type": "completion"
   },
   {
    "code": "fig = plt.figure(figsize=(11.75,8.25))\nax = plt.axes()\n\nplt.plot(chn_fr.index, chn_fr.iloc[:, 1], color='tomato')\nplt.plot(chn_fr.index, chn_fr.iloc[:, 2], color='dodgerblue')\nplt.ylabel('Mortality rate, under-5 (per 1,000 live births)')\nplt.title('Under-5 mortality rates in China, 1960-2018', fontdict={'fontsize':14})\nplt.show();",
    "id": "0dec87fd961445e8861771295bf4c136",
    "idx": 4,
    "time": "2021-02-17T11:25:44.784Z",
    "type": "execution"
   },
   {
    "id": "0dec87fd961445e8861771295bf4c136",
    "time": "2021-02-17T11:25:45.397Z",
    "type": "completion"
   },
   {
    "code": "fig = plt.figure(figsize=(11.75,8.25))\nax = plt.axes()\n\nplt.plot(chn_fr.index, chn_fr.iloc[:, 1], color='tomato')\nplt.plot(chn_fr.index, chn_fr.iloc[:, 2], color='dodgerblue')\n\nax.legend()\nplt.ylabel('Mortality rate, under-5 (per 1,000 live births)')\nplt.title('Under-5 mortality rates in China, 1960-2018', fontdict={'fontsize':14})\nplt.show();",
    "id": "0dec87fd961445e8861771295bf4c136",
    "idx": 4,
    "time": "2021-02-17T11:25:53.117Z",
    "type": "execution"
   },
   {
    "id": "0dec87fd961445e8861771295bf4c136",
    "time": "2021-02-17T11:25:53.698Z",
    "type": "completion"
   },
   {
    "code": "fig = plt.figure(figsize=(11.75,8.25))\nax = plt.axes()\n\nplt.plot(chn_fr.index, chn_fr.iloc[:, 1], color='tomato')\nplt.plot(chn_fr.index, chn_fr.iloc[:, 2], color='dodgerblue')\n\nax.legend(chn_fr.columns[1:])\nplt.ylabel('Mortality rate, under-5 (per 1,000 live births)')\nplt.title('Under-5 mortality rates in China, 1960-2018', fontdict={'fontsize':14})\nplt.show();",
    "id": "0dec87fd961445e8861771295bf4c136",
    "idx": 4,
    "time": "2021-02-17T11:26:10.265Z",
    "type": "execution"
   },
   {
    "id": "0dec87fd961445e8861771295bf4c136",
    "time": "2021-02-17T11:26:10.827Z",
    "type": "completion"
   },
   {
    "code": "chn_fr = wbdata.get_dataframe({'SP.DYN.IMRT.IN':'Mortality rate, under-5 (per 1,000 live births)',\n                              'SP.DYN.IMRT.FE.IN':'Mortality rate, under-5 (per 1,000 live births), female',\n                              'SP.DYN.IMRT.MA.IN':'Mortality rate, under-5 (per 1,000 live births), male'}, country='CHN')\nchn_fr.index = chn_fr.index.astype(int)\nchn_fr.index = chn_fr.index.rename('year')\nchn_fr = chn_fr.drop([2019, 2020])\nchn_fr.head()",
    "id": "33d9b787a54443b48171b23064536c17",
    "idx": 3,
    "time": "2021-02-17T11:28:08.085Z",
    "type": "execution"
   },
   {
    "code": "fig = plt.figure(figsize=(11.75,8.25))\nax = plt.axes()\n\nplt.plot(chn_fr.index, chn_fr.iloc[:, 1], color='tomato')\nplt.plot(chn_fr.index, chn_fr.iloc[:, 2], color='dodgerblue')\n\nax.legend(chn_fr.columns[1:])\nplt.ylabel('Mortality rate, under-5 (per 1,000 live births)')\nplt.title('Under-5 mortality rates in China, 1960-2018', fontdict={'fontsize':14})\nplt.show();",
    "id": "0dec87fd961445e8861771295bf4c136",
    "idx": 4,
    "time": "2021-02-17T11:28:08.627Z",
    "type": "execution"
   },
   {
    "id": "33d9b787a54443b48171b23064536c17",
    "time": "2021-02-17T11:28:11.804Z",
    "type": "completion"
   },
   {
    "id": "0dec87fd961445e8861771295bf4c136",
    "time": "2021-02-17T11:28:12.281Z",
    "type": "completion"
   },
   {
    "code": "chn_fr = wbdata.get_dataframe({'SH.DYN.MORT':'Mortality rate, under-5 (per 1,000 live births)',\n                              'SH.DYN.MORT.FE':'Mortality rate, under-5 (per 1,000 live births), female',\n                              'SH.DYN.MORT.MA':'Mortality rate, under-5 (per 1,000 live births), male'}, country='CHN')\nchn_fr.index = chn_fr.index.astype(int)\nchn_fr.index = chn_fr.index.rename('year')\nchn_fr = chn_fr.drop([2019, 2020])\nchn_fr.head()",
    "id": "33d9b787a54443b48171b23064536c17",
    "idx": 3,
    "time": "2021-02-17T11:29:24.719Z",
    "type": "execution"
   },
   {
    "id": "33d9b787a54443b48171b23064536c17",
    "time": "2021-02-17T11:29:24.971Z",
    "type": "completion"
   },
   {
    "code": "fig = plt.figure(figsize=(11.75,8.25))\nax = plt.axes()\n\nplt.plot(chn_fr.index, chn_fr.iloc[:, 1], color='tomato')\nplt.plot(chn_fr.index, chn_fr.iloc[:, 2], color='dodgerblue')\n\nax.legend(chn_fr.columns[1:])\nplt.ylabel('Mortality rate, under-5 (per 1,000 live births)')\nplt.title('Under-5 mortality rates in China, 1960-2018', fontdict={'fontsize':14})\nplt.show();",
    "id": "0dec87fd961445e8861771295bf4c136",
    "idx": 4,
    "time": "2021-02-17T11:29:25.997Z",
    "type": "execution"
   },
   {
    "id": "0dec87fd961445e8861771295bf4c136",
    "time": "2021-02-17T11:29:26.618Z",
    "type": "completion"
   },
   {
    "code": "chn_fr = wbdata.get_dataframe({'SH.DYN.MORT':'Mortality rate, under-5 (per 1,000 live births)',\n                              'SH.DYN.MORT.FE':'Mortality rate, under-5, female (per 1,000 live births)',\n                              'SH.DYN.MORT.MA':'Mortality rate, under-5, male (per 1,000 live births)'}, country='CHN')\nchn_fr.index = chn_fr.index.astype(int)\nchn_fr.index = chn_fr.index.rename('year')\nchn_fr = chn_fr.drop([2019, 2020])\nchn_fr.head()",
    "id": "33d9b787a54443b48171b23064536c17",
    "idx": 3,
    "time": "2021-02-17T11:29:51.078Z",
    "type": "execution"
   },
   {
    "id": "33d9b787a54443b48171b23064536c17",
    "time": "2021-02-17T11:29:51.202Z",
    "type": "completion"
   },
   {
    "code": "fig = plt.figure(figsize=(11.75,8.25))\nax = plt.axes()\n\nplt.plot(chn_fr.index, chn_fr.iloc[:, 1], color='tomato')\nplt.plot(chn_fr.index, chn_fr.iloc[:, 2], color='dodgerblue')\n\nax.legend(chn_fr.columns[1:])\nplt.ylabel('Mortality rate, under-5 (per 1,000 live births)')\nplt.title('Under-5 mortality rates in China, 1960-2018', fontdict={'fontsize':14})\nplt.show();",
    "id": "0dec87fd961445e8861771295bf4c136",
    "idx": 4,
    "time": "2021-02-17T11:29:51.417Z",
    "type": "execution"
   },
   {
    "id": "0dec87fd961445e8861771295bf4c136",
    "time": "2021-02-17T11:29:52.022Z",
    "type": "completion"
   },
   {
    "code": "chn_fr = wbdata.get_dataframe({'SH.DTH.NMRT':'Mortality rate, under-5 (per 1,000 live births)',\n                              'SH.DYN.MORT.FE':'Mortality rate, under-5, female (per 1,000 live births)',\n                              'SH.DYN.MORT.MA':'Mortality rate, under-5, male (per 1,000 live births)'}, country='CHN')\nchn_fr.index = chn_fr.index.astype(int)\nchn_fr.index = chn_fr.index.rename('year')\nchn_fr = chn_fr.drop([2019, 2020])\nchn_fr.head()",
    "id": "33d9b787a54443b48171b23064536c17",
    "idx": 3,
    "time": "2021-02-17T11:30:41.190Z",
    "type": "execution"
   },
   {
    "id": "33d9b787a54443b48171b23064536c17",
    "time": "2021-02-17T11:30:42.543Z",
    "type": "completion"
   },
   {
    "code": "fig = plt.figure(figsize=(11.75,8.25))\nax = plt.axes()\n\nplt.plot(chn_fr.index, chn_fr.iloc[:, 0]\n\nax.legend(chn_fr.columns[1:])\nplt.ylabel('Mortality rate, under-5 (per 1,000 live births)')\nplt.title('Under-5 mortality rates in China, 1960-2018', fontdict={'fontsize':14})\nplt.show();",
    "id": "0dec87fd961445e8861771295bf4c136",
    "idx": 4,
    "time": "2021-02-17T11:30:46.489Z",
    "type": "execution"
   },
   {
    "id": "0dec87fd961445e8861771295bf4c136",
    "time": "2021-02-17T11:30:46.604Z",
    "type": "completion"
   },
   {
    "code": "fig = plt.figure(figsize=(11.75,8.25))\nax = plt.axes()\n\nplt.plot(chn_fr.index, chn_fr.iloc[:, 0])\n\nax.legend(chn_fr.columns[1:])\nplt.ylabel('Mortality rate, under-5 (per 1,000 live births)')\nplt.title('Under-5 mortality rates in China, 1960-2018', fontdict={'fontsize':14})\nplt.show();",
    "id": "0dec87fd961445e8861771295bf4c136",
    "idx": 4,
    "time": "2021-02-17T11:30:50.969Z",
    "type": "execution"
   },
   {
    "id": "0dec87fd961445e8861771295bf4c136",
    "time": "2021-02-17T11:30:51.574Z",
    "type": "completion"
   },
   {
    "code": "chn_fr = wbdata.get_dataframe({'SH.DTH.NMRT':'Mortality rate, under-5 (per 1,000 live births)',\n                              'SH.DYN.MORT.FE':'Mortality rate, under-5, female (per 1,000 live births)',\n                              'SH.DYN.MORT.MA':'Mortality rate, under-5, male (per 1,000 live births)'}, country='CHN')\nchn_fr.index = chn_fr.index.astype(int)\nchn_fr.index = chn_fr.index.rename('year')\nchn_fr = chn_fr.drop([2019, 2020])\nchn_fr.head()",
    "id": "33d9b787a54443b48171b23064536c17",
    "idx": 3,
    "time": "2021-02-17T11:31:00.159Z",
    "type": "execution"
   },
   {
    "id": "33d9b787a54443b48171b23064536c17",
    "time": "2021-02-17T11:31:00.341Z",
    "type": "completion"
   },
   {
    "code": "fig = plt.figure(figsize=(11.75,8.25))\nax = plt.axes()\n\nplt.plot(chn_fr.index, chn_fr.iloc[:, 1], color='tomato')\nplt.plot(chn_fr.index, chn_fr.iloc[:, 2], color='dodgerblue')\n\nax.legend(chn_fr.columns[1:])\nplt.ylabel('Mortality rate, under-5 (per 1,000 live births)')\nplt.title('Under-5 mortality rates in China, 1960-2018', fontdict={'fontsize':14})\nplt.show();",
    "id": "0dec87fd961445e8861771295bf4c136",
    "idx": 4,
    "time": "2021-02-17T11:31:00.538Z",
    "type": "execution"
   },
   {
    "id": "0dec87fd961445e8861771295bf4c136",
    "time": "2021-02-17T11:31:01.031Z",
    "type": "completion"
   },
   {
    "code": "chn_fr = wbdata.get_dataframe({'SH.DTH.NMRT':'Mortality rate, under-5 (per 1,000 live births)',\n                              'SH.DYN.MORT.FE':'Mortality rate, under-5, female (per 1,000 live births)',\n                              'SH.DYN.MORT.MA':'Mortality rate, under-5, male (per 1,000 live births)'}, country='CHN')\nchn_fr.index = chn_fr.index.astype(int)\nchn_fr.index = chn_fr.index.rename('year')\nchn_fr = chn_fr.drop([2019, 2020])\nchn_fr.head()",
    "id": "33d9b787a54443b48171b23064536c17",
    "idx": 3,
    "time": "2021-02-17T11:32:08.915Z",
    "type": "execution"
   },
   {
    "id": "33d9b787a54443b48171b23064536c17",
    "time": "2021-02-17T11:32:09.075Z",
    "type": "completion"
   },
   {
    "code": "fig = plt.figure(figsize=(11.75,8.25))\nax = plt.axes()\n\n\nplt.plot(chn_fr.index, chn_fr.iloc[:, 1], color='tomato')\nplt.plot(chn_fr.index, chn_fr.iloc[:, 2], color='dodgerblue')\n\nax.legend(chn_fr.columns[1:])\nplt.ylabel('Mortality rate, under-5 (per 1,000 live births)')\nplt.title('Under-5 mortality rates in China, 1960-2018', fontdict={'fontsize':14})\nplt.show();",
    "id": "0dec87fd961445e8861771295bf4c136",
    "idx": 4,
    "time": "2021-02-17T11:32:09.771Z",
    "type": "execution"
   },
   {
    "id": "0dec87fd961445e8861771295bf4c136",
    "time": "2021-02-17T11:32:10.602Z",
    "type": "completion"
   },
   {
    "code": "fig = plt.figure(figsize=(11.75,8.25))\nax = plt.axes()\n\n\nplt.plot(chn_fr.index, chn_fr.iloc[:, 1], color='tomato')\nplt.plot(chn_fr.index, chn_fr.iloc[:, 2], color='dodgerblue')\n\nax.legend(chn_fr.columns[1:])\nplt.xlabel('year')\nplt.ylabel('Mortality rate, under-5 (per 1,000 live births)')\nplt.title('Under-5 mortality rates in China, 1960-2018', fontdict={'fontsize':14})\nplt.show();",
    "id": "0dec87fd961445e8861771295bf4c136",
    "idx": 4,
    "time": "2021-02-17T11:32:19.631Z",
    "type": "execution"
   },
   {
    "id": "0dec87fd961445e8861771295bf4c136",
    "time": "2021-02-17T11:32:20.196Z",
    "type": "completion"
   },
   {
    "code": "chn_pop = wbdata.get_dataframe({'SP.POP.TOTL.FE.IN':'Population, female',\n                               'SP.POP.TOTL.MA.IN':'Population, male'}, country='CHN')\nchn_pop.index = chn_fr.index.astype(int)\nchn_pop.index = chn_fr.index.rename('year')\nchn_pop = chn_fr.drop([2019, 2020])\nchn_pop.head()",
    "id": "15d0e35bf32b441292c928e4dd2eae01",
    "idx": 5,
    "time": "2021-02-17T11:40:48.022Z",
    "type": "execution"
   },
   {
    "id": "15d0e35bf32b441292c928e4dd2eae01",
    "time": "2021-02-17T11:40:50.504Z",
    "type": "completion"
   },
   {
    "code": "chn_pop = wbdata.get_dataframe({'SP.POP.TOTL.FE.IN':'Population, female',\n                               'SP.POP.TOTL.MA.IN':'Population, male'}, country='CHN')\nchn_pop.index = chn_fr.index.astype(int)\nchn_pop.index = chn_fr.index.rename('year')\nchn_pop",
    "id": "15d0e35bf32b441292c928e4dd2eae01",
    "idx": 5,
    "time": "2021-02-17T11:40:58.815Z",
    "type": "execution"
   },
   {
    "id": "15d0e35bf32b441292c928e4dd2eae01",
    "time": "2021-02-17T11:40:59.089Z",
    "type": "completion"
   },
   {
    "code": "chn_pop = wbdata.get_dataframe({'SP.POP.TOTL.FE.IN':'Population, female',\n                               'SP.POP.TOTL.MA.IN':'Population, male'}, country='CHN')\nchn_pop.index = chn_pop.index.astype(int)\nchn_pop.index = chn_pop.index.rename('year')\nchn_pop",
    "id": "15d0e35bf32b441292c928e4dd2eae01",
    "idx": 5,
    "time": "2021-02-17T11:41:11.767Z",
    "type": "execution"
   },
   {
    "id": "15d0e35bf32b441292c928e4dd2eae01",
    "time": "2021-02-17T11:41:11.966Z",
    "type": "completion"
   },
   {
    "code": "chn_pop = wbdata.get_dataframe({'SP.POP.TOTL.FE.IN':'Population, female',\n                               'SP.POP.TOTL.MA.IN':'Population, male'}, country='CHN')\nchn_pop.index = chn_pop.index.astype(int)\nchn_pop.index = chn_pop.index.rename('year')\nchn_pop.drop([2020])",
    "id": "15d0e35bf32b441292c928e4dd2eae01",
    "idx": 5,
    "time": "2021-02-17T11:41:16.374Z",
    "type": "execution"
   },
   {
    "id": "15d0e35bf32b441292c928e4dd2eae01",
    "time": "2021-02-17T11:41:16.726Z",
    "type": "completion"
   },
   {
    "code": "chn_pop = wbdata.get_dataframe({'SP.POP.TOTL.FE.IN':'Population, female',\n                               'SP.POP.TOTL.MA.IN':'Population, male'}, country='CHN')\nchn_pop.index = chn_pop.index.astype(int)\nchn_pop.index = chn_pop.index.rename('year')\nchn_pop.drop([2020]).head()",
    "id": "15d0e35bf32b441292c928e4dd2eae01",
    "idx": 5,
    "time": "2021-02-17T11:41:24.028Z",
    "type": "execution"
   },
   {
    "id": "15d0e35bf32b441292c928e4dd2eae01",
    "time": "2021-02-17T11:41:24.270Z",
    "type": "completion"
   },
   {
    "code": "chn_pop = wbdata.get_dataframe({'SP.POP.TOTL.FE.IN':'Population, female',\n                               'SP.POP.TOTL.MA.IN':'Population, male',\n                               'SP.POP.0004.FE':'Population ages 00-04, female',\n                               'SP.POP.0004.MA':'Population ages 00-04, male'}, country='CHN')\nchn_pop.index = chn_pop.index.astype(int)\nchn_pop.index = chn_pop.index.rename('year')\nchn_pop.drop([2020]).head()",
    "id": "15d0e35bf32b441292c928e4dd2eae01",
    "idx": 5,
    "time": "2021-02-17T11:42:23.579Z",
    "type": "execution"
   },
   {
    "id": "15d0e35bf32b441292c928e4dd2eae01",
    "time": "2021-02-17T11:42:25.923Z",
    "type": "completion"
   },
   {
    "code": "fig = plt.figure(figsize=(11.75,8.25))\nax = plt.axes()\n\n\nplt.plot(chn_pop.index, chn_fr.iloc[:, 1], color='tomato')\nplt.plot(chn_pop.index, chn_fr.iloc[:, 2], color='dodgerblue')\n\nax.legend(chn_fr.columns[1:])\nplt.xlabel('year')\nplt.ylabel('Mortality rate, under-5 (per 1,000 live births)')\nplt.title('Under-5 mortality rates in China, 1960-2018', fontdict={'fontsize':14})\nplt.show();",
    "id": "85598110bde64a9995e890d03f0b916e",
    "idx": 6,
    "time": "2021-02-17T11:42:42.939Z",
    "type": "execution"
   },
   {
    "id": "85598110bde64a9995e890d03f0b916e",
    "time": "2021-02-17T11:42:43.415Z",
    "type": "completion"
   },
   {
    "code": "fig = plt.figure(figsize=(11.75,8.25))\nax = plt.axes()\n\n\nplt.plot(chn_pop.index, chn_pop.iloc[:, 1], color='tomato')\nplt.plot(chn_pop.index, chn_pop.iloc[:, 2], color='dodgerblue')\n\nax.legend(chn_fr.columns[1:])\nplt.xlabel('year')\nplt.ylabel('Mortality rate, under-5 (per 1,000 live births)')\nplt.title('Under-5 mortality rates in China, 1960-2018', fontdict={'fontsize':14})\nplt.show();",
    "id": "85598110bde64a9995e890d03f0b916e",
    "idx": 6,
    "time": "2021-02-17T11:42:52.009Z",
    "type": "execution"
   },
   {
    "id": "85598110bde64a9995e890d03f0b916e",
    "time": "2021-02-17T11:42:52.682Z",
    "type": "completion"
   },
   {
    "code": "fig = plt.figure(figsize=(11.75,8.25))\nax = plt.axes()\n\n\nplt.plot(chn_pop.index, chn_pop.iloc[:, 2], color='tomato')\nplt.plot(chn_pop.index, chn_pop.iloc[:, 3], color='dodgerblue')\n\nax.legend(chn_fr.columns[1:])\nplt.xlabel('year')\nplt.ylabel('Mortality rate, under-5 (per 1,000 live births)')\nplt.title('Under-5 mortality rates in China, 1960-2018', fontdict={'fontsize':14})\nplt.show();",
    "id": "85598110bde64a9995e890d03f0b916e",
    "idx": 6,
    "time": "2021-02-17T11:43:12.079Z",
    "type": "execution"
   },
   {
    "id": "85598110bde64a9995e890d03f0b916e",
    "time": "2021-02-17T11:43:12.694Z",
    "type": "completion"
   },
   {
    "code": "fig = plt.figure(figsize=(11.75,8.25))\nax = plt.axes()\n\n\nplt.plot(chn_pop.index, chn_pop.iloc[:, 2], color='tomato')\nplt.plot(chn_pop.index, chn_pop.iloc[:, 3], color='dodgerblue')\n\nax.legend(chn_pop.columns[1:])\nplt.xlabel('year')\nplt.ylabel('Mortality rate, under-5 (per 1,000 live births)')\nplt.title('Under-5 mortality rates in China, 1960-2018', fontdict={'fontsize':14})\nplt.show();",
    "id": "85598110bde64a9995e890d03f0b916e",
    "idx": 6,
    "time": "2021-02-17T11:44:19.210Z",
    "type": "execution"
   },
   {
    "id": "85598110bde64a9995e890d03f0b916e",
    "time": "2021-02-17T11:44:19.851Z",
    "type": "completion"
   },
   {
    "code": "fig = plt.figure(figsize=(11.75,8.25))\nax = plt.axes()\n\n\nplt.plot(chn_pop.index, chn_pop.iloc[:, 2], color='tomato')\nplt.plot(chn_pop.index, chn_pop.iloc[:, 3], color='dodgerblue')\n\nax.legend(chn_pop.columns[3:])\nplt.xlabel('year')\nplt.ylabel('Mortality rate, under-5 (per 1,000 live births)')\nplt.title('Under-5 mortality rates in China, 1960-2018', fontdict={'fontsize':14})\nplt.show();",
    "id": "85598110bde64a9995e890d03f0b916e",
    "idx": 6,
    "time": "2021-02-17T11:44:38.252Z",
    "type": "execution"
   },
   {
    "id": "85598110bde64a9995e890d03f0b916e",
    "time": "2021-02-17T11:44:38.817Z",
    "type": "completion"
   },
   {
    "code": "fig = plt.figure(figsize=(11.75,8.25))\nax = plt.axes()\n\n\nplt.plot(chn_pop.index, chn_pop.iloc[:, 2], color='tomato')\nplt.plot(chn_pop.index, chn_pop.iloc[:, 3], color='dodgerblue')\n\nax.legend(chn_pop.columns[2:])\nplt.xlabel('year')\nplt.ylabel('Mortality rate, under-5 (per 1,000 live births)')\nplt.title('Under-5 mortality rates in China, 1960-2018', fontdict={'fontsize':14})\nplt.show();",
    "id": "85598110bde64a9995e890d03f0b916e",
    "idx": 6,
    "time": "2021-02-17T11:44:40.300Z",
    "type": "execution"
   },
   {
    "id": "85598110bde64a9995e890d03f0b916e",
    "time": "2021-02-17T11:44:41.177Z",
    "type": "completion"
   },
   {
    "code": "fig = plt.figure(figsize=(11.75,8.25))\nax = plt.axes()\n\n\nplt.plot(chn_pop.index, chn_pop.iloc[:, 2], color='tomato')\nplt.plot(chn_pop.index, chn_pop.iloc[:, 3], color='dodgerblue')\n\nax.legend(chn_pop.columns[2:])\nplt.xlabel('year')\nplt.ylabel('Population (hundreds of millions))')\nplt.title('Tracking the under-5 population in China over time', fontdict={'fontsize':14})\nplt.show();",
    "id": "85598110bde64a9995e890d03f0b916e",
    "idx": 6,
    "time": "2021-02-17T11:45:57.513Z",
    "type": "execution"
   },
   {
    "id": "85598110bde64a9995e890d03f0b916e",
    "time": "2021-02-17T11:45:58.204Z",
    "type": "completion"
   },
   {
    "code": "fig = plt.figure(figsize=(11.75,8.25))\nax = plt.axes()\n\n\nplt.plot(chn_pop.index, chn_pop.iloc[:, 2], color='tomato')\nplt.plot(chn_pop.index, chn_pop.iloc[:, 3], color='dodgerblue')\n\nax.legend(chn_pop.columns[2:])\nplt.xlabel('year')\nplt.ylabel('Population (hundreds of millions)')\nplt.title('Tracking the under-5 population in China over time', fontdict={'fontsize':14})\nplt.show();",
    "id": "85598110bde64a9995e890d03f0b916e",
    "idx": 6,
    "time": "2021-02-17T11:46:02.182Z",
    "type": "execution"
   },
   {
    "id": "85598110bde64a9995e890d03f0b916e",
    "time": "2021-02-17T11:46:03.100Z",
    "type": "completion"
   },
   {
    "code": "fig = plt.figure(figsize=(11.75,8.25))\nax = plt.axes()\n\n\nplt.plot(chn_pop.index, chn_pop.iloc[:, 2], color='tomato')\nplt.plot(chn_pop.index, chn_pop.iloc[:, 3], color='dodgerblue')\n\nax.legend(chn_pop.columns[2:])\nplt.xlabel('year')\nplt.ylabel('Population (hundreds of millions)')\nplt.title('Tracking under-5 population in China over time', fontdict={'fontsize':14})\nplt.show();",
    "id": "85598110bde64a9995e890d03f0b916e",
    "idx": 6,
    "time": "2021-02-17T11:46:14.533Z",
    "type": "execution"
   },
   {
    "id": "85598110bde64a9995e890d03f0b916e",
    "time": "2021-02-17T11:46:15.290Z",
    "type": "completion"
   }
  ],
  "kernelspec": {
   "display_name": "Python 3",
   "language": "python",
   "name": "python3"
  },
  "language_info": {
   "codemirror_mode": {
    "name": "ipython",
    "version": 3
   },
   "file_extension": ".py",
   "mimetype": "text/x-python",
   "name": "python",
   "nbconvert_exporter": "python",
   "pygments_lexer": "ipython3",
   "version": "3.8.6"
  }
 },
 "nbformat": 4,
 "nbformat_minor": 4
}
