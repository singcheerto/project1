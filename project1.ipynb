{
 "cells": [
  {
   "cell_type": "code",
   "execution_count": 6,
   "metadata": {},
   "outputs": [
    {
     "name": "stdout",
     "output_type": "stream",
     "text": [
      "Requirement already satisfied: wbdata in /opt/conda/lib/python3.8/site-packages (0.3.0)\n",
      "Requirement already satisfied: appdirs<2.0,>=1.4 in /opt/conda/lib/python3.8/site-packages (from wbdata) (1.4.4)\n",
      "Requirement already satisfied: requests>=2.0 in /opt/conda/lib/python3.8/site-packages (from wbdata) (2.25.1)\n",
      "Requirement already satisfied: tabulate>=0.8.5 in /opt/conda/lib/python3.8/site-packages (from wbdata) (0.8.7)\n",
      "Requirement already satisfied: decorator>=4.0 in /opt/conda/lib/python3.8/site-packages (from wbdata) (4.4.2)\n",
      "Requirement already satisfied: chardet<5,>=3.0.2 in /opt/conda/lib/python3.8/site-packages (from requests>=2.0->wbdata) (3.0.4)\n",
      "Requirement already satisfied: urllib3<1.27,>=1.21.1 in /opt/conda/lib/python3.8/site-packages (from requests>=2.0->wbdata) (1.25.7)\n",
      "Requirement already satisfied: certifi>=2017.4.17 in /opt/conda/lib/python3.8/site-packages (from requests>=2.0->wbdata) (2019.11.28)\n",
      "Requirement already satisfied: idna<3,>=2.5 in /opt/conda/lib/python3.8/site-packages (from requests>=2.0->wbdata) (2.8)\n"
     ]
    }
   ],
   "source": [
    "!pip install wbdata\n",
    "\n",
    "import wbdata\n",
    "import numpy as np"
   ]
  },
  {
   "cell_type": "code",
   "execution_count": null,
   "metadata": {},
   "outputs": [],
   "source": []
  },
  {
   "cell_type": "code",
   "execution_count": null,
   "metadata": {},
   "outputs": [],
   "source": []
  },
  {
   "cell_type": "code",
   "execution_count": null,
   "metadata": {},
   "outputs": [],
   "source": []
  },
  {
   "cell_type": "code",
   "execution_count": null,
   "metadata": {},
   "outputs": [],
   "source": []
  },
  {
   "cell_type": "code",
   "execution_count": null,
   "metadata": {},
   "outputs": [],
   "source": []
  },
  {
   "cell_type": "code",
   "execution_count": null,
   "metadata": {},
   "outputs": [],
   "source": []
  },
  {
   "cell_type": "code",
   "execution_count": null,
   "metadata": {},
   "outputs": [],
   "source": []
  }
 ],
 "metadata": {
  "history": [
   {
    "code": "!pip install wbdata\n\nimport wbdata",
    "id": "503a2a0675634712ab00207445461b00",
    "idx": 0,
    "time": "2021-01-25T23:35:43.163Z",
    "type": "execution"
   },
   {
    "id": "503a2a0675634712ab00207445461b00",
    "time": "2021-01-25T23:35:47.100Z",
    "type": "completion"
   },
   {
    "code": "import wbdata\n\n# Return list of all country/region codes:\nwbdata.get_country()\n\n# Return list matching a query term:\nwbdata.search_countries(\"World\")\n\n## Try your own search!\nwbdata.search_countries(\"\")",
    "id": "9e6e96f4d08b46a58d3356ade04a3324",
    "idx": 1,
    "time": "2021-01-25T23:36:39.924Z",
    "type": "execution"
   },
   {
    "id": "9e6e96f4d08b46a58d3356ade04a3324",
    "time": "2021-01-25T23:36:40.373Z",
    "type": "completion"
   },
   {
    "code": "import wbdata\n\n# Return list of all country/region codes:\nwbdata.get_country()\n\n# Return list matching a query term:\nwbdata.search_countries(\"World\")\n\n## Try your own search!\nwbdata.search_countries(\"China\")",
    "id": "9e6e96f4d08b46a58d3356ade04a3324",
    "idx": 1,
    "time": "2021-01-25T23:37:04.665Z",
    "type": "execution"
   },
   {
    "id": "9e6e96f4d08b46a58d3356ade04a3324",
    "time": "2021-01-25T23:37:05.093Z",
    "type": "completion"
   },
   {
    "code": "import wbdata\n\n# Return list of all country/region codes:\nwbdata.get_country()\n\n# Return list matching a query term:\nwbdata.search_countries(\"World\")\n\n## Try your own search!\nwbdata.search_countries(\"\")",
    "id": "9e6e96f4d08b46a58d3356ade04a3324",
    "idx": 1,
    "time": "2021-01-25T23:41:17.559Z",
    "type": "execution"
   },
   {
    "id": "9e6e96f4d08b46a58d3356ade04a3324",
    "time": "2021-01-25T23:41:17.656Z",
    "type": "completion"
   },
   {
    "code": "import wbdata\n\n# Return list of all country/region codes:\nwbdata.get_country()\n\n# Return list matching a query term:\nwbdata.search_countries(\"World\")\n\n## Try your own search!\nwbdata.search_countries(\"CEA\")",
    "id": "9e6e96f4d08b46a58d3356ade04a3324",
    "idx": 1,
    "time": "2021-01-25T23:41:26.249Z",
    "type": "execution"
   },
   {
    "id": "9e6e96f4d08b46a58d3356ade04a3324",
    "time": "2021-01-25T23:41:26.552Z",
    "type": "completion"
   },
   {
    "code": "import wbdata\n\n# Return list of all country/region codes:\nwbdata.get_country()\n\n# Return list matching a query term:\nwbdata.search_countries(\"World\")\n\n## Try your own search!\nwbdata.search_countries(\"East Asia\")",
    "id": "9e6e96f4d08b46a58d3356ade04a3324",
    "idx": 1,
    "time": "2021-01-25T23:41:58.690Z",
    "type": "execution"
   },
   {
    "id": "9e6e96f4d08b46a58d3356ade04a3324",
    "time": "2021-01-25T23:41:58.891Z",
    "type": "completion"
   },
   {
    "code": "wbdata.get_source()",
    "id": "90782f9d5ae94e8c87be0c638218d58e",
    "idx": 2,
    "time": "2021-01-25T23:43:10.820Z",
    "type": "execution"
   },
   {
    "id": "90782f9d5ae94e8c87be0c638218d58e",
    "time": "2021-01-25T23:43:11.188Z",
    "type": "completion"
   },
   {
    "code": "SOURCE = 40 # \"Population estimates and projections\n\nindicators = wbdata.get_indicator(source=SOURCE)\nindicators",
    "id": "3b4742e6ef134e5d80b6674e028c0a6d",
    "idx": 3,
    "time": "2021-01-25T23:46:54.429Z",
    "type": "execution"
   },
   {
    "id": "3b4742e6ef134e5d80b6674e028c0a6d",
    "time": "2021-01-25T23:46:54.640Z",
    "type": "completion"
   },
   {
    "code": "!pip install cufflinks # IF NECESSARY\nimport cufflinks as cf\ncf.go_offline()",
    "id": "edf3e3c7fe95478f934dcf8427721a78",
    "idx": 4,
    "time": "2021-01-25T23:47:42.490Z",
    "type": "execution"
   },
   {
    "id": "edf3e3c7fe95478f934dcf8427721a78",
    "time": "2021-01-25T23:47:47.847Z",
    "type": "completion"
   },
   {
    "code": "import wbdata\n\n# Return list of all country/region codes:\nwbdata.get_country()\n\n# Return list matching a query term:\nwbdata.search_countries(\"World\")\n\n## Try your own search!\nwbdata.search_countries(\"China\")",
    "id": "9e6e96f4d08b46a58d3356ade04a3324",
    "idx": 1,
    "time": "2021-01-25T23:49:27.418Z",
    "type": "execution"
   },
   {
    "id": "9e6e96f4d08b46a58d3356ade04a3324",
    "time": "2021-01-25T23:49:27.556Z",
    "type": "completion"
   },
   {
    "code": "import wbdata\n\n# Return list of all country/region codes:\nwbdata.get_country()\n\n# Return list matching a query term:\nwbdata.search_countries(\"World\")\n\n## Try your own search!\nwbdata.search_countries(\"Mongolia\")",
    "id": "9e6e96f4d08b46a58d3356ade04a3324",
    "idx": 1,
    "time": "2021-01-25T23:52:43.948Z",
    "type": "execution"
   },
   {
    "id": "9e6e96f4d08b46a58d3356ade04a3324",
    "time": "2021-01-25T23:52:44.381Z",
    "type": "completion"
   },
   {
    "code": "import wbdata\n\n# Return list of all country/region codes:\nwbdata.get_country()\n\n# Return list matching a query term:\nwbdata.search_countries(\"World\")\n\n## Try your own search!\nwbdata.search_countries(\"nORTH kOREA\")",
    "id": "9e6e96f4d08b46a58d3356ade04a3324",
    "idx": 1,
    "time": "2021-01-25T23:53:17.375Z",
    "type": "execution"
   },
   {
    "id": "9e6e96f4d08b46a58d3356ade04a3324",
    "time": "2021-01-25T23:53:17.535Z",
    "type": "completion"
   },
   {
    "code": "import wbdata\n\n# Return list of all country/region codes:\nwbdata.get_country()\n\n# Return list matching a query term:\nwbdata.search_countries(\"World\")\n\n## Try your own search!\nwbdata.search_countries(\"North Korea\")",
    "id": "9e6e96f4d08b46a58d3356ade04a3324",
    "idx": 1,
    "time": "2021-01-25T23:53:23.147Z",
    "type": "execution"
   },
   {
    "id": "9e6e96f4d08b46a58d3356ade04a3324",
    "time": "2021-01-25T23:53:23.366Z",
    "type": "completion"
   },
   {
    "code": "import wbdata\n\n# Return list of all country/region codes:\nwbdata.get_country()\n\n# Return list matching a query term:\nwbdata.search_countries(\"World\")\n\n## Try your own search!\nwbdata.search_countries(\"Korea\")",
    "id": "9e6e96f4d08b46a58d3356ade04a3324",
    "idx": 1,
    "time": "2021-01-25T23:53:29.993Z",
    "type": "execution"
   },
   {
    "id": "9e6e96f4d08b46a58d3356ade04a3324",
    "time": "2021-01-25T23:53:30.067Z",
    "type": "completion"
   },
   {
    "code": "import wbdata\n\n# Return list of all country/region codes:\nwbdata.get_country()\n\n# Return list matching a query term:\nwbdata.search_countries(\"World\")\n\n## Try your own search!\nwbdata.search_countries(\"Japan\")",
    "id": "9e6e96f4d08b46a58d3356ade04a3324",
    "idx": 1,
    "time": "2021-01-25T23:54:12.781Z",
    "type": "execution"
   },
   {
    "id": "9e6e96f4d08b46a58d3356ade04a3324",
    "time": "2021-01-25T23:54:12.956Z",
    "type": "completion"
   },
   {
    "code": "import numpy as np\n\nvariable_labels = {\"SP.POP.TOTL\":\"Population\"}\n\n# Three letter codes come from wbdata.get_country()\ncountries = {\"EAS\":\"East Asia & Pacific\",\n             \"CHN\": \"China\",\n             \"HKG\": \"Hong Kong SAR, China\",\n             \"MAC\": \"Macao SAR, China\"\n             \"TWN\": \"Taiwan, China\"\n             \"MNG\": \"Mongolia\",\n             \"PRK\": \"North Korea\",\n             \"KOR\": \"South Korea\",\n             \"JPN\":\"Japan\"\n            }\n\ndf = wbdata.get_dataframe(variable_labels, country = countries).squeeze()\n\ndf = df.unstack('country')\n# Date index is of type string; change to integers\ndf.index = df.index.astype(int)\n\n# Differences (over time) in logs give us growth rates\nnp.log(df).diff().iplot(title=\"Fact II: Poorer places have higher growth rates\",\n                        yTitle=\"Growth Rate\",xTitle='Year')",
    "id": "04ac5e0c01b54303b07a4e5b6a9074f8",
    "idx": 5,
    "time": "2021-01-25T23:54:19.095Z",
    "type": "execution"
   },
   {
    "id": "04ac5e0c01b54303b07a4e5b6a9074f8",
    "time": "2021-01-25T23:54:19.859Z",
    "type": "completion"
   },
   {
    "code": "import numpy as np\n\nvariable_labels = {\"SP.POP.TOTL\":\"Population\"}\n\n# Three letter codes come from wbdata.get_country()\ncountries = {\"EAS\":\"East Asia & Pacific\",\n             \"CHN\": \"China\",\n             \"HKG\": \"Hong Kong SAR, China\",\n             \"MAC\": \"Macao SAR, China\",\n             \"TWN\": \"Taiwan, China\",\n             \"MNG\": \"Mongolia\",\n             \"PRK\": \"North Korea\",\n             \"KOR\": \"South Korea\",\n             \"JPN\":\"Japan\"\n            }\n\ndf = wbdata.get_dataframe(variable_labels, country = countries).squeeze()\n\ndf = df.unstack('country')\n# Date index is of type string; change to integers\ndf.index = df.index.astype(int)\n\n# Differences (over time) in logs give us growth rates\nnp.log(df).diff().iplot(title=\"Fact II: Poorer places have higher growth rates\",\n                        yTitle=\"Growth Rate\",xTitle='Year')",
    "id": "04ac5e0c01b54303b07a4e5b6a9074f8",
    "idx": 5,
    "time": "2021-01-25T23:54:27.212Z",
    "type": "execution"
   },
   {
    "id": "04ac5e0c01b54303b07a4e5b6a9074f8",
    "time": "2021-01-25T23:54:28.409Z",
    "type": "completion"
   },
   {
    "code": "import numpy as np\n\nvariable_labels = {\"SP.POP.TOTL\":\"Population\"}\n\n# Three letter codes come from wbdata.get_country()\ncountries = {\"EAS\":\"East Asia & Pacific\",\n             \"CHN\": \"China\",\n             #\"HKG\": \"Hong Kong SAR, China\",\n             #\"MAC\": \"Macao SAR, China\",\n             #\"TWN\": \"Taiwan, China\",\n             \"MNG\": \"Mongolia\",\n             \"PRK\": \"North Korea\",\n             \"KOR\": \"South Korea\",\n             \"JPN\":\"Japan\"\n            }\n\ndf = wbdata.get_dataframe(variable_labels, country = countries).squeeze()\n\ndf = df.unstack('country')\n# Date index is of type string; change to integers\ndf.index = df.index.astype(int)\n\n# Differences (over time) in logs give us growth rates\nnp.log(df).diff().iplot(title=\"Fact II: Poorer places have higher growth rates\",\n                        yTitle=\"Growth Rate\",xTitle='Year')",
    "id": "04ac5e0c01b54303b07a4e5b6a9074f8",
    "idx": 5,
    "time": "2021-01-25T23:56:04.586Z",
    "type": "execution"
   },
   {
    "id": "04ac5e0c01b54303b07a4e5b6a9074f8",
    "time": "2021-01-25T23:56:06.125Z",
    "type": "completion"
   },
   {
    "code": "import numpy as np\n\nvariable_labels = {\"SP.POP.TOTL\":\"Population\"}\n\n# Three letter codes come from wbdata.get_country()\ncountries = {\"EAS\":\"East Asia & Pacific\",\n             \"CHN\": \"China\",\n             \"HKG\": \"Hong Kong SAR, China\",\n             \"MAC\": \"Macao SAR, China\",\n             \"TWN\": \"Taiwan, China\",\n            }\n\ndf = wbdata.get_dataframe(variable_labels, country = countries).squeeze()\n\ndf = df.unstack('country')\n# Date index is of type string; change to integers\ndf.index = df.index.astype(int)\n\n# Differences (over time) in logs give us growth rates\nnp.log(df).diff().iplot(title=\"Fact II: Poorer places have higher growth rates\",\n                        yTitle=\"Growth Rate\",xTitle='Year')",
    "id": "4da3e0bb8f7041908a19c3dab1e7647f",
    "idx": 6,
    "time": "2021-01-25T23:59:35.130Z",
    "type": "execution"
   },
   {
    "id": "4da3e0bb8f7041908a19c3dab1e7647f",
    "time": "2021-01-25T23:59:39.122Z",
    "type": "completion"
   },
   {
    "code": "import numpy as np\n\nvariable_labels = {\"SP.POP.TOTL\":\"Population\"}\n\n# Three letter codes come from wbdata.get_country()\ncountries = {\"CHN\": \"China\",\n             \"HKG\": \"Hong Kong SAR, China\",\n             \"MAC\": \"Macao SAR, China\",\n             \"TWN\": \"Taiwan, China\",\n            }\n\ndf = wbdata.get_dataframe(variable_labels, country = countries).squeeze()\n\ndf = df.unstack('country')\n# Date index is of type string; change to integers\ndf.index = df.index.astype(int)\n\n# Differences (over time) in logs give us growth rates\nnp.log(df).diff().iplot(title=\"Fact II: Poorer places have higher growth rates\",\n                        yTitle=\"Growth Rate\",xTitle='Year')",
    "id": "4da3e0bb8f7041908a19c3dab1e7647f",
    "idx": 6,
    "time": "2021-01-25T23:59:43.859Z",
    "type": "execution"
   },
   {
    "id": "4da3e0bb8f7041908a19c3dab1e7647f",
    "time": "2021-01-25T23:59:45.000Z",
    "type": "completion"
   },
   {
    "code": "import wbdata\n\n# Return list of all country/region codes:\nwbdata.get_country()\n\n# Return list matching a query term:\nwbdata.search_countries(\"World\")\n\n## Try your own search!\nwbdata.search_countries(\"China\")",
    "id": "0e8e238662f843a6910f3fb1c9fdcb9d",
    "idx": 1,
    "time": "2021-01-29T18:34:10.907Z",
    "type": "execution"
   },
   {
    "id": "0e8e238662f843a6910f3fb1c9fdcb9d",
    "time": "2021-01-29T18:34:11.071Z",
    "type": "completion"
   },
   {
    "code": "import wbdata\n\n# Return list of all country/region codes:\n# wbdata.get_country()\n# testing\n\n# Return list matching a query term:\nwbdata.search_countries(\"World\")\n\n## Try your own search!\nwbdata.search_countries(\"Japan\")",
    "id": "0e8e238662f843a6910f3fb1c9fdcb9d",
    "idx": 1,
    "time": "2021-01-29T18:34:30.954Z",
    "type": "execution"
   },
   {
    "id": "0e8e238662f843a6910f3fb1c9fdcb9d",
    "time": "2021-01-29T18:34:31.022Z",
    "type": "completion"
   },
   {
    "code": "!pip install wbdata\n\nimport wbdata",
    "id": "5d1d27f78124422c8313f2e389aa2cbf",
    "idx": 0,
    "time": "2021-01-29T18:34:39.959Z",
    "type": "execution"
   },
   {
    "code": "import wbdata\n\n# Return list of all country/region codes:\n# wbdata.get_country()\n# testing\n\n# Return list matching a query term:\nwbdata.search_countries(\"World\")\n\n## Try your own search!\nwbdata.search_countries(\"Japan\")",
    "id": "0e8e238662f843a6910f3fb1c9fdcb9d",
    "idx": 1,
    "time": "2021-01-29T18:34:40.354Z",
    "type": "execution"
   },
   {
    "id": "5d1d27f78124422c8313f2e389aa2cbf",
    "time": "2021-01-29T18:34:44.468Z",
    "type": "completion"
   },
   {
    "id": "0e8e238662f843a6910f3fb1c9fdcb9d",
    "time": "2021-01-29T18:34:44.489Z",
    "type": "completion"
   },
   {
    "code": "import numpy as np\n\nvariable_labels = {\"SP.POP.TOTL\":\"Population\"}\n\n# Three letter codes come from wbdata.get_country()\ncountries = {\"EAS\":\"East Asia & Pacific\",\n             \"CHN\": \"China\",\n             #\"HKG\": \"Hong Kong SAR, China\",\n             #\"MAC\": \"Macao SAR, China\",\n             #\"TWN\": \"Taiwan, China\",\n             \"MNG\": \"Mongolia\",\n             \"PRK\": \"North Korea\",\n             \"KOR\": \"South Korea\",\n             \"JPN\":\"Japan\"\n            }\n\ndf = wbdata.get_dataframe(variable_labels, country = countries).squeeze()\n\ndf = df.unstack('country')\n# Date index is of type string; change to integers\ndf.index = df.index.astype(int)\n\n# Differences (over time) in logs give us growth rates\nnp.log(df).diff().iplot(title=\"Fact II: Poorer places have higher growth rates\",\n                        yTitle=\"Growth Rate\",xTitle='Year')",
    "id": "bb22db0fc8804237b445649180fa9a6f",
    "idx": 5,
    "time": "2021-01-29T18:49:00.374Z",
    "type": "execution"
   },
   {
    "id": "bb22db0fc8804237b445649180fa9a6f",
    "time": "2021-01-29T18:49:00.669Z",
    "type": "completion"
   },
   {
    "code": "import numpy as np\n\nvariable_labels = {\"SP.POP.TOTL\":\"Population\"}\n\n# Three letter codes come from wbdata.get_country()\ncountries = {\"EAS\":\"East Asia & Pacific\",\n             \"CHN\": \"China\",\n             #\"HKG\": \"Hong Kong SAR, China\",\n             #\"MAC\": \"Macao SAR, China\",\n             #\"TWN\": \"Taiwan, China\",\n             \"MNG\": \"Mongolia\",\n             \"PRK\": \"North Korea\",\n             \"KOR\": \"South Korea\",\n             \"JPN\":\"Japan\"\n            }\n\ndf = wbdata.get_dataframe(variable_labels, country = countries).squeeze()\n\ndf = df.unstack('country')\n# Date index is of type string; change to integers\ndf.index = df.index.astype(int)\n\n# Differences (over time) in logs give us growth rates\nnp.log(df).diff().iplot(title=\"Fact II: Poorer places have higher growth rates\",\n                        yTitle=\"Growth Rate\",xTitle='Year')",
    "id": "bb22db0fc8804237b445649180fa9a6f",
    "idx": 5,
    "time": "2021-01-29T18:49:05.251Z",
    "type": "execution"
   },
   {
    "id": "bb22db0fc8804237b445649180fa9a6f",
    "time": "2021-01-29T18:49:05.314Z",
    "type": "completion"
   },
   {
    "code": "import numpy as np\n\nvariable_labels = {\"SP.POP.TOTL\":\"Population\"}\n\n# Three letter codes come from wbdata.get_country()\ncountries = {\"EAS\":\"East Asia & Pacific\",\n             \"CHN\": \"China\",\n             #\"HKG\": \"Hong Kong SAR, China\",\n             #\"MAC\": \"Macao SAR, China\",\n             #\"TWN\": \"Taiwan, China\",\n             \"MNG\": \"Mongolia\",\n             \"PRK\": \"North Korea\",\n             \"KOR\": \"South Korea\",\n             \"JPN\":\"Japan\"\n            }\n\ndf = wbdata.get_dataframe(variable_labels, country = countries).squeeze()\n\ndf = df.unstack('country')\n# Date index is of type string; change to integers\ndf.index = df.index.astype(int)\n\n# Differences (over time) in logs give us growth rates\nnp.log(df).diff().iplot(title=\"Fact II: Poorer places have higher growth rates\",\n                        yTitle=\"Growth Rate\",xTitle='Year')",
    "id": "bb22db0fc8804237b445649180fa9a6f",
    "idx": 5,
    "time": "2021-01-29T18:49:08.671Z",
    "type": "execution"
   },
   {
    "id": "bb22db0fc8804237b445649180fa9a6f",
    "time": "2021-01-29T18:49:08.736Z",
    "type": "completion"
   },
   {
    "code": "import wbdata\n\n# Return list of all country/region codes:\nwbdata.get_country()\n# testing\n\n# Return list matching a query term:\nwbdata.search_countries(\"World\")\n\n## Try your own search!\nwbdata.search_countries(\"Japan\")",
    "id": "b2706283c58241e0aa60ea39deedc48d",
    "idx": 1,
    "time": "2021-01-29T18:49:30.592Z",
    "type": "execution"
   },
   {
    "id": "b2706283c58241e0aa60ea39deedc48d",
    "time": "2021-01-29T18:49:30.686Z",
    "type": "completion"
   },
   {
    "code": "!pip install wbdata\n\nimport wbdata",
    "id": "b77b29f5fc3244b595d20f089dfb2e84",
    "idx": 0,
    "time": "2021-01-29T18:50:46.752Z",
    "type": "execution"
   },
   {
    "id": "b77b29f5fc3244b595d20f089dfb2e84",
    "time": "2021-01-29T18:50:51.025Z",
    "type": "completion"
   },
   {
    "code": "!pip install wbdata\n\nimport wbdata\nimport numpy as np",
    "id": "b77b29f5fc3244b595d20f089dfb2e84",
    "idx": 0,
    "time": "2021-01-29T18:50:52.961Z",
    "type": "execution"
   },
   {
    "id": "b77b29f5fc3244b595d20f089dfb2e84",
    "time": "2021-01-29T18:50:56.394Z",
    "type": "completion"
   }
  ],
  "kernelspec": {
   "display_name": "Python 3",
   "language": "python",
   "name": "python3"
  },
  "language_info": {
   "codemirror_mode": {
    "name": "ipython",
    "version": 3
   },
   "file_extension": ".py",
   "mimetype": "text/x-python",
   "name": "python",
   "nbconvert_exporter": "python",
   "pygments_lexer": "ipython3",
   "version": "3.8.6"
  }
 },
 "nbformat": 4,
 "nbformat_minor": 4
}
