{
 "cells": [
  {
   "cell_type": "code",
   "execution_count": 1,
   "metadata": {},
   "outputs": [
    {
     "name": "stdout",
     "output_type": "stream",
     "text": [
      "Collecting wbdata\n",
      "  Using cached wbdata-0.3.0-py3-none-any.whl (14 kB)\n",
      "Requirement already satisfied: requests>=2.0 in /opt/conda/lib/python3.8/site-packages (from wbdata) (2.25.1)\n",
      "Collecting tabulate>=0.8.5\n",
      "  Using cached tabulate-0.8.7-py3-none-any.whl (24 kB)\n",
      "Requirement already satisfied: decorator>=4.0 in /opt/conda/lib/python3.8/site-packages (from wbdata) (4.4.2)\n",
      "Requirement already satisfied: appdirs<2.0,>=1.4 in /opt/conda/lib/python3.8/site-packages (from wbdata) (1.4.4)\n",
      "Requirement already satisfied: idna<3,>=2.5 in /opt/conda/lib/python3.8/site-packages (from requests>=2.0->wbdata) (2.8)\n",
      "Requirement already satisfied: urllib3<1.27,>=1.21.1 in /opt/conda/lib/python3.8/site-packages (from requests>=2.0->wbdata) (1.25.7)\n",
      "Requirement already satisfied: chardet<5,>=3.0.2 in /opt/conda/lib/python3.8/site-packages (from requests>=2.0->wbdata) (3.0.4)\n",
      "Requirement already satisfied: certifi>=2017.4.17 in /opt/conda/lib/python3.8/site-packages (from requests>=2.0->wbdata) (2019.11.28)\n",
      "Installing collected packages: tabulate, wbdata\n",
      "Successfully installed tabulate-0.8.7 wbdata-0.3.0\n"
     ]
    }
   ],
   "source": [
    "!pip install wbdata\n",
    "\n",
    "import wbdata\n",
    "import numpy as np\n",
    "import re "
   ]
  },
  {
   "cell_type": "code",
   "execution_count": 2,
   "metadata": {},
   "outputs": [
    {
     "data": {
      "text/plain": [
       "id    name\n",
       "----  --------------------------------------------------------------------------------\n",
       "ABW   Aruba\n",
       "AFG   Afghanistan\n",
       "AFR   Africa\n",
       "AGO   Angola\n",
       "ALB   Albania\n",
       "AND   Andorra\n",
       "ARB   Arab World\n",
       "ARE   United Arab Emirates\n",
       "ARG   Argentina\n",
       "ARM   Armenia\n",
       "ASM   American Samoa\n",
       "ATG   Antigua and Barbuda\n",
       "AUS   Australia\n",
       "AUT   Austria\n",
       "AZE   Azerbaijan\n",
       "BDI   Burundi\n",
       "BEA   East Asia & Pacific (IBRD-only countries)\n",
       "BEC   Europe & Central Asia (IBRD-only countries)\n",
       "BEL   Belgium\n",
       "BEN   Benin\n",
       "BFA   Burkina Faso\n",
       "BGD   Bangladesh\n",
       "BGR   Bulgaria\n",
       "BHI   IBRD countries classified as high income\n",
       "BHR   Bahrain\n",
       "BHS   Bahamas, The\n",
       "BIH   Bosnia and Herzegovina\n",
       "BLA   Latin America & the Caribbean (IBRD-only countries)\n",
       "BLR   Belarus\n",
       "BLZ   Belize\n",
       "BMN   Middle East & North Africa (IBRD-only countries)\n",
       "BMU   Bermuda\n",
       "BOL   Bolivia\n",
       "BRA   Brazil\n",
       "BRB   Barbados\n",
       "BRN   Brunei Darussalam\n",
       "BSS   Sub-Saharan Africa (IBRD-only countries)\n",
       "BTN   Bhutan\n",
       "BWA   Botswana\n",
       "CAA   Sub-Saharan Africa (IFC classification)\n",
       "CAF   Central African Republic\n",
       "CAN   Canada\n",
       "CEA   East Asia and the Pacific (IFC classification)\n",
       "CEB   Central Europe and the Baltics\n",
       "CEU   Europe and Central Asia (IFC classification)\n",
       "CHE   Switzerland\n",
       "CHI   Channel Islands\n",
       "CHL   Chile\n",
       "CHN   China\n",
       "CIV   Cote d'Ivoire\n",
       "CLA   Latin America and the Caribbean (IFC classification)\n",
       "CME   Middle East and North Africa (IFC classification)\n",
       "CMR   Cameroon\n",
       "COD   Congo, Dem. Rep.\n",
       "COG   Congo, Rep.\n",
       "COL   Colombia\n",
       "COM   Comoros\n",
       "CPV   Cabo Verde\n",
       "CRI   Costa Rica\n",
       "CSA   South Asia (IFC classification)\n",
       "CSS   Caribbean small states\n",
       "CUB   Cuba\n",
       "CUW   Curacao\n",
       "CYM   Cayman Islands\n",
       "CYP   Cyprus\n",
       "CZE   Czech Republic\n",
       "DEA   East Asia & Pacific (IDA-eligible countries)\n",
       "DEC   Europe & Central Asia (IDA-eligible countries)\n",
       "DEU   Germany\n",
       "DFS   IDA countries classified as Fragile Situations\n",
       "DJI   Djibouti\n",
       "DLA   Latin America & the Caribbean (IDA-eligible countries)\n",
       "DMA   Dominica\n",
       "DMN   Middle East & North Africa (IDA-eligible countries)\n",
       "DNF   IDA countries not classified as Fragile Situations\n",
       "DNK   Denmark\n",
       "DNS   IDA countries in Sub-Saharan Africa not classified as fragile situations\n",
       "DOM   Dominican Republic\n",
       "DSA   South Asia (IDA-eligible countries)\n",
       "DSF   IDA countries in Sub-Saharan Africa classified as fragile situations\n",
       "DSS   Sub-Saharan Africa (IDA-eligible countries)\n",
       "DZA   Algeria\n",
       "EAP   East Asia & Pacific (excluding high income)\n",
       "EAR   Early-demographic dividend\n",
       "EAS   East Asia & Pacific\n",
       "ECA   Europe & Central Asia (excluding high income)\n",
       "ECS   Europe & Central Asia\n",
       "ECU   Ecuador\n",
       "EGY   Egypt, Arab Rep.\n",
       "EMU   Euro area\n",
       "ERI   Eritrea\n",
       "ESP   Spain\n",
       "EST   Estonia\n",
       "ETH   Ethiopia\n",
       "EUU   European Union\n",
       "FCS   Fragile and conflict affected situations\n",
       "FIN   Finland\n",
       "FJI   Fiji\n",
       "FRA   France\n",
       "FRO   Faroe Islands\n",
       "FSM   Micronesia, Fed. Sts.\n",
       "FXS   IDA countries classified as fragile situations, excluding Sub-Saharan Africa\n",
       "GAB   Gabon\n",
       "GBR   United Kingdom\n",
       "GEO   Georgia\n",
       "GHA   Ghana\n",
       "GIB   Gibraltar\n",
       "GIN   Guinea\n",
       "GMB   Gambia, The\n",
       "GNB   Guinea-Bissau\n",
       "GNQ   Equatorial Guinea\n",
       "GRC   Greece\n",
       "GRD   Grenada\n",
       "GRL   Greenland\n",
       "GTM   Guatemala\n",
       "GUM   Guam\n",
       "GUY   Guyana\n",
       "HIC   High income\n",
       "HKG   Hong Kong SAR, China\n",
       "HND   Honduras\n",
       "HPC   Heavily indebted poor countries (HIPC)\n",
       "HRV   Croatia\n",
       "HTI   Haiti\n",
       "HUN   Hungary\n",
       "IBB   IBRD, including blend\n",
       "IBD   IBRD only\n",
       "IBT   IDA & IBRD total\n",
       "IDA   IDA total\n",
       "IDB   IDA blend\n",
       "IDN   Indonesia\n",
       "IDX   IDA only\n",
       "IMN   Isle of Man\n",
       "IND   India\n",
       "INX   Not classified\n",
       "IRL   Ireland\n",
       "IRN   Iran, Islamic Rep.\n",
       "IRQ   Iraq\n",
       "ISL   Iceland\n",
       "ISR   Israel\n",
       "ITA   Italy\n",
       "JAM   Jamaica\n",
       "JOR   Jordan\n",
       "JPN   Japan\n",
       "KAZ   Kazakhstan\n",
       "KEN   Kenya\n",
       "KGZ   Kyrgyz Republic\n",
       "KHM   Cambodia\n",
       "KIR   Kiribati\n",
       "KNA   St. Kitts and Nevis\n",
       "KOR   Korea, Rep.\n",
       "KWT   Kuwait\n",
       "LAC   Latin America & Caribbean (excluding high income)\n",
       "LAO   Lao PDR\n",
       "LBN   Lebanon\n",
       "LBR   Liberia\n",
       "LBY   Libya\n",
       "LCA   St. Lucia\n",
       "LCN   Latin America & Caribbean\n",
       "LDC   Least developed countries: UN classification\n",
       "LIC   Low income\n",
       "LIE   Liechtenstein\n",
       "LKA   Sri Lanka\n",
       "LMC   Lower middle income\n",
       "LMY   Low & middle income\n",
       "LSO   Lesotho\n",
       "LTE   Late-demographic dividend\n",
       "LTU   Lithuania\n",
       "LUX   Luxembourg\n",
       "LVA   Latvia\n",
       "MAC   Macao SAR, China\n",
       "MAF   St. Martin (French part)\n",
       "MAR   Morocco\n",
       "MCO   Monaco\n",
       "MDA   Moldova\n",
       "MDE   Middle East (developing only)\n",
       "MDG   Madagascar\n",
       "MDV   Maldives\n",
       "MEA   Middle East & North Africa\n",
       "MEX   Mexico\n",
       "MHL   Marshall Islands\n",
       "MIC   Middle income\n",
       "MKD   North Macedonia\n",
       "MLI   Mali\n",
       "MLT   Malta\n",
       "MMR   Myanmar\n",
       "MNA   Middle East & North Africa (excluding high income)\n",
       "MNE   Montenegro\n",
       "MNG   Mongolia\n",
       "MNP   Northern Mariana Islands\n",
       "MOZ   Mozambique\n",
       "MRT   Mauritania\n",
       "MUS   Mauritius\n",
       "MWI   Malawi\n",
       "MYS   Malaysia\n",
       "NAC   North America\n",
       "NAF   North Africa\n",
       "NAM   Namibia\n",
       "NCL   New Caledonia\n",
       "NER   Niger\n",
       "NGA   Nigeria\n",
       "NIC   Nicaragua\n",
       "NLD   Netherlands\n",
       "NOR   Norway\n",
       "NPL   Nepal\n",
       "NRS   Non-resource rich Sub-Saharan Africa countries\n",
       "NRU   Nauru\n",
       "NXS   IDA countries not classified as fragile situations, excluding Sub-Saharan Africa\n",
       "NZL   New Zealand\n",
       "OED   OECD members\n",
       "OMN   Oman\n",
       "OSS   Other small states\n",
       "PAK   Pakistan\n",
       "PAN   Panama\n",
       "PER   Peru\n",
       "PHL   Philippines\n",
       "PLW   Palau\n",
       "PNG   Papua New Guinea\n",
       "POL   Poland\n",
       "PRE   Pre-demographic dividend\n",
       "PRI   Puerto Rico\n",
       "PRK   Korea, Dem. People’s Rep.\n",
       "PRT   Portugal\n",
       "PRY   Paraguay\n",
       "PSE   West Bank and Gaza\n",
       "PSS   Pacific island small states\n",
       "PST   Post-demographic dividend\n",
       "PYF   French Polynesia\n",
       "QAT   Qatar\n",
       "ROU   Romania\n",
       "RRS   Resource rich Sub-Saharan Africa countries\n",
       "RUS   Russian Federation\n",
       "RWA   Rwanda\n",
       "SAS   South Asia\n",
       "SAU   Saudi Arabia\n",
       "SDN   Sudan\n",
       "SEN   Senegal\n",
       "SGP   Singapore\n",
       "SLB   Solomon Islands\n",
       "SLE   Sierra Leone\n",
       "SLV   El Salvador\n",
       "SMR   San Marino\n",
       "SOM   Somalia\n",
       "SRB   Serbia\n",
       "SSA   Sub-Saharan Africa (excluding high income)\n",
       "SSD   South Sudan\n",
       "SSF   Sub-Saharan Africa\n",
       "SST   Small states\n",
       "STP   Sao Tome and Principe\n",
       "SUR   Suriname\n",
       "SVK   Slovak Republic\n",
       "SVN   Slovenia\n",
       "SWE   Sweden\n",
       "SWZ   Eswatini\n",
       "SXM   Sint Maarten (Dutch part)\n",
       "SXZ   Sub-Saharan Africa excluding South Africa\n",
       "SYC   Seychelles\n",
       "SYR   Syrian Arab Republic\n",
       "TCA   Turks and Caicos Islands\n",
       "TCD   Chad\n",
       "TEA   East Asia & Pacific (IDA & IBRD countries)\n",
       "TEC   Europe & Central Asia (IDA & IBRD countries)\n",
       "TGO   Togo\n",
       "THA   Thailand\n",
       "TJK   Tajikistan\n",
       "TKM   Turkmenistan\n",
       "TLA   Latin America & the Caribbean (IDA & IBRD countries)\n",
       "TLS   Timor-Leste\n",
       "TMN   Middle East & North Africa (IDA & IBRD countries)\n",
       "TON   Tonga\n",
       "TSA   South Asia (IDA & IBRD)\n",
       "TSS   Sub-Saharan Africa (IDA & IBRD countries)\n",
       "TTO   Trinidad and Tobago\n",
       "TUN   Tunisia\n",
       "TUR   Turkey\n",
       "TUV   Tuvalu\n",
       "TWN   Taiwan, China\n",
       "TZA   Tanzania\n",
       "UGA   Uganda\n",
       "UKR   Ukraine\n",
       "UMC   Upper middle income\n",
       "URY   Uruguay\n",
       "USA   United States\n",
       "UZB   Uzbekistan\n",
       "VCT   St. Vincent and the Grenadines\n",
       "VEN   Venezuela, RB\n",
       "VGB   British Virgin Islands\n",
       "VIR   Virgin Islands (U.S.)\n",
       "VNM   Vietnam\n",
       "VUT   Vanuatu\n",
       "WLD   World\n",
       "WSM   Samoa\n",
       "XKX   Kosovo\n",
       "XZN   Sub-Saharan Africa excluding South Africa and Nigeria\n",
       "YEM   Yemen, Rep.\n",
       "ZAF   South Africa\n",
       "ZMB   Zambia\n",
       "ZWE   Zimbabwe"
      ]
     },
     "execution_count": 2,
     "metadata": {},
     "output_type": "execute_result"
    }
   ],
   "source": [
    "# Return list of all country/region codes:\n",
    "wbdata.get_country()"
   ]
  },
  {
   "cell_type": "markdown",
   "metadata": {},
   "source": [
    "To see possible datasets we can access via the API, use `get_source()`\n",
    "\n"
   ]
  },
  {
   "cell_type": "code",
   "execution_count": 3,
   "metadata": {},
   "outputs": [
    {
     "data": {
      "text/plain": [
       "  id  name\n",
       "----  --------------------------------------------------------------------\n",
       "   1  Doing Business\n",
       "   2  World Development Indicators\n",
       "   3  Worldwide Governance Indicators\n",
       "   5  Subnational Malnutrition Database\n",
       "   6  International Debt Statistics\n",
       "  11  Africa Development Indicators\n",
       "  12  Education Statistics\n",
       "  13  Enterprise Surveys\n",
       "  14  Gender Statistics\n",
       "  15  Global Economic Monitor\n",
       "  16  Health Nutrition and Population Statistics\n",
       "  18  IDA Results Measurement System\n",
       "  19  Millennium Development Goals\n",
       "  20  Quarterly Public Sector Debt\n",
       "  22  Quarterly External Debt Statistics SDDS\n",
       "  23  Quarterly External Debt Statistics GDDS\n",
       "  24  Poverty and Equity\n",
       "  25  Jobs\n",
       "  27  Global Economic Prospects\n",
       "  28  Global Financial Inclusion\n",
       "  29  The Atlas of Social Protection: Indicators of Resilience and Equity\n",
       "  30  Exporter Dynamics Database – Indicators at Country-Year Level\n",
       "  31  Country Policy and Institutional Assessment\n",
       "  32  Global Financial Development\n",
       "  33  G20 Financial Inclusion Indicators\n",
       "  34  Global Partnership for Education\n",
       "  35  Sustainable Energy for All\n",
       "  36  Statistical Capacity Indicators\n",
       "  37  LAC Equity Lab\n",
       "  38  Subnational Poverty\n",
       "  39  Health Nutrition and Population Statistics by Wealth Quintile\n",
       "  40  Population estimates and projections\n",
       "  41  Country Partnership Strategy for India (FY2013 - 17)\n",
       "  43  Adjusted Net Savings\n",
       "  44  Readiness for Investment in Sustainable Energy\n",
       "  45  Indonesia Database for Policy and Economic Research\n",
       "  46  Sustainable Development Goals\n",
       "  50  Subnational Population\n",
       "  54  Joint External Debt Hub\n",
       "  57  WDI Database Archives\n",
       "  58  Universal Health Coverage\n",
       "  59  Wealth Accounts\n",
       "  60  Economic Fitness\n",
       "  61  PPPs Regulatory Quality\n",
       "  62  International Comparison Program (ICP) 2011\n",
       "  63  Human Capital Index\n",
       "  64  Worldwide Bureaucracy Indicators\n",
       "  65  Health Equity and Financial Protection Indicators\n",
       "  66  Logistics Performance Index\n",
       "  67  PEFA 2011\n",
       "  68  PEFA 2016\n",
       "  69  Global Financial Inclusion and Consumer Protection Survey\n",
       "  70  Economic Fitness 2\n",
       "  71  International Comparison Program (ICP) 2005\n",
       "  72  PEFA_Test\n",
       "  73  Global Financial Inclusion and Consumer Protection Survey (Internal)\n",
       "  75  Environment, Social and Governance (ESG) Data\n",
       "  76  Remittance Prices Worldwide (Sending Countries)\n",
       "  77  Remittance Prices Worldwide (Receiving Countries)\n",
       "  78  ICP 2017\n",
       "  79  PEFA_GRPFM\n",
       "  80  Gender Disaggregated Labor Database (GDLD)\n",
       "  81  International Debt Statistics: DSSI"
      ]
     },
     "execution_count": 3,
     "metadata": {},
     "output_type": "execute_result"
    }
   ],
   "source": [
    "wbdata.get_source()"
   ]
  },
  {
   "cell_type": "code",
   "execution_count": 4,
   "metadata": {},
   "outputs": [
    {
     "data": {
      "text/plain": [
       "id                 name\n",
       "-----------------  -------------------------------------------------------------------\n",
       "SH.DTH.0509        Number of deaths ages 5-9 years\n",
       "SH.DTH.1014        Number of deaths ages 10-14 years\n",
       "SH.DTH.1519        Number of deaths ages 15-19 years\n",
       "SH.DTH.2024        Number of deaths ages 20-24 years\n",
       "SH.DTH.IMRT        Number of infant deaths\n",
       "SH.DTH.IMRT.FE     Number of infant deaths, female\n",
       "SH.DTH.IMRT.MA     Number of infant deaths, male\n",
       "SH.DTH.MORT        Number of under-five deaths\n",
       "SH.DTH.MORT.FE     Number of under-five deaths, female\n",
       "SH.DTH.MORT.MA     Number of under-five deaths, male\n",
       "SH.DTH.NMRT        Number of neonatal deaths\n",
       "SH.DYN.0509        Probability of dying among children ages 5-9 years (per 1,000)\n",
       "SH.DYN.1014        Probability of dying among adolescents ages 10-14 years (per 1,000)\n",
       "SH.DYN.1519        Probability of dying among adolescents ages 15-19 years (per 1,000)\n",
       "SH.DYN.2024        Probability of dying among youth ages 20-24 years (per 1,000)\n",
       "SH.DYN.MORT        Mortality rate, under-5 (per 1,000 live births)\n",
       "SH.DYN.MORT.FE     Mortality rate, under-5, female (per 1,000 live births)\n",
       "SH.DYN.MORT.MA     Mortality rate, under-5, male (per 1,000 live births)\n",
       "SH.DYN.NMRT        Mortality rate, neonatal (per 1,000 live births)\n",
       "SM.POP.NETM        Net migration\n",
       "SP.DYN.AMRT.FE     Mortality rate, adult, female (per 1,000 female adults)\n",
       "SP.DYN.AMRT.MA     Mortality rate, adult, male (per 1,000 male adults)\n",
       "SP.DYN.CBRT.IN     Birth rate, crude (per 1,000 people)\n",
       "SP.DYN.CDRT.IN     Death rate, crude (per 1,000 people)\n",
       "SP.DYN.IMRT.FE.IN  Mortality rate, infant, female (per 1,000 live births)\n",
       "SP.DYN.IMRT.IN     Mortality rate, infant (per 1,000 live births)\n",
       "SP.DYN.IMRT.MA.IN  Mortality rate, infant, male (per 1,000 live births)\n",
       "SP.DYN.LE00.FE.IN  Life expectancy at birth, female (years)\n",
       "SP.DYN.LE00.IN     Life expectancy at birth, total (years)\n",
       "SP.DYN.LE00.MA.IN  Life expectancy at birth, male (years)\n",
       "SP.DYN.TFRT.IN     Fertility rate, total (births per woman)\n",
       "SP.POP.0004.FE     Population ages 00-04, female\n",
       "SP.POP.0004.FE.5Y  Population ages 00-04, female (% of female population)\n",
       "SP.POP.0004.MA     Population ages 00-04, male\n",
       "SP.POP.0004.MA.5Y  Population ages 00-04, male (% of male population)\n",
       "SP.POP.0014.FE.IN  Population ages 0-14, female\n",
       "SP.POP.0014.FE.ZS  Population ages 0-14, female (% of female population)\n",
       "SP.POP.0014.MA.IN  Population ages 0-14, male\n",
       "SP.POP.0014.MA.ZS  Population ages 0-14, male (% of male population)\n",
       "SP.POP.0014.TO     Population ages 0-14, total\n",
       "SP.POP.0014.TO.ZS  Population ages 0-14 (% of total population)\n",
       "SP.POP.0509.FE     Population ages 05-09, female\n",
       "SP.POP.0509.FE.5Y  Population ages 05-09, female (% of female population)\n",
       "SP.POP.0509.MA     Population ages 05-09, male\n",
       "SP.POP.0509.MA.5Y  Population ages 05-09, male (% of male population)\n",
       "SP.POP.1014.FE     Population ages 10-14, female\n",
       "SP.POP.1014.FE.5Y  Population ages 10-14, female (% of female population)\n",
       "SP.POP.1014.MA     Population ages 10-14, male\n",
       "SP.POP.1014.MA.5Y  Population ages 10-14, male (% of male population)\n",
       "SP.POP.1519.FE     Population ages 15-19, female\n",
       "SP.POP.1519.FE.5Y  Population ages 15-19, female (% of female population)\n",
       "SP.POP.1519.MA     Population ages 15-19, male\n",
       "SP.POP.1519.MA.5Y  Population ages 15-19, male (% of male population)\n",
       "SP.POP.1564.FE.IN  Population ages 15-64, female\n",
       "SP.POP.1564.FE.ZS  Population ages 15-64, female (% of female population)\n",
       "SP.POP.1564.MA.IN  Population ages 15-64, male\n",
       "SP.POP.1564.MA.ZS  Population ages 15-64, male (% of male population)\n",
       "SP.POP.1564.TO     Population ages 15-64, total\n",
       "SP.POP.1564.TO.ZS  Population ages 15-64 (% of total population)\n",
       "SP.POP.2024.FE     Population ages 20-24, female\n",
       "SP.POP.2024.FE.5Y  Population ages 20-24, female (% of female population)\n",
       "SP.POP.2024.MA     Population ages 20-24, male\n",
       "SP.POP.2024.MA.5Y  Population ages 20-24, male (% of male population)\n",
       "SP.POP.2529.FE     Population ages 25-29, female\n",
       "SP.POP.2529.FE.5Y  Population ages 25-29, female (% of female population)\n",
       "SP.POP.2529.MA     Population ages 25-29, male\n",
       "SP.POP.2529.MA.5Y  Population ages 25-29, male (% of male population)\n",
       "SP.POP.3034.FE     Population ages 30-34, female\n",
       "SP.POP.3034.FE.5Y  Population ages 30-34, female (% of female population)\n",
       "SP.POP.3034.MA     Population ages 30-34, male\n",
       "SP.POP.3034.MA.5Y  Population ages 30-34, male (% of male population)\n",
       "SP.POP.3539.FE     Population ages 35-39, female\n",
       "SP.POP.3539.FE.5Y  Population ages 35-39, female (% of female population)\n",
       "SP.POP.3539.MA     Population ages 35-39, male\n",
       "SP.POP.3539.MA.5Y  Population ages 35-39, male (% of male population)\n",
       "SP.POP.4044.FE     Population ages 40-44, female\n",
       "SP.POP.4044.FE.5Y  Population ages 40-44, female (% of female population)\n",
       "SP.POP.4044.MA     Population ages 40-44, male\n",
       "SP.POP.4044.MA.5Y  Population ages 40-44, male (% of male population)\n",
       "SP.POP.4549.FE     Population ages 45-49, female\n",
       "SP.POP.4549.FE.5Y  Population ages 45-49, female (% of female population)\n",
       "SP.POP.4549.MA     Population ages 45-49, male\n",
       "SP.POP.4549.MA.5Y  Population ages 45-49, male (% of male population)\n",
       "SP.POP.5054.FE     Population ages 50-54, female\n",
       "SP.POP.5054.FE.5Y  Population ages 50-54, female (% of female population)\n",
       "SP.POP.5054.MA     Population ages 50-54, male\n",
       "SP.POP.5054.MA.5Y  Population ages 50-54, male (% of male population)\n",
       "SP.POP.5559.FE     Population ages 55-59, female\n",
       "SP.POP.5559.FE.5Y  Population ages 55-59, female (% of female population)\n",
       "SP.POP.5559.MA     Population ages 55-59, male\n",
       "SP.POP.5559.MA.5Y  Population ages 55-59, male (% of male population)\n",
       "SP.POP.6064.FE     Population ages 60-64, female\n",
       "SP.POP.6064.FE.5Y  Population ages 60-64, female (% of female population)\n",
       "SP.POP.6064.MA     Population ages 60-64, male\n",
       "SP.POP.6064.MA.5Y  Population ages 60-64, male (% of male population)\n",
       "SP.POP.6569.FE     Population ages 65-69, female\n",
       "SP.POP.6569.FE.5Y  Population ages 65-69, female (% of female population)\n",
       "SP.POP.6569.MA     Population ages 65-69, male\n",
       "SP.POP.6569.MA.5Y  Population ages 65-69, male (% of male population)\n",
       "SP.POP.65UP.FE.IN  Population ages 65 and above, female\n",
       "SP.POP.65UP.FE.ZS  Population ages 65 and above, female (% of female population)\n",
       "SP.POP.65UP.MA.IN  Population ages 65 and above, male\n",
       "SP.POP.65UP.MA.ZS  Population ages 65 and above, male (% of male population)\n",
       "SP.POP.65UP.TO     Population ages 65 and above, total\n",
       "SP.POP.65UP.TO.ZS  Population ages 65 and above (% of total population)\n",
       "SP.POP.7074.FE     Population ages 70-74, female\n",
       "SP.POP.7074.FE.5Y  Population ages 70-74, female (% of female population)\n",
       "SP.POP.7074.MA     Population ages 70-74, male\n",
       "SP.POP.7074.MA.5Y  Population ages 70-74, male (% of male population)\n",
       "SP.POP.7579.FE     Population ages 75-79, female\n",
       "SP.POP.7579.FE.5Y  Population ages 75-79, female (% of female population)\n",
       "SP.POP.7579.MA     Population ages 75-79, male\n",
       "SP.POP.7579.MA.5Y  Population ages 75-79, male (% of male population)\n",
       "SP.POP.80UP.FE     Population ages 80 and above, female\n",
       "SP.POP.80UP.FE.5Y  Population ages 80 and above, female (% of female population)\n",
       "SP.POP.80UP.MA     Population ages 80 and above, male\n",
       "SP.POP.80UP.MA.5Y  Population ages 80 and above, male (% of male population)\n",
       "SP.POP.AG00.FE.IN  Age population, age 00, female, interpolated\n",
       "SP.POP.AG00.MA.IN  Age population, age 00, male, interpolated\n",
       "SP.POP.AG01.FE.IN  Age population, age 01, female, interpolated\n",
       "SP.POP.AG01.MA.IN  Age population, age 01, male, interpolated\n",
       "SP.POP.AG02.FE.IN  Age population, age 02, female, interpolated\n",
       "SP.POP.AG02.MA.IN  Age population, age 02, male, interpolated\n",
       "SP.POP.AG03.FE.IN  Age population, age 03, female, interpolated\n",
       "SP.POP.AG03.MA.IN  Age population, age 03, male, interpolated\n",
       "SP.POP.AG04.FE.IN  Age population, age 04, female, interpolated\n",
       "SP.POP.AG04.MA.IN  Age population, age 04, male, interpolated\n",
       "SP.POP.AG05.FE.IN  Age population, age 05, female, interpolated\n",
       "SP.POP.AG05.MA.IN  Age population, age 05, male, interpolated\n",
       "SP.POP.AG06.FE.IN  Age population, age 06, female, interpolated\n",
       "SP.POP.AG06.MA.IN  Age population, age 06, male, interpolated\n",
       "SP.POP.AG07.FE.IN  Age population, age 07, female, interpolated\n",
       "SP.POP.AG07.MA.IN  Age population, age 07, male, interpolated\n",
       "SP.POP.AG08.FE.IN  Age population, age 08, female, interpolated\n",
       "SP.POP.AG08.MA.IN  Age population, age 08, male, interpolated\n",
       "SP.POP.AG09.FE.IN  Age population, age 09, female, interpolated\n",
       "SP.POP.AG09.MA.IN  Age population, age 09, male, interpolated\n",
       "SP.POP.AG10.FE.IN  Age population, age 10, female, interpolated\n",
       "SP.POP.AG10.MA.IN  Age population, age 10, male, interpolated\n",
       "SP.POP.AG11.FE.IN  Age population, age 11, female, interpolated\n",
       "SP.POP.AG11.MA.IN  Age population, age 11, male, interpolated\n",
       "SP.POP.AG12.FE.IN  Age population, age 12, female, interpolated\n",
       "SP.POP.AG12.MA.IN  Age population, age 12, male, interpolated\n",
       "SP.POP.AG13.FE.IN  Age population, age 13, female, interpolated\n",
       "SP.POP.AG13.MA.IN  Age population, age 13, male, interpolated\n",
       "SP.POP.AG14.FE.IN  Age population, age 14, female, interpolated\n",
       "SP.POP.AG14.MA.IN  Age population, age 14, male, interpolated\n",
       "SP.POP.AG15.FE.IN  Age population, age 15, female, interpolated\n",
       "SP.POP.AG15.MA.IN  Age population, age 15, male, interpolated\n",
       "SP.POP.AG16.FE.IN  Age population, age 16, female, interpolated\n",
       "SP.POP.AG16.MA.IN  Age population, age 16, male, interpolated\n",
       "SP.POP.AG17.FE.IN  Age population, age 17, female, interpolated\n",
       "SP.POP.AG17.MA.IN  Age population, age 17, male, interpolated\n",
       "SP.POP.AG18.FE.IN  Age population, age 18, female, interpolated\n",
       "SP.POP.AG18.MA.IN  Age population, age 18, male, interpolated\n",
       "SP.POP.AG19.FE.IN  Age population, age 19, female, interpolated\n",
       "SP.POP.AG19.MA.IN  Age population, age 19, male, interpolated\n",
       "SP.POP.AG20.FE.IN  Age population, age 20, female, interpolated\n",
       "SP.POP.AG20.MA.IN  Age population, age 20, male, interpolated\n",
       "SP.POP.AG21.FE.IN  Age population, age 21, female, interpolated\n",
       "SP.POP.AG21.MA.IN  Age population, age 21, male, interpolated\n",
       "SP.POP.AG22.FE.IN  Age population, age 22, female, interpolated\n",
       "SP.POP.AG22.MA.IN  Age population, age 22, male, interpolated\n",
       "SP.POP.AG23.FE.IN  Age population, age 23, female, interpolated\n",
       "SP.POP.AG23.MA.IN  Age population, age 23, male, interpolated\n",
       "SP.POP.AG24.FE.IN  Age population, age 24, female, interpolated\n",
       "SP.POP.AG24.MA.IN  Age population, age 24, male, interpolated\n",
       "SP.POP.AG25.FE.IN  Age population, age 25, female, interpolated\n",
       "SP.POP.AG25.MA.IN  Age population, age 25, male, interpolated\n",
       "SP.POP.BRTH.MF     Sex ratio at birth (male births per female births)\n",
       "SP.POP.DPND        Age dependency ratio (% of working-age population)\n",
       "SP.POP.DPND.OL     Age dependency ratio, old (% of working-age population)\n",
       "SP.POP.DPND.YG     Age dependency ratio, young (% of working-age population)\n",
       "SP.POP.GROW        Population growth (annual %)\n",
       "SP.POP.TOTL        Population, total\n",
       "SP.POP.TOTL.FE.IN  Population, female\n",
       "SP.POP.TOTL.FE.ZS  Population, female (% of total population)\n",
       "SP.POP.TOTL.MA.IN  Population, male\n",
       "SP.POP.TOTL.MA.ZS  Population, male (% of total population)\n",
       "SP.RUR.TOTL        Rural population\n",
       "SP.RUR.TOTL.ZG     Rural population growth (annual %)\n",
       "SP.RUR.TOTL.ZS     Rural population (% of total population)\n",
       "SP.URB.GROW        Urban population growth (annual %)\n",
       "SP.URB.TOTL        Urban population\n",
       "SP.URB.TOTL.IN.ZS  Urban population (% of total population)"
      ]
     },
     "execution_count": 4,
     "metadata": {},
     "output_type": "execute_result"
    }
   ],
   "source": [
    "SOURCE = 40 # \"Population estimates and projections\"\n",
    "\n",
    "indicators_40 = wbdata.get_indicator(source=SOURCE)\n",
    "indicators_40"
   ]
  },
  {
   "cell_type": "code",
   "execution_count": 5,
   "metadata": {},
   "outputs": [],
   "source": [
    "# Takes in an indicator object and returns a dictionary of filtered column labels.\n",
    "def find_labels(indicators):\n",
    "    labels = {}\n",
    "\n",
    "    for i in range(len(indicators)):\n",
    "        col_id = indicators[i]['id']\n",
    "        col_name = indicators[i]['name']\n",
    "        labels[col_id] = col_name\n",
    "\n",
    "    # Select items in the list that contain relevant population data by filtering through string patterns.\n",
    "    r = re.compile(\"(SP.POP).[\\d]{2}[A-Z0-9]{2}.[MAFE]{2}$\")\n",
    "    col_keys = list(filter(r.match, labels))\n",
    "    col_keys\n",
    "\n",
    "    labels_filtered = {}\n",
    "    for key, value in labels.items():\n",
    "        if key in col_keys:\n",
    "            labels_filtered[key] = value\n",
    "            \n",
    "    return labels_filtered"
   ]
  },
  {
   "cell_type": "code",
   "execution_count": 6,
   "metadata": {},
   "outputs": [
    {
     "data": {
      "text/plain": [
       "{'SP.POP.0004.FE': 'Population ages 00-04, female',\n",
       " 'SP.POP.0004.MA': 'Population ages 00-04, male',\n",
       " 'SP.POP.0509.FE': 'Population ages 05-09, female',\n",
       " 'SP.POP.0509.MA': 'Population ages 05-09, male',\n",
       " 'SP.POP.1014.FE': 'Population ages 10-14, female',\n",
       " 'SP.POP.1014.MA': 'Population ages 10-14, male',\n",
       " 'SP.POP.1519.FE': 'Population ages 15-19, female',\n",
       " 'SP.POP.1519.MA': 'Population ages 15-19, male',\n",
       " 'SP.POP.2024.FE': 'Population ages 20-24, female',\n",
       " 'SP.POP.2024.MA': 'Population ages 20-24, male',\n",
       " 'SP.POP.2529.FE': 'Population ages 25-29, female',\n",
       " 'SP.POP.2529.MA': 'Population ages 25-29, male',\n",
       " 'SP.POP.3034.FE': 'Population ages 30-34, female',\n",
       " 'SP.POP.3034.MA': 'Population ages 30-34, male',\n",
       " 'SP.POP.3539.FE': 'Population ages 35-39, female',\n",
       " 'SP.POP.3539.MA': 'Population ages 35-39, male',\n",
       " 'SP.POP.4044.FE': 'Population ages 40-44, female',\n",
       " 'SP.POP.4044.MA': 'Population ages 40-44, male',\n",
       " 'SP.POP.4549.FE': 'Population ages 45-49, female',\n",
       " 'SP.POP.4549.MA': 'Population ages 45-49, male',\n",
       " 'SP.POP.5054.FE': 'Population ages 50-54, female',\n",
       " 'SP.POP.5054.MA': 'Population ages 50-54, male',\n",
       " 'SP.POP.5559.FE': 'Population ages 55-59, female',\n",
       " 'SP.POP.5559.MA': 'Population ages 55-59, male',\n",
       " 'SP.POP.6064.FE': 'Population ages 60-64, female',\n",
       " 'SP.POP.6064.MA': 'Population ages 60-64, male',\n",
       " 'SP.POP.6569.FE': 'Population ages 65-69, female',\n",
       " 'SP.POP.6569.MA': 'Population ages 65-69, male',\n",
       " 'SP.POP.7074.FE': 'Population ages 70-74, female',\n",
       " 'SP.POP.7074.MA': 'Population ages 70-74, male',\n",
       " 'SP.POP.7579.FE': 'Population ages 75-79, female',\n",
       " 'SP.POP.7579.MA': 'Population ages 75-79, male',\n",
       " 'SP.POP.80UP.FE': 'Population ages 80 and above, female',\n",
       " 'SP.POP.80UP.MA': 'Population ages 80 and above, male'}"
      ]
     },
     "execution_count": 6,
     "metadata": {},
     "output_type": "execute_result"
    }
   ],
   "source": [
    "variable_labels = find_labels(indicators_40)\n",
    "variable_labels"
   ]
  },
  {
   "cell_type": "markdown",
   "metadata": {},
   "source": [
    "## Population function"
   ]
  },
  {
   "cell_type": "code",
   "execution_count": 7,
   "metadata": {
    "scrolled": true
   },
   "outputs": [],
   "source": [
    "# Function that takes in a SEX (\"Male\", \"Female\"), ... , COUNTRY=, .. and returns a statistic for the given function arguments\n",
    "\n",
    "def population(sex, year, age, country):\n",
    "    if sex == \"Male\":\n",
    "        variable_labels = {\"SP.POP.\" + str(age[0])+str(age[1]) + \".MA\": sex}\n",
    "    elif sex==\"Female\":\n",
    "        variable_labels = {\"SP.POP.\" + str(age[0])+str(age[1]) + \".FE\": sex}\n",
    "    pop_stats = wbdata.get_dataframe(variable_labels, country=country)\n",
    "    pop_stats = pop_stats.filter(like=str(year), axis=0)\n",
    "    return pop_stats[sex][0]"
   ]
  },
  {
   "cell_type": "code",
   "execution_count": 8,
   "metadata": {},
   "outputs": [
    {
     "data": {
      "text/plain": [
       "45907253.0"
      ]
     },
     "execution_count": 8,
     "metadata": {},
     "output_type": "execute_result"
    }
   ],
   "source": [
    "population(\"Female\", 2010, (15,19), \"CHN\")"
   ]
  },
  {
   "cell_type": "markdown",
   "metadata": {},
   "source": [
    "## Population DataFrames\n"
   ]
  },
  {
   "cell_type": "code",
   "execution_count": 9,
   "metadata": {},
   "outputs": [],
   "source": [
    "def population_dataframes(indicators):\n",
    "    def find_labels(indicators):\n",
    "        labels = {}\n",
    "        \n",
    "        for i in range(len(indicators)):\n",
    "            col_id = indicators[i]['id']\n",
    "            col_name = indicators[i]['name']\n",
    "            labels[col_id] = col_name\n",
    "\n",
    "        # Select items in the list that contain relevant population data by filtering through string patterns.\n",
    "        r = re.compile(\"(SP.POP).[\\d]{2}[A-Z0-9]{2}.[MAFE]{2}$\")\n",
    "        col_keys = list(filter(r.match, labels))\n",
    "        col_keys\n",
    "\n",
    "        labels_filtered = {}\n",
    "        \n",
    "        for key, value in labels.items():\n",
    "            if key in col_keys:\n",
    "                labels_filtered[key] = value\n",
    "        return labels_filtered\n",
    "\n",
    "    variable_labels = find_labels(indicators_40)\n",
    "    return wbdata.get_dataframe(variable_labels)"
   ]
  },
  {
   "cell_type": "code",
   "execution_count": 10,
   "metadata": {},
   "outputs": [
    {
     "data": {
      "text/html": [
       "<div>\n",
       "<style scoped>\n",
       "    .dataframe tbody tr th:only-of-type {\n",
       "        vertical-align: middle;\n",
       "    }\n",
       "\n",
       "    .dataframe tbody tr th {\n",
       "        vertical-align: top;\n",
       "    }\n",
       "\n",
       "    .dataframe thead th {\n",
       "        text-align: right;\n",
       "    }\n",
       "</style>\n",
       "<table border=\"1\" class=\"dataframe\">\n",
       "  <thead>\n",
       "    <tr style=\"text-align: right;\">\n",
       "      <th></th>\n",
       "      <th></th>\n",
       "      <th>Population ages 00-04, female</th>\n",
       "      <th>Population ages 00-04, male</th>\n",
       "      <th>Population ages 05-09, female</th>\n",
       "      <th>Population ages 05-09, male</th>\n",
       "      <th>Population ages 10-14, female</th>\n",
       "      <th>Population ages 10-14, male</th>\n",
       "      <th>Population ages 15-19, female</th>\n",
       "      <th>Population ages 15-19, male</th>\n",
       "      <th>Population ages 20-24, female</th>\n",
       "      <th>Population ages 20-24, male</th>\n",
       "      <th>...</th>\n",
       "      <th>Population ages 60-64, female</th>\n",
       "      <th>Population ages 60-64, male</th>\n",
       "      <th>Population ages 65-69, female</th>\n",
       "      <th>Population ages 65-69, male</th>\n",
       "      <th>Population ages 70-74, female</th>\n",
       "      <th>Population ages 70-74, male</th>\n",
       "      <th>Population ages 75-79, female</th>\n",
       "      <th>Population ages 75-79, male</th>\n",
       "      <th>Population ages 80 and above, female</th>\n",
       "      <th>Population ages 80 and above, male</th>\n",
       "    </tr>\n",
       "    <tr>\n",
       "      <th>country</th>\n",
       "      <th>date</th>\n",
       "      <th></th>\n",
       "      <th></th>\n",
       "      <th></th>\n",
       "      <th></th>\n",
       "      <th></th>\n",
       "      <th></th>\n",
       "      <th></th>\n",
       "      <th></th>\n",
       "      <th></th>\n",
       "      <th></th>\n",
       "      <th></th>\n",
       "      <th></th>\n",
       "      <th></th>\n",
       "      <th></th>\n",
       "      <th></th>\n",
       "      <th></th>\n",
       "      <th></th>\n",
       "      <th></th>\n",
       "      <th></th>\n",
       "      <th></th>\n",
       "      <th></th>\n",
       "    </tr>\n",
       "  </thead>\n",
       "  <tbody>\n",
       "    <tr>\n",
       "      <th rowspan=\"5\" valign=\"top\">Arab World</th>\n",
       "      <th>2020</th>\n",
       "      <td>NaN</td>\n",
       "      <td>NaN</td>\n",
       "      <td>NaN</td>\n",
       "      <td>NaN</td>\n",
       "      <td>NaN</td>\n",
       "      <td>NaN</td>\n",
       "      <td>NaN</td>\n",
       "      <td>NaN</td>\n",
       "      <td>NaN</td>\n",
       "      <td>NaN</td>\n",
       "      <td>...</td>\n",
       "      <td>NaN</td>\n",
       "      <td>NaN</td>\n",
       "      <td>NaN</td>\n",
       "      <td>NaN</td>\n",
       "      <td>NaN</td>\n",
       "      <td>NaN</td>\n",
       "      <td>NaN</td>\n",
       "      <td>NaN</td>\n",
       "      <td>NaN</td>\n",
       "      <td>NaN</td>\n",
       "    </tr>\n",
       "    <tr>\n",
       "      <th>2019</th>\n",
       "      <td>24854512.0</td>\n",
       "      <td>26008786.0</td>\n",
       "      <td>23284558.0</td>\n",
       "      <td>24402277.0</td>\n",
       "      <td>20147651.0</td>\n",
       "      <td>21082648.0</td>\n",
       "      <td>18115624.0</td>\n",
       "      <td>18928186.0</td>\n",
       "      <td>17449218.0</td>\n",
       "      <td>18738921.0</td>\n",
       "      <td>...</td>\n",
       "      <td>5379212.0</td>\n",
       "      <td>5608048.0</td>\n",
       "      <td>4114802.0</td>\n",
       "      <td>3992940.0</td>\n",
       "      <td>2772099.0</td>\n",
       "      <td>2503846.0</td>\n",
       "      <td>1867325.0</td>\n",
       "      <td>1530529.0</td>\n",
       "      <td>1840519.0</td>\n",
       "      <td>1307203.0</td>\n",
       "    </tr>\n",
       "    <tr>\n",
       "      <th>2018</th>\n",
       "      <td>24868488.0</td>\n",
       "      <td>26042050.0</td>\n",
       "      <td>22673632.0</td>\n",
       "      <td>23761021.0</td>\n",
       "      <td>19686652.0</td>\n",
       "      <td>20576105.0</td>\n",
       "      <td>17945291.0</td>\n",
       "      <td>18778592.0</td>\n",
       "      <td>17423893.0</td>\n",
       "      <td>18736142.0</td>\n",
       "      <td>...</td>\n",
       "      <td>5196799.0</td>\n",
       "      <td>5392111.0</td>\n",
       "      <td>3904424.0</td>\n",
       "      <td>3785507.0</td>\n",
       "      <td>2657162.0</td>\n",
       "      <td>2389145.0</td>\n",
       "      <td>1823473.0</td>\n",
       "      <td>1489597.0</td>\n",
       "      <td>1799447.0</td>\n",
       "      <td>1284554.0</td>\n",
       "    </tr>\n",
       "    <tr>\n",
       "      <th>2017</th>\n",
       "      <td>24842442.0</td>\n",
       "      <td>26028972.0</td>\n",
       "      <td>22056667.0</td>\n",
       "      <td>23103336.0</td>\n",
       "      <td>19290904.0</td>\n",
       "      <td>20147737.0</td>\n",
       "      <td>17827249.0</td>\n",
       "      <td>18664707.0</td>\n",
       "      <td>17393546.0</td>\n",
       "      <td>18663158.0</td>\n",
       "      <td>...</td>\n",
       "      <td>5028670.0</td>\n",
       "      <td>5193784.0</td>\n",
       "      <td>3697402.0</td>\n",
       "      <td>3580807.0</td>\n",
       "      <td>2567872.0</td>\n",
       "      <td>2295115.0</td>\n",
       "      <td>1793010.0</td>\n",
       "      <td>1459539.0</td>\n",
       "      <td>1740291.0</td>\n",
       "      <td>1242957.0</td>\n",
       "    </tr>\n",
       "    <tr>\n",
       "      <th>2016</th>\n",
       "      <td>24639070.0</td>\n",
       "      <td>25823833.0</td>\n",
       "      <td>21484287.0</td>\n",
       "      <td>22488538.0</td>\n",
       "      <td>18957477.0</td>\n",
       "      <td>19799808.0</td>\n",
       "      <td>17744205.0</td>\n",
       "      <td>18563417.0</td>\n",
       "      <td>17346155.0</td>\n",
       "      <td>18518692.0</td>\n",
       "      <td>...</td>\n",
       "      <td>4861410.0</td>\n",
       "      <td>5002559.0</td>\n",
       "      <td>3511525.0</td>\n",
       "      <td>3392395.0</td>\n",
       "      <td>2497768.0</td>\n",
       "      <td>2217070.0</td>\n",
       "      <td>1770021.0</td>\n",
       "      <td>1435406.0</td>\n",
       "      <td>1665086.0</td>\n",
       "      <td>1184984.0</td>\n",
       "    </tr>\n",
       "    <tr>\n",
       "      <th>...</th>\n",
       "      <th>...</th>\n",
       "      <td>...</td>\n",
       "      <td>...</td>\n",
       "      <td>...</td>\n",
       "      <td>...</td>\n",
       "      <td>...</td>\n",
       "      <td>...</td>\n",
       "      <td>...</td>\n",
       "      <td>...</td>\n",
       "      <td>...</td>\n",
       "      <td>...</td>\n",
       "      <td>...</td>\n",
       "      <td>...</td>\n",
       "      <td>...</td>\n",
       "      <td>...</td>\n",
       "      <td>...</td>\n",
       "      <td>...</td>\n",
       "      <td>...</td>\n",
       "      <td>...</td>\n",
       "      <td>...</td>\n",
       "      <td>...</td>\n",
       "      <td>...</td>\n",
       "    </tr>\n",
       "    <tr>\n",
       "      <th rowspan=\"5\" valign=\"top\">Zimbabwe</th>\n",
       "      <th>1964</th>\n",
       "      <td>420464.0</td>\n",
       "      <td>425512.0</td>\n",
       "      <td>340424.0</td>\n",
       "      <td>341934.0</td>\n",
       "      <td>270870.0</td>\n",
       "      <td>272226.0</td>\n",
       "      <td>190024.0</td>\n",
       "      <td>194836.0</td>\n",
       "      <td>176449.0</td>\n",
       "      <td>180409.0</td>\n",
       "      <td>...</td>\n",
       "      <td>41766.0</td>\n",
       "      <td>37141.0</td>\n",
       "      <td>32354.0</td>\n",
       "      <td>27439.0</td>\n",
       "      <td>22607.0</td>\n",
       "      <td>18528.0</td>\n",
       "      <td>13345.0</td>\n",
       "      <td>9977.0</td>\n",
       "      <td>7753.0</td>\n",
       "      <td>5502.0</td>\n",
       "    </tr>\n",
       "    <tr>\n",
       "      <th>1963</th>\n",
       "      <td>401535.0</td>\n",
       "      <td>406613.0</td>\n",
       "      <td>333137.0</td>\n",
       "      <td>334139.0</td>\n",
       "      <td>251052.0</td>\n",
       "      <td>253308.0</td>\n",
       "      <td>187099.0</td>\n",
       "      <td>192015.0</td>\n",
       "      <td>170774.0</td>\n",
       "      <td>174959.0</td>\n",
       "      <td>...</td>\n",
       "      <td>40969.0</td>\n",
       "      <td>36277.0</td>\n",
       "      <td>31629.0</td>\n",
       "      <td>26891.0</td>\n",
       "      <td>22077.0</td>\n",
       "      <td>17961.0</td>\n",
       "      <td>12917.0</td>\n",
       "      <td>9716.0</td>\n",
       "      <td>7685.0</td>\n",
       "      <td>5451.0</td>\n",
       "    </tr>\n",
       "    <tr>\n",
       "      <th>1962</th>\n",
       "      <td>383481.0</td>\n",
       "      <td>388511.0</td>\n",
       "      <td>323885.0</td>\n",
       "      <td>324520.0</td>\n",
       "      <td>231145.0</td>\n",
       "      <td>234396.0</td>\n",
       "      <td>187370.0</td>\n",
       "      <td>192241.0</td>\n",
       "      <td>164078.0</td>\n",
       "      <td>168481.0</td>\n",
       "      <td>...</td>\n",
       "      <td>40220.0</td>\n",
       "      <td>35453.0</td>\n",
       "      <td>30988.0</td>\n",
       "      <td>26442.0</td>\n",
       "      <td>21617.0</td>\n",
       "      <td>17382.0</td>\n",
       "      <td>12472.0</td>\n",
       "      <td>9482.0</td>\n",
       "      <td>7463.0</td>\n",
       "      <td>5232.0</td>\n",
       "    </tr>\n",
       "    <tr>\n",
       "      <th>1961</th>\n",
       "      <td>370358.0</td>\n",
       "      <td>374911.0</td>\n",
       "      <td>310314.0</td>\n",
       "      <td>310962.0</td>\n",
       "      <td>214092.0</td>\n",
       "      <td>218241.0</td>\n",
       "      <td>187305.0</td>\n",
       "      <td>192190.0</td>\n",
       "      <td>157456.0</td>\n",
       "      <td>161950.0</td>\n",
       "      <td>...</td>\n",
       "      <td>39467.0</td>\n",
       "      <td>34663.0</td>\n",
       "      <td>30375.0</td>\n",
       "      <td>25980.0</td>\n",
       "      <td>21147.0</td>\n",
       "      <td>16803.0</td>\n",
       "      <td>11999.0</td>\n",
       "      <td>9214.0</td>\n",
       "      <td>7054.0</td>\n",
       "      <td>4864.0</td>\n",
       "    </tr>\n",
       "    <tr>\n",
       "      <th>1960</th>\n",
       "      <td>363697.0</td>\n",
       "      <td>367183.0</td>\n",
       "      <td>292376.0</td>\n",
       "      <td>293471.0</td>\n",
       "      <td>201172.0</td>\n",
       "      <td>206053.0</td>\n",
       "      <td>184669.0</td>\n",
       "      <td>189731.0</td>\n",
       "      <td>151647.0</td>\n",
       "      <td>156032.0</td>\n",
       "      <td>...</td>\n",
       "      <td>38687.0</td>\n",
       "      <td>33912.0</td>\n",
       "      <td>29748.0</td>\n",
       "      <td>25420.0</td>\n",
       "      <td>20604.0</td>\n",
       "      <td>16233.0</td>\n",
       "      <td>11495.0</td>\n",
       "      <td>8862.0</td>\n",
       "      <td>6476.0</td>\n",
       "      <td>4383.0</td>\n",
       "    </tr>\n",
       "  </tbody>\n",
       "</table>\n",
       "<p>15799 rows × 34 columns</p>\n",
       "</div>"
      ],
      "text/plain": [
       "                 Population ages 00-04, female  Population ages 00-04, male  \\\n",
       "country    date                                                               \n",
       "Arab World 2020                            NaN                          NaN   \n",
       "           2019                     24854512.0                   26008786.0   \n",
       "           2018                     24868488.0                   26042050.0   \n",
       "           2017                     24842442.0                   26028972.0   \n",
       "           2016                     24639070.0                   25823833.0   \n",
       "...                                        ...                          ...   \n",
       "Zimbabwe   1964                       420464.0                     425512.0   \n",
       "           1963                       401535.0                     406613.0   \n",
       "           1962                       383481.0                     388511.0   \n",
       "           1961                       370358.0                     374911.0   \n",
       "           1960                       363697.0                     367183.0   \n",
       "\n",
       "                 Population ages 05-09, female  Population ages 05-09, male  \\\n",
       "country    date                                                               \n",
       "Arab World 2020                            NaN                          NaN   \n",
       "           2019                     23284558.0                   24402277.0   \n",
       "           2018                     22673632.0                   23761021.0   \n",
       "           2017                     22056667.0                   23103336.0   \n",
       "           2016                     21484287.0                   22488538.0   \n",
       "...                                        ...                          ...   \n",
       "Zimbabwe   1964                       340424.0                     341934.0   \n",
       "           1963                       333137.0                     334139.0   \n",
       "           1962                       323885.0                     324520.0   \n",
       "           1961                       310314.0                     310962.0   \n",
       "           1960                       292376.0                     293471.0   \n",
       "\n",
       "                 Population ages 10-14, female  Population ages 10-14, male  \\\n",
       "country    date                                                               \n",
       "Arab World 2020                            NaN                          NaN   \n",
       "           2019                     20147651.0                   21082648.0   \n",
       "           2018                     19686652.0                   20576105.0   \n",
       "           2017                     19290904.0                   20147737.0   \n",
       "           2016                     18957477.0                   19799808.0   \n",
       "...                                        ...                          ...   \n",
       "Zimbabwe   1964                       270870.0                     272226.0   \n",
       "           1963                       251052.0                     253308.0   \n",
       "           1962                       231145.0                     234396.0   \n",
       "           1961                       214092.0                     218241.0   \n",
       "           1960                       201172.0                     206053.0   \n",
       "\n",
       "                 Population ages 15-19, female  Population ages 15-19, male  \\\n",
       "country    date                                                               \n",
       "Arab World 2020                            NaN                          NaN   \n",
       "           2019                     18115624.0                   18928186.0   \n",
       "           2018                     17945291.0                   18778592.0   \n",
       "           2017                     17827249.0                   18664707.0   \n",
       "           2016                     17744205.0                   18563417.0   \n",
       "...                                        ...                          ...   \n",
       "Zimbabwe   1964                       190024.0                     194836.0   \n",
       "           1963                       187099.0                     192015.0   \n",
       "           1962                       187370.0                     192241.0   \n",
       "           1961                       187305.0                     192190.0   \n",
       "           1960                       184669.0                     189731.0   \n",
       "\n",
       "                 Population ages 20-24, female  Population ages 20-24, male  \\\n",
       "country    date                                                               \n",
       "Arab World 2020                            NaN                          NaN   \n",
       "           2019                     17449218.0                   18738921.0   \n",
       "           2018                     17423893.0                   18736142.0   \n",
       "           2017                     17393546.0                   18663158.0   \n",
       "           2016                     17346155.0                   18518692.0   \n",
       "...                                        ...                          ...   \n",
       "Zimbabwe   1964                       176449.0                     180409.0   \n",
       "           1963                       170774.0                     174959.0   \n",
       "           1962                       164078.0                     168481.0   \n",
       "           1961                       157456.0                     161950.0   \n",
       "           1960                       151647.0                     156032.0   \n",
       "\n",
       "                 ...  Population ages 60-64, female  \\\n",
       "country    date  ...                                  \n",
       "Arab World 2020  ...                            NaN   \n",
       "           2019  ...                      5379212.0   \n",
       "           2018  ...                      5196799.0   \n",
       "           2017  ...                      5028670.0   \n",
       "           2016  ...                      4861410.0   \n",
       "...              ...                            ...   \n",
       "Zimbabwe   1964  ...                        41766.0   \n",
       "           1963  ...                        40969.0   \n",
       "           1962  ...                        40220.0   \n",
       "           1961  ...                        39467.0   \n",
       "           1960  ...                        38687.0   \n",
       "\n",
       "                 Population ages 60-64, male  Population ages 65-69, female  \\\n",
       "country    date                                                               \n",
       "Arab World 2020                          NaN                            NaN   \n",
       "           2019                    5608048.0                      4114802.0   \n",
       "           2018                    5392111.0                      3904424.0   \n",
       "           2017                    5193784.0                      3697402.0   \n",
       "           2016                    5002559.0                      3511525.0   \n",
       "...                                      ...                            ...   \n",
       "Zimbabwe   1964                      37141.0                        32354.0   \n",
       "           1963                      36277.0                        31629.0   \n",
       "           1962                      35453.0                        30988.0   \n",
       "           1961                      34663.0                        30375.0   \n",
       "           1960                      33912.0                        29748.0   \n",
       "\n",
       "                 Population ages 65-69, male  Population ages 70-74, female  \\\n",
       "country    date                                                               \n",
       "Arab World 2020                          NaN                            NaN   \n",
       "           2019                    3992940.0                      2772099.0   \n",
       "           2018                    3785507.0                      2657162.0   \n",
       "           2017                    3580807.0                      2567872.0   \n",
       "           2016                    3392395.0                      2497768.0   \n",
       "...                                      ...                            ...   \n",
       "Zimbabwe   1964                      27439.0                        22607.0   \n",
       "           1963                      26891.0                        22077.0   \n",
       "           1962                      26442.0                        21617.0   \n",
       "           1961                      25980.0                        21147.0   \n",
       "           1960                      25420.0                        20604.0   \n",
       "\n",
       "                 Population ages 70-74, male  Population ages 75-79, female  \\\n",
       "country    date                                                               \n",
       "Arab World 2020                          NaN                            NaN   \n",
       "           2019                    2503846.0                      1867325.0   \n",
       "           2018                    2389145.0                      1823473.0   \n",
       "           2017                    2295115.0                      1793010.0   \n",
       "           2016                    2217070.0                      1770021.0   \n",
       "...                                      ...                            ...   \n",
       "Zimbabwe   1964                      18528.0                        13345.0   \n",
       "           1963                      17961.0                        12917.0   \n",
       "           1962                      17382.0                        12472.0   \n",
       "           1961                      16803.0                        11999.0   \n",
       "           1960                      16233.0                        11495.0   \n",
       "\n",
       "                 Population ages 75-79, male  \\\n",
       "country    date                                \n",
       "Arab World 2020                          NaN   \n",
       "           2019                    1530529.0   \n",
       "           2018                    1489597.0   \n",
       "           2017                    1459539.0   \n",
       "           2016                    1435406.0   \n",
       "...                                      ...   \n",
       "Zimbabwe   1964                       9977.0   \n",
       "           1963                       9716.0   \n",
       "           1962                       9482.0   \n",
       "           1961                       9214.0   \n",
       "           1960                       8862.0   \n",
       "\n",
       "                 Population ages 80 and above, female  \\\n",
       "country    date                                         \n",
       "Arab World 2020                                   NaN   \n",
       "           2019                             1840519.0   \n",
       "           2018                             1799447.0   \n",
       "           2017                             1740291.0   \n",
       "           2016                             1665086.0   \n",
       "...                                               ...   \n",
       "Zimbabwe   1964                                7753.0   \n",
       "           1963                                7685.0   \n",
       "           1962                                7463.0   \n",
       "           1961                                7054.0   \n",
       "           1960                                6476.0   \n",
       "\n",
       "                 Population ages 80 and above, male  \n",
       "country    date                                      \n",
       "Arab World 2020                                 NaN  \n",
       "           2019                           1307203.0  \n",
       "           2018                           1284554.0  \n",
       "           2017                           1242957.0  \n",
       "           2016                           1184984.0  \n",
       "...                                             ...  \n",
       "Zimbabwe   1964                              5502.0  \n",
       "           1963                              5451.0  \n",
       "           1962                              5232.0  \n",
       "           1961                              4864.0  \n",
       "           1960                              4383.0  \n",
       "\n",
       "[15799 rows x 34 columns]"
      ]
     },
     "execution_count": 10,
     "metadata": {},
     "output_type": "execute_result"
    }
   ],
   "source": [
    "pop_df = population_dataframes(indicators_40)\n",
    "pop_df"
   ]
  },
  {
   "cell_type": "markdown",
   "metadata": {},
   "source": [
    "### Cleaning the data"
   ]
  },
  {
   "cell_type": "code",
   "execution_count": 11,
   "metadata": {
    "scrolled": true
   },
   "outputs": [
    {
     "data": {
      "text/html": [
       "<div>\n",
       "<style scoped>\n",
       "    .dataframe tbody tr th:only-of-type {\n",
       "        vertical-align: middle;\n",
       "    }\n",
       "\n",
       "    .dataframe tbody tr th {\n",
       "        vertical-align: top;\n",
       "    }\n",
       "\n",
       "    .dataframe thead th {\n",
       "        text-align: right;\n",
       "    }\n",
       "</style>\n",
       "<table border=\"1\" class=\"dataframe\">\n",
       "  <thead>\n",
       "    <tr style=\"text-align: right;\">\n",
       "      <th></th>\n",
       "      <th></th>\n",
       "      <th>Population ages 00-04, female</th>\n",
       "      <th>Population ages 00-04, male</th>\n",
       "      <th>Population ages 05-09, female</th>\n",
       "      <th>Population ages 05-09, male</th>\n",
       "      <th>Population ages 10-14, female</th>\n",
       "      <th>Population ages 10-14, male</th>\n",
       "      <th>Population ages 15-19, female</th>\n",
       "      <th>Population ages 15-19, male</th>\n",
       "      <th>Population ages 20-24, female</th>\n",
       "      <th>Population ages 20-24, male</th>\n",
       "      <th>...</th>\n",
       "      <th>Population ages 60-64, female</th>\n",
       "      <th>Population ages 60-64, male</th>\n",
       "      <th>Population ages 65-69, female</th>\n",
       "      <th>Population ages 65-69, male</th>\n",
       "      <th>Population ages 70-74, female</th>\n",
       "      <th>Population ages 70-74, male</th>\n",
       "      <th>Population ages 75-79, female</th>\n",
       "      <th>Population ages 75-79, male</th>\n",
       "      <th>Population ages 80 and above, female</th>\n",
       "      <th>Population ages 80 and above, male</th>\n",
       "    </tr>\n",
       "    <tr>\n",
       "      <th>country</th>\n",
       "      <th>year</th>\n",
       "      <th></th>\n",
       "      <th></th>\n",
       "      <th></th>\n",
       "      <th></th>\n",
       "      <th></th>\n",
       "      <th></th>\n",
       "      <th></th>\n",
       "      <th></th>\n",
       "      <th></th>\n",
       "      <th></th>\n",
       "      <th></th>\n",
       "      <th></th>\n",
       "      <th></th>\n",
       "      <th></th>\n",
       "      <th></th>\n",
       "      <th></th>\n",
       "      <th></th>\n",
       "      <th></th>\n",
       "      <th></th>\n",
       "      <th></th>\n",
       "      <th></th>\n",
       "    </tr>\n",
       "  </thead>\n",
       "  <tbody>\n",
       "    <tr>\n",
       "      <th rowspan=\"5\" valign=\"top\">Arab World</th>\n",
       "      <th>2019</th>\n",
       "      <td>24854512.0</td>\n",
       "      <td>26008786.0</td>\n",
       "      <td>23284558.0</td>\n",
       "      <td>24402277.0</td>\n",
       "      <td>20147651.0</td>\n",
       "      <td>21082648.0</td>\n",
       "      <td>18115624.0</td>\n",
       "      <td>18928186.0</td>\n",
       "      <td>17449218.0</td>\n",
       "      <td>18738921.0</td>\n",
       "      <td>...</td>\n",
       "      <td>5379212.0</td>\n",
       "      <td>5608048.0</td>\n",
       "      <td>4114802.0</td>\n",
       "      <td>3992940.0</td>\n",
       "      <td>2772099.0</td>\n",
       "      <td>2503846.0</td>\n",
       "      <td>1867325.0</td>\n",
       "      <td>1530529.0</td>\n",
       "      <td>1840519.0</td>\n",
       "      <td>1307203.0</td>\n",
       "    </tr>\n",
       "    <tr>\n",
       "      <th>2018</th>\n",
       "      <td>24868488.0</td>\n",
       "      <td>26042050.0</td>\n",
       "      <td>22673632.0</td>\n",
       "      <td>23761021.0</td>\n",
       "      <td>19686652.0</td>\n",
       "      <td>20576105.0</td>\n",
       "      <td>17945291.0</td>\n",
       "      <td>18778592.0</td>\n",
       "      <td>17423893.0</td>\n",
       "      <td>18736142.0</td>\n",
       "      <td>...</td>\n",
       "      <td>5196799.0</td>\n",
       "      <td>5392111.0</td>\n",
       "      <td>3904424.0</td>\n",
       "      <td>3785507.0</td>\n",
       "      <td>2657162.0</td>\n",
       "      <td>2389145.0</td>\n",
       "      <td>1823473.0</td>\n",
       "      <td>1489597.0</td>\n",
       "      <td>1799447.0</td>\n",
       "      <td>1284554.0</td>\n",
       "    </tr>\n",
       "    <tr>\n",
       "      <th>2017</th>\n",
       "      <td>24842442.0</td>\n",
       "      <td>26028972.0</td>\n",
       "      <td>22056667.0</td>\n",
       "      <td>23103336.0</td>\n",
       "      <td>19290904.0</td>\n",
       "      <td>20147737.0</td>\n",
       "      <td>17827249.0</td>\n",
       "      <td>18664707.0</td>\n",
       "      <td>17393546.0</td>\n",
       "      <td>18663158.0</td>\n",
       "      <td>...</td>\n",
       "      <td>5028670.0</td>\n",
       "      <td>5193784.0</td>\n",
       "      <td>3697402.0</td>\n",
       "      <td>3580807.0</td>\n",
       "      <td>2567872.0</td>\n",
       "      <td>2295115.0</td>\n",
       "      <td>1793010.0</td>\n",
       "      <td>1459539.0</td>\n",
       "      <td>1740291.0</td>\n",
       "      <td>1242957.0</td>\n",
       "    </tr>\n",
       "    <tr>\n",
       "      <th>2016</th>\n",
       "      <td>24639070.0</td>\n",
       "      <td>25823833.0</td>\n",
       "      <td>21484287.0</td>\n",
       "      <td>22488538.0</td>\n",
       "      <td>18957477.0</td>\n",
       "      <td>19799808.0</td>\n",
       "      <td>17744205.0</td>\n",
       "      <td>18563417.0</td>\n",
       "      <td>17346155.0</td>\n",
       "      <td>18518692.0</td>\n",
       "      <td>...</td>\n",
       "      <td>4861410.0</td>\n",
       "      <td>5002559.0</td>\n",
       "      <td>3511525.0</td>\n",
       "      <td>3392395.0</td>\n",
       "      <td>2497768.0</td>\n",
       "      <td>2217070.0</td>\n",
       "      <td>1770021.0</td>\n",
       "      <td>1435406.0</td>\n",
       "      <td>1665086.0</td>\n",
       "      <td>1184984.0</td>\n",
       "    </tr>\n",
       "    <tr>\n",
       "      <th>2015</th>\n",
       "      <td>24167710.0</td>\n",
       "      <td>25332140.0</td>\n",
       "      <td>20973429.0</td>\n",
       "      <td>21943480.0</td>\n",
       "      <td>18688198.0</td>\n",
       "      <td>19524584.0</td>\n",
       "      <td>17679754.0</td>\n",
       "      <td>18449576.0</td>\n",
       "      <td>17280547.0</td>\n",
       "      <td>18340767.0</td>\n",
       "      <td>...</td>\n",
       "      <td>4687002.0</td>\n",
       "      <td>4810284.0</td>\n",
       "      <td>3358490.0</td>\n",
       "      <td>3230460.0</td>\n",
       "      <td>2442790.0</td>\n",
       "      <td>2151768.0</td>\n",
       "      <td>1748502.0</td>\n",
       "      <td>1411565.0</td>\n",
       "      <td>1576085.0</td>\n",
       "      <td>1113708.0</td>\n",
       "    </tr>\n",
       "    <tr>\n",
       "      <th>...</th>\n",
       "      <th>...</th>\n",
       "      <td>...</td>\n",
       "      <td>...</td>\n",
       "      <td>...</td>\n",
       "      <td>...</td>\n",
       "      <td>...</td>\n",
       "      <td>...</td>\n",
       "      <td>...</td>\n",
       "      <td>...</td>\n",
       "      <td>...</td>\n",
       "      <td>...</td>\n",
       "      <td>...</td>\n",
       "      <td>...</td>\n",
       "      <td>...</td>\n",
       "      <td>...</td>\n",
       "      <td>...</td>\n",
       "      <td>...</td>\n",
       "      <td>...</td>\n",
       "      <td>...</td>\n",
       "      <td>...</td>\n",
       "      <td>...</td>\n",
       "      <td>...</td>\n",
       "    </tr>\n",
       "    <tr>\n",
       "      <th rowspan=\"5\" valign=\"top\">Zimbabwe</th>\n",
       "      <th>1964</th>\n",
       "      <td>420464.0</td>\n",
       "      <td>425512.0</td>\n",
       "      <td>340424.0</td>\n",
       "      <td>341934.0</td>\n",
       "      <td>270870.0</td>\n",
       "      <td>272226.0</td>\n",
       "      <td>190024.0</td>\n",
       "      <td>194836.0</td>\n",
       "      <td>176449.0</td>\n",
       "      <td>180409.0</td>\n",
       "      <td>...</td>\n",
       "      <td>41766.0</td>\n",
       "      <td>37141.0</td>\n",
       "      <td>32354.0</td>\n",
       "      <td>27439.0</td>\n",
       "      <td>22607.0</td>\n",
       "      <td>18528.0</td>\n",
       "      <td>13345.0</td>\n",
       "      <td>9977.0</td>\n",
       "      <td>7753.0</td>\n",
       "      <td>5502.0</td>\n",
       "    </tr>\n",
       "    <tr>\n",
       "      <th>1963</th>\n",
       "      <td>401535.0</td>\n",
       "      <td>406613.0</td>\n",
       "      <td>333137.0</td>\n",
       "      <td>334139.0</td>\n",
       "      <td>251052.0</td>\n",
       "      <td>253308.0</td>\n",
       "      <td>187099.0</td>\n",
       "      <td>192015.0</td>\n",
       "      <td>170774.0</td>\n",
       "      <td>174959.0</td>\n",
       "      <td>...</td>\n",
       "      <td>40969.0</td>\n",
       "      <td>36277.0</td>\n",
       "      <td>31629.0</td>\n",
       "      <td>26891.0</td>\n",
       "      <td>22077.0</td>\n",
       "      <td>17961.0</td>\n",
       "      <td>12917.0</td>\n",
       "      <td>9716.0</td>\n",
       "      <td>7685.0</td>\n",
       "      <td>5451.0</td>\n",
       "    </tr>\n",
       "    <tr>\n",
       "      <th>1962</th>\n",
       "      <td>383481.0</td>\n",
       "      <td>388511.0</td>\n",
       "      <td>323885.0</td>\n",
       "      <td>324520.0</td>\n",
       "      <td>231145.0</td>\n",
       "      <td>234396.0</td>\n",
       "      <td>187370.0</td>\n",
       "      <td>192241.0</td>\n",
       "      <td>164078.0</td>\n",
       "      <td>168481.0</td>\n",
       "      <td>...</td>\n",
       "      <td>40220.0</td>\n",
       "      <td>35453.0</td>\n",
       "      <td>30988.0</td>\n",
       "      <td>26442.0</td>\n",
       "      <td>21617.0</td>\n",
       "      <td>17382.0</td>\n",
       "      <td>12472.0</td>\n",
       "      <td>9482.0</td>\n",
       "      <td>7463.0</td>\n",
       "      <td>5232.0</td>\n",
       "    </tr>\n",
       "    <tr>\n",
       "      <th>1961</th>\n",
       "      <td>370358.0</td>\n",
       "      <td>374911.0</td>\n",
       "      <td>310314.0</td>\n",
       "      <td>310962.0</td>\n",
       "      <td>214092.0</td>\n",
       "      <td>218241.0</td>\n",
       "      <td>187305.0</td>\n",
       "      <td>192190.0</td>\n",
       "      <td>157456.0</td>\n",
       "      <td>161950.0</td>\n",
       "      <td>...</td>\n",
       "      <td>39467.0</td>\n",
       "      <td>34663.0</td>\n",
       "      <td>30375.0</td>\n",
       "      <td>25980.0</td>\n",
       "      <td>21147.0</td>\n",
       "      <td>16803.0</td>\n",
       "      <td>11999.0</td>\n",
       "      <td>9214.0</td>\n",
       "      <td>7054.0</td>\n",
       "      <td>4864.0</td>\n",
       "    </tr>\n",
       "    <tr>\n",
       "      <th>1960</th>\n",
       "      <td>363697.0</td>\n",
       "      <td>367183.0</td>\n",
       "      <td>292376.0</td>\n",
       "      <td>293471.0</td>\n",
       "      <td>201172.0</td>\n",
       "      <td>206053.0</td>\n",
       "      <td>184669.0</td>\n",
       "      <td>189731.0</td>\n",
       "      <td>151647.0</td>\n",
       "      <td>156032.0</td>\n",
       "      <td>...</td>\n",
       "      <td>38687.0</td>\n",
       "      <td>33912.0</td>\n",
       "      <td>29748.0</td>\n",
       "      <td>25420.0</td>\n",
       "      <td>20604.0</td>\n",
       "      <td>16233.0</td>\n",
       "      <td>11495.0</td>\n",
       "      <td>8862.0</td>\n",
       "      <td>6476.0</td>\n",
       "      <td>4383.0</td>\n",
       "    </tr>\n",
       "  </tbody>\n",
       "</table>\n",
       "<p>15540 rows × 34 columns</p>\n",
       "</div>"
      ],
      "text/plain": [
       "                 Population ages 00-04, female  Population ages 00-04, male  \\\n",
       "country    year                                                               \n",
       "Arab World 2019                     24854512.0                   26008786.0   \n",
       "           2018                     24868488.0                   26042050.0   \n",
       "           2017                     24842442.0                   26028972.0   \n",
       "           2016                     24639070.0                   25823833.0   \n",
       "           2015                     24167710.0                   25332140.0   \n",
       "...                                        ...                          ...   \n",
       "Zimbabwe   1964                       420464.0                     425512.0   \n",
       "           1963                       401535.0                     406613.0   \n",
       "           1962                       383481.0                     388511.0   \n",
       "           1961                       370358.0                     374911.0   \n",
       "           1960                       363697.0                     367183.0   \n",
       "\n",
       "                 Population ages 05-09, female  Population ages 05-09, male  \\\n",
       "country    year                                                               \n",
       "Arab World 2019                     23284558.0                   24402277.0   \n",
       "           2018                     22673632.0                   23761021.0   \n",
       "           2017                     22056667.0                   23103336.0   \n",
       "           2016                     21484287.0                   22488538.0   \n",
       "           2015                     20973429.0                   21943480.0   \n",
       "...                                        ...                          ...   \n",
       "Zimbabwe   1964                       340424.0                     341934.0   \n",
       "           1963                       333137.0                     334139.0   \n",
       "           1962                       323885.0                     324520.0   \n",
       "           1961                       310314.0                     310962.0   \n",
       "           1960                       292376.0                     293471.0   \n",
       "\n",
       "                 Population ages 10-14, female  Population ages 10-14, male  \\\n",
       "country    year                                                               \n",
       "Arab World 2019                     20147651.0                   21082648.0   \n",
       "           2018                     19686652.0                   20576105.0   \n",
       "           2017                     19290904.0                   20147737.0   \n",
       "           2016                     18957477.0                   19799808.0   \n",
       "           2015                     18688198.0                   19524584.0   \n",
       "...                                        ...                          ...   \n",
       "Zimbabwe   1964                       270870.0                     272226.0   \n",
       "           1963                       251052.0                     253308.0   \n",
       "           1962                       231145.0                     234396.0   \n",
       "           1961                       214092.0                     218241.0   \n",
       "           1960                       201172.0                     206053.0   \n",
       "\n",
       "                 Population ages 15-19, female  Population ages 15-19, male  \\\n",
       "country    year                                                               \n",
       "Arab World 2019                     18115624.0                   18928186.0   \n",
       "           2018                     17945291.0                   18778592.0   \n",
       "           2017                     17827249.0                   18664707.0   \n",
       "           2016                     17744205.0                   18563417.0   \n",
       "           2015                     17679754.0                   18449576.0   \n",
       "...                                        ...                          ...   \n",
       "Zimbabwe   1964                       190024.0                     194836.0   \n",
       "           1963                       187099.0                     192015.0   \n",
       "           1962                       187370.0                     192241.0   \n",
       "           1961                       187305.0                     192190.0   \n",
       "           1960                       184669.0                     189731.0   \n",
       "\n",
       "                 Population ages 20-24, female  Population ages 20-24, male  \\\n",
       "country    year                                                               \n",
       "Arab World 2019                     17449218.0                   18738921.0   \n",
       "           2018                     17423893.0                   18736142.0   \n",
       "           2017                     17393546.0                   18663158.0   \n",
       "           2016                     17346155.0                   18518692.0   \n",
       "           2015                     17280547.0                   18340767.0   \n",
       "...                                        ...                          ...   \n",
       "Zimbabwe   1964                       176449.0                     180409.0   \n",
       "           1963                       170774.0                     174959.0   \n",
       "           1962                       164078.0                     168481.0   \n",
       "           1961                       157456.0                     161950.0   \n",
       "           1960                       151647.0                     156032.0   \n",
       "\n",
       "                 ...  Population ages 60-64, female  \\\n",
       "country    year  ...                                  \n",
       "Arab World 2019  ...                      5379212.0   \n",
       "           2018  ...                      5196799.0   \n",
       "           2017  ...                      5028670.0   \n",
       "           2016  ...                      4861410.0   \n",
       "           2015  ...                      4687002.0   \n",
       "...              ...                            ...   \n",
       "Zimbabwe   1964  ...                        41766.0   \n",
       "           1963  ...                        40969.0   \n",
       "           1962  ...                        40220.0   \n",
       "           1961  ...                        39467.0   \n",
       "           1960  ...                        38687.0   \n",
       "\n",
       "                 Population ages 60-64, male  Population ages 65-69, female  \\\n",
       "country    year                                                               \n",
       "Arab World 2019                    5608048.0                      4114802.0   \n",
       "           2018                    5392111.0                      3904424.0   \n",
       "           2017                    5193784.0                      3697402.0   \n",
       "           2016                    5002559.0                      3511525.0   \n",
       "           2015                    4810284.0                      3358490.0   \n",
       "...                                      ...                            ...   \n",
       "Zimbabwe   1964                      37141.0                        32354.0   \n",
       "           1963                      36277.0                        31629.0   \n",
       "           1962                      35453.0                        30988.0   \n",
       "           1961                      34663.0                        30375.0   \n",
       "           1960                      33912.0                        29748.0   \n",
       "\n",
       "                 Population ages 65-69, male  Population ages 70-74, female  \\\n",
       "country    year                                                               \n",
       "Arab World 2019                    3992940.0                      2772099.0   \n",
       "           2018                    3785507.0                      2657162.0   \n",
       "           2017                    3580807.0                      2567872.0   \n",
       "           2016                    3392395.0                      2497768.0   \n",
       "           2015                    3230460.0                      2442790.0   \n",
       "...                                      ...                            ...   \n",
       "Zimbabwe   1964                      27439.0                        22607.0   \n",
       "           1963                      26891.0                        22077.0   \n",
       "           1962                      26442.0                        21617.0   \n",
       "           1961                      25980.0                        21147.0   \n",
       "           1960                      25420.0                        20604.0   \n",
       "\n",
       "                 Population ages 70-74, male  Population ages 75-79, female  \\\n",
       "country    year                                                               \n",
       "Arab World 2019                    2503846.0                      1867325.0   \n",
       "           2018                    2389145.0                      1823473.0   \n",
       "           2017                    2295115.0                      1793010.0   \n",
       "           2016                    2217070.0                      1770021.0   \n",
       "           2015                    2151768.0                      1748502.0   \n",
       "...                                      ...                            ...   \n",
       "Zimbabwe   1964                      18528.0                        13345.0   \n",
       "           1963                      17961.0                        12917.0   \n",
       "           1962                      17382.0                        12472.0   \n",
       "           1961                      16803.0                        11999.0   \n",
       "           1960                      16233.0                        11495.0   \n",
       "\n",
       "                 Population ages 75-79, male  \\\n",
       "country    year                                \n",
       "Arab World 2019                    1530529.0   \n",
       "           2018                    1489597.0   \n",
       "           2017                    1459539.0   \n",
       "           2016                    1435406.0   \n",
       "           2015                    1411565.0   \n",
       "...                                      ...   \n",
       "Zimbabwe   1964                       9977.0   \n",
       "           1963                       9716.0   \n",
       "           1962                       9482.0   \n",
       "           1961                       9214.0   \n",
       "           1960                       8862.0   \n",
       "\n",
       "                 Population ages 80 and above, female  \\\n",
       "country    year                                         \n",
       "Arab World 2019                             1840519.0   \n",
       "           2018                             1799447.0   \n",
       "           2017                             1740291.0   \n",
       "           2016                             1665086.0   \n",
       "           2015                             1576085.0   \n",
       "...                                               ...   \n",
       "Zimbabwe   1964                                7753.0   \n",
       "           1963                                7685.0   \n",
       "           1962                                7463.0   \n",
       "           1961                                7054.0   \n",
       "           1960                                6476.0   \n",
       "\n",
       "                 Population ages 80 and above, male  \n",
       "country    year                                      \n",
       "Arab World 2019                           1307203.0  \n",
       "           2018                           1284554.0  \n",
       "           2017                           1242957.0  \n",
       "           2016                           1184984.0  \n",
       "           2015                           1113708.0  \n",
       "...                                             ...  \n",
       "Zimbabwe   1964                              5502.0  \n",
       "           1963                              5451.0  \n",
       "           1962                              5232.0  \n",
       "           1961                              4864.0  \n",
       "           1960                              4383.0  \n",
       "\n",
       "[15540 rows x 34 columns]"
      ]
     },
     "execution_count": 11,
     "metadata": {},
     "output_type": "execute_result"
    }
   ],
   "source": [
    "# Change \"date\" index to type INT.\n",
    "pop_df.index = pop_df.index.set_levels(pop_df.index.levels[1].astype(int), level=1)\n",
    "\n",
    "# Rename MultiIndex column \"date\" to \"year\"\n",
    "pop_df = pop_df.rename_axis(index=['country', 'year'])\n",
    "\n",
    "# Delete 2020 row for every country code\n",
    "pop_df = pop_df[~pop_df.index.get_level_values('year').isin([2020])]\n",
    "pop_df"
   ]
  },
  {
   "cell_type": "markdown",
   "metadata": {},
   "source": [
    "## Population Pyramids"
   ]
  },
  {
   "cell_type": "code",
   "execution_count": null,
   "metadata": {},
   "outputs": [],
   "source": []
  },
  {
   "cell_type": "code",
   "execution_count": null,
   "metadata": {},
   "outputs": [],
   "source": []
  },
  {
   "cell_type": "code",
   "execution_count": null,
   "metadata": {},
   "outputs": [],
   "source": []
  },
  {
   "cell_type": "markdown",
   "metadata": {},
   "source": [
    "## Population Maps"
   ]
  },
  {
   "cell_type": "code",
   "execution_count": 33,
   "metadata": {},
   "outputs": [
    {
     "name": "stdout",
     "output_type": "stream",
     "text": [
      "Requirement already satisfied: geopandas in /opt/conda/lib/python3.8/site-packages (0.8.1)\n",
      "Requirement already satisfied: fiona in /opt/conda/lib/python3.8/site-packages (from geopandas) (1.8.18)\n",
      "Requirement already satisfied: shapely in /opt/conda/lib/python3.8/site-packages (from geopandas) (1.7.1)\n",
      "Requirement already satisfied: pandas>=0.23.0 in /opt/conda/lib/python3.8/site-packages (from geopandas) (1.2.0)\n",
      "Requirement already satisfied: pyproj>=2.2.0 in /opt/conda/lib/python3.8/site-packages (from geopandas) (3.0.0.post1)\n",
      "Requirement already satisfied: six>=1.7 in /opt/conda/lib/python3.8/site-packages (from fiona->geopandas) (1.15.0)\n",
      "Requirement already satisfied: attrs>=17 in /opt/conda/lib/python3.8/site-packages (from fiona->geopandas) (19.3.0)\n",
      "Requirement already satisfied: click-plugins>=1.0 in /opt/conda/lib/python3.8/site-packages (from fiona->geopandas) (1.1.1)\n",
      "Requirement already satisfied: click<8,>=4.0 in /opt/conda/lib/python3.8/site-packages (from fiona->geopandas) (7.1.2)\n",
      "Requirement already satisfied: munch in /opt/conda/lib/python3.8/site-packages (from fiona->geopandas) (2.5.0)\n",
      "Requirement already satisfied: certifi in /opt/conda/lib/python3.8/site-packages (from fiona->geopandas) (2019.11.28)\n",
      "Requirement already satisfied: cligj>=0.5 in /opt/conda/lib/python3.8/site-packages (from fiona->geopandas) (0.7.1)\n",
      "Requirement already satisfied: numpy>=1.16.5 in /opt/conda/lib/python3.8/site-packages (from pandas>=0.23.0->geopandas) (1.19.5)\n",
      "Requirement already satisfied: python-dateutil>=2.7.3 in /opt/conda/lib/python3.8/site-packages (from pandas>=0.23.0->geopandas) (2.8.1)\n",
      "Requirement already satisfied: pytz>=2017.3 in /opt/conda/lib/python3.8/site-packages (from pandas>=0.23.0->geopandas) (2020.5)\n"
     ]
    },
    {
     "name": "stderr",
     "output_type": "stream",
     "text": [
      "/opt/conda/lib/python3.8/site-packages/geopandas/_compat.py:84: UserWarning: The Shapely GEOS version (3.8.0-CAPI-1.13.1 ) is incompatible with the GEOS version PyGEOS was compiled with (3.9.0-CAPI-1.16.2). Conversions between both will be slow.\n",
      "  warnings.warn(\n"
     ]
    },
    {
     "ename": "KeyError",
     "evalue": "'MISSING'",
     "output_type": "error",
     "traceback": [
      "\u001b[0;31m---------------------------------------------------------------------------\u001b[0m",
      "\u001b[0;31mKeyError\u001b[0m                                  Traceback (most recent call last)",
      "\u001b[0;32m<ipython-input-33-bbb63e5adbd6>\u001b[0m in \u001b[0;36m<module>\u001b[0;34m\u001b[0m\n\u001b[1;32m      1\u001b[0m \u001b[0mget_ipython\u001b[0m\u001b[0;34m(\u001b[0m\u001b[0;34m)\u001b[0m\u001b[0;34m.\u001b[0m\u001b[0msystem\u001b[0m\u001b[0;34m(\u001b[0m\u001b[0;34m'pip install geopandas'\u001b[0m\u001b[0;34m)\u001b[0m\u001b[0;34m\u001b[0m\u001b[0;34m\u001b[0m\u001b[0m\n\u001b[0;32m----> 2\u001b[0;31m \u001b[0;32mimport\u001b[0m \u001b[0mgeopandas\u001b[0m \u001b[0;32mas\u001b[0m \u001b[0mgeo\u001b[0m\u001b[0;34m\u001b[0m\u001b[0;34m\u001b[0m\u001b[0m\n\u001b[0m",
      "\u001b[0;32m/opt/conda/lib/python3.8/site-packages/geopandas/__init__.py\u001b[0m in \u001b[0;36m<module>\u001b[0;34m\u001b[0m\n\u001b[1;32m      1\u001b[0m \u001b[0;32mfrom\u001b[0m \u001b[0mgeopandas\u001b[0m\u001b[0;34m.\u001b[0m\u001b[0m_config\u001b[0m \u001b[0;32mimport\u001b[0m \u001b[0moptions\u001b[0m  \u001b[0;31m# noqa\u001b[0m\u001b[0;34m\u001b[0m\u001b[0;34m\u001b[0m\u001b[0m\n\u001b[1;32m      2\u001b[0m \u001b[0;34m\u001b[0m\u001b[0m\n\u001b[0;32m----> 3\u001b[0;31m \u001b[0;32mfrom\u001b[0m \u001b[0mgeopandas\u001b[0m\u001b[0;34m.\u001b[0m\u001b[0mgeoseries\u001b[0m \u001b[0;32mimport\u001b[0m \u001b[0mGeoSeries\u001b[0m  \u001b[0;31m# noqa\u001b[0m\u001b[0;34m\u001b[0m\u001b[0;34m\u001b[0m\u001b[0m\n\u001b[0m\u001b[1;32m      4\u001b[0m \u001b[0;32mfrom\u001b[0m \u001b[0mgeopandas\u001b[0m\u001b[0;34m.\u001b[0m\u001b[0mgeodataframe\u001b[0m \u001b[0;32mimport\u001b[0m \u001b[0mGeoDataFrame\u001b[0m  \u001b[0;31m# noqa\u001b[0m\u001b[0;34m\u001b[0m\u001b[0;34m\u001b[0m\u001b[0m\n\u001b[1;32m      5\u001b[0m \u001b[0;32mfrom\u001b[0m \u001b[0mgeopandas\u001b[0m\u001b[0;34m.\u001b[0m\u001b[0marray\u001b[0m \u001b[0;32mimport\u001b[0m \u001b[0mpoints_from_xy\u001b[0m  \u001b[0;31m# noqa\u001b[0m\u001b[0;34m\u001b[0m\u001b[0;34m\u001b[0m\u001b[0m\n",
      "\u001b[0;32m/opt/conda/lib/python3.8/site-packages/geopandas/geoseries.py\u001b[0m in \u001b[0;36m<module>\u001b[0;34m\u001b[0m\n\u001b[1;32m     10\u001b[0m \u001b[0;32mfrom\u001b[0m \u001b[0mshapely\u001b[0m\u001b[0;34m.\u001b[0m\u001b[0mgeometry\u001b[0m\u001b[0;34m.\u001b[0m\u001b[0mbase\u001b[0m \u001b[0;32mimport\u001b[0m \u001b[0mBaseGeometry\u001b[0m\u001b[0;34m\u001b[0m\u001b[0;34m\u001b[0m\u001b[0m\n\u001b[1;32m     11\u001b[0m \u001b[0;34m\u001b[0m\u001b[0m\n\u001b[0;32m---> 12\u001b[0;31m \u001b[0;32mfrom\u001b[0m \u001b[0mgeopandas\u001b[0m\u001b[0;34m.\u001b[0m\u001b[0mbase\u001b[0m \u001b[0;32mimport\u001b[0m \u001b[0mGeoPandasBase\u001b[0m\u001b[0;34m,\u001b[0m \u001b[0m_delegate_property\u001b[0m\u001b[0;34m\u001b[0m\u001b[0;34m\u001b[0m\u001b[0m\n\u001b[0m\u001b[1;32m     13\u001b[0m \u001b[0;32mfrom\u001b[0m \u001b[0mgeopandas\u001b[0m\u001b[0;34m.\u001b[0m\u001b[0mplotting\u001b[0m \u001b[0;32mimport\u001b[0m \u001b[0mplot_series\u001b[0m\u001b[0;34m\u001b[0m\u001b[0;34m\u001b[0m\u001b[0m\n\u001b[1;32m     14\u001b[0m \u001b[0;34m\u001b[0m\u001b[0m\n",
      "\u001b[0;32m/opt/conda/lib/python3.8/site-packages/geopandas/base.py\u001b[0m in \u001b[0;36m<module>\u001b[0;34m\u001b[0m\n\u001b[1;32m     11\u001b[0m \u001b[0;32mimport\u001b[0m \u001b[0mgeopandas\u001b[0m \u001b[0;32mas\u001b[0m \u001b[0mgpd\u001b[0m\u001b[0;34m\u001b[0m\u001b[0;34m\u001b[0m\u001b[0m\n\u001b[1;32m     12\u001b[0m \u001b[0;34m\u001b[0m\u001b[0m\n\u001b[0;32m---> 13\u001b[0;31m \u001b[0;32mfrom\u001b[0m \u001b[0;34m.\u001b[0m\u001b[0marray\u001b[0m \u001b[0;32mimport\u001b[0m \u001b[0mGeometryArray\u001b[0m\u001b[0;34m,\u001b[0m \u001b[0mGeometryDtype\u001b[0m\u001b[0;34m\u001b[0m\u001b[0;34m\u001b[0m\u001b[0m\n\u001b[0m\u001b[1;32m     14\u001b[0m \u001b[0;32mfrom\u001b[0m \u001b[0;34m.\u001b[0m\u001b[0msindex\u001b[0m \u001b[0;32mimport\u001b[0m \u001b[0mget_sindex_class\u001b[0m\u001b[0;34m,\u001b[0m \u001b[0mhas_sindex\u001b[0m\u001b[0;34m\u001b[0m\u001b[0;34m\u001b[0m\u001b[0m\n\u001b[1;32m     15\u001b[0m \u001b[0;34m\u001b[0m\u001b[0m\n",
      "\u001b[0;32m/opt/conda/lib/python3.8/site-packages/geopandas/array.py\u001b[0m in \u001b[0;36m<module>\u001b[0;34m\u001b[0m\n\u001b[1;32m     23\u001b[0m \u001b[0;34m\u001b[0m\u001b[0m\n\u001b[1;32m     24\u001b[0m \u001b[0;32mfrom\u001b[0m \u001b[0;34m.\u001b[0m \u001b[0;32mimport\u001b[0m \u001b[0m_compat\u001b[0m \u001b[0;32mas\u001b[0m \u001b[0mcompat\u001b[0m\u001b[0;34m\u001b[0m\u001b[0;34m\u001b[0m\u001b[0m\n\u001b[0;32m---> 25\u001b[0;31m \u001b[0;32mfrom\u001b[0m \u001b[0;34m.\u001b[0m \u001b[0;32mimport\u001b[0m \u001b[0m_vectorized\u001b[0m \u001b[0;32mas\u001b[0m \u001b[0mvectorized\u001b[0m\u001b[0;34m\u001b[0m\u001b[0;34m\u001b[0m\u001b[0m\n\u001b[0m\u001b[1;32m     26\u001b[0m \u001b[0;34m\u001b[0m\u001b[0m\n\u001b[1;32m     27\u001b[0m \u001b[0;34m\u001b[0m\u001b[0m\n",
      "\u001b[0;32m/opt/conda/lib/python3.8/site-packages/geopandas/_vectorized.py\u001b[0m in \u001b[0;36m<module>\u001b[0;34m\u001b[0m\n\u001b[1;32m     37\u001b[0m \u001b[0;34m\u001b[0m\u001b[0m\n\u001b[1;32m     38\u001b[0m \u001b[0;32mif\u001b[0m \u001b[0mcompat\u001b[0m\u001b[0;34m.\u001b[0m\u001b[0mUSE_PYGEOS\u001b[0m\u001b[0;34m:\u001b[0m\u001b[0;34m\u001b[0m\u001b[0;34m\u001b[0m\u001b[0m\n\u001b[0;32m---> 39\u001b[0;31m     \u001b[0mtype_mapping\u001b[0m \u001b[0;34m=\u001b[0m \u001b[0;34m{\u001b[0m\u001b[0mp\u001b[0m\u001b[0;34m.\u001b[0m\u001b[0mvalue\u001b[0m\u001b[0;34m:\u001b[0m \u001b[0m_names\u001b[0m\u001b[0;34m[\u001b[0m\u001b[0mp\u001b[0m\u001b[0;34m.\u001b[0m\u001b[0mname\u001b[0m\u001b[0;34m]\u001b[0m \u001b[0;32mfor\u001b[0m \u001b[0mp\u001b[0m \u001b[0;32min\u001b[0m \u001b[0mpygeos\u001b[0m\u001b[0;34m.\u001b[0m\u001b[0mGeometryType\u001b[0m\u001b[0;34m}\u001b[0m\u001b[0;34m\u001b[0m\u001b[0;34m\u001b[0m\u001b[0m\n\u001b[0m\u001b[1;32m     40\u001b[0m     \u001b[0mgeometry_type_ids\u001b[0m \u001b[0;34m=\u001b[0m \u001b[0mlist\u001b[0m\u001b[0;34m(\u001b[0m\u001b[0mtype_mapping\u001b[0m\u001b[0;34m.\u001b[0m\u001b[0mkeys\u001b[0m\u001b[0;34m(\u001b[0m\u001b[0;34m)\u001b[0m\u001b[0;34m)\u001b[0m\u001b[0;34m\u001b[0m\u001b[0;34m\u001b[0m\u001b[0m\n\u001b[1;32m     41\u001b[0m     \u001b[0mgeometry_type_values\u001b[0m \u001b[0;34m=\u001b[0m \u001b[0mnp\u001b[0m\u001b[0;34m.\u001b[0m\u001b[0marray\u001b[0m\u001b[0;34m(\u001b[0m\u001b[0mlist\u001b[0m\u001b[0;34m(\u001b[0m\u001b[0mtype_mapping\u001b[0m\u001b[0;34m.\u001b[0m\u001b[0mvalues\u001b[0m\u001b[0;34m(\u001b[0m\u001b[0;34m)\u001b[0m\u001b[0;34m)\u001b[0m\u001b[0;34m,\u001b[0m \u001b[0mdtype\u001b[0m\u001b[0;34m=\u001b[0m\u001b[0mobject\u001b[0m\u001b[0;34m)\u001b[0m\u001b[0;34m\u001b[0m\u001b[0;34m\u001b[0m\u001b[0m\n",
      "\u001b[0;32m/opt/conda/lib/python3.8/site-packages/geopandas/_vectorized.py\u001b[0m in \u001b[0;36m<dictcomp>\u001b[0;34m(.0)\u001b[0m\n\u001b[1;32m     37\u001b[0m \u001b[0;34m\u001b[0m\u001b[0m\n\u001b[1;32m     38\u001b[0m \u001b[0;32mif\u001b[0m \u001b[0mcompat\u001b[0m\u001b[0;34m.\u001b[0m\u001b[0mUSE_PYGEOS\u001b[0m\u001b[0;34m:\u001b[0m\u001b[0;34m\u001b[0m\u001b[0;34m\u001b[0m\u001b[0m\n\u001b[0;32m---> 39\u001b[0;31m     \u001b[0mtype_mapping\u001b[0m \u001b[0;34m=\u001b[0m \u001b[0;34m{\u001b[0m\u001b[0mp\u001b[0m\u001b[0;34m.\u001b[0m\u001b[0mvalue\u001b[0m\u001b[0;34m:\u001b[0m \u001b[0m_names\u001b[0m\u001b[0;34m[\u001b[0m\u001b[0mp\u001b[0m\u001b[0;34m.\u001b[0m\u001b[0mname\u001b[0m\u001b[0;34m]\u001b[0m \u001b[0;32mfor\u001b[0m \u001b[0mp\u001b[0m \u001b[0;32min\u001b[0m \u001b[0mpygeos\u001b[0m\u001b[0;34m.\u001b[0m\u001b[0mGeometryType\u001b[0m\u001b[0;34m}\u001b[0m\u001b[0;34m\u001b[0m\u001b[0;34m\u001b[0m\u001b[0m\n\u001b[0m\u001b[1;32m     40\u001b[0m     \u001b[0mgeometry_type_ids\u001b[0m \u001b[0;34m=\u001b[0m \u001b[0mlist\u001b[0m\u001b[0;34m(\u001b[0m\u001b[0mtype_mapping\u001b[0m\u001b[0;34m.\u001b[0m\u001b[0mkeys\u001b[0m\u001b[0;34m(\u001b[0m\u001b[0;34m)\u001b[0m\u001b[0;34m)\u001b[0m\u001b[0;34m\u001b[0m\u001b[0;34m\u001b[0m\u001b[0m\n\u001b[1;32m     41\u001b[0m     \u001b[0mgeometry_type_values\u001b[0m \u001b[0;34m=\u001b[0m \u001b[0mnp\u001b[0m\u001b[0;34m.\u001b[0m\u001b[0marray\u001b[0m\u001b[0;34m(\u001b[0m\u001b[0mlist\u001b[0m\u001b[0;34m(\u001b[0m\u001b[0mtype_mapping\u001b[0m\u001b[0;34m.\u001b[0m\u001b[0mvalues\u001b[0m\u001b[0;34m(\u001b[0m\u001b[0;34m)\u001b[0m\u001b[0;34m)\u001b[0m\u001b[0;34m,\u001b[0m \u001b[0mdtype\u001b[0m\u001b[0;34m=\u001b[0m\u001b[0mobject\u001b[0m\u001b[0;34m)\u001b[0m\u001b[0;34m\u001b[0m\u001b[0;34m\u001b[0m\u001b[0m\n",
      "\u001b[0;31mKeyError\u001b[0m: 'MISSING'"
     ]
    }
   ],
   "source": [
    "!pip install geopandas\n",
    "import geopandas as geo"
   ]
  },
  {
   "cell_type": "code",
   "execution_count": null,
   "metadata": {},
   "outputs": [],
   "source": [
    "geo"
   ]
  }
 ],
 "metadata": {
  "history": [
   {
    "code": "!pip install wbdata\n\nimport wbdata",
    "id": "503a2a0675634712ab00207445461b00",
    "idx": 0,
    "time": "2021-01-25T23:35:43.163Z",
    "type": "execution"
   },
   {
    "id": "503a2a0675634712ab00207445461b00",
    "time": "2021-01-25T23:35:47.100Z",
    "type": "completion"
   },
   {
    "code": "import wbdata\n\n# Return list of all country/region codes:\nwbdata.get_country()\n\n# Return list matching a query term:\nwbdata.search_countries(\"World\")\n\n## Try your own search!\nwbdata.search_countries(\"\")",
    "id": "9e6e96f4d08b46a58d3356ade04a3324",
    "idx": 1,
    "time": "2021-01-25T23:36:39.924Z",
    "type": "execution"
   },
   {
    "id": "9e6e96f4d08b46a58d3356ade04a3324",
    "time": "2021-01-25T23:36:40.373Z",
    "type": "completion"
   },
   {
    "code": "import wbdata\n\n# Return list of all country/region codes:\nwbdata.get_country()\n\n# Return list matching a query term:\nwbdata.search_countries(\"World\")\n\n## Try your own search!\nwbdata.search_countries(\"China\")",
    "id": "9e6e96f4d08b46a58d3356ade04a3324",
    "idx": 1,
    "time": "2021-01-25T23:37:04.665Z",
    "type": "execution"
   },
   {
    "id": "9e6e96f4d08b46a58d3356ade04a3324",
    "time": "2021-01-25T23:37:05.093Z",
    "type": "completion"
   },
   {
    "code": "import wbdata\n\n# Return list of all country/region codes:\nwbdata.get_country()\n\n# Return list matching a query term:\nwbdata.search_countries(\"World\")\n\n## Try your own search!\nwbdata.search_countries(\"\")",
    "id": "9e6e96f4d08b46a58d3356ade04a3324",
    "idx": 1,
    "time": "2021-01-25T23:41:17.559Z",
    "type": "execution"
   },
   {
    "id": "9e6e96f4d08b46a58d3356ade04a3324",
    "time": "2021-01-25T23:41:17.656Z",
    "type": "completion"
   },
   {
    "code": "import wbdata\n\n# Return list of all country/region codes:\nwbdata.get_country()\n\n# Return list matching a query term:\nwbdata.search_countries(\"World\")\n\n## Try your own search!\nwbdata.search_countries(\"CEA\")",
    "id": "9e6e96f4d08b46a58d3356ade04a3324",
    "idx": 1,
    "time": "2021-01-25T23:41:26.249Z",
    "type": "execution"
   },
   {
    "id": "9e6e96f4d08b46a58d3356ade04a3324",
    "time": "2021-01-25T23:41:26.552Z",
    "type": "completion"
   },
   {
    "code": "import wbdata\n\n# Return list of all country/region codes:\nwbdata.get_country()\n\n# Return list matching a query term:\nwbdata.search_countries(\"World\")\n\n## Try your own search!\nwbdata.search_countries(\"East Asia\")",
    "id": "9e6e96f4d08b46a58d3356ade04a3324",
    "idx": 1,
    "time": "2021-01-25T23:41:58.690Z",
    "type": "execution"
   },
   {
    "id": "9e6e96f4d08b46a58d3356ade04a3324",
    "time": "2021-01-25T23:41:58.891Z",
    "type": "completion"
   },
   {
    "code": "wbdata.get_source()",
    "id": "90782f9d5ae94e8c87be0c638218d58e",
    "idx": 2,
    "time": "2021-01-25T23:43:10.820Z",
    "type": "execution"
   },
   {
    "id": "90782f9d5ae94e8c87be0c638218d58e",
    "time": "2021-01-25T23:43:11.188Z",
    "type": "completion"
   },
   {
    "code": "SOURCE = 40 # \"Population estimates and projections\n\nindicators = wbdata.get_indicator(source=SOURCE)\nindicators",
    "id": "3b4742e6ef134e5d80b6674e028c0a6d",
    "idx": 3,
    "time": "2021-01-25T23:46:54.429Z",
    "type": "execution"
   },
   {
    "id": "3b4742e6ef134e5d80b6674e028c0a6d",
    "time": "2021-01-25T23:46:54.640Z",
    "type": "completion"
   },
   {
    "code": "!pip install cufflinks # IF NECESSARY\nimport cufflinks as cf\ncf.go_offline()",
    "id": "edf3e3c7fe95478f934dcf8427721a78",
    "idx": 4,
    "time": "2021-01-25T23:47:42.490Z",
    "type": "execution"
   },
   {
    "id": "edf3e3c7fe95478f934dcf8427721a78",
    "time": "2021-01-25T23:47:47.847Z",
    "type": "completion"
   },
   {
    "code": "import wbdata\n\n# Return list of all country/region codes:\nwbdata.get_country()\n\n# Return list matching a query term:\nwbdata.search_countries(\"World\")\n\n## Try your own search!\nwbdata.search_countries(\"China\")",
    "id": "9e6e96f4d08b46a58d3356ade04a3324",
    "idx": 1,
    "time": "2021-01-25T23:49:27.418Z",
    "type": "execution"
   },
   {
    "id": "9e6e96f4d08b46a58d3356ade04a3324",
    "time": "2021-01-25T23:49:27.556Z",
    "type": "completion"
   },
   {
    "code": "import wbdata\n\n# Return list of all country/region codes:\nwbdata.get_country()\n\n# Return list matching a query term:\nwbdata.search_countries(\"World\")\n\n## Try your own search!\nwbdata.search_countries(\"Mongolia\")",
    "id": "9e6e96f4d08b46a58d3356ade04a3324",
    "idx": 1,
    "time": "2021-01-25T23:52:43.948Z",
    "type": "execution"
   },
   {
    "id": "9e6e96f4d08b46a58d3356ade04a3324",
    "time": "2021-01-25T23:52:44.381Z",
    "type": "completion"
   },
   {
    "code": "import wbdata\n\n# Return list of all country/region codes:\nwbdata.get_country()\n\n# Return list matching a query term:\nwbdata.search_countries(\"World\")\n\n## Try your own search!\nwbdata.search_countries(\"nORTH kOREA\")",
    "id": "9e6e96f4d08b46a58d3356ade04a3324",
    "idx": 1,
    "time": "2021-01-25T23:53:17.375Z",
    "type": "execution"
   },
   {
    "id": "9e6e96f4d08b46a58d3356ade04a3324",
    "time": "2021-01-25T23:53:17.535Z",
    "type": "completion"
   },
   {
    "code": "import wbdata\n\n# Return list of all country/region codes:\nwbdata.get_country()\n\n# Return list matching a query term:\nwbdata.search_countries(\"World\")\n\n## Try your own search!\nwbdata.search_countries(\"North Korea\")",
    "id": "9e6e96f4d08b46a58d3356ade04a3324",
    "idx": 1,
    "time": "2021-01-25T23:53:23.147Z",
    "type": "execution"
   },
   {
    "id": "9e6e96f4d08b46a58d3356ade04a3324",
    "time": "2021-01-25T23:53:23.366Z",
    "type": "completion"
   },
   {
    "code": "import wbdata\n\n# Return list of all country/region codes:\nwbdata.get_country()\n\n# Return list matching a query term:\nwbdata.search_countries(\"World\")\n\n## Try your own search!\nwbdata.search_countries(\"Korea\")",
    "id": "9e6e96f4d08b46a58d3356ade04a3324",
    "idx": 1,
    "time": "2021-01-25T23:53:29.993Z",
    "type": "execution"
   },
   {
    "id": "9e6e96f4d08b46a58d3356ade04a3324",
    "time": "2021-01-25T23:53:30.067Z",
    "type": "completion"
   },
   {
    "code": "import wbdata\n\n# Return list of all country/region codes:\nwbdata.get_country()\n\n# Return list matching a query term:\nwbdata.search_countries(\"World\")\n\n## Try your own search!\nwbdata.search_countries(\"Japan\")",
    "id": "9e6e96f4d08b46a58d3356ade04a3324",
    "idx": 1,
    "time": "2021-01-25T23:54:12.781Z",
    "type": "execution"
   },
   {
    "id": "9e6e96f4d08b46a58d3356ade04a3324",
    "time": "2021-01-25T23:54:12.956Z",
    "type": "completion"
   },
   {
    "code": "import numpy as np\n\nvariable_labels = {\"SP.POP.TOTL\":\"Population\"}\n\n# Three letter codes come from wbdata.get_country()\ncountries = {\"EAS\":\"East Asia & Pacific\",\n             \"CHN\": \"China\",\n             \"HKG\": \"Hong Kong SAR, China\",\n             \"MAC\": \"Macao SAR, China\"\n             \"TWN\": \"Taiwan, China\"\n             \"MNG\": \"Mongolia\",\n             \"PRK\": \"North Korea\",\n             \"KOR\": \"South Korea\",\n             \"JPN\":\"Japan\"\n            }\n\ndf = wbdata.get_dataframe(variable_labels, country = countries).squeeze()\n\ndf = df.unstack('country')\n# Date index is of type string; change to integers\ndf.index = df.index.astype(int)\n\n# Differences (over time) in logs give us growth rates\nnp.log(df).diff().iplot(title=\"Fact II: Poorer places have higher growth rates\",\n                        yTitle=\"Growth Rate\",xTitle='Year')",
    "id": "04ac5e0c01b54303b07a4e5b6a9074f8",
    "idx": 5,
    "time": "2021-01-25T23:54:19.095Z",
    "type": "execution"
   },
   {
    "id": "04ac5e0c01b54303b07a4e5b6a9074f8",
    "time": "2021-01-25T23:54:19.859Z",
    "type": "completion"
   },
   {
    "code": "import numpy as np\n\nvariable_labels = {\"SP.POP.TOTL\":\"Population\"}\n\n# Three letter codes come from wbdata.get_country()\ncountries = {\"EAS\":\"East Asia & Pacific\",\n             \"CHN\": \"China\",\n             \"HKG\": \"Hong Kong SAR, China\",\n             \"MAC\": \"Macao SAR, China\",\n             \"TWN\": \"Taiwan, China\",\n             \"MNG\": \"Mongolia\",\n             \"PRK\": \"North Korea\",\n             \"KOR\": \"South Korea\",\n             \"JPN\":\"Japan\"\n            }\n\ndf = wbdata.get_dataframe(variable_labels, country = countries).squeeze()\n\ndf = df.unstack('country')\n# Date index is of type string; change to integers\ndf.index = df.index.astype(int)\n\n# Differences (over time) in logs give us growth rates\nnp.log(df).diff().iplot(title=\"Fact II: Poorer places have higher growth rates\",\n                        yTitle=\"Growth Rate\",xTitle='Year')",
    "id": "04ac5e0c01b54303b07a4e5b6a9074f8",
    "idx": 5,
    "time": "2021-01-25T23:54:27.212Z",
    "type": "execution"
   },
   {
    "id": "04ac5e0c01b54303b07a4e5b6a9074f8",
    "time": "2021-01-25T23:54:28.409Z",
    "type": "completion"
   },
   {
    "code": "import numpy as np\n\nvariable_labels = {\"SP.POP.TOTL\":\"Population\"}\n\n# Three letter codes come from wbdata.get_country()\ncountries = {\"EAS\":\"East Asia & Pacific\",\n             \"CHN\": \"China\",\n             #\"HKG\": \"Hong Kong SAR, China\",\n             #\"MAC\": \"Macao SAR, China\",\n             #\"TWN\": \"Taiwan, China\",\n             \"MNG\": \"Mongolia\",\n             \"PRK\": \"North Korea\",\n             \"KOR\": \"South Korea\",\n             \"JPN\":\"Japan\"\n            }\n\ndf = wbdata.get_dataframe(variable_labels, country = countries).squeeze()\n\ndf = df.unstack('country')\n# Date index is of type string; change to integers\ndf.index = df.index.astype(int)\n\n# Differences (over time) in logs give us growth rates\nnp.log(df).diff().iplot(title=\"Fact II: Poorer places have higher growth rates\",\n                        yTitle=\"Growth Rate\",xTitle='Year')",
    "id": "04ac5e0c01b54303b07a4e5b6a9074f8",
    "idx": 5,
    "time": "2021-01-25T23:56:04.586Z",
    "type": "execution"
   },
   {
    "id": "04ac5e0c01b54303b07a4e5b6a9074f8",
    "time": "2021-01-25T23:56:06.125Z",
    "type": "completion"
   },
   {
    "code": "import numpy as np\n\nvariable_labels = {\"SP.POP.TOTL\":\"Population\"}\n\n# Three letter codes come from wbdata.get_country()\ncountries = {\"EAS\":\"East Asia & Pacific\",\n             \"CHN\": \"China\",\n             \"HKG\": \"Hong Kong SAR, China\",\n             \"MAC\": \"Macao SAR, China\",\n             \"TWN\": \"Taiwan, China\",\n            }\n\ndf = wbdata.get_dataframe(variable_labels, country = countries).squeeze()\n\ndf = df.unstack('country')\n# Date index is of type string; change to integers\ndf.index = df.index.astype(int)\n\n# Differences (over time) in logs give us growth rates\nnp.log(df).diff().iplot(title=\"Fact II: Poorer places have higher growth rates\",\n                        yTitle=\"Growth Rate\",xTitle='Year')",
    "id": "4da3e0bb8f7041908a19c3dab1e7647f",
    "idx": 6,
    "time": "2021-01-25T23:59:35.130Z",
    "type": "execution"
   },
   {
    "id": "4da3e0bb8f7041908a19c3dab1e7647f",
    "time": "2021-01-25T23:59:39.122Z",
    "type": "completion"
   },
   {
    "code": "import numpy as np\n\nvariable_labels = {\"SP.POP.TOTL\":\"Population\"}\n\n# Three letter codes come from wbdata.get_country()\ncountries = {\"CHN\": \"China\",\n             \"HKG\": \"Hong Kong SAR, China\",\n             \"MAC\": \"Macao SAR, China\",\n             \"TWN\": \"Taiwan, China\",\n            }\n\ndf = wbdata.get_dataframe(variable_labels, country = countries).squeeze()\n\ndf = df.unstack('country')\n# Date index is of type string; change to integers\ndf.index = df.index.astype(int)\n\n# Differences (over time) in logs give us growth rates\nnp.log(df).diff().iplot(title=\"Fact II: Poorer places have higher growth rates\",\n                        yTitle=\"Growth Rate\",xTitle='Year')",
    "id": "4da3e0bb8f7041908a19c3dab1e7647f",
    "idx": 6,
    "time": "2021-01-25T23:59:43.859Z",
    "type": "execution"
   },
   {
    "id": "4da3e0bb8f7041908a19c3dab1e7647f",
    "time": "2021-01-25T23:59:45.000Z",
    "type": "completion"
   },
   {
    "code": "import wbdata\n\n# Return list of all country/region codes:\nwbdata.get_country()\n\n# Return list matching a query term:\nwbdata.search_countries(\"World\")\n\n## Try your own search!\nwbdata.search_countries(\"China\")",
    "id": "0e8e238662f843a6910f3fb1c9fdcb9d",
    "idx": 1,
    "time": "2021-01-29T18:34:10.907Z",
    "type": "execution"
   },
   {
    "id": "0e8e238662f843a6910f3fb1c9fdcb9d",
    "time": "2021-01-29T18:34:11.071Z",
    "type": "completion"
   },
   {
    "code": "import wbdata\n\n# Return list of all country/region codes:\n# wbdata.get_country()\n# testing\n\n# Return list matching a query term:\nwbdata.search_countries(\"World\")\n\n## Try your own search!\nwbdata.search_countries(\"Japan\")",
    "id": "0e8e238662f843a6910f3fb1c9fdcb9d",
    "idx": 1,
    "time": "2021-01-29T18:34:30.954Z",
    "type": "execution"
   },
   {
    "id": "0e8e238662f843a6910f3fb1c9fdcb9d",
    "time": "2021-01-29T18:34:31.022Z",
    "type": "completion"
   },
   {
    "code": "!pip install wbdata\n\nimport wbdata",
    "id": "5d1d27f78124422c8313f2e389aa2cbf",
    "idx": 0,
    "time": "2021-01-29T18:34:39.959Z",
    "type": "execution"
   },
   {
    "code": "import wbdata\n\n# Return list of all country/region codes:\n# wbdata.get_country()\n# testing\n\n# Return list matching a query term:\nwbdata.search_countries(\"World\")\n\n## Try your own search!\nwbdata.search_countries(\"Japan\")",
    "id": "0e8e238662f843a6910f3fb1c9fdcb9d",
    "idx": 1,
    "time": "2021-01-29T18:34:40.354Z",
    "type": "execution"
   },
   {
    "id": "5d1d27f78124422c8313f2e389aa2cbf",
    "time": "2021-01-29T18:34:44.468Z",
    "type": "completion"
   },
   {
    "id": "0e8e238662f843a6910f3fb1c9fdcb9d",
    "time": "2021-01-29T18:34:44.489Z",
    "type": "completion"
   },
   {
    "code": "import numpy as np\n\nvariable_labels = {\"SP.POP.TOTL\":\"Population\"}\n\n# Three letter codes come from wbdata.get_country()\ncountries = {\"EAS\":\"East Asia & Pacific\",\n             \"CHN\": \"China\",\n             #\"HKG\": \"Hong Kong SAR, China\",\n             #\"MAC\": \"Macao SAR, China\",\n             #\"TWN\": \"Taiwan, China\",\n             \"MNG\": \"Mongolia\",\n             \"PRK\": \"North Korea\",\n             \"KOR\": \"South Korea\",\n             \"JPN\":\"Japan\"\n            }\n\ndf = wbdata.get_dataframe(variable_labels, country = countries).squeeze()\n\ndf = df.unstack('country')\n# Date index is of type string; change to integers\ndf.index = df.index.astype(int)\n\n# Differences (over time) in logs give us growth rates\nnp.log(df).diff().iplot(title=\"Fact II: Poorer places have higher growth rates\",\n                        yTitle=\"Growth Rate\",xTitle='Year')",
    "id": "bb22db0fc8804237b445649180fa9a6f",
    "idx": 5,
    "time": "2021-01-29T18:49:00.374Z",
    "type": "execution"
   },
   {
    "id": "bb22db0fc8804237b445649180fa9a6f",
    "time": "2021-01-29T18:49:00.669Z",
    "type": "completion"
   },
   {
    "code": "import numpy as np\n\nvariable_labels = {\"SP.POP.TOTL\":\"Population\"}\n\n# Three letter codes come from wbdata.get_country()\ncountries = {\"EAS\":\"East Asia & Pacific\",\n             \"CHN\": \"China\",\n             #\"HKG\": \"Hong Kong SAR, China\",\n             #\"MAC\": \"Macao SAR, China\",\n             #\"TWN\": \"Taiwan, China\",\n             \"MNG\": \"Mongolia\",\n             \"PRK\": \"North Korea\",\n             \"KOR\": \"South Korea\",\n             \"JPN\":\"Japan\"\n            }\n\ndf = wbdata.get_dataframe(variable_labels, country = countries).squeeze()\n\ndf = df.unstack('country')\n# Date index is of type string; change to integers\ndf.index = df.index.astype(int)\n\n# Differences (over time) in logs give us growth rates\nnp.log(df).diff().iplot(title=\"Fact II: Poorer places have higher growth rates\",\n                        yTitle=\"Growth Rate\",xTitle='Year')",
    "id": "bb22db0fc8804237b445649180fa9a6f",
    "idx": 5,
    "time": "2021-01-29T18:49:05.251Z",
    "type": "execution"
   },
   {
    "id": "bb22db0fc8804237b445649180fa9a6f",
    "time": "2021-01-29T18:49:05.314Z",
    "type": "completion"
   },
   {
    "code": "import numpy as np\n\nvariable_labels = {\"SP.POP.TOTL\":\"Population\"}\n\n# Three letter codes come from wbdata.get_country()\ncountries = {\"EAS\":\"East Asia & Pacific\",\n             \"CHN\": \"China\",\n             #\"HKG\": \"Hong Kong SAR, China\",\n             #\"MAC\": \"Macao SAR, China\",\n             #\"TWN\": \"Taiwan, China\",\n             \"MNG\": \"Mongolia\",\n             \"PRK\": \"North Korea\",\n             \"KOR\": \"South Korea\",\n             \"JPN\":\"Japan\"\n            }\n\ndf = wbdata.get_dataframe(variable_labels, country = countries).squeeze()\n\ndf = df.unstack('country')\n# Date index is of type string; change to integers\ndf.index = df.index.astype(int)\n\n# Differences (over time) in logs give us growth rates\nnp.log(df).diff().iplot(title=\"Fact II: Poorer places have higher growth rates\",\n                        yTitle=\"Growth Rate\",xTitle='Year')",
    "id": "bb22db0fc8804237b445649180fa9a6f",
    "idx": 5,
    "time": "2021-01-29T18:49:08.671Z",
    "type": "execution"
   },
   {
    "id": "bb22db0fc8804237b445649180fa9a6f",
    "time": "2021-01-29T18:49:08.736Z",
    "type": "completion"
   },
   {
    "code": "import wbdata\n\n# Return list of all country/region codes:\nwbdata.get_country()\n# testing\n\n# Return list matching a query term:\nwbdata.search_countries(\"World\")\n\n## Try your own search!\nwbdata.search_countries(\"Japan\")",
    "id": "b2706283c58241e0aa60ea39deedc48d",
    "idx": 1,
    "time": "2021-01-29T18:49:30.592Z",
    "type": "execution"
   },
   {
    "id": "b2706283c58241e0aa60ea39deedc48d",
    "time": "2021-01-29T18:49:30.686Z",
    "type": "completion"
   },
   {
    "code": "!pip install wbdata\n\nimport wbdata",
    "id": "b77b29f5fc3244b595d20f089dfb2e84",
    "idx": 0,
    "time": "2021-01-29T18:50:46.752Z",
    "type": "execution"
   },
   {
    "id": "b77b29f5fc3244b595d20f089dfb2e84",
    "time": "2021-01-29T18:50:51.025Z",
    "type": "completion"
   },
   {
    "code": "!pip install wbdata\n\nimport wbdata\nimport numpy as np",
    "id": "b77b29f5fc3244b595d20f089dfb2e84",
    "idx": 0,
    "time": "2021-01-29T18:50:52.961Z",
    "type": "execution"
   },
   {
    "id": "b77b29f5fc3244b595d20f089dfb2e84",
    "time": "2021-01-29T18:50:56.394Z",
    "type": "completion"
   },
   {
    "code": "#   !pip install wbdata\n\nimport wbdata\nimport numpy as np",
    "id": "64296ff9895c4cb187fa069198f42b5b",
    "idx": 0,
    "time": "2021-02-01T22:58:55.248Z",
    "type": "execution"
   },
   {
    "id": "64296ff9895c4cb187fa069198f42b5b",
    "time": "2021-02-01T22:58:55.638Z",
    "type": "completion"
   },
   {
    "code": "!pip install wbdata\n\nimport wbdata\nimport numpy as np",
    "id": "64296ff9895c4cb187fa069198f42b5b",
    "idx": 0,
    "time": "2021-02-01T22:59:00.365Z",
    "type": "execution"
   },
   {
    "id": "64296ff9895c4cb187fa069198f42b5b",
    "time": "2021-02-01T22:59:19.573Z",
    "type": "completion"
   },
   {
    "code": "# Return list of all country/region codes:\nwbdata.get_country()",
    "id": "7fcc21a08d13416c95015b62d7a8119a",
    "idx": 1,
    "time": "2021-02-01T23:04:25.871Z",
    "type": "execution"
   },
   {
    "id": "7fcc21a08d13416c95015b62d7a8119a",
    "time": "2021-02-01T23:04:26.367Z",
    "type": "completion"
   },
   {
    "code": "wbdata.get_source()",
    "id": "4f61d686ec774e1d8430ff5bd1599bba",
    "idx": 3,
    "time": "2021-02-01T23:05:09.568Z",
    "type": "execution"
   },
   {
    "id": "4f61d686ec774e1d8430ff5bd1599bba",
    "time": "2021-02-01T23:05:09.874Z",
    "type": "completion"
   },
   {
    "code": "SOURCE = 40 # \"Population estimates and projections\n\nindicators = wbdata.get_indicator(source=SOURCE)",
    "id": "81b898ab12114bcd9b787b9e09ed4aec",
    "idx": 4,
    "time": "2021-02-01T23:05:32.222Z",
    "type": "execution"
   },
   {
    "id": "81b898ab12114bcd9b787b9e09ed4aec",
    "time": "2021-02-01T23:05:32.537Z",
    "type": "completion"
   },
   {
    "code": "SOURCE = 5 # \"Population estimates and projections\n\nindicators = wbdata.get_indicator(source=SOURCE)",
    "id": "81b898ab12114bcd9b787b9e09ed4aec",
    "idx": 4,
    "time": "2021-02-01T23:08:05.842Z",
    "type": "execution"
   },
   {
    "id": "81b898ab12114bcd9b787b9e09ed4aec",
    "time": "2021-02-01T23:08:06.353Z",
    "type": "completion"
   },
   {
    "code": "SOURCE = 5 # \"Population estimates and projections\n\nwbdata.get_indicator(source=SOURCE)",
    "id": "81b898ab12114bcd9b787b9e09ed4aec",
    "idx": 4,
    "time": "2021-02-01T23:08:40.859Z",
    "type": "execution"
   },
   {
    "id": "81b898ab12114bcd9b787b9e09ed4aec",
    "time": "2021-02-01T23:08:40.938Z",
    "type": "completion"
   },
   {
    "code": "SOURCE = 5 # \"Population estimates and projections\n\nindicators = wbdata.get_indicator(source=SOURCE)\nindicators",
    "id": "81b898ab12114bcd9b787b9e09ed4aec",
    "idx": 4,
    "time": "2021-02-01T23:08:49.258Z",
    "type": "execution"
   },
   {
    "id": "81b898ab12114bcd9b787b9e09ed4aec",
    "time": "2021-02-01T23:08:49.375Z",
    "type": "completion"
   },
   {
    "code": "SOURCE = 39 # \"Population estimates and projections\n\nindicators = wbdata.get_indicator(source=SOURCE)\nindicators",
    "id": "81b898ab12114bcd9b787b9e09ed4aec",
    "idx": 4,
    "time": "2021-02-01T23:09:00.368Z",
    "type": "execution"
   },
   {
    "id": "81b898ab12114bcd9b787b9e09ed4aec",
    "time": "2021-02-01T23:09:03.314Z",
    "type": "completion"
   },
   {
    "code": "SOURCE = 16 # \"Population estimates and projections\n\nindicators = wbdata.get_indicator(source=SOURCE)\nindicators",
    "id": "81b898ab12114bcd9b787b9e09ed4aec",
    "idx": 4,
    "time": "2021-02-01T23:09:47.727Z",
    "type": "execution"
   },
   {
    "id": "81b898ab12114bcd9b787b9e09ed4aec",
    "time": "2021-02-01T23:09:50.448Z",
    "type": "completion"
   },
   {
    "code": "SOURCE = 40 # \"Population estimates and projections\n\nindicators = wbdata.get_indicator(source=SOURCE)\nindicators",
    "id": "81b898ab12114bcd9b787b9e09ed4aec",
    "idx": 4,
    "time": "2021-02-01T23:15:08.067Z",
    "type": "execution"
   },
   {
    "id": "81b898ab12114bcd9b787b9e09ed4aec",
    "time": "2021-02-01T23:15:08.176Z",
    "type": "completion"
   },
   {
    "code": "variable_labels = {\"SP.POP.TOTL\":\"World Population\"}\n\nworld = wbdata.get_dataframe(variable_labels, country=\"WLD\")",
    "id": "e84b549b5c10485a8b47aec5982a2dec",
    "idx": 5,
    "time": "2021-02-01T23:15:41.766Z",
    "type": "execution"
   },
   {
    "id": "e84b549b5c10485a8b47aec5982a2dec",
    "time": "2021-02-01T23:15:42.015Z",
    "type": "completion"
   },
   {
    "code": "variable_labels = {\"SP.POP.TOTL\":\"World Population\"}\n\nworld = wbdata.get_dataframe(variable_labels, country=\"WLD\")\nworld",
    "id": "e84b549b5c10485a8b47aec5982a2dec",
    "idx": 5,
    "time": "2021-02-01T23:15:44.416Z",
    "type": "execution"
   },
   {
    "id": "e84b549b5c10485a8b47aec5982a2dec",
    "time": "2021-02-01T23:15:44.507Z",
    "type": "completion"
   },
   {
    "code": "variable_labels = {\"SP.POP.TOTL\":\"World Population\"}\n\ntwn = wbdata.get_dataframe(variable_labels, country=\"TWN\")\ntwn",
    "id": "e84b549b5c10485a8b47aec5982a2dec",
    "idx": 5,
    "time": "2021-02-01T23:16:08.846Z",
    "type": "execution"
   },
   {
    "id": "e84b549b5c10485a8b47aec5982a2dec",
    "time": "2021-02-01T23:16:09.568Z",
    "type": "completion"
   },
   {
    "code": "variable_labels = {\"SP.POP.TOTL\":\"World Population\"}\n\ntwn = wbdata.get_dataframe(variable_labels, country=\"World\")\ntwn",
    "id": "e84b549b5c10485a8b47aec5982a2dec",
    "idx": 5,
    "time": "2021-02-01T23:16:48.408Z",
    "type": "execution"
   },
   {
    "id": "e84b549b5c10485a8b47aec5982a2dec",
    "time": "2021-02-01T23:16:49.010Z",
    "type": "completion"
   },
   {
    "code": "variable_labels = {\"SP.POP.TOTL\":\"World Population\"}\n\ntwn = wbdata.get_dataframe(variable_labels, country=\"WLD\")\ntwn",
    "id": "e84b549b5c10485a8b47aec5982a2dec",
    "idx": 5,
    "time": "2021-02-01T23:16:52.539Z",
    "type": "execution"
   },
   {
    "id": "e84b549b5c10485a8b47aec5982a2dec",
    "time": "2021-02-01T23:16:52.615Z",
    "type": "completion"
   },
   {
    "code": "variable_labels = {\"SP.POP.TOTL\":\"World Population\"}\n\ntwn = wbdata.get_dataframe(variable_labels, country=\"USA\")\ntwn",
    "id": "e84b549b5c10485a8b47aec5982a2dec",
    "idx": 5,
    "time": "2021-02-01T23:18:04.549Z",
    "type": "execution"
   },
   {
    "id": "e84b549b5c10485a8b47aec5982a2dec",
    "time": "2021-02-01T23:18:05.136Z",
    "type": "completion"
   },
   {
    "code": "variable_labels = {\"SP.POP.TOTL\":\"World Population\"}\n\ntwn = wbdata.get_dataframe(variable_labels, country=\"CHN\")\ntwn",
    "id": "e84b549b5c10485a8b47aec5982a2dec",
    "idx": 5,
    "time": "2021-02-01T23:18:12.358Z",
    "type": "execution"
   },
   {
    "id": "e84b549b5c10485a8b47aec5982a2dec",
    "time": "2021-02-01T23:18:12.831Z",
    "type": "completion"
   },
   {
    "code": "variable_labels = {\"SP.POP.TOTL\":\"China Population\"}\n\nchn_pop = wbdata.get_dataframe(variable_labels, country=\"CHN\")\nchn_pop",
    "id": "e84b549b5c10485a8b47aec5982a2dec",
    "idx": 5,
    "time": "2021-02-01T23:18:29.579Z",
    "type": "execution"
   },
   {
    "id": "e84b549b5c10485a8b47aec5982a2dec",
    "time": "2021-02-01T23:18:29.647Z",
    "type": "completion"
   },
   {
    "code": "variable_labels = {\"SP.POP.TOTL\":\"China Population\", \"date\":\"year\"}\n\n# Get the DataFrame \nchn_pop = wbdata.get_dataframe(variable_labels, country=\"CHN\")\nchn_pop",
    "id": "e84b549b5c10485a8b47aec5982a2dec",
    "idx": 5,
    "time": "2021-02-01T23:19:30.749Z",
    "type": "execution"
   },
   {
    "id": "e84b549b5c10485a8b47aec5982a2dec",
    "time": "2021-02-01T23:19:31.076Z",
    "type": "completion"
   },
   {
    "code": "variable_labels = {\"SP.POP.TOTL\":\"China Population\"}\n\n# Get the \nchn_pop = wbdata.get_dataframe(variable_labels, country=\"CHN\")\nchn_pop",
    "id": "e84b549b5c10485a8b47aec5982a2dec",
    "idx": 5,
    "time": "2021-02-01T23:19:35.130Z",
    "type": "execution"
   },
   {
    "id": "e84b549b5c10485a8b47aec5982a2dec",
    "time": "2021-02-01T23:19:35.209Z",
    "type": "completion"
   },
   {
    "code": "variable_labels = {\"SP.POP.TOTL\":\"China Population\"}\n\n# Get the \nchn = wbdata.get_dataframe(variable_labels, country=\"CHN\")\nchn",
    "id": "e84b549b5c10485a8b47aec5982a2dec",
    "idx": 5,
    "time": "2021-02-01T23:19:41.520Z",
    "type": "execution"
   },
   {
    "id": "e84b549b5c10485a8b47aec5982a2dec",
    "time": "2021-02-01T23:19:41.596Z",
    "type": "completion"
   },
   {
    "code": "# Date index is of type string; change to integers\nchn.index = chn.index.astype(int)\nchn",
    "id": "8d905800559448b7809c095b1d6377c6",
    "idx": 6,
    "time": "2021-02-01T23:20:44.763Z",
    "type": "execution"
   },
   {
    "id": "8d905800559448b7809c095b1d6377c6",
    "time": "2021-02-01T23:20:44.847Z",
    "type": "completion"
   },
   {
    "code": "# Date index is of type string; change to integers\nchn.index = chn.index.astype(int)\ntype(chn['date'])",
    "id": "8d905800559448b7809c095b1d6377c6",
    "idx": 6,
    "time": "2021-02-01T23:20:55.460Z",
    "type": "execution"
   },
   {
    "id": "8d905800559448b7809c095b1d6377c6",
    "time": "2021-02-01T23:20:55.560Z",
    "type": "completion"
   },
   {
    "code": "# Date index is of type string; change to integers\nchn.index = chn.index.astype(int)\ntype(chn['year'])",
    "id": "8d905800559448b7809c095b1d6377c6",
    "idx": 6,
    "time": "2021-02-01T23:21:00.461Z",
    "type": "execution"
   },
   {
    "id": "8d905800559448b7809c095b1d6377c6",
    "time": "2021-02-01T23:21:00.559Z",
    "type": "completion"
   },
   {
    "code": "# Date index is of type string; change to integers\nchn.index = chn.index.astype(int)",
    "id": "8d905800559448b7809c095b1d6377c6",
    "idx": 6,
    "time": "2021-02-01T23:21:06.371Z",
    "type": "execution"
   },
   {
    "id": "8d905800559448b7809c095b1d6377c6",
    "time": "2021-02-01T23:21:06.426Z",
    "type": "completion"
   },
   {
    "code": "# Date index is of type string; change to integers\nchn.index = chn.index.astype(int)\nchn",
    "id": "8d905800559448b7809c095b1d6377c6",
    "idx": 6,
    "time": "2021-02-01T23:21:09.619Z",
    "type": "execution"
   },
   {
    "id": "8d905800559448b7809c095b1d6377c6",
    "time": "2021-02-01T23:21:09.693Z",
    "type": "completion"
   },
   {
    "code": "# Date index is of type string; change to integers\nchn.index = chn.index.astype(int)\n\n# Rename \"date\" to \"year\"\nchn.rename({'date':'year'})",
    "id": "8d905800559448b7809c095b1d6377c6",
    "idx": 6,
    "time": "2021-02-01T23:23:27.101Z",
    "type": "execution"
   },
   {
    "id": "8d905800559448b7809c095b1d6377c6",
    "time": "2021-02-01T23:23:27.174Z",
    "type": "completion"
   },
   {
    "code": "# Date index is of type string; change to integers\nchn.index = chn.index.astype(int)\n\n# Rename \"date\" to \"year\"\nchn.rename({'date':'year'}, axis=1)",
    "id": "8d905800559448b7809c095b1d6377c6",
    "idx": 6,
    "time": "2021-02-01T23:23:31.120Z",
    "type": "execution"
   },
   {
    "id": "8d905800559448b7809c095b1d6377c6",
    "time": "2021-02-01T23:23:31.183Z",
    "type": "completion"
   },
   {
    "code": "# Date index is of type string; change to integers\nchn.index = chn.index.astype(int)\n\n# Rename \"date\" to \"year\"\nchn.rename({'date':'year'}, axis=0)",
    "id": "8d905800559448b7809c095b1d6377c6",
    "idx": 6,
    "time": "2021-02-01T23:23:34.240Z",
    "type": "execution"
   },
   {
    "id": "8d905800559448b7809c095b1d6377c6",
    "time": "2021-02-01T23:23:34.306Z",
    "type": "completion"
   },
   {
    "code": "# Date index is of type string; change to integers\nchn.index = chn.index.astype(int)\n\n# Rename \"date\" to \"year\"\nchn.rename(columns={'date':'year'}, axis=0)",
    "id": "8d905800559448b7809c095b1d6377c6",
    "idx": 6,
    "time": "2021-02-01T23:23:49.090Z",
    "type": "execution"
   },
   {
    "id": "8d905800559448b7809c095b1d6377c6",
    "time": "2021-02-01T23:23:49.189Z",
    "type": "completion"
   },
   {
    "code": "# Date index is of type string; change to integers\nchn.index = chn.index.astype(int)\n\n# Rename \"date\" to \"year\"\nchn.rename({\"date\":\"year\"}, axis=0)",
    "id": "8d905800559448b7809c095b1d6377c6",
    "idx": 6,
    "time": "2021-02-01T23:26:23.389Z",
    "type": "execution"
   },
   {
    "id": "8d905800559448b7809c095b1d6377c6",
    "time": "2021-02-01T23:26:23.469Z",
    "type": "completion"
   },
   {
    "code": "# Date index is of type string; change to integers\nchn.index = chn.index.astype(int)\n\n# Rename \"date\" to \"year\"\nchn.rename({\"date\":\"year\"}, axis=1)",
    "id": "8d905800559448b7809c095b1d6377c6",
    "idx": 6,
    "time": "2021-02-01T23:26:36.020Z",
    "type": "execution"
   },
   {
    "id": "8d905800559448b7809c095b1d6377c6",
    "time": "2021-02-01T23:26:36.091Z",
    "type": "completion"
   },
   {
    "code": "# Date index is of type string; change to integers\nchn.index = chn.index.astype(int)\n\n# Rename \"date\" to \"year\"\nchn = chn.rename({\"date\":\"year\"}, axis=1)\nchn",
    "id": "8d905800559448b7809c095b1d6377c6",
    "idx": 6,
    "time": "2021-02-01T23:26:43.920Z",
    "type": "execution"
   },
   {
    "id": "8d905800559448b7809c095b1d6377c6",
    "time": "2021-02-01T23:26:43.986Z",
    "type": "completion"
   },
   {
    "code": "# Date index is of type string; change to integers\nchn.index = chn.index.astype(int)\n\n# Rename \"date\" to \"year\"\nchn.rename({\"date\":\"year\"}, axis=1)",
    "id": "8d905800559448b7809c095b1d6377c6",
    "idx": 6,
    "time": "2021-02-01T23:31:49.809Z",
    "type": "execution"
   },
   {
    "id": "8d905800559448b7809c095b1d6377c6",
    "time": "2021-02-01T23:31:49.887Z",
    "type": "completion"
   },
   {
    "code": "# Date index is of type string; change to integers\nchn.index = chn.index.astype(int)\n\n# Rename \"date\" to \"year\"\nchn.rename(index=0, axis=1)",
    "id": "8d905800559448b7809c095b1d6377c6",
    "idx": 6,
    "time": "2021-02-01T23:31:59.424Z",
    "type": "execution"
   },
   {
    "id": "8d905800559448b7809c095b1d6377c6",
    "time": "2021-02-01T23:31:59.523Z",
    "type": "completion"
   },
   {
    "code": "# Date index is of type string; change to integers\nchn.index = chn.index.astype(int)\n\n# Rename \"date\" to \"year\"\nchn.rename(index=0)",
    "id": "8d905800559448b7809c095b1d6377c6",
    "idx": 6,
    "time": "2021-02-01T23:32:04.684Z",
    "type": "execution"
   },
   {
    "id": "8d905800559448b7809c095b1d6377c6",
    "time": "2021-02-01T23:32:04.811Z",
    "type": "completion"
   },
   {
    "code": "# Date index is of type string; change to integers\nchn.index = chn.index.astype(int)\n\n# Rename \"date\" to \"year\"\nchn.rename(columns={'date', 'year'})",
    "id": "8d905800559448b7809c095b1d6377c6",
    "idx": 6,
    "time": "2021-02-01T23:32:28.374Z",
    "type": "execution"
   },
   {
    "id": "8d905800559448b7809c095b1d6377c6",
    "time": "2021-02-01T23:32:28.485Z",
    "type": "completion"
   },
   {
    "code": "# Date index is of type string; change to integers\nchn.index = chn.index.astype(int)\n\n# Rename \"date\" to \"year\"\nchn.rename(columns={'date', 'year'})",
    "id": "8d905800559448b7809c095b1d6377c6",
    "idx": 6,
    "time": "2021-02-01T23:32:53.044Z",
    "type": "execution"
   },
   {
    "id": "8d905800559448b7809c095b1d6377c6",
    "time": "2021-02-01T23:32:53.156Z",
    "type": "completion"
   },
   {
    "code": "# Date index is of type string; change to integers\nchn.index = chn.index.astype(int)\n\n# Rename \"date\" to \"year\"\nchn.columns",
    "id": "8d905800559448b7809c095b1d6377c6",
    "idx": 6,
    "time": "2021-02-01T23:33:19.536Z",
    "type": "execution"
   },
   {
    "id": "8d905800559448b7809c095b1d6377c6",
    "time": "2021-02-01T23:33:19.595Z",
    "type": "completion"
   },
   {
    "code": "# Date index is of type string; change to integers\nchn.index = chn.index.astype(int)\n\n# Rename \"date\" to \"year\"\nchn.rename(index={'date','year'})",
    "id": "8d905800559448b7809c095b1d6377c6",
    "idx": 6,
    "time": "2021-02-01T23:33:29.644Z",
    "type": "execution"
   },
   {
    "id": "8d905800559448b7809c095b1d6377c6",
    "time": "2021-02-01T23:33:29.759Z",
    "type": "completion"
   },
   {
    "code": "# Date index is of type string; change to integers\nchn.index = chn.index.astype(int)\n\n# Rename \"date\" to \"year\"\nchn.rename(index={'date':'year'})",
    "id": "8d905800559448b7809c095b1d6377c6",
    "idx": 6,
    "time": "2021-02-01T23:33:39.095Z",
    "type": "execution"
   },
   {
    "id": "8d905800559448b7809c095b1d6377c6",
    "time": "2021-02-01T23:33:39.161Z",
    "type": "completion"
   },
   {
    "code": "# Date index is of type string; change to integers\nchn.index = chn.index.astype(int)\n\n# Rename \"date\" to \"year\"\nchn.rename(index={'date':'year'})\nchn.columns",
    "id": "8d905800559448b7809c095b1d6377c6",
    "idx": 6,
    "time": "2021-02-01T23:33:44.954Z",
    "type": "execution"
   },
   {
    "id": "8d905800559448b7809c095b1d6377c6",
    "time": "2021-02-01T23:33:45.013Z",
    "type": "completion"
   },
   {
    "code": "# Date index is of type string; change to integers\nchn.index = chn.index.astype(int)\n\n# Rename \"date\" to \"year\"\nchn.rename(index={'date':'year'})\nchn",
    "id": "8d905800559448b7809c095b1d6377c6",
    "idx": 6,
    "time": "2021-02-01T23:33:50.456Z",
    "type": "execution"
   },
   {
    "id": "8d905800559448b7809c095b1d6377c6",
    "time": "2021-02-01T23:33:50.532Z",
    "type": "completion"
   },
   {
    "code": "# Date index is of type string; change to integers\nchn.index = chn.index.astype(int)\n\n# Rename \"date\" to \"year\"\nchn.rename(index={'date':'year'})",
    "id": "8d905800559448b7809c095b1d6377c6",
    "idx": 6,
    "time": "2021-02-01T23:33:53.954Z",
    "type": "execution"
   },
   {
    "id": "8d905800559448b7809c095b1d6377c6",
    "time": "2021-02-01T23:33:54.022Z",
    "type": "completion"
   },
   {
    "code": "# Date index is of type string; change to integers\nchn.index = chn.index.astype(int)\n\n# Rename \"date\" to \"year\"\nchn.rename(index={'date':'year'}, axis=1)",
    "id": "8d905800559448b7809c095b1d6377c6",
    "idx": 6,
    "time": "2021-02-01T23:34:12.694Z",
    "type": "execution"
   },
   {
    "id": "8d905800559448b7809c095b1d6377c6",
    "time": "2021-02-01T23:34:12.791Z",
    "type": "completion"
   },
   {
    "code": "# Date index is of type string; change to integers\nchn.index = chn.index.astype(int)\n\n# Rename \"date\" to \"year\"\nchn.Index.rename({'date':'year'})",
    "id": "8d905800559448b7809c095b1d6377c6",
    "idx": 6,
    "time": "2021-02-01T23:36:25.886Z",
    "type": "execution"
   },
   {
    "id": "8d905800559448b7809c095b1d6377c6",
    "time": "2021-02-01T23:36:25.968Z",
    "type": "completion"
   },
   {
    "code": "# Date index is of type string; change to integers\nchn.index = chn.index.astype(int)\n\n# Rename \"date\" to \"year\"\nchn",
    "id": "8d905800559448b7809c095b1d6377c6",
    "idx": 6,
    "time": "2021-02-01T23:36:41.786Z",
    "type": "execution"
   },
   {
    "id": "8d905800559448b7809c095b1d6377c6",
    "time": "2021-02-01T23:36:41.850Z",
    "type": "completion"
   },
   {
    "code": "!pip install wbdata\n\nimport wbdata\nimport numpy as np",
    "id": "664a1685ff09479ea56c1097c02567ea",
    "idx": 0,
    "time": "2021-02-03T22:13:44.494Z",
    "type": "execution"
   },
   {
    "code": "# Return list of all country/region codes:\nwbdata.get_country()",
    "id": "db76163acf1a423fa97f210550931f5c",
    "idx": 1,
    "time": "2021-02-03T22:13:45.471Z",
    "type": "execution"
   },
   {
    "code": "wbdata.get_source()",
    "id": "22616328087e41e29a1a10039ef4ff0b",
    "idx": 3,
    "time": "2021-02-03T22:13:46.213Z",
    "type": "execution"
   },
   {
    "code": "SOURCE = 40 # \"Population estimates and projections\n\nindicators = wbdata.get_indicator(source=SOURCE)\nindicators",
    "id": "10f2c643e65c4e0e890c2badfa288cf8",
    "idx": 4,
    "time": "2021-02-03T22:13:46.396Z",
    "type": "execution"
   },
   {
    "code": "variable_labels = {\"SP.POP.TOTL\":\"China Population\"}\n\n# Get the \nchn = wbdata.get_dataframe(variable_labels, country=\"CHN\")\nchn",
    "id": "0768649561fc4ff28370d7ca71bb7dfa",
    "idx": 5,
    "time": "2021-02-03T22:13:46.546Z",
    "type": "execution"
   },
   {
    "id": "664a1685ff09479ea56c1097c02567ea",
    "time": "2021-02-03T22:13:51.393Z",
    "type": "completion"
   },
   {
    "id": "db76163acf1a423fa97f210550931f5c",
    "time": "2021-02-03T22:13:52.356Z",
    "type": "completion"
   },
   {
    "id": "22616328087e41e29a1a10039ef4ff0b",
    "time": "2021-02-03T22:13:52.361Z",
    "type": "completion"
   },
   {
    "id": "10f2c643e65c4e0e890c2badfa288cf8",
    "time": "2021-02-03T22:13:52.364Z",
    "type": "completion"
   },
   {
    "id": "0768649561fc4ff28370d7ca71bb7dfa",
    "time": "2021-02-03T22:13:52.416Z",
    "type": "completion"
   },
   {
    "code": "def population(country):\n    return wbdata.get_dataframe(variable_labels, country=country)",
    "id": "859e7141c23e4236aee94be527ca2500",
    "idx": 8,
    "time": "2021-02-03T22:27:42.102Z",
    "type": "execution"
   },
   {
    "id": "859e7141c23e4236aee94be527ca2500",
    "time": "2021-02-03T22:27:42.805Z",
    "type": "completion"
   },
   {
    "code": "population('CHN')",
    "id": "b20e3f24988f479b864852acf0ea2bf8",
    "idx": 9,
    "time": "2021-02-03T22:27:46.298Z",
    "type": "execution"
   },
   {
    "id": "b20e3f24988f479b864852acf0ea2bf8",
    "time": "2021-02-03T22:27:47.144Z",
    "type": "completion"
   },
   {
    "code": "chn = population('CHN')\nchn[chn['date']==2010]",
    "id": "b20e3f24988f479b864852acf0ea2bf8",
    "idx": 9,
    "time": "2021-02-03T22:28:35.060Z",
    "type": "execution"
   },
   {
    "id": "b20e3f24988f479b864852acf0ea2bf8",
    "time": "2021-02-03T22:28:35.284Z",
    "type": "completion"
   },
   {
    "code": "chn = population('CHN')\nchn.columns",
    "id": "b20e3f24988f479b864852acf0ea2bf8",
    "idx": 9,
    "time": "2021-02-03T22:28:42.607Z",
    "type": "execution"
   },
   {
    "id": "b20e3f24988f479b864852acf0ea2bf8",
    "time": "2021-02-03T22:28:42.870Z",
    "type": "completion"
   },
   {
    "code": "chn = population('CHN')\nchn",
    "id": "b20e3f24988f479b864852acf0ea2bf8",
    "idx": 9,
    "time": "2021-02-03T22:28:50.143Z",
    "type": "execution"
   },
   {
    "id": "b20e3f24988f479b864852acf0ea2bf8",
    "time": "2021-02-03T22:28:50.242Z",
    "type": "completion"
   },
   {
    "code": "chn = population('CHN')\nchn.index",
    "id": "b20e3f24988f479b864852acf0ea2bf8",
    "idx": 9,
    "time": "2021-02-03T22:28:53.969Z",
    "type": "execution"
   },
   {
    "id": "b20e3f24988f479b864852acf0ea2bf8",
    "time": "2021-02-03T22:28:54.103Z",
    "type": "completion"
   },
   {
    "code": "chn = population('CHN')\nchn.index[1990:2000]",
    "id": "b20e3f24988f479b864852acf0ea2bf8",
    "idx": 9,
    "time": "2021-02-03T22:29:16.417Z",
    "type": "execution"
   },
   {
    "id": "b20e3f24988f479b864852acf0ea2bf8",
    "time": "2021-02-03T22:29:18.167Z",
    "type": "completion"
   },
   {
    "code": "chn = population('CHN')\nchn.index[-1:-3]",
    "id": "b20e3f24988f479b864852acf0ea2bf8",
    "idx": 9,
    "time": "2021-02-03T22:29:28.120Z",
    "type": "execution"
   },
   {
    "id": "b20e3f24988f479b864852acf0ea2bf8",
    "time": "2021-02-03T22:29:28.187Z",
    "type": "completion"
   },
   {
    "code": "chn = population('CHN')\nchn.index[-1:-53]",
    "id": "b20e3f24988f479b864852acf0ea2bf8",
    "idx": 9,
    "time": "2021-02-03T22:29:32.090Z",
    "type": "execution"
   },
   {
    "id": "b20e3f24988f479b864852acf0ea2bf8",
    "time": "2021-02-03T22:29:32.203Z",
    "type": "completion"
   },
   {
    "code": "chn = population('CHN')\nchn.index",
    "id": "b20e3f24988f479b864852acf0ea2bf8",
    "idx": 9,
    "time": "2021-02-03T22:29:35.556Z",
    "type": "execution"
   },
   {
    "id": "b20e3f24988f479b864852acf0ea2bf8",
    "time": "2021-02-03T22:29:35.744Z",
    "type": "completion"
   },
   {
    "code": "chn = population('CHN')\nchn.index[0]",
    "id": "b20e3f24988f479b864852acf0ea2bf8",
    "idx": 9,
    "time": "2021-02-03T22:29:42.593Z",
    "type": "execution"
   },
   {
    "id": "b20e3f24988f479b864852acf0ea2bf8",
    "time": "2021-02-03T22:29:42.899Z",
    "type": "completion"
   },
   {
    "code": "chn = population('CHN')\nchn.index[:3]",
    "id": "b20e3f24988f479b864852acf0ea2bf8",
    "idx": 9,
    "time": "2021-02-03T22:29:46.381Z",
    "type": "execution"
   },
   {
    "id": "b20e3f24988f479b864852acf0ea2bf8",
    "time": "2021-02-03T22:29:46.450Z",
    "type": "completion"
   },
   {
    "code": "chn = population('CHN')\nchn.index[1:3]",
    "id": "b20e3f24988f479b864852acf0ea2bf8",
    "idx": 9,
    "time": "2021-02-03T22:29:50.288Z",
    "type": "execution"
   },
   {
    "id": "b20e3f24988f479b864852acf0ea2bf8",
    "time": "2021-02-03T22:29:50.353Z",
    "type": "completion"
   },
   {
    "code": "# Return list of all country/region codes:\nwbdata.get_country(\"China\")",
    "id": "db76163acf1a423fa97f210550931f5c",
    "idx": 1,
    "time": "2021-02-03T22:31:16.551Z",
    "type": "execution"
   },
   {
    "id": "db76163acf1a423fa97f210550931f5c",
    "time": "2021-02-03T22:31:17.505Z",
    "type": "completion"
   },
   {
    "code": "# Return list of all country/region codes:\nwbdata.get_country()",
    "id": "db76163acf1a423fa97f210550931f5c",
    "idx": 1,
    "time": "2021-02-03T22:31:19.585Z",
    "type": "execution"
   },
   {
    "id": "db76163acf1a423fa97f210550931f5c",
    "time": "2021-02-03T22:31:19.808Z",
    "type": "completion"
   },
   {
    "code": "# Return list of all country/region codes:\nwbdata.get_country(\"CHN\")",
    "id": "db76163acf1a423fa97f210550931f5c",
    "idx": 1,
    "time": "2021-02-03T22:31:22.113Z",
    "type": "execution"
   },
   {
    "id": "db76163acf1a423fa97f210550931f5c",
    "time": "2021-02-03T22:31:22.371Z",
    "type": "completion"
   },
   {
    "code": "# Return list of all country/region codes:\nwbdata.get_country()",
    "id": "db76163acf1a423fa97f210550931f5c",
    "idx": 1,
    "time": "2021-02-03T22:32:01.165Z",
    "type": "execution"
   },
   {
    "id": "db76163acf1a423fa97f210550931f5c",
    "time": "2021-02-03T22:32:01.297Z",
    "type": "completion"
   },
   {
    "code": "variable_labels = {\"SP.POP.5054.MA\":\"China Population\"}\n\n# Get the \nchn = wbdata.get_dataframe(variable_labels, country=\"USA\")\nchn",
    "id": "0768649561fc4ff28370d7ca71bb7dfa",
    "idx": 5,
    "time": "2021-02-03T22:33:22.342Z",
    "type": "execution"
   },
   {
    "id": "0768649561fc4ff28370d7ca71bb7dfa",
    "time": "2021-02-03T22:33:22.824Z",
    "type": "completion"
   },
   {
    "code": "age=(10,15)\nage[0]",
    "id": "0b3c45d38c7c4d888a2ed68e39e50e6f",
    "idx": 10,
    "time": "2021-02-03T22:36:23.917Z",
    "type": "execution"
   },
   {
    "id": "0b3c45d38c7c4d888a2ed68e39e50e6f",
    "time": "2021-02-03T22:36:24.188Z",
    "type": "completion"
   },
   {
    "code": "age=(10,15)\nstr(age[0])+str(age[1])",
    "id": "0b3c45d38c7c4d888a2ed68e39e50e6f",
    "idx": 10,
    "time": "2021-02-03T22:36:32.983Z",
    "type": "execution"
   },
   {
    "id": "0b3c45d38c7c4d888a2ed68e39e50e6f",
    "time": "2021-02-03T22:36:33.068Z",
    "type": "completion"
   },
   {
    "code": "age=(15,19)\nstr(age[0])+str(age[1])",
    "id": "0b3c45d38c7c4d888a2ed68e39e50e6f",
    "idx": 10,
    "time": "2021-02-03T22:36:53.457Z",
    "type": "execution"
   },
   {
    "id": "0b3c45d38c7c4d888a2ed68e39e50e6f",
    "time": "2021-02-03T22:36:53.606Z",
    "type": "completion"
   },
   {
    "code": "age=(15,19)\n\"SP.POP\" + str(age[0])+str(age[1])",
    "id": "0b3c45d38c7c4d888a2ed68e39e50e6f",
    "idx": 10,
    "time": "2021-02-03T22:37:07.840Z",
    "type": "execution"
   },
   {
    "id": "0b3c45d38c7c4d888a2ed68e39e50e6f",
    "time": "2021-02-03T22:37:07.915Z",
    "type": "completion"
   },
   {
    "code": "age=(15,19)\n\"SP.POP.\" + str(age[0])+str(age[1])",
    "id": "0b3c45d38c7c4d888a2ed68e39e50e6f",
    "idx": 10,
    "time": "2021-02-03T22:37:12.939Z",
    "type": "execution"
   },
   {
    "id": "0b3c45d38c7c4d888a2ed68e39e50e6f",
    "time": "2021-02-03T22:37:13.151Z",
    "type": "completion"
   },
   {
    "code": "age=(15,19)\n\"SP.POP.\" + str(age[0])+str(age[1]) + \".MA\"",
    "id": "0b3c45d38c7c4d888a2ed68e39e50e6f",
    "idx": 10,
    "time": "2021-02-03T22:37:19.820Z",
    "type": "execution"
   },
   {
    "id": "0b3c45d38c7c4d888a2ed68e39e50e6f",
    "time": "2021-02-03T22:37:20.034Z",
    "type": "completion"
   },
   {
    "code": "def population(year, sex, age=(15,19) country):\n    \n    if sex == \"Male\":\n        variable_labels = \"SP.POP.\" + str(age[0])+str(age[1]) + \".MA\"\n    elif sex==\"Female\":\n        variable_labels = \"SP.POP.\" + str(age[0])+str(age[1]) + \".FE\"\n    \n    return wbdata.get_dataframe(variable_labels, country=country)",
    "id": "859e7141c23e4236aee94be527ca2500",
    "idx": 8,
    "time": "2021-02-03T22:41:25.480Z",
    "type": "execution"
   },
   {
    "id": "859e7141c23e4236aee94be527ca2500",
    "time": "2021-02-03T22:41:25.640Z",
    "type": "completion"
   },
   {
    "code": "def population(sex, age=(15,19), country):\n    \n    if sex == \"Male\":\n        variable_labels = \"SP.POP.\" + str(age[0])+str(age[1]) + \".MA\"\n    elif sex==\"Female\":\n        variable_labels = \"SP.POP.\" + str(age[0])+str(age[1]) + \".FE\"\n    \n    return wbdata.get_dataframe(variable_labels, country=country)",
    "id": "859e7141c23e4236aee94be527ca2500",
    "idx": 8,
    "time": "2021-02-03T22:41:48.248Z",
    "type": "execution"
   },
   {
    "id": "859e7141c23e4236aee94be527ca2500",
    "time": "2021-02-03T22:41:48.521Z",
    "type": "completion"
   },
   {
    "code": "def population(sex, age, country):\n    \n    if sex == \"Male\":\n        variable_labels = \"SP.POP.\" + str(age[0])+str(age[1]) + \".MA\"\n    elif sex==\"Female\":\n        variable_labels = \"SP.POP.\" + str(age[0])+str(age[1]) + \".FE\"\n    \n    return wbdata.get_dataframe(variable_labels, country=country)",
    "id": "859e7141c23e4236aee94be527ca2500",
    "idx": 8,
    "time": "2021-02-03T22:41:54.656Z",
    "type": "execution"
   },
   {
    "id": "859e7141c23e4236aee94be527ca2500",
    "time": "2021-02-03T22:41:54.733Z",
    "type": "completion"
   },
   {
    "code": "def population(sex, age, country):\n    \n    if sex == \"Male\":\n        variable_labels = \"SP.POP.\" + str(age[0])+str(age[1]) + \".MA\"\n    elif sex==\"Female\":\n        variable_labels = \"SP.POP.\" + str(age[0])+str(age[1]) + \".FE\"\n    \n    return wbdata.get_dataframe(variable_labels, country=country)\n\npopulation(sex='Male', age=(15,19), country='CHN')",
    "id": "859e7141c23e4236aee94be527ca2500",
    "idx": 8,
    "time": "2021-02-03T22:42:14.067Z",
    "type": "execution"
   },
   {
    "id": "859e7141c23e4236aee94be527ca2500",
    "time": "2021-02-03T22:42:14.228Z",
    "type": "completion"
   },
   {
    "code": "variable_labels = {\"SP.POP.1519.MA\":\"China Population\"}\n\n# Get the \nchn = wbdata.get_dataframe(variable_labels, country=\"USA\")\nchn",
    "id": "0768649561fc4ff28370d7ca71bb7dfa",
    "idx": 5,
    "time": "2021-02-03T22:42:37.782Z",
    "type": "execution"
   },
   {
    "id": "0768649561fc4ff28370d7ca71bb7dfa",
    "time": "2021-02-03T22:42:38.367Z",
    "type": "completion"
   },
   {
    "code": "def population(sex, age, country):\n    \n    if sex == \"Male\":\n        variable_labels = {\"SP.POP.\" + str(age[0])+str(age[1]) + \".MA\": sex + \" Population\"}\n    elif sex==\"Female\":\n        variable_labels = {\"SP.POP.\" + str(age[0])+str(age[1]) + \".FE\": sex + \" Population\"}\n    \n    return wbdata.get_dataframe(variable_labels, country=country)\n\npopulation(sex='Male', age=(15,19), country='CHN')",
    "id": "859e7141c23e4236aee94be527ca2500",
    "idx": 8,
    "time": "2021-02-03T22:43:29.592Z",
    "type": "execution"
   },
   {
    "id": "859e7141c23e4236aee94be527ca2500",
    "time": "2021-02-03T22:43:29.955Z",
    "type": "completion"
   },
   {
    "code": "chn = population('CHN')\nchn.index[0:3]",
    "id": "b20e3f24988f479b864852acf0ea2bf8",
    "idx": 9,
    "time": "2021-02-03T22:43:45.573Z",
    "type": "execution"
   },
   {
    "id": "b20e3f24988f479b864852acf0ea2bf8",
    "time": "2021-02-03T22:43:45.725Z",
    "type": "completion"
   },
   {
    "code": "def population(sex, age, country):\n    \n    if sex == \"Male\":\n        variable_labels = {\"SP.POP.\" + str(age[0])+str(age[1]) + \".MA\": sex + \" Population\"}\n    elif sex==\"Female\":\n        variable_labels = {\"SP.POP.\" + str(age[0])+str(age[1]) + \".FE\": sex + \" Population\"}\n    \n    return wbdata.get_dataframe(variable_labels, country=country)\n\nchn_1519_MA = population(sex='Male', age=(15,19), country='CHN')",
    "id": "859e7141c23e4236aee94be527ca2500",
    "idx": 8,
    "time": "2021-02-03T22:44:05.671Z",
    "type": "execution"
   },
   {
    "id": "859e7141c23e4236aee94be527ca2500",
    "time": "2021-02-03T22:44:05.756Z",
    "type": "completion"
   },
   {
    "code": "def population(sex, age, country):\n    \n    if sex == \"Male\":\n        variable_labels = {\"SP.POP.\" + str(age[0])+str(age[1]) + \".MA\": sex + \" Population\"}\n    elif sex==\"Female\":\n        variable_labels = {\"SP.POP.\" + str(age[0])+str(age[1]) + \".FE\": sex + \" Population\"}\n    \n    return wbdata.get_dataframe(variable_labels, country=country)\n\nchn_1519_MA = population(sex='Male', age=(15,19), country='CHN')\nchn_1519_MA",
    "id": "859e7141c23e4236aee94be527ca2500",
    "idx": 8,
    "time": "2021-02-03T22:44:13.944Z",
    "type": "execution"
   },
   {
    "id": "859e7141c23e4236aee94be527ca2500",
    "time": "2021-02-03T22:44:14.092Z",
    "type": "completion"
   },
   {
    "code": "def population(sex, age, country):\n    \n    if sex == \"Male\":\n        variable_labels = {\"SP.POP.TOTL\":'Population', \"SP.POP.\" + str(age[0])+str(age[1]) + \".MA\": sex + \" Population\"}\n    elif sex==\"Female\":\n        variable_labels = {\"SP.POP.TOTL\":'Population', \"SP.POP.\" + str(age[0])+str(age[1]) + \".FE\": sex + \" Population\"}\n    \n    return wbdata.get_dataframe(variable_labels, country=country)\n\nchn_1519_MA = population(sex='Male', age=(15,19), country='CHN')\nchn_1519_MA",
    "id": "859e7141c23e4236aee94be527ca2500",
    "idx": 8,
    "time": "2021-02-03T22:45:36.780Z",
    "type": "execution"
   },
   {
    "id": "859e7141c23e4236aee94be527ca2500",
    "time": "2021-02-03T22:45:36.890Z",
    "type": "completion"
   },
   {
    "code": "def population(sex, age, country):\n    \n    if sex == \"Male\":\n        variable_labels = {\"SP.POP.TOTL\":'Population', \n                           \"SP.POP.\" + str(age[0])+str(age[1]) + \".MA\": sex + \" Population\"}\n    elif sex==\"Female\":\n        variable_labels = {\"SP.POP.TOTL\":'Population', \n                           \"SP.POP.\" + str(age[0])+str(age[1]) + \".FE\": sex + \" Population\"}\n    \n    return wbdata.get_dataframe(variable_labels, country=country)\n\nchn_1519_MA = population(sex='Male', age=(15,19), country='CHN')\nchn_1519_MA",
    "id": "859e7141c23e4236aee94be527ca2500",
    "idx": 8,
    "time": "2021-02-03T22:46:14.722Z",
    "type": "execution"
   },
   {
    "id": "859e7141c23e4236aee94be527ca2500",
    "time": "2021-02-03T22:46:15.067Z",
    "type": "completion"
   },
   {
    "code": "def population(sex, age, country):\n    \n    if sex == \"Male\":\n        variable_labels = {\"SP.POP.TOTL\":'Population', \n                           \"SP.POP.\" + str(age[0])+str(age[1]) + \".MA\": sex}\n    elif sex==\"Female\":\n        variable_labels = {\"SP.POP.TOTL\":'Population', \n                           \"SP.POP.\" + str(age[0])+str(age[1]) + \".FE\": sex}\n    \n    return wbdata.get_dataframe(variable_labels, country=country)\n\nchn_1519_MA = population(sex='Male', age=(15,19), country='CHN')\nchn_1519_MA",
    "id": "859e7141c23e4236aee94be527ca2500",
    "idx": 8,
    "time": "2021-02-03T22:46:31.988Z",
    "type": "execution"
   },
   {
    "id": "859e7141c23e4236aee94be527ca2500",
    "time": "2021-02-03T22:46:32.577Z",
    "type": "completion"
   },
   {
    "code": "def population(sex, age, country, year):\n    \n    if sex == \"Male\":\n        variable_labels = {\"SP.POP.TOTL\":'Population', \n                           \"SP.POP.\" + str(age[0])+str(age[1]) + \".MA\": sex}\n    elif sex==\"Female\":\n        variable_labels = {\"SP.POP.TOTL\":'Population', \n                           \"SP.POP.\" + str(age[0])+str(age[1]) + \".FE\": sex}\n    \n    return wbdata.get_dataframe(variable_labels, country=country)\n\nchn_1519_MA = population(sex='Male', age=(15,19), country='CHN')\nchn_1519_MA.index",
    "id": "859e7141c23e4236aee94be527ca2500",
    "idx": 8,
    "time": "2021-02-03T22:47:40.286Z",
    "type": "execution"
   },
   {
    "id": "859e7141c23e4236aee94be527ca2500",
    "time": "2021-02-03T22:47:40.520Z",
    "type": "completion"
   },
   {
    "code": "def population(sex, age, country):\n    \n    if sex == \"Male\":\n        variable_labels = {\"SP.POP.TOTL\":'Population', \n                           \"SP.POP.\" + str(age[0])+str(age[1]) + \".MA\": sex}\n    elif sex==\"Female\":\n        variable_labels = {\"SP.POP.TOTL\":'Population', \n                           \"SP.POP.\" + str(age[0])+str(age[1]) + \".FE\": sex}\n    \n    return wbdata.get_dataframe(variable_labels, country=country)\n\nchn_1519_MA = population(sex='Male', age=(15,19), country='CHN')\nchn_1519_MA.index",
    "id": "859e7141c23e4236aee94be527ca2500",
    "idx": 8,
    "time": "2021-02-03T22:47:52.844Z",
    "type": "execution"
   },
   {
    "id": "859e7141c23e4236aee94be527ca2500",
    "time": "2021-02-03T22:47:52.944Z",
    "type": "completion"
   },
   {
    "code": "def population(sex, age, country):\n    \n    if sex == \"Male\":\n        variable_labels = {\"SP.POP.TOTL\":'Population', \n                           \"SP.POP.\" + str(age[0])+str(age[1]) + \".MA\": sex}\n    elif sex==\"Female\":\n        variable_labels = {\"SP.POP.TOTL\":'Population', \n                           \"SP.POP.\" + str(age[0])+str(age[1]) + \".FE\": sex}\n    \n    return wbdata.get_dataframe(variable_labels, country=country)\n\nchn_1519_MA = population(sex='Male', age=(15,19), country='CHN')\nchn_1519_MA.index[0]",
    "id": "859e7141c23e4236aee94be527ca2500",
    "idx": 8,
    "time": "2021-02-03T22:48:12.598Z",
    "type": "execution"
   },
   {
    "id": "859e7141c23e4236aee94be527ca2500",
    "time": "2021-02-03T22:48:12.838Z",
    "type": "completion"
   },
   {
    "code": "def population(sex, age, country):\n    \n    if sex == \"Male\":\n        variable_labels = {\"SP.POP.TOTL\":'Population', \n                           \"SP.POP.\" + str(age[0])+str(age[1]) + \".MA\": sex}\n    elif sex==\"Female\":\n        variable_labels = {\"SP.POP.TOTL\":'Population', \n                           \"SP.POP.\" + str(age[0])+str(age[1]) + \".FE\": sex}\n    \n    return wbdata.get_dataframe(variable_labels, country=country)\n\nchn_1519_MA = population(sex='Male', age=(15,19), country='CHN')\nchn_1519_MA.index[1960-end_year, 2020-start_year]",
    "id": "859e7141c23e4236aee94be527ca2500",
    "idx": 8,
    "time": "2021-02-03T22:49:08.601Z",
    "type": "execution"
   },
   {
    "id": "859e7141c23e4236aee94be527ca2500",
    "time": "2021-02-03T22:49:09.086Z",
    "type": "completion"
   },
   {
    "code": "def population(sex, age, country):\n    \n    if sex == \"Male\":\n        variable_labels = {\"SP.POP.TOTL\":'Population', \n                           \"SP.POP.\" + str(age[0])+str(age[1]) + \".MA\": sex}\n    elif sex==\"Female\":\n        variable_labels = {\"SP.POP.TOTL\":'Population', \n                           \"SP.POP.\" + str(age[0])+str(age[1]) + \".FE\": sex}\n    \n    return wbdata.get_dataframe(variable_labels, country=country)\n\nchn_1519_MA = population(sex='Male', age=(15,19), country='CHN')\nchn_1519_MA.index",
    "id": "859e7141c23e4236aee94be527ca2500",
    "idx": 8,
    "time": "2021-02-03T22:49:12.099Z",
    "type": "execution"
   },
   {
    "id": "859e7141c23e4236aee94be527ca2500",
    "time": "2021-02-03T22:49:12.320Z",
    "type": "completion"
   },
   {
    "code": "len(chn_1519_MA.index)",
    "id": "c9b9a35bebc64b4bbd13a825b3a4e9ca",
    "idx": 9,
    "time": "2021-02-03T22:49:25.731Z",
    "type": "execution"
   },
   {
    "id": "c9b9a35bebc64b4bbd13a825b3a4e9ca",
    "time": "2021-02-03T22:49:25.789Z",
    "type": "completion"
   },
   {
    "code": "chn_1519_MA.index[20]",
    "id": "c9b9a35bebc64b4bbd13a825b3a4e9ca",
    "idx": 9,
    "time": "2021-02-03T22:50:42.986Z",
    "type": "execution"
   },
   {
    "id": "c9b9a35bebc64b4bbd13a825b3a4e9ca",
    "time": "2021-02-03T22:50:43.074Z",
    "type": "completion"
   },
   {
    "code": "chn_1519_MA.index[30]",
    "id": "c9b9a35bebc64b4bbd13a825b3a4e9ca",
    "idx": 9,
    "time": "2021-02-03T22:50:45.502Z",
    "type": "execution"
   },
   {
    "id": "c9b9a35bebc64b4bbd13a825b3a4e9ca",
    "time": "2021-02-03T22:50:45.665Z",
    "type": "completion"
   },
   {
    "code": "chn_1519_MA.index[2020-1990]",
    "id": "c9b9a35bebc64b4bbd13a825b3a4e9ca",
    "idx": 9,
    "time": "2021-02-03T22:50:54.754Z",
    "type": "execution"
   },
   {
    "id": "c9b9a35bebc64b4bbd13a825b3a4e9ca",
    "time": "2021-02-03T22:50:54.987Z",
    "type": "completion"
   },
   {
    "code": "def population(sex, year, age, country):\n    \n    if sex == \"Male\":\n        variable_labels = {\"SP.POP.TOTL\":'Population', \n                           \"SP.POP.\" + str(age[0])+str(age[1]) + \".MA\": sex}\n    elif sex==\"Female\":\n        variable_labels = {\"SP.POP.TOTL\":'Population', \n                           \"SP.POP.\" + str(age[0])+str(age[1]) + \".FE\": sex}\n        \n    pop_df = wbdata.get_dataframe(variable_labels, country=country)\n    \n    pop_df.index[2020 - year]\n    return pop_df\n\nchn_1519_MA = population(sex='Male', year=1966, age=(15,19), country='CHN')\nchn_1519_MA.index",
    "id": "859e7141c23e4236aee94be527ca2500",
    "idx": 8,
    "time": "2021-02-03T22:54:26.689Z",
    "type": "execution"
   },
   {
    "id": "859e7141c23e4236aee94be527ca2500",
    "time": "2021-02-03T22:54:26.886Z",
    "type": "completion"
   },
   {
    "code": "def population(sex, year, age, country):\n    \n    if sex == \"Male\":\n        variable_labels = {\"SP.POP.TOTL\":'Population', \n                           \"SP.POP.\" + str(age[0])+str(age[1]) + \".MA\": sex}\n    elif sex==\"Female\":\n        variable_labels = {\"SP.POP.TOTL\":'Population', \n                           \"SP.POP.\" + str(age[0])+str(age[1]) + \".FE\": sex}\n        \n    pop_df = wbdata.get_dataframe(variable_labels, country=country)\n    \n    pop_df.index[2020 - year]\n    return pop_df\n\nchn_1519_MA = population(sex='Male', year=1966, age=(15,19), country='CHN')\nchn_1519_MA",
    "id": "859e7141c23e4236aee94be527ca2500",
    "idx": 8,
    "time": "2021-02-03T22:54:30.566Z",
    "type": "execution"
   },
   {
    "id": "859e7141c23e4236aee94be527ca2500",
    "time": "2021-02-03T22:54:30.803Z",
    "type": "completion"
   },
   {
    "code": "def population(sex, year, age, country):\n    \n    if sex == \"Male\":\n        variable_labels = {\"SP.POP.TOTL\":'Population', \n                           \"SP.POP.\" + str(age[0])+str(age[1]) + \".MA\": sex}\n    elif sex==\"Female\":\n        variable_labels = {\"SP.POP.TOTL\":'Population', \n                           \"SP.POP.\" + str(age[0])+str(age[1]) + \".FE\": sex}\n        \n    pop_df = wbdata.get_dataframe(variable_labels, country=country)\n    pop_df = pop_df.filter(like=year)\n    return pop_df\n\nchn_1519_MA = population(sex='Male', year=1966, age=(15,19), country='CHN')\nchn_1519_MA",
    "id": "859e7141c23e4236aee94be527ca2500",
    "idx": 8,
    "time": "2021-02-03T22:57:56.139Z",
    "type": "execution"
   },
   {
    "id": "859e7141c23e4236aee94be527ca2500",
    "time": "2021-02-03T22:57:56.391Z",
    "type": "completion"
   },
   {
    "code": "chn_1519_MA = population(sex='Male', year=1966, age=(15,19), country='CHN')\nchn_1519_MA",
    "id": "22b7d10f4ecb4ffe82d5015b9112f1ec",
    "idx": 9,
    "time": "2021-02-03T22:58:08.090Z",
    "type": "execution"
   },
   {
    "id": "22b7d10f4ecb4ffe82d5015b9112f1ec",
    "time": "2021-02-03T22:58:08.319Z",
    "type": "completion"
   },
   {
    "code": "def population(sex, year, age, country):\n    \n    if sex == \"Male\":\n        variable_labels = {\"SP.POP.TOTL\":'Population', \n                           \"SP.POP.\" + str(age[0])+str(age[1]) + \".MA\": sex}\n    elif sex==\"Female\":\n        variable_labels = {\"SP.POP.TOTL\":'Population', \n                           \"SP.POP.\" + str(age[0])+str(age[1]) + \".FE\": sex}\n        \n    pop_df = wbdata.get_dataframe(variable_labels, country=country)\n    pop_df = pop_df.filter(like=year)\n    return pop_df",
    "id": "859e7141c23e4236aee94be527ca2500",
    "idx": 8,
    "time": "2021-02-03T22:58:12.429Z",
    "type": "execution"
   },
   {
    "id": "859e7141c23e4236aee94be527ca2500",
    "time": "2021-02-03T22:58:12.597Z",
    "type": "completion"
   },
   {
    "code": "def population(sex, year, age, country):\n    \n    if sex == \"Male\":\n        variable_labels = {\"SP.POP.TOTL\":'Population', \n                           \"SP.POP.\" + str(age[0])+str(age[1]) + \".MA\": sex}\n    elif sex==\"Female\":\n        variable_labels = {\"SP.POP.TOTL\":'Population', \n                           \"SP.POP.\" + str(age[0])+str(age[1]) + \".FE\": sex}\n        \n    pop_df = wbdata.get_dataframe(variable_labels, country=country)\n    pop_df = pop_df.filter(like=year, axis=0)\n    return pop_df",
    "id": "859e7141c23e4236aee94be527ca2500",
    "idx": 8,
    "time": "2021-02-03T23:00:11.264Z",
    "type": "execution"
   },
   {
    "id": "859e7141c23e4236aee94be527ca2500",
    "time": "2021-02-03T23:00:11.333Z",
    "type": "completion"
   },
   {
    "code": "chn_1519_MA = population(sex='Male', year=1966, age=(15,19), country='CHN')\nchn_1519_MA",
    "id": "22b7d10f4ecb4ffe82d5015b9112f1ec",
    "idx": 9,
    "time": "2021-02-03T23:00:11.972Z",
    "type": "execution"
   },
   {
    "id": "22b7d10f4ecb4ffe82d5015b9112f1ec",
    "time": "2021-02-03T23:00:12.168Z",
    "type": "completion"
   },
   {
    "code": "chn_1519_MA = population(sex='Male', year=1966, age=(15,19), country='CHN')\nchn_1519_MA.index",
    "id": "22b7d10f4ecb4ffe82d5015b9112f1ec",
    "idx": 9,
    "time": "2021-02-03T23:00:23.166Z",
    "type": "execution"
   },
   {
    "id": "22b7d10f4ecb4ffe82d5015b9112f1ec",
    "time": "2021-02-03T23:00:23.296Z",
    "type": "completion"
   },
   {
    "code": "def population(sex, year, age, country):\n    \n    if sex == \"Male\":\n        variable_labels = {\"SP.POP.TOTL\":'Population', \n                           \"SP.POP.\" + str(age[0])+str(age[1]) + \".MA\": sex}\n    elif sex==\"Female\":\n        variable_labels = {\"SP.POP.TOTL\":'Population', \n                           \"SP.POP.\" + str(age[0])+str(age[1]) + \".FE\": sex}\n        \n    pop_df = wbdata.get_dataframe(variable_labels, country=country)\n    pop_df.index.astype(int)\n    pop_df = pop_df.filter(like=year, axis=0)\n    return pop_df",
    "id": "859e7141c23e4236aee94be527ca2500",
    "idx": 8,
    "time": "2021-02-03T23:01:03.653Z",
    "type": "execution"
   },
   {
    "id": "859e7141c23e4236aee94be527ca2500",
    "time": "2021-02-03T23:01:03.881Z",
    "type": "completion"
   },
   {
    "code": "chn_1519_MA = population(sex='Male', year=1966, age=(15,19), country='CHN')\nchn_1519_MA",
    "id": "22b7d10f4ecb4ffe82d5015b9112f1ec",
    "idx": 9,
    "time": "2021-02-03T23:01:04.656Z",
    "type": "execution"
   },
   {
    "id": "22b7d10f4ecb4ffe82d5015b9112f1ec",
    "time": "2021-02-03T23:01:05.197Z",
    "type": "completion"
   },
   {
    "code": "def population(sex, year, age, country):\n    \n    if sex == \"Male\":\n        variable_labels = {\"SP.POP.TOTL\":'Population', \n                           \"SP.POP.\" + str(age[0])+str(age[1]) + \".MA\": sex}\n    elif sex==\"Female\":\n        variable_labels = {\"SP.POP.TOTL\":'Population', \n                           \"SP.POP.\" + str(age[0])+str(age[1]) + \".FE\": sex}\n        \n    pop_df = wbdata.get_dataframe(variable_labels, country=country)\n    pop_df = pop_df.index.astype(int)\n    pop_df = pop_df.filter(like=year, axis=0)\n    return pop_df",
    "id": "859e7141c23e4236aee94be527ca2500",
    "idx": 8,
    "time": "2021-02-03T23:01:14.197Z",
    "type": "execution"
   },
   {
    "code": "chn_1519_MA = population(sex='Male', year=1966, age=(15,19), country='CHN')\nchn_1519_MA",
    "id": "22b7d10f4ecb4ffe82d5015b9112f1ec",
    "idx": 9,
    "time": "2021-02-03T23:01:14.566Z",
    "type": "execution"
   },
   {
    "id": "859e7141c23e4236aee94be527ca2500",
    "time": "2021-02-03T23:01:14.750Z",
    "type": "completion"
   },
   {
    "id": "22b7d10f4ecb4ffe82d5015b9112f1ec",
    "time": "2021-02-03T23:01:14.781Z",
    "type": "completion"
   },
   {
    "code": "def population(sex, year, age, country):\n    \n    if sex == \"Male\":\n        variable_labels = {\"SP.POP.TOTL\":'Population', \n                           \"SP.POP.\" + str(age[0])+str(age[1]) + \".MA\": sex}\n    elif sex==\"Female\":\n        variable_labels = {\"SP.POP.TOTL\":'Population', \n                           \"SP.POP.\" + str(age[0])+str(age[1]) + \".FE\": sex}\n        \n    pop_df = wbdata.get_dataframe(variable_labels, country=country)\n    pop_df = pop_df.filter(items=year, axis=0)\n    return pop_df",
    "id": "859e7141c23e4236aee94be527ca2500",
    "idx": 8,
    "time": "2021-02-03T23:01:50.376Z",
    "type": "execution"
   },
   {
    "id": "859e7141c23e4236aee94be527ca2500",
    "time": "2021-02-03T23:01:50.508Z",
    "type": "completion"
   },
   {
    "code": "chn_1519_MA = population(sex='Male', year=1966, age=(15,19), country='CHN')\nchn_1519_MA",
    "id": "22b7d10f4ecb4ffe82d5015b9112f1ec",
    "idx": 9,
    "time": "2021-02-03T23:01:50.992Z",
    "type": "execution"
   },
   {
    "id": "22b7d10f4ecb4ffe82d5015b9112f1ec",
    "time": "2021-02-03T23:01:51.338Z",
    "type": "completion"
   },
   {
    "code": "def population(sex, year, age, country):\n    \n    if sex == \"Male\":\n        variable_labels = {\"SP.POP.TOTL\":'Population', \n                           \"SP.POP.\" + str(age[0])+str(age[1]) + \".MA\": sex}\n    elif sex==\"Female\":\n        variable_labels = {\"SP.POP.TOTL\":'Population', \n                           \"SP.POP.\" + str(age[0])+str(age[1]) + \".FE\": sex}\n        \n    pop_df = wbdata.get_dataframe(variable_labels, country=country)\n    pop_df = pop_df.filter(items=[year], axis=0)\n    return pop_df",
    "id": "859e7141c23e4236aee94be527ca2500",
    "idx": 8,
    "time": "2021-02-03T23:02:02.705Z",
    "type": "execution"
   },
   {
    "id": "859e7141c23e4236aee94be527ca2500",
    "time": "2021-02-03T23:02:02.768Z",
    "type": "completion"
   },
   {
    "code": "chn_1519_MA = population(sex='Male', year=1966, age=(15,19), country='CHN')\nchn_1519_MA",
    "id": "22b7d10f4ecb4ffe82d5015b9112f1ec",
    "idx": 9,
    "time": "2021-02-03T23:02:03.336Z",
    "type": "execution"
   },
   {
    "id": "22b7d10f4ecb4ffe82d5015b9112f1ec",
    "time": "2021-02-03T23:02:03.487Z",
    "type": "completion"
   },
   {
    "code": "def population(sex, year, age, country):\n    \n    if sex == \"Male\":\n        variable_labels = {\"SP.POP.TOTL\":'Population', \n                           \"SP.POP.\" + str(age[0])+str(age[1]) + \".MA\": sex}\n    elif sex==\"Female\":\n        variable_labels = {\"SP.POP.TOTL\":'Population', \n                           \"SP.POP.\" + str(age[0])+str(age[1]) + \".FE\": sex}\n        \n    pop_df = wbdata.get_dataframe(variable_labels, country=country)\n    pop_df = pop_df.filter(like=str(year), axis=0)\n    return pop_df",
    "id": "859e7141c23e4236aee94be527ca2500",
    "idx": 8,
    "time": "2021-02-03T23:03:11.456Z",
    "type": "execution"
   },
   {
    "id": "859e7141c23e4236aee94be527ca2500",
    "time": "2021-02-03T23:03:11.552Z",
    "type": "completion"
   },
   {
    "code": "chn_1519_MA = population(sex='Male', year=1966, age=(15,19), country='CHN')\nchn_1519_MA",
    "id": "22b7d10f4ecb4ffe82d5015b9112f1ec",
    "idx": 9,
    "time": "2021-02-03T23:03:12.046Z",
    "type": "execution"
   },
   {
    "id": "22b7d10f4ecb4ffe82d5015b9112f1ec",
    "time": "2021-02-03T23:03:12.234Z",
    "type": "completion"
   },
   {
    "code": "chn_1519_MA = population(sex='Male', year=2000, age=(15,19), country='CHN')\nchn_1519_MA",
    "id": "22b7d10f4ecb4ffe82d5015b9112f1ec",
    "idx": 9,
    "time": "2021-02-03T23:03:19.407Z",
    "type": "execution"
   },
   {
    "id": "22b7d10f4ecb4ffe82d5015b9112f1ec",
    "time": "2021-02-03T23:03:19.513Z",
    "type": "completion"
   },
   {
    "code": "chn_1519_MA = population(sex='Male', year=2000, age=(15,19), country='CHN')\nchn_1519_MA",
    "id": "22b7d10f4ecb4ffe82d5015b9112f1ec",
    "idx": 9,
    "time": "2021-02-03T23:03:31.483Z",
    "type": "execution"
   },
   {
    "id": "22b7d10f4ecb4ffe82d5015b9112f1ec",
    "time": "2021-02-03T23:03:31.985Z",
    "type": "completion"
   },
   {
    "code": "chn_1519_MA = population(sex='Female', year=2000, age=(15,19), country='CHN')\nchn_1519_MA",
    "id": "22b7d10f4ecb4ffe82d5015b9112f1ec",
    "idx": 9,
    "time": "2021-02-03T23:03:37.699Z",
    "type": "execution"
   },
   {
    "id": "22b7d10f4ecb4ffe82d5015b9112f1ec",
    "time": "2021-02-03T23:03:38.063Z",
    "type": "completion"
   },
   {
    "code": "chn_1519_MA = population(sex='Female', year=2000, age=(50,54), country='CHN')\nchn_1519_MA",
    "id": "22b7d10f4ecb4ffe82d5015b9112f1ec",
    "idx": 9,
    "time": "2021-02-03T23:03:51.439Z",
    "type": "execution"
   },
   {
    "id": "22b7d10f4ecb4ffe82d5015b9112f1ec",
    "time": "2021-02-03T23:03:51.858Z",
    "type": "completion"
   },
   {
    "code": "chn_1519_MA = population(sex='Female', year=2000, age=(50,54), country='USA')\nchn_1519_MA",
    "id": "22b7d10f4ecb4ffe82d5015b9112f1ec",
    "idx": 9,
    "time": "2021-02-03T23:03:53.977Z",
    "type": "execution"
   },
   {
    "id": "22b7d10f4ecb4ffe82d5015b9112f1ec",
    "time": "2021-02-03T23:03:54.304Z",
    "type": "completion"
   },
   {
    "code": "chn_1519_MA = population(sex='Female', year=2000, age=(50,54), country='CHN')\nchn_1519_MA",
    "id": "22b7d10f4ecb4ffe82d5015b9112f1ec",
    "idx": 9,
    "time": "2021-02-03T23:03:58.045Z",
    "type": "execution"
   },
   {
    "id": "22b7d10f4ecb4ffe82d5015b9112f1ec",
    "time": "2021-02-03T23:03:58.193Z",
    "type": "completion"
   },
   {
    "code": "chn_1519_MA = population(sex='Female', year=2000, age=(50,54), country='CHN')\nchn_1519_MA",
    "id": "22b7d10f4ecb4ffe82d5015b9112f1ec",
    "idx": 9,
    "time": "2021-02-03T23:06:46.448Z",
    "type": "execution"
   },
   {
    "id": "22b7d10f4ecb4ffe82d5015b9112f1ec",
    "time": "2021-02-03T23:06:46.718Z",
    "type": "completion"
   },
   {
    "code": "# Function that takes in a SEX (\"Male\", \"Female\")\ndef population(sex, year, age, country):\n    if sex == \"Male\":\n        variable_labels = {\"SP.POP.TOTL\":'Total Population', \n                           \"SP.POP.\" + str(age[0])+str(age[1]) + \".MA\": sex}\n    elif sex==\"Female\":\n        variable_labels = {\"SP.POP.TOTL\":'Population', \n                           \"SP.POP.\" + str(age[0])+str(age[1]) + \".FE\": sex}\n    pop_df = wbdata.get_dataframe(variable_labels, country=country)\n    pop_df = pop_df.filter(like=str(year), axis=0)\n    return pop_df",
    "id": "859e7141c23e4236aee94be527ca2500",
    "idx": 8,
    "time": "2021-02-03T23:07:12.878Z",
    "type": "execution"
   },
   {
    "id": "859e7141c23e4236aee94be527ca2500",
    "time": "2021-02-03T23:07:13.149Z",
    "type": "completion"
   },
   {
    "code": "# Function that takes in a SEX (\"Male\", \"Female\")\ndef population(sex, year, age, country):\n    if sex == \"Male\":\n        variable_labels = {\"SP.POP.TOTL\":'Total Population', \n                           \"SP.POP.\" + str(age[0])+str(age[1]) + \".MA\": sex}\n    elif sex==\"Female\":\n        variable_labels = {\"SP.POP.TOTL\":'Population', \n                           \"SP.POP.\" + str(age[0])+str(age[1]) + \".FE\": sex}\n    pop_df = wbdata.get_dataframe(variable_labels, country=country)\n    pop_df = pop_df.filter(like=str(year), axis=0)\n    return pop_df",
    "id": "859e7141c23e4236aee94be527ca2500",
    "idx": 8,
    "time": "2021-02-03T23:07:16.576Z",
    "type": "execution"
   },
   {
    "code": "chn_1519_MA = population(sex='Female', year=2000, age=(50,54), country='CHN')\nchn_1519_MA",
    "id": "22b7d10f4ecb4ffe82d5015b9112f1ec",
    "idx": 9,
    "time": "2021-02-03T23:07:16.795Z",
    "type": "execution"
   },
   {
    "id": "859e7141c23e4236aee94be527ca2500",
    "time": "2021-02-03T23:07:17.059Z",
    "type": "completion"
   },
   {
    "id": "22b7d10f4ecb4ffe82d5015b9112f1ec",
    "time": "2021-02-03T23:07:17.143Z",
    "type": "completion"
   },
   {
    "code": "# Function that takes in a SEX (\"Male\", \"Female\")\ndef population(sex, year, age, country):\n    if sex == \"Male\":\n        variable_labels = {\"SP.POP.TOTL\":'Total Population', \n                           \"SP.POP.\" + str(age[0])+str(age[1]) + \".MA\": sex}\n    elif sex==\"Female\":\n        variable_labels = {\"SP.POP.TOTL\":'Total Population', \n                           \"SP.POP.\" + str(age[0])+str(age[1]) + \".FE\": sex}\n    pop_df = wbdata.get_dataframe(variable_labels, country=country)\n    pop_df = pop_df.filter(like=str(year), axis=0)\n    return pop_df",
    "id": "859e7141c23e4236aee94be527ca2500",
    "idx": 8,
    "time": "2021-02-03T23:07:22.164Z",
    "type": "execution"
   },
   {
    "id": "859e7141c23e4236aee94be527ca2500",
    "time": "2021-02-03T23:07:22.459Z",
    "type": "completion"
   },
   {
    "code": "chn_1519_MA = population(sex='Female', year=2000, age=(50,54), country='CHN')\nchn_1519_MA",
    "id": "22b7d10f4ecb4ffe82d5015b9112f1ec",
    "idx": 9,
    "time": "2021-02-03T23:07:22.712Z",
    "type": "execution"
   },
   {
    "id": "22b7d10f4ecb4ffe82d5015b9112f1ec",
    "time": "2021-02-03T23:07:22.855Z",
    "type": "completion"
   },
   {
    "code": "# Function that takes in a SEX (\"Male\", \"Female\"),\n\ndef population(sex, year, age, country):\n    if sex == \"Male\":\n        variable_labels = {\"SP.POP.\" + str(age[0])+str(age[1]) + \".MA\": sex}\n    elif sex==\"Female\":\n        variable_labels = {\"SP.POP.\" + str(age[0])+str(age[1]) + \".FE\": sex}\n    pop_df = wbdata.get_dataframe(variable_labels, country=country)\n    pop_df = pop_df.filter(like=str(year), axis=0)\n    return pop_df",
    "id": "859e7141c23e4236aee94be527ca2500",
    "idx": 8,
    "time": "2021-02-03T23:12:30.976Z",
    "type": "execution"
   },
   {
    "code": "chn_1519_MA = population(sex='Female', year=2000, age=(50,54), country='CHN')\nchn_1519_MA",
    "id": "22b7d10f4ecb4ffe82d5015b9112f1ec",
    "idx": 9,
    "time": "2021-02-03T23:12:31.193Z",
    "type": "execution"
   },
   {
    "id": "859e7141c23e4236aee94be527ca2500",
    "time": "2021-02-03T23:12:31.317Z",
    "type": "completion"
   },
   {
    "id": "22b7d10f4ecb4ffe82d5015b9112f1ec",
    "time": "2021-02-03T23:12:31.338Z",
    "type": "completion"
   },
   {
    "code": "# Function that takes in a SEX (\"Male\", \"Female\"), ... , COUNTRY=, .. and \n\ndef population(sex, year, age, country):\n    if sex == \"Male\":\n        variable_labels = {\"SP.POP.\" + str(age[0])+str(age[1]) + \".MA\": sex}\n    elif sex==\"Female\":\n        variable_labels = {\"SP.POP.\" + str(age[0])+str(age[1]) + \".FE\": sex}\n    pop_df = wbdata.get_dataframe(variable_labels, country=country)\n    pop_df = pop_df.filter(like=str(year), axis=0)\n    return pop_df[sex][0]",
    "id": "859e7141c23e4236aee94be527ca2500",
    "idx": 8,
    "time": "2021-02-03T23:14:15.328Z",
    "type": "execution"
   },
   {
    "id": "859e7141c23e4236aee94be527ca2500",
    "time": "2021-02-03T23:14:15.478Z",
    "type": "completion"
   },
   {
    "code": "chn_1519_MA = population(sex='Female', year=2000, age=(50,54), country='CHN')\nchn_1519_MA",
    "id": "22b7d10f4ecb4ffe82d5015b9112f1ec",
    "idx": 9,
    "time": "2021-02-03T23:14:15.529Z",
    "type": "execution"
   },
   {
    "id": "22b7d10f4ecb4ffe82d5015b9112f1ec",
    "time": "2021-02-03T23:14:15.781Z",
    "type": "completion"
   },
   {
    "code": "!pip install wbdata\n\nimport wbdata\nimport numpy as np",
    "id": "05a984042dae411981613d6280e30e2a",
    "idx": 0,
    "time": "2021-02-08T04:56:54.555Z",
    "type": "execution"
   },
   {
    "code": "# Return list of all country/region codes:\nwbdata.get_country()",
    "id": "d03097f4f91648ee8ce93b8bcafd6efa",
    "idx": 1,
    "time": "2021-02-08T04:56:54.560Z",
    "type": "execution"
   },
   {
    "code": "wbdata.get_source()",
    "id": "74bb6a29482b4dc38304af49b30e1d2b",
    "idx": 3,
    "time": "2021-02-08T04:56:54.563Z",
    "type": "execution"
   },
   {
    "code": "SOURCE = 40 # \"Population estimates and projections\n\nindicators = wbdata.get_indicator(source=SOURCE)\nindicators",
    "id": "d3adba0562d34a4cb2f89bef94737a4f",
    "idx": 4,
    "time": "2021-02-08T04:56:54.565Z",
    "type": "execution"
   },
   {
    "code": "variable_labels = {\"SP.POP.1519.MA\":\"China Population\"}\n\n# Get the \nchn = wbdata.get_dataframe(variable_labels, country=\"USA\")\nchn",
    "id": "21452ec7f1d84bb1acb3175b01ac3646",
    "idx": 5,
    "time": "2021-02-08T04:56:54.568Z",
    "type": "execution"
   },
   {
    "code": "# Date index is of type string; change to integers\nchn.index = chn.index.astype(int)\n\n# Rename \"date\" to \"year\"\nchn",
    "id": "60f5f4a76f82424b80c8c92b2cb48880",
    "idx": 6,
    "time": "2021-02-08T04:56:54.570Z",
    "type": "execution"
   },
   {
    "code": "# Function that takes in a SEX (\"Male\", \"Female\"), ... , COUNTRY=, .. and returns a statistic for the given function arguments\n\ndef population(sex, year, age, country):\n    if sex == \"Male\":\n        variable_labels = {\"SP.POP.\" + str(age[0])+str(age[1]) + \".MA\": sex}\n    elif sex==\"Female\":\n        variable_labels = {\"SP.POP.\" + str(age[0])+str(age[1]) + \".FE\": sex}\n    pop_df = wbdata.get_dataframe(variable_labels, country=country)\n    pop_df = pop_df.filter(like=str(year), axis=0)\n    return pop_df[sex][0]",
    "id": "f30316964a6d45f68ccb4811130de320",
    "idx": 8,
    "time": "2021-02-08T04:56:56.321Z",
    "type": "execution"
   },
   {
    "id": "05a984042dae411981613d6280e30e2a",
    "time": "2021-02-08T04:57:00.069Z",
    "type": "completion"
   },
   {
    "id": "d03097f4f91648ee8ce93b8bcafd6efa",
    "time": "2021-02-08T04:57:00.147Z",
    "type": "completion"
   },
   {
    "id": "74bb6a29482b4dc38304af49b30e1d2b",
    "time": "2021-02-08T04:57:00.174Z",
    "type": "completion"
   },
   {
    "id": "d3adba0562d34a4cb2f89bef94737a4f",
    "time": "2021-02-08T04:57:00.202Z",
    "type": "completion"
   },
   {
    "id": "21452ec7f1d84bb1acb3175b01ac3646",
    "time": "2021-02-08T04:57:00.268Z",
    "type": "completion"
   },
   {
    "id": "60f5f4a76f82424b80c8c92b2cb48880",
    "time": "2021-02-08T04:57:00.296Z",
    "type": "completion"
   },
   {
    "id": "f30316964a6d45f68ccb4811130de320",
    "time": "2021-02-08T04:57:00.298Z",
    "type": "completion"
   },
   {
    "code": "population(\"Female\", 2010, (15,19), \"CHN\")",
    "id": "e5ffbbd9022e4b04a93a590a5991f2fb",
    "idx": 9,
    "time": "2021-02-08T04:57:28.120Z",
    "type": "execution"
   },
   {
    "id": "e5ffbbd9022e4b04a93a590a5991f2fb",
    "time": "2021-02-08T04:57:28.186Z",
    "type": "completion"
   },
   {
    "code": "!pip install wbdata\n\nimport wbdata\nimport numpy as np",
    "id": "5275d24e6bae416b8fa1744ad035ebff",
    "idx": 0,
    "time": "2021-02-08T23:11:51.913Z",
    "type": "execution"
   },
   {
    "code": "# Return list of all country/region codes:\nwbdata.get_country()",
    "id": "7440523973eb47f8800c9cdf20b2a0d8",
    "idx": 1,
    "time": "2021-02-08T23:11:52.045Z",
    "type": "execution"
   },
   {
    "code": "wbdata.get_source()",
    "id": "8834edbb66dd490d86def9393acbf85b",
    "idx": 3,
    "time": "2021-02-08T23:11:52.212Z",
    "type": "execution"
   },
   {
    "code": "SOURCE = 40 # \"Population estimates and projections\n\nindicators = wbdata.get_indicator(source=SOURCE)\nindicators",
    "id": "5629cfafb46c4e7289b523aa8a914426",
    "idx": 4,
    "time": "2021-02-08T23:11:52.306Z",
    "type": "execution"
   },
   {
    "id": "5275d24e6bae416b8fa1744ad035ebff",
    "time": "2021-02-08T23:11:56.918Z",
    "type": "completion"
   },
   {
    "id": "7440523973eb47f8800c9cdf20b2a0d8",
    "time": "2021-02-08T23:11:57.356Z",
    "type": "completion"
   },
   {
    "id": "8834edbb66dd490d86def9393acbf85b",
    "time": "2021-02-08T23:11:57.691Z",
    "type": "completion"
   },
   {
    "id": "5629cfafb46c4e7289b523aa8a914426",
    "time": "2021-02-08T23:11:57.801Z",
    "type": "completion"
   },
   {
    "code": "SOURCE = 16 # \"Population estimates and projections\n\nindicators = wbdata.get_indicator(source=SOURCE)\nindicators",
    "id": "5629cfafb46c4e7289b523aa8a914426",
    "idx": 4,
    "time": "2021-02-08T23:12:21.974Z",
    "type": "execution"
   },
   {
    "id": "5629cfafb46c4e7289b523aa8a914426",
    "time": "2021-02-08T23:12:23.149Z",
    "type": "completion"
   },
   {
    "code": "variable_labels = {\"SP.POP.1519.MA\":\"China Population\"}\n\n# Get the \nchn = wbdata.get_dataframe(variable_labels, freq='Y')\nchn",
    "id": "ab5169f7b0e54d929cabe11c434d455b",
    "idx": 5,
    "time": "2021-02-09T00:02:05.683Z",
    "type": "execution"
   },
   {
    "id": "ab5169f7b0e54d929cabe11c434d455b",
    "time": "2021-02-09T00:02:11.893Z",
    "type": "completion"
   },
   {
    "code": "variable_labels = {\"SP.POP.1519.MA\":\"Total Population\"}\n\n# Get the \nchn = wbdata.get_dataframe(variable_labels, freq='Y')\nchn",
    "id": "ab5169f7b0e54d929cabe11c434d455b",
    "idx": 5,
    "time": "2021-02-09T00:02:56.537Z",
    "type": "execution"
   },
   {
    "id": "ab5169f7b0e54d929cabe11c434d455b",
    "time": "2021-02-09T00:02:56.764Z",
    "type": "completion"
   },
   {
    "code": "variable_labels = {\"SP.POP.1519.MA\":\"Total Population\"}\n\n# Get the \nchn = wbdata.get_dataframe(variable_labels, freq='Y')\nchn",
    "id": "ab5169f7b0e54d929cabe11c434d455b",
    "idx": 5,
    "time": "2021-02-09T00:46:19.119Z",
    "type": "execution"
   },
   {
    "id": "ab5169f7b0e54d929cabe11c434d455b",
    "time": "2021-02-09T00:46:19.370Z",
    "type": "completion"
   },
   {
    "code": "variable_labels = {\"SP.POP.1519.MA\":\"Total Population\"}\n\n# Get the \nchn = wbdata.get_dataframe(variable_labels, freq='Y')\nchn",
    "id": "ab5169f7b0e54d929cabe11c434d455b",
    "idx": 5,
    "time": "2021-02-09T00:46:35.903Z",
    "type": "execution"
   },
   {
    "id": "ab5169f7b0e54d929cabe11c434d455b",
    "time": "2021-02-09T00:46:36.091Z",
    "type": "completion"
   },
   {
    "code": "population(\"Female\", 2010, (16,19), \"CHN\")",
    "id": "6d15d280af3b4b1188e70adefe67af08",
    "idx": 9,
    "time": "2021-02-09T01:03:43.127Z",
    "type": "execution"
   },
   {
    "id": "6d15d280af3b4b1188e70adefe67af08",
    "time": "2021-02-09T01:03:43.291Z",
    "type": "completion"
   },
   {
    "code": "# Function that takes in a SEX (\"Male\", \"Female\"), ... , COUNTRY=, .. and returns a statistic for the given function arguments\n\ndef population(sex, year, age, country):\n    if sex == \"Male\":\n        variable_labels = {\"SP.POP.\" + str(age[0])+str(age[1]) + \".MA\": sex}\n    elif sex==\"Female\":\n        variable_labels = {\"SP.POP.\" + str(age[0])+str(age[1]) + \".FE\": sex}\n    pop_df = wbdata.get_dataframe(variable_labels, country=country)\n    pop_df = pop_df.filter(like=str(year), axis=0)\n    return pop_df[sex][0]",
    "id": "10651a43d0a444f38b2587b3829ad0e6",
    "idx": 8,
    "time": "2021-02-09T01:03:46.156Z",
    "type": "execution"
   },
   {
    "id": "10651a43d0a444f38b2587b3829ad0e6",
    "time": "2021-02-09T01:03:46.217Z",
    "type": "completion"
   },
   {
    "code": "population(\"Female\", 2010, (16,19), \"CHN\")",
    "id": "6d15d280af3b4b1188e70adefe67af08",
    "idx": 9,
    "time": "2021-02-09T01:03:46.326Z",
    "type": "execution"
   },
   {
    "id": "6d15d280af3b4b1188e70adefe67af08",
    "time": "2021-02-09T01:03:46.802Z",
    "type": "completion"
   },
   {
    "code": "population(\"Female\", 2010, (15,19), \"CHN\")",
    "id": "6d15d280af3b4b1188e70adefe67af08",
    "idx": 9,
    "time": "2021-02-09T01:03:50.297Z",
    "type": "execution"
   },
   {
    "id": "6d15d280af3b4b1188e70adefe67af08",
    "time": "2021-02-09T01:03:50.359Z",
    "type": "completion"
   },
   {
    "code": "import geopandas as geo",
    "id": "35844b3066f74b1184d7a5caababe686",
    "idx": 17,
    "time": "2021-02-09T01:05:01.917Z",
    "type": "execution"
   },
   {
    "id": "35844b3066f74b1184d7a5caababe686",
    "time": "2021-02-09T01:05:02.311Z",
    "type": "completion"
   },
   {
    "code": "!pip install geopandas\nimport geopandas as geo",
    "id": "35844b3066f74b1184d7a5caababe686",
    "idx": 17,
    "time": "2021-02-09T01:05:10.610Z",
    "type": "execution"
   },
   {
    "id": "35844b3066f74b1184d7a5caababe686",
    "time": "2021-02-09T01:05:14.969Z",
    "type": "completion"
   },
   {
    "code": "!pip install wbdata\n\nimport wbdata\nimport numpy as np",
    "id": "ad9c5778c6bb420d8be790fa812d0453",
    "idx": 0,
    "time": "2021-02-09T04:01:07.058Z",
    "type": "execution"
   },
   {
    "code": "# Return list of all country/region codes:\nwbdata.get_country()",
    "id": "f948b56faa0f49bc8f84d9ba24981f93",
    "idx": 1,
    "time": "2021-02-09T04:01:07.222Z",
    "type": "execution"
   },
   {
    "code": "wbdata.get_source()",
    "id": "1f89b1905f6f402080831d1d83eeb780",
    "idx": 3,
    "time": "2021-02-09T04:01:07.562Z",
    "type": "execution"
   },
   {
    "code": "SOURCE = 16 # \"Population estimates and projections\n\nindicators = wbdata.get_indicator(source=SOURCE)\nindicators",
    "id": "b71dcac739b0426f87a32b1f02f055e6",
    "idx": 4,
    "time": "2021-02-09T04:01:07.722Z",
    "type": "execution"
   },
   {
    "code": "variable_labels = {\"SP.POP.1519.MA\":\"Total Population\"}\n\n# Get the \nchn = wbdata.get_dataframe(variable_labels, freq='Y')\nchn",
    "id": "0d326f384aba4d6cad3f1846d4529eee",
    "idx": 5,
    "time": "2021-02-09T04:01:07.902Z",
    "type": "execution"
   },
   {
    "code": "# Date index is of type string; change to integers\nchn.index = chn.index.astype(int)\n\n# Rename \"date\" to \"year\"\nchn",
    "id": "5888795b371d481fa74ff426725ab416",
    "idx": 6,
    "time": "2021-02-09T04:01:08.083Z",
    "type": "execution"
   },
   {
    "code": "# Function that takes in a SEX (\"Male\", \"Female\"), ... , COUNTRY=, .. and returns a statistic for the given function arguments\n\ndef population(sex, year, age, country):\n    if sex == \"Male\":\n        variable_labels = {\"SP.POP.\" + str(age[0])+str(age[1]) + \".MA\": sex}\n    elif sex==\"Female\":\n        variable_labels = {\"SP.POP.\" + str(age[0])+str(age[1]) + \".FE\": sex}\n    pop_df = wbdata.get_dataframe(variable_labels, country=country)\n    pop_df = pop_df.filter(like=str(year), axis=0)\n    return pop_df[sex][0]",
    "id": "cd1351e234274cf68686240fdbc723b7",
    "idx": 8,
    "time": "2021-02-09T04:01:08.441Z",
    "type": "execution"
   },
   {
    "code": "population(\"Female\", 2010, (15,19), \"CHN\")",
    "id": "79541aa79fec4873a115f8feb872b243",
    "idx": 9,
    "time": "2021-02-09T04:01:08.622Z",
    "type": "execution"
   },
   {
    "code": "def population_df():\n    ",
    "id": "cfea1b69d63344edbf153977ec4bc276",
    "idx": 11,
    "time": "2021-02-09T04:01:08.992Z",
    "type": "execution"
   },
   {
    "id": "ad9c5778c6bb420d8be790fa812d0453",
    "time": "2021-02-09T04:01:12.546Z",
    "type": "completion"
   },
   {
    "id": "f948b56faa0f49bc8f84d9ba24981f93",
    "time": "2021-02-09T04:01:12.697Z",
    "type": "completion"
   },
   {
    "id": "1f89b1905f6f402080831d1d83eeb780",
    "time": "2021-02-09T04:01:12.705Z",
    "type": "completion"
   },
   {
    "id": "b71dcac739b0426f87a32b1f02f055e6",
    "time": "2021-02-09T04:01:12.718Z",
    "type": "completion"
   },
   {
    "id": "0d326f384aba4d6cad3f1846d4529eee",
    "time": "2021-02-09T04:01:12.834Z",
    "type": "completion"
   },
   {
    "id": "5888795b371d481fa74ff426725ab416",
    "time": "2021-02-09T04:01:13.052Z",
    "type": "completion"
   },
   {
    "id": "cd1351e234274cf68686240fdbc723b7",
    "time": "2021-02-09T04:01:13.060Z",
    "type": "completion"
   },
   {
    "id": "79541aa79fec4873a115f8feb872b243",
    "time": "2021-02-09T04:01:13.063Z",
    "type": "completion"
   },
   {
    "id": "cfea1b69d63344edbf153977ec4bc276",
    "time": "2021-02-09T04:01:13.065Z",
    "type": "completion"
   },
   {
    "code": "variable_labels = {\"SP.POP.1519.MA\":\"Total Population\"}\n\n# Get the \nchn = wbdata.get_dataframe(variable_labels, freq='Y')\nchn.type()",
    "id": "0d326f384aba4d6cad3f1846d4529eee",
    "idx": 5,
    "time": "2021-02-09T04:01:37.623Z",
    "type": "execution"
   },
   {
    "id": "0d326f384aba4d6cad3f1846d4529eee",
    "time": "2021-02-09T04:01:37.915Z",
    "type": "completion"
   },
   {
    "code": "variable_labels = {\"SP.POP.1519.MA\":\"Total Population\"}\n\n# Get the \nchn = wbdata.get_dataframe(variable_labels, freq='Y')\nchn.type",
    "id": "0d326f384aba4d6cad3f1846d4529eee",
    "idx": 5,
    "time": "2021-02-09T04:01:40.302Z",
    "type": "execution"
   },
   {
    "id": "0d326f384aba4d6cad3f1846d4529eee",
    "time": "2021-02-09T04:01:40.589Z",
    "type": "completion"
   },
   {
    "code": "variable_labels = {\"SP.POP.1519.MA\":\"Total Population\"}\n\n# Get the \nchn = wbdata.get_dataframe(variable_labels, freq='Y')\ntype(chn)",
    "id": "0d326f384aba4d6cad3f1846d4529eee",
    "idx": 5,
    "time": "2021-02-09T04:01:46.273Z",
    "type": "execution"
   },
   {
    "id": "0d326f384aba4d6cad3f1846d4529eee",
    "time": "2021-02-09T04:01:46.504Z",
    "type": "completion"
   },
   {
    "code": "variable_labels = {\"SP.POP.1519.MA\":\"Total Population\"}\n\n# Get the \nchn = wbdata.get_dataframe(variable_labels, freq='Y')\nchn",
    "id": "0d326f384aba4d6cad3f1846d4529eee",
    "idx": 5,
    "time": "2021-02-09T04:01:50.733Z",
    "type": "execution"
   },
   {
    "id": "0d326f384aba4d6cad3f1846d4529eee",
    "time": "2021-02-09T04:01:51.044Z",
    "type": "completion"
   },
   {
    "code": "SOURCE = 16 # \"Population estimates and projections\n\nindicators = wbdata.get_indicator(source=SOURCE)\nlist(indicators)",
    "id": "491579b01f924966859cca570d9e0ae6",
    "idx": 4,
    "time": "2021-02-10T01:15:44.081Z",
    "type": "execution"
   },
   {
    "id": "491579b01f924966859cca570d9e0ae6",
    "time": "2021-02-10T01:15:44.980Z",
    "type": "completion"
   },
   {
    "code": "SOURCE = 40 # \"Population estimates and projections\n\nindicators = wbdata.get_indicator(source=SOURCE)\nlist(indicators)",
    "id": "491579b01f924966859cca570d9e0ae6",
    "idx": 4,
    "time": "2021-02-10T01:15:47.755Z",
    "type": "execution"
   },
   {
    "id": "491579b01f924966859cca570d9e0ae6",
    "time": "2021-02-10T01:15:47.821Z",
    "type": "completion"
   },
   {
    "code": "!pip install wbdata\n\nimport wbdata\nimport numpy as np",
    "id": "eb8abc11c5ac4cc0af8528b6e4cf2c5d",
    "idx": 0,
    "time": "2021-02-10T01:15:50.670Z",
    "type": "execution"
   },
   {
    "code": "# Return list of all country/region codes:\nwbdata.get_country()",
    "id": "981972b8ecab421a864e2fb5944c55dc",
    "idx": 1,
    "time": "2021-02-10T01:15:50.674Z",
    "type": "execution"
   },
   {
    "code": "wbdata.get_source()",
    "id": "b6564ba7f242400e86e5945356c45635",
    "idx": 3,
    "time": "2021-02-10T01:15:50.677Z",
    "type": "execution"
   },
   {
    "code": "SOURCE = 40 # \"Population estimates and projections\n\nindicators = wbdata.get_indicator(source=SOURCE)\nlist(indicators)",
    "id": "491579b01f924966859cca570d9e0ae6",
    "idx": 4,
    "time": "2021-02-10T01:15:50.679Z",
    "type": "execution"
   },
   {
    "id": "eb8abc11c5ac4cc0af8528b6e4cf2c5d",
    "time": "2021-02-10T01:15:56.259Z",
    "type": "completion"
   },
   {
    "id": "981972b8ecab421a864e2fb5944c55dc",
    "time": "2021-02-10T01:15:56.332Z",
    "type": "completion"
   },
   {
    "id": "b6564ba7f242400e86e5945356c45635",
    "time": "2021-02-10T01:15:56.341Z",
    "type": "completion"
   },
   {
    "id": "491579b01f924966859cca570d9e0ae6",
    "time": "2021-02-10T01:15:56.690Z",
    "type": "completion"
   },
   {
    "code": "SOURCE = 40 # \"Population estimates and projections\n\nindicators = wbdata.get_indicator(source=SOURCE)\nindicators",
    "id": "491579b01f924966859cca570d9e0ae6",
    "idx": 4,
    "time": "2021-02-10T01:16:33.890Z",
    "type": "execution"
   },
   {
    "id": "491579b01f924966859cca570d9e0ae6",
    "time": "2021-02-10T01:16:34.044Z",
    "type": "completion"
   },
   {
    "code": "SOURCE = 40 # \"Population estimates and projections\n\nindicators = wbdata.get_indicator(source=SOURCE)\nindicators.keys()",
    "id": "491579b01f924966859cca570d9e0ae6",
    "idx": 4,
    "time": "2021-02-10T01:16:38.225Z",
    "type": "execution"
   },
   {
    "id": "491579b01f924966859cca570d9e0ae6",
    "time": "2021-02-10T01:16:38.377Z",
    "type": "completion"
   },
   {
    "code": "SOURCE = 40 # \"Population estimates and projections\n\nindicators = wbdata.get_indicator(source=SOURCE)\nindicators.keys",
    "id": "491579b01f924966859cca570d9e0ae6",
    "idx": 4,
    "time": "2021-02-10T01:16:40.009Z",
    "type": "execution"
   },
   {
    "id": "491579b01f924966859cca570d9e0ae6",
    "time": "2021-02-10T01:16:40.081Z",
    "type": "completion"
   },
   {
    "code": "SOURCE = 40 # \"Population estimates and projections\n\nindicators = wbdata.get_indicator(source=SOURCE)\nindicators",
    "id": "491579b01f924966859cca570d9e0ae6",
    "idx": 4,
    "time": "2021-02-10T01:16:41.995Z",
    "type": "execution"
   },
   {
    "id": "491579b01f924966859cca570d9e0ae6",
    "time": "2021-02-10T01:16:42.108Z",
    "type": "completion"
   },
   {
    "code": "wbdata.get_data(indicators)",
    "id": "19784f47e878457ca6ac277ae8004cc6",
    "idx": 5,
    "time": "2021-02-10T01:17:40.405Z",
    "type": "execution"
   },
   {
    "id": "19784f47e878457ca6ac277ae8004cc6",
    "time": "2021-02-10T01:17:40.499Z",
    "type": "completion"
   },
   {
    "code": "wbdata.get_data(SP.POP.AG25.FE.IN)",
    "id": "19784f47e878457ca6ac277ae8004cc6",
    "idx": 5,
    "time": "2021-02-10T01:17:58.896Z",
    "type": "execution"
   },
   {
    "id": "19784f47e878457ca6ac277ae8004cc6",
    "time": "2021-02-10T01:17:58.980Z",
    "type": "completion"
   },
   {
    "code": "wbdata.get_data(\"SP.POP.AG25.FE.IN\")",
    "id": "19784f47e878457ca6ac277ae8004cc6",
    "idx": 5,
    "time": "2021-02-10T01:18:04.605Z",
    "type": "execution"
   },
   {
    "id": "19784f47e878457ca6ac277ae8004cc6",
    "time": "2021-02-10T01:18:17.146Z",
    "type": "completion"
   },
   {
    "code": "wbdata.get_series(\"SP.POP.0014.FE.IN\")",
    "id": "19784f47e878457ca6ac277ae8004cc6",
    "idx": 5,
    "time": "2021-02-10T01:18:51.302Z",
    "type": "execution"
   },
   {
    "id": "19784f47e878457ca6ac277ae8004cc6",
    "time": "2021-02-10T01:19:05.562Z",
    "type": "completion"
   },
   {
    "code": "variable_labels = {\"SP.POP.1519.MA\":\"Total Population\",\n                  }\n\n# Get the \nchn = wbdata.get_dataframe(variable_labels, freq='Y')\nchn",
    "id": "805672535a4c4575a61df5f2a37722db",
    "idx": 6,
    "time": "2021-02-10T01:19:27.891Z",
    "type": "execution"
   },
   {
    "id": "805672535a4c4575a61df5f2a37722db",
    "time": "2021-02-10T01:19:28.184Z",
    "type": "completion"
   },
   {
    "code": "wbdata.get_series(variable_labels)",
    "id": "19784f47e878457ca6ac277ae8004cc6",
    "idx": 5,
    "time": "2021-02-10T01:19:33.637Z",
    "type": "execution"
   },
   {
    "id": "19784f47e878457ca6ac277ae8004cc6",
    "time": "2021-02-10T01:19:33.709Z",
    "type": "completion"
   },
   {
    "code": "wbdata.get_series(\"SP.POP.0014.FE.IN\")",
    "id": "19784f47e878457ca6ac277ae8004cc6",
    "idx": 5,
    "time": "2021-02-10T01:19:42.467Z",
    "type": "execution"
   },
   {
    "id": "19784f47e878457ca6ac277ae8004cc6",
    "time": "2021-02-10T01:19:42.645Z",
    "type": "completion"
   },
   {
    "code": "variable_labels = {\"SP.POP.1519.MA\":\"Total Population\",\n                  }\n\n# Get the \nchn = wbdata.get_dataframe(variable_labels, freq='Y', convert_date = True)\nchn",
    "id": "805672535a4c4575a61df5f2a37722db",
    "idx": 6,
    "time": "2021-02-10T01:20:04.926Z",
    "type": "execution"
   },
   {
    "id": "805672535a4c4575a61df5f2a37722db",
    "time": "2021-02-10T01:20:05.327Z",
    "type": "completion"
   },
   {
    "code": "variable_labels = {\"SP.POP.1519.MA\":\"Total Population\",\n                  }\n\n# Get the \nchn = wbdata.get_dataframe(variable_labels, freq='Y', Data_date = True)\nchn",
    "id": "805672535a4c4575a61df5f2a37722db",
    "idx": 6,
    "time": "2021-02-10T01:20:40.678Z",
    "type": "execution"
   },
   {
    "id": "805672535a4c4575a61df5f2a37722db",
    "time": "2021-02-10T01:20:40.763Z",
    "type": "completion"
   },
   {
    "code": "variable_labels = {\"SP.POP.1519.MA\":\"Total Population\",\n                  }\n\n# Get the \nchn = wbdata.get_dataframe(variable_labels, freq='Y', data_date = True)\nchn",
    "id": "805672535a4c4575a61df5f2a37722db",
    "idx": 6,
    "time": "2021-02-10T01:20:43.020Z",
    "type": "execution"
   },
   {
    "id": "805672535a4c4575a61df5f2a37722db",
    "time": "2021-02-10T01:20:43.143Z",
    "type": "completion"
   },
   {
    "code": "variable_labels = {\"SP.POP.1519.MA\":\"Total Population\",\n                  }\n\n# Get the \nchn = wbdata.get_dataframe(variable_labels, freq='Y', data_date = None)\nchn",
    "id": "805672535a4c4575a61df5f2a37722db",
    "idx": 6,
    "time": "2021-02-10T01:20:52.218Z",
    "type": "execution"
   },
   {
    "id": "805672535a4c4575a61df5f2a37722db",
    "time": "2021-02-10T01:20:52.416Z",
    "type": "completion"
   },
   {
    "code": "SOURCE = 40 # \"Population estimates and projections\n\nindicators = wbdata.get_indicator(source=SOURCE)\nindicators['id']",
    "id": "491579b01f924966859cca570d9e0ae6",
    "idx": 4,
    "time": "2021-02-10T01:24:35.438Z",
    "type": "execution"
   },
   {
    "id": "491579b01f924966859cca570d9e0ae6",
    "time": "2021-02-10T01:24:35.527Z",
    "type": "completion"
   },
   {
    "code": "SOURCE = 40 # \"Population estimates and projections\n\nindicators = wbdata.get_indicator(source=SOURCE)\nindicators",
    "id": "491579b01f924966859cca570d9e0ae6",
    "idx": 4,
    "time": "2021-02-10T01:24:41.784Z",
    "type": "execution"
   },
   {
    "id": "491579b01f924966859cca570d9e0ae6",
    "time": "2021-02-10T01:24:42.033Z",
    "type": "completion"
   },
   {
    "code": "SOURCE = 40 # \"Population estimates and projections\n\nindicators = wbdata.get_indicator(source=SOURCE)\nindicators.item(0)",
    "id": "491579b01f924966859cca570d9e0ae6",
    "idx": 4,
    "time": "2021-02-10T01:24:44.715Z",
    "type": "execution"
   },
   {
    "id": "491579b01f924966859cca570d9e0ae6",
    "time": "2021-02-10T01:24:44.780Z",
    "type": "completion"
   },
   {
    "code": "SOURCE = 40 # \"Population estimates and projections\n\nindicators = wbdata.get_indicator(source=SOURCE)\nindicators[0]",
    "id": "491579b01f924966859cca570d9e0ae6",
    "idx": 4,
    "time": "2021-02-10T01:24:47.994Z",
    "type": "execution"
   },
   {
    "id": "491579b01f924966859cca570d9e0ae6",
    "time": "2021-02-10T01:24:48.073Z",
    "type": "completion"
   },
   {
    "code": "SOURCE = 40 # \"Population estimates and projections\n\nindicators = wbdata.get_indicator(source=SOURCE)\nindicators",
    "id": "491579b01f924966859cca570d9e0ae6",
    "idx": 4,
    "time": "2021-02-10T01:25:01.453Z",
    "type": "execution"
   },
   {
    "id": "491579b01f924966859cca570d9e0ae6",
    "time": "2021-02-10T01:25:01.572Z",
    "type": "completion"
   },
   {
    "code": "SOURCE = 40 # \"Population estimates and projections\n\nindicators = wbdata.get_indicator(source=SOURCE)\nindicators[0]",
    "id": "491579b01f924966859cca570d9e0ae6",
    "idx": 4,
    "time": "2021-02-10T01:25:07.375Z",
    "type": "execution"
   },
   {
    "id": "491579b01f924966859cca570d9e0ae6",
    "time": "2021-02-10T01:25:07.460Z",
    "type": "completion"
   },
   {
    "code": "SOURCE = 40 # \"Population estimates and projections\n\nindicators = wbdata.get_indicator(source=SOURCE)\nindicators[0][0]",
    "id": "491579b01f924966859cca570d9e0ae6",
    "idx": 4,
    "time": "2021-02-10T01:25:12.586Z",
    "type": "execution"
   },
   {
    "id": "491579b01f924966859cca570d9e0ae6",
    "time": "2021-02-10T01:25:12.680Z",
    "type": "completion"
   },
   {
    "code": "SOURCE = 40 # \"Population estimates and projections\n\nindicators = wbdata.get_indicator(source=SOURCE)\nindicators[0]",
    "id": "491579b01f924966859cca570d9e0ae6",
    "idx": 4,
    "time": "2021-02-10T01:25:15.044Z",
    "type": "execution"
   },
   {
    "id": "491579b01f924966859cca570d9e0ae6",
    "time": "2021-02-10T01:25:15.131Z",
    "type": "completion"
   },
   {
    "code": "SOURCE = 40 # \"Population estimates and projections\n\nindicators = wbdata.get_indicator(source=SOURCE)\nindicators[0]['id']",
    "id": "491579b01f924966859cca570d9e0ae6",
    "idx": 4,
    "time": "2021-02-10T01:25:24.634Z",
    "type": "execution"
   },
   {
    "id": "491579b01f924966859cca570d9e0ae6",
    "time": "2021-02-10T01:25:24.709Z",
    "type": "completion"
   },
   {
    "code": "SOURCE = 40 # \"Population estimates and projections\n\nindicators = wbdata.get_indicator(source=SOURCE)\nindicators",
    "id": "491579b01f924966859cca570d9e0ae6",
    "idx": 4,
    "time": "2021-02-10T01:25:55.895Z",
    "type": "execution"
   },
   {
    "id": "491579b01f924966859cca570d9e0ae6",
    "time": "2021-02-10T01:25:56.023Z",
    "type": "completion"
   },
   {
    "code": "indicators[0]['id']",
    "id": "aa87ca1bf42647ec8d1d51a226f6179b",
    "idx": 5,
    "time": "2021-02-10T02:03:40.162Z",
    "type": "execution"
   },
   {
    "id": "aa87ca1bf42647ec8d1d51a226f6179b",
    "time": "2021-02-10T02:03:40.231Z",
    "type": "completion"
   },
   {
    "code": "indicators[5]['id']",
    "id": "aa87ca1bf42647ec8d1d51a226f6179b",
    "idx": 5,
    "time": "2021-02-10T02:03:43.054Z",
    "type": "execution"
   },
   {
    "id": "aa87ca1bf42647ec8d1d51a226f6179b",
    "time": "2021-02-10T02:03:43.874Z",
    "type": "completion"
   },
   {
    "code": "# Search through indicators for columns with relevant population data.\n\n[indicators[x]['id'] for x in range(len(indicators))]",
    "id": "8d7e1ba87879459b81a09884aacd72c1",
    "idx": 6,
    "time": "2021-02-10T02:11:10.273Z",
    "type": "execution"
   },
   {
    "id": "8d7e1ba87879459b81a09884aacd72c1",
    "time": "2021-02-10T02:11:10.378Z",
    "type": "completion"
   },
   {
    "code": "!pip install wbdata\n\nimport wbdata\nimport numpy as np\nimport re as r",
    "id": "eb8abc11c5ac4cc0af8528b6e4cf2c5d",
    "idx": 0,
    "time": "2021-02-10T02:13:57.771Z",
    "type": "execution"
   },
   {
    "code": "# Return list of all country/region codes:\nwbdata.get_country()",
    "id": "981972b8ecab421a864e2fb5944c55dc",
    "idx": 1,
    "time": "2021-02-10T02:13:59.874Z",
    "type": "execution"
   },
   {
    "code": "wbdata.get_source()",
    "id": "b6564ba7f242400e86e5945356c45635",
    "idx": 3,
    "time": "2021-02-10T02:14:00.218Z",
    "type": "execution"
   },
   {
    "code": "SOURCE = 40 # \"Population estimates and projections\n\nindicators = wbdata.get_indicator(source=SOURCE)\nindicators",
    "id": "491579b01f924966859cca570d9e0ae6",
    "idx": 4,
    "time": "2021-02-10T02:14:00.494Z",
    "type": "execution"
   },
   {
    "code": "indicators[5]['id']",
    "id": "aa87ca1bf42647ec8d1d51a226f6179b",
    "idx": 5,
    "time": "2021-02-10T02:14:00.717Z",
    "type": "execution"
   },
   {
    "id": "eb8abc11c5ac4cc0af8528b6e4cf2c5d",
    "time": "2021-02-10T02:14:04.425Z",
    "type": "completion"
   },
   {
    "id": "981972b8ecab421a864e2fb5944c55dc",
    "time": "2021-02-10T02:14:04.485Z",
    "type": "completion"
   },
   {
    "id": "b6564ba7f242400e86e5945356c45635",
    "time": "2021-02-10T02:14:04.490Z",
    "type": "completion"
   },
   {
    "id": "491579b01f924966859cca570d9e0ae6",
    "time": "2021-02-10T02:14:04.531Z",
    "type": "completion"
   },
   {
    "id": "aa87ca1bf42647ec8d1d51a226f6179b",
    "time": "2021-02-10T02:14:04.536Z",
    "type": "completion"
   },
   {
    "code": "!pip install wbdata\n\nimport wbdata\nimport numpy as np\nimport re ",
    "id": "eb8abc11c5ac4cc0af8528b6e4cf2c5d",
    "idx": 0,
    "time": "2021-02-10T02:23:58.811Z",
    "type": "execution"
   },
   {
    "code": "# Return list of all country/region codes:\nwbdata.get_country()",
    "id": "981972b8ecab421a864e2fb5944c55dc",
    "idx": 1,
    "time": "2021-02-10T02:23:58.975Z",
    "type": "execution"
   },
   {
    "code": "wbdata.get_source()",
    "id": "b6564ba7f242400e86e5945356c45635",
    "idx": 3,
    "time": "2021-02-10T02:23:59.482Z",
    "type": "execution"
   },
   {
    "code": "SOURCE = 40 # \"Population estimates and projections\"\n\nindicators = wbdata.get_indicator(source=SOURCE)\nindicators",
    "id": "491579b01f924966859cca570d9e0ae6",
    "idx": 4,
    "time": "2021-02-10T02:24:01.428Z",
    "type": "execution"
   },
   {
    "id": "eb8abc11c5ac4cc0af8528b6e4cf2c5d",
    "time": "2021-02-10T02:24:02.790Z",
    "type": "completion"
   },
   {
    "id": "981972b8ecab421a864e2fb5944c55dc",
    "time": "2021-02-10T02:24:02.840Z",
    "type": "completion"
   },
   {
    "id": "b6564ba7f242400e86e5945356c45635",
    "time": "2021-02-10T02:24:02.924Z",
    "type": "completion"
   },
   {
    "id": "491579b01f924966859cca570d9e0ae6",
    "time": "2021-02-10T02:24:02.947Z",
    "type": "completion"
   },
   {
    "code": "# Create a list of every column ID in source 40.\ncols_40 = [indicators[x]['id'] for x in range(len(indicators))]\n\n# Select items in the list that contain relevant population data by filtering through string patterns.\nr = re.compile(\"(SP.POP).[\\d]{2}[A-Z0-9]{2}.[MAFE]{2}\")\nfilter(r.match, cols_40)",
    "id": "8d7e1ba87879459b81a09884aacd72c1",
    "idx": 5,
    "time": "2021-02-10T02:24:26.173Z",
    "type": "execution"
   },
   {
    "id": "8d7e1ba87879459b81a09884aacd72c1",
    "time": "2021-02-10T02:24:26.259Z",
    "type": "completion"
   },
   {
    "code": "# Create a list of every column ID in source 40.\ncols_40 = [indicators[x]['id'] for x in range(len(indicators))]\n\n# Select items in the list that contain relevant population data by filtering through string patterns.\nr = re.compile(\"(SP.POP).[\\d]{2}[A-Z0-9]{2}.[MAFE]{2}\")\nlist(filter(r.match, cols_40))",
    "id": "8d7e1ba87879459b81a09884aacd72c1",
    "idx": 5,
    "time": "2021-02-10T02:24:33.541Z",
    "type": "execution"
   },
   {
    "id": "8d7e1ba87879459b81a09884aacd72c1",
    "time": "2021-02-10T02:24:33.611Z",
    "type": "completion"
   },
   {
    "code": "# Create a list of every column ID in source 40.\ncols_40 = [indicators[x]['id'] for x in range(len(indicators))]\n\n# Select items in the list that contain relevant population data by filtering through string patterns.\nr = re.compile(\"(SP.POP).[\\d]{2}[A-Z0-9]{2}.[MAFE]{2}$\")\nlist(filter(r.match, cols_40))",
    "id": "8d7e1ba87879459b81a09884aacd72c1",
    "idx": 5,
    "time": "2021-02-10T02:25:20.354Z",
    "type": "execution"
   },
   {
    "id": "8d7e1ba87879459b81a09884aacd72c1",
    "time": "2021-02-10T02:25:20.414Z",
    "type": "completion"
   },
   {
    "code": "# Create a list of every column ID in source 40.\ncols_40 = [indicators[x]['id'] for x in range(len(indicators))]\n\n# Select items in the list that contain relevant population data by filtering through string patterns.\nr = re.compile(\"(SP.POP).[\\d]{2}[A-Z0-9]{2}.[MAFE]{2}$\")\npop = list(filter(r.match, cols_40))\npop",
    "id": "8d7e1ba87879459b81a09884aacd72c1",
    "idx": 5,
    "time": "2021-02-10T02:26:15.232Z",
    "type": "execution"
   },
   {
    "id": "8d7e1ba87879459b81a09884aacd72c1",
    "time": "2021-02-10T02:26:15.327Z",
    "type": "completion"
   },
   {
    "code": "# Create a list of every column ID in source 40.\ncols_40 = [indicators[x]['id'] for x in range(len(indicators))]\n\n# Select items in the list that contain relevant population data by filtering through string patterns.\nr = re.compile(\"(SP.POP).[\\d]{2}[A-Z0-9]{2}.[MAFE]{2}$\")\npop = list(filter(r.match, cols_40))",
    "id": "8d7e1ba87879459b81a09884aacd72c1",
    "idx": 5,
    "time": "2021-02-10T02:26:28.953Z",
    "type": "execution"
   },
   {
    "id": "8d7e1ba87879459b81a09884aacd72c1",
    "time": "2021-02-10T02:26:29.013Z",
    "type": "completion"
   },
   {
    "code": "# Create a list of every column ID in source 40.\ncols_40 = [indicators[x]['id'] for x in range(len(indicators))]\n\n# Select items in the list that contain relevant population data by filtering through string patterns.\nr = re.compile(\"(SP.POP).[\\d]{2}[A-Z0-9]{2}.[MAFE]{2}$\")\npop_cols = list(filter(r.match, cols_40))\n\nvariable_labels = {}\nfor col in pop_cols:\n    variable_labels[col] = \"\"",
    "id": "8d7e1ba87879459b81a09884aacd72c1",
    "idx": 5,
    "time": "2021-02-10T02:27:47.544Z",
    "type": "execution"
   },
   {
    "id": "8d7e1ba87879459b81a09884aacd72c1",
    "time": "2021-02-10T02:27:47.627Z",
    "type": "completion"
   },
   {
    "code": "# Create a list of every column ID in source 40.\ncols_40 = [indicators[x] for x in range(len(indicators))]\n\n# Select items in the list that contain relevant population data by filtering through string patterns.\nr = re.compile(\"(SP.POP).[\\d]{2}[A-Z0-9]{2}.[MAFE]{2}$\")\npop_cols = list(filter(r.match, cols_40))\npop_cols",
    "id": "8d7e1ba87879459b81a09884aacd72c1",
    "idx": 5,
    "time": "2021-02-10T02:29:21.004Z",
    "type": "execution"
   },
   {
    "id": "8d7e1ba87879459b81a09884aacd72c1",
    "time": "2021-02-10T02:29:21.084Z",
    "type": "completion"
   },
   {
    "code": "# Create a list of every column ID in source 40.\ncols_40 = [indicators[x]['id'] for x in range(len(indicators))]\n\n# Select items in the list that contain relevant population data by filtering through string patterns.\nr = re.compile(\"(SP.POP).[\\d]{2}[A-Z0-9]{2}.[MAFE]{2}$\")\npop_cols = list(filter(r.match, cols_40))\n",
    "id": "8d7e1ba87879459b81a09884aacd72c1",
    "idx": 5,
    "time": "2021-02-10T02:29:32.583Z",
    "type": "execution"
   },
   {
    "id": "8d7e1ba87879459b81a09884aacd72c1",
    "time": "2021-02-10T02:29:32.644Z",
    "type": "completion"
   },
   {
    "code": "# Create a list of every column ID in source 40.\ncols_40 = [indicators[x]['id'] for x in range(len(indicators))]\n\n# Select items in the list that contain relevant population data by filtering through string patterns.\nr = re.compile(\"(SP.POP).[\\d]{2}[A-Z0-9]{2}.[MAFE]{2}$\")\npop_cols = list(filter(r.match, cols_40))\npop_cols",
    "id": "8d7e1ba87879459b81a09884aacd72c1",
    "idx": 5,
    "time": "2021-02-10T02:29:38.492Z",
    "type": "execution"
   },
   {
    "id": "8d7e1ba87879459b81a09884aacd72c1",
    "time": "2021-02-10T02:29:38.578Z",
    "type": "completion"
   },
   {
    "code": "cols_40",
    "id": "3f7bc13bdfd541f2b92e0e88412af00f",
    "idx": 5,
    "time": "2021-02-10T02:29:59.083Z",
    "type": "execution"
   },
   {
    "id": "3f7bc13bdfd541f2b92e0e88412af00f",
    "time": "2021-02-10T02:29:59.175Z",
    "type": "completion"
   },
   {
    "code": "indicators['id']",
    "id": "3f7bc13bdfd541f2b92e0e88412af00f",
    "idx": 5,
    "time": "2021-02-10T02:30:08.459Z",
    "type": "execution"
   },
   {
    "id": "3f7bc13bdfd541f2b92e0e88412af00f",
    "time": "2021-02-10T02:30:08.522Z",
    "type": "completion"
   },
   {
    "code": "indicators[0]",
    "id": "3f7bc13bdfd541f2b92e0e88412af00f",
    "idx": 5,
    "time": "2021-02-10T02:30:12.834Z",
    "type": "execution"
   },
   {
    "id": "3f7bc13bdfd541f2b92e0e88412af00f",
    "time": "2021-02-10T02:30:12.909Z",
    "type": "completion"
   },
   {
    "code": "indicators['name']",
    "id": "3f7bc13bdfd541f2b92e0e88412af00f",
    "idx": 5,
    "time": "2021-02-10T02:30:17.923Z",
    "type": "execution"
   },
   {
    "id": "3f7bc13bdfd541f2b92e0e88412af00f",
    "time": "2021-02-10T02:30:18.015Z",
    "type": "completion"
   },
   {
    "code": "indicators[0]['name']",
    "id": "3f7bc13bdfd541f2b92e0e88412af00f",
    "idx": 5,
    "time": "2021-02-10T02:30:25.524Z",
    "type": "execution"
   },
   {
    "id": "3f7bc13bdfd541f2b92e0e88412af00f",
    "time": "2021-02-10T02:30:28.325Z",
    "type": "completion"
   },
   {
    "code": "indicators[15]['name']",
    "id": "3f7bc13bdfd541f2b92e0e88412af00f",
    "idx": 5,
    "time": "2021-02-10T02:31:04.765Z",
    "type": "execution"
   },
   {
    "id": "3f7bc13bdfd541f2b92e0e88412af00f",
    "time": "2021-02-10T02:31:04.835Z",
    "type": "completion"
   },
   {
    "code": "indicators[30]['name']",
    "id": "3f7bc13bdfd541f2b92e0e88412af00f",
    "idx": 5,
    "time": "2021-02-10T02:31:07.306Z",
    "type": "execution"
   },
   {
    "id": "3f7bc13bdfd541f2b92e0e88412af00f",
    "time": "2021-02-10T02:31:07.425Z",
    "type": "completion"
   },
   {
    "code": "indicators[20]['name']",
    "id": "3f7bc13bdfd541f2b92e0e88412af00f",
    "idx": 5,
    "time": "2021-02-10T02:31:09.854Z",
    "type": "execution"
   },
   {
    "id": "3f7bc13bdfd541f2b92e0e88412af00f",
    "time": "2021-02-10T02:31:09.925Z",
    "type": "completion"
   },
   {
    "code": "indicators[40]['name']",
    "id": "3f7bc13bdfd541f2b92e0e88412af00f",
    "idx": 5,
    "time": "2021-02-10T02:31:14.124Z",
    "type": "execution"
   },
   {
    "id": "3f7bc13bdfd541f2b92e0e88412af00f",
    "time": "2021-02-10T02:31:14.186Z",
    "type": "completion"
   },
   {
    "code": "indicators[45]['name']",
    "id": "3f7bc13bdfd541f2b92e0e88412af00f",
    "idx": 5,
    "time": "2021-02-10T02:31:17.764Z",
    "type": "execution"
   },
   {
    "id": "3f7bc13bdfd541f2b92e0e88412af00f",
    "time": "2021-02-10T02:31:17.828Z",
    "type": "completion"
   },
   {
    "code": "[indicators[x]['name'] for x in range(len(indicators))]",
    "id": "3f7bc13bdfd541f2b92e0e88412af00f",
    "idx": 5,
    "time": "2021-02-10T02:31:55.247Z",
    "type": "execution"
   },
   {
    "id": "3f7bc13bdfd541f2b92e0e88412af00f",
    "time": "2021-02-10T02:31:55.313Z",
    "type": "completion"
   },
   {
    "code": "!pip install wbdata\n\nimport wbdata\nimport numpy as np\nimport re ",
    "id": "139720fa45754a87878f6ae98365d95b",
    "idx": 0,
    "time": "2021-02-10T06:56:53.056Z",
    "type": "execution"
   },
   {
    "code": "# Return list of all country/region codes:\nwbdata.get_country()",
    "id": "c93494e6f5524908b8f9bcb5ebafe88f",
    "idx": 1,
    "time": "2021-02-10T06:56:53.270Z",
    "type": "execution"
   },
   {
    "code": "wbdata.get_source()",
    "id": "513e606d65a948ac82ebec1f9ec9ef48",
    "idx": 3,
    "time": "2021-02-10T06:56:53.601Z",
    "type": "execution"
   },
   {
    "code": "SOURCE = 40 # \"Population estimates and projections\"\n\nindicators = wbdata.get_indicator(source=SOURCE)\nindicators",
    "id": "90ba7bd37cd8474797b59bf4f9bb6ccc",
    "idx": 4,
    "time": "2021-02-10T06:56:53.760Z",
    "type": "execution"
   },
   {
    "code": "[indicators[x]['name'] for x in range(len(indicators))]",
    "id": "7e10a7ab6a3e466eb10e1b9f9a784946",
    "idx": 5,
    "time": "2021-02-10T06:56:53.930Z",
    "type": "execution"
   },
   {
    "code": "# Create a list of every column ID in source 40.\ncols_40 = [indicators[x]['id'] for x in range(len(indicators))]\nnames_40 = [indicators[x]['name'] for x in range(len(indicators))]\n\n# Select items in the list that contain relevant population data by filtering through string patterns.\nr = re.compile(\"(SP.POP).[\\d]{2}[A-Z0-9]{2}.[MAFE]{2}$\")\npop_cols = list(filter(r.match, cols_40))\npop_cols",
    "id": "4185635cd8b04646a6909446165f41fa",
    "idx": 6,
    "time": "2021-02-10T06:56:54.060Z",
    "type": "execution"
   },
   {
    "code": "variable_labels = {}\nfor col in pop_cols:\n    if col\n    variable_labels[col] = ",
    "id": "58dc22da3a33427e87cabf464bf6990a",
    "idx": 7,
    "time": "2021-02-10T06:56:54.371Z",
    "type": "execution"
   },
   {
    "code": "variable_labels = {\"SP.POP.1519.MA\":\"Total Population\"}\n\n# Get the \nchn = wbdata.get_dataframe(variable_labels, freq='Y', data_date = None)\nchn",
    "id": "227a76a39465491dab48eeddccc8954e",
    "idx": 8,
    "time": "2021-02-10T06:56:54.581Z",
    "type": "execution"
   },
   {
    "id": "139720fa45754a87878f6ae98365d95b",
    "time": "2021-02-10T06:56:58.514Z",
    "type": "completion"
   },
   {
    "id": "c93494e6f5524908b8f9bcb5ebafe88f",
    "time": "2021-02-10T06:56:58.586Z",
    "type": "completion"
   },
   {
    "id": "513e606d65a948ac82ebec1f9ec9ef48",
    "time": "2021-02-10T06:56:58.593Z",
    "type": "completion"
   },
   {
    "id": "90ba7bd37cd8474797b59bf4f9bb6ccc",
    "time": "2021-02-10T06:56:58.611Z",
    "type": "completion"
   },
   {
    "id": "7e10a7ab6a3e466eb10e1b9f9a784946",
    "time": "2021-02-10T06:56:58.618Z",
    "type": "completion"
   },
   {
    "id": "4185635cd8b04646a6909446165f41fa",
    "time": "2021-02-10T06:56:58.622Z",
    "type": "completion"
   },
   {
    "id": "58dc22da3a33427e87cabf464bf6990a",
    "time": "2021-02-10T06:56:58.695Z",
    "type": "completion"
   },
   {
    "id": "227a76a39465491dab48eeddccc8954e",
    "time": "2021-02-10T06:56:58.702Z",
    "type": "completion"
   },
   {
    "code": "!pip install wbdata\n\nimport wbdata\nimport numpy as np\nimport re ",
    "id": "af38968c93ee44748a03a29d070ceecb",
    "idx": 0,
    "time": "2021-02-10T20:51:12.810Z",
    "type": "execution"
   },
   {
    "code": "# Return list of all country/region codes:\nwbdata.get_country()",
    "id": "98dd03733662407ea9ed0705e05ef02d",
    "idx": 1,
    "time": "2021-02-10T20:51:12.978Z",
    "type": "execution"
   },
   {
    "code": "wbdata.get_source()",
    "id": "93c79a81062b4c0a9c63564f42254e78",
    "idx": 3,
    "time": "2021-02-10T20:51:13.305Z",
    "type": "execution"
   },
   {
    "code": "SOURCE = 40 # \"Population estimates and projections\"\n\nindicators = wbdata.get_indicator(source=SOURCE)\nindicators",
    "id": "de4c030966d64447af2f8cffe587b4d4",
    "idx": 4,
    "time": "2021-02-10T20:51:13.485Z",
    "type": "execution"
   },
   {
    "code": "[indicators[x]['name'] for x in range(len(indicators))]",
    "id": "772d48c3a2d3415782cfe5a87a1ca685",
    "idx": 5,
    "time": "2021-02-10T20:51:13.665Z",
    "type": "execution"
   },
   {
    "code": "# Create a list of every column ID in source 40.\ncols_40 = [indicators[x]['id'] for x in range(len(indicators))]\nlabels = {}\nfor col in cols_40:\n    labels \n\n# Select items in the list that contain relevant population data by filtering through string patterns.\nr = re.compile(\"(SP.POP).[\\d]{2}[A-Z0-9]{2}.[MAFE]{2}$\")\npop_cols = list(filter(r.match, cols_40))\npop_cols",
    "id": "41935c69cbf14b9986c3cb683c1e0330",
    "idx": 6,
    "time": "2021-02-10T20:51:13.845Z",
    "type": "execution"
   },
   {
    "code": "variable_labels = {}\nfor col in pop_cols:\n    if col\n    variable_labels[col] = ",
    "id": "da8cb2c0ed28475dbb983d39cec08417",
    "idx": 7,
    "time": "2021-02-10T20:51:14.025Z",
    "type": "execution"
   },
   {
    "code": "variable_labels = {\"SP.POP.1519.MA\":\"Total Population\"}\n\n# Get the \nchn = wbdata.get_dataframe(variable_labels, freq='Y', data_date = None)\nchn",
    "id": "386d0acefa9f43298601d7a091ef98fc",
    "idx": 8,
    "time": "2021-02-10T20:51:14.215Z",
    "type": "execution"
   },
   {
    "id": "af38968c93ee44748a03a29d070ceecb",
    "time": "2021-02-10T20:51:18.179Z",
    "type": "completion"
   },
   {
    "id": "98dd03733662407ea9ed0705e05ef02d",
    "time": "2021-02-10T20:51:18.233Z",
    "type": "completion"
   },
   {
    "id": "93c79a81062b4c0a9c63564f42254e78",
    "time": "2021-02-10T20:51:18.296Z",
    "type": "completion"
   },
   {
    "id": "de4c030966d64447af2f8cffe587b4d4",
    "time": "2021-02-10T20:51:18.319Z",
    "type": "completion"
   },
   {
    "id": "772d48c3a2d3415782cfe5a87a1ca685",
    "time": "2021-02-10T20:51:18.349Z",
    "type": "completion"
   },
   {
    "id": "41935c69cbf14b9986c3cb683c1e0330",
    "time": "2021-02-10T20:51:18.356Z",
    "type": "completion"
   },
   {
    "id": "da8cb2c0ed28475dbb983d39cec08417",
    "time": "2021-02-10T20:51:18.429Z",
    "type": "completion"
   },
   {
    "id": "386d0acefa9f43298601d7a091ef98fc",
    "time": "2021-02-10T20:51:18.455Z",
    "type": "completion"
   },
   {
    "code": "[indicators[x]['name'] for x in indicators]",
    "id": "772d48c3a2d3415782cfe5a87a1ca685",
    "idx": 5,
    "time": "2021-02-10T20:58:54.233Z",
    "type": "execution"
   },
   {
    "id": "772d48c3a2d3415782cfe5a87a1ca685",
    "time": "2021-02-10T20:58:54.439Z",
    "type": "completion"
   },
   {
    "code": "[indicators[x]['name'] for x in range(len(indicators))]",
    "id": "772d48c3a2d3415782cfe5a87a1ca685",
    "idx": 5,
    "time": "2021-02-10T20:59:04.469Z",
    "type": "execution"
   },
   {
    "id": "772d48c3a2d3415782cfe5a87a1ca685",
    "time": "2021-02-10T20:59:04.576Z",
    "type": "completion"
   },
   {
    "code": "labels = {}\nfor i in range(len(indicators)):\n    col_id = indicators[i]['id']\n    col_name = indicators[i]['name']\n    labels[col_id] = col_name\n",
    "id": "772d48c3a2d3415782cfe5a87a1ca685",
    "idx": 5,
    "time": "2021-02-10T21:01:41.426Z",
    "type": "execution"
   },
   {
    "id": "772d48c3a2d3415782cfe5a87a1ca685",
    "time": "2021-02-10T21:01:41.505Z",
    "type": "completion"
   },
   {
    "code": "labels = {}\nfor i in range(len(indicators)):\n    col_id = indicators[i]['id']\n    col_name = indicators[i]['name']\n    labels[col_id] = col_name\nlabels",
    "id": "772d48c3a2d3415782cfe5a87a1ca685",
    "idx": 5,
    "time": "2021-02-10T21:01:46.394Z",
    "type": "execution"
   },
   {
    "id": "772d48c3a2d3415782cfe5a87a1ca685",
    "time": "2021-02-10T21:01:48.763Z",
    "type": "completion"
   },
   {
    "code": "labels.keys()",
    "id": "772d48c3a2d3415782cfe5a87a1ca685",
    "idx": 5,
    "time": "2021-02-10T21:04:23.438Z",
    "type": "execution"
   },
   {
    "id": "772d48c3a2d3415782cfe5a87a1ca685",
    "time": "2021-02-10T21:04:23.537Z",
    "type": "completion"
   },
   {
    "code": "# Create a list of every column ID in source 40.\nlabels = {}\n\nfor i in range(len(indicators)):\n    col_id = indicators[i]['id']\n    col_name = indicators[i]['name']\n    labels[col_id] = col_name\n\n# Select items in the list that contain relevant population data by filtering through string patterns.\nr = re.compile(\"(SP.POP).[\\d]{2}[A-Z0-9]{2}.[MAFE]{2}$\")\npop_cols = list(filter(r.match, labels.keys()))\npop_cols",
    "id": "41935c69cbf14b9986c3cb683c1e0330",
    "idx": 6,
    "time": "2021-02-10T21:05:02.051Z",
    "type": "execution"
   },
   {
    "id": "41935c69cbf14b9986c3cb683c1e0330",
    "time": "2021-02-10T21:05:02.126Z",
    "type": "completion"
   },
   {
    "code": "# Create a list of every column ID in source 40.\nlabels = {}\n\nfor i in range(len(indicators)):\n    col_id = indicators[i]['id']\n    col_name = indicators[i]['name']\n    labels[col_id] = col_name\n\n# Select items in the list that contain relevant population data by filtering through string patterns.\nr = re.compile(\"(SP.POP).[\\d]{2}[A-Z0-9]{2}.[MAFE]{2}$\")\npop_cols = list(filter(r.match, labels)\npop_cols",
    "id": "41935c69cbf14b9986c3cb683c1e0330",
    "idx": 6,
    "time": "2021-02-10T21:05:18.657Z",
    "type": "execution"
   },
   {
    "id": "41935c69cbf14b9986c3cb683c1e0330",
    "time": "2021-02-10T21:05:18.754Z",
    "type": "completion"
   },
   {
    "code": "# Create a list of every column ID in source 40.\nlabels = {}\n\nfor i in range(len(indicators)):\n    col_id = indicators[i]['id']\n    col_name = indicators[i]['name']\n    labels[col_id] = col_name\n\n# Select items in the list that contain relevant population data by filtering through string patterns.\nr = re.compile(\"(SP.POP).[\\d]{2}[A-Z0-9]{2}.[MAFE]{2}$\")\npop_cols = list(filter(r.match, labels))\npop_cols",
    "id": "41935c69cbf14b9986c3cb683c1e0330",
    "idx": 6,
    "time": "2021-02-10T21:05:23.904Z",
    "type": "execution"
   },
   {
    "id": "41935c69cbf14b9986c3cb683c1e0330",
    "time": "2021-02-10T21:05:23.981Z",
    "type": "completion"
   },
   {
    "code": "# Create a list of every column ID in source 40.\nlabels = {}\n\nfor i in range(len(indicators)):\n    col_id = indicators[i]['id']\n    col_name = indicators[i]['name']\n    labels[col_id] = col_name\n\n# Select items in the list that contain relevant population data by filtering through string patterns.\nr = re.compile(\"(SP.POP).[\\d]{2}[A-Z0-9]{2}.[MAFE]{2}$\")\nfilter(r.match, labels)",
    "id": "41935c69cbf14b9986c3cb683c1e0330",
    "idx": 6,
    "time": "2021-02-10T21:05:41.015Z",
    "type": "execution"
   },
   {
    "id": "41935c69cbf14b9986c3cb683c1e0330",
    "time": "2021-02-10T21:05:41.082Z",
    "type": "completion"
   },
   {
    "code": "# Create a list of every column ID in source 40.\nlabels = {}\n\nfor i in range(len(indicators)):\n    col_id = indicators[i]['id']\n    col_name = indicators[i]['name']\n    labels[col_id] = col_name\n\n# Select items in the list that contain relevant population data by filtering through string patterns.\nr = re.compile(\"(SP.POP).[\\d]{2}[A-Z0-9]{2}.[MAFE]{2}$\")\nprint(filter(r.match, labels))",
    "id": "41935c69cbf14b9986c3cb683c1e0330",
    "idx": 6,
    "time": "2021-02-10T21:05:46.684Z",
    "type": "execution"
   },
   {
    "id": "41935c69cbf14b9986c3cb683c1e0330",
    "time": "2021-02-10T21:05:46.759Z",
    "type": "completion"
   },
   {
    "code": "# Create a list of every column ID in source 40.\nlabels = {}\n\nfor i in range(len(indicators)):\n    col_id = indicators[i]['id']\n    col_name = indicators[i]['name']\n    labels[col_id] = col_name\n\n# Select items in the list that contain relevant population data by filtering through string patterns.\nr = re.compile(\"(SP.POP).[\\d]{2}[A-Z0-9]{2}.[MAFE]{2}$\")\nfilter(r.match, labels).show()",
    "id": "41935c69cbf14b9986c3cb683c1e0330",
    "idx": 6,
    "time": "2021-02-10T21:05:53.235Z",
    "type": "execution"
   },
   {
    "id": "41935c69cbf14b9986c3cb683c1e0330",
    "time": "2021-02-10T21:05:53.379Z",
    "type": "completion"
   },
   {
    "code": "# Create a list of every column ID in source 40.\nlabels = {}\n\nfor i in range(len(indicators)):\n    col_id = indicators[i]['id']\n    col_name = indicators[i]['name']\n    labels[col_id] = col_name\n\n# Select items in the list that contain relevant population data by filtering through string patterns.\nr = re.compile(\"(SP.POP).[\\d]{2}[A-Z0-9]{2}.[MAFE]{2}$\")\nlist(filter(r.match, labels))",
    "id": "41935c69cbf14b9986c3cb683c1e0330",
    "idx": 6,
    "time": "2021-02-10T22:00:33.415Z",
    "type": "execution"
   },
   {
    "id": "41935c69cbf14b9986c3cb683c1e0330",
    "time": "2021-02-10T22:00:33.514Z",
    "type": "completion"
   },
   {
    "code": "# Create a list of every column ID in source 40.\nlabels = {}\n\nfor i in range(len(indicators)):\n    col_id = indicators[i]['id']\n    col_name = indicators[i]['name']\n    labels[col_id] = col_name\n\n# Select items in the list that contain relevant population data by filtering through string patterns.\nr = re.compile(\"(SP.POP).[\\d]{2}[A-Z0-9]{2}.[MAFE]{2}$\")\ncol_keys = list(filter(r.match, labels))\n",
    "id": "41935c69cbf14b9986c3cb683c1e0330",
    "idx": 6,
    "time": "2021-02-10T22:03:01.728Z",
    "type": "execution"
   },
   {
    "id": "41935c69cbf14b9986c3cb683c1e0330",
    "time": "2021-02-10T22:03:01.812Z",
    "type": "completion"
   },
   {
    "code": "# Create a list of every column ID in source 40.\nlabels = {}\n\nfor i in range(len(indicators)):\n    col_id = indicators[i]['id']\n    col_name = indicators[i]['name']\n    labels[col_id] = col_name\n\n# Select items in the list that contain relevant population data by filtering through string patterns.\nr = re.compile(\"(SP.POP).[\\d]{2}[A-Z0-9]{2}.[MAFE]{2}$\")\ncol_keys = list(filter(r.match, labels))\ncol_keys",
    "id": "41935c69cbf14b9986c3cb683c1e0330",
    "idx": 6,
    "time": "2021-02-10T22:03:07.257Z",
    "type": "execution"
   },
   {
    "id": "41935c69cbf14b9986c3cb683c1e0330",
    "time": "2021-02-10T22:03:07.318Z",
    "type": "completion"
   },
   {
    "code": "labels.items()",
    "id": "46f1cfd56bbe49a485937ab9226cd1dc",
    "idx": 6,
    "time": "2021-02-10T22:03:46.878Z",
    "type": "execution"
   },
   {
    "id": "46f1cfd56bbe49a485937ab9226cd1dc",
    "time": "2021-02-10T22:03:47.082Z",
    "type": "completion"
   },
   {
    "code": "labels.values()",
    "id": "46f1cfd56bbe49a485937ab9226cd1dc",
    "idx": 6,
    "time": "2021-02-10T22:04:17.319Z",
    "type": "execution"
   },
   {
    "id": "46f1cfd56bbe49a485937ab9226cd1dc",
    "time": "2021-02-10T22:04:17.420Z",
    "type": "completion"
   },
   {
    "code": "# Create a list of every column ID in source 40.\nlabels = {}\n\nfor i in range(len(indicators)):\n    col_id = indicators[i]['id']\n    col_name = indicators[i]['name']\n    labels[col_id] = col_name\n\n# Select items in the list that contain relevant population data by filtering through string patterns.\nr = re.compile(\"(SP.POP).[\\d]{2}[A-Z0-9]{2}.[MAFE]{2}$\")\ncol_keys = list(filter(r.match, labels))\ncol_keys",
    "id": "41935c69cbf14b9986c3cb683c1e0330",
    "idx": 5,
    "time": "2021-02-10T22:04:32.979Z",
    "type": "execution"
   },
   {
    "id": "41935c69cbf14b9986c3cb683c1e0330",
    "time": "2021-02-10T22:04:33.045Z",
    "type": "completion"
   },
   {
    "code": "# Create a list of every column ID in source 40.\nlabels = {}\n\nfor i in range(len(indicators)):\n    col_id = indicators[i]['id']\n    col_name = indicators[i]['name']\n    labels[col_id] = col_name\n\n# Select items in the list that contain relevant population data by filtering through string patterns.\nr = re.compile(\"(SP.POP).[\\d]{2}[A-Z0-9]{2}.[MAFE]{2}$\")\ncol_keys = list(filter(r.match, labels))\ncol_keys\n\nlabels_filtered = {}\nfor key, value in labels.items():\n    if key in col_keys:\n        labels_filtered[key] = value\n        \nlabels_filtered",
    "id": "41935c69cbf14b9986c3cb683c1e0330",
    "idx": 5,
    "time": "2021-02-10T22:14:53.515Z",
    "type": "execution"
   },
   {
    "id": "41935c69cbf14b9986c3cb683c1e0330",
    "time": "2021-02-10T22:14:53.617Z",
    "type": "completion"
   },
   {
    "code": "# Create a list of every column ID in source 40.\nlabels = {}\n\nfor i in range(len(indicators)):\n    col_id = indicators[i]['id']\n    col_name = indicators[i]['name']\n    labels[col_id] = col_name\n\n# Select items in the list that contain relevant population data by filtering through string patterns.\nr = re.compile(\"(SP.POP).[\\d]{2}[A-Z0-9]{2}.[MAFE]{2}$\")\ncol_keys = list(filter(r.match, labels))\ncol_keys\n\nlabels_filtered = {}\nfor key, value in labels.items():\n    if key in col_keys:\n        labels_filtered[key] = value\n\nlabels_filtered",
    "id": "41935c69cbf14b9986c3cb683c1e0330",
    "idx": 5,
    "time": "2021-02-10T22:15:10.308Z",
    "type": "execution"
   },
   {
    "id": "41935c69cbf14b9986c3cb683c1e0330",
    "time": "2021-02-10T22:15:10.381Z",
    "type": "completion"
   },
   {
    "code": "# Returns a dictionary of filtered column labels.\ndef find_labels(indicators):\n    labels = {}\n\n    for i in range(len(indicators)):\n        col_id = indicators[i]['id']\n        col_name = indicators[i]['name']\n        labels[col_id] = col_name\n\n    # Select items in the list that contain relevant population data by filtering through string patterns.\n    r = re.compile(\"(SP.POP).[\\d]{2}[A-Z0-9]{2}.[MAFE]{2}$\")\n    col_keys = list(filter(r.match, labels))\n    col_keys\n\n    labels_filtered = {}\n    for key, value in labels.items():\n        if key in col_keys:\n            labels_filtered[key] = value\n\n    return labels_filtered",
    "id": "41935c69cbf14b9986c3cb683c1e0330",
    "idx": 5,
    "time": "2021-02-10T22:16:28.903Z",
    "type": "execution"
   },
   {
    "id": "41935c69cbf14b9986c3cb683c1e0330",
    "time": "2021-02-10T22:16:28.974Z",
    "type": "completion"
   },
   {
    "code": "# Returns a dictionary of filtered column labels.\ndef find_labels(indicators):\n    labels = {}\n\n    for i in range(len(indicators)):\n        col_id = indicators[i]['id']\n        col_name = indicators[i]['name']\n        labels[col_id] = col_name\n\n    # Select items in the list that contain relevant population data by filtering through string patterns.\n    r = re.compile(\"(SP.POP).[\\d]{2}[A-Z0-9]{2}.[MAFE]{2}$\")\n    col_keys = list(filter(r.match, labels))\n    col_keys\n\n    labels_filtered = {}\n    for key, value in labels.items():\n        if key in col_keys:\n            labels_filtered[key] = value\n\n    return labels_filtered\n\nfind_labels(indicators)",
    "id": "41935c69cbf14b9986c3cb683c1e0330",
    "idx": 5,
    "time": "2021-02-10T22:16:36.333Z",
    "type": "execution"
   },
   {
    "id": "41935c69cbf14b9986c3cb683c1e0330",
    "time": "2021-02-10T22:16:36.485Z",
    "type": "completion"
   },
   {
    "code": "SOURCE = 40 # \"Population estimates and projections\"\n\nindicators_40 = wbdata.get_indicator(source=SOURCE)\nindicators_40",
    "id": "de4c030966d64447af2f8cffe587b4d4",
    "idx": 4,
    "time": "2021-02-10T22:18:04.615Z",
    "type": "execution"
   },
   {
    "id": "de4c030966d64447af2f8cffe587b4d4",
    "time": "2021-02-10T22:18:04.740Z",
    "type": "completion"
   },
   {
    "code": "SOURCE = 40 # \"Population estimates and projections\"\n\nindicators_40 = wbdata.get_indicator(source=SOURCE)\nindicators_40",
    "id": "de4c030966d64447af2f8cffe587b4d4",
    "idx": 4,
    "time": "2021-02-10T22:18:09.077Z",
    "type": "execution"
   },
   {
    "id": "de4c030966d64447af2f8cffe587b4d4",
    "time": "2021-02-10T22:18:09.190Z",
    "type": "completion"
   },
   {
    "code": "# Takes in an indicator object and returns a dictionary of filtered column labels.\ndef find_labels(indicators):\n    labels = {}\n\n    for i in range(len(indicators)):\n        col_id = indicators[i]['id']\n        col_name = indicators[i]['name']\n        labels[col_id] = col_name\n\n    # Select items in the list that contain relevant population data by filtering through string patterns.\n    r = re.compile(\"(SP.POP).[\\d]{2}[A-Z0-9]{2}.[MAFE]{2}$\")\n    col_keys = list(filter(r.match, labels))\n    col_keys\n\n    labels_filtered = {}\n    for key, value in labels.items():\n        if key in col_keys:\n            labels_filtered[key] = value\n\n    return labels_filtered",
    "id": "41935c69cbf14b9986c3cb683c1e0330",
    "idx": 5,
    "time": "2021-02-10T22:18:09.484Z",
    "type": "execution"
   },
   {
    "id": "41935c69cbf14b9986c3cb683c1e0330",
    "time": "2021-02-10T22:18:09.548Z",
    "type": "completion"
   },
   {
    "code": "variable_labels = find_labels(indicators)\n\n# Get the \nchn = wbdata.get_dataframe(variable_labels, freq='Y', data_date = None)\nchn",
    "id": "386d0acefa9f43298601d7a091ef98fc",
    "idx": 6,
    "time": "2021-02-10T22:18:09.942Z",
    "type": "execution"
   },
   {
    "code": "variable_labels = find_labels(indicators_40)\n\n# Get the \nchn = wbdata.get_dataframe(variable_labels, freq='Y', data_date = None)\nchn",
    "id": "386d0acefa9f43298601d7a091ef98fc",
    "idx": 6,
    "time": "2021-02-10T22:18:14.964Z",
    "type": "execution"
   },
   {
    "code": "variable_labels = find_labels(indicators_40)\n\n# Get the \nchn = wbdata.get_dataframe(variable_labels, freq='Y')\nchn",
    "id": "386d0acefa9f43298601d7a091ef98fc",
    "idx": 6,
    "time": "2021-02-10T22:19:15.864Z",
    "type": "execution"
   },
   {
    "id": "386d0acefa9f43298601d7a091ef98fc",
    "time": "2021-02-10T22:19:20.585Z",
    "type": "completion"
   },
   {
    "id": "386d0acefa9f43298601d7a091ef98fc",
    "time": "2021-02-10T22:19:20.586Z",
    "type": "completion"
   },
   {
    "id": "386d0acefa9f43298601d7a091ef98fc",
    "time": "2021-02-10T22:19:20.587Z",
    "type": "completion"
   },
   {
    "code": "!pip install wbdata\n\nimport wbdata\nimport numpy as np\nimport re ",
    "id": "af38968c93ee44748a03a29d070ceecb",
    "idx": 0,
    "time": "2021-02-10T22:19:26.588Z",
    "type": "execution"
   },
   {
    "code": "# Return list of all country/region codes:\nwbdata.get_country()",
    "id": "98dd03733662407ea9ed0705e05ef02d",
    "idx": 1,
    "time": "2021-02-10T22:19:26.592Z",
    "type": "execution"
   },
   {
    "code": "wbdata.get_source()",
    "id": "93c79a81062b4c0a9c63564f42254e78",
    "idx": 3,
    "time": "2021-02-10T22:19:26.596Z",
    "type": "execution"
   },
   {
    "code": "SOURCE = 40 # \"Population estimates and projections\"\n\nindicators_40 = wbdata.get_indicator(source=SOURCE)\nindicators_40",
    "id": "de4c030966d64447af2f8cffe587b4d4",
    "idx": 4,
    "time": "2021-02-10T22:19:26.601Z",
    "type": "execution"
   },
   {
    "code": "# Takes in an indicator object and returns a dictionary of filtered column labels.\ndef find_labels(indicators):\n    labels = {}\n\n    for i in range(len(indicators)):\n        col_id = indicators[i]['id']\n        col_name = indicators[i]['name']\n        labels[col_id] = col_name\n\n    # Select items in the list that contain relevant population data by filtering through string patterns.\n    r = re.compile(\"(SP.POP).[\\d]{2}[A-Z0-9]{2}.[MAFE]{2}$\")\n    col_keys = list(filter(r.match, labels))\n    col_keys\n\n    labels_filtered = {}\n    for key, value in labels.items():\n        if key in col_keys:\n            labels_filtered[key] = value\n\n    return labels_filtered",
    "id": "41935c69cbf14b9986c3cb683c1e0330",
    "idx": 5,
    "time": "2021-02-10T22:19:26.605Z",
    "type": "execution"
   },
   {
    "code": "variable_labels = find_labels(indicators_40)\n\n# Get the \nchn = wbdata.get_dataframe(variable_labels, freq='Y')\nchn",
    "id": "386d0acefa9f43298601d7a091ef98fc",
    "idx": 6,
    "time": "2021-02-10T22:19:26.611Z",
    "type": "execution"
   },
   {
    "id": "af38968c93ee44748a03a29d070ceecb",
    "time": "2021-02-10T22:19:30.879Z",
    "type": "completion"
   },
   {
    "id": "98dd03733662407ea9ed0705e05ef02d",
    "time": "2021-02-10T22:19:30.979Z",
    "type": "completion"
   },
   {
    "id": "93c79a81062b4c0a9c63564f42254e78",
    "time": "2021-02-10T22:19:30.984Z",
    "type": "completion"
   },
   {
    "id": "de4c030966d64447af2f8cffe587b4d4",
    "time": "2021-02-10T22:19:30.989Z",
    "type": "completion"
   },
   {
    "id": "41935c69cbf14b9986c3cb683c1e0330",
    "time": "2021-02-10T22:19:30.991Z",
    "type": "completion"
   },
   {
    "code": "# Takes in an indicator object and returns a dictionary of filtered column labels.\ndef find_labels(indicators):\n    labels = {}\n\n    for i in range(len(indicators)):\n        col_id = indicators[i]['id']\n        col_name = indicators[i]['name']\n        labels[col_id] = col_name\n\n    # Select items in the list that contain relevant population data by filtering through string patterns.\n    r = re.compile(\"(SP.POP).[\\d]{2}[A-Z0-9]{2}.[MAFE]{2}$\")\n    col_keys = list(filter(r.match, labels))\n    col_keys\n\n    labels_filtered = {}\n    for key, value in labels.items():\n        if key in col_keys:\n            labels_filtered[key] = value\n            \n    return labels_filtered",
    "id": "43f8a2cadcda473a895746f758d51b45",
    "idx": 5,
    "time": "2021-02-10T22:24:07.363Z",
    "type": "execution"
   },
   {
    "code": "# Takes in an indicator object and returns a dictionary of filtered column labels.\ndef find_labels(indicators):\n    labels = {}\n\n    for i in range(len(indicators)):\n        col_id = indicators[i]['id']\n        col_name = indicators[i]['name']\n        labels[col_id] = col_name\n\n    # Select items in the list that contain relevant population data by filtering through string patterns.\n    r = re.compile(\"(SP.POP).[\\d]{2}[A-Z0-9]{2}.[MAFE]{2}$\")\n    col_keys = list(filter(r.match, labels))\n    col_keys\n\n    labels_filtered = {}\n    for key, value in labels.items():\n        if key in col_keys:\n            labels_filtered[key] = value\n            \n    return labels_filtered\n\nlabels_filtered",
    "id": "43f8a2cadcda473a895746f758d51b45",
    "idx": 5,
    "time": "2021-02-10T22:24:12.704Z",
    "type": "execution"
   },
   {
    "code": "# Takes in an indicator object and returns a dictionary of filtered column labels.\ndef find_labels(indicators):\n    labels = {}\n\n    for i in range(len(indicators)):\n        col_id = indicators[i]['id']\n        col_name = indicators[i]['name']\n        labels[col_id] = col_name\n\n    # Select items in the list that contain relevant population data by filtering through string patterns.\n    r = re.compile(\"(SP.POP).[\\d]{2}[A-Z0-9]{2}.[MAFE]{2}$\")\n    col_keys = list(filter(r.match, labels))\n    col_keys\n\n    labels_filtered = {}\n    for key, value in labels.items():\n        if key in col_keys:\n            labels_filtered[key] = value\n            \n    return labels_filtered\n\nvariable_labels",
    "id": "43f8a2cadcda473a895746f758d51b45",
    "idx": 5,
    "time": "2021-02-10T22:24:21.492Z",
    "type": "execution"
   },
   {
    "code": "# Takes in an indicator object and returns a dictionary of filtered column labels.\ndef find_labels(indicators):\n    labels = {}\n\n    for i in range(len(indicators)):\n        col_id = indicators[i]['id']\n        col_name = indicators[i]['name']\n        labels[col_id] = col_name\n\n    # Select items in the list that contain relevant population data by filtering through string patterns.\n    r = re.compile(\"(SP.POP).[\\d]{2}[A-Z0-9]{2}.[MAFE]{2}$\")\n    col_keys = list(filter(r.match, labels))\n    col_keys\n\n    labels_filtered = {}\n    for key, value in labels.items():\n        if key in col_keys:\n            labels_filtered[key] = value\n            \n    return labels_filtered\n\nfind_labels(indicators_40)",
    "id": "43f8a2cadcda473a895746f758d51b45",
    "idx": 5,
    "time": "2021-02-10T22:24:26.069Z",
    "type": "execution"
   },
   {
    "id": "386d0acefa9f43298601d7a091ef98fc",
    "time": "2021-02-10T22:24:29.883Z",
    "type": "completion"
   },
   {
    "id": "43f8a2cadcda473a895746f758d51b45",
    "time": "2021-02-10T22:24:29.965Z",
    "type": "completion"
   },
   {
    "id": "43f8a2cadcda473a895746f758d51b45",
    "time": "2021-02-10T22:24:29.965Z",
    "type": "completion"
   },
   {
    "id": "43f8a2cadcda473a895746f758d51b45",
    "time": "2021-02-10T22:24:29.966Z",
    "type": "completion"
   },
   {
    "id": "43f8a2cadcda473a895746f758d51b45",
    "time": "2021-02-10T22:24:29.966Z",
    "type": "completion"
   },
   {
    "code": "!pip install wbdata\n\nimport wbdata\nimport numpy as np\nimport re ",
    "id": "af38968c93ee44748a03a29d070ceecb",
    "idx": 0,
    "time": "2021-02-10T22:24:33.154Z",
    "type": "execution"
   },
   {
    "code": "# Return list of all country/region codes:\nwbdata.get_country()",
    "id": "98dd03733662407ea9ed0705e05ef02d",
    "idx": 1,
    "time": "2021-02-10T22:24:33.157Z",
    "type": "execution"
   },
   {
    "code": "wbdata.get_source()",
    "id": "93c79a81062b4c0a9c63564f42254e78",
    "idx": 3,
    "time": "2021-02-10T22:24:33.163Z",
    "type": "execution"
   },
   {
    "code": "SOURCE = 40 # \"Population estimates and projections\"\n\nindicators_40 = wbdata.get_indicator(source=SOURCE)\nindicators_40",
    "id": "de4c030966d64447af2f8cffe587b4d4",
    "idx": 4,
    "time": "2021-02-10T22:24:33.165Z",
    "type": "execution"
   },
   {
    "code": "# Takes in an indicator object and returns a dictionary of filtered column labels.\ndef find_labels(indicators):\n    labels = {}\n\n    for i in range(len(indicators)):\n        col_id = indicators[i]['id']\n        col_name = indicators[i]['name']\n        labels[col_id] = col_name\n\n    # Select items in the list that contain relevant population data by filtering through string patterns.\n    r = re.compile(\"(SP.POP).[\\d]{2}[A-Z0-9]{2}.[MAFE]{2}$\")\n    col_keys = list(filter(r.match, labels))\n    col_keys\n\n    labels_filtered = {}\n    for key, value in labels.items():\n        if key in col_keys:\n            labels_filtered[key] = value\n            \n    return labels_filtered\n\nfind_labels(indicators_40)",
    "id": "43f8a2cadcda473a895746f758d51b45",
    "idx": 5,
    "time": "2021-02-10T22:24:33.167Z",
    "type": "execution"
   },
   {
    "id": "af38968c93ee44748a03a29d070ceecb",
    "time": "2021-02-10T22:24:37.355Z",
    "type": "completion"
   },
   {
    "id": "98dd03733662407ea9ed0705e05ef02d",
    "time": "2021-02-10T22:24:37.508Z",
    "type": "completion"
   },
   {
    "id": "93c79a81062b4c0a9c63564f42254e78",
    "time": "2021-02-10T22:24:37.619Z",
    "type": "completion"
   },
   {
    "id": "de4c030966d64447af2f8cffe587b4d4",
    "time": "2021-02-10T22:24:37.624Z",
    "type": "completion"
   },
   {
    "id": "43f8a2cadcda473a895746f758d51b45",
    "time": "2021-02-10T22:24:37.630Z",
    "type": "completion"
   },
   {
    "code": "variable_labels = find_labels(indicators_40)[:3]\n\n# Get the \nchn = wbdata.get_dataframe(variable_labels, freq='Y')\nchn",
    "id": "386d0acefa9f43298601d7a091ef98fc",
    "idx": 6,
    "time": "2021-02-10T22:25:17.341Z",
    "type": "execution"
   },
   {
    "id": "386d0acefa9f43298601d7a091ef98fc",
    "time": "2021-02-10T22:25:19.290Z",
    "type": "completion"
   },
   {
    "code": "# Takes in an indicator object and returns a dictionary of filtered column labels.\ndef find_labels(indicators):\n    labels = {}\n\n    for i in range(len(indicators)):\n        col_id = indicators[i]['id']\n        col_name = indicators[i]['name']\n        labels[col_id] = col_name\n\n    # Select items in the list that contain relevant population data by filtering through string patterns.\n    r = re.compile(\"(SP.POP).[\\d]{2}[A-Z0-9]{2}.[MAFE]{2}$\")\n    col_keys = list(filter(r.match, labels))\n    col_keys\n\n    labels_filtered = {}\n    for key, value in labels.items():\n        if key in col_keys:\n            labels_filtered[key] = value\n            \n    return labels_filtered\n\nfind_labels(indicators_40)[:3]",
    "id": "43f8a2cadcda473a895746f758d51b45",
    "idx": 5,
    "time": "2021-02-10T22:25:25.639Z",
    "type": "execution"
   },
   {
    "id": "43f8a2cadcda473a895746f758d51b45",
    "time": "2021-02-10T22:25:25.743Z",
    "type": "completion"
   },
   {
    "code": "def take(n, iterable):\n    \"Return first n items of the iterable as a list\"\n    return list(islice(iterable, n))\nn_items = take(3, variable_labels.items())",
    "id": "eeb86c48d4c44b58adfa27ffe6a14a66",
    "idx": 6,
    "time": "2021-02-10T22:26:50.107Z",
    "type": "execution"
   },
   {
    "id": "eeb86c48d4c44b58adfa27ffe6a14a66",
    "time": "2021-02-10T22:26:50.291Z",
    "type": "completion"
   },
   {
    "code": "first3pairs = {k: variable_labels[k] for k in list(variable_labels)[:3]}\nfirst3pairs",
    "id": "ca44668bcaf3400b8d4f6070974a8649",
    "idx": 6,
    "time": "2021-02-10T22:28:23.360Z",
    "type": "execution"
   },
   {
    "id": "ca44668bcaf3400b8d4f6070974a8649",
    "time": "2021-02-10T22:28:23.563Z",
    "type": "completion"
   },
   {
    "code": "variable_labels = find_labels(indicators_40)\n\n# Get the \nchn = wbdata.get_dataframe(first3pairs, freq='Y')\nchn",
    "id": "386d0acefa9f43298601d7a091ef98fc",
    "idx": 7,
    "time": "2021-02-10T22:28:30.167Z",
    "type": "execution"
   },
   {
    "id": "386d0acefa9f43298601d7a091ef98fc",
    "time": "2021-02-10T22:28:30.824Z",
    "type": "completion"
   },
   {
    "code": "first3pairs = {k: variable_labels[k] for k in list(variable_labels)[:10]}\nfirst3pairs",
    "id": "ca44668bcaf3400b8d4f6070974a8649",
    "idx": 6,
    "time": "2021-02-10T22:28:39.540Z",
    "type": "execution"
   },
   {
    "id": "ca44668bcaf3400b8d4f6070974a8649",
    "time": "2021-02-10T22:28:39.655Z",
    "type": "completion"
   },
   {
    "code": "variable_labels = find_labels(indicators_40)\n\n# Get the \nchn = wbdata.get_dataframe(first3pairs, freq='Y')\nchn",
    "id": "386d0acefa9f43298601d7a091ef98fc",
    "idx": 7,
    "time": "2021-02-10T22:28:40.543Z",
    "type": "execution"
   },
   {
    "id": "386d0acefa9f43298601d7a091ef98fc",
    "time": "2021-02-10T22:28:42.477Z",
    "type": "completion"
   },
   {
    "code": "variable_labels = find_labels(indicators_40)\n\n# Get the \nchn = wbdata.get_dataframe(variable_labels, freq='Y')\nchn",
    "id": "386d0acefa9f43298601d7a091ef98fc",
    "idx": 7,
    "time": "2021-02-10T22:28:55.311Z",
    "type": "execution"
   },
   {
    "code": "variable_labels",
    "id": "ca44668bcaf3400b8d4f6070974a8649",
    "idx": 6,
    "time": "2021-02-10T22:29:47.195Z",
    "type": "execution"
   },
   {
    "id": "386d0acefa9f43298601d7a091ef98fc",
    "time": "2021-02-10T22:29:51.559Z",
    "type": "completion"
   },
   {
    "id": "ca44668bcaf3400b8d4f6070974a8649",
    "time": "2021-02-10T22:29:51.568Z",
    "type": "completion"
   },
   {
    "code": "len(variable_labels)",
    "id": "ca44668bcaf3400b8d4f6070974a8649",
    "idx": 6,
    "time": "2021-02-10T22:30:00.422Z",
    "type": "execution"
   },
   {
    "id": "ca44668bcaf3400b8d4f6070974a8649",
    "time": "2021-02-10T22:30:00.552Z",
    "type": "completion"
   },
   {
    "code": "first3pairs = {k: variable_labels[k] for k in list(variable_labels)[:3]}\nfirst3pairs",
    "id": "ca44668bcaf3400b8d4f6070974a8649",
    "idx": 6,
    "time": "2021-02-10T22:30:25.618Z",
    "type": "execution"
   },
   {
    "id": "ca44668bcaf3400b8d4f6070974a8649",
    "time": "2021-02-10T22:30:25.693Z",
    "type": "completion"
   },
   {
    "code": "variable_labels",
    "id": "9c931536daf342eb84011561484ead4f",
    "idx": 7,
    "time": "2021-02-10T22:30:33.758Z",
    "type": "execution"
   },
   {
    "id": "9c931536daf342eb84011561484ead4f",
    "time": "2021-02-10T22:30:34.085Z",
    "type": "completion"
   },
   {
    "code": "first3pairs = {k: variable_labels[k] for k in list(variable_labels)[:-10]}\nfirst3pairs",
    "id": "ca44668bcaf3400b8d4f6070974a8649",
    "idx": 6,
    "time": "2021-02-10T22:31:29.692Z",
    "type": "execution"
   },
   {
    "id": "ca44668bcaf3400b8d4f6070974a8649",
    "time": "2021-02-10T22:31:29.900Z",
    "type": "completion"
   },
   {
    "code": "first3pairs = {k: variable_labels[k] for k in list(variable_labels)[-10:]}\nfirst3pairs",
    "id": "ca44668bcaf3400b8d4f6070974a8649",
    "idx": 6,
    "time": "2021-02-10T22:31:42.639Z",
    "type": "execution"
   },
   {
    "id": "ca44668bcaf3400b8d4f6070974a8649",
    "time": "2021-02-10T22:31:42.741Z",
    "type": "completion"
   },
   {
    "code": "variable_labels = find_labels(indicators_40)\n\n# Get the \nchn = wbdata.get_dataframe(variable_labels, freq='Y')\nchn",
    "id": "386d0acefa9f43298601d7a091ef98fc",
    "idx": 7,
    "time": "2021-02-10T22:31:45.316Z",
    "type": "execution"
   },
   {
    "code": "first3pairs = {k: variable_labels[k] for k in list(variable_labels)[-2:]}\nfirst3pairs",
    "id": "ca44668bcaf3400b8d4f6070974a8649",
    "idx": 6,
    "time": "2021-02-10T22:32:47.618Z",
    "type": "execution"
   },
   {
    "code": "variable_labels = find_labels(indicators_40)\n\n# Get the \nchn = wbdata.get_dataframe(variable_labels, freq='Y')\nchn",
    "id": "386d0acefa9f43298601d7a091ef98fc",
    "idx": 7,
    "time": "2021-02-10T22:32:50.027Z",
    "type": "execution"
   },
   {
    "id": "ca44668bcaf3400b8d4f6070974a8649",
    "time": "2021-02-10T22:32:52.961Z",
    "type": "completion"
   },
   {
    "id": "386d0acefa9f43298601d7a091ef98fc",
    "time": "2021-02-10T22:32:52.980Z",
    "type": "completion"
   },
   {
    "id": "386d0acefa9f43298601d7a091ef98fc",
    "time": "2021-02-10T22:32:52.980Z",
    "type": "completion"
   },
   {
    "code": "first3pairs = {k: variable_labels[k] for k in list(variable_labels)[-2:]}\nfirst3pairs",
    "id": "ca44668bcaf3400b8d4f6070974a8649",
    "idx": 6,
    "time": "2021-02-10T22:32:54.193Z",
    "type": "execution"
   },
   {
    "code": "variable_labels = find_labels(indicators_40)\n\n# Get the \nchn = wbdata.get_dataframe(variable_labels, freq='Y')\nchn",
    "id": "386d0acefa9f43298601d7a091ef98fc",
    "idx": 7,
    "time": "2021-02-10T22:32:54.353Z",
    "type": "execution"
   },
   {
    "id": "ca44668bcaf3400b8d4f6070974a8649",
    "time": "2021-02-10T22:32:54.578Z",
    "type": "completion"
   },
   {
    "code": "first3pairs = {k: variable_labels[k] for k in list(variable_labels)[:32]}\nfirst3pairs",
    "id": "ca44668bcaf3400b8d4f6070974a8649",
    "idx": 6,
    "time": "2021-02-10T22:33:18.538Z",
    "type": "execution"
   },
   {
    "code": "variable_labels = find_labels(indicators_40)\n\n# Get the \nchn = wbdata.get_dataframe(variable_labels, freq='Y')\nchn",
    "id": "386d0acefa9f43298601d7a091ef98fc",
    "idx": 7,
    "time": "2021-02-10T22:33:19.301Z",
    "type": "execution"
   },
   {
    "id": "ca44668bcaf3400b8d4f6070974a8649",
    "time": "2021-02-10T22:33:19.633Z",
    "type": "completion"
   },
   {
    "id": "386d0acefa9f43298601d7a091ef98fc",
    "time": "2021-02-10T22:33:19.637Z",
    "type": "completion"
   },
   {
    "id": "386d0acefa9f43298601d7a091ef98fc",
    "time": "2021-02-10T22:33:19.637Z",
    "type": "completion"
   },
   {
    "code": "first3pairs = {k: variable_labels[k] for k in list(variable_labels)[:32]}\nfirst3pairs",
    "id": "ca44668bcaf3400b8d4f6070974a8649",
    "idx": 6,
    "time": "2021-02-10T22:33:23.482Z",
    "type": "execution"
   },
   {
    "id": "ca44668bcaf3400b8d4f6070974a8649",
    "time": "2021-02-10T22:33:23.578Z",
    "type": "completion"
   },
   {
    "code": "variable_labels = find_labels(indicators_40)\n\n# Get the \nchn = wbdata.get_dataframe(variable_labels, freq='Y')\nchn",
    "id": "386d0acefa9f43298601d7a091ef98fc",
    "idx": 7,
    "time": "2021-02-10T22:33:23.705Z",
    "type": "execution"
   },
   {
    "id": "386d0acefa9f43298601d7a091ef98fc",
    "time": "2021-02-10T22:33:27.938Z",
    "type": "completion"
   },
   {
    "code": "variable_labels = find_labels(indicators_40)\n\n# Get the \nchn = wbdata.get_dataframe(first3pairs, freq='Y')\nchn",
    "id": "386d0acefa9f43298601d7a091ef98fc",
    "idx": 7,
    "time": "2021-02-10T22:33:46.577Z",
    "type": "execution"
   },
   {
    "id": "386d0acefa9f43298601d7a091ef98fc",
    "time": "2021-02-10T22:33:51.035Z",
    "type": "completion"
   },
   {
    "code": "!pip install wbdata\n\nimport wbdata\nimport numpy as np\nimport re ",
    "id": "af38968c93ee44748a03a29d070ceecb",
    "idx": 0,
    "time": "2021-02-10T22:34:19.897Z",
    "type": "execution"
   },
   {
    "code": "# Return list of all country/region codes:\nwbdata.get_country()",
    "id": "98dd03733662407ea9ed0705e05ef02d",
    "idx": 1,
    "time": "2021-02-10T22:34:19.903Z",
    "type": "execution"
   },
   {
    "code": "wbdata.get_source()",
    "id": "93c79a81062b4c0a9c63564f42254e78",
    "idx": 3,
    "time": "2021-02-10T22:34:19.910Z",
    "type": "execution"
   },
   {
    "code": "SOURCE = 40 # \"Population estimates and projections\"\n\nindicators_40 = wbdata.get_indicator(source=SOURCE)\nindicators_40",
    "id": "de4c030966d64447af2f8cffe587b4d4",
    "idx": 4,
    "time": "2021-02-10T22:34:19.914Z",
    "type": "execution"
   },
   {
    "code": "# Takes in an indicator object and returns a dictionary of filtered column labels.\ndef find_labels(indicators):\n    labels = {}\n\n    for i in range(len(indicators)):\n        col_id = indicators[i]['id']\n        col_name = indicators[i]['name']\n        labels[col_id] = col_name\n\n    # Select items in the list that contain relevant population data by filtering through string patterns.\n    r = re.compile(\"(SP.POP).[\\d]{2}[A-Z0-9]{2}.[MAFE]{2}$\")\n    col_keys = list(filter(r.match, labels))\n    col_keys\n\n    labels_filtered = {}\n    for key, value in labels.items():\n        if key in col_keys:\n            labels_filtered[key] = value\n            \n    return labels_filtered\n\nfind_labels(indicators_40)",
    "id": "43f8a2cadcda473a895746f758d51b45",
    "idx": 5,
    "time": "2021-02-10T22:34:19.921Z",
    "type": "execution"
   },
   {
    "code": "first3pairs = {k: variable_labels[k] for k in list(variable_labels)[:32]}\nfirst3pairs",
    "id": "ca44668bcaf3400b8d4f6070974a8649",
    "idx": 6,
    "time": "2021-02-10T22:34:19.926Z",
    "type": "execution"
   },
   {
    "id": "af38968c93ee44748a03a29d070ceecb",
    "time": "2021-02-10T22:34:24.005Z",
    "type": "completion"
   },
   {
    "id": "98dd03733662407ea9ed0705e05ef02d",
    "time": "2021-02-10T22:34:24.092Z",
    "type": "completion"
   },
   {
    "id": "93c79a81062b4c0a9c63564f42254e78",
    "time": "2021-02-10T22:34:24.432Z",
    "type": "completion"
   },
   {
    "id": "de4c030966d64447af2f8cffe587b4d4",
    "time": "2021-02-10T22:34:24.677Z",
    "type": "completion"
   },
   {
    "id": "43f8a2cadcda473a895746f758d51b45",
    "time": "2021-02-10T22:34:24.879Z",
    "type": "completion"
   },
   {
    "id": "ca44668bcaf3400b8d4f6070974a8649",
    "time": "2021-02-10T22:34:24.948Z",
    "type": "completion"
   },
   {
    "code": "variable_labels = find_labels(indicators_40)\n\n# Get the \nchn = wbdata.get_dataframe(first3pairs, freq='Y')\nchn",
    "id": "386d0acefa9f43298601d7a091ef98fc",
    "idx": 7,
    "time": "2021-02-10T22:34:28.778Z",
    "type": "execution"
   },
   {
    "id": "386d0acefa9f43298601d7a091ef98fc",
    "time": "2021-02-10T22:34:32.994Z",
    "type": "completion"
   },
   {
    "code": "first3pairs = {k: variable_labels[k] for k in list(variable_labels)[:10]}\nfirst3pairs",
    "id": "ca44668bcaf3400b8d4f6070974a8649",
    "idx": 6,
    "time": "2021-02-10T22:34:41.744Z",
    "type": "execution"
   },
   {
    "id": "ca44668bcaf3400b8d4f6070974a8649",
    "time": "2021-02-10T22:34:41.843Z",
    "type": "completion"
   },
   {
    "code": "variable_labels = find_labels(indicators_40)\n\n# Get the \nchn = wbdata.get_dataframe(first3pairs, freq='Y')\nchn",
    "id": "386d0acefa9f43298601d7a091ef98fc",
    "idx": 7,
    "time": "2021-02-10T22:34:42.715Z",
    "type": "execution"
   },
   {
    "id": "386d0acefa9f43298601d7a091ef98fc",
    "time": "2021-02-10T22:34:44.809Z",
    "type": "completion"
   },
   {
    "code": "first3pairs = {k: variable_labels[k] for k in list(variable_labels)[:32]}\nfirst3pairs",
    "id": "ca44668bcaf3400b8d4f6070974a8649",
    "idx": 6,
    "time": "2021-02-10T22:35:12.177Z",
    "type": "execution"
   },
   {
    "id": "ca44668bcaf3400b8d4f6070974a8649",
    "time": "2021-02-10T22:35:12.636Z",
    "type": "completion"
   },
   {
    "code": "variable_labels = find_labels(indicators_40)\n\n# Get the \nchn = wbdata.get_dataframe(first3pairs, freq='Y', cache=False)\nchn",
    "id": "386d0acefa9f43298601d7a091ef98fc",
    "idx": 7,
    "time": "2021-02-10T22:35:15.939Z",
    "type": "execution"
   },
   {
    "code": "first3pairs = {k: variable_labels[k] for k in list(variable_labels)[:32]}\nfirst3pairs",
    "id": "ca44668bcaf3400b8d4f6070974a8649",
    "idx": 6,
    "time": "2021-02-10T22:36:45.791Z",
    "type": "execution"
   },
   {
    "code": "first3pairs = {k: variable_labels[k] for k in list(variable_labels)[:32]}\nfirst3pairs",
    "id": "ca44668bcaf3400b8d4f6070974a8649",
    "idx": 6,
    "time": "2021-02-10T22:36:59.117Z",
    "type": "execution"
   },
   {
    "code": "variable_labels = find_labels(indicators_40)\n\n# Get the \nchn = wbdata.get_dataframe(first3pairs, freq='Y', cache=False)\nchn",
    "id": "386d0acefa9f43298601d7a091ef98fc",
    "idx": 7,
    "time": "2021-02-10T22:36:59.576Z",
    "type": "execution"
   },
   {
    "id": "ca44668bcaf3400b8d4f6070974a8649",
    "time": "2021-02-10T22:37:05.061Z",
    "type": "completion"
   },
   {
    "id": "ca44668bcaf3400b8d4f6070974a8649",
    "time": "2021-02-10T22:37:05.061Z",
    "type": "completion"
   },
   {
    "id": "386d0acefa9f43298601d7a091ef98fc",
    "time": "2021-02-10T22:37:05.063Z",
    "type": "completion"
   },
   {
    "id": "386d0acefa9f43298601d7a091ef98fc",
    "time": "2021-02-10T22:37:05.063Z",
    "type": "completion"
   },
   {
    "code": "first3pairs = {k: variable_labels[k] for k in list(variable_labels)[:32]}\nfirst3pairs",
    "id": "ca44668bcaf3400b8d4f6070974a8649",
    "idx": 6,
    "time": "2021-02-10T22:38:36.763Z",
    "type": "execution"
   },
   {
    "id": "ca44668bcaf3400b8d4f6070974a8649",
    "time": "2021-02-10T22:38:36.834Z",
    "type": "completion"
   },
   {
    "code": "variable_labels = find_labels(indicators_40)\n\n# Get the \nchn = wbdata.get_dataframe(first3pairs, freq='Y')\nchn",
    "id": "386d0acefa9f43298601d7a091ef98fc",
    "idx": 7,
    "time": "2021-02-10T22:38:43.554Z",
    "type": "execution"
   },
   {
    "id": "386d0acefa9f43298601d7a091ef98fc",
    "time": "2021-02-10T22:38:47.674Z",
    "type": "completion"
   },
   {
    "code": "# Takes in an indicator object and returns a dictionary of filtered column labels.\ndef find_labels(indicators):\n    labels = {}\n\n    for i in range(len(indicators)):\n        col_id = indicators[i]['id']\n        col_name = indicators[i]['name']\n        labels[col_id] = col_name\n\n    # Select items in the list that contain relevant population data by filtering through string patterns.\n    r = re.compile(\"(SP.POP).[\\d]{2}[A-Z0-9]{2}.[MAFE]{2}$\")\n    col_keys = list(filter(r.match, labels))\n    col_keys\n\n    labels_filtered = {}\n    for key, value in labels.items():\n        if key in col_keys:\n            labels_filtered[key] = value\n            \n    return labels_filtered",
    "id": "43f8a2cadcda473a895746f758d51b45",
    "idx": 5,
    "time": "2021-02-10T22:39:02.692Z",
    "type": "execution"
   },
   {
    "id": "43f8a2cadcda473a895746f758d51b45",
    "time": "2021-02-10T22:39:02.757Z",
    "type": "completion"
   },
   {
    "code": "variable_labels = find_labels(indicators_40)\n\n# Get the \nchn = wbdata.get_dataframe(first3pairs, freq='Y')\nchn",
    "id": "386d0acefa9f43298601d7a091ef98fc",
    "idx": 7,
    "time": "2021-02-10T22:41:27.562Z",
    "type": "execution"
   },
   {
    "id": "386d0acefa9f43298601d7a091ef98fc",
    "time": "2021-02-10T22:41:32.491Z",
    "type": "completion"
   },
   {
    "code": "!pip install wbdata\n\nimport wbdata\nimport numpy as np\nimport re ",
    "id": "af38968c93ee44748a03a29d070ceecb",
    "idx": 0,
    "time": "2021-02-10T22:43:37.947Z",
    "type": "execution"
   },
   {
    "code": "# Return list of all country/region codes:\nwbdata.get_country()",
    "id": "98dd03733662407ea9ed0705e05ef02d",
    "idx": 1,
    "time": "2021-02-10T22:43:37.965Z",
    "type": "execution"
   },
   {
    "code": "wbdata.get_source()",
    "id": "93c79a81062b4c0a9c63564f42254e78",
    "idx": 3,
    "time": "2021-02-10T22:43:37.977Z",
    "type": "execution"
   },
   {
    "code": "SOURCE = 40 # \"Population estimates and projections\"\n\nindicators_40 = wbdata.get_indicator(source=SOURCE)\nindicators_40",
    "id": "de4c030966d64447af2f8cffe587b4d4",
    "idx": 4,
    "time": "2021-02-10T22:43:37.982Z",
    "type": "execution"
   },
   {
    "code": "# Takes in an indicator object and returns a dictionary of filtered column labels.\ndef find_labels(indicators):\n    labels = {}\n\n    for i in range(len(indicators)):\n        col_id = indicators[i]['id']\n        col_name = indicators[i]['name']\n        labels[col_id] = col_name\n\n    # Select items in the list that contain relevant population data by filtering through string patterns.\n    r = re.compile(\"(SP.POP).[\\d]{2}[A-Z0-9]{2}.[MAFE]{2}$\")\n    col_keys = list(filter(r.match, labels))\n    col_keys\n\n    labels_filtered = {}\n    for key, value in labels.items():\n        if key in col_keys:\n            labels_filtered[key] = value\n            \n    return labels_filtered",
    "id": "43f8a2cadcda473a895746f758d51b45",
    "idx": 5,
    "time": "2021-02-10T22:43:37.990Z",
    "type": "execution"
   },
   {
    "code": "first3pairs = {k: variable_labels[k] for k in list(variable_labels)[:32]}\nfirst3pairs",
    "id": "ca44668bcaf3400b8d4f6070974a8649",
    "idx": 6,
    "time": "2021-02-10T22:43:37.995Z",
    "type": "execution"
   },
   {
    "code": "variable_labels = find_labels(indicators_40)\n\n# Get the \nchn = wbdata.get_dataframe(first3pairs, freq='Y')\nchn",
    "id": "386d0acefa9f43298601d7a091ef98fc",
    "idx": 7,
    "time": "2021-02-10T22:43:40.779Z",
    "type": "execution"
   },
   {
    "id": "af38968c93ee44748a03a29d070ceecb",
    "time": "2021-02-10T22:43:42.945Z",
    "type": "completion"
   },
   {
    "id": "98dd03733662407ea9ed0705e05ef02d",
    "time": "2021-02-10T22:43:43.047Z",
    "type": "completion"
   },
   {
    "id": "93c79a81062b4c0a9c63564f42254e78",
    "time": "2021-02-10T22:43:43.064Z",
    "type": "completion"
   },
   {
    "id": "de4c030966d64447af2f8cffe587b4d4",
    "time": "2021-02-10T22:43:43.308Z",
    "type": "completion"
   },
   {
    "id": "43f8a2cadcda473a895746f758d51b45",
    "time": "2021-02-10T22:43:43.678Z",
    "type": "completion"
   },
   {
    "id": "ca44668bcaf3400b8d4f6070974a8649",
    "time": "2021-02-10T22:43:43.707Z",
    "type": "completion"
   },
   {
    "id": "386d0acefa9f43298601d7a091ef98fc",
    "time": "2021-02-10T22:43:43.720Z",
    "type": "completion"
   },
   {
    "code": "variable_labels = find_labels(indicators_40)\n\n# Get the \nchn = wbdata.get_dataframe(first3pairs, freq='Y')\nchn",
    "id": "386d0acefa9f43298601d7a091ef98fc",
    "idx": 6,
    "time": "2021-02-10T22:44:05.601Z",
    "type": "execution"
   },
   {
    "id": "386d0acefa9f43298601d7a091ef98fc",
    "time": "2021-02-10T22:44:05.719Z",
    "type": "completion"
   },
   {
    "code": "variable_labels = find_labels(indicators_40)\n\n# Get the \nchn = wbdata.get_dataframe(variable_labels, freq='Y')\nchn",
    "id": "386d0acefa9f43298601d7a091ef98fc",
    "idx": 6,
    "time": "2021-02-10T22:44:24.865Z",
    "type": "execution"
   },
   {
    "id": "386d0acefa9f43298601d7a091ef98fc",
    "time": "2021-02-10T22:44:28.819Z",
    "type": "completion"
   },
   {
    "code": "first3pairs = {k: variable_labels[k] for k in list(variable_labels)[:10]}\nfirst3pairs",
    "id": "23224d59ce744a75a373b845523b0455",
    "idx": 8,
    "time": "2021-02-10T22:44:46.099Z",
    "type": "execution"
   },
   {
    "id": "23224d59ce744a75a373b845523b0455",
    "time": "2021-02-10T22:44:46.215Z",
    "type": "completion"
   },
   {
    "code": "variable_labels = find_labels(indicators_40)\n\n# Get the \nchn = wbdata.get_dataframe(first3pairs, freq='Y')\nchn",
    "id": "386d0acefa9f43298601d7a091ef98fc",
    "idx": 6,
    "time": "2021-02-10T22:44:52.166Z",
    "type": "execution"
   },
   {
    "id": "386d0acefa9f43298601d7a091ef98fc",
    "time": "2021-02-10T22:44:54.254Z",
    "type": "completion"
   },
   {
    "code": "first3pairs = {k: variable_labels[k] for k in list(variable_labels)[:20]}\nfirst3pairs",
    "id": "23224d59ce744a75a373b845523b0455",
    "idx": 8,
    "time": "2021-02-10T22:45:04.549Z",
    "type": "execution"
   },
   {
    "id": "23224d59ce744a75a373b845523b0455",
    "time": "2021-02-10T22:45:04.631Z",
    "type": "completion"
   },
   {
    "code": "variable_labels = find_labels(indicators_40)\n\n# Get the \nchn = wbdata.get_dataframe(first3pairs, freq='Y')\nchn",
    "id": "386d0acefa9f43298601d7a091ef98fc",
    "idx": 6,
    "time": "2021-02-10T22:45:07.426Z",
    "type": "execution"
   },
   {
    "id": "386d0acefa9f43298601d7a091ef98fc",
    "time": "2021-02-10T22:45:11.102Z",
    "type": "completion"
   },
   {
    "code": "first3pairs = {k: variable_labels[k] for k in list(variable_labels)[:25]}\nfirst3pairs",
    "id": "23224d59ce744a75a373b845523b0455",
    "idx": 8,
    "time": "2021-02-10T22:45:53.409Z",
    "type": "execution"
   },
   {
    "id": "23224d59ce744a75a373b845523b0455",
    "time": "2021-02-10T22:45:53.569Z",
    "type": "completion"
   },
   {
    "code": "variable_labels = find_labels(indicators_40)\n\n# Get the \nchn = wbdata.get_dataframe(first3pairs, freq='Y')\nchn",
    "id": "386d0acefa9f43298601d7a091ef98fc",
    "idx": 6,
    "time": "2021-02-10T22:45:58.695Z",
    "type": "execution"
   },
   {
    "id": "386d0acefa9f43298601d7a091ef98fc",
    "time": "2021-02-10T22:46:03.569Z",
    "type": "completion"
   },
   {
    "code": "first3pairs = {k: variable_labels[k] for k in list(variable_labels)[:30]}\nfirst3pairs",
    "id": "23224d59ce744a75a373b845523b0455",
    "idx": 8,
    "time": "2021-02-10T22:46:19.873Z",
    "type": "execution"
   },
   {
    "id": "23224d59ce744a75a373b845523b0455",
    "time": "2021-02-10T22:46:19.973Z",
    "type": "completion"
   },
   {
    "code": "variable_labels = find_labels(indicators_40)\n\n# Get the \nchn = wbdata.get_dataframe(first3pairs, freq='Y')\nchn",
    "id": "386d0acefa9f43298601d7a091ef98fc",
    "idx": 6,
    "time": "2021-02-10T22:46:22.946Z",
    "type": "execution"
   },
   {
    "id": "386d0acefa9f43298601d7a091ef98fc",
    "time": "2021-02-10T22:46:26.986Z",
    "type": "completion"
   },
   {
    "code": "first3pairs = {k: variable_labels[k] for k in list(variable_labels)[30]}\nfirst3pairs",
    "id": "23224d59ce744a75a373b845523b0455",
    "idx": 8,
    "time": "2021-02-10T22:46:41.718Z",
    "type": "execution"
   },
   {
    "id": "23224d59ce744a75a373b845523b0455",
    "time": "2021-02-10T22:46:41.833Z",
    "type": "completion"
   },
   {
    "code": "first3pairs = {k: variable_labels[k] for k in list(variable_labels)[:30]}\nfirst3pairs",
    "id": "23224d59ce744a75a373b845523b0455",
    "idx": 8,
    "time": "2021-02-10T22:46:55.872Z",
    "type": "execution"
   },
   {
    "id": "23224d59ce744a75a373b845523b0455",
    "time": "2021-02-10T22:46:56.168Z",
    "type": "completion"
   },
   {
    "code": "first3pairs = {k: variable_labels[k] for k in list(variable_labels)[30]}\nfirst3pairs",
    "id": "23224d59ce744a75a373b845523b0455",
    "idx": 8,
    "time": "2021-02-10T22:46:59.292Z",
    "type": "execution"
   },
   {
    "id": "23224d59ce744a75a373b845523b0455",
    "time": "2021-02-10T22:46:59.393Z",
    "type": "completion"
   },
   {
    "code": "variable_labels[30]",
    "id": "a38c9ff758ce49e886d26ff1fb5130d3",
    "idx": 6,
    "time": "2021-02-10T22:47:11.028Z",
    "type": "execution"
   },
   {
    "id": "a38c9ff758ce49e886d26ff1fb5130d3",
    "time": "2021-02-10T22:47:11.117Z",
    "type": "completion"
   },
   {
    "code": "first3pairs = {k: variable_labels[k] for k in list(variable_labels)[:30]}\nfirst3pairs",
    "id": "23224d59ce744a75a373b845523b0455",
    "idx": 8,
    "time": "2021-02-10T22:47:23.799Z",
    "type": "execution"
   },
   {
    "id": "23224d59ce744a75a373b845523b0455",
    "time": "2021-02-10T22:47:24.000Z",
    "type": "completion"
   },
   {
    "code": "variable_labels.items()[30]",
    "id": "49b355607307484b898402353af5fdb1",
    "idx": 7,
    "time": "2021-02-10T22:47:59.702Z",
    "type": "execution"
   },
   {
    "id": "49b355607307484b898402353af5fdb1",
    "time": "2021-02-10T22:47:59.771Z",
    "type": "completion"
   },
   {
    "code": "variable_labels.keys()[30]",
    "id": "49b355607307484b898402353af5fdb1",
    "idx": 7,
    "time": "2021-02-10T22:48:05.504Z",
    "type": "execution"
   },
   {
    "id": "49b355607307484b898402353af5fdb1",
    "time": "2021-02-10T22:48:05.602Z",
    "type": "completion"
   },
   {
    "code": "list(variable_labels.items())[30]",
    "id": "49b355607307484b898402353af5fdb1",
    "idx": 7,
    "time": "2021-02-10T22:48:15.644Z",
    "type": "execution"
   },
   {
    "id": "49b355607307484b898402353af5fdb1",
    "time": "2021-02-10T22:48:15.809Z",
    "type": "completion"
   },
   {
    "code": "variable_labels = find_labels(indicators_40)\n\n# Get the \nchn = wbdata.get_dataframe({'SP.POP.7579.FE', 'Population ages 75-79, female'}, freq='Y')\nchn",
    "id": "386d0acefa9f43298601d7a091ef98fc",
    "idx": 6,
    "time": "2021-02-10T22:49:01.973Z",
    "type": "execution"
   },
   {
    "id": "386d0acefa9f43298601d7a091ef98fc",
    "time": "2021-02-10T22:49:02.354Z",
    "type": "completion"
   },
   {
    "code": "variable_labels = find_labels(indicators_40)\n\n# Get the \nchn = wbdata.get_dataframe({'SP.POP.7579.FE': 'Population ages 75-79, female'}, freq='Y')\nchn",
    "id": "386d0acefa9f43298601d7a091ef98fc",
    "idx": 6,
    "time": "2021-02-10T22:49:08.112Z",
    "type": "execution"
   },
   {
    "id": "386d0acefa9f43298601d7a091ef98fc",
    "time": "2021-02-10T22:49:32.159Z",
    "type": "completion"
   },
   {
    "code": "list(variable_labels.items())[27]",
    "id": "49b355607307484b898402353af5fdb1",
    "idx": 7,
    "time": "2021-02-10T22:49:46.800Z",
    "type": "execution"
   },
   {
    "id": "49b355607307484b898402353af5fdb1",
    "time": "2021-02-10T22:49:46.878Z",
    "type": "completion"
   },
   {
    "code": "list(variable_labels.items())[27]",
    "id": "49b355607307484b898402353af5fdb1",
    "idx": 7,
    "time": "2021-02-10T22:50:06.310Z",
    "type": "execution"
   },
   {
    "id": "49b355607307484b898402353af5fdb1",
    "time": "2021-02-10T22:50:06.443Z",
    "type": "completion"
   },
   {
    "code": "first3pairs = {k: variable_labels[k] for k in list(variable_labels)[:26]}\nfirst3pairs",
    "id": "23224d59ce744a75a373b845523b0455",
    "idx": 8,
    "time": "2021-02-10T22:50:12.960Z",
    "type": "execution"
   },
   {
    "id": "23224d59ce744a75a373b845523b0455",
    "time": "2021-02-10T22:50:13.063Z",
    "type": "completion"
   },
   {
    "code": "variable_labels = find_labels(indicators_40)\n\n# Get the \nchn = wbdata.get_dataframe(first3pairs, freq='Y')\nchn",
    "id": "386d0acefa9f43298601d7a091ef98fc",
    "idx": 6,
    "time": "2021-02-10T22:50:31.472Z",
    "type": "execution"
   },
   {
    "id": "386d0acefa9f43298601d7a091ef98fc",
    "time": "2021-02-10T22:50:36.464Z",
    "type": "completion"
   },
   {
    "code": "first3pairs = {k: variable_labels[k] for k in list(variable_labels)[:27]}\nfirst3pairs",
    "id": "23224d59ce744a75a373b845523b0455",
    "idx": 8,
    "time": "2021-02-10T22:50:43.054Z",
    "type": "execution"
   },
   {
    "id": "23224d59ce744a75a373b845523b0455",
    "time": "2021-02-10T22:50:43.261Z",
    "type": "completion"
   },
   {
    "code": "variable_labels = find_labels(indicators_40)\n\n# Get the \nchn = wbdata.get_dataframe(first3pairs, freq='Y')\nchn",
    "id": "386d0acefa9f43298601d7a091ef98fc",
    "idx": 6,
    "time": "2021-02-10T22:50:51.301Z",
    "type": "execution"
   },
   {
    "id": "386d0acefa9f43298601d7a091ef98fc",
    "time": "2021-02-10T22:50:56.569Z",
    "type": "completion"
   },
   {
    "code": "first3pairs = {k: variable_labels[k] for k in list(variable_labels)[:28]}\nfirst3pairs",
    "id": "23224d59ce744a75a373b845523b0455",
    "idx": 8,
    "time": "2021-02-10T22:51:01.206Z",
    "type": "execution"
   },
   {
    "id": "23224d59ce744a75a373b845523b0455",
    "time": "2021-02-10T22:51:01.375Z",
    "type": "completion"
   },
   {
    "code": "variable_labels = find_labels(indicators_40)\n\n# Get the \nchn = wbdata.get_dataframe(first3pairs, freq='Y')\nchn",
    "id": "386d0acefa9f43298601d7a091ef98fc",
    "idx": 6,
    "time": "2021-02-10T22:51:03.172Z",
    "type": "execution"
   },
   {
    "id": "386d0acefa9f43298601d7a091ef98fc",
    "time": "2021-02-10T22:51:08.492Z",
    "type": "completion"
   },
   {
    "code": "first3pairs = {k: variable_labels[k] for k in list(variable_labels)[:29]}\nfirst3pairs",
    "id": "23224d59ce744a75a373b845523b0455",
    "idx": 8,
    "time": "2021-02-10T22:51:12.535Z",
    "type": "execution"
   },
   {
    "id": "23224d59ce744a75a373b845523b0455",
    "time": "2021-02-10T22:51:12.676Z",
    "type": "completion"
   },
   {
    "code": "variable_labels = find_labels(indicators_40)\n\n# Get the \nchn = wbdata.get_dataframe(first3pairs, freq='Y')\nchn",
    "id": "386d0acefa9f43298601d7a091ef98fc",
    "idx": 6,
    "time": "2021-02-10T22:51:15.524Z",
    "type": "execution"
   },
   {
    "id": "386d0acefa9f43298601d7a091ef98fc",
    "time": "2021-02-10T22:51:19.574Z",
    "type": "completion"
   },
   {
    "code": "list(variable_labels.items())[29]",
    "id": "49b355607307484b898402353af5fdb1",
    "idx": 7,
    "time": "2021-02-10T22:51:28.079Z",
    "type": "execution"
   },
   {
    "id": "49b355607307484b898402353af5fdb1",
    "time": "2021-02-10T22:51:28.210Z",
    "type": "completion"
   },
   {
    "code": "variable_labels = find_labels(indicators_40)\n\n# Get the \nchn = wbdata.get_dataframe({'SP.POP.7074.FE': 'Population ages 70-74, female'}, freq='Y')\nchn",
    "id": "386d0acefa9f43298601d7a091ef98fc",
    "idx": 6,
    "time": "2021-02-10T22:52:02.335Z",
    "type": "execution"
   },
   {
    "id": "386d0acefa9f43298601d7a091ef98fc",
    "time": "2021-02-10T22:52:02.573Z",
    "type": "completion"
   },
   {
    "code": "first3pairs = {k: variable_labels[k] for k in list(variable_labels)[29]}\nfirst3pairs",
    "id": "23224d59ce744a75a373b845523b0455",
    "idx": 8,
    "time": "2021-02-10T22:54:43.087Z",
    "type": "execution"
   },
   {
    "id": "23224d59ce744a75a373b845523b0455",
    "time": "2021-02-10T22:54:43.433Z",
    "type": "completion"
   },
   {
    "code": "first3pairs = {k: variable_labels[k] for k in list(variable_labels)[:29]}\nfirst3pairs",
    "id": "23224d59ce744a75a373b845523b0455",
    "idx": 8,
    "time": "2021-02-10T22:54:47.927Z",
    "type": "execution"
   },
   {
    "id": "23224d59ce744a75a373b845523b0455",
    "time": "2021-02-10T22:54:48.154Z",
    "type": "completion"
   },
   {
    "code": "first3pairs = {k: variable_labels[k] for k in list(variable_labels)[:28]}\nfirst3pairs",
    "id": "23224d59ce744a75a373b845523b0455",
    "idx": 8,
    "time": "2021-02-10T22:55:00.236Z",
    "type": "execution"
   },
   {
    "id": "23224d59ce744a75a373b845523b0455",
    "time": "2021-02-10T22:55:00.593Z",
    "type": "completion"
   },
   {
    "code": "first3pairs = {k: variable_labels[k] for k in list(variable_labels)[28]}\nfirst3pairs",
    "id": "23224d59ce744a75a373b845523b0455",
    "idx": 8,
    "time": "2021-02-10T22:55:02.217Z",
    "type": "execution"
   },
   {
    "id": "23224d59ce744a75a373b845523b0455",
    "time": "2021-02-10T22:55:02.391Z",
    "type": "completion"
   },
   {
    "code": "first3pairs = {k: variable_labels[k] for k in list(variable_labels)[1]}\nfirst3pairs",
    "id": "23224d59ce744a75a373b845523b0455",
    "idx": 8,
    "time": "2021-02-10T22:55:05.997Z",
    "type": "execution"
   },
   {
    "id": "23224d59ce744a75a373b845523b0455",
    "time": "2021-02-10T22:55:06.524Z",
    "type": "completion"
   },
   {
    "code": "first3pairs = {k: variable_labels[k] for k in list(variable_labels)[28]}\nk",
    "id": "23224d59ce744a75a373b845523b0455",
    "idx": 8,
    "time": "2021-02-10T22:55:23.042Z",
    "type": "execution"
   },
   {
    "id": "23224d59ce744a75a373b845523b0455",
    "time": "2021-02-10T22:55:23.298Z",
    "type": "completion"
   },
   {
    "code": "k",
    "id": "7ca93dcfe4d54b268f7607e12a44ad41",
    "idx": 9,
    "time": "2021-02-10T22:55:33.353Z",
    "type": "execution"
   },
   {
    "id": "7ca93dcfe4d54b268f7607e12a44ad41",
    "time": "2021-02-10T22:55:33.535Z",
    "type": "completion"
   },
   {
    "code": "first3pairs = {k: variable_labels[k] for k in list(variable_labels)[:28]}\nfirst3pairs",
    "id": "23224d59ce744a75a373b845523b0455",
    "idx": 8,
    "time": "2021-02-10T22:55:47.008Z",
    "type": "execution"
   },
   {
    "id": "23224d59ce744a75a373b845523b0455",
    "time": "2021-02-10T22:55:47.296Z",
    "type": "completion"
   },
   {
    "code": "first3pairs = {k: variable_labels[k] for k in list(variable_labels)[:29]}\nfirst3pairs",
    "id": "23224d59ce744a75a373b845523b0455",
    "idx": 8,
    "time": "2021-02-10T22:55:53.763Z",
    "type": "execution"
   },
   {
    "id": "23224d59ce744a75a373b845523b0455",
    "time": "2021-02-10T22:55:53.994Z",
    "type": "completion"
   },
   {
    "code": "list(variable_labels.items())[28]",
    "id": "49b355607307484b898402353af5fdb1",
    "idx": 7,
    "time": "2021-02-10T22:56:06.244Z",
    "type": "execution"
   },
   {
    "id": "49b355607307484b898402353af5fdb1",
    "time": "2021-02-10T22:56:08.586Z",
    "type": "completion"
   },
   {
    "code": "first3pairs = {k: variable_labels[k] for k in list(variable_labels)[30:32]}\nfirst3pairs",
    "id": "23224d59ce744a75a373b845523b0455",
    "idx": 8,
    "time": "2021-02-10T22:56:48.179Z",
    "type": "execution"
   },
   {
    "id": "23224d59ce744a75a373b845523b0455",
    "time": "2021-02-10T22:56:48.276Z",
    "type": "completion"
   },
   {
    "code": "first3pairs = {k: variable_labels[k] for k in list(variable_labels)[30:]}\nfirst3pairs",
    "id": "23224d59ce744a75a373b845523b0455",
    "idx": 8,
    "time": "2021-02-10T22:56:53.670Z",
    "type": "execution"
   },
   {
    "id": "23224d59ce744a75a373b845523b0455",
    "time": "2021-02-10T22:56:53.778Z",
    "type": "completion"
   },
   {
    "code": "first3pairs = {k: variable_labels[k] for k in list(variable_labels)[30:]}\nfirst3pairs",
    "id": "23224d59ce744a75a373b845523b0455",
    "idx": 8,
    "time": "2021-02-10T22:56:57.045Z",
    "type": "execution"
   },
   {
    "id": "23224d59ce744a75a373b845523b0455",
    "time": "2021-02-10T22:56:57.161Z",
    "type": "completion"
   },
   {
    "code": "variable_labels = find_labels(indicators_40)\n\n# Get the \nchn = wbdata.get_dataframe(first3pairs, freq='Y')\nchn",
    "id": "386d0acefa9f43298601d7a091ef98fc",
    "idx": 6,
    "time": "2021-02-10T22:57:03.509Z",
    "type": "execution"
   },
   {
    "code": "variable_labels = find_labels(indicators_40)\n\n# Get the \nchn = wbdata.get_dataframe({'SP.POP.7579.MA': 'Population ages 75-79, male'}, freq='Y')\nchn",
    "id": "386d0acefa9f43298601d7a091ef98fc",
    "idx": 6,
    "time": "2021-02-10T22:58:00.679Z",
    "type": "execution"
   },
   {
    "id": "386d0acefa9f43298601d7a091ef98fc",
    "time": "2021-02-10T22:58:15.816Z",
    "type": "completion"
   },
   {
    "id": "386d0acefa9f43298601d7a091ef98fc",
    "time": "2021-02-10T22:58:15.816Z",
    "type": "completion"
   },
   {
    "code": "variable_labels = find_labels(indicators_40)\n\n# Get the \nchn = wbdata.get_dataframe({'SP.POP.7579.FE': 'Population ages 75-79, female'}, freq='Y')\nchn",
    "id": "386d0acefa9f43298601d7a091ef98fc",
    "idx": 6,
    "time": "2021-02-10T22:58:31.786Z",
    "type": "execution"
   },
   {
    "id": "386d0acefa9f43298601d7a091ef98fc",
    "time": "2021-02-10T22:58:32.183Z",
    "type": "completion"
   },
   {
    "code": "first3pairs = {k: variable_labels[k] for k in list(variable_labels)[29:]}\nfirst3pairs",
    "id": "23224d59ce744a75a373b845523b0455",
    "idx": 8,
    "time": "2021-02-10T22:58:41.812Z",
    "type": "execution"
   },
   {
    "id": "23224d59ce744a75a373b845523b0455",
    "time": "2021-02-10T22:58:42.306Z",
    "type": "completion"
   },
   {
    "code": "first3pairs = {k: variable_labels[k] for k in list(variable_labels)[28:]}\nfirst3pairs",
    "id": "23224d59ce744a75a373b845523b0455",
    "idx": 8,
    "time": "2021-02-10T22:58:47.546Z",
    "type": "execution"
   },
   {
    "id": "23224d59ce744a75a373b845523b0455",
    "time": "2021-02-10T22:58:47.722Z",
    "type": "completion"
   },
   {
    "code": "variable_labels = find_labels(indicators_40)\n\n# Get the \nchn = wbdata.get_dataframe({'SP.POP.7074.FE': 'Population ages 70-74, female'}, freq='Y')\nchn",
    "id": "386d0acefa9f43298601d7a091ef98fc",
    "idx": 6,
    "time": "2021-02-10T22:58:58.220Z",
    "type": "execution"
   },
   {
    "id": "386d0acefa9f43298601d7a091ef98fc",
    "time": "2021-02-10T22:58:58.553Z",
    "type": "completion"
   },
   {
    "code": "variable_labels = find_labels(indicators_40)\n\n# Get the \nchn = wbdata.get_dataframe({'SP.POP.7074.MA': 'Population ages 70-74, male'}, freq='Y')\nchn",
    "id": "386d0acefa9f43298601d7a091ef98fc",
    "idx": 6,
    "time": "2021-02-10T22:59:18.017Z",
    "type": "execution"
   },
   {
    "id": "386d0acefa9f43298601d7a091ef98fc",
    "time": "2021-02-10T22:59:37.829Z",
    "type": "completion"
   },
   {
    "code": "variable_labels = find_labels(indicators_40)\n\n# Get the \nchn = wbdata.get_dataframe({'SP.POP.7579.FE': 'Population ages 75-79, female'}, freq='Y')\nchn",
    "id": "386d0acefa9f43298601d7a091ef98fc",
    "idx": 6,
    "time": "2021-02-10T22:59:48.783Z",
    "type": "execution"
   },
   {
    "id": "386d0acefa9f43298601d7a091ef98fc",
    "time": "2021-02-10T22:59:49.003Z",
    "type": "completion"
   },
   {
    "code": "variable_labels = find_labels(indicators_40)\n\n# Get the \nchn = wbdata.get_dataframe({'SP.POP.7579.MA': 'Population ages 75-79, male'}, freq='Y')\nchn",
    "id": "386d0acefa9f43298601d7a091ef98fc",
    "idx": 6,
    "time": "2021-02-10T23:00:11.692Z",
    "type": "execution"
   },
   {
    "id": "386d0acefa9f43298601d7a091ef98fc",
    "time": "2021-02-10T23:00:14.877Z",
    "type": "completion"
   },
   {
    "code": "variable_labels = find_labels(indicators_40)\n\n# Get the \nchn = wbdata.get_dataframe({'SP.POP.80UP.FE': 'Population ages 80 and above, female',\n 'SP.POP.80UP.MA': 'Population ages 80 and above, male'}, freq='Y')\nchn",
    "id": "386d0acefa9f43298601d7a091ef98fc",
    "idx": 6,
    "time": "2021-02-10T23:00:33.794Z",
    "type": "execution"
   },
   {
    "id": "386d0acefa9f43298601d7a091ef98fc",
    "time": "2021-02-10T23:00:34.414Z",
    "type": "completion"
   },
   {
    "code": "variable_labels = find_labels(indicators_40)\n\n# Get the \nchn = wbdata.get_dataframe({'SP.POP.7074.FE': 'Population ages 70-74, female'}, freq='Y')\nchn",
    "id": "386d0acefa9f43298601d7a091ef98fc",
    "idx": 6,
    "time": "2021-02-10T23:01:09.618Z",
    "type": "execution"
   },
   {
    "id": "386d0acefa9f43298601d7a091ef98fc",
    "time": "2021-02-10T23:01:10.525Z",
    "type": "completion"
   },
   {
    "code": "variable_labels = find_labels(indicators_40)\n\n# Get the \nchn = wbdata.get_dataframe({'SP.POP.7074.FE': 'Population ages 70-74, female'})\nchn",
    "id": "386d0acefa9f43298601d7a091ef98fc",
    "idx": 6,
    "time": "2021-02-10T23:01:13.828Z",
    "type": "execution"
   },
   {
    "id": "386d0acefa9f43298601d7a091ef98fc",
    "time": "2021-02-10T23:01:14.275Z",
    "type": "completion"
   },
   {
    "code": "variable_labels = find_labels(indicators_40)\n\n# Get the \nchn = wbdata.get_dataframe({'SP.POP.7074.FE': 'Population ages 70-74, female'}, freq='Y')\nchn",
    "id": "386d0acefa9f43298601d7a091ef98fc",
    "idx": 6,
    "time": "2021-02-10T23:03:13.328Z",
    "type": "execution"
   },
   {
    "id": "386d0acefa9f43298601d7a091ef98fc",
    "time": "2021-02-10T23:03:14.085Z",
    "type": "completion"
   },
   {
    "code": "variable_labels = find_labels(indicators_40)\n\n# Get the \nchn = wbdata.get_dataframe({'SP.POP.7074.FE': 'Population ages 70-74, female'}, freq='Y')\nchn",
    "id": "386d0acefa9f43298601d7a091ef98fc",
    "idx": 6,
    "time": "2021-02-10T23:03:26.590Z",
    "type": "execution"
   },
   {
    "id": "386d0acefa9f43298601d7a091ef98fc",
    "time": "2021-02-10T23:03:27.076Z",
    "type": "completion"
   },
   {
    "code": "!pip install wbdata\n\nimport wbdata\nimport numpy as np\nimport re ",
    "id": "af38968c93ee44748a03a29d070ceecb",
    "idx": 0,
    "time": "2021-02-10T23:04:07.848Z",
    "type": "execution"
   },
   {
    "code": "# Return list of all country/region codes:\nwbdata.get_country()",
    "id": "98dd03733662407ea9ed0705e05ef02d",
    "idx": 1,
    "time": "2021-02-10T23:04:07.855Z",
    "type": "execution"
   },
   {
    "code": "wbdata.get_source()",
    "id": "93c79a81062b4c0a9c63564f42254e78",
    "idx": 3,
    "time": "2021-02-10T23:04:07.862Z",
    "type": "execution"
   },
   {
    "code": "SOURCE = 40 # \"Population estimates and projections\"\n\nindicators_40 = wbdata.get_indicator(source=SOURCE)\nindicators_40",
    "id": "de4c030966d64447af2f8cffe587b4d4",
    "idx": 4,
    "time": "2021-02-10T23:04:07.870Z",
    "type": "execution"
   },
   {
    "code": "# Takes in an indicator object and returns a dictionary of filtered column labels.\ndef find_labels(indicators):\n    labels = {}\n\n    for i in range(len(indicators)):\n        col_id = indicators[i]['id']\n        col_name = indicators[i]['name']\n        labels[col_id] = col_name\n\n    # Select items in the list that contain relevant population data by filtering through string patterns.\n    r = re.compile(\"(SP.POP).[\\d]{2}[A-Z0-9]{2}.[MAFE]{2}$\")\n    col_keys = list(filter(r.match, labels))\n    col_keys\n\n    labels_filtered = {}\n    for key, value in labels.items():\n        if key in col_keys:\n            labels_filtered[key] = value\n            \n    return labels_filtered",
    "id": "43f8a2cadcda473a895746f758d51b45",
    "idx": 5,
    "time": "2021-02-10T23:04:07.874Z",
    "type": "execution"
   },
   {
    "id": "af38968c93ee44748a03a29d070ceecb",
    "time": "2021-02-10T23:04:14.876Z",
    "type": "completion"
   },
   {
    "id": "98dd03733662407ea9ed0705e05ef02d",
    "time": "2021-02-10T23:04:15.216Z",
    "type": "completion"
   },
   {
    "id": "93c79a81062b4c0a9c63564f42254e78",
    "time": "2021-02-10T23:04:16.749Z",
    "type": "completion"
   },
   {
    "id": "de4c030966d64447af2f8cffe587b4d4",
    "time": "2021-02-10T23:04:16.964Z",
    "type": "completion"
   },
   {
    "id": "43f8a2cadcda473a895746f758d51b45",
    "time": "2021-02-10T23:04:17.218Z",
    "type": "completion"
   },
   {
    "code": "variable_labels = find_labels(indicators_40)\n\n# Get the \nchn = wbdata.get_dataframe({'SP.POP.7074.FE': 'Population ages 70-74, female'}, freq='Y')\nchn",
    "id": "386d0acefa9f43298601d7a091ef98fc",
    "idx": 6,
    "time": "2021-02-10T23:04:20.786Z",
    "type": "execution"
   },
   {
    "id": "386d0acefa9f43298601d7a091ef98fc",
    "time": "2021-02-10T23:04:30.730Z",
    "type": "completion"
   },
   {
    "code": "variable_labels = find_labels(indicators_40)\n\n# Get the \nchn = wbdata.get_dataframe(variable_labels, freq='Y')\nchn",
    "id": "386d0acefa9f43298601d7a091ef98fc",
    "idx": 6,
    "time": "2021-02-10T23:04:39.094Z",
    "type": "execution"
   },
   {
    "code": "!pip install wbdata\n\nimport wbdata\nimport numpy as np\nimport re ",
    "id": "af38968c93ee44748a03a29d070ceecb",
    "idx": 0,
    "time": "2021-02-10T23:05:37.762Z",
    "type": "execution"
   },
   {
    "code": "# Return list of all country/region codes:\nwbdata.get_country()",
    "id": "98dd03733662407ea9ed0705e05ef02d",
    "idx": 1,
    "time": "2021-02-10T23:05:37.784Z",
    "type": "execution"
   },
   {
    "code": "wbdata.get_source()",
    "id": "93c79a81062b4c0a9c63564f42254e78",
    "idx": 3,
    "time": "2021-02-10T23:05:37.801Z",
    "type": "execution"
   },
   {
    "code": "SOURCE = 40 # \"Population estimates and projections\"\n\nindicators_40 = wbdata.get_indicator(source=SOURCE)\nindicators_40",
    "id": "de4c030966d64447af2f8cffe587b4d4",
    "idx": 4,
    "time": "2021-02-10T23:05:37.811Z",
    "type": "execution"
   },
   {
    "code": "# Takes in an indicator object and returns a dictionary of filtered column labels.\ndef find_labels(indicators):\n    labels = {}\n\n    for i in range(len(indicators)):\n        col_id = indicators[i]['id']\n        col_name = indicators[i]['name']\n        labels[col_id] = col_name\n\n    # Select items in the list that contain relevant population data by filtering through string patterns.\n    r = re.compile(\"(SP.POP).[\\d]{2}[A-Z0-9]{2}.[MAFE]{2}$\")\n    col_keys = list(filter(r.match, labels))\n    col_keys\n\n    labels_filtered = {}\n    for key, value in labels.items():\n        if key in col_keys:\n            labels_filtered[key] = value\n            \n    return labels_filtered",
    "id": "43f8a2cadcda473a895746f758d51b45",
    "idx": 5,
    "time": "2021-02-10T23:05:37.841Z",
    "type": "execution"
   },
   {
    "code": "variable_labels = find_labels(indicators_40)\n\n# Get the \npop_df = wbdata.get_dataframe(variable_labels, freq='Y')\npop_df",
    "id": "386d0acefa9f43298601d7a091ef98fc",
    "idx": 6,
    "time": "2021-02-10T23:05:37.861Z",
    "type": "execution"
   },
   {
    "id": "af38968c93ee44748a03a29d070ceecb",
    "time": "2021-02-10T23:05:45.218Z",
    "type": "completion"
   },
   {
    "id": "98dd03733662407ea9ed0705e05ef02d",
    "time": "2021-02-10T23:05:45.802Z",
    "type": "completion"
   },
   {
    "id": "93c79a81062b4c0a9c63564f42254e78",
    "time": "2021-02-10T23:05:45.981Z",
    "type": "completion"
   },
   {
    "id": "de4c030966d64447af2f8cffe587b4d4",
    "time": "2021-02-10T23:05:46.041Z",
    "type": "completion"
   },
   {
    "id": "43f8a2cadcda473a895746f758d51b45",
    "time": "2021-02-10T23:05:46.044Z",
    "type": "completion"
   },
   {
    "id": "386d0acefa9f43298601d7a091ef98fc",
    "time": "2021-02-10T23:05:46.051Z",
    "type": "completion"
   },
   {
    "id": "386d0acefa9f43298601d7a091ef98fc",
    "time": "2021-02-10T23:05:46.051Z",
    "type": "completion"
   },
   {
    "code": "!pip install wbdata\n\nimport wbdata\nimport numpy as np\nimport re ",
    "id": "af38968c93ee44748a03a29d070ceecb",
    "idx": 0,
    "time": "2021-02-10T23:05:56.498Z",
    "type": "execution"
   },
   {
    "code": "# Return list of all country/region codes:\nwbdata.get_country()",
    "id": "98dd03733662407ea9ed0705e05ef02d",
    "idx": 1,
    "time": "2021-02-10T23:05:58.948Z",
    "type": "execution"
   },
   {
    "code": "wbdata.get_source()",
    "id": "93c79a81062b4c0a9c63564f42254e78",
    "idx": 3,
    "time": "2021-02-10T23:05:59.390Z",
    "type": "execution"
   },
   {
    "code": "SOURCE = 40 # \"Population estimates and projections\"\n\nindicators_40 = wbdata.get_indicator(source=SOURCE)\nindicators_40",
    "id": "de4c030966d64447af2f8cffe587b4d4",
    "idx": 4,
    "time": "2021-02-10T23:05:59.568Z",
    "type": "execution"
   },
   {
    "code": "# Takes in an indicator object and returns a dictionary of filtered column labels.\ndef find_labels(indicators):\n    labels = {}\n\n    for i in range(len(indicators)):\n        col_id = indicators[i]['id']\n        col_name = indicators[i]['name']\n        labels[col_id] = col_name\n\n    # Select items in the list that contain relevant population data by filtering through string patterns.\n    r = re.compile(\"(SP.POP).[\\d]{2}[A-Z0-9]{2}.[MAFE]{2}$\")\n    col_keys = list(filter(r.match, labels))\n    col_keys\n\n    labels_filtered = {}\n    for key, value in labels.items():\n        if key in col_keys:\n            labels_filtered[key] = value\n            \n    return labels_filtered",
    "id": "43f8a2cadcda473a895746f758d51b45",
    "idx": 5,
    "time": "2021-02-10T23:05:59.750Z",
    "type": "execution"
   },
   {
    "code": "variable_labels = find_labels(indicators_40)\n\n# Get the \npop_df = wbdata.get_dataframe(variable_labels, freq='Y')\npop_df",
    "id": "386d0acefa9f43298601d7a091ef98fc",
    "idx": 6,
    "time": "2021-02-10T23:06:00.116Z",
    "type": "execution"
   },
   {
    "id": "af38968c93ee44748a03a29d070ceecb",
    "time": "2021-02-10T23:06:00.854Z",
    "type": "completion"
   },
   {
    "id": "98dd03733662407ea9ed0705e05ef02d",
    "time": "2021-02-10T23:06:00.873Z",
    "type": "completion"
   },
   {
    "id": "93c79a81062b4c0a9c63564f42254e78",
    "time": "2021-02-10T23:06:00.882Z",
    "type": "completion"
   },
   {
    "id": "de4c030966d64447af2f8cffe587b4d4",
    "time": "2021-02-10T23:06:00.888Z",
    "type": "completion"
   },
   {
    "id": "43f8a2cadcda473a895746f758d51b45",
    "time": "2021-02-10T23:06:00.890Z",
    "type": "completion"
   },
   {
    "id": "386d0acefa9f43298601d7a091ef98fc",
    "time": "2021-02-10T23:06:00.892Z",
    "type": "completion"
   },
   {
    "code": "!pip install wbdata\n\nimport wbdata\nimport numpy as np\nimport re ",
    "id": "af38968c93ee44748a03a29d070ceecb",
    "idx": 0,
    "time": "2021-02-10T23:06:18.149Z",
    "type": "execution"
   },
   {
    "id": "af38968c93ee44748a03a29d070ceecb",
    "time": "2021-02-10T23:06:22.291Z",
    "type": "completion"
   },
   {
    "code": "# Return list of all country/region codes:\nwbdata.get_country()",
    "id": "98dd03733662407ea9ed0705e05ef02d",
    "idx": 1,
    "time": "2021-02-10T23:06:28.915Z",
    "type": "execution"
   },
   {
    "id": "98dd03733662407ea9ed0705e05ef02d",
    "time": "2021-02-10T23:06:29.498Z",
    "type": "completion"
   },
   {
    "code": "wbdata.get_source()",
    "id": "93c79a81062b4c0a9c63564f42254e78",
    "idx": 3,
    "time": "2021-02-10T23:06:31.722Z",
    "type": "execution"
   },
   {
    "code": "SOURCE = 40 # \"Population estimates and projections\"\n\nindicators_40 = wbdata.get_indicator(source=SOURCE)\nindicators_40",
    "id": "de4c030966d64447af2f8cffe587b4d4",
    "idx": 4,
    "time": "2021-02-10T23:06:31.945Z",
    "type": "execution"
   },
   {
    "id": "93c79a81062b4c0a9c63564f42254e78",
    "time": "2021-02-10T23:06:32.307Z",
    "type": "completion"
   },
   {
    "id": "de4c030966d64447af2f8cffe587b4d4",
    "time": "2021-02-10T23:06:32.366Z",
    "type": "completion"
   },
   {
    "code": "SOURCE = 40 # \"Population estimates and projections\"\n\nindicators_40 = wbdata.get_indicator(source=SOURCE)\nindicators_40",
    "id": "de4c030966d64447af2f8cffe587b4d4",
    "idx": 4,
    "time": "2021-02-10T23:06:36.572Z",
    "type": "execution"
   },
   {
    "id": "de4c030966d64447af2f8cffe587b4d4",
    "time": "2021-02-10T23:06:36.796Z",
    "type": "completion"
   },
   {
    "code": "# Takes in an indicator object and returns a dictionary of filtered column labels.\ndef find_labels(indicators):\n    labels = {}\n\n    for i in range(len(indicators)):\n        col_id = indicators[i]['id']\n        col_name = indicators[i]['name']\n        labels[col_id] = col_name\n\n    # Select items in the list that contain relevant population data by filtering through string patterns.\n    r = re.compile(\"(SP.POP).[\\d]{2}[A-Z0-9]{2}.[MAFE]{2}$\")\n    col_keys = list(filter(r.match, labels))\n    col_keys\n\n    labels_filtered = {}\n    for key, value in labels.items():\n        if key in col_keys:\n            labels_filtered[key] = value\n            \n    return labels_filtered",
    "id": "43f8a2cadcda473a895746f758d51b45",
    "idx": 5,
    "time": "2021-02-10T23:06:40.224Z",
    "type": "execution"
   },
   {
    "code": "variable_labels = find_labels(indicators_40)\n\n# Get the \npop_df = wbdata.get_dataframe(variable_labels, freq='Y')\npop_df",
    "id": "386d0acefa9f43298601d7a091ef98fc",
    "idx": 6,
    "time": "2021-02-10T23:06:40.449Z",
    "type": "execution"
   },
   {
    "id": "43f8a2cadcda473a895746f758d51b45",
    "time": "2021-02-10T23:06:40.592Z",
    "type": "completion"
   },
   {
    "code": "!pip install wbdata\n\nimport wbdata\nimport numpy as np\nimport re ",
    "id": "af38968c93ee44748a03a29d070ceecb",
    "idx": 0,
    "time": "2021-02-10T23:13:52.030Z",
    "type": "execution"
   },
   {
    "code": "# Return list of all country/region codes:\nwbdata.get_country()",
    "id": "98dd03733662407ea9ed0705e05ef02d",
    "idx": 1,
    "time": "2021-02-10T23:13:52.036Z",
    "type": "execution"
   },
   {
    "code": "wbdata.get_source()",
    "id": "93c79a81062b4c0a9c63564f42254e78",
    "idx": 3,
    "time": "2021-02-10T23:13:52.039Z",
    "type": "execution"
   },
   {
    "code": "SOURCE = 40 # \"Population estimates and projections\"\n\nindicators_40 = wbdata.get_indicator(source=SOURCE)\nindicators_40",
    "id": "de4c030966d64447af2f8cffe587b4d4",
    "idx": 4,
    "time": "2021-02-10T23:13:52.041Z",
    "type": "execution"
   },
   {
    "code": "# Takes in an indicator object and returns a dictionary of filtered column labels.\ndef find_labels(indicators):\n    labels = {}\n\n    for i in range(len(indicators)):\n        col_id = indicators[i]['id']\n        col_name = indicators[i]['name']\n        labels[col_id] = col_name\n\n    # Select items in the list that contain relevant population data by filtering through string patterns.\n    r = re.compile(\"(SP.POP).[\\d]{2}[A-Z0-9]{2}.[MAFE]{2}$\")\n    col_keys = list(filter(r.match, labels))\n    col_keys\n\n    labels_filtered = {}\n    for key, value in labels.items():\n        if key in col_keys:\n            labels_filtered[key] = value\n            \n    return labels_filtered",
    "id": "43f8a2cadcda473a895746f758d51b45",
    "idx": 5,
    "time": "2021-02-10T23:13:52.042Z",
    "type": "execution"
   },
   {
    "code": "variable_labels = find_labels(indicators_40)\n\n# Get the \npop_df = wbdata.get_dataframe(variable_labels, freq='Y')\npop_df",
    "id": "386d0acefa9f43298601d7a091ef98fc",
    "idx": 6,
    "time": "2021-02-10T23:13:52.043Z",
    "type": "execution"
   },
   {
    "id": "af38968c93ee44748a03a29d070ceecb",
    "time": "2021-02-10T23:13:56.731Z",
    "type": "completion"
   },
   {
    "id": "98dd03733662407ea9ed0705e05ef02d",
    "time": "2021-02-10T23:13:57.079Z",
    "type": "completion"
   },
   {
    "id": "93c79a81062b4c0a9c63564f42254e78",
    "time": "2021-02-10T23:13:57.268Z",
    "type": "completion"
   },
   {
    "id": "de4c030966d64447af2f8cffe587b4d4",
    "time": "2021-02-10T23:13:57.588Z",
    "type": "completion"
   },
   {
    "id": "43f8a2cadcda473a895746f758d51b45",
    "time": "2021-02-10T23:13:57.592Z",
    "type": "completion"
   },
   {
    "code": "variable_labels = find_labels(indicators_40)\n\n# Get the \npop_df = wbdata.get_dataframe(variable_labels)\npop_df",
    "id": "386d0acefa9f43298601d7a091ef98fc",
    "idx": 6,
    "time": "2021-02-10T23:17:12.542Z",
    "type": "execution"
   },
   {
    "id": "386d0acefa9f43298601d7a091ef98fc",
    "time": "2021-02-10T23:17:14.896Z",
    "type": "completion"
   },
   {
    "id": "386d0acefa9f43298601d7a091ef98fc",
    "time": "2021-02-10T23:17:14.896Z",
    "type": "completion"
   },
   {
    "id": "386d0acefa9f43298601d7a091ef98fc",
    "time": "2021-02-10T23:17:14.896Z",
    "type": "completion"
   },
   {
    "code": "!pip install wbdata\n\nimport wbdata\nimport numpy as np\nimport re ",
    "id": "af38968c93ee44748a03a29d070ceecb",
    "idx": 0,
    "time": "2021-02-10T23:17:17.895Z",
    "type": "execution"
   },
   {
    "code": "# Return list of all country/region codes:\nwbdata.get_country()",
    "id": "98dd03733662407ea9ed0705e05ef02d",
    "idx": 1,
    "time": "2021-02-10T23:17:17.898Z",
    "type": "execution"
   },
   {
    "code": "wbdata.get_source()",
    "id": "93c79a81062b4c0a9c63564f42254e78",
    "idx": 3,
    "time": "2021-02-10T23:17:17.901Z",
    "type": "execution"
   },
   {
    "code": "SOURCE = 40 # \"Population estimates and projections\"\n\nindicators_40 = wbdata.get_indicator(source=SOURCE)\nindicators_40",
    "id": "de4c030966d64447af2f8cffe587b4d4",
    "idx": 4,
    "time": "2021-02-10T23:17:17.904Z",
    "type": "execution"
   },
   {
    "code": "# Takes in an indicator object and returns a dictionary of filtered column labels.\ndef find_labels(indicators):\n    labels = {}\n\n    for i in range(len(indicators)):\n        col_id = indicators[i]['id']\n        col_name = indicators[i]['name']\n        labels[col_id] = col_name\n\n    # Select items in the list that contain relevant population data by filtering through string patterns.\n    r = re.compile(\"(SP.POP).[\\d]{2}[A-Z0-9]{2}.[MAFE]{2}$\")\n    col_keys = list(filter(r.match, labels))\n    col_keys\n\n    labels_filtered = {}\n    for key, value in labels.items():\n        if key in col_keys:\n            labels_filtered[key] = value\n            \n    return labels_filtered",
    "id": "43f8a2cadcda473a895746f758d51b45",
    "idx": 5,
    "time": "2021-02-10T23:17:17.906Z",
    "type": "execution"
   },
   {
    "code": "variable_labels = find_labels(indicators_40)\n\n# Get the \npop_df = wbdata.get_dataframe(variable_labels)\npop_df",
    "id": "386d0acefa9f43298601d7a091ef98fc",
    "idx": 6,
    "time": "2021-02-10T23:17:17.907Z",
    "type": "execution"
   },
   {
    "id": "af38968c93ee44748a03a29d070ceecb",
    "time": "2021-02-10T23:17:22.128Z",
    "type": "completion"
   },
   {
    "id": "98dd03733662407ea9ed0705e05ef02d",
    "time": "2021-02-10T23:17:22.185Z",
    "type": "completion"
   },
   {
    "id": "93c79a81062b4c0a9c63564f42254e78",
    "time": "2021-02-10T23:17:22.237Z",
    "type": "completion"
   },
   {
    "id": "de4c030966d64447af2f8cffe587b4d4",
    "time": "2021-02-10T23:17:22.281Z",
    "type": "completion"
   },
   {
    "id": "43f8a2cadcda473a895746f758d51b45",
    "time": "2021-02-10T23:17:22.283Z",
    "type": "completion"
   },
   {
    "id": "386d0acefa9f43298601d7a091ef98fc",
    "time": "2021-02-10T23:18:16.197Z",
    "type": "completion"
   },
   {
    "code": "variable_labels = find_labels(indicators_40)\n\n# Get the \npop_df = wbdata.get_dataframe(variable_labels)\npop_df",
    "id": "386d0acefa9f43298601d7a091ef98fc",
    "idx": 6,
    "time": "2021-02-10T23:19:39.055Z",
    "type": "execution"
   },
   {
    "code": "variable_labels = find_labels(indicators_40)\nvariable_labels",
    "id": "65ff6127779b489888cbfdb6084d34a8",
    "idx": 6,
    "time": "2021-02-10T23:21:24.183Z",
    "type": "execution"
   },
   {
    "id": "386d0acefa9f43298601d7a091ef98fc",
    "time": "2021-02-10T23:21:28.237Z",
    "type": "completion"
   },
   {
    "id": "65ff6127779b489888cbfdb6084d34a8",
    "time": "2021-02-10T23:21:28.240Z",
    "type": "completion"
   },
   {
    "code": "variable_labels = find_labels(indicators_40)\nvariable_labels",
    "id": "65ff6127779b489888cbfdb6084d34a8",
    "idx": 6,
    "time": "2021-02-10T23:21:30.583Z",
    "type": "execution"
   },
   {
    "id": "65ff6127779b489888cbfdb6084d34a8",
    "time": "2021-02-10T23:21:30.656Z",
    "type": "completion"
   },
   {
    "code": "# Get the \npop_df = wbdata.get_dataframe({'SP.POP.0004.FE': 'Population ages 00-04, female',\n 'SP.POP.0004.MA': 'Population ages 00-04, male',\n 'SP.POP.0509.FE': 'Population ages 05-09, female',\n 'SP.POP.0509.MA': 'Population ages 05-09, male',\n 'SP.POP.1014.FE': 'Population ages 10-14, female',\n 'SP.POP.1014.MA': 'Population ages 10-14, male',\n 'SP.POP.1519.FE': 'Population ages 15-19, female',\n 'SP.POP.1519.MA': 'Population ages 15-19, male'})\npop_df",
    "id": "386d0acefa9f43298601d7a091ef98fc",
    "idx": 7,
    "time": "2021-02-10T23:21:55.726Z",
    "type": "execution"
   },
   {
    "id": "386d0acefa9f43298601d7a091ef98fc",
    "time": "2021-02-10T23:21:57.370Z",
    "type": "completion"
   },
   {
    "code": "# Get the \npop_df = wbdata.get_dataframe({'SP.POP.0004.FE': 'Population ages 00-04, female',\n 'SP.POP.0004.MA': 'Population ages 00-04, male',\n 'SP.POP.0509.FE': 'Population ages 05-09, female',\n 'SP.POP.0509.MA': 'Population ages 05-09, male',\n 'SP.POP.1014.FE': 'Population ages 10-14, female',\n 'SP.POP.1014.MA': 'Population ages 10-14, male',\n 'SP.POP.1519.FE': 'Population ages 15-19, female',\n 'SP.POP.1519.MA': 'Population ages 15-19, male','SP.POP.7074.MA': 'Population ages 70-74, male',\n 'SP.POP.7579.FE': 'Population ages 75-79, female',\n 'SP.POP.7579.MA': 'Population ages 75-79, male',\n 'SP.POP.80UP.FE': 'Population ages 80 and above, female',\n 'SP.POP.80UP.MA': 'Population ages 80 and above, male'})\npop_df",
    "id": "386d0acefa9f43298601d7a091ef98fc",
    "idx": 7,
    "time": "2021-02-10T23:23:27.154Z",
    "type": "execution"
   },
   {
    "id": "386d0acefa9f43298601d7a091ef98fc",
    "time": "2021-02-10T23:24:18.132Z",
    "type": "completion"
   },
   {
    "code": "# Get the \npop_df = wbdata.get_dataframe({'SP.POP.7074.FE': 'Population ages 70-74, female'})\npop_df",
    "id": "386d0acefa9f43298601d7a091ef98fc",
    "idx": 7,
    "time": "2021-02-10T23:25:19.058Z",
    "type": "execution"
   },
   {
    "id": "386d0acefa9f43298601d7a091ef98fc",
    "time": "2021-02-10T23:25:19.435Z",
    "type": "completion"
   },
   {
    "code": "# Get the \npop_df = wbdata.get_dataframe(variable_labels)\npop_df",
    "id": "386d0acefa9f43298601d7a091ef98fc",
    "idx": 7,
    "time": "2021-02-10T23:25:31.310Z",
    "type": "execution"
   },
   {
    "id": "386d0acefa9f43298601d7a091ef98fc",
    "time": "2021-02-10T23:25:37.708Z",
    "type": "completion"
   },
   {
    "code": "# Function that takes in a SEX (\"Male\", \"Female\"), ... , COUNTRY=, .. and returns a statistic for the given function arguments\n\ndef population(sex, year, age, country):\n    if sex == \"Male\":\n        variable_labels = {\"SP.POP.\" + str(age[0])+str(age[1]) + \".MA\": sex}\n    elif sex==\"Female\":\n        variable_labels = {\"SP.POP.\" + str(age[0])+str(age[1]) + \".FE\": sex}\n    pop_df = wbdata.get_dataframe(variable_labels, country=country)\n    pop_df = pop_df.filter(like=str(year), axis=0)\n    return pop_df[sex][0]",
    "id": "a89260e5f26046c184cc68169b1730e4",
    "idx": 9,
    "time": "2021-02-10T23:26:21.984Z",
    "type": "execution"
   },
   {
    "id": "a89260e5f26046c184cc68169b1730e4",
    "time": "2021-02-10T23:26:22.167Z",
    "type": "completion"
   },
   {
    "code": "population(\"Female\", 2010, (15,19), \"CHN\")",
    "id": "71b5322d248f4bd0ba71ea4d026da5db",
    "idx": 10,
    "time": "2021-02-10T23:26:22.374Z",
    "type": "execution"
   },
   {
    "id": "71b5322d248f4bd0ba71ea4d026da5db",
    "time": "2021-02-10T23:26:23.883Z",
    "type": "completion"
   },
   {
    "code": "def population_df(indicators):\n    def find_labels(indicators):\n        labels = {}\n\n        for i in range(len(indicators)):\n            col_id = indicators[i]['id']\n            col_name = indicators[i]['name']\n            labels[col_id] = col_name\n\n        # Select items in the list that contain relevant population data by filtering through string patterns.\n        r = re.compile(\"(SP.POP).[\\d]{2}[A-Z0-9]{2}.[MAFE]{2}$\")\n        col_keys = list(filter(r.match, labels))\n        col_keys\n\n        labels_filtered = {}\n        for key, value in labels.items():\n            if key in col_keys:\n                labels_filtered[key] = value\n        return labels_filtered\n\n    variable_labels = find_labels(indicators_40)\n    return wbdata.get_dataframe(variable_labels)\n\npopulation_df(indicators_40)",
    "id": "d58970a778874348894ca62b62f0fccf",
    "idx": 11,
    "time": "2021-02-10T23:29:51.311Z",
    "type": "execution"
   },
   {
    "id": "d58970a778874348894ca62b62f0fccf",
    "time": "2021-02-10T23:29:57.585Z",
    "type": "completion"
   },
   {
    "code": "def population_df(indicators):\n    def find_labels(indicators):\n        labels = {}\n\n        for i in range(len(indicators)):\n            col_id = indicators[i]['id']\n            col_name = indicators[i]['name']\n            labels[col_id] = col_name\n\n        # Select items in the list that contain relevant population data by filtering through string patterns.\n        r = re.compile(\"(SP.POP).[\\d]{2}[A-Z0-9]{2}.[MAFE]{2}$\")\n        col_keys = list(filter(r.match, labels))\n        col_keys\n\n        labels_filtered = {}\n        for key, value in labels.items():\n            if key in col_keys:\n                labels_filtered[key] = value\n        return labels_filtered\n\n    variable_labels = find_labels(indicators_40)\n    return wbdata.get_dataframe(variable_labels)\n\n",
    "id": "d58970a778874348894ca62b62f0fccf",
    "idx": 11,
    "time": "2021-02-10T23:29:57.768Z",
    "type": "execution"
   },
   {
    "id": "d58970a778874348894ca62b62f0fccf",
    "time": "2021-02-10T23:29:57.940Z",
    "type": "completion"
   },
   {
    "code": "def population_df(indicators):\n    def find_labels(indicators):\n        labels = {}\n\n        for i in range(len(indicators)):\n            col_id = indicators[i]['id']\n            col_name = indicators[i]['name']\n            labels[col_id] = col_name\n\n        # Select items in the list that contain relevant population data by filtering through string patterns.\n        r = re.compile(\"(SP.POP).[\\d]{2}[A-Z0-9]{2}.[MAFE]{2}$\")\n        col_keys = list(filter(r.match, labels))\n        col_keys\n\n        labels_filtered = {}\n        for key, value in labels.items():\n            if key in col_keys:\n                labels_filtered[key] = value\n        return labels_filtered\n\n    variable_labels = find_labels(indicators_40)\n    return wbdata.get_dataframe(variable_labels)\n\npopulation_df(indicators_40)",
    "id": "d58970a778874348894ca62b62f0fccf",
    "idx": 11,
    "time": "2021-02-10T23:30:03.336Z",
    "type": "execution"
   },
   {
    "id": "d58970a778874348894ca62b62f0fccf",
    "time": "2021-02-10T23:30:09.410Z",
    "type": "completion"
   },
   {
    "code": "!pip install wbdata\n\nimport wbdata\nimport numpy as np\nimport re ",
    "id": "af38968c93ee44748a03a29d070ceecb",
    "idx": 0,
    "time": "2021-02-10T23:32:23.963Z",
    "type": "execution"
   },
   {
    "code": "# Return list of all country/region codes:\nwbdata.get_country()",
    "id": "98dd03733662407ea9ed0705e05ef02d",
    "idx": 1,
    "time": "2021-02-10T23:32:23.979Z",
    "type": "execution"
   },
   {
    "code": "wbdata.get_source()",
    "id": "93c79a81062b4c0a9c63564f42254e78",
    "idx": 3,
    "time": "2021-02-10T23:32:23.989Z",
    "type": "execution"
   },
   {
    "code": "SOURCE = 40 # \"Population estimates and projections\"\n\nindicators_40 = wbdata.get_indicator(source=SOURCE)\nindicators_40",
    "id": "de4c030966d64447af2f8cffe587b4d4",
    "idx": 4,
    "time": "2021-02-10T23:32:23.996Z",
    "type": "execution"
   },
   {
    "code": "# Takes in an indicator object and returns a dictionary of filtered column labels.\ndef find_labels(indicators):\n    labels = {}\n\n    for i in range(len(indicators)):\n        col_id = indicators[i]['id']\n        col_name = indicators[i]['name']\n        labels[col_id] = col_name\n\n    # Select items in the list that contain relevant population data by filtering through string patterns.\n    r = re.compile(\"(SP.POP).[\\d]{2}[A-Z0-9]{2}.[MAFE]{2}$\")\n    col_keys = list(filter(r.match, labels))\n    col_keys\n\n    labels_filtered = {}\n    for key, value in labels.items():\n        if key in col_keys:\n            labels_filtered[key] = value\n            \n    return labels_filtered",
    "id": "43f8a2cadcda473a895746f758d51b45",
    "idx": 5,
    "time": "2021-02-10T23:32:24.001Z",
    "type": "execution"
   },
   {
    "code": "variable_labels = find_labels(indicators_40)\nvariable_labels",
    "id": "65ff6127779b489888cbfdb6084d34a8",
    "idx": 6,
    "time": "2021-02-10T23:32:24.005Z",
    "type": "execution"
   },
   {
    "code": "# Function that takes in a SEX (\"Male\", \"Female\"), ... , COUNTRY=, .. and returns a statistic for the given function arguments\n\ndef population(sex, year, age, country):\n    if sex == \"Male\":\n        variable_labels = {\"SP.POP.\" + str(age[0])+str(age[1]) + \".MA\": sex}\n    elif sex==\"Female\":\n        variable_labels = {\"SP.POP.\" + str(age[0])+str(age[1]) + \".FE\": sex}\n    pop_df = wbdata.get_dataframe(variable_labels, country=country)\n    pop_df = pop_df.filter(like=str(year), axis=0)\n    return pop_df[sex][0]",
    "id": "a89260e5f26046c184cc68169b1730e4",
    "idx": 8,
    "time": "2021-02-10T23:32:24.012Z",
    "type": "execution"
   },
   {
    "code": "population(\"Female\", 2010, (15,19), \"CHN\")",
    "id": "71b5322d248f4bd0ba71ea4d026da5db",
    "idx": 9,
    "time": "2021-02-10T23:32:24.018Z",
    "type": "execution"
   },
   {
    "code": "def population_df(indicators):\n    def find_labels(indicators):\n        labels = {}\n\n        for i in range(len(indicators)):\n            col_id = indicators[i]['id']\n            col_name = indicators[i]['name']\n            labels[col_id] = col_name\n\n        # Select items in the list that contain relevant population data by filtering through string patterns.\n        r = re.compile(\"(SP.POP).[\\d]{2}[A-Z0-9]{2}.[MAFE]{2}$\")\n        col_keys = list(filter(r.match, labels))\n        col_keys\n\n        labels_filtered = {}\n        for key, value in labels.items():\n            if key in col_keys:\n                labels_filtered[key] = value\n        return labels_filtered\n\n    variable_labels = find_labels(indicators_40)\n    return wbdata.get_dataframe(variable_labels)\n\npopulation_df(indicators_40)",
    "id": "d58970a778874348894ca62b62f0fccf",
    "idx": 11,
    "time": "2021-02-10T23:32:24.031Z",
    "type": "execution"
   },
   {
    "code": "!pip install geopandas\nimport geopandas as geo",
    "id": "3c5efc1a313c4d2e9ec95907d0150812",
    "idx": 17,
    "time": "2021-02-10T23:32:24.055Z",
    "type": "execution"
   },
   {
    "code": "geo",
    "id": "0ccc53086cd049a787bc16e8080c3227",
    "idx": 18,
    "time": "2021-02-10T23:32:24.059Z",
    "type": "execution"
   },
   {
    "id": "af38968c93ee44748a03a29d070ceecb",
    "time": "2021-02-10T23:32:28.529Z",
    "type": "completion"
   },
   {
    "id": "98dd03733662407ea9ed0705e05ef02d",
    "time": "2021-02-10T23:32:28.656Z",
    "type": "completion"
   },
   {
    "id": "93c79a81062b4c0a9c63564f42254e78",
    "time": "2021-02-10T23:32:28.717Z",
    "type": "completion"
   },
   {
    "id": "de4c030966d64447af2f8cffe587b4d4",
    "time": "2021-02-10T23:32:28.728Z",
    "type": "completion"
   },
   {
    "id": "43f8a2cadcda473a895746f758d51b45",
    "time": "2021-02-10T23:32:28.738Z",
    "type": "completion"
   },
   {
    "id": "65ff6127779b489888cbfdb6084d34a8",
    "time": "2021-02-10T23:32:28.869Z",
    "type": "completion"
   },
   {
    "id": "a89260e5f26046c184cc68169b1730e4",
    "time": "2021-02-10T23:32:28.874Z",
    "type": "completion"
   },
   {
    "id": "71b5322d248f4bd0ba71ea4d026da5db",
    "time": "2021-02-10T23:32:28.915Z",
    "type": "completion"
   },
   {
    "id": "d58970a778874348894ca62b62f0fccf",
    "time": "2021-02-10T23:32:35.029Z",
    "type": "completion"
   },
   {
    "id": "3c5efc1a313c4d2e9ec95907d0150812",
    "time": "2021-02-10T23:32:39.579Z",
    "type": "completion"
   },
   {
    "id": "0ccc53086cd049a787bc16e8080c3227",
    "time": "2021-02-10T23:32:39.585Z",
    "type": "completion"
   },
   {
    "code": "def population_dataframes(indicators):\n    def find_labels(indicators):\n        labels = {}\n        \n        for i in range(len(indicators)):\n            col_id = indicators[i]['id']\n            col_name = indicators[i]['name']\n            labels[col_id] = col_name\n\n        # Select items in the list that contain relevant population data by filtering through string patterns.\n        r = re.compile(\"(SP.POP).[\\d]{2}[A-Z0-9]{2}.[MAFE]{2}$\")\n        col_keys = list(filter(r.match, labels))\n        col_keys\n\n        labels_filtered = {}\n        \n        for key, value in labels.items():\n            if key in col_keys:\n                labels_filtered[key] = value\n        return labels_filtered\n\n    variable_labels = find_labels(indicators_40)\n    return wbdata.get_dataframe(variable_labels)",
    "id": "d58970a778874348894ca62b62f0fccf",
    "idx": 11,
    "time": "2021-02-10T23:35:24.934Z",
    "type": "execution"
   },
   {
    "id": "d58970a778874348894ca62b62f0fccf",
    "time": "2021-02-10T23:35:25.025Z",
    "type": "completion"
   },
   {
    "code": "pop_df = population_dataframes(indicators_40)\npop_df",
    "id": "e1b9bb4a8cc64dfc95e60a67af002a9f",
    "idx": 12,
    "time": "2021-02-10T23:35:29.693Z",
    "type": "execution"
   },
   {
    "id": "e1b9bb4a8cc64dfc95e60a67af002a9f",
    "time": "2021-02-10T23:35:36.248Z",
    "type": "completion"
   },
   {
    "code": "pop_df = pop_df.index.astype(int)\npop_df",
    "id": "eab1edce3b48478c87bd3afd106bd411",
    "idx": 13,
    "time": "2021-02-10T23:37:07.338Z",
    "type": "execution"
   },
   {
    "id": "eab1edce3b48478c87bd3afd106bd411",
    "time": "2021-02-10T23:37:07.490Z",
    "type": "completion"
   },
   {
    "code": "pop_df = pop_df.index.levels[-1].astype(int)\npop_df",
    "id": "eab1edce3b48478c87bd3afd106bd411",
    "idx": 13,
    "time": "2021-02-10T23:37:52.139Z",
    "type": "execution"
   },
   {
    "id": "eab1edce3b48478c87bd3afd106bd411",
    "time": "2021-02-10T23:37:52.202Z",
    "type": "completion"
   },
   {
    "code": "pop_df = population_dataframes(indicators_40)\npop_df",
    "id": "e1b9bb4a8cc64dfc95e60a67af002a9f",
    "idx": 12,
    "time": "2021-02-10T23:37:58.661Z",
    "type": "execution"
   },
   {
    "code": "pop_df.index.levels[-1].astype(int)\npop_df",
    "id": "eab1edce3b48478c87bd3afd106bd411",
    "idx": 13,
    "time": "2021-02-10T23:38:02.410Z",
    "type": "execution"
   },
   {
    "id": "e1b9bb4a8cc64dfc95e60a67af002a9f",
    "time": "2021-02-10T23:38:04.992Z",
    "type": "completion"
   },
   {
    "id": "eab1edce3b48478c87bd3afd106bd411",
    "time": "2021-02-10T23:38:05.005Z",
    "type": "completion"
   },
   {
    "code": "pop_df.index.levels[-1].astype(int)",
    "id": "eab1edce3b48478c87bd3afd106bd411",
    "idx": 13,
    "time": "2021-02-10T23:38:14.114Z",
    "type": "execution"
   },
   {
    "id": "eab1edce3b48478c87bd3afd106bd411",
    "time": "2021-02-10T23:38:14.191Z",
    "type": "completion"
   },
   {
    "code": "pop_df.index.levels[-1].astype(int)\npop_df.index.levels[-1].type()",
    "id": "eab1edce3b48478c87bd3afd106bd411",
    "idx": 13,
    "time": "2021-02-10T23:39:11.760Z",
    "type": "execution"
   },
   {
    "id": "eab1edce3b48478c87bd3afd106bd411",
    "time": "2021-02-10T23:39:11.831Z",
    "type": "completion"
   },
   {
    "code": "pop_df.index.levels[-1].astype(int)\npop_df.index.levels[-1]",
    "id": "eab1edce3b48478c87bd3afd106bd411",
    "idx": 13,
    "time": "2021-02-10T23:39:14.879Z",
    "type": "execution"
   },
   {
    "id": "eab1edce3b48478c87bd3afd106bd411",
    "time": "2021-02-10T23:39:14.983Z",
    "type": "completion"
   },
   {
    "code": "pop_df.index.levels[-1].astype(int)\ntype(pop_df.index.levels[-1])",
    "id": "eab1edce3b48478c87bd3afd106bd411",
    "idx": 13,
    "time": "2021-02-10T23:39:18.969Z",
    "type": "execution"
   },
   {
    "id": "eab1edce3b48478c87bd3afd106bd411",
    "time": "2021-02-10T23:39:19.031Z",
    "type": "completion"
   },
   {
    "code": "pop_df.index.levels[-1].astype(int)\ntype(pop_df.index.levels[-1][0])",
    "id": "eab1edce3b48478c87bd3afd106bd411",
    "idx": 13,
    "time": "2021-02-10T23:39:21.660Z",
    "type": "execution"
   },
   {
    "id": "eab1edce3b48478c87bd3afd106bd411",
    "time": "2021-02-10T23:39:21.725Z",
    "type": "completion"
   },
   {
    "code": "pop_df.index.levels[-1] = pop_df.index.levels[-1].astype(int)\n",
    "id": "eab1edce3b48478c87bd3afd106bd411",
    "idx": 13,
    "time": "2021-02-10T23:39:58.691Z",
    "type": "execution"
   },
   {
    "id": "eab1edce3b48478c87bd3afd106bd411",
    "time": "2021-02-10T23:39:58.763Z",
    "type": "completion"
   },
   {
    "code": "# Function that takes in a SEX (\"Male\", \"Female\"), ... , COUNTRY=, .. and returns a statistic for the given function arguments\n\ndef population(sex, year, age, country):\n    if sex == \"Male\":\n        variable_labels = {\"SP.POP.\" + str(age[0])+str(age[1]) + \".MA\": sex}\n    elif sex==\"Female\":\n        variable_labels = {\"SP.POP.\" + str(age[0])+str(age[1]) + \".FE\": sex}\n    pop_stats = wbdata.get_dataframe(variable_labels, country=country)\n    pop_stats = pop_stats.filter(like=str(year), axis=0)\n    return pop_stats[sex][0]",
    "id": "a89260e5f26046c184cc68169b1730e4",
    "idx": 8,
    "time": "2021-02-10T23:41:09.731Z",
    "type": "execution"
   },
   {
    "id": "a89260e5f26046c184cc68169b1730e4",
    "time": "2021-02-10T23:41:09.792Z",
    "type": "completion"
   },
   {
    "code": "population(\"Female\", 2010, (15,19), \"CHN\")",
    "id": "71b5322d248f4bd0ba71ea4d026da5db",
    "idx": 9,
    "time": "2021-02-10T23:41:10.571Z",
    "type": "execution"
   },
   {
    "id": "71b5322d248f4bd0ba71ea4d026da5db",
    "time": "2021-02-10T23:41:10.642Z",
    "type": "completion"
   },
   {
    "code": "def population_dataframes(indicators):\n    def find_labels(indicators):\n        labels = {}\n        \n        for i in range(len(indicators)):\n            col_id = indicators[i]['id']\n            col_name = indicators[i]['name']\n            labels[col_id] = col_name\n\n        # Select items in the list that contain relevant population data by filtering through string patterns.\n        r = re.compile(\"(SP.POP).[\\d]{2}[A-Z0-9]{2}.[MAFE]{2}$\")\n        col_keys = list(filter(r.match, labels))\n        col_keys\n\n        labels_filtered = {}\n        \n        for key, value in labels.items():\n            if key in col_keys:\n                labels_filtered[key] = value\n        return labels_filtered\n\n    variable_labels = find_labels(indicators_40)\n    return wbdata.get_dataframe(variable_labels)",
    "id": "d58970a778874348894ca62b62f0fccf",
    "idx": 11,
    "time": "2021-02-10T23:41:11.241Z",
    "type": "execution"
   },
   {
    "id": "d58970a778874348894ca62b62f0fccf",
    "time": "2021-02-10T23:41:11.301Z",
    "type": "completion"
   },
   {
    "code": "pop_df = population_dataframes(indicators_40)\npop_df",
    "id": "e1b9bb4a8cc64dfc95e60a67af002a9f",
    "idx": 12,
    "time": "2021-02-10T23:41:12.152Z",
    "type": "execution"
   },
   {
    "id": "e1b9bb4a8cc64dfc95e60a67af002a9f",
    "time": "2021-02-10T23:41:18.357Z",
    "type": "completion"
   },
   {
    "code": "pop_df = population_dataframes(indicators_40)\npop_df.index",
    "id": "e1b9bb4a8cc64dfc95e60a67af002a9f",
    "idx": 12,
    "time": "2021-02-10T23:41:48.383Z",
    "type": "execution"
   },
   {
    "id": "e1b9bb4a8cc64dfc95e60a67af002a9f",
    "time": "2021-02-10T23:41:54.361Z",
    "type": "completion"
   },
   {
    "code": "pop_df.index.set_levels(pop_df.index.levels[1].astype(int), level=1)",
    "id": "eab1edce3b48478c87bd3afd106bd411",
    "idx": 13,
    "time": "2021-02-10T23:42:12.860Z",
    "type": "execution"
   },
   {
    "id": "eab1edce3b48478c87bd3afd106bd411",
    "time": "2021-02-10T23:42:12.944Z",
    "type": "completion"
   },
   {
    "code": "pop_df.index.set_levels(pop_df.index.levels[1].astype(int), level=1)\ntype(pop_df.index.levels[1]",
    "id": "eab1edce3b48478c87bd3afd106bd411",
    "idx": 13,
    "time": "2021-02-10T23:42:25.600Z",
    "type": "execution"
   },
   {
    "id": "eab1edce3b48478c87bd3afd106bd411",
    "time": "2021-02-10T23:42:25.676Z",
    "type": "completion"
   },
   {
    "code": "pop_df.index.set_levels(pop_df.index.levels[1].astype(int), level=1)\ntype(pop_df.index.levels[1])",
    "id": "eab1edce3b48478c87bd3afd106bd411",
    "idx": 13,
    "time": "2021-02-10T23:42:27.631Z",
    "type": "execution"
   },
   {
    "id": "eab1edce3b48478c87bd3afd106bd411",
    "time": "2021-02-10T23:42:27.693Z",
    "type": "completion"
   },
   {
    "code": "pop_df.index.set_levels(pop_df.index.levels[1].astype(int), level=1)\ntype(pop_df.index.levels[1][0])",
    "id": "eab1edce3b48478c87bd3afd106bd411",
    "idx": 13,
    "time": "2021-02-10T23:42:30.151Z",
    "type": "execution"
   },
   {
    "id": "eab1edce3b48478c87bd3afd106bd411",
    "time": "2021-02-10T23:42:30.217Z",
    "type": "completion"
   },
   {
    "code": "pop_df.index.set_levels(pop_df.index.levels[1].astype(int), level=1)\ntype(pop_df.index.levels[1][1])",
    "id": "eab1edce3b48478c87bd3afd106bd411",
    "idx": 13,
    "time": "2021-02-10T23:42:32.161Z",
    "type": "execution"
   },
   {
    "id": "eab1edce3b48478c87bd3afd106bd411",
    "time": "2021-02-10T23:42:32.224Z",
    "type": "completion"
   },
   {
    "code": "pop_df.index.set_levels(pop_df.index.levels[1].astype(int), level=1)",
    "id": "eab1edce3b48478c87bd3afd106bd411",
    "idx": 13,
    "time": "2021-02-10T23:42:34.990Z",
    "type": "execution"
   },
   {
    "id": "eab1edce3b48478c87bd3afd106bd411",
    "time": "2021-02-10T23:42:35.054Z",
    "type": "completion"
   },
   {
    "code": "pop_df.index.set_levels(pop_df.index.levels[1].astype(int), level=1)",
    "id": "eab1edce3b48478c87bd3afd106bd411",
    "idx": 13,
    "time": "2021-02-10T23:46:06.237Z",
    "type": "execution"
   },
   {
    "id": "eab1edce3b48478c87bd3afd106bd411",
    "time": "2021-02-10T23:46:06.318Z",
    "type": "completion"
   },
   {
    "code": "pop_df.index.set_levels(pop_df.index.levels[0].astype(int), level=1)",
    "id": "eab1edce3b48478c87bd3afd106bd411",
    "idx": 13,
    "time": "2021-02-10T23:46:12.402Z",
    "type": "execution"
   },
   {
    "id": "eab1edce3b48478c87bd3afd106bd411",
    "time": "2021-02-10T23:46:12.475Z",
    "type": "completion"
   },
   {
    "code": "pop_df.index.set_levels(pop_df.index.levels[-1].astype(int), level=1)",
    "id": "eab1edce3b48478c87bd3afd106bd411",
    "idx": 13,
    "time": "2021-02-10T23:46:17.662Z",
    "type": "execution"
   },
   {
    "id": "eab1edce3b48478c87bd3afd106bd411",
    "time": "2021-02-10T23:46:17.728Z",
    "type": "completion"
   },
   {
    "code": "pop_df.index.set_levels(pop_df.index.levels[0].astype(int), level=1)",
    "id": "eab1edce3b48478c87bd3afd106bd411",
    "idx": 13,
    "time": "2021-02-10T23:46:22.092Z",
    "type": "execution"
   },
   {
    "id": "eab1edce3b48478c87bd3afd106bd411",
    "time": "2021-02-10T23:46:22.170Z",
    "type": "completion"
   },
   {
    "code": "pop_df.index.set_levels(pop_df.index.levels[1].astype(int), level=1)",
    "id": "eab1edce3b48478c87bd3afd106bd411",
    "idx": 13,
    "time": "2021-02-10T23:46:25.552Z",
    "type": "execution"
   },
   {
    "id": "eab1edce3b48478c87bd3afd106bd411",
    "time": "2021-02-10T23:46:25.614Z",
    "type": "completion"
   },
   {
    "code": "pop_df.index.set_levels(pop_df.index.levels[2].astype(int), level=1)",
    "id": "eab1edce3b48478c87bd3afd106bd411",
    "idx": 13,
    "time": "2021-02-10T23:46:26.744Z",
    "type": "execution"
   },
   {
    "id": "eab1edce3b48478c87bd3afd106bd411",
    "time": "2021-02-10T23:46:26.828Z",
    "type": "completion"
   },
   {
    "code": "pop_df.index.set_levels(pop_df.index.levels[1].astype(int), level=1)",
    "id": "eab1edce3b48478c87bd3afd106bd411",
    "idx": 13,
    "time": "2021-02-10T23:46:28.332Z",
    "type": "execution"
   },
   {
    "id": "eab1edce3b48478c87bd3afd106bd411",
    "time": "2021-02-10T23:46:28.408Z",
    "type": "completion"
   },
   {
    "code": "pop_df.index.set_levels(pop_df.index.levels[1].astype(int), level=1)\npop_df.index.levels[1]",
    "id": "eab1edce3b48478c87bd3afd106bd411",
    "idx": 13,
    "time": "2021-02-10T23:46:38.832Z",
    "type": "execution"
   },
   {
    "id": "eab1edce3b48478c87bd3afd106bd411",
    "time": "2021-02-10T23:46:38.898Z",
    "type": "completion"
   },
   {
    "code": "pop_df.index.set_levels(pop_df.index.levels[1].astype(int), level=1)\npop_df.index.levels[1]",
    "id": "eab1edce3b48478c87bd3afd106bd411",
    "idx": 13,
    "time": "2021-02-10T23:51:13.770Z",
    "type": "execution"
   },
   {
    "id": "eab1edce3b48478c87bd3afd106bd411",
    "time": "2021-02-10T23:51:15.754Z",
    "type": "completion"
   },
   {
    "code": "pop_df.index.set_levels(pop_df.index.levels[1].astype(int), level=1)\npop_df.index.levels[1][0]",
    "id": "eab1edce3b48478c87bd3afd106bd411",
    "idx": 13,
    "time": "2021-02-10T23:51:21.860Z",
    "type": "execution"
   },
   {
    "id": "eab1edce3b48478c87bd3afd106bd411",
    "time": "2021-02-10T23:51:21.923Z",
    "type": "completion"
   },
   {
    "code": "pop_df.index.set_levels(pop_df.index.levels[1].astype(int), level=0)",
    "id": "eab1edce3b48478c87bd3afd106bd411",
    "idx": 13,
    "time": "2021-02-10T23:51:58.541Z",
    "type": "execution"
   },
   {
    "id": "eab1edce3b48478c87bd3afd106bd411",
    "time": "2021-02-10T23:51:58.645Z",
    "type": "completion"
   },
   {
    "code": "pop_df.index.set_levels(pop_df.index.levels[1].astype(int), level=1)",
    "id": "eab1edce3b48478c87bd3afd106bd411",
    "idx": 13,
    "time": "2021-02-10T23:52:05.041Z",
    "type": "execution"
   },
   {
    "id": "eab1edce3b48478c87bd3afd106bd411",
    "time": "2021-02-10T23:52:05.107Z",
    "type": "completion"
   },
   {
    "code": "pop_df.index.set_levels(pop_df.index.levels[1].astype(int), level=1)\npop_df.index.levels[1]",
    "id": "eab1edce3b48478c87bd3afd106bd411",
    "idx": 13,
    "time": "2021-02-10T23:52:14.870Z",
    "type": "execution"
   },
   {
    "id": "eab1edce3b48478c87bd3afd106bd411",
    "time": "2021-02-10T23:52:14.967Z",
    "type": "completion"
   },
   {
    "code": "pop_df.index.set_levels(pop_df.index.levels[1].astype(int), level=1)\npop_df.index.levels[1].dtype",
    "id": "eab1edce3b48478c87bd3afd106bd411",
    "idx": 13,
    "time": "2021-02-10T23:52:47.862Z",
    "type": "execution"
   },
   {
    "id": "eab1edce3b48478c87bd3afd106bd411",
    "time": "2021-02-10T23:52:47.923Z",
    "type": "completion"
   },
   {
    "code": "!pip install wbdata\n\nimport wbdata\nimport numpy as np\nimport re ",
    "id": "7068ef25b08246bd8e94c98e90be2a30",
    "idx": 0,
    "time": "2021-02-11T22:02:02.863Z",
    "type": "execution"
   },
   {
    "code": "# Return list of all country/region codes:\nwbdata.get_country()",
    "id": "cab91ddc59a94b318849de4688dbf7f9",
    "idx": 1,
    "time": "2021-02-11T22:02:03.011Z",
    "type": "execution"
   },
   {
    "code": "wbdata.get_source()",
    "id": "1f818a4034944ccc84fa8a196ca8da2c",
    "idx": 3,
    "time": "2021-02-11T22:02:03.310Z",
    "type": "execution"
   },
   {
    "code": "SOURCE = 40 # \"Population estimates and projections\"\n\nindicators_40 = wbdata.get_indicator(source=SOURCE)\nindicators_40",
    "id": "d4d81b7be10b456c84e66ffcc4bd17f4",
    "idx": 4,
    "time": "2021-02-11T22:02:03.454Z",
    "type": "execution"
   },
   {
    "code": "# Takes in an indicator object and returns a dictionary of filtered column labels.\ndef find_labels(indicators):\n    labels = {}\n\n    for i in range(len(indicators)):\n        col_id = indicators[i]['id']\n        col_name = indicators[i]['name']\n        labels[col_id] = col_name\n\n    # Select items in the list that contain relevant population data by filtering through string patterns.\n    r = re.compile(\"(SP.POP).[\\d]{2}[A-Z0-9]{2}.[MAFE]{2}$\")\n    col_keys = list(filter(r.match, labels))\n    col_keys\n\n    labels_filtered = {}\n    for key, value in labels.items():\n        if key in col_keys:\n            labels_filtered[key] = value\n            \n    return labels_filtered",
    "id": "cd5f98a01d924c2487f418df57ab48ef",
    "idx": 5,
    "time": "2021-02-11T22:02:03.591Z",
    "type": "execution"
   },
   {
    "code": "variable_labels = find_labels(indicators_40)\nvariable_labels",
    "id": "0bbf235a1810421f840df9dd4430de56",
    "idx": 6,
    "time": "2021-02-11T22:02:03.740Z",
    "type": "execution"
   },
   {
    "code": "# Function that takes in a SEX (\"Male\", \"Female\"), ... , COUNTRY=, .. and returns a statistic for the given function arguments\n\ndef population(sex, year, age, country):\n    if sex == \"Male\":\n        variable_labels = {\"SP.POP.\" + str(age[0])+str(age[1]) + \".MA\": sex}\n    elif sex==\"Female\":\n        variable_labels = {\"SP.POP.\" + str(age[0])+str(age[1]) + \".FE\": sex}\n    pop_stats = wbdata.get_dataframe(variable_labels, country=country)\n    pop_stats = pop_stats.filter(like=str(year), axis=0)\n    return pop_stats[sex][0]",
    "id": "22ffd8cfa82d4bda8a58607cebac884f",
    "idx": 8,
    "time": "2021-02-11T22:02:04.021Z",
    "type": "execution"
   },
   {
    "code": "population(\"Female\", 2010, (15,19), \"CHN\")",
    "id": "ecf1c7613ab74795870bb15a93aefd81",
    "idx": 9,
    "time": "2021-02-11T22:02:04.170Z",
    "type": "execution"
   },
   {
    "code": "def population_dataframes(indicators):\n    def find_labels(indicators):\n        labels = {}\n        \n        for i in range(len(indicators)):\n            col_id = indicators[i]['id']\n            col_name = indicators[i]['name']\n            labels[col_id] = col_name\n\n        # Select items in the list that contain relevant population data by filtering through string patterns.\n        r = re.compile(\"(SP.POP).[\\d]{2}[A-Z0-9]{2}.[MAFE]{2}$\")\n        col_keys = list(filter(r.match, labels))\n        col_keys\n\n        labels_filtered = {}\n        \n        for key, value in labels.items():\n            if key in col_keys:\n                labels_filtered[key] = value\n        return labels_filtered\n\n    variable_labels = find_labels(indicators_40)\n    return wbdata.get_dataframe(variable_labels)",
    "id": "40c38cfd3ef84c618e5a2349a5d30308",
    "idx": 11,
    "time": "2021-02-11T22:02:04.462Z",
    "type": "execution"
   },
   {
    "code": "pop_df = population_dataframes(indicators_40)\npop_df.index",
    "id": "eff8cd68b61e4c4681d2a5560b567ce1",
    "idx": 12,
    "time": "2021-02-11T22:02:04.630Z",
    "type": "execution"
   },
   {
    "code": "pop_df.index.set_levels(pop_df.index.levels[1].astype(int), level=1)\npop_df.index",
    "id": "4e965b1ab58249e68822786f7c5d26b4",
    "idx": 13,
    "time": "2021-02-11T22:02:07.771Z",
    "type": "execution"
   },
   {
    "id": "7068ef25b08246bd8e94c98e90be2a30",
    "time": "2021-02-11T22:02:10.763Z",
    "type": "completion"
   },
   {
    "id": "cab91ddc59a94b318849de4688dbf7f9",
    "time": "2021-02-11T22:02:10.863Z",
    "type": "completion"
   },
   {
    "id": "1f818a4034944ccc84fa8a196ca8da2c",
    "time": "2021-02-11T22:02:10.876Z",
    "type": "completion"
   },
   {
    "id": "d4d81b7be10b456c84e66ffcc4bd17f4",
    "time": "2021-02-11T22:02:10.888Z",
    "type": "completion"
   },
   {
    "id": "cd5f98a01d924c2487f418df57ab48ef",
    "time": "2021-02-11T22:02:10.927Z",
    "type": "completion"
   },
   {
    "id": "0bbf235a1810421f840df9dd4430de56",
    "time": "2021-02-11T22:02:10.941Z",
    "type": "completion"
   },
   {
    "id": "22ffd8cfa82d4bda8a58607cebac884f",
    "time": "2021-02-11T22:02:10.948Z",
    "type": "completion"
   },
   {
    "id": "ecf1c7613ab74795870bb15a93aefd81",
    "time": "2021-02-11T22:02:10.976Z",
    "type": "completion"
   },
   {
    "id": "40c38cfd3ef84c618e5a2349a5d30308",
    "time": "2021-02-11T22:02:10.978Z",
    "type": "completion"
   },
   {
    "id": "eff8cd68b61e4c4681d2a5560b567ce1",
    "time": "2021-02-11T22:02:21.642Z",
    "type": "completion"
   },
   {
    "id": "4e965b1ab58249e68822786f7c5d26b4",
    "time": "2021-02-11T22:02:21.653Z",
    "type": "completion"
   },
   {
    "code": "pop_df.set_levels(pop_df.index.levels[1].astype(int), level=1)",
    "id": "4e965b1ab58249e68822786f7c5d26b4",
    "idx": 13,
    "time": "2021-02-11T22:02:36.163Z",
    "type": "execution"
   },
   {
    "id": "4e965b1ab58249e68822786f7c5d26b4",
    "time": "2021-02-11T22:02:36.983Z",
    "type": "completion"
   },
   {
    "code": "pop.df.index.levels[1]",
    "id": "4e965b1ab58249e68822786f7c5d26b4",
    "idx": 13,
    "time": "2021-02-11T22:02:59.660Z",
    "type": "execution"
   },
   {
    "id": "4e965b1ab58249e68822786f7c5d26b4",
    "time": "2021-02-11T22:02:59.730Z",
    "type": "completion"
   },
   {
    "code": "pop_df.index.levels[1]",
    "id": "4e965b1ab58249e68822786f7c5d26b4",
    "idx": 13,
    "time": "2021-02-11T22:03:03.577Z",
    "type": "execution"
   },
   {
    "id": "4e965b1ab58249e68822786f7c5d26b4",
    "time": "2021-02-11T22:03:03.652Z",
    "type": "completion"
   },
   {
    "code": "pop_df.index = pop_df.index.set_levels(pop_df.index[1].astype(int), level=1)",
    "id": "4e965b1ab58249e68822786f7c5d26b4",
    "idx": 13,
    "time": "2021-02-11T22:04:22.829Z",
    "type": "execution"
   },
   {
    "id": "4e965b1ab58249e68822786f7c5d26b4",
    "time": "2021-02-11T22:04:22.919Z",
    "type": "completion"
   },
   {
    "code": "pop_df.index[1]",
    "id": "f216658b7f084b1c8fda4272c176503f",
    "idx": 13,
    "time": "2021-02-11T22:04:33.267Z",
    "type": "execution"
   },
   {
    "id": "f216658b7f084b1c8fda4272c176503f",
    "time": "2021-02-11T22:04:33.338Z",
    "type": "completion"
   },
   {
    "code": "pop_df.index.levels[1]",
    "id": "f216658b7f084b1c8fda4272c176503f",
    "idx": 13,
    "time": "2021-02-11T22:04:45.117Z",
    "type": "execution"
   },
   {
    "id": "f216658b7f084b1c8fda4272c176503f",
    "time": "2021-02-11T22:04:45.204Z",
    "type": "completion"
   },
   {
    "code": "pop_df.index = pop_df.index.set_levels(pop_df.index.levels[1].astype(int), level=1)",
    "id": "4e965b1ab58249e68822786f7c5d26b4",
    "idx": 13,
    "time": "2021-02-11T22:04:47.726Z",
    "type": "execution"
   },
   {
    "id": "4e965b1ab58249e68822786f7c5d26b4",
    "time": "2021-02-11T22:04:47.830Z",
    "type": "completion"
   },
   {
    "code": "pop_df.index = pop_df.index.set_levels(pop_df.index.levels[1].astype(int), level=1)\npop_df.index",
    "id": "4e965b1ab58249e68822786f7c5d26b4",
    "idx": 13,
    "time": "2021-02-11T22:04:50.778Z",
    "type": "execution"
   },
   {
    "id": "4e965b1ab58249e68822786f7c5d26b4",
    "time": "2021-02-11T22:04:50.905Z",
    "type": "completion"
   },
   {
    "code": "pop_df = population_dataframes(indicators_40)\n\n# Change MultiIndex\npop_df",
    "id": "eff8cd68b61e4c4681d2a5560b567ce1",
    "idx": 12,
    "time": "2021-02-11T22:05:55.717Z",
    "type": "execution"
   },
   {
    "code": "pop_df = population_dataframes(indicators_40)\npop_df",
    "id": "eff8cd68b61e4c4681d2a5560b567ce1",
    "idx": 12,
    "time": "2021-02-11T22:06:00.673Z",
    "type": "execution"
   },
   {
    "id": "eff8cd68b61e4c4681d2a5560b567ce1",
    "time": "2021-02-11T22:06:11.870Z",
    "type": "completion"
   },
   {
    "id": "eff8cd68b61e4c4681d2a5560b567ce1",
    "time": "2021-02-11T22:06:11.870Z",
    "type": "completion"
   },
   {
    "code": "# Change \"date\" index to type INT and rename to \"year\"\npop_df.index = pop_df.index.set_levels(pop_df.index.levels[1].astype(int), level=1)\npop_df.index",
    "id": "4e965b1ab58249e68822786f7c5d26b4",
    "idx": 14,
    "time": "2021-02-11T22:07:04.077Z",
    "type": "execution"
   },
   {
    "id": "4e965b1ab58249e68822786f7c5d26b4",
    "time": "2021-02-11T22:07:04.169Z",
    "type": "completion"
   },
   {
    "code": "# Change \"date\" index to type INT.\npop_df.index = pop_df.index.set_levels(pop_df.index.levels[1].astype(int), level=1)\npop_df.index\n\n# Rename MultiIndex column \"date\" to \"year\"\npop_df.rename(index={\"date\": \"year\"})",
    "id": "4e965b1ab58249e68822786f7c5d26b4",
    "idx": 14,
    "time": "2021-02-11T22:07:48.437Z",
    "type": "execution"
   },
   {
    "id": "4e965b1ab58249e68822786f7c5d26b4",
    "time": "2021-02-11T22:07:48.789Z",
    "type": "completion"
   },
   {
    "code": "# Change \"date\" index to type INT.\npop_df.index = pop_df.index.set_levels(pop_df.index.levels[1].astype(int), level=1)\npop_df.index\n\n# Rename MultiIndex column \"date\" to \"year\"\npop_df.rename(index={\"year\": \"date\"})",
    "id": "4e965b1ab58249e68822786f7c5d26b4",
    "idx": 14,
    "time": "2021-02-11T22:08:23.963Z",
    "type": "execution"
   },
   {
    "id": "4e965b1ab58249e68822786f7c5d26b4",
    "time": "2021-02-11T22:08:24.271Z",
    "type": "completion"
   },
   {
    "code": "# Change \"date\" index to type INT.\npop_df.index = pop_df.index.set_levels(pop_df.index.levels[1].astype(int), level=1)\npop_df.index\n\n# Rename MultiIndex column \"date\" to \"year\"\npop_df.rename(index={\"date\": \"year\"})",
    "id": "4e965b1ab58249e68822786f7c5d26b4",
    "idx": 14,
    "time": "2021-02-11T22:08:27.585Z",
    "type": "execution"
   },
   {
    "id": "4e965b1ab58249e68822786f7c5d26b4",
    "time": "2021-02-11T22:08:27.995Z",
    "type": "completion"
   },
   {
    "code": "# Change \"date\" index to type INT.\npop_df.index = pop_df.index.set_levels(pop_df.index.levels[1].astype(int), level=1)\npop_df.index\n\n# Rename MultiIndex column \"date\" to \"year\"\npop_df = pop_df.rename(index={\"date\": \"year\"})\npop_df",
    "id": "4e965b1ab58249e68822786f7c5d26b4",
    "idx": 14,
    "time": "2021-02-11T22:08:37.366Z",
    "type": "execution"
   },
   {
    "id": "4e965b1ab58249e68822786f7c5d26b4",
    "time": "2021-02-11T22:08:37.743Z",
    "type": "completion"
   },
   {
    "code": "# Change \"date\" index to type INT.\npop_df.index = pop_df.index.set_levels(pop_df.index.levels[1].astype(int), level=1)\n\n# Rename MultiIndex column \"date\" to \"year\"\npop_df = pop_df.rename(index={\"date\": \"year\"})\npop_df",
    "id": "4e965b1ab58249e68822786f7c5d26b4",
    "idx": 14,
    "time": "2021-02-11T22:08:42.555Z",
    "type": "execution"
   },
   {
    "id": "4e965b1ab58249e68822786f7c5d26b4",
    "time": "2021-02-11T22:08:45.436Z",
    "type": "completion"
   },
   {
    "code": "# Change \"date\" index to type INT.\npop_df.index = pop_df.index.set_levels(pop_df.index.levels[1].astype(int), level=1)\n\n# Rename MultiIndex column \"date\" to \"year\"\npop_df = pop_df.rename_axis(index=['country', 'year'])\npop_df\n\n# Delete 2020 row for every country code\n",
    "id": "4e965b1ab58249e68822786f7c5d26b4",
    "idx": 14,
    "time": "2021-02-11T22:10:06.875Z",
    "type": "execution"
   },
   {
    "id": "4e965b1ab58249e68822786f7c5d26b4",
    "time": "2021-02-11T22:10:07.138Z",
    "type": "completion"
   },
   {
    "code": "pop_df.index.get_level_values(1)",
    "id": "1af139698d7342bab192344ab292be44",
    "idx": 15,
    "time": "2021-02-11T22:11:12.717Z",
    "type": "execution"
   },
   {
    "id": "1af139698d7342bab192344ab292be44",
    "time": "2021-02-11T22:11:12.813Z",
    "type": "completion"
   },
   {
    "code": "# Change \"date\" index to type INT.\npop_df.index = pop_df.index.set_levels(pop_df.index.levels[1].astype(int), level=1)\n\n# Rename MultiIndex column \"date\" to \"year\"\npop_df = pop_df.rename_axis(index=['country', 'year'])\npop_df\n\n# Delete 2020 row for every country code\npop_df[~pop_df.index.get_level_values('year').isin(['2020'])]",
    "id": "4e965b1ab58249e68822786f7c5d26b4",
    "idx": 14,
    "time": "2021-02-11T22:30:24.825Z",
    "type": "execution"
   },
   {
    "id": "4e965b1ab58249e68822786f7c5d26b4",
    "time": "2021-02-11T22:30:25.152Z",
    "type": "completion"
   },
   {
    "code": "# Change \"date\" index to type INT.\npop_df.index = pop_df.index.set_levels(pop_df.index.levels[1].astype(int), level=1)\n\n# Rename MultiIndex column \"date\" to \"year\"\npop_df = pop_df.rename_axis(index=['country', 'year'])\n\n# Delete 2020 row for every country code\npop_df[~pop_df.index.get_level_values('year').isin(['2020'])]",
    "id": "4e965b1ab58249e68822786f7c5d26b4",
    "idx": 14,
    "time": "2021-02-11T22:30:33.744Z",
    "type": "execution"
   },
   {
    "id": "4e965b1ab58249e68822786f7c5d26b4",
    "time": "2021-02-11T22:30:34.009Z",
    "type": "completion"
   },
   {
    "code": "# Change \"date\" index to type INT.\npop_df.index = pop_df.index.set_levels(pop_df.index.levels[1].astype(int), level=1)\n\n# Rename MultiIndex column \"date\" to \"year\"\npop_df = pop_df.rename_axis(index=['country', 'year'])\n\n# Delete 2020 row for every country code\npop_df[~pop_df.index.get_level_values('year').isin([2020])]",
    "id": "4e965b1ab58249e68822786f7c5d26b4",
    "idx": 14,
    "time": "2021-02-11T22:30:42.842Z",
    "type": "execution"
   },
   {
    "id": "4e965b1ab58249e68822786f7c5d26b4",
    "time": "2021-02-11T22:30:43.182Z",
    "type": "completion"
   },
   {
    "code": "# Change \"date\" index to type INT.\npop_df.index = pop_df.index.set_levels(pop_df.index.levels[1].astype(int), level=1)\n\n# Rename MultiIndex column \"date\" to \"year\"\npop_df = pop_df.rename_axis(index=['country', 'year'])\n\n# Delete 2020 row for every country code\npop_df = pop_df[~pop_df.index.get_level_values('year').isin([2020])]\npop_df",
    "id": "4e965b1ab58249e68822786f7c5d26b4",
    "idx": 14,
    "time": "2021-02-11T22:31:03.383Z",
    "type": "execution"
   },
   {
    "id": "4e965b1ab58249e68822786f7c5d26b4",
    "time": "2021-02-11T22:31:03.695Z",
    "type": "completion"
   },
   {
    "code": "!pip install wbdata\n\nimport wbdata\nimport numpy as np\nimport re ",
    "id": "1936110a6ac6455b8d94e6df4fa9b523",
    "idx": 0,
    "time": "2021-02-12T00:37:05.670Z",
    "type": "execution"
   },
   {
    "code": "# Return list of all country/region codes:\nwbdata.get_country()",
    "id": "129e74f8c14547d8bb38a89a4d98e038",
    "idx": 1,
    "time": "2021-02-12T00:37:05.700Z",
    "type": "execution"
   },
   {
    "code": "wbdata.get_source()",
    "id": "1591a98e440945bc8dd335de6fc0ba94",
    "idx": 3,
    "time": "2021-02-12T00:37:05.884Z",
    "type": "execution"
   },
   {
    "code": "SOURCE = 40 # \"Population estimates and projections\"\n\nindicators_40 = wbdata.get_indicator(source=SOURCE)\nindicators_40",
    "id": "6c0f07eacbb149a79fee6a66d09a99f5",
    "idx": 4,
    "time": "2021-02-12T00:37:05.908Z",
    "type": "execution"
   },
   {
    "code": "# Takes in an indicator object and returns a dictionary of filtered column labels.\ndef find_labels(indicators):\n    labels = {}\n\n    for i in range(len(indicators)):\n        col_id = indicators[i]['id']\n        col_name = indicators[i]['name']\n        labels[col_id] = col_name\n\n    # Select items in the list that contain relevant population data by filtering through string patterns.\n    r = re.compile(\"(SP.POP).[\\d]{2}[A-Z0-9]{2}.[MAFE]{2}$\")\n    col_keys = list(filter(r.match, labels))\n    col_keys\n\n    labels_filtered = {}\n    for key, value in labels.items():\n        if key in col_keys:\n            labels_filtered[key] = value\n            \n    return labels_filtered",
    "id": "1328ced02a324e1d8561a78efed7d7e0",
    "idx": 5,
    "time": "2021-02-12T00:37:05.939Z",
    "type": "execution"
   },
   {
    "code": "variable_labels = find_labels(indicators_40)\nvariable_labels",
    "id": "08b8c6e4793843e3b82e5e1ddcdc2b3f",
    "idx": 6,
    "time": "2021-02-12T00:37:06.834Z",
    "type": "execution"
   },
   {
    "code": "# Function that takes in a SEX (\"Male\", \"Female\"), ... , COUNTRY=, .. and returns a statistic for the given function arguments\n\ndef population(sex, year, age, country):\n    if sex == \"Male\":\n        variable_labels = {\"SP.POP.\" + str(age[0])+str(age[1]) + \".MA\": sex}\n    elif sex==\"Female\":\n        variable_labels = {\"SP.POP.\" + str(age[0])+str(age[1]) + \".FE\": sex}\n    pop_stats = wbdata.get_dataframe(variable_labels, country=country)\n    pop_stats = pop_stats.filter(like=str(year), axis=0)\n    return pop_stats[sex][0]",
    "id": "1be6297a09eb4209b2538410c103867d",
    "idx": 8,
    "time": "2021-02-12T00:37:07.772Z",
    "type": "execution"
   },
   {
    "code": "population(\"Female\", 2010, (15,19), \"CHN\")",
    "id": "da03c0d9891e4f418973cfffbca6054a",
    "idx": 9,
    "time": "2021-02-12T00:37:08.188Z",
    "type": "execution"
   },
   {
    "code": "def population_dataframes(indicators):\n    def find_labels(indicators):\n        labels = {}\n        \n        for i in range(len(indicators)):\n            col_id = indicators[i]['id']\n            col_name = indicators[i]['name']\n            labels[col_id] = col_name\n\n        # Select items in the list that contain relevant population data by filtering through string patterns.\n        r = re.compile(\"(SP.POP).[\\d]{2}[A-Z0-9]{2}.[MAFE]{2}$\")\n        col_keys = list(filter(r.match, labels))\n        col_keys\n\n        labels_filtered = {}\n        \n        for key, value in labels.items():\n            if key in col_keys:\n                labels_filtered[key] = value\n        return labels_filtered\n\n    variable_labels = find_labels(indicators_40)\n    return wbdata.get_dataframe(variable_labels)",
    "id": "ebeb4a0bff064efa98925a9eebe2979f",
    "idx": 11,
    "time": "2021-02-12T00:37:09.202Z",
    "type": "execution"
   },
   {
    "code": "pop_df = population_dataframes(indicators_40)\npop_df",
    "id": "84a29857635444118c0d8ac043997a86",
    "idx": 12,
    "time": "2021-02-12T00:37:09.594Z",
    "type": "execution"
   },
   {
    "code": "# Change \"date\" index to type INT.\npop_df.index = pop_df.index.set_levels(pop_df.index.levels[1].astype(int), level=1)\n\n# Rename MultiIndex column \"date\" to \"year\"\npop_df = pop_df.rename_axis(index=['country', 'year'])\n\n# Delete 2020 row for every country code\npop_df = pop_df[~pop_df.index.get_level_values('year').isin([2020])]\npop_df",
    "id": "6ed13c09c5834147b7a77a19556aab47",
    "idx": 14,
    "time": "2021-02-12T00:37:10.836Z",
    "type": "execution"
   },
   {
    "id": "1936110a6ac6455b8d94e6df4fa9b523",
    "time": "2021-02-12T00:37:12.294Z",
    "type": "completion"
   },
   {
    "id": "129e74f8c14547d8bb38a89a4d98e038",
    "time": "2021-02-12T00:37:12.362Z",
    "type": "completion"
   },
   {
    "id": "1591a98e440945bc8dd335de6fc0ba94",
    "time": "2021-02-12T00:37:12.405Z",
    "type": "completion"
   },
   {
    "id": "6c0f07eacbb149a79fee6a66d09a99f5",
    "time": "2021-02-12T00:37:12.485Z",
    "type": "completion"
   },
   {
    "id": "1328ced02a324e1d8561a78efed7d7e0",
    "time": "2021-02-12T00:37:12.493Z",
    "type": "completion"
   },
   {
    "id": "08b8c6e4793843e3b82e5e1ddcdc2b3f",
    "time": "2021-02-12T00:37:12.504Z",
    "type": "completion"
   },
   {
    "id": "1be6297a09eb4209b2538410c103867d",
    "time": "2021-02-12T00:37:12.541Z",
    "type": "completion"
   },
   {
    "id": "da03c0d9891e4f418973cfffbca6054a",
    "time": "2021-02-12T00:37:12.544Z",
    "type": "completion"
   },
   {
    "id": "ebeb4a0bff064efa98925a9eebe2979f",
    "time": "2021-02-12T00:37:12.553Z",
    "type": "completion"
   },
   {
    "id": "84a29857635444118c0d8ac043997a86",
    "time": "2021-02-12T00:37:19.367Z",
    "type": "completion"
   },
   {
    "id": "6ed13c09c5834147b7a77a19556aab47",
    "time": "2021-02-12T00:37:19.427Z",
    "type": "completion"
   }
  ],
  "kernelspec": {
   "display_name": "Python 3",
   "language": "python",
   "name": "python3"
  },
  "language_info": {
   "codemirror_mode": {
    "name": "ipython",
    "version": 3
   },
   "file_extension": ".py",
   "mimetype": "text/x-python",
   "name": "python",
   "nbconvert_exporter": "python",
   "pygments_lexer": "ipython3",
   "version": "3.8.6"
  }
 },
 "nbformat": 4,
 "nbformat_minor": 4
}
