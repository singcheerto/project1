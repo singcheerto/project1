{
 "cells": [
  {
   "cell_type": "code",
   "execution_count": 2,
   "metadata": {},
   "outputs": [
    {
     "name": "stdout",
     "output_type": "stream",
     "text": [
      "Collecting wbdata\n",
      "  Using cached wbdata-0.3.0-py3-none-any.whl (14 kB)\n",
      "Collecting tabulate>=0.8.5\n",
      "  Using cached tabulate-0.8.7-py3-none-any.whl (24 kB)\n",
      "Requirement already satisfied: requests>=2.0 in /opt/conda/lib/python3.8/site-packages (from wbdata) (2.25.1)\n",
      "Requirement already satisfied: decorator>=4.0 in /opt/conda/lib/python3.8/site-packages (from wbdata) (4.4.2)\n",
      "Requirement already satisfied: appdirs<2.0,>=1.4 in /opt/conda/lib/python3.8/site-packages (from wbdata) (1.4.4)\n",
      "Requirement already satisfied: chardet<5,>=3.0.2 in /opt/conda/lib/python3.8/site-packages (from requests>=2.0->wbdata) (3.0.4)\n",
      "Requirement already satisfied: urllib3<1.27,>=1.21.1 in /opt/conda/lib/python3.8/site-packages (from requests>=2.0->wbdata) (1.25.7)\n",
      "Requirement already satisfied: idna<3,>=2.5 in /opt/conda/lib/python3.8/site-packages (from requests>=2.0->wbdata) (2.8)\n",
      "Requirement already satisfied: certifi>=2017.4.17 in /opt/conda/lib/python3.8/site-packages (from requests>=2.0->wbdata) (2019.11.28)\n",
      "Installing collected packages: tabulate, wbdata\n",
      "Successfully installed tabulate-0.8.7 wbdata-0.3.0\n"
     ]
    }
   ],
   "source": [
    "!pip install wbdata\n",
    "\n",
    "import wbdata\n",
    "import numpy as np"
   ]
  },
  {
   "cell_type": "code",
   "execution_count": 3,
   "metadata": {},
   "outputs": [
    {
     "data": {
      "text/plain": [
       "id    name\n",
       "----  --------------------------------------------------------------------------------\n",
       "ABW   Aruba\n",
       "AFG   Afghanistan\n",
       "AFR   Africa\n",
       "AGO   Angola\n",
       "ALB   Albania\n",
       "AND   Andorra\n",
       "ARB   Arab World\n",
       "ARE   United Arab Emirates\n",
       "ARG   Argentina\n",
       "ARM   Armenia\n",
       "ASM   American Samoa\n",
       "ATG   Antigua and Barbuda\n",
       "AUS   Australia\n",
       "AUT   Austria\n",
       "AZE   Azerbaijan\n",
       "BDI   Burundi\n",
       "BEA   East Asia & Pacific (IBRD-only countries)\n",
       "BEC   Europe & Central Asia (IBRD-only countries)\n",
       "BEL   Belgium\n",
       "BEN   Benin\n",
       "BFA   Burkina Faso\n",
       "BGD   Bangladesh\n",
       "BGR   Bulgaria\n",
       "BHI   IBRD countries classified as high income\n",
       "BHR   Bahrain\n",
       "BHS   Bahamas, The\n",
       "BIH   Bosnia and Herzegovina\n",
       "BLA   Latin America & the Caribbean (IBRD-only countries)\n",
       "BLR   Belarus\n",
       "BLZ   Belize\n",
       "BMN   Middle East & North Africa (IBRD-only countries)\n",
       "BMU   Bermuda\n",
       "BOL   Bolivia\n",
       "BRA   Brazil\n",
       "BRB   Barbados\n",
       "BRN   Brunei Darussalam\n",
       "BSS   Sub-Saharan Africa (IBRD-only countries)\n",
       "BTN   Bhutan\n",
       "BWA   Botswana\n",
       "CAA   Sub-Saharan Africa (IFC classification)\n",
       "CAF   Central African Republic\n",
       "CAN   Canada\n",
       "CEA   East Asia and the Pacific (IFC classification)\n",
       "CEB   Central Europe and the Baltics\n",
       "CEU   Europe and Central Asia (IFC classification)\n",
       "CHE   Switzerland\n",
       "CHI   Channel Islands\n",
       "CHL   Chile\n",
       "CHN   China\n",
       "CIV   Cote d'Ivoire\n",
       "CLA   Latin America and the Caribbean (IFC classification)\n",
       "CME   Middle East and North Africa (IFC classification)\n",
       "CMR   Cameroon\n",
       "COD   Congo, Dem. Rep.\n",
       "COG   Congo, Rep.\n",
       "COL   Colombia\n",
       "COM   Comoros\n",
       "CPV   Cabo Verde\n",
       "CRI   Costa Rica\n",
       "CSA   South Asia (IFC classification)\n",
       "CSS   Caribbean small states\n",
       "CUB   Cuba\n",
       "CUW   Curacao\n",
       "CYM   Cayman Islands\n",
       "CYP   Cyprus\n",
       "CZE   Czech Republic\n",
       "DEA   East Asia & Pacific (IDA-eligible countries)\n",
       "DEC   Europe & Central Asia (IDA-eligible countries)\n",
       "DEU   Germany\n",
       "DFS   IDA countries classified as Fragile Situations\n",
       "DJI   Djibouti\n",
       "DLA   Latin America & the Caribbean (IDA-eligible countries)\n",
       "DMA   Dominica\n",
       "DMN   Middle East & North Africa (IDA-eligible countries)\n",
       "DNF   IDA countries not classified as Fragile Situations\n",
       "DNK   Denmark\n",
       "DNS   IDA countries in Sub-Saharan Africa not classified as fragile situations\n",
       "DOM   Dominican Republic\n",
       "DSA   South Asia (IDA-eligible countries)\n",
       "DSF   IDA countries in Sub-Saharan Africa classified as fragile situations\n",
       "DSS   Sub-Saharan Africa (IDA-eligible countries)\n",
       "DZA   Algeria\n",
       "EAP   East Asia & Pacific (excluding high income)\n",
       "EAR   Early-demographic dividend\n",
       "EAS   East Asia & Pacific\n",
       "ECA   Europe & Central Asia (excluding high income)\n",
       "ECS   Europe & Central Asia\n",
       "ECU   Ecuador\n",
       "EGY   Egypt, Arab Rep.\n",
       "EMU   Euro area\n",
       "ERI   Eritrea\n",
       "ESP   Spain\n",
       "EST   Estonia\n",
       "ETH   Ethiopia\n",
       "EUU   European Union\n",
       "FCS   Fragile and conflict affected situations\n",
       "FIN   Finland\n",
       "FJI   Fiji\n",
       "FRA   France\n",
       "FRO   Faroe Islands\n",
       "FSM   Micronesia, Fed. Sts.\n",
       "FXS   IDA countries classified as fragile situations, excluding Sub-Saharan Africa\n",
       "GAB   Gabon\n",
       "GBR   United Kingdom\n",
       "GEO   Georgia\n",
       "GHA   Ghana\n",
       "GIB   Gibraltar\n",
       "GIN   Guinea\n",
       "GMB   Gambia, The\n",
       "GNB   Guinea-Bissau\n",
       "GNQ   Equatorial Guinea\n",
       "GRC   Greece\n",
       "GRD   Grenada\n",
       "GRL   Greenland\n",
       "GTM   Guatemala\n",
       "GUM   Guam\n",
       "GUY   Guyana\n",
       "HIC   High income\n",
       "HKG   Hong Kong SAR, China\n",
       "HND   Honduras\n",
       "HPC   Heavily indebted poor countries (HIPC)\n",
       "HRV   Croatia\n",
       "HTI   Haiti\n",
       "HUN   Hungary\n",
       "IBB   IBRD, including blend\n",
       "IBD   IBRD only\n",
       "IBT   IDA & IBRD total\n",
       "IDA   IDA total\n",
       "IDB   IDA blend\n",
       "IDN   Indonesia\n",
       "IDX   IDA only\n",
       "IMN   Isle of Man\n",
       "IND   India\n",
       "INX   Not classified\n",
       "IRL   Ireland\n",
       "IRN   Iran, Islamic Rep.\n",
       "IRQ   Iraq\n",
       "ISL   Iceland\n",
       "ISR   Israel\n",
       "ITA   Italy\n",
       "JAM   Jamaica\n",
       "JOR   Jordan\n",
       "JPN   Japan\n",
       "KAZ   Kazakhstan\n",
       "KEN   Kenya\n",
       "KGZ   Kyrgyz Republic\n",
       "KHM   Cambodia\n",
       "KIR   Kiribati\n",
       "KNA   St. Kitts and Nevis\n",
       "KOR   Korea, Rep.\n",
       "KWT   Kuwait\n",
       "LAC   Latin America & Caribbean (excluding high income)\n",
       "LAO   Lao PDR\n",
       "LBN   Lebanon\n",
       "LBR   Liberia\n",
       "LBY   Libya\n",
       "LCA   St. Lucia\n",
       "LCN   Latin America & Caribbean\n",
       "LDC   Least developed countries: UN classification\n",
       "LIC   Low income\n",
       "LIE   Liechtenstein\n",
       "LKA   Sri Lanka\n",
       "LMC   Lower middle income\n",
       "LMY   Low & middle income\n",
       "LSO   Lesotho\n",
       "LTE   Late-demographic dividend\n",
       "LTU   Lithuania\n",
       "LUX   Luxembourg\n",
       "LVA   Latvia\n",
       "MAC   Macao SAR, China\n",
       "MAF   St. Martin (French part)\n",
       "MAR   Morocco\n",
       "MCO   Monaco\n",
       "MDA   Moldova\n",
       "MDE   Middle East (developing only)\n",
       "MDG   Madagascar\n",
       "MDV   Maldives\n",
       "MEA   Middle East & North Africa\n",
       "MEX   Mexico\n",
       "MHL   Marshall Islands\n",
       "MIC   Middle income\n",
       "MKD   North Macedonia\n",
       "MLI   Mali\n",
       "MLT   Malta\n",
       "MMR   Myanmar\n",
       "MNA   Middle East & North Africa (excluding high income)\n",
       "MNE   Montenegro\n",
       "MNG   Mongolia\n",
       "MNP   Northern Mariana Islands\n",
       "MOZ   Mozambique\n",
       "MRT   Mauritania\n",
       "MUS   Mauritius\n",
       "MWI   Malawi\n",
       "MYS   Malaysia\n",
       "NAC   North America\n",
       "NAF   North Africa\n",
       "NAM   Namibia\n",
       "NCL   New Caledonia\n",
       "NER   Niger\n",
       "NGA   Nigeria\n",
       "NIC   Nicaragua\n",
       "NLD   Netherlands\n",
       "NOR   Norway\n",
       "NPL   Nepal\n",
       "NRS   Non-resource rich Sub-Saharan Africa countries\n",
       "NRU   Nauru\n",
       "NXS   IDA countries not classified as fragile situations, excluding Sub-Saharan Africa\n",
       "NZL   New Zealand\n",
       "OED   OECD members\n",
       "OMN   Oman\n",
       "OSS   Other small states\n",
       "PAK   Pakistan\n",
       "PAN   Panama\n",
       "PER   Peru\n",
       "PHL   Philippines\n",
       "PLW   Palau\n",
       "PNG   Papua New Guinea\n",
       "POL   Poland\n",
       "PRE   Pre-demographic dividend\n",
       "PRI   Puerto Rico\n",
       "PRK   Korea, Dem. People’s Rep.\n",
       "PRT   Portugal\n",
       "PRY   Paraguay\n",
       "PSE   West Bank and Gaza\n",
       "PSS   Pacific island small states\n",
       "PST   Post-demographic dividend\n",
       "PYF   French Polynesia\n",
       "QAT   Qatar\n",
       "ROU   Romania\n",
       "RRS   Resource rich Sub-Saharan Africa countries\n",
       "RUS   Russian Federation\n",
       "RWA   Rwanda\n",
       "SAS   South Asia\n",
       "SAU   Saudi Arabia\n",
       "SDN   Sudan\n",
       "SEN   Senegal\n",
       "SGP   Singapore\n",
       "SLB   Solomon Islands\n",
       "SLE   Sierra Leone\n",
       "SLV   El Salvador\n",
       "SMR   San Marino\n",
       "SOM   Somalia\n",
       "SRB   Serbia\n",
       "SSA   Sub-Saharan Africa (excluding high income)\n",
       "SSD   South Sudan\n",
       "SSF   Sub-Saharan Africa\n",
       "SST   Small states\n",
       "STP   Sao Tome and Principe\n",
       "SUR   Suriname\n",
       "SVK   Slovak Republic\n",
       "SVN   Slovenia\n",
       "SWE   Sweden\n",
       "SWZ   Eswatini\n",
       "SXM   Sint Maarten (Dutch part)\n",
       "SXZ   Sub-Saharan Africa excluding South Africa\n",
       "SYC   Seychelles\n",
       "SYR   Syrian Arab Republic\n",
       "TCA   Turks and Caicos Islands\n",
       "TCD   Chad\n",
       "TEA   East Asia & Pacific (IDA & IBRD countries)\n",
       "TEC   Europe & Central Asia (IDA & IBRD countries)\n",
       "TGO   Togo\n",
       "THA   Thailand\n",
       "TJK   Tajikistan\n",
       "TKM   Turkmenistan\n",
       "TLA   Latin America & the Caribbean (IDA & IBRD countries)\n",
       "TLS   Timor-Leste\n",
       "TMN   Middle East & North Africa (IDA & IBRD countries)\n",
       "TON   Tonga\n",
       "TSA   South Asia (IDA & IBRD)\n",
       "TSS   Sub-Saharan Africa (IDA & IBRD countries)\n",
       "TTO   Trinidad and Tobago\n",
       "TUN   Tunisia\n",
       "TUR   Turkey\n",
       "TUV   Tuvalu\n",
       "TWN   Taiwan, China\n",
       "TZA   Tanzania\n",
       "UGA   Uganda\n",
       "UKR   Ukraine\n",
       "UMC   Upper middle income\n",
       "URY   Uruguay\n",
       "USA   United States\n",
       "UZB   Uzbekistan\n",
       "VCT   St. Vincent and the Grenadines\n",
       "VEN   Venezuela, RB\n",
       "VGB   British Virgin Islands\n",
       "VIR   Virgin Islands (U.S.)\n",
       "VNM   Vietnam\n",
       "VUT   Vanuatu\n",
       "WLD   World\n",
       "WSM   Samoa\n",
       "XKX   Kosovo\n",
       "XZN   Sub-Saharan Africa excluding South Africa and Nigeria\n",
       "YEM   Yemen, Rep.\n",
       "ZAF   South Africa\n",
       "ZMB   Zambia\n",
       "ZWE   Zimbabwe"
      ]
     },
     "execution_count": 3,
     "metadata": {},
     "output_type": "execute_result"
    }
   ],
   "source": [
    "# Return list of all country/region codes:\n",
    "wbdata.get_country()"
   ]
  },
  {
   "cell_type": "markdown",
   "metadata": {},
   "source": [
    "To see possible datasets we can access via the API, use `get_source()`\n",
    "\n"
   ]
  },
  {
   "cell_type": "code",
   "execution_count": 4,
   "metadata": {},
   "outputs": [
    {
     "data": {
      "text/plain": [
       "  id  name\n",
       "----  --------------------------------------------------------------------\n",
       "   1  Doing Business\n",
       "   2  World Development Indicators\n",
       "   3  Worldwide Governance Indicators\n",
       "   5  Subnational Malnutrition Database\n",
       "   6  International Debt Statistics\n",
       "  11  Africa Development Indicators\n",
       "  12  Education Statistics\n",
       "  13  Enterprise Surveys\n",
       "  14  Gender Statistics\n",
       "  15  Global Economic Monitor\n",
       "  16  Health Nutrition and Population Statistics\n",
       "  18  IDA Results Measurement System\n",
       "  19  Millennium Development Goals\n",
       "  20  Quarterly Public Sector Debt\n",
       "  22  Quarterly External Debt Statistics SDDS\n",
       "  23  Quarterly External Debt Statistics GDDS\n",
       "  24  Poverty and Equity\n",
       "  25  Jobs\n",
       "  27  Global Economic Prospects\n",
       "  28  Global Financial Inclusion\n",
       "  29  The Atlas of Social Protection: Indicators of Resilience and Equity\n",
       "  30  Exporter Dynamics Database – Indicators at Country-Year Level\n",
       "  31  Country Policy and Institutional Assessment\n",
       "  32  Global Financial Development\n",
       "  33  G20 Financial Inclusion Indicators\n",
       "  34  Global Partnership for Education\n",
       "  35  Sustainable Energy for All\n",
       "  36  Statistical Capacity Indicators\n",
       "  37  LAC Equity Lab\n",
       "  38  Subnational Poverty\n",
       "  39  Health Nutrition and Population Statistics by Wealth Quintile\n",
       "  40  Population estimates and projections\n",
       "  41  Country Partnership Strategy for India (FY2013 - 17)\n",
       "  43  Adjusted Net Savings\n",
       "  44  Readiness for Investment in Sustainable Energy\n",
       "  45  Indonesia Database for Policy and Economic Research\n",
       "  46  Sustainable Development Goals\n",
       "  50  Subnational Population\n",
       "  54  Joint External Debt Hub\n",
       "  57  WDI Database Archives\n",
       "  58  Universal Health Coverage\n",
       "  59  Wealth Accounts\n",
       "  60  Economic Fitness\n",
       "  61  PPPs Regulatory Quality\n",
       "  62  International Comparison Program (ICP) 2011\n",
       "  63  Human Capital Index\n",
       "  64  Worldwide Bureaucracy Indicators\n",
       "  65  Health Equity and Financial Protection Indicators\n",
       "  66  Logistics Performance Index\n",
       "  67  PEFA 2011\n",
       "  68  PEFA 2016\n",
       "  69  Global Financial Inclusion and Consumer Protection Survey\n",
       "  70  Economic Fitness 2\n",
       "  71  International Comparison Program (ICP) 2005\n",
       "  72  PEFA_Test\n",
       "  73  Global Financial Inclusion and Consumer Protection Survey (Internal)\n",
       "  75  Environment, Social and Governance (ESG) Data\n",
       "  76  Remittance Prices Worldwide (Sending Countries)\n",
       "  77  Remittance Prices Worldwide (Receiving Countries)\n",
       "  78  ICP 2017\n",
       "  79  PEFA_GRPFM\n",
       "  80  Gender Disaggregated Labor Database (GDLD)\n",
       "  81  International Debt Statistics: DSSI"
      ]
     },
     "execution_count": 4,
     "metadata": {},
     "output_type": "execute_result"
    }
   ],
   "source": [
    "wbdata.get_source()"
   ]
  },
  {
   "cell_type": "code",
   "execution_count": null,
   "metadata": {},
   "outputs": [],
   "source": [
    "SOURCE = 40 # \"Population estimates and projections\n",
    "\n",
    "indicators = wbdata.get_indicator(source=SOURCE)"
   ]
  },
  {
   "cell_type": "code",
   "execution_count": null,
   "metadata": {},
   "outputs": [],
   "source": []
  },
  {
   "cell_type": "code",
   "execution_count": null,
   "metadata": {},
   "outputs": [],
   "source": []
  },
  {
   "cell_type": "code",
   "execution_count": null,
   "metadata": {},
   "outputs": [],
   "source": []
  },
  {
   "cell_type": "code",
   "execution_count": null,
   "metadata": {},
   "outputs": [],
   "source": []
  }
 ],
 "metadata": {
  "history": [
   {
    "code": "!pip install wbdata\n\nimport wbdata",
    "id": "503a2a0675634712ab00207445461b00",
    "idx": 0,
    "time": "2021-01-25T23:35:43.163Z",
    "type": "execution"
   },
   {
    "id": "503a2a0675634712ab00207445461b00",
    "time": "2021-01-25T23:35:47.100Z",
    "type": "completion"
   },
   {
    "code": "import wbdata\n\n# Return list of all country/region codes:\nwbdata.get_country()\n\n# Return list matching a query term:\nwbdata.search_countries(\"World\")\n\n## Try your own search!\nwbdata.search_countries(\"\")",
    "id": "9e6e96f4d08b46a58d3356ade04a3324",
    "idx": 1,
    "time": "2021-01-25T23:36:39.924Z",
    "type": "execution"
   },
   {
    "id": "9e6e96f4d08b46a58d3356ade04a3324",
    "time": "2021-01-25T23:36:40.373Z",
    "type": "completion"
   },
   {
    "code": "import wbdata\n\n# Return list of all country/region codes:\nwbdata.get_country()\n\n# Return list matching a query term:\nwbdata.search_countries(\"World\")\n\n## Try your own search!\nwbdata.search_countries(\"China\")",
    "id": "9e6e96f4d08b46a58d3356ade04a3324",
    "idx": 1,
    "time": "2021-01-25T23:37:04.665Z",
    "type": "execution"
   },
   {
    "id": "9e6e96f4d08b46a58d3356ade04a3324",
    "time": "2021-01-25T23:37:05.093Z",
    "type": "completion"
   },
   {
    "code": "import wbdata\n\n# Return list of all country/region codes:\nwbdata.get_country()\n\n# Return list matching a query term:\nwbdata.search_countries(\"World\")\n\n## Try your own search!\nwbdata.search_countries(\"\")",
    "id": "9e6e96f4d08b46a58d3356ade04a3324",
    "idx": 1,
    "time": "2021-01-25T23:41:17.559Z",
    "type": "execution"
   },
   {
    "id": "9e6e96f4d08b46a58d3356ade04a3324",
    "time": "2021-01-25T23:41:17.656Z",
    "type": "completion"
   },
   {
    "code": "import wbdata\n\n# Return list of all country/region codes:\nwbdata.get_country()\n\n# Return list matching a query term:\nwbdata.search_countries(\"World\")\n\n## Try your own search!\nwbdata.search_countries(\"CEA\")",
    "id": "9e6e96f4d08b46a58d3356ade04a3324",
    "idx": 1,
    "time": "2021-01-25T23:41:26.249Z",
    "type": "execution"
   },
   {
    "id": "9e6e96f4d08b46a58d3356ade04a3324",
    "time": "2021-01-25T23:41:26.552Z",
    "type": "completion"
   },
   {
    "code": "import wbdata\n\n# Return list of all country/region codes:\nwbdata.get_country()\n\n# Return list matching a query term:\nwbdata.search_countries(\"World\")\n\n## Try your own search!\nwbdata.search_countries(\"East Asia\")",
    "id": "9e6e96f4d08b46a58d3356ade04a3324",
    "idx": 1,
    "time": "2021-01-25T23:41:58.690Z",
    "type": "execution"
   },
   {
    "id": "9e6e96f4d08b46a58d3356ade04a3324",
    "time": "2021-01-25T23:41:58.891Z",
    "type": "completion"
   },
   {
    "code": "wbdata.get_source()",
    "id": "90782f9d5ae94e8c87be0c638218d58e",
    "idx": 2,
    "time": "2021-01-25T23:43:10.820Z",
    "type": "execution"
   },
   {
    "id": "90782f9d5ae94e8c87be0c638218d58e",
    "time": "2021-01-25T23:43:11.188Z",
    "type": "completion"
   },
   {
    "code": "SOURCE = 40 # \"Population estimates and projections\n\nindicators = wbdata.get_indicator(source=SOURCE)\nindicators",
    "id": "3b4742e6ef134e5d80b6674e028c0a6d",
    "idx": 3,
    "time": "2021-01-25T23:46:54.429Z",
    "type": "execution"
   },
   {
    "id": "3b4742e6ef134e5d80b6674e028c0a6d",
    "time": "2021-01-25T23:46:54.640Z",
    "type": "completion"
   },
   {
    "code": "!pip install cufflinks # IF NECESSARY\nimport cufflinks as cf\ncf.go_offline()",
    "id": "edf3e3c7fe95478f934dcf8427721a78",
    "idx": 4,
    "time": "2021-01-25T23:47:42.490Z",
    "type": "execution"
   },
   {
    "id": "edf3e3c7fe95478f934dcf8427721a78",
    "time": "2021-01-25T23:47:47.847Z",
    "type": "completion"
   },
   {
    "code": "import wbdata\n\n# Return list of all country/region codes:\nwbdata.get_country()\n\n# Return list matching a query term:\nwbdata.search_countries(\"World\")\n\n## Try your own search!\nwbdata.search_countries(\"China\")",
    "id": "9e6e96f4d08b46a58d3356ade04a3324",
    "idx": 1,
    "time": "2021-01-25T23:49:27.418Z",
    "type": "execution"
   },
   {
    "id": "9e6e96f4d08b46a58d3356ade04a3324",
    "time": "2021-01-25T23:49:27.556Z",
    "type": "completion"
   },
   {
    "code": "import wbdata\n\n# Return list of all country/region codes:\nwbdata.get_country()\n\n# Return list matching a query term:\nwbdata.search_countries(\"World\")\n\n## Try your own search!\nwbdata.search_countries(\"Mongolia\")",
    "id": "9e6e96f4d08b46a58d3356ade04a3324",
    "idx": 1,
    "time": "2021-01-25T23:52:43.948Z",
    "type": "execution"
   },
   {
    "id": "9e6e96f4d08b46a58d3356ade04a3324",
    "time": "2021-01-25T23:52:44.381Z",
    "type": "completion"
   },
   {
    "code": "import wbdata\n\n# Return list of all country/region codes:\nwbdata.get_country()\n\n# Return list matching a query term:\nwbdata.search_countries(\"World\")\n\n## Try your own search!\nwbdata.search_countries(\"nORTH kOREA\")",
    "id": "9e6e96f4d08b46a58d3356ade04a3324",
    "idx": 1,
    "time": "2021-01-25T23:53:17.375Z",
    "type": "execution"
   },
   {
    "id": "9e6e96f4d08b46a58d3356ade04a3324",
    "time": "2021-01-25T23:53:17.535Z",
    "type": "completion"
   },
   {
    "code": "import wbdata\n\n# Return list of all country/region codes:\nwbdata.get_country()\n\n# Return list matching a query term:\nwbdata.search_countries(\"World\")\n\n## Try your own search!\nwbdata.search_countries(\"North Korea\")",
    "id": "9e6e96f4d08b46a58d3356ade04a3324",
    "idx": 1,
    "time": "2021-01-25T23:53:23.147Z",
    "type": "execution"
   },
   {
    "id": "9e6e96f4d08b46a58d3356ade04a3324",
    "time": "2021-01-25T23:53:23.366Z",
    "type": "completion"
   },
   {
    "code": "import wbdata\n\n# Return list of all country/region codes:\nwbdata.get_country()\n\n# Return list matching a query term:\nwbdata.search_countries(\"World\")\n\n## Try your own search!\nwbdata.search_countries(\"Korea\")",
    "id": "9e6e96f4d08b46a58d3356ade04a3324",
    "idx": 1,
    "time": "2021-01-25T23:53:29.993Z",
    "type": "execution"
   },
   {
    "id": "9e6e96f4d08b46a58d3356ade04a3324",
    "time": "2021-01-25T23:53:30.067Z",
    "type": "completion"
   },
   {
    "code": "import wbdata\n\n# Return list of all country/region codes:\nwbdata.get_country()\n\n# Return list matching a query term:\nwbdata.search_countries(\"World\")\n\n## Try your own search!\nwbdata.search_countries(\"Japan\")",
    "id": "9e6e96f4d08b46a58d3356ade04a3324",
    "idx": 1,
    "time": "2021-01-25T23:54:12.781Z",
    "type": "execution"
   },
   {
    "id": "9e6e96f4d08b46a58d3356ade04a3324",
    "time": "2021-01-25T23:54:12.956Z",
    "type": "completion"
   },
   {
    "code": "import numpy as np\n\nvariable_labels = {\"SP.POP.TOTL\":\"Population\"}\n\n# Three letter codes come from wbdata.get_country()\ncountries = {\"EAS\":\"East Asia & Pacific\",\n             \"CHN\": \"China\",\n             \"HKG\": \"Hong Kong SAR, China\",\n             \"MAC\": \"Macao SAR, China\"\n             \"TWN\": \"Taiwan, China\"\n             \"MNG\": \"Mongolia\",\n             \"PRK\": \"North Korea\",\n             \"KOR\": \"South Korea\",\n             \"JPN\":\"Japan\"\n            }\n\ndf = wbdata.get_dataframe(variable_labels, country = countries).squeeze()\n\ndf = df.unstack('country')\n# Date index is of type string; change to integers\ndf.index = df.index.astype(int)\n\n# Differences (over time) in logs give us growth rates\nnp.log(df).diff().iplot(title=\"Fact II: Poorer places have higher growth rates\",\n                        yTitle=\"Growth Rate\",xTitle='Year')",
    "id": "04ac5e0c01b54303b07a4e5b6a9074f8",
    "idx": 5,
    "time": "2021-01-25T23:54:19.095Z",
    "type": "execution"
   },
   {
    "id": "04ac5e0c01b54303b07a4e5b6a9074f8",
    "time": "2021-01-25T23:54:19.859Z",
    "type": "completion"
   },
   {
    "code": "import numpy as np\n\nvariable_labels = {\"SP.POP.TOTL\":\"Population\"}\n\n# Three letter codes come from wbdata.get_country()\ncountries = {\"EAS\":\"East Asia & Pacific\",\n             \"CHN\": \"China\",\n             \"HKG\": \"Hong Kong SAR, China\",\n             \"MAC\": \"Macao SAR, China\",\n             \"TWN\": \"Taiwan, China\",\n             \"MNG\": \"Mongolia\",\n             \"PRK\": \"North Korea\",\n             \"KOR\": \"South Korea\",\n             \"JPN\":\"Japan\"\n            }\n\ndf = wbdata.get_dataframe(variable_labels, country = countries).squeeze()\n\ndf = df.unstack('country')\n# Date index is of type string; change to integers\ndf.index = df.index.astype(int)\n\n# Differences (over time) in logs give us growth rates\nnp.log(df).diff().iplot(title=\"Fact II: Poorer places have higher growth rates\",\n                        yTitle=\"Growth Rate\",xTitle='Year')",
    "id": "04ac5e0c01b54303b07a4e5b6a9074f8",
    "idx": 5,
    "time": "2021-01-25T23:54:27.212Z",
    "type": "execution"
   },
   {
    "id": "04ac5e0c01b54303b07a4e5b6a9074f8",
    "time": "2021-01-25T23:54:28.409Z",
    "type": "completion"
   },
   {
    "code": "import numpy as np\n\nvariable_labels = {\"SP.POP.TOTL\":\"Population\"}\n\n# Three letter codes come from wbdata.get_country()\ncountries = {\"EAS\":\"East Asia & Pacific\",\n             \"CHN\": \"China\",\n             #\"HKG\": \"Hong Kong SAR, China\",\n             #\"MAC\": \"Macao SAR, China\",\n             #\"TWN\": \"Taiwan, China\",\n             \"MNG\": \"Mongolia\",\n             \"PRK\": \"North Korea\",\n             \"KOR\": \"South Korea\",\n             \"JPN\":\"Japan\"\n            }\n\ndf = wbdata.get_dataframe(variable_labels, country = countries).squeeze()\n\ndf = df.unstack('country')\n# Date index is of type string; change to integers\ndf.index = df.index.astype(int)\n\n# Differences (over time) in logs give us growth rates\nnp.log(df).diff().iplot(title=\"Fact II: Poorer places have higher growth rates\",\n                        yTitle=\"Growth Rate\",xTitle='Year')",
    "id": "04ac5e0c01b54303b07a4e5b6a9074f8",
    "idx": 5,
    "time": "2021-01-25T23:56:04.586Z",
    "type": "execution"
   },
   {
    "id": "04ac5e0c01b54303b07a4e5b6a9074f8",
    "time": "2021-01-25T23:56:06.125Z",
    "type": "completion"
   },
   {
    "code": "import numpy as np\n\nvariable_labels = {\"SP.POP.TOTL\":\"Population\"}\n\n# Three letter codes come from wbdata.get_country()\ncountries = {\"EAS\":\"East Asia & Pacific\",\n             \"CHN\": \"China\",\n             \"HKG\": \"Hong Kong SAR, China\",\n             \"MAC\": \"Macao SAR, China\",\n             \"TWN\": \"Taiwan, China\",\n            }\n\ndf = wbdata.get_dataframe(variable_labels, country = countries).squeeze()\n\ndf = df.unstack('country')\n# Date index is of type string; change to integers\ndf.index = df.index.astype(int)\n\n# Differences (over time) in logs give us growth rates\nnp.log(df).diff().iplot(title=\"Fact II: Poorer places have higher growth rates\",\n                        yTitle=\"Growth Rate\",xTitle='Year')",
    "id": "4da3e0bb8f7041908a19c3dab1e7647f",
    "idx": 6,
    "time": "2021-01-25T23:59:35.130Z",
    "type": "execution"
   },
   {
    "id": "4da3e0bb8f7041908a19c3dab1e7647f",
    "time": "2021-01-25T23:59:39.122Z",
    "type": "completion"
   },
   {
    "code": "import numpy as np\n\nvariable_labels = {\"SP.POP.TOTL\":\"Population\"}\n\n# Three letter codes come from wbdata.get_country()\ncountries = {\"CHN\": \"China\",\n             \"HKG\": \"Hong Kong SAR, China\",\n             \"MAC\": \"Macao SAR, China\",\n             \"TWN\": \"Taiwan, China\",\n            }\n\ndf = wbdata.get_dataframe(variable_labels, country = countries).squeeze()\n\ndf = df.unstack('country')\n# Date index is of type string; change to integers\ndf.index = df.index.astype(int)\n\n# Differences (over time) in logs give us growth rates\nnp.log(df).diff().iplot(title=\"Fact II: Poorer places have higher growth rates\",\n                        yTitle=\"Growth Rate\",xTitle='Year')",
    "id": "4da3e0bb8f7041908a19c3dab1e7647f",
    "idx": 6,
    "time": "2021-01-25T23:59:43.859Z",
    "type": "execution"
   },
   {
    "id": "4da3e0bb8f7041908a19c3dab1e7647f",
    "time": "2021-01-25T23:59:45.000Z",
    "type": "completion"
   },
   {
    "code": "import wbdata\n\n# Return list of all country/region codes:\nwbdata.get_country()\n\n# Return list matching a query term:\nwbdata.search_countries(\"World\")\n\n## Try your own search!\nwbdata.search_countries(\"China\")",
    "id": "0e8e238662f843a6910f3fb1c9fdcb9d",
    "idx": 1,
    "time": "2021-01-29T18:34:10.907Z",
    "type": "execution"
   },
   {
    "id": "0e8e238662f843a6910f3fb1c9fdcb9d",
    "time": "2021-01-29T18:34:11.071Z",
    "type": "completion"
   },
   {
    "code": "import wbdata\n\n# Return list of all country/region codes:\n# wbdata.get_country()\n# testing\n\n# Return list matching a query term:\nwbdata.search_countries(\"World\")\n\n## Try your own search!\nwbdata.search_countries(\"Japan\")",
    "id": "0e8e238662f843a6910f3fb1c9fdcb9d",
    "idx": 1,
    "time": "2021-01-29T18:34:30.954Z",
    "type": "execution"
   },
   {
    "id": "0e8e238662f843a6910f3fb1c9fdcb9d",
    "time": "2021-01-29T18:34:31.022Z",
    "type": "completion"
   },
   {
    "code": "!pip install wbdata\n\nimport wbdata",
    "id": "5d1d27f78124422c8313f2e389aa2cbf",
    "idx": 0,
    "time": "2021-01-29T18:34:39.959Z",
    "type": "execution"
   },
   {
    "code": "import wbdata\n\n# Return list of all country/region codes:\n# wbdata.get_country()\n# testing\n\n# Return list matching a query term:\nwbdata.search_countries(\"World\")\n\n## Try your own search!\nwbdata.search_countries(\"Japan\")",
    "id": "0e8e238662f843a6910f3fb1c9fdcb9d",
    "idx": 1,
    "time": "2021-01-29T18:34:40.354Z",
    "type": "execution"
   },
   {
    "id": "5d1d27f78124422c8313f2e389aa2cbf",
    "time": "2021-01-29T18:34:44.468Z",
    "type": "completion"
   },
   {
    "id": "0e8e238662f843a6910f3fb1c9fdcb9d",
    "time": "2021-01-29T18:34:44.489Z",
    "type": "completion"
   },
   {
    "code": "import numpy as np\n\nvariable_labels = {\"SP.POP.TOTL\":\"Population\"}\n\n# Three letter codes come from wbdata.get_country()\ncountries = {\"EAS\":\"East Asia & Pacific\",\n             \"CHN\": \"China\",\n             #\"HKG\": \"Hong Kong SAR, China\",\n             #\"MAC\": \"Macao SAR, China\",\n             #\"TWN\": \"Taiwan, China\",\n             \"MNG\": \"Mongolia\",\n             \"PRK\": \"North Korea\",\n             \"KOR\": \"South Korea\",\n             \"JPN\":\"Japan\"\n            }\n\ndf = wbdata.get_dataframe(variable_labels, country = countries).squeeze()\n\ndf = df.unstack('country')\n# Date index is of type string; change to integers\ndf.index = df.index.astype(int)\n\n# Differences (over time) in logs give us growth rates\nnp.log(df).diff().iplot(title=\"Fact II: Poorer places have higher growth rates\",\n                        yTitle=\"Growth Rate\",xTitle='Year')",
    "id": "bb22db0fc8804237b445649180fa9a6f",
    "idx": 5,
    "time": "2021-01-29T18:49:00.374Z",
    "type": "execution"
   },
   {
    "id": "bb22db0fc8804237b445649180fa9a6f",
    "time": "2021-01-29T18:49:00.669Z",
    "type": "completion"
   },
   {
    "code": "import numpy as np\n\nvariable_labels = {\"SP.POP.TOTL\":\"Population\"}\n\n# Three letter codes come from wbdata.get_country()\ncountries = {\"EAS\":\"East Asia & Pacific\",\n             \"CHN\": \"China\",\n             #\"HKG\": \"Hong Kong SAR, China\",\n             #\"MAC\": \"Macao SAR, China\",\n             #\"TWN\": \"Taiwan, China\",\n             \"MNG\": \"Mongolia\",\n             \"PRK\": \"North Korea\",\n             \"KOR\": \"South Korea\",\n             \"JPN\":\"Japan\"\n            }\n\ndf = wbdata.get_dataframe(variable_labels, country = countries).squeeze()\n\ndf = df.unstack('country')\n# Date index is of type string; change to integers\ndf.index = df.index.astype(int)\n\n# Differences (over time) in logs give us growth rates\nnp.log(df).diff().iplot(title=\"Fact II: Poorer places have higher growth rates\",\n                        yTitle=\"Growth Rate\",xTitle='Year')",
    "id": "bb22db0fc8804237b445649180fa9a6f",
    "idx": 5,
    "time": "2021-01-29T18:49:05.251Z",
    "type": "execution"
   },
   {
    "id": "bb22db0fc8804237b445649180fa9a6f",
    "time": "2021-01-29T18:49:05.314Z",
    "type": "completion"
   },
   {
    "code": "import numpy as np\n\nvariable_labels = {\"SP.POP.TOTL\":\"Population\"}\n\n# Three letter codes come from wbdata.get_country()\ncountries = {\"EAS\":\"East Asia & Pacific\",\n             \"CHN\": \"China\",\n             #\"HKG\": \"Hong Kong SAR, China\",\n             #\"MAC\": \"Macao SAR, China\",\n             #\"TWN\": \"Taiwan, China\",\n             \"MNG\": \"Mongolia\",\n             \"PRK\": \"North Korea\",\n             \"KOR\": \"South Korea\",\n             \"JPN\":\"Japan\"\n            }\n\ndf = wbdata.get_dataframe(variable_labels, country = countries).squeeze()\n\ndf = df.unstack('country')\n# Date index is of type string; change to integers\ndf.index = df.index.astype(int)\n\n# Differences (over time) in logs give us growth rates\nnp.log(df).diff().iplot(title=\"Fact II: Poorer places have higher growth rates\",\n                        yTitle=\"Growth Rate\",xTitle='Year')",
    "id": "bb22db0fc8804237b445649180fa9a6f",
    "idx": 5,
    "time": "2021-01-29T18:49:08.671Z",
    "type": "execution"
   },
   {
    "id": "bb22db0fc8804237b445649180fa9a6f",
    "time": "2021-01-29T18:49:08.736Z",
    "type": "completion"
   },
   {
    "code": "import wbdata\n\n# Return list of all country/region codes:\nwbdata.get_country()\n# testing\n\n# Return list matching a query term:\nwbdata.search_countries(\"World\")\n\n## Try your own search!\nwbdata.search_countries(\"Japan\")",
    "id": "b2706283c58241e0aa60ea39deedc48d",
    "idx": 1,
    "time": "2021-01-29T18:49:30.592Z",
    "type": "execution"
   },
   {
    "id": "b2706283c58241e0aa60ea39deedc48d",
    "time": "2021-01-29T18:49:30.686Z",
    "type": "completion"
   },
   {
    "code": "!pip install wbdata\n\nimport wbdata",
    "id": "b77b29f5fc3244b595d20f089dfb2e84",
    "idx": 0,
    "time": "2021-01-29T18:50:46.752Z",
    "type": "execution"
   },
   {
    "id": "b77b29f5fc3244b595d20f089dfb2e84",
    "time": "2021-01-29T18:50:51.025Z",
    "type": "completion"
   },
   {
    "code": "!pip install wbdata\n\nimport wbdata\nimport numpy as np",
    "id": "b77b29f5fc3244b595d20f089dfb2e84",
    "idx": 0,
    "time": "2021-01-29T18:50:52.961Z",
    "type": "execution"
   },
   {
    "id": "b77b29f5fc3244b595d20f089dfb2e84",
    "time": "2021-01-29T18:50:56.394Z",
    "type": "completion"
   },
   {
    "code": "#   !pip install wbdata\n\nimport wbdata\nimport numpy as np",
    "id": "64296ff9895c4cb187fa069198f42b5b",
    "idx": 0,
    "time": "2021-02-01T22:58:55.248Z",
    "type": "execution"
   },
   {
    "id": "64296ff9895c4cb187fa069198f42b5b",
    "time": "2021-02-01T22:58:55.638Z",
    "type": "completion"
   },
   {
    "code": "!pip install wbdata\n\nimport wbdata\nimport numpy as np",
    "id": "64296ff9895c4cb187fa069198f42b5b",
    "idx": 0,
    "time": "2021-02-01T22:59:00.365Z",
    "type": "execution"
   },
   {
    "id": "64296ff9895c4cb187fa069198f42b5b",
    "time": "2021-02-01T22:59:19.573Z",
    "type": "completion"
   },
   {
    "code": "# Return list of all country/region codes:\nwbdata.get_country()",
    "id": "7fcc21a08d13416c95015b62d7a8119a",
    "idx": 1,
    "time": "2021-02-01T23:04:25.871Z",
    "type": "execution"
   },
   {
    "id": "7fcc21a08d13416c95015b62d7a8119a",
    "time": "2021-02-01T23:04:26.367Z",
    "type": "completion"
   },
   {
    "code": "wbdata.get_source()",
    "id": "4f61d686ec774e1d8430ff5bd1599bba",
    "idx": 3,
    "time": "2021-02-01T23:05:09.568Z",
    "type": "execution"
   },
   {
    "id": "4f61d686ec774e1d8430ff5bd1599bba",
    "time": "2021-02-01T23:05:09.874Z",
    "type": "completion"
   },
   {
    "code": "SOURCE = 40 # \"Population estimates and projections\n\nindicators = wbdata.get_indicator(source=SOURCE)",
    "id": "81b898ab12114bcd9b787b9e09ed4aec",
    "idx": 4,
    "time": "2021-02-01T23:05:32.222Z",
    "type": "execution"
   }
  ],
  "kernelspec": {
   "display_name": "Python 3",
   "language": "python",
   "name": "python3"
  },
  "language_info": {
   "codemirror_mode": {
    "name": "ipython",
    "version": 3
   },
   "file_extension": ".py",
   "mimetype": "text/x-python",
   "name": "python",
   "nbconvert_exporter": "python",
   "pygments_lexer": "ipython3",
   "version": "3.8.6"
  }
 },
 "nbformat": 4,
 "nbformat_minor": 4
}
